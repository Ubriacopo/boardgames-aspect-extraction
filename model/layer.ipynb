{
 "cells": [
  {
   "metadata": {
    "ExecuteTime": {
     "end_time": "2024-10-18T16:55:54.373613Z",
     "start_time": "2024-10-18T16:55:54.371630Z"
    }
   },
   "cell_type": "code",
   "source": [
    "import os\n",
    "\n",
    "os.environ['KERAS_BACKEND'] = \"torch\""
   ],
   "id": "3e4c705d63d3ffd8",
   "outputs": [],
   "execution_count": 1
  },
  {
   "metadata": {},
   "cell_type": "markdown",
   "source": "## Masked Average",
   "id": "eec5542ae3d4138c"
  },
  {
   "metadata": {
    "ExecuteTime": {
     "end_time": "2024-10-18T17:12:30.454197Z",
     "start_time": "2024-10-18T17:12:30.452233Z"
    }
   },
   "cell_type": "code",
   "source": [
    "import torch\n",
    "import keras\n",
    "from layer import MaskedAverage"
   ],
   "id": "7bcb233fd5f56f76",
   "outputs": [],
   "execution_count": 78
  },
  {
   "metadata": {
    "ExecuteTime": {
     "end_time": "2024-10-18T17:04:30.448007Z",
     "start_time": "2024-10-18T17:04:30.445342Z"
    }
   },
   "cell_type": "code",
   "source": [
    "x_tensor = torch.tensor([\n",
    "    [100, 1, 10],\n",
    "    [110, 10, 30],\n",
    "    [90, 33, 99]\n",
    "])"
   ],
   "id": "553d7da702a8a658",
   "outputs": [],
   "execution_count": 59
  },
  {
   "metadata": {
    "ExecuteTime": {
     "end_time": "2024-10-18T17:04:30.875244Z",
     "start_time": "2024-10-18T17:04:30.872739Z"
    }
   },
   "cell_type": "code",
   "source": "x_tensor.shape",
   "id": "81cf4301aea6bcf4",
   "outputs": [
    {
     "data": {
      "text/plain": [
       "torch.Size([3, 3])"
      ]
     },
     "execution_count": 60,
     "metadata": {},
     "output_type": "execute_result"
    }
   ],
   "execution_count": 60
  },
  {
   "metadata": {
    "ExecuteTime": {
     "end_time": "2024-10-18T17:10:30.481315Z",
     "start_time": "2024-10-18T17:10:30.477065Z"
    }
   },
   "cell_type": "code",
   "source": [
    "masked_impl_avg = MaskedAverage()(input_data=x_tensor, mask=[1, 1, 1])\n",
    "keras_avg = keras.layers.Average()(inputs=[x_tensor, torch.tensor([1, 1, 1])])\n",
    "\n",
    "print(f\"MaskedAverage: {masked_impl_avg} \\nkeras.layers.Average: {keras_avg}\")"
   ],
   "id": "149848d0e82cfaad",
   "outputs": [
    {
     "name": "stdout",
     "output_type": "stream",
     "text": [
      "MaskedAverage: tensor([100.0000,  14.6667,  46.3333]) \n",
      "keras.layers.Average: tensor([[50.5000,  1.0000,  5.5000],\n",
      "        [55.5000,  5.5000, 15.5000],\n",
      "        [45.5000, 17.0000, 50.0000]])\n"
     ]
    }
   ],
   "execution_count": 68
  },
  {
   "metadata": {},
   "cell_type": "markdown",
   "source": "Average works on wrong axis.",
   "id": "cbb50be0d1f1f5e6"
  },
  {
   "metadata": {
    "ExecuteTime": {
     "end_time": "2024-10-18T17:10:46.377650Z",
     "start_time": "2024-10-18T17:10:46.375277Z"
    }
   },
   "cell_type": "code",
   "source": [
    "import numpy as np\n",
    "\n",
    "x = np.array([\n",
    "    [1., 2., 3.],\n",
    "    [4., 5., 6.],\n",
    "    [7., 8., 9.],\n",
    "    [7., 8., 9.],\n",
    "    [11., 8., 9.]]\n",
    ")"
   ],
   "id": "6ba01077c111da76",
   "outputs": [],
   "execution_count": 71
  },
  {
   "metadata": {
    "ExecuteTime": {
     "end_time": "2024-10-18T17:10:47.022425Z",
     "start_time": "2024-10-18T17:10:47.018573Z"
    }
   },
   "cell_type": "code",
   "source": "MaskedAverage()(x)",
   "id": "d158dcd2f24f967",
   "outputs": [
    {
     "data": {
      "text/plain": [
       "tensor([6.0000, 6.2000, 7.2000])"
      ]
     },
     "execution_count": 72,
     "metadata": {},
     "output_type": "execute_result"
    }
   ],
   "execution_count": 72
  },
  {
   "metadata": {
    "ExecuteTime": {
     "end_time": "2024-10-18T17:10:48.583850Z",
     "start_time": "2024-10-18T17:10:48.580415Z"
    }
   },
   "cell_type": "code",
   "source": [
    "inputs = np.random.random([10, 3]).astype(np.float32)\n",
    "# We create input and simulate empty rows as could be yielded by our Embedding model on unknown words (Not that any of those exist in corpus)\n",
    "inputs[3, :] = 0.\n",
    "inputs[5, :] = 0."
   ],
   "id": "3a488e74008855d6",
   "outputs": [],
   "execution_count": 73
  },
  {
   "metadata": {
    "ExecuteTime": {
     "end_time": "2024-10-18T17:10:49.214775Z",
     "start_time": "2024-10-18T17:10:49.212175Z"
    }
   },
   "cell_type": "code",
   "source": "inputs  # 0.4803591",
   "id": "5ae08a5628fa158d",
   "outputs": [
    {
     "data": {
      "text/plain": [
       "array([[0.720102  , 0.85836864, 0.3445978 ],\n",
       "       [0.29986498, 0.5420876 , 0.88653666],\n",
       "       [0.8114074 , 0.52032554, 0.1960794 ],\n",
       "       [0.        , 0.        , 0.        ],\n",
       "       [0.3971557 , 0.19923395, 0.11562309],\n",
       "       [0.        , 0.        , 0.        ],\n",
       "       [0.22157855, 0.1699425 , 0.39186078],\n",
       "       [0.80099577, 0.2734881 , 0.918462  ],\n",
       "       [0.16538976, 0.5264178 , 0.91051924],\n",
       "       [0.8423247 , 0.5678992 , 0.27526826]], dtype=float32)"
      ]
     },
     "execution_count": 74,
     "metadata": {},
     "output_type": "execute_result"
    }
   ],
   "execution_count": 74
  },
  {
   "metadata": {
    "ExecuteTime": {
     "end_time": "2024-10-18T17:10:49.931835Z",
     "start_time": "2024-10-18T17:10:49.928451Z"
    }
   },
   "cell_type": "code",
   "source": [
    "x = keras.layers.Masking(mask_value=0.0)(inputs)\n",
    "res = MaskedAverage()(x)"
   ],
   "id": "58d5a4609803ba53",
   "outputs": [],
   "execution_count": 75
  },
  {
   "metadata": {
    "ExecuteTime": {
     "end_time": "2024-10-18T17:10:56.659598Z",
     "start_time": "2024-10-18T17:10:56.656509Z"
    }
   },
   "cell_type": "code",
   "source": "print(res) # The result is correct wrt to the zero values to skip for the average",
   "id": "976983e819cad86c",
   "outputs": [
    {
     "name": "stdout",
     "output_type": "stream",
     "text": [
      "tensor([0.5324, 0.4572, 0.5049])\n"
     ]
    }
   ],
   "execution_count": 77
  },
  {
   "metadata": {},
   "cell_type": "markdown",
   "source": "## WeightedSumLayer",
   "id": "ea454635bb069f2d"
  },
  {
   "metadata": {},
   "cell_type": "code",
   "outputs": [],
   "execution_count": null,
   "source": [
    "# Class Definition\n",
    "class WeightedSumLayer(keras.layers.Layer):\n",
    "    def __init__(self, **kwargs):\n",
    "        super(WeightedSumLayer, self).__init__(**kwargs)\n",
    "        self.supports_masking = True\n",
    "\n",
    "    def call(self, inputs):\n",
    "        x, w = inputs\n",
    "        w = keras.ops.expand_dims(w, axis=-1)\n",
    "\n",
    "        weighted_val = w * x\n",
    "        print(weighted_val)\n",
    "        return keras.ops.sum(x * w, axis=1)\n",
    "\n",
    "    def get_output_shape_for(self, input_shape):\n",
    "        return input_shape[0][0], input_shape[0][-1]\n",
    "\n"
   ],
   "id": "66d528469c5f8acb"
  }
 ],
 "metadata": {
  "kernelspec": {
   "display_name": "Python 3",
   "language": "python",
   "name": "python3"
  },
  "language_info": {
   "codemirror_mode": {
    "name": "ipython",
    "version": 2
   },
   "file_extension": ".py",
   "mimetype": "text/x-python",
   "name": "python",
   "nbconvert_exporter": "python",
   "pygments_lexer": "ipython2",
   "version": "2.7.6"
  }
 },
 "nbformat": 4,
 "nbformat_minor": 5
}

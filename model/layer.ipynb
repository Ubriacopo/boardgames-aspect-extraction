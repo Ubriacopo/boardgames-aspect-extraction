{
 "cells": [
  {
   "metadata": {
    "ExecuteTime": {
     "end_time": "2024-10-21T14:16:07.177786Z",
     "start_time": "2024-10-21T14:16:07.175887Z"
    }
   },
   "cell_type": "code",
   "source": [
    "import os\n",
    "\n",
    "os.environ['KERAS_BACKEND'] = \"torch\""
   ],
   "id": "3e4c705d63d3ffd8",
   "outputs": [],
   "execution_count": 2
  },
  {
   "metadata": {
    "ExecuteTime": {
     "end_time": "2024-10-21T14:16:20.426137Z",
     "start_time": "2024-10-21T14:16:20.424230Z"
    }
   },
   "cell_type": "code",
   "source": [
    "import torch\n",
    "import keras\n",
    "from layer import MaskedAverage\n",
    "import numpy as np"
   ],
   "id": "7bcb233fd5f56f76",
   "outputs": [],
   "execution_count": 5
  },
  {
   "metadata": {},
   "cell_type": "markdown",
   "source": "## Masked Average",
   "id": "eec5542ae3d4138c"
  },
  {
   "metadata": {
    "ExecuteTime": {
     "end_time": "2024-10-21T13:35:19.537493Z",
     "start_time": "2024-10-21T13:35:19.534854Z"
    }
   },
   "cell_type": "code",
   "source": [
    "x_tensor = torch.tensor([\n",
    "    [100, 1, 10],\n",
    "    [110, 10, 30],\n",
    "    [90, 33, 99]\n",
    "])"
   ],
   "id": "553d7da702a8a658",
   "outputs": [],
   "execution_count": 3
  },
  {
   "metadata": {
    "ExecuteTime": {
     "end_time": "2024-10-21T13:35:20.349288Z",
     "start_time": "2024-10-21T13:35:20.345315Z"
    }
   },
   "cell_type": "code",
   "source": "x_tensor.shape",
   "id": "81cf4301aea6bcf4",
   "outputs": [
    {
     "data": {
      "text/plain": [
       "torch.Size([3, 3])"
      ]
     },
     "execution_count": 4,
     "metadata": {},
     "output_type": "execute_result"
    }
   ],
   "execution_count": 4
  },
  {
   "metadata": {
    "ExecuteTime": {
     "end_time": "2024-10-18T17:10:30.481315Z",
     "start_time": "2024-10-18T17:10:30.477065Z"
    }
   },
   "cell_type": "code",
   "source": [
    "masked_impl_avg = MaskedAverage()(input_data=x_tensor, mask=[1, 1, 1])\n",
    "keras_avg = keras.layers.Average()(inputs=[x_tensor, torch.tensor([1, 1, 1])])\n",
    "\n",
    "print(f\"MaskedAverage: {masked_impl_avg} \\nkeras.layers.Average: {keras_avg}\")"
   ],
   "id": "149848d0e82cfaad",
   "outputs": [
    {
     "name": "stdout",
     "output_type": "stream",
     "text": [
      "MaskedAverage: tensor([100.0000,  14.6667,  46.3333]) \n",
      "keras.layers.Average: tensor([[50.5000,  1.0000,  5.5000],\n",
      "        [55.5000,  5.5000, 15.5000],\n",
      "        [45.5000, 17.0000, 50.0000]])\n"
     ]
    }
   ],
   "execution_count": 68
  },
  {
   "metadata": {},
   "cell_type": "markdown",
   "source": "Average works on wrong axis.",
   "id": "cbb50be0d1f1f5e6"
  },
  {
   "metadata": {
    "ExecuteTime": {
     "end_time": "2024-10-18T17:10:46.377650Z",
     "start_time": "2024-10-18T17:10:46.375277Z"
    }
   },
   "cell_type": "code",
   "source": [
    "import numpy as np\n",
    "\n",
    "x = np.array([\n",
    "    [1., 2., 3.],\n",
    "    [4., 5., 6.],\n",
    "    [7., 8., 9.],\n",
    "    [7., 8., 9.],\n",
    "    [11., 8., 9.]]\n",
    ")"
   ],
   "id": "6ba01077c111da76",
   "outputs": [],
   "execution_count": 71
  },
  {
   "metadata": {
    "ExecuteTime": {
     "end_time": "2024-10-18T17:10:47.022425Z",
     "start_time": "2024-10-18T17:10:47.018573Z"
    }
   },
   "cell_type": "code",
   "source": "MaskedAverage()(x)",
   "id": "d158dcd2f24f967",
   "outputs": [
    {
     "data": {
      "text/plain": [
       "tensor([6.0000, 6.2000, 7.2000])"
      ]
     },
     "execution_count": 72,
     "metadata": {},
     "output_type": "execute_result"
    }
   ],
   "execution_count": 72
  },
  {
   "metadata": {
    "ExecuteTime": {
     "end_time": "2024-10-18T17:10:48.583850Z",
     "start_time": "2024-10-18T17:10:48.580415Z"
    }
   },
   "cell_type": "code",
   "source": [
    "inputs = np.random.random([10, 3]).astype(np.float32)\n",
    "# We create input and simulate empty rows as could be yielded by our Embedding model on unknown words (Not that any of those exist in corpus)\n",
    "inputs[3, :] = 0.\n",
    "inputs[5, :] = 0."
   ],
   "id": "3a488e74008855d6",
   "outputs": [],
   "execution_count": 73
  },
  {
   "metadata": {
    "ExecuteTime": {
     "end_time": "2024-10-18T17:10:49.214775Z",
     "start_time": "2024-10-18T17:10:49.212175Z"
    }
   },
   "cell_type": "code",
   "source": "inputs  # 0.4803591",
   "id": "5ae08a5628fa158d",
   "outputs": [
    {
     "data": {
      "text/plain": [
       "array([[0.720102  , 0.85836864, 0.3445978 ],\n",
       "       [0.29986498, 0.5420876 , 0.88653666],\n",
       "       [0.8114074 , 0.52032554, 0.1960794 ],\n",
       "       [0.        , 0.        , 0.        ],\n",
       "       [0.3971557 , 0.19923395, 0.11562309],\n",
       "       [0.        , 0.        , 0.        ],\n",
       "       [0.22157855, 0.1699425 , 0.39186078],\n",
       "       [0.80099577, 0.2734881 , 0.918462  ],\n",
       "       [0.16538976, 0.5264178 , 0.91051924],\n",
       "       [0.8423247 , 0.5678992 , 0.27526826]], dtype=float32)"
      ]
     },
     "execution_count": 74,
     "metadata": {},
     "output_type": "execute_result"
    }
   ],
   "execution_count": 74
  },
  {
   "metadata": {
    "ExecuteTime": {
     "end_time": "2024-10-18T17:10:49.931835Z",
     "start_time": "2024-10-18T17:10:49.928451Z"
    }
   },
   "cell_type": "code",
   "source": [
    "x = keras.layers.Masking(mask_value=0.0)(inputs)\n",
    "res = MaskedAverage()(x)"
   ],
   "id": "58d5a4609803ba53",
   "outputs": [],
   "execution_count": 75
  },
  {
   "metadata": {
    "ExecuteTime": {
     "end_time": "2024-10-18T17:10:56.659598Z",
     "start_time": "2024-10-18T17:10:56.656509Z"
    }
   },
   "cell_type": "code",
   "source": "print(res)  # The result is correct wrt to the zero values to skip for the average",
   "id": "976983e819cad86c",
   "outputs": [
    {
     "name": "stdout",
     "output_type": "stream",
     "text": [
      "tensor([0.5324, 0.4572, 0.5049])\n"
     ]
    }
   ],
   "execution_count": 77
  },
  {
   "metadata": {},
   "cell_type": "markdown",
   "source": "## WeightedSumLayer",
   "id": "ea454635bb069f2d"
  },
  {
   "metadata": {
    "ExecuteTime": {
     "end_time": "2024-10-21T14:28:00.163486Z",
     "start_time": "2024-10-21T14:28:00.159817Z"
    }
   },
   "cell_type": "code",
   "source": [
    "# Class Definition\n",
    "class WeightedSumLayer(keras.layers.Layer):\n",
    "    def __init__(self, **kwargs):\n",
    "        super(WeightedSumLayer, self).__init__(**kwargs)\n",
    "        self.supports_masking = True\n",
    "\n",
    "    def call(self, input_data: list, mask=None):\n",
    "        x, w = input_data\n",
    "        w = keras.ops.expand_dims(w, axis=-1)\n",
    "\n",
    "        return keras.ops.sum(x * w, axis=1)"
   ],
   "id": "66d528469c5f8acb",
   "outputs": [],
   "execution_count": 50
  },
  {
   "metadata": {},
   "cell_type": "markdown",
   "source": "# Embedding simulation as interaction",
   "id": "775364e38d8518e4"
  },
  {
   "metadata": {
    "ExecuteTime": {
     "end_time": "2024-10-21T14:16:24.109192Z",
     "start_time": "2024-10-21T14:16:24.104083Z"
    }
   },
   "cell_type": "code",
   "source": [
    "input_array = np.array([[1, 4, 7, 7, 11]])  # (One sentence)\n",
    "input_array  # An example input of indices of our embedding matrix for the terms"
   ],
   "id": "8d4494a2fe159b32",
   "outputs": [
    {
     "data": {
      "text/plain": [
       "array([[ 1,  4,  7,  7, 11]])"
      ]
     },
     "execution_count": 7,
     "metadata": {},
     "output_type": "execute_result"
    }
   ],
   "execution_count": 7
  },
  {
   "metadata": {
    "ExecuteTime": {
     "end_time": "2024-10-21T14:16:40.003041Z",
     "start_time": "2024-10-21T14:16:39.808170Z"
    }
   },
   "cell_type": "code",
   "source": [
    "model = keras.Sequential()\n",
    "model.add(keras.layers.Embedding(120, 5))\n",
    "model.compile('rmsprop', 'mse')\n",
    "output_array = model.predict(input_array)"
   ],
   "id": "fb1ffb59ec81483c",
   "outputs": [
    {
     "name": "stdout",
     "output_type": "stream",
     "text": [
      "\u001B[1m1/1\u001B[0m \u001B[32m━━━━━━━━━━━━━━━━━━━━\u001B[0m\u001B[37m\u001B[0m \u001B[1m0s\u001B[0m 86ms/step\n"
     ]
    }
   ],
   "execution_count": 8
  },
  {
   "metadata": {
    "ExecuteTime": {
     "end_time": "2024-10-21T14:16:40.774074Z",
     "start_time": "2024-10-21T14:16:40.771526Z"
    }
   },
   "cell_type": "code",
   "source": "print(output_array)",
   "id": "4e9a9aa363a711d3",
   "outputs": [
    {
     "name": "stdout",
     "output_type": "stream",
     "text": [
      "[[[ 0.03431283 -0.02247928 -0.04623246  0.01455034 -0.02974732]\n",
      "  [ 0.0192939   0.04212562  0.01354809  0.02876313 -0.01755306]\n",
      "  [-0.01599893  0.00968315 -0.0218256   0.0361133   0.00044717]\n",
      "  [-0.01599893  0.00968315 -0.0218256   0.0361133   0.00044717]\n",
      "  [-0.01512191  0.02084753  0.02845163 -0.04753092  0.02707013]]]\n"
     ]
    }
   ],
   "execution_count": 9
  },
  {
   "metadata": {
    "ExecuteTime": {
     "end_time": "2024-10-21T14:22:42.722114Z",
     "start_time": "2024-10-21T14:22:42.718784Z"
    }
   },
   "cell_type": "code",
   "source": "output_array.shape",
   "id": "2385ddea41df3ab6",
   "outputs": [
    {
     "data": {
      "text/plain": [
       "(1, 5, 5)"
      ]
     },
     "execution_count": 32,
     "metadata": {},
     "output_type": "execute_result"
    }
   ],
   "execution_count": 32
  },
  {
   "metadata": {
    "ExecuteTime": {
     "end_time": "2024-10-21T14:16:44.053438Z",
     "start_time": "2024-10-21T14:16:44.033996Z"
    }
   },
   "cell_type": "code",
   "source": [
    "import layer\n",
    "\n",
    "y_s = layer.MaskedAverage()(output_array)"
   ],
   "id": "c99e135ff5691573",
   "outputs": [],
   "execution_count": 11
  },
  {
   "metadata": {
    "ExecuteTime": {
     "end_time": "2024-10-21T14:16:44.795694Z",
     "start_time": "2024-10-21T14:16:44.792051Z"
    }
   },
   "cell_type": "code",
   "source": "y_s",
   "id": "563dd3932338f0d7",
   "outputs": [
    {
     "data": {
      "text/plain": [
       "tensor([[ 0.0013,  0.0120, -0.0096,  0.0136, -0.0039]], device='cuda:0')"
      ]
     },
     "execution_count": 12,
     "metadata": {},
     "output_type": "execute_result"
    }
   ],
   "execution_count": 12
  },
  {
   "metadata": {
    "ExecuteTime": {
     "end_time": "2024-10-21T14:17:18.524449Z",
     "start_time": "2024-10-21T14:17:18.521180Z"
    }
   },
   "cell_type": "code",
   "source": [
    "print(y_s.shape)\n",
    "print(output_array.shape)"
   ],
   "id": "e539a761f163a20f",
   "outputs": [
    {
     "name": "stdout",
     "output_type": "stream",
     "text": [
      "torch.Size([1, 5])\n",
      "(1, 5, 5)\n"
     ]
    }
   ],
   "execution_count": 15
  },
  {
   "metadata": {
    "ExecuteTime": {
     "end_time": "2024-10-21T14:18:48.851003Z",
     "start_time": "2024-10-21T14:18:48.836208Z"
    }
   },
   "cell_type": "code",
   "source": [
    "# Add the missing but required batch size to for the attention\n",
    "batched_w_sum = np.expand_dims(y_s.cpu(), 0)\n",
    "batched_embeddings = np.expand_dims(output_array, 0)"
   ],
   "id": "7a37b0048a86eb62",
   "outputs": [],
   "execution_count": 17
  },
  {
   "metadata": {
    "ExecuteTime": {
     "end_time": "2024-10-21T14:24:01.196220Z",
     "start_time": "2024-10-21T14:24:01.179498Z"
    }
   },
   "cell_type": "code",
   "source": "y_s",
   "id": "fb27b92b0b9de86b",
   "outputs": [
    {
     "data": {
      "text/plain": [
       "tensor([[ 0.0013,  0.0120, -0.0096,  0.0136, -0.0039]], device='cuda:0')"
      ]
     },
     "execution_count": 35,
     "metadata": {},
     "output_type": "execute_result"
    }
   ],
   "execution_count": 35
  },
  {
   "metadata": {
    "ExecuteTime": {
     "end_time": "2024-10-21T14:27:10.073069Z",
     "start_time": "2024-10-21T14:27:10.070963Z"
    }
   },
   "cell_type": "code",
   "source": "a_y = y_s[None, :, :]  # Adding batching to a_y to match dimensions required",
   "id": "e8a2200189473796",
   "outputs": [],
   "execution_count": 42
  },
  {
   "metadata": {
    "ExecuteTime": {
     "end_time": "2024-10-21T14:27:10.601337Z",
     "start_time": "2024-10-21T14:27:10.583926Z"
    }
   },
   "cell_type": "code",
   "source": "att_weights = keras.layers.Attention(name='att_weights')([output_array[0], a_y])",
   "id": "e158ba24aab6d17d",
   "outputs": [],
   "execution_count": 43
  },
  {
   "metadata": {
    "ExecuteTime": {
     "end_time": "2024-10-21T14:39:44.957074Z",
     "start_time": "2024-10-21T14:39:44.940425Z"
    }
   },
   "cell_type": "code",
   "source": "att_weights[0]",
   "id": "beb2972ecf294733",
   "outputs": [
    {
     "data": {
      "text/plain": [
       "tensor([[ 0.0013,  0.0120, -0.0096,  0.0136, -0.0039],\n",
       "        [ 0.0013,  0.0120, -0.0096,  0.0136, -0.0039],\n",
       "        [ 0.0013,  0.0120, -0.0096,  0.0136, -0.0039],\n",
       "        [ 0.0013,  0.0120, -0.0096,  0.0136, -0.0039],\n",
       "        [ 0.0013,  0.0120, -0.0096,  0.0136, -0.0039]], device='cuda:0')"
      ]
     },
     "execution_count": 53,
     "metadata": {},
     "output_type": "execute_result"
    }
   ],
   "execution_count": 53
  },
  {
   "metadata": {
    "ExecuteTime": {
     "end_time": "2024-10-21T14:40:21.726335Z",
     "start_time": "2024-10-21T14:40:21.721499Z"
    }
   },
   "cell_type": "code",
   "source": "output_array",
   "id": "e36c49c2ec7fb1e6",
   "outputs": [
    {
     "data": {
      "text/plain": [
       "array([[[ 0.03431283, -0.02247928, -0.04623246,  0.01455034,\n",
       "         -0.02974732],\n",
       "        [ 0.0192939 ,  0.04212562,  0.01354809,  0.02876313,\n",
       "         -0.01755306],\n",
       "        [-0.01599893,  0.00968315, -0.0218256 ,  0.0361133 ,\n",
       "          0.00044717],\n",
       "        [-0.01599893,  0.00968315, -0.0218256 ,  0.0361133 ,\n",
       "          0.00044717],\n",
       "        [-0.01512191,  0.02084753,  0.02845163, -0.04753092,\n",
       "          0.02707013]]], dtype=float32)"
      ]
     },
     "execution_count": 57,
     "metadata": {},
     "output_type": "execute_result"
    }
   ],
   "execution_count": 57
  },
  {
   "metadata": {
    "ExecuteTime": {
     "end_time": "2024-10-21T14:40:45.301189Z",
     "start_time": "2024-10-21T14:40:45.284195Z"
    }
   },
   "cell_type": "code",
   "source": "z = WeightedSumLayer()([output_array, att_weights[0][0]])",
   "id": "cee3adad7526569b",
   "outputs": [],
   "execution_count": 58
  },
  {
   "metadata": {
    "ExecuteTime": {
     "end_time": "2024-10-21T14:41:55.404676Z",
     "start_time": "2024-10-21T14:41:55.386929Z"
    }
   },
   "cell_type": "code",
   "source": "z  # Looking at the paper it seems reasonable to have zt as the average of word embeddings given by att_weights. It also makes sense conceptually as I use attention to focus on the right words and keep those in the \"sum value\" of the embeddings to extract a combination that gives a real (higher level) meaning",
   "id": "ccd1a026af30edd5",
   "outputs": [
    {
     "data": {
      "text/plain": [
       "tensor([[ 2.6959e-04,  4.3352e-04, -9.5660e-05,  6.9240e-04, -3.5162e-04]],\n",
       "       device='cuda:0')"
      ]
     },
     "execution_count": 60,
     "metadata": {},
     "output_type": "execute_result"
    }
   ],
   "execution_count": 60
  },
  {
   "metadata": {},
   "cell_type": "code",
   "outputs": [],
   "execution_count": null,
   "source": "",
   "id": "4d7e8719086904d9"
  }
 ],
 "metadata": {
  "kernelspec": {
   "display_name": "Python 3",
   "language": "python",
   "name": "python3"
  },
  "language_info": {
   "codemirror_mode": {
    "name": "ipython",
    "version": 2
   },
   "file_extension": ".py",
   "mimetype": "text/x-python",
   "name": "python",
   "nbconvert_exporter": "python",
   "pygments_lexer": "ipython2",
   "version": "2.7.6"
  }
 },
 "nbformat": 4,
 "nbformat_minor": 5
}

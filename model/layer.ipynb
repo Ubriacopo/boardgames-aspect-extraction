{
 "cells": [
  {
   "metadata": {
    "ExecuteTime": {
     "end_time": "2024-10-22T14:50:53.763957Z",
     "start_time": "2024-10-22T14:50:53.761951Z"
    }
   },
   "cell_type": "code",
   "source": [
    "import os\n",
    "\n",
    "os.environ['KERAS_BACKEND'] = \"torch\""
   ],
   "id": "3e4c705d63d3ffd8",
   "outputs": [],
   "execution_count": 1
  },
  {
   "metadata": {
    "ExecuteTime": {
     "end_time": "2024-10-22T14:50:55.722793Z",
     "start_time": "2024-10-22T14:50:53.896528Z"
    }
   },
   "cell_type": "code",
   "source": [
    "import torch\n",
    "import keras\n",
    "from layer import MaskedAverage\n",
    "import numpy as np"
   ],
   "id": "7bcb233fd5f56f76",
   "outputs": [
    {
     "name": "stderr",
     "output_type": "stream",
     "text": [
      "/home/jacopo/PycharmProjects/nlp-course-project/venv/lib/python3.12/site-packages/torch/cuda/__init__.py:128: UserWarning: CUDA initialization: CUDA unknown error - this may be due to an incorrectly set up environment, e.g. changing env variable CUDA_VISIBLE_DEVICES after program start. Setting the available devices to be zero. (Triggered internally at ../c10/cuda/CUDAFunctions.cpp:108.)\n",
      "  return torch._C._cuda_getDeviceCount() > 0\n"
     ]
    }
   ],
   "execution_count": 2
  },
  {
   "metadata": {},
   "cell_type": "markdown",
   "source": "## Masked Average",
   "id": "eec5542ae3d4138c"
  },
  {
   "metadata": {
    "ExecuteTime": {
     "end_time": "2024-10-21T13:35:19.537493Z",
     "start_time": "2024-10-21T13:35:19.534854Z"
    }
   },
   "cell_type": "code",
   "source": [
    "x_tensor = torch.tensor([\n",
    "    [100, 1, 10],\n",
    "    [110, 10, 30],\n",
    "    [90, 33, 99]\n",
    "])"
   ],
   "id": "553d7da702a8a658",
   "outputs": [],
   "execution_count": 3
  },
  {
   "metadata": {
    "ExecuteTime": {
     "end_time": "2024-10-21T13:35:20.349288Z",
     "start_time": "2024-10-21T13:35:20.345315Z"
    }
   },
   "cell_type": "code",
   "source": "x_tensor.shape",
   "id": "81cf4301aea6bcf4",
   "outputs": [
    {
     "data": {
      "text/plain": [
       "torch.Size([3, 3])"
      ]
     },
     "execution_count": 4,
     "metadata": {},
     "output_type": "execute_result"
    }
   ],
   "execution_count": 4
  },
  {
   "metadata": {
    "ExecuteTime": {
     "end_time": "2024-10-18T17:10:30.481315Z",
     "start_time": "2024-10-18T17:10:30.477065Z"
    }
   },
   "cell_type": "code",
   "source": [
    "masked_impl_avg = MaskedAverage()(input_data=x_tensor, mask=[1, 1, 1])\n",
    "keras_avg = keras.layers.Average()(inputs=[x_tensor, torch.tensor([1, 1, 1])])\n",
    "\n",
    "print(f\"MaskedAverage: {masked_impl_avg} \\nkeras.layers.Average: {keras_avg}\")"
   ],
   "id": "149848d0e82cfaad",
   "outputs": [
    {
     "name": "stdout",
     "output_type": "stream",
     "text": [
      "MaskedAverage: tensor([100.0000,  14.6667,  46.3333]) \n",
      "keras.layers.Average: tensor([[50.5000,  1.0000,  5.5000],\n",
      "        [55.5000,  5.5000, 15.5000],\n",
      "        [45.5000, 17.0000, 50.0000]])\n"
     ]
    }
   ],
   "execution_count": 68
  },
  {
   "metadata": {},
   "cell_type": "markdown",
   "source": "Average works on wrong axis.",
   "id": "cbb50be0d1f1f5e6"
  },
  {
   "metadata": {
    "ExecuteTime": {
     "end_time": "2024-10-18T17:10:46.377650Z",
     "start_time": "2024-10-18T17:10:46.375277Z"
    }
   },
   "cell_type": "code",
   "source": [
    "import numpy as np\n",
    "\n",
    "x = np.array([\n",
    "    [1., 2., 3.],\n",
    "    [4., 5., 6.],\n",
    "    [7., 8., 9.],\n",
    "    [7., 8., 9.],\n",
    "    [11., 8., 9.]]\n",
    ")"
   ],
   "id": "6ba01077c111da76",
   "outputs": [],
   "execution_count": 71
  },
  {
   "metadata": {
    "ExecuteTime": {
     "end_time": "2024-10-18T17:10:47.022425Z",
     "start_time": "2024-10-18T17:10:47.018573Z"
    }
   },
   "cell_type": "code",
   "source": "MaskedAverage()(x)",
   "id": "d158dcd2f24f967",
   "outputs": [
    {
     "data": {
      "text/plain": [
       "tensor([6.0000, 6.2000, 7.2000])"
      ]
     },
     "execution_count": 72,
     "metadata": {},
     "output_type": "execute_result"
    }
   ],
   "execution_count": 72
  },
  {
   "metadata": {
    "ExecuteTime": {
     "end_time": "2024-10-18T17:10:48.583850Z",
     "start_time": "2024-10-18T17:10:48.580415Z"
    }
   },
   "cell_type": "code",
   "source": [
    "inputs = np.random.random([10, 3]).astype(np.float32)\n",
    "# We create input and simulate empty rows as could be yielded by our Embedding model on unknown words (Not that any of those exist in corpus)\n",
    "inputs[3, :] = 0.\n",
    "inputs[5, :] = 0."
   ],
   "id": "3a488e74008855d6",
   "outputs": [],
   "execution_count": 73
  },
  {
   "metadata": {
    "ExecuteTime": {
     "end_time": "2024-10-18T17:10:49.214775Z",
     "start_time": "2024-10-18T17:10:49.212175Z"
    }
   },
   "cell_type": "code",
   "source": "inputs  # 0.4803591",
   "id": "5ae08a5628fa158d",
   "outputs": [
    {
     "data": {
      "text/plain": [
       "array([[0.720102  , 0.85836864, 0.3445978 ],\n",
       "       [0.29986498, 0.5420876 , 0.88653666],\n",
       "       [0.8114074 , 0.52032554, 0.1960794 ],\n",
       "       [0.        , 0.        , 0.        ],\n",
       "       [0.3971557 , 0.19923395, 0.11562309],\n",
       "       [0.        , 0.        , 0.        ],\n",
       "       [0.22157855, 0.1699425 , 0.39186078],\n",
       "       [0.80099577, 0.2734881 , 0.918462  ],\n",
       "       [0.16538976, 0.5264178 , 0.91051924],\n",
       "       [0.8423247 , 0.5678992 , 0.27526826]], dtype=float32)"
      ]
     },
     "execution_count": 74,
     "metadata": {},
     "output_type": "execute_result"
    }
   ],
   "execution_count": 74
  },
  {
   "metadata": {
    "ExecuteTime": {
     "end_time": "2024-10-18T17:10:49.931835Z",
     "start_time": "2024-10-18T17:10:49.928451Z"
    }
   },
   "cell_type": "code",
   "source": [
    "x = keras.layers.Masking(mask_value=0.0)(inputs)\n",
    "res = MaskedAverage()(x)"
   ],
   "id": "58d5a4609803ba53",
   "outputs": [],
   "execution_count": 75
  },
  {
   "metadata": {
    "ExecuteTime": {
     "end_time": "2024-10-18T17:10:56.659598Z",
     "start_time": "2024-10-18T17:10:56.656509Z"
    }
   },
   "cell_type": "code",
   "source": "print(res)  # The result is correct wrt to the zero values to skip for the average",
   "id": "976983e819cad86c",
   "outputs": [
    {
     "name": "stdout",
     "output_type": "stream",
     "text": [
      "tensor([0.5324, 0.4572, 0.5049])\n"
     ]
    }
   ],
   "execution_count": 77
  },
  {
   "metadata": {},
   "cell_type": "markdown",
   "source": "## WeightedSumLayer",
   "id": "ea454635bb069f2d"
  },
  {
   "metadata": {
    "ExecuteTime": {
     "end_time": "2024-10-22T12:51:43.524366Z",
     "start_time": "2024-10-22T12:51:43.521443Z"
    }
   },
   "cell_type": "code",
   "source": [
    "# Class Definition\n",
    "class WeightedSumLayer(keras.layers.Layer):\n",
    "    def __init__(self, **kwargs):\n",
    "        super(WeightedSumLayer, self).__init__(**kwargs)\n",
    "        self.supports_masking = True\n",
    "\n",
    "    def call(self, input_data: list, mask=None):\n",
    "        x, w = input_data\n",
    "        w = keras.ops.expand_dims(w, axis=-1)\n",
    "\n",
    "        return keras.ops.sum(x * w, axis=1)"
   ],
   "id": "66d528469c5f8acb",
   "outputs": [],
   "execution_count": 4
  },
  {
   "metadata": {},
   "cell_type": "markdown",
   "source": "# Embedding simulation as interaction",
   "id": "775364e38d8518e4"
  },
  {
   "metadata": {
    "ExecuteTime": {
     "end_time": "2024-10-22T12:51:44.431289Z",
     "start_time": "2024-10-22T12:51:44.424557Z"
    }
   },
   "cell_type": "code",
   "source": [
    "input_array = np.array([[1, 4, 7, 7, 11]])  # (One sentence)\n",
    "input_array  # An example input of indices of our embedding matrix for the terms"
   ],
   "id": "8d4494a2fe159b32",
   "outputs": [
    {
     "data": {
      "text/plain": [
       "array([[ 1,  4,  7,  7, 11]])"
      ]
     },
     "execution_count": 5,
     "metadata": {},
     "output_type": "execute_result"
    }
   ],
   "execution_count": 5
  },
  {
   "metadata": {
    "ExecuteTime": {
     "end_time": "2024-10-22T12:51:45.347440Z",
     "start_time": "2024-10-22T12:51:45.330481Z"
    }
   },
   "cell_type": "code",
   "source": [
    "model = keras.Sequential()\n",
    "model.add(keras.layers.Embedding(120, 5))\n",
    "model.compile('rmsprop', 'mse')\n",
    "output_array = model.predict(input_array)"
   ],
   "id": "fb1ffb59ec81483c",
   "outputs": [
    {
     "name": "stdout",
     "output_type": "stream",
     "text": [
      "\u001B[1m1/1\u001B[0m \u001B[32m━━━━━━━━━━━━━━━━━━━━\u001B[0m\u001B[37m\u001B[0m \u001B[1m0s\u001B[0m 7ms/step\n"
     ]
    }
   ],
   "execution_count": 6
  },
  {
   "metadata": {
    "ExecuteTime": {
     "end_time": "2024-10-22T12:51:46.317948Z",
     "start_time": "2024-10-22T12:51:46.314636Z"
    }
   },
   "cell_type": "code",
   "source": "print(output_array)",
   "id": "4e9a9aa363a711d3",
   "outputs": [
    {
     "name": "stdout",
     "output_type": "stream",
     "text": [
      "[[[-0.01709533  0.02543542 -0.04860786 -0.03673366 -0.01704457]\n",
      "  [ 0.02166657 -0.03744847  0.04946844 -0.0041815   0.0431186 ]\n",
      "  [-0.01143669  0.03215592 -0.04944665 -0.01991327 -0.01345753]\n",
      "  [-0.01143669  0.03215592 -0.04944665 -0.01991327 -0.01345753]\n",
      "  [ 0.03590691 -0.03487306  0.00515183 -0.04022937 -0.01694779]]]\n"
     ]
    }
   ],
   "execution_count": 7
  },
  {
   "metadata": {
    "ExecuteTime": {
     "end_time": "2024-10-22T12:51:47.866749Z",
     "start_time": "2024-10-22T12:51:47.863131Z"
    }
   },
   "cell_type": "code",
   "source": "output_array.shape",
   "id": "2385ddea41df3ab6",
   "outputs": [
    {
     "data": {
      "text/plain": [
       "(1, 5, 5)"
      ]
     },
     "execution_count": 8,
     "metadata": {},
     "output_type": "execute_result"
    }
   ],
   "execution_count": 8
  },
  {
   "metadata": {
    "ExecuteTime": {
     "end_time": "2024-10-22T12:51:49.313360Z",
     "start_time": "2024-10-22T12:51:49.308952Z"
    }
   },
   "cell_type": "code",
   "source": [
    "import layer\n",
    "\n",
    "y_s = layer.MaskedAverage()(output_array)"
   ],
   "id": "c99e135ff5691573",
   "outputs": [],
   "execution_count": 9
  },
  {
   "metadata": {
    "ExecuteTime": {
     "end_time": "2024-10-22T12:51:50.184741Z",
     "start_time": "2024-10-22T12:51:50.181546Z"
    }
   },
   "cell_type": "code",
   "source": "y_s",
   "id": "563dd3932338f0d7",
   "outputs": [
    {
     "data": {
      "text/plain": [
       "tensor([[ 0.0035,  0.0035, -0.0186, -0.0242, -0.0036]])"
      ]
     },
     "execution_count": 10,
     "metadata": {},
     "output_type": "execute_result"
    }
   ],
   "execution_count": 10
  },
  {
   "metadata": {
    "ExecuteTime": {
     "end_time": "2024-10-22T12:52:00.174351Z",
     "start_time": "2024-10-22T12:52:00.172126Z"
    }
   },
   "cell_type": "code",
   "source": [
    "print(y_s.shape)\n",
    "print(output_array.shape)"
   ],
   "id": "e539a761f163a20f",
   "outputs": [
    {
     "name": "stdout",
     "output_type": "stream",
     "text": [
      "torch.Size([1, 5])\n",
      "(1, 5, 5)\n"
     ]
    }
   ],
   "execution_count": 11
  },
  {
   "metadata": {
    "ExecuteTime": {
     "end_time": "2024-10-22T13:07:13.198128Z",
     "start_time": "2024-10-22T13:07:13.193499Z"
    }
   },
   "cell_type": "code",
   "source": "y_s",
   "id": "fb27b92b0b9de86b",
   "outputs": [
    {
     "data": {
      "text/plain": [
       "tensor([[ 0.0035,  0.0035, -0.0186, -0.0242, -0.0036]])"
      ]
     },
     "execution_count": 21,
     "metadata": {},
     "output_type": "execute_result"
    }
   ],
   "execution_count": 21
  },
  {
   "metadata": {
    "ExecuteTime": {
     "end_time": "2024-10-22T13:07:13.573774Z",
     "start_time": "2024-10-22T13:07:13.570796Z"
    }
   },
   "cell_type": "code",
   "source": "a_y = y_s[None, :, :]  # Adding batching to a_y to match dimensions required",
   "id": "e8a2200189473796",
   "outputs": [],
   "execution_count": 22
  },
  {
   "metadata": {
    "ExecuteTime": {
     "end_time": "2024-10-22T13:07:27.871113Z",
     "start_time": "2024-10-22T13:07:27.868200Z"
    }
   },
   "cell_type": "code",
   "source": "a_y",
   "id": "c701a491ec8ae703",
   "outputs": [
    {
     "data": {
      "text/plain": [
       "tensor([[[ 0.0035,  0.0035, -0.0186, -0.0242, -0.0036]]])"
      ]
     },
     "execution_count": 25,
     "metadata": {},
     "output_type": "execute_result"
    }
   ],
   "execution_count": 25
  },
  {
   "metadata": {
    "ExecuteTime": {
     "end_time": "2024-10-22T13:13:25.862328Z",
     "start_time": "2024-10-22T13:13:25.859256Z"
    }
   },
   "cell_type": "code",
   "source": [
    "att_weights = keras.layers.Attention(name='att_weights')([a_y, output_array])\n",
    "# att_weights = keras.layers.Attention(name='att_weights')([output_array[0], a_y]) Quale giusto?"
   ],
   "id": "e158ba24aab6d17d",
   "outputs": [],
   "execution_count": 41
  },
  {
   "metadata": {
    "ExecuteTime": {
     "end_time": "2024-10-22T13:18:07.794447Z",
     "start_time": "2024-10-22T13:18:07.790779Z"
    }
   },
   "cell_type": "code",
   "source": [
    "# Each attention weight tells me how much weight a row has in my context. Giving more importance to relevant words (when trained)\n",
    "att_weights[0][0]"
   ],
   "id": "beb2972ecf294733",
   "outputs": [
    {
     "data": {
      "text/plain": [
       "tensor([ 0.0035,  0.0035, -0.0186, -0.0242, -0.0036])"
      ]
     },
     "execution_count": 51,
     "metadata": {},
     "output_type": "execute_result"
    }
   ],
   "execution_count": 51
  },
  {
   "metadata": {
    "ExecuteTime": {
     "end_time": "2024-10-22T13:38:32.892906Z",
     "start_time": "2024-10-22T13:38:32.890250Z"
    }
   },
   "cell_type": "code",
   "source": "output_array[0]",
   "id": "e36c49c2ec7fb1e6",
   "outputs": [
    {
     "data": {
      "text/plain": [
       "array([[-0.01709533,  0.02543542, -0.04860786, -0.03673366, -0.01704457],\n",
       "       [ 0.02166657, -0.03744847,  0.04946844, -0.0041815 ,  0.0431186 ],\n",
       "       [-0.01143669,  0.03215592, -0.04944665, -0.01991327, -0.01345753],\n",
       "       [-0.01143669,  0.03215592, -0.04944665, -0.01991327, -0.01345753],\n",
       "       [ 0.03590691, -0.03487306,  0.00515183, -0.04022937, -0.01694779]],\n",
       "      dtype=float32)"
      ]
     },
     "execution_count": 104,
     "metadata": {},
     "output_type": "execute_result"
    }
   ],
   "execution_count": 104
  },
  {
   "metadata": {
    "ExecuteTime": {
     "end_time": "2024-10-22T13:21:23.434531Z",
     "start_time": "2024-10-22T13:21:23.431640Z"
    }
   },
   "cell_type": "code",
   "source": "z = WeightedSumLayer()([output_array, att_weights[0][0]])",
   "id": "cee3adad7526569b",
   "outputs": [],
   "execution_count": 65
  },
  {
   "metadata": {
    "ExecuteTime": {
     "end_time": "2024-10-22T13:21:23.840529Z",
     "start_time": "2024-10-22T13:21:23.837018Z"
    }
   },
   "cell_type": "code",
   "source": "z  # Looking at the paper it seems reasonable to have zt as the average of word embeddings given by att_weights. It also makes sense conceptually as I use attention to focus on the right words and keep those in the \"sum value\" of the embeddings to extract a combination that gives a real (higher level) meaning",
   "id": "ccd1a026af30edd5",
   "outputs": [
    {
     "data": {
      "text/plain": [
       "tensor([[ 0.0004, -0.0013,  0.0021,  0.0009,  0.0007]])"
      ]
     },
     "execution_count": 66,
     "metadata": {},
     "output_type": "execute_result"
    }
   ],
   "execution_count": 66
  },
  {
   "metadata": {
    "ExecuteTime": {
     "end_time": "2024-10-22T13:44:58.574351Z",
     "start_time": "2024-10-22T13:44:58.570120Z"
    }
   },
   "cell_type": "code",
   "source": [
    "# Does the method behave as expected? It does:\n",
    "total_sum = []\n",
    "\n",
    "row_attention_weight = att_weights[0][0]\n",
    "print(f\"Weight: {row_attention_weight}\")\n",
    "\n",
    "for c in range(output_array.shape[2]):\n",
    "    column = output_array[0][:, c]\n",
    "    print(f\"Current column: {column}\")\n",
    "    total_sum.append(torch.sum(torch.tensor([column[i] * row_attention_weight[i] for i in range(len(column))])))"
   ],
   "id": "4d7e8719086904d9",
   "outputs": [
    {
     "name": "stdout",
     "output_type": "stream",
     "text": [
      "Weight: tensor([ 0.0035,  0.0035, -0.0186, -0.0242, -0.0036])\n",
      "Current column: [-0.01709533  0.02166657 -0.01143669 -0.01143669  0.03590691]\n",
      "Current column: [ 0.02543542 -0.03744847  0.03215592  0.03215592 -0.03487306]\n",
      "Current column: [-0.04860786  0.04946844 -0.04944665 -0.04944665  0.00515183]\n",
      "Current column: [-0.03673366 -0.0041815  -0.01991327 -0.01991327 -0.04022937]\n",
      "Current column: [-0.01704457  0.0431186  -0.01345753 -0.01345753 -0.01694779]\n"
     ]
    }
   ],
   "execution_count": 123
  },
  {
   "metadata": {
    "ExecuteTime": {
     "end_time": "2024-10-22T13:45:22.161937Z",
     "start_time": "2024-10-22T13:45:22.157783Z"
    }
   },
   "cell_type": "code",
   "source": "total_sum",
   "id": "2f72502ffebabb2e",
   "outputs": [
    {
     "data": {
      "text/plain": [
       "[tensor(0.0004),\n",
       " tensor(-0.0013),\n",
       " tensor(0.0021),\n",
       " tensor(0.0009),\n",
       " tensor(0.0007)]"
      ]
     },
     "execution_count": 127,
     "metadata": {},
     "output_type": "execute_result"
    }
   ],
   "execution_count": 127
  },
  {
   "metadata": {},
   "cell_type": "markdown",
   "source": "# Max Margin Layer",
   "id": "ece4aacf03d5d35f"
  },
  {
   "metadata": {
    "ExecuteTime": {
     "end_time": "2024-10-22T15:07:20.878757Z",
     "start_time": "2024-10-22T15:07:20.874519Z"
    }
   },
   "cell_type": "code",
   "source": [
    "\n",
    "class MaxMargin(keras.layers.Layer):\n",
    "    def __init__(self, **kwargs):\n",
    "        super(MaxMargin, self).__init__(**kwargs)\n",
    "        self.supports_masking = True\n",
    "\n",
    "    def call(self, input_tensor, mask=None):\n",
    "        z_s = input_tensor[0]\n",
    "        z_n = input_tensor[1]\n",
    "        r_s = input_tensor[2]\n",
    "\n",
    "        z_s = z_s / keras.ops.cast(keras.backend.epsilon() + keras.ops.sqrt(\n",
    "            keras.ops.sum(keras.ops.square(z_s), axis=-1, keepdims=True)), keras.backend.floatx())\n",
    "        z_n = z_n / keras.ops.cast(keras.backend.epsilon() + keras.ops.sqrt(\n",
    "            keras.ops.sum(keras.ops.square(z_n), axis=-1, keepdims=True)), keras.backend.floatx())\n",
    "        r_s = r_s / keras.ops.cast(keras.backend.epsilon() + keras.ops.sqrt(\n",
    "            keras.ops.sum(keras.ops.square(r_s), axis=-1, keepdims=True)), keras.backend.floatx())\n",
    "\n",
    "        steps = z_n.shape[1]\n",
    "\n",
    "        pos = keras.ops.sum(z_s * r_s, axis=-1, keepdims=True)\n",
    "        pos = keras.ops.repeat(pos, steps, axis=-1)\n",
    "        r_s = keras.ops.expand_dims(r_s, axis=-2)\n",
    "        r_s = keras.ops.repeat(r_s, steps, axis=1)\n",
    "        neg = keras.ops.sum(z_n * r_s, axis=-1)\n",
    "\n",
    "        loss = keras.ops.cast(keras.ops.sum(keras.ops.maximum(0, (1. - pos + neg)), axis=-1, keepdims=True), keras.backend.floatx())\n",
    "        return loss"
   ],
   "id": "dc49bd51845aebdb",
   "outputs": [],
   "execution_count": 32
  },
  {
   "metadata": {},
   "cell_type": "markdown",
   "source": "",
   "id": "899fc8cab8b298c8"
  },
  {
   "metadata": {
    "ExecuteTime": {
     "end_time": "2024-10-22T15:07:21.740493Z",
     "start_time": "2024-10-22T15:07:21.737868Z"
    }
   },
   "cell_type": "code",
   "source": "# todo: Now test this converted function",
   "id": "72006240c01ae964",
   "outputs": [],
   "execution_count": 33
  },
  {
   "metadata": {
    "ExecuteTime": {
     "end_time": "2024-10-22T15:07:22.053868Z",
     "start_time": "2024-10-22T15:07:22.050885Z"
    }
   },
   "cell_type": "code",
   "source": [
    "z_s = torch.tensor([[3, 4, 5, 6, 7]])\n",
    "z_n = torch.tensor([[1, 2, 2, 4, 3]])\n",
    "r_s = torch.tensor([[3, 0, 1, 1, 1]])"
   ],
   "id": "e16f9f50b414e70c",
   "outputs": [],
   "execution_count": 34
  },
  {
   "metadata": {
    "ExecuteTime": {
     "end_time": "2024-10-22T15:07:22.798325Z",
     "start_time": "2024-10-22T15:07:22.794752Z"
    }
   },
   "cell_type": "code",
   "source": "max_margin = MaxMargin()([z_s, z_n, r_s])",
   "id": "7de2fe84a947c5bc",
   "outputs": [],
   "execution_count": 35
  },
  {
   "metadata": {
    "ExecuteTime": {
     "end_time": "2024-10-22T15:07:23.440136Z",
     "start_time": "2024-10-22T15:07:23.437098Z"
    }
   },
   "cell_type": "code",
   "source": "max_margin",
   "id": "9363db2f1c3d3179",
   "outputs": [
    {
     "data": {
      "text/plain": [
       "tensor([[4.6163]])"
      ]
     },
     "execution_count": 36,
     "metadata": {},
     "output_type": "execute_result"
    }
   ],
   "execution_count": 36
  },
  {
   "metadata": {},
   "cell_type": "code",
   "outputs": [],
   "execution_count": null,
   "source": "",
   "id": "e83ddc3d33284ae2"
  }
 ],
 "metadata": {
  "kernelspec": {
   "display_name": "Python 3",
   "language": "python",
   "name": "python3"
  },
  "language_info": {
   "codemirror_mode": {
    "name": "ipython",
    "version": 2
   },
   "file_extension": ".py",
   "mimetype": "text/x-python",
   "name": "python",
   "nbconvert_exporter": "python",
   "pygments_lexer": "ipython2",
   "version": "2.7.6"
  }
 },
 "nbformat": 4,
 "nbformat_minor": 5
}

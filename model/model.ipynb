{
 "cells": [
  {
   "metadata": {
    "ExecuteTime": {
     "end_time": "2024-11-13T16:08:05.053920Z",
     "start_time": "2024-11-13T16:08:05.051880Z"
    }
   },
   "cell_type": "code",
   "source": [
    "import os\n",
    "\n",
    "os.environ['KERAS_BACKEND'] = \"torch\""
   ],
   "id": "40757908fc8c86f8",
   "outputs": [],
   "execution_count": 1
  },
  {
   "metadata": {},
   "cell_type": "markdown",
   "source": [
    "## Regularization\n",
    ">We hope to learn vector representations of the most representative aspects for a review dataset.\n",
    "However, the aspect embedding matrix T may suffer from redundancy problems during training. [...] \n",
    "> The regularization term encourages orthogonality among the rows of the aspect embedding matrix T and penalizes redundancy between different aspect vectors\n",
    "> ~ Ruidan\n",
    "\n",
    "We use an Orthogonal Regulizer definition of the method can be found here: https://paperswithcode.com/method/orthogonal-regularization. <br/>\n",
    "For the code we use the default implementation provided by Keras (https://keras.io/api/layers/regularizers/)"
   ],
   "id": "a67bb8c9beca9d72"
  },
  {
   "metadata": {
    "ExecuteTime": {
     "end_time": "2024-11-13T16:08:06.761366Z",
     "start_time": "2024-11-13T16:08:05.092933Z"
    }
   },
   "cell_type": "code",
   "source": [
    "from keras import ops as K\n",
    "from keras import backend as B\n",
    "\n",
    "\n",
    "def ortho_reg(W):\n",
    "    ### Orthogonal regularization for aspect embedding matrix by Ruidan     ###\n",
    "    w_n = W / K.cast(B.epsilon() + K.sqrt(K.sum(K.square(W), axis=-1, keepdims=True)), B.floatx())\n",
    "    # sum(w_n * w_n_t - I) * factor\n",
    "    return K.sum(K.square(K.dot(w_n, K.transpose(w_n)) - K.eye(w_n.shape[0])))"
   ],
   "id": "737f112c30776188",
   "outputs": [
    {
     "name": "stderr",
     "output_type": "stream",
     "text": [
      "/home/jacopo/PycharmProjects/nlp-course-project/venv/lib/python3.12/site-packages/torch/cuda/__init__.py:128: UserWarning: CUDA initialization: CUDA unknown error - this may be due to an incorrectly set up environment, e.g. changing env variable CUDA_VISIBLE_DEVICES after program start. Setting the available devices to be zero. (Triggered internally at ../c10/cuda/CUDAFunctions.cpp:108.)\n",
      "  return torch._C._cuda_getDeviceCount() > 0\n"
     ]
    }
   ],
   "execution_count": 2
  },
  {
   "metadata": {},
   "cell_type": "markdown",
   "source": "",
   "id": "4910a79bdbc2a717"
  },
  {
   "metadata": {
    "ExecuteTime": {
     "end_time": "2024-11-13T16:08:06.763862Z",
     "start_time": "2024-11-13T16:08:06.762131Z"
    }
   },
   "cell_type": "code",
   "source": "# TODO: Sarebbe da vedere come l'implementazione di Ruidan sia diversa da quella di Keras. Se effettivamente questa importa. A guardare i numeri sono effettivamente diversi!",
   "id": "62ccfe3be9499ddc",
   "outputs": [],
   "execution_count": 3
  },
  {
   "metadata": {
    "ExecuteTime": {
     "end_time": "2024-11-13T16:08:06.765951Z",
     "start_time": "2024-11-13T16:08:06.764420Z"
    }
   },
   "cell_type": "code",
   "source": [
    "corpus_file = \"./../data/corpus.preprocessed.csv\"  # It's this\n",
    "# TODO GET MAXLEN FROM EMBEDDINGS DATASET (Which is input shape)\n",
    "input_shape = (64, 1017)"
   ],
   "id": "d70b9004cc53f3fc",
   "outputs": [],
   "execution_count": 4
  },
  {
   "metadata": {},
   "cell_type": "markdown",
   "source": "## Model Setup",
   "id": "52d8be30943c43e0"
  },
  {
   "metadata": {
    "ExecuteTime": {
     "end_time": "2024-11-13T16:08:08.002886Z",
     "start_time": "2024-11-13T16:08:06.766713Z"
    }
   },
   "cell_type": "code",
   "source": [
    "import model.embeddings as embeddings\n",
    "\n",
    "embeddings_model = embeddings.WordEmbedding(\n",
    "    embeddings.LoadCorpusUtility(), max_vocab_size=10000, embedding_size=128,\n",
    "    target_model_file=\"./../data/word-embeddings.model\", corpus_file=corpus_file\n",
    ")\n",
    "aspect_embeddings_model = embeddings.AspectEmbedding(\n",
    "    aspect_size=4, embedding_size=128, base_embeddings=embeddings_model,\n",
    "    target_model_file=\"./../data/aspects-embedding.model\"\n",
    ")"
   ],
   "id": "eb3470aaa495a5cd",
   "outputs": [],
   "execution_count": 5
  },
  {
   "metadata": {
    "ExecuteTime": {
     "end_time": "2024-11-13T16:08:08.025983Z",
     "start_time": "2024-11-13T16:08:08.003531Z"
    }
   },
   "cell_type": "code",
   "source": [
    "embeddings_model.load_model()\n",
    "aspect_embeddings_model.load_model()"
   ],
   "id": "bfe27fa3b412d9ed",
   "outputs": [],
   "execution_count": 6
  },
  {
   "metadata": {
    "ExecuteTime": {
     "end_time": "2024-11-13T16:08:08.048352Z",
     "start_time": "2024-11-13T16:08:08.026574Z"
    }
   },
   "cell_type": "code",
   "source": [
    "from model.model import ABAEModelGenerator\n",
    "\n",
    "generator = ABAEModelGenerator(input_shape, 1017, 10, embeddings_model, aspect_embeddings_model)\n",
    "model = generator.make_model()"
   ],
   "id": "ea223a0ab512537",
   "outputs": [
    {
     "name": "stderr",
     "output_type": "stream",
     "text": [
      "/home/jacopo/PycharmProjects/nlp-course-project/venv/lib/python3.12/site-packages/keras/src/layers/layer.py:932: UserWarning: Layer 'embedding' (of type Embedding) was passed an input with a mask attached to it. However, this layer does not support masking and will therefore destroy the mask information. Downstream layers will not see the mask.\n",
      "  warnings.warn(\n"
     ]
    }
   ],
   "execution_count": 7
  },
  {
   "metadata": {},
   "cell_type": "markdown",
   "source": "",
   "id": "65d6492c659ce55c"
  },
  {
   "metadata": {},
   "cell_type": "markdown",
   "source": "#### Load the data",
   "id": "89216349e5c6f335"
  },
  {
   "metadata": {
    "ExecuteTime": {
     "end_time": "2024-11-13T16:08:10.672126Z",
     "start_time": "2024-11-13T16:08:08.049064Z"
    }
   },
   "cell_type": "code",
   "source": [
    "import dataset\n",
    "from torch.utils.data import DataLoader\n",
    "\n",
    "vocabulary = embeddings_model.model.wv.key_to_index\n",
    "train = dataset.PositiveNegativeCommentGeneratorDataset(\n",
    "    vocabulary=vocabulary, csv_dataset_path=corpus_file, negative_size=10\n",
    ")\n",
    "# I have no idea why I have to collate.\n",
    "train_dataloader = DataLoader(train, batch_size=64, shuffle=True)"
   ],
   "id": "58801e13d855b211",
   "outputs": [
    {
     "data": {
      "text/plain": [
       "Pandas Apply:   0%|          | 0/1000 [00:00<?, ?it/s]"
      ],
      "application/vnd.jupyter.widget-view+json": {
       "version_major": 2,
       "version_minor": 0,
       "model_id": "1bfba59ecbee48cd9b4947ad97f78310"
      }
     },
     "metadata": {},
     "output_type": "display_data"
    }
   ],
   "execution_count": 8
  },
  {
   "metadata": {},
   "cell_type": "markdown",
   "source": "## Train",
   "id": "3adc8a873389afd6"
  },
  {
   "metadata": {
    "ExecuteTime": {
     "end_time": "2024-11-13T16:08:10.674883Z",
     "start_time": "2024-11-13T16:08:10.672806Z"
    }
   },
   "cell_type": "code",
   "source": [
    "from keras import ops as K\n",
    "\n",
    "\n",
    "def max_margin_loss(y_true, y_pred):\n",
    "    return K.mean(y_pred)"
   ],
   "id": "a68c3c29b7d96160",
   "outputs": [],
   "execution_count": 9
  },
  {
   "metadata": {
    "ExecuteTime": {
     "end_time": "2024-11-13T16:08:10.994134Z",
     "start_time": "2024-11-13T16:08:10.675478Z"
    }
   },
   "cell_type": "code",
   "source": [
    "model.compile(optimizer='SGD', loss=max_margin_loss, metrics=[max_margin_loss])\n",
    "model.fit(x=train_dataloader, batch_size=64, epochs=5)"
   ],
   "id": "a5786a02b4f9821",
   "outputs": [
    {
     "name": "stderr",
     "output_type": "stream",
     "text": [
      "/home/jacopo/PycharmProjects/nlp-course-project/venv/lib/python3.12/site-packages/keras/src/layers/layer.py:932: UserWarning: Layer 'query' (of type EinsumDense) was passed an input with a mask attached to it. However, this layer does not support masking and will therefore destroy the mask information. Downstream layers will not see the mask.\n",
      "  warnings.warn(\n",
      "/home/jacopo/PycharmProjects/nlp-course-project/venv/lib/python3.12/site-packages/keras/src/layers/layer.py:932: UserWarning: Layer 'key' (of type EinsumDense) was passed an input with a mask attached to it. However, this layer does not support masking and will therefore destroy the mask information. Downstream layers will not see the mask.\n",
      "  warnings.warn(\n",
      "/home/jacopo/PycharmProjects/nlp-course-project/venv/lib/python3.12/site-packages/keras/src/layers/layer.py:932: UserWarning: Layer 'value' (of type EinsumDense) was passed an input with a mask attached to it. However, this layer does not support masking and will therefore destroy the mask information. Downstream layers will not see the mask.\n",
      "  warnings.warn(\n"
     ]
    },
    {
     "ename": "RuntimeError",
     "evalue": "Unable to automatically build the model. Please build it yourself before calling fit/evaluate/predict. A model is 'built' when its variables have been created and its `self.built` attribute is True. Usually, calling the model on a batch of data is the right way to build it.\nException encountered:\n'Exception encountered when calling MultiHeadAttention.call().\n\n\u001B[1meinsum(): the number of subscripts in the equation (4) does not match the number of dimensions (3) for operand 1 and no ellipsis was given\u001B[0m\n\nArguments received by MultiHeadAttention.call():\n  • query=torch.Tensor(shape=torch.Size([64, 128]), dtype=float32)\n  • value=torch.Tensor(shape=torch.Size([64, 1017, 128]), dtype=float32)\n  • key=torch.Tensor(shape=torch.Size([64, 1017, 128]), dtype=float32)\n  • query_mask=torch.Tensor(shape=torch.Size([64, 1017]), dtype=bool)\n  • value_mask=torch.Tensor(shape=torch.Size([64, 1017]), dtype=bool)\n  • key_mask=torch.Tensor(shape=torch.Size([64, 1017]), dtype=bool)\n  • attention_mask=None\n  • return_attention_scores=False\n  • training=False\n  • use_causal_mask=False'",
     "output_type": "error",
     "traceback": [
      "\u001B[0;31m---------------------------------------------------------------------------\u001B[0m",
      "\u001B[0;31mRuntimeError\u001B[0m                              Traceback (most recent call last)",
      "Cell \u001B[0;32mIn[10], line 2\u001B[0m\n\u001B[1;32m      1\u001B[0m model\u001B[38;5;241m.\u001B[39mcompile(optimizer\u001B[38;5;241m=\u001B[39m\u001B[38;5;124m'\u001B[39m\u001B[38;5;124mSGD\u001B[39m\u001B[38;5;124m'\u001B[39m, loss\u001B[38;5;241m=\u001B[39mmax_margin_loss, metrics\u001B[38;5;241m=\u001B[39m[max_margin_loss])\n\u001B[0;32m----> 2\u001B[0m \u001B[43mmodel\u001B[49m\u001B[38;5;241;43m.\u001B[39;49m\u001B[43mfit\u001B[49m\u001B[43m(\u001B[49m\u001B[43mx\u001B[49m\u001B[38;5;241;43m=\u001B[39;49m\u001B[43mtrain_dataloader\u001B[49m\u001B[43m,\u001B[49m\u001B[43m \u001B[49m\u001B[43mbatch_size\u001B[49m\u001B[38;5;241;43m=\u001B[39;49m\u001B[38;5;241;43m64\u001B[39;49m\u001B[43m,\u001B[49m\u001B[43m \u001B[49m\u001B[43mepochs\u001B[49m\u001B[38;5;241;43m=\u001B[39;49m\u001B[38;5;241;43m5\u001B[39;49m\u001B[43m)\u001B[49m\n",
      "File \u001B[0;32m~/PycharmProjects/nlp-course-project/venv/lib/python3.12/site-packages/keras/src/utils/traceback_utils.py:122\u001B[0m, in \u001B[0;36mfilter_traceback.<locals>.error_handler\u001B[0;34m(*args, **kwargs)\u001B[0m\n\u001B[1;32m    119\u001B[0m     filtered_tb \u001B[38;5;241m=\u001B[39m _process_traceback_frames(e\u001B[38;5;241m.\u001B[39m__traceback__)\n\u001B[1;32m    120\u001B[0m     \u001B[38;5;66;03m# To get the full stack trace, call:\u001B[39;00m\n\u001B[1;32m    121\u001B[0m     \u001B[38;5;66;03m# `keras.config.disable_traceback_filtering()`\u001B[39;00m\n\u001B[0;32m--> 122\u001B[0m     \u001B[38;5;28;01mraise\u001B[39;00m e\u001B[38;5;241m.\u001B[39mwith_traceback(filtered_tb) \u001B[38;5;28;01mfrom\u001B[39;00m \u001B[38;5;28;01mNone\u001B[39;00m\n\u001B[1;32m    123\u001B[0m \u001B[38;5;28;01mfinally\u001B[39;00m:\n\u001B[1;32m    124\u001B[0m     \u001B[38;5;28;01mdel\u001B[39;00m filtered_tb\n",
      "File \u001B[0;32m~/PycharmProjects/nlp-course-project/venv/lib/python3.12/site-packages/keras/src/trainers/trainer.py:1079\u001B[0m, in \u001B[0;36mTrainer._symbolic_build\u001B[0;34m(self, iterator, data_batch)\u001B[0m\n\u001B[1;32m   1077\u001B[0m     y_pred \u001B[38;5;241m=\u001B[39m backend\u001B[38;5;241m.\u001B[39mcompute_output_spec(\u001B[38;5;28mself\u001B[39m, x, training\u001B[38;5;241m=\u001B[39m\u001B[38;5;28;01mFalse\u001B[39;00m)\n\u001B[1;32m   1078\u001B[0m \u001B[38;5;28;01mexcept\u001B[39;00m \u001B[38;5;167;01mException\u001B[39;00m \u001B[38;5;28;01mas\u001B[39;00m e:\n\u001B[0;32m-> 1079\u001B[0m     \u001B[38;5;28;01mraise\u001B[39;00m \u001B[38;5;167;01mRuntimeError\u001B[39;00m(\n\u001B[1;32m   1080\u001B[0m         \u001B[38;5;124m\"\u001B[39m\u001B[38;5;124mUnable to automatically build the model. \u001B[39m\u001B[38;5;124m\"\u001B[39m\n\u001B[1;32m   1081\u001B[0m         \u001B[38;5;124m\"\u001B[39m\u001B[38;5;124mPlease build it yourself before calling \u001B[39m\u001B[38;5;124m\"\u001B[39m\n\u001B[1;32m   1082\u001B[0m         \u001B[38;5;124m\"\u001B[39m\u001B[38;5;124mfit/evaluate/predict. \u001B[39m\u001B[38;5;124m\"\u001B[39m\n\u001B[1;32m   1083\u001B[0m         \u001B[38;5;124m\"\u001B[39m\u001B[38;5;124mA model is \u001B[39m\u001B[38;5;124m'\u001B[39m\u001B[38;5;124mbuilt\u001B[39m\u001B[38;5;124m'\u001B[39m\u001B[38;5;124m when its variables have \u001B[39m\u001B[38;5;124m\"\u001B[39m\n\u001B[1;32m   1084\u001B[0m         \u001B[38;5;124m\"\u001B[39m\u001B[38;5;124mbeen created and its `self.built` attribute \u001B[39m\u001B[38;5;124m\"\u001B[39m\n\u001B[1;32m   1085\u001B[0m         \u001B[38;5;124m\"\u001B[39m\u001B[38;5;124mis True. Usually, calling the model on a batch \u001B[39m\u001B[38;5;124m\"\u001B[39m\n\u001B[1;32m   1086\u001B[0m         \u001B[38;5;124m\"\u001B[39m\u001B[38;5;124mof data is the right way to build it.\u001B[39m\u001B[38;5;130;01m\\n\u001B[39;00m\u001B[38;5;124m\"\u001B[39m\n\u001B[1;32m   1087\u001B[0m         \u001B[38;5;124m\"\u001B[39m\u001B[38;5;124mException encountered:\u001B[39m\u001B[38;5;130;01m\\n\u001B[39;00m\u001B[38;5;124m\"\u001B[39m\n\u001B[1;32m   1088\u001B[0m         \u001B[38;5;124mf\u001B[39m\u001B[38;5;124m\"\u001B[39m\u001B[38;5;124m'\u001B[39m\u001B[38;5;132;01m{\u001B[39;00me\u001B[38;5;132;01m}\u001B[39;00m\u001B[38;5;124m'\u001B[39m\u001B[38;5;124m\"\u001B[39m\n\u001B[1;32m   1089\u001B[0m     )\n\u001B[1;32m   1090\u001B[0m \u001B[38;5;28;01mif\u001B[39;00m compile_metrics_unbuilt:\n\u001B[1;32m   1091\u001B[0m     \u001B[38;5;66;03m# Build all metric state with `backend.compute_output_spec`.\u001B[39;00m\n\u001B[1;32m   1092\u001B[0m     backend\u001B[38;5;241m.\u001B[39mcompute_output_spec(\n\u001B[1;32m   1093\u001B[0m         \u001B[38;5;28mself\u001B[39m\u001B[38;5;241m.\u001B[39mcompute_metrics,\n\u001B[1;32m   1094\u001B[0m         x,\n\u001B[0;32m   (...)\u001B[0m\n\u001B[1;32m   1097\u001B[0m         sample_weight\u001B[38;5;241m=\u001B[39msample_weight,\n\u001B[1;32m   1098\u001B[0m     )\n",
      "\u001B[0;31mRuntimeError\u001B[0m: Unable to automatically build the model. Please build it yourself before calling fit/evaluate/predict. A model is 'built' when its variables have been created and its `self.built` attribute is True. Usually, calling the model on a batch of data is the right way to build it.\nException encountered:\n'Exception encountered when calling MultiHeadAttention.call().\n\n\u001B[1meinsum(): the number of subscripts in the equation (4) does not match the number of dimensions (3) for operand 1 and no ellipsis was given\u001B[0m\n\nArguments received by MultiHeadAttention.call():\n  • query=torch.Tensor(shape=torch.Size([64, 128]), dtype=float32)\n  • value=torch.Tensor(shape=torch.Size([64, 1017, 128]), dtype=float32)\n  • key=torch.Tensor(shape=torch.Size([64, 1017, 128]), dtype=float32)\n  • query_mask=torch.Tensor(shape=torch.Size([64, 1017]), dtype=bool)\n  • value_mask=torch.Tensor(shape=torch.Size([64, 1017]), dtype=bool)\n  • key_mask=torch.Tensor(shape=torch.Size([64, 1017]), dtype=bool)\n  • attention_mask=None\n  • return_attention_scores=False\n  • training=False\n  • use_causal_mask=False'"
     ]
    }
   ],
   "execution_count": 10
  },
  {
   "metadata": {},
   "cell_type": "code",
   "source": "p = next(iter(train_dataloader))",
   "id": "18e536149e0b6202",
   "outputs": [],
   "execution_count": null
  },
  {
   "metadata": {},
   "cell_type": "code",
   "source": "len(p)",
   "id": "60b30a6fa04fed73",
   "outputs": [],
   "execution_count": null
  },
  {
   "metadata": {},
   "cell_type": "code",
   "source": [
    "print(p[0].shape)\n",
    "print(p[1].shape)"
   ],
   "id": "86b54ee416b20d2d",
   "outputs": [],
   "execution_count": null
  },
  {
   "metadata": {},
   "cell_type": "code",
   "source": [
    "import numpy as np\n",
    "\n",
    "np.array(p).shape"
   ],
   "id": "1232b65b0a6dd736",
   "outputs": [],
   "execution_count": null
  },
  {
   "metadata": {},
   "cell_type": "code",
   "source": "type(s)",
   "id": "e71c1be58370a4aa",
   "outputs": [],
   "execution_count": null
  },
  {
   "metadata": {},
   "cell_type": "code",
   "source": "s",
   "id": "1a0178e9e3887ad2",
   "outputs": [],
   "execution_count": null
  },
  {
   "metadata": {},
   "cell_type": "code",
   "source": "s.dtype =",
   "id": "f9c5f5a79387e6b6",
   "outputs": [],
   "execution_count": null
  },
  {
   "metadata": {},
   "cell_type": "code",
   "source": [
    "import numpy as np\n",
    "\n",
    "for l in s:\n",
    "    l = np.array(l)"
   ],
   "id": "4a459b2c50e05486",
   "outputs": [],
   "execution_count": null
  },
  {
   "metadata": {},
   "cell_type": "code",
   "source": "l = np.stack(s)",
   "id": "1b07f20f3a3116ec",
   "outputs": [],
   "execution_count": null
  },
  {
   "metadata": {},
   "cell_type": "code",
   "source": "l.shape",
   "id": "4073379b478483b0",
   "outputs": [],
   "execution_count": null
  },
  {
   "metadata": {},
   "cell_type": "code",
   "source": "q.shape",
   "id": "82cc801813a5c920",
   "outputs": [],
   "execution_count": null
  },
  {
   "metadata": {},
   "cell_type": "code",
   "source": "",
   "id": "6a33a39fd6c77ad8",
   "outputs": [],
   "execution_count": null
  }
 ],
 "metadata": {
  "kernelspec": {
   "display_name": "Python 3",
   "language": "python",
   "name": "python3"
  },
  "language_info": {
   "codemirror_mode": {
    "name": "ipython",
    "version": 2
   },
   "file_extension": ".py",
   "mimetype": "text/x-python",
   "name": "python",
   "nbconvert_exporter": "python",
   "pygments_lexer": "ipython2",
   "version": "2.7.6"
  }
 },
 "nbformat": 4,
 "nbformat_minor": 5
}

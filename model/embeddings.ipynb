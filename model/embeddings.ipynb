{
 "cells": [
  {
   "metadata": {
    "ExecuteTime": {
     "end_time": "2024-10-24T16:09:47.817582Z",
     "start_time": "2024-10-24T16:09:47.815304Z"
    }
   },
   "cell_type": "code",
   "source": [
    "import os\n",
    "\n",
    "os.environ['KERAS_BACKEND'] = \"torch\""
   ],
   "id": "448c9236eeb58cd9",
   "outputs": [],
   "execution_count": 1
  },
  {
   "metadata": {
    "ExecuteTime": {
     "end_time": "2024-10-24T16:09:51.422300Z",
     "start_time": "2024-10-24T16:09:48.518778Z"
    }
   },
   "cell_type": "code",
   "source": [
    "import embeddings\n",
    "import keras\n",
    "\n",
    "\n",
    "target_file = \"./../data/embeddings-target.o\"\n",
    "corpus_file = \"./../data/corpus.preprocessed.csv\""
   ],
   "id": "49ef8c8f39954eee",
   "outputs": [],
   "execution_count": 2
  },
  {
   "metadata": {},
   "cell_type": "markdown",
   "source": "",
   "id": "9774141cd3e72f8b"
  },
  {
   "metadata": {},
   "cell_type": "markdown",
   "source": "# Gensim Word2Vec",
   "id": "c8451a02b548564e"
  },
  {
   "metadata": {},
   "cell_type": "code",
   "source": [
    "\n",
    "# TODO: Correctly parametrize: STUDY THE BEST PARAMETERS?\n",
    "emb_model = embeddings.WordEmbedding(7200, 128, target_file=target_file, corpus_file=corpus_file)\n",
    "emb_model.load_model()"
   ],
   "id": "initial_id",
   "outputs": [],
   "execution_count": null
  },
  {
   "metadata": {},
   "cell_type": "code",
   "source": "emb_model.model.wv.most_similar(\"agency\")",
   "id": "682b67f574e46c7a",
   "outputs": [],
   "execution_count": null
  },
  {
   "metadata": {},
   "cell_type": "code",
   "source": "print(f\"We have a total of words: {len(emb_model.model.wv.key_to_index)}\")",
   "id": "33f01282f3abdeb6",
   "outputs": [],
   "execution_count": null
  },
  {
   "metadata": {},
   "cell_type": "code",
   "source": "# TODO: Should I also filter out the names of the games? Do I loose on value if I keep them?",
   "id": "3c09a610491f6428",
   "outputs": [],
   "execution_count": null
  },
  {
   "metadata": {},
   "cell_type": "markdown",
   "source": "# My Word2Vec Implementation",
   "id": "910aa77d32565eee"
  },
  {
   "metadata": {},
   "cell_type": "code",
   "source": "my_word2vec = embeddings.MyWord2Vec(25000, 128, \"\")",
   "id": "ca5580db9a5a2ca1",
   "outputs": [],
   "execution_count": null
  },
  {
   "metadata": {
    "jupyter": {
     "is_executing": true
    },
    "ExecuteTime": {
     "start_time": "2024-10-24T16:09:54.833888Z"
    }
   },
   "cell_type": "code",
   "source": [
    "import dataset\n",
    "from torch.utils.data import DataLoader\n",
    "\n",
    "ds = dataset.CommentDataset(corpus_file)\n",
    "\n",
    "training_dataloader = DataLoader(ds, batch_size=32, shuffle=True, collate_fn=lambda x: x)\n",
    "# TODO: Convert to numbers (indices of a vocabulary) as model doesnt do that by itself\n",
    "my_word2vec.compile(optimizer=\"SGD\", loss=\"categorical_crossentropy\", metrics=[\"acc\"])\n",
    "my_word2vec.fit(training_dataloader, epochs=10)"
   ],
   "id": "5c67ca49134e2384",
   "outputs": [
    {
     "data": {
      "text/plain": [
       "Pandas Apply:   0%|          | 0/1939904 [00:00<?, ?it/s]"
      ],
      "application/vnd.jupyter.widget-view+json": {
       "version_major": 2,
       "version_minor": 0,
       "model_id": "60bb78b335ee45f9b7696b0b33f611a5"
      }
     },
     "metadata": {},
     "output_type": "display_data"
    }
   ],
   "execution_count": null
  },
  {
   "metadata": {
    "ExecuteTime": {
     "end_time": "2024-10-24T15:36:31.311477Z",
     "start_time": "2024-10-24T15:36:31.295776Z"
    }
   },
   "cell_type": "code",
   "source": "ds.dataset.itertuples()",
   "id": "43e52beeb273f413",
   "outputs": [
    {
     "ename": "NameError",
     "evalue": "name 'ds' is not defined",
     "output_type": "error",
     "traceback": [
      "\u001B[0;31m---------------------------------------------------------------------------\u001B[0m",
      "\u001B[0;31mNameError\u001B[0m                                 Traceback (most recent call last)",
      "Cell \u001B[0;32mIn[7], line 1\u001B[0m\n\u001B[0;32m----> 1\u001B[0m \u001B[43mds\u001B[49m\u001B[38;5;241m.\u001B[39mdataset\u001B[38;5;241m.\u001B[39mitertuples()\n",
      "\u001B[0;31mNameError\u001B[0m: name 'ds' is not defined"
     ]
    }
   ],
   "execution_count": 7
  },
  {
   "metadata": {},
   "cell_type": "code",
   "outputs": [],
   "execution_count": null,
   "source": "",
   "id": "18338693f5d6b73e"
  }
 ],
 "metadata": {
  "kernelspec": {
   "display_name": "Python 3",
   "language": "python",
   "name": "python3"
  },
  "language_info": {
   "codemirror_mode": {
    "name": "ipython",
    "version": 2
   },
   "file_extension": ".py",
   "mimetype": "text/x-python",
   "name": "python",
   "nbconvert_exporter": "python",
   "pygments_lexer": "ipython2",
   "version": "2.7.6"
  }
 },
 "nbformat": 4,
 "nbformat_minor": 5
}

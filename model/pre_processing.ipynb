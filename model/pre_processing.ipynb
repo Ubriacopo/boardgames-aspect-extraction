{
 "cells": [
  {
   "metadata": {
    "ExecuteTime": {
     "end_time": "2024-10-24T16:01:36.153014Z",
     "start_time": "2024-10-24T16:01:36.150745Z"
    }
   },
   "cell_type": "code",
   "source": [
    "import os\n",
    "\n",
    "os.environ['KERAS_BACKEND'] = \"torch\""
   ],
   "id": "9c69eb3493ffeb29",
   "outputs": [],
   "execution_count": 1
  },
  {
   "metadata": {},
   "cell_type": "markdown",
   "source": [
    "# Pre-processing\n",
    "## Reasons\n",
    "The downloaded information from the BGG API might not be informative, faulty or bloated with useless information. <br>\n",
    "In order to avoid this we apply some pre-processing steps in order to filter out information we don't need, that may be entire records or some of the \n",
    "text inside a line.\n",
    "\n",
    "During the process we already make the tokenization and stemming of the text using the ```nltk``` toolkit.\n",
    "\n",
    "## Method \n",
    "\n"
   ],
   "id": "27c57be5904724c1"
  },
  {
   "cell_type": "code",
   "execution_count": null,
   "id": "initial_id",
   "metadata": {
    "collapsed": true
   },
   "outputs": [],
   "source": [
    "import pandas\n",
    "\n",
    "from pre_processing import pre_process_corpus\n",
    "\n",
    "pre_process_corpus()"
   ]
  },
  {
   "metadata": {},
   "cell_type": "markdown",
   "source": "Temporary fix for not filtering out None and punctuation (As for current version the pre_processing already does what we expect)",
   "id": "694d128d89fa9b7b"
  },
  {
   "metadata": {
    "jupyter": {
     "is_executing": true
    },
    "ExecuteTime": {
     "start_time": "2024-10-24T16:01:38.455286Z"
    }
   },
   "cell_type": "code",
   "source": [
    "import swifter\n",
    "import spacy\n",
    "import pandas as pd\n",
    "\n",
    "nlp = spacy.blank(\"en\")\n",
    "\n",
    "og_csv = pd.read_csv(\"./../data/corpus.preprocessed.og.csv\", names=[\"comments\"]).dropna()\n",
    "fixed_csv = (og_csv[\"comments\"].swifter.apply(lambda x: nlp(x)))\n",
    "fixed_csv = fixed_csv.apply(lambda x: \" \".join(list(\n",
    "    # We remove None, currencies and punctuation.\n",
    "    filter(lambda e: e is not None,\n",
    "           # I remove the punctuation, the currency and the whitespaces todo da implementare anche in preprocessor\n",
    "           [i.text.strip() if not i.text.strip() == \"\" and not i.is_punct and not i.is_currency else None for i in x]\n",
    "           ))\n",
    "))\n",
    "empty_rows = fixed_csv[fixed_csv == \"\"]\n",
    "fixed_csv.drop(empty_rows.index, inplace=True)\n",
    "fixed_csv = fixed_csv.dropna()"
   ],
   "id": "d5f1d4033b7f8e3f",
   "outputs": [
    {
     "data": {
      "text/plain": [
       "Pandas Apply:   0%|          | 0/1940304 [00:00<?, ?it/s]"
      ],
      "application/vnd.jupyter.widget-view+json": {
       "version_major": 2,
       "version_minor": 0,
       "model_id": "36f60419c24945a790b8575844a8ccbe"
      }
     },
     "metadata": {},
     "output_type": "display_data"
    }
   ],
   "execution_count": null
  },
  {
   "metadata": {
    "ExecuteTime": {
     "end_time": "2024-10-23T14:18:21.489649Z",
     "start_time": "2024-10-23T14:18:21.486563Z"
    }
   },
   "cell_type": "code",
   "source": "fixed_csv",
   "id": "f2b0e02a9a97d072",
   "outputs": [
    {
     "data": {
      "text/plain": [
       "0                                              comments\n",
       "1     sleeved[img]https://cf.geekdo static.com mbs m...\n",
       "2     great game controllo strategy constant adjustm...\n",
       "3     clever game enjoyable overall    plus point gr...\n",
       "4     brilliant    fit right wheelhouse game weight ...\n",
       "5     absolutely brilliant    play original brass ne...\n",
       "6     prefer old school brass aoi like dumb foreign ...\n",
       "7     game interesting learn metagame terrible demon...\n",
       "8                                      worker placememt\n",
       "9                                      w/ wooden insert\n",
       "11    near perfect board game    rule relatively sim...\n",
       "12    excellent highly interactive game probably goo...\n",
       "13    great game great material think delux maybe ra...\n",
       "14    heretical opinion think objectively superior b...\n",
       "15                                    ks deluxe edition\n",
       "16    absolute good game play    sure exactly make w...\n",
       "17                                2 4 player 60 120 min\n",
       "18    walk away time graphic finally try play    dif...\n",
       "19                                       2018 game year\n",
       "Name: comments, dtype: object"
      ]
     },
     "execution_count": 40,
     "metadata": {},
     "output_type": "execute_result"
    }
   ],
   "execution_count": 40
  },
  {
   "metadata": {
    "ExecuteTime": {
     "end_time": "2024-10-23T14:50:26.469960Z",
     "start_time": "2024-10-23T14:50:23.858472Z"
    }
   },
   "cell_type": "code",
   "source": "fixed_csv.to_csv(\"./../data/corpus.preprocessed.csv\", index=False, header=False)",
   "id": "710d0735be1980dd",
   "outputs": [],
   "execution_count": 44
  },
  {
   "metadata": {},
   "cell_type": "code",
   "outputs": [],
   "execution_count": null,
   "source": "",
   "id": "fcd88a4ab63f937d"
  },
  {
   "metadata": {},
   "cell_type": "markdown",
   "source": "# Preprocess using Spacy Clean package",
   "id": "e88e01581e3fdd33"
  },
  {
   "metadata": {},
   "cell_type": "code",
   "outputs": [],
   "execution_count": null,
   "source": [
    "import logging\n",
    "from langdetect import detect\n",
    "\n",
    "\n",
    "class PreProcessingCleanService:\n",
    "    def __init__(self, extensive_logging: bool = False, model_name=\"en_core_web_sm\"):\n",
    "        \"\"\"\n",
    "        \n",
    "        @param extensive_logging: \n",
    "        @param model_name: \n",
    "        \"\"\"\n",
    "        self.nlp = spacy.load(model_name)\n",
    "        self.extensive_logging = extensive_logging\n",
    "\n",
    "    def __make_lemmas(self, entry: str | None) -> list[str] | None:\n",
    "        if entry is None:\n",
    "            return None\n",
    "\n",
    "    def filter_by_language(self, text: str | None, target_language: str):\n",
    "        if text is None:\n",
    "            return None  # It already was filtered out\n",
    "\n",
    "        lang = detect(text)['lang']\n",
    "        self.extensive_logging and lang != target_language and logging.debug(f\"Detected {lang} with text: {text}\")\n",
    "        return text if lang == target_language else None"
   ],
   "id": "4cec3de6377fd7e2"
  }
 ],
 "metadata": {
  "kernelspec": {
   "display_name": "Python 3",
   "language": "python",
   "name": "python3"
  },
  "language_info": {
   "codemirror_mode": {
    "name": "ipython",
    "version": 2
   },
   "file_extension": ".py",
   "mimetype": "text/x-python",
   "name": "python",
   "nbconvert_exporter": "python",
   "pygments_lexer": "ipython2",
   "version": "2.7.6"
  }
 },
 "nbformat": 4,
 "nbformat_minor": 5
}

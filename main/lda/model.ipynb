{
 "cells": [
  {
   "cell_type": "code",
   "id": "initial_id",
   "metadata": {
    "collapsed": true,
    "ExecuteTime": {
     "end_time": "2025-03-05T18:13:59.341421Z",
     "start_time": "2025-03-05T18:13:54.555708Z"
    }
   },
   "source": [
    "from main.lda.model import LdaModelGenerator, LdaGeneratorConfig\n",
    "\n",
    "corpus = \"../../output/ds/pre_processed.80k.csv\"\n",
    "\n",
    "config = LdaGeneratorConfig(corpus_file_path=corpus)\n",
    "generator = LdaModelGenerator(config)"
   ],
   "outputs": [],
   "execution_count": 1
  },
  {
   "metadata": {
    "ExecuteTime": {
     "end_time": "2025-03-05T18:15:34.105894Z",
     "start_time": "2025-03-05T18:14:06.187762Z"
    }
   },
   "cell_type": "code",
   "source": "base_model = generator.generate_training_model()",
   "id": "5c25f99685e4e4b",
   "outputs": [
    {
     "name": "stdout",
     "output_type": "stream",
     "text": [
      "Generating numeric representation for each word of ds.\n"
     ]
    },
    {
     "data": {
      "text/plain": [
       "Pandas Apply:   0%|          | 0/91186 [00:00<?, ?it/s]"
      ],
      "application/vnd.jupyter.widget-view+json": {
       "version_major": 2,
       "version_minor": 0,
       "model_id": "0a37fe98b9be4d69897e959d391ab02e"
      }
     },
     "metadata": {},
     "output_type": "display_data"
    }
   ],
   "execution_count": 2
  },
  {
   "metadata": {
    "ExecuteTime": {
     "end_time": "2025-03-05T18:17:55.255251Z",
     "start_time": "2025-03-05T18:17:53.701903Z"
    }
   },
   "cell_type": "code",
   "source": [
    "import pandas as pd\n",
    "from main.lda.dataset import LdaDataset\n",
    "from gensim.models import CoherenceModel\n",
    "\n",
    "topn = 25\n",
    "coh_model = CoherenceModel(base_model, corpus=LdaDataset(pd.read_csv(config.corpus_file_path)).dataset, coherence='u_mass', topn=topn)"
   ],
   "id": "f6e3cceb5d2dd95b",
   "outputs": [
    {
     "name": "stdout",
     "output_type": "stream",
     "text": [
      "Generating numeric representation for each word of ds.\n"
     ]
    },
    {
     "data": {
      "text/plain": [
       "Pandas Apply:   0%|          | 0/91186 [00:00<?, ?it/s]"
      ],
      "application/vnd.jupyter.widget-view+json": {
       "version_major": 2,
       "version_minor": 0,
       "model_id": "7b52feaf46b34fd7991fd731eba8866e"
      }
     },
     "metadata": {},
     "output_type": "display_data"
    }
   ],
   "execution_count": 6
  },
  {
   "metadata": {
    "ExecuteTime": {
     "end_time": "2025-03-05T18:18:07.604625Z",
     "start_time": "2025-03-05T18:18:07.320817Z"
    }
   },
   "cell_type": "code",
   "source": "coh_model.get_coherence_per_topic()",
   "id": "385ab245ef9574cb",
   "outputs": [
    {
     "data": {
      "text/plain": [
       "[-4.734980166157313,\n",
       " -4.772950539925173,\n",
       " -6.465469420055531,\n",
       " -4.9681191893395,\n",
       " -4.234377075568865,\n",
       " -4.0297838392725325,\n",
       " -6.416305637311228,\n",
       " -5.470809434039697,\n",
       " -6.112251091414597,\n",
       " -6.356242827866072,\n",
       " -5.119788831658615,\n",
       " -3.812288790483861,\n",
       " -6.910567220917148,\n",
       " -6.625797016387571]"
      ]
     },
     "execution_count": 7,
     "metadata": {},
     "output_type": "execute_result"
    }
   ],
   "execution_count": 7
  },
  {
   "metadata": {
    "ExecuteTime": {
     "end_time": "2025-03-05T18:18:15.942328Z",
     "start_time": "2025-03-05T18:18:15.835328Z"
    }
   },
   "cell_type": "code",
   "source": "coh_model.get_coherence()",
   "id": "2b04a098a9b048fb",
   "outputs": [
    {
     "data": {
      "text/plain": [
       "-5.430695077171264"
      ]
     },
     "execution_count": 8,
     "metadata": {},
     "output_type": "execute_result"
    }
   ],
   "execution_count": 8
  },
  {
   "metadata": {},
   "cell_type": "code",
   "outputs": [],
   "execution_count": null,
   "source": [
    "# Now the model has high coherence which is good but are the extracted aspects good?\n",
    "# Probably not."
   ],
   "id": "b13c0365f1829d5b"
  }
 ],
 "metadata": {
  "kernelspec": {
   "display_name": "Python 3",
   "language": "python",
   "name": "python3"
  },
  "language_info": {
   "codemirror_mode": {
    "name": "ipython",
    "version": 2
   },
   "file_extension": ".py",
   "mimetype": "text/x-python",
   "name": "python",
   "nbconvert_exporter": "python",
   "pygments_lexer": "ipython2",
   "version": "2.7.6"
  }
 },
 "nbformat": 4,
 "nbformat_minor": 5
}

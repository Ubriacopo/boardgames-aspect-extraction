{
 "cells": [
  {
   "metadata": {},
   "cell_type": "markdown",
   "source": [
    "# Pre Processing Step\n",
    "We want to process the data for LDA like:\n",
    "- Keep NOUNS only as they are the elements that mostly hold aspect value\n",
    "- Split reviews in sentences (Avoid topic modelling in a too broad sense) (https://aclanthology.org/N10-1122.pdf)"
   ],
   "id": "a35a9dbedf4c1227"
  },
  {
   "metadata": {
    "ExecuteTime": {
     "end_time": "2025-03-09T17:25:45.075607Z",
     "start_time": "2025-03-09T17:24:40.348096Z"
    }
   },
   "cell_type": "code",
   "source": [
    "# Default approach on the sentences only to avoid global topic recognition\n",
    "from model import LdaModelGenerator, LdaGeneratorConfig\n",
    "\n",
    "corpus_path = \"../dataset/output/default_sentences/pre_processed.80k.csv\"\n",
    "default_config = LdaGeneratorConfig(corpus_file_path=corpus_path)\n",
    "lda, dictionary = LdaModelGenerator(default_config).make_model()"
   ],
   "id": "2aa7b0116e0c43b7",
   "outputs": [
    {
     "name": "stdout",
     "output_type": "stream",
     "text": [
      "Generating numeric representation for each word of ds.\n"
     ]
    },
    {
     "data": {
      "text/plain": [
       "Pandas Apply:   0%|          | 0/68390 [00:00<?, ?it/s]"
      ],
      "application/vnd.jupyter.widget-view+json": {
       "version_major": 2,
       "version_minor": 0,
       "model_id": "8b27ba03c0d04628baae3d74332a8516"
      }
     },
     "metadata": {},
     "output_type": "display_data"
    }
   ],
   "execution_count": 50
  },
  {
   "metadata": {
    "ExecuteTime": {
     "end_time": "2025-03-09T17:26:00.002362Z",
     "start_time": "2025-03-09T17:25:45.092410Z"
    }
   },
   "cell_type": "code",
   "source": [
    "from gensim.models import CoherenceModel\n",
    "import pandas as pd\n",
    "\n",
    "test_ds = pd.read_csv(\"../dataset/output/default_sentences/pre_processed.80k.test.csv\")\n",
    "\n",
    "# For the c_v model\n",
    "texts = test_ds['comments'].apply(lambda x: x.split(' '))\n",
    "\n",
    "topn = 10  # For the coherence evaluation.\n",
    "coh = CoherenceModel(lda, texts=texts, coherence='c_v', topn=topn)\n",
    "print(f\"On topn={topn} we have:\")\n",
    "print(f\"Model coherence of: {coh.get_coherence()}\")\n",
    "print(\"Coherence per topic:\")\n",
    "coh.get_coherence_per_topic()"
   ],
   "id": "815b2a1053bc44f0",
   "outputs": [
    {
     "name": "stdout",
     "output_type": "stream",
     "text": [
      "On topn=10 we have:\n",
      "Model coherence of: 0.3868902822755468\n",
      "Coherence per topic:\n"
     ]
    },
    {
     "data": {
      "text/plain": [
       "[0.436156336933028,\n",
       " 0.3611579852541559,\n",
       " 0.37026848878042784,\n",
       " 0.2714778263511153,\n",
       " 0.41402675610427825,\n",
       " 0.6580118263437783,\n",
       " 0.5004098024717523,\n",
       " 0.3042609099976455,\n",
       " 0.24026402517496237,\n",
       " 0.49165048179127374,\n",
       " 0.32553021339553967,\n",
       " 0.39583862010431337,\n",
       " 0.29265365730454596,\n",
       " 0.3547570218508393]"
      ]
     },
     "execution_count": 51,
     "metadata": {},
     "output_type": "execute_result"
    }
   ],
   "execution_count": 51
  },
  {
   "metadata": {
    "ExecuteTime": {
     "end_time": "2025-03-09T17:26:00.018969Z",
     "start_time": "2025-03-09T17:26:00.011368Z"
    }
   },
   "cell_type": "code",
   "source": "lda.show_topics(20, 20)",
   "id": "8d4d75f514b899ef",
   "outputs": [
    {
     "data": {
      "text/plain": [
       "[(0,\n",
       "  '0.104*\"game\" + 0.077*\"theme\" + 0.064*\"mechanic\" + 0.052*\"interesting\" + 0.038*\"get\" + 0.034*\"placement\" + 0.033*\"round\" + 0.031*\"art\" + 0.030*\"end\" + 0.028*\"start\" + 0.022*\"great\" + 0.022*\"make\" + 0.018*\"kind\" + 0.018*\"piece\" + 0.018*\"good\" + 0.015*\"thematic\" + 0.015*\"story\" + 0.014*\"abstract\" + 0.014*\"difficult\" + 0.013*\"style\"'),\n",
       " (1,\n",
       "  '0.419*\"<game_name>\" + 0.063*\"new\" + 0.045*\"version\" + 0.036*\"character\" + 0.027*\"edition\" + 0.025*\"scenario\" + 0.023*\"prefer\" + 0.022*\"play\" + 0.022*\"map\" + 0.020*\"definitely\" + 0.018*\"track\" + 0.015*\"variety\" + 0.014*\"add\" + 0.014*\"game\" + 0.013*\"fairly\" + 0.013*\"copy\" + 0.012*\"fit\" + 0.011*\"stuff\" + 0.010*\"combine\" + 0.010*\"good\"'),\n",
       " (2,\n",
       "  '0.150*\"game\" + 0.090*\"fun\" + 0.065*\"great\" + 0.046*\"play\" + 0.033*\"lot\" + 0.031*\"little\" + 0.030*\"luck\" + 0.025*\"go\" + 0.023*\"light\" + 0.022*\"nice\" + 0.021*\"good\" + 0.021*\"player\" + 0.020*\"strategy\" + 0.016*\"quick\" + 0.015*\"time\" + 0.014*\"short\" + 0.014*\"gamer\" + 0.013*\"change\" + 0.011*\"say\" + 0.010*\"push\"'),\n",
       " (3,\n",
       "  '0.066*\"turn\" + 0.059*\"game\" + 0.040*\"build\" + 0.037*\"buy\" + 0.034*\"work\" + 0.031*\"favorite\" + 0.028*\"enjoyable\" + 0.025*\"right\" + 0.024*\"maybe\" + 0.021*\"plan\" + 0.020*\"idea\" + 0.019*\"pick\" + 0.019*\"multiple\" + 0.018*\"heavy\" + 0.018*\"action\" + 0.018*\"drafting\" + 0.016*\"keep\" + 0.016*\"money\" + 0.016*\"spend\" + 0.015*\"go\"'),\n",
       " (4,\n",
       "  '0.147*\"like\" + 0.099*\"game\" + 0.084*\"feel\" + 0.077*\"play\" + 0.039*\"enjoy\" + 0.025*\"look\" + 0.024*\"want\" + 0.018*\"probably\" + 0.018*\"time\" + 0.018*\"bit\" + 0.017*\"need\" + 0.015*\"rule\" + 0.015*\"know\" + 0.013*\"sure\" + 0.013*\"try\" + 0.013*\"<number>\" + 0.012*\"lot\" + 0.012*\"actually\" + 0.012*\"little\" + 0.011*\"understand\"'),\n",
       " (5,\n",
       "  '0.081*\"card\" + 0.069*\"point\" + 0.049*\"action\" + 0.039*\"building\" + 0.032*\"deck\" + 0.030*\"score\" + 0.029*\"use\" + 0.027*\"draw\" + 0.027*\"scoring\" + 0.026*\"player\" + 0.025*\"add\" + 0.024*\"place\" + 0.020*\"number\" + 0.018*\"power\" + 0.017*\"tile\" + 0.016*\"cool\" + 0.016*\"setup\" + 0.015*\"design\" + 0.015*\"victory\" + 0.014*\"token\"'),\n",
       " (6,\n",
       "  '0.172*\"card\" + 0.045*\"box\" + 0.042*\"expansion\" + 0.035*\"player\" + 0.031*\"resource\" + 0.029*\"hand\" + 0.028*\"option\" + 0.027*\"small\" + 0.027*\"interaction\" + 0.024*\"turn\" + 0.023*\"opponent\" + 0.023*\"include\" + 0.021*\"order\" + 0.017*\"random\" + 0.017*\"lose\" + 0.015*\"allow\" + 0.015*\"complete\" + 0.014*\"able\" + 0.014*\"complexity\" + 0.014*\"replayability\"'),\n",
       " (7,\n",
       "  '0.090*\"dice\" + 0.047*\"tile\" + 0.046*\"system\" + 0.046*\"roll\" + 0.043*\"mechanism\" + 0.040*\"game\" + 0.028*\"solid\" + 0.027*\"type\" + 0.026*\"level\" + 0.022*\"combat\" + 0.020*\"variant\" + 0.017*\"die\" + 0.017*\"addition\" + 0.016*\"wife\" + 0.016*\"introduce\" + 0.015*\"low\" + 0.014*\"lay\" + 0.014*\"core\" + 0.013*\"break\" + 0.013*\"good\"'),\n",
       " (8,\n",
       "  '0.097*\"game\" + 0.080*\"love\" + 0.048*\"big\" + 0.041*\"original\" + 0.035*\"table\" + 0.033*\"play\" + 0.029*\"kid\" + 0.028*\"unique\" + 0.024*\"similar\" + 0.024*\"fan\" + 0.022*\"real\" + 0.022*\"space\" + 0.021*\"offer\" + 0.018*\"challenge\" + 0.017*\"upgrade\" + 0.016*\"wait\" + 0.014*\"trick\" + 0.013*\"monster\" + 0.013*\"take\" + 0.013*\"mind\"'),\n",
       " (9,\n",
       "  '0.068*\"easy\" + 0.064*\"game\" + 0.054*\"rule\" + 0.048*\"simple\" + 0.046*\"play\" + 0.038*\"pretty\" + 0.036*\"solo\" + 0.036*\"gameplay\" + 0.035*\"decision\" + 0.027*\"learn\" + 0.026*\"fun\" + 0.019*\"teach\" + 0.018*\"clever\" + 0.017*\"interesting\" + 0.015*\"fast\" + 0.015*\"complex\" + 0.014*\"lot\" + 0.013*\"recommend\" + 0.012*\"good\" + 0.012*\"bit\"'),\n",
       " (10,\n",
       "  '0.056*\"player\" + 0.051*\"win\" + 0.050*\"game\" + 0.040*\"component\" + 0.034*\"try\" + 0.034*\"high\" + 0.031*\"choice\" + 0.024*\"excellent\" + 0.021*\"play\" + 0.021*\"quickly\" + 0.020*\"create\" + 0.020*\"board\" + 0.020*\"move\" + 0.019*\"count\" + 0.018*\"bonus\" + 0.017*\"couple\" + 0.017*\"problem\" + 0.016*\"leave\" + 0.015*\"run\" + 0.015*\"figure\"'),\n",
       " (11,\n",
       "  '0.099*\"game\" + 0.080*\"player\" + 0.069*\"play\" + 0.051*\"well\" + 0.042*\"time\" + 0.040*\"long\" + 0.038*\"good\" + 0.028*\"think\" + 0.025*\"take\" + 0.023*\"give\" + 0.022*\"group\" + 0.022*\"hard\" + 0.021*\"experience\" + 0.021*\"bad\" + 0.020*\"people\" + 0.015*\"euro\" + 0.014*\"find\" + 0.014*\"mean\" + 0.014*\"ability\" + 0.014*\"hour\"'),\n",
       " (12,\n",
       "  '0.084*\"different\" + 0.049*\"game\" + 0.046*\"puzzle\" + 0.034*\"area\" + 0.032*\"control\" + 0.029*\"artwork\" + 0.026*\"have\" + 0.025*\"production\" + 0.023*\"overall\" + 0.022*\"ship\" + 0.021*\"especially\" + 0.021*\"write\" + 0.019*\"quality\" + 0.019*\"combo\" + 0.019*\"fantastic\" + 0.017*\"provide\" + 0.016*\"race\" + 0.014*\"combination\" + 0.012*\"single\" + 0.012*\"basically\"'),\n",
       " (13,\n",
       "  '0.108*\"game\" + 0.094*\"play\" + 0.056*\"set\" + 0.038*\"base\" + 0.035*\"come\" + 0.029*\"rating\" + 0.029*\"far\" + 0.027*\"family\" + 0.022*\"year\" + 0.022*\"collection\" + 0.020*\"minute\" + 0.017*\"aspect\" + 0.016*\"friend\" + 0.015*\"old\" + 0.015*\"good\" + 0.015*\"trade\" + 0.014*\"weight\" + 0.014*\"perfect\" + 0.013*\"day\" + 0.013*\"time\"')]"
      ]
     },
     "execution_count": 52,
     "metadata": {},
     "output_type": "execute_result"
    }
   ],
   "execution_count": 52
  },
  {
   "metadata": {},
   "cell_type": "markdown",
   "source": "Now we check if the NOUN only approach works better.",
   "id": "d8f49c0af29f8aea"
  },
  {
   "metadata": {
    "ExecuteTime": {
     "end_time": "2025-03-09T17:16:04.743210Z",
     "start_time": "2025-03-09T17:16:04.096863Z"
    }
   },
   "cell_type": "code",
   "source": [
    "# Now we try to work on noun only to see if we get a good representation.\n",
    "# todo: First thing to do is filter the pos_tagged for names\n",
    "corpus_path = \"../dataset/output/pos_tagged/pre_processed.80k.csv\"\n",
    "pos_tagged_ds = pd.read_csv(corpus_path)['comments']\n",
    "\n",
    "ds = pos_tagged_ds.swifter.apply(lambda x: x.split(' '))\n",
    "ds = ds.swifter.apply(lambda x: [w.split('__noun')[0] for w in x if w.endswith('__noun')])\n",
    "ds = ds[ds.map(len) > 1].map(lambda x: ' '.join(x)).drop_duplicates()\n",
    "\n",
    "corpus_path = \"../dataset/output/pos_tagged/pre_processed.80k.noun_only.csv\"\n",
    "ds.to_csv(corpus_path, index=False)"
   ],
   "id": "1fc9c38564be9481",
   "outputs": [
    {
     "data": {
      "text/plain": [
       "Pandas Apply:   0%|          | 0/60701 [00:00<?, ?it/s]"
      ],
      "application/vnd.jupyter.widget-view+json": {
       "version_major": 2,
       "version_minor": 0,
       "model_id": "1258228a0d4c474d9d561af36341bc3a"
      }
     },
     "metadata": {},
     "output_type": "display_data"
    },
    {
     "data": {
      "text/plain": [
       "Pandas Apply:   0%|          | 0/60701 [00:00<?, ?it/s]"
      ],
      "application/vnd.jupyter.widget-view+json": {
       "version_major": 2,
       "version_minor": 0,
       "model_id": "a400a5a86aa4418bba3ededc44b98713"
      }
     },
     "metadata": {},
     "output_type": "display_data"
    }
   ],
   "execution_count": 29
  },
  {
   "metadata": {
    "ExecuteTime": {
     "end_time": "2025-03-09T17:19:09.847670Z",
     "start_time": "2025-03-09T17:19:09.634648Z"
    }
   },
   "cell_type": "code",
   "source": [
    "# Now we try to work on noun only to see if we get a good representation.\n",
    "# todo: First thing to do is filter the pos_tagged for names\n",
    "test_corpus_path = \"../dataset/output/pos_tagged/pre_processed.80k.test.csv\"\n",
    "pos_tagged_ds = pd.read_csv(test_corpus_path)['comments']\n",
    "\n",
    "ds = pos_tagged_ds.swifter.apply(lambda x: x.split(' '))\n",
    "ds = ds.swifter.apply(lambda x: [w.split('__noun')[0] for w in x if w.endswith('__noun')])\n",
    "ds = ds[ds.map(len) > 1].map(lambda x: ' '.join(x)).drop_duplicates()\n",
    "\n",
    "test_corpus_path = \"../dataset/output/pos_tagged/pre_processed.80k.noun_only.test.csv\"\n",
    "ds.to_csv(test_corpus_path, index=False)"
   ],
   "id": "6a5a98d5dd0bbefb",
   "outputs": [
    {
     "data": {
      "text/plain": [
       "Pandas Apply:   0%|          | 0/20234 [00:00<?, ?it/s]"
      ],
      "application/vnd.jupyter.widget-view+json": {
       "version_major": 2,
       "version_minor": 0,
       "model_id": "e51dc85392db426c985cd4411e0ed82c"
      }
     },
     "metadata": {},
     "output_type": "display_data"
    },
    {
     "data": {
      "text/plain": [
       "Pandas Apply:   0%|          | 0/20234 [00:00<?, ?it/s]"
      ],
      "application/vnd.jupyter.widget-view+json": {
       "version_major": 2,
       "version_minor": 0,
       "model_id": "00387bbbc8f0497bba9966b65d7fbc4d"
      }
     },
     "metadata": {},
     "output_type": "display_data"
    }
   ],
   "execution_count": 32
  },
  {
   "metadata": {
    "ExecuteTime": {
     "end_time": "2025-03-09T17:17:11.621634Z",
     "start_time": "2025-03-09T17:16:15.827102Z"
    }
   },
   "cell_type": "code",
   "source": [
    "# Default approach on the sentences only to avoid global topic recognition\n",
    "from model import LdaModelGenerator, LdaGeneratorConfig\n",
    "\n",
    "default_config = LdaGeneratorConfig(corpus_file_path=corpus_path)\n",
    "lda, dictionary = LdaModelGenerator(default_config).make_model()"
   ],
   "id": "f9df263278dfa910",
   "outputs": [
    {
     "name": "stdout",
     "output_type": "stream",
     "text": [
      "Generating numeric representation for each word of ds.\n"
     ]
    },
    {
     "data": {
      "text/plain": [
       "Pandas Apply:   0%|          | 0/52120 [00:00<?, ?it/s]"
      ],
      "application/vnd.jupyter.widget-view+json": {
       "version_major": 2,
       "version_minor": 0,
       "model_id": "6b44fc435280477f982c09d9dab1de2f"
      }
     },
     "metadata": {},
     "output_type": "display_data"
    }
   ],
   "execution_count": 30
  },
  {
   "metadata": {
    "ExecuteTime": {
     "end_time": "2025-03-09T17:19:28.747583Z",
     "start_time": "2025-03-09T17:19:13.938674Z"
    }
   },
   "cell_type": "code",
   "source": [
    "from gensim.models import CoherenceModel\n",
    "import pandas as pd\n",
    "\n",
    "test_ds = pd.read_csv(test_corpus_path)\n",
    "\n",
    "# For the c_v model\n",
    "texts = test_ds['comments'].apply(lambda x: x.split(' '))\n",
    "\n",
    "topn = 10  # For the coherence evaluation.\n",
    "coh = CoherenceModel(lda, texts=texts, coherence='c_v', topn=topn)\n",
    "print(f\"On topn={topn} we have:\")\n",
    "print(f\"Model coherence of: {coh.get_coherence()}\")\n",
    "print(\"Coherence per topic:\")\n",
    "coh.get_coherence_per_topic()"
   ],
   "id": "9c9bab0bd34495c",
   "outputs": [
    {
     "name": "stdout",
     "output_type": "stream",
     "text": [
      "On topn=10 we have:\n",
      "Model coherence of: 0.5132157496905211\n",
      "Coherence per topic:\n"
     ]
    },
    {
     "data": {
      "text/plain": [
       "[0.42519634653314925,\n",
       " 0.43818274737546564,\n",
       " 0.539677488166524,\n",
       " 0.5553321656515858,\n",
       " 0.3293328420700734,\n",
       " 0.7444659041518065,\n",
       " 0.418483283383391,\n",
       " 0.701529084827182,\n",
       " 0.6136372814428978,\n",
       " 0.46103046904622724,\n",
       " 0.5133169420791968,\n",
       " 0.48105071346089795,\n",
       " 0.4076378102582009,\n",
       " 0.556147417220697]"
      ]
     },
     "execution_count": 33,
     "metadata": {},
     "output_type": "execute_result"
    }
   ],
   "execution_count": 33
  },
  {
   "metadata": {
    "ExecuteTime": {
     "end_time": "2025-03-09T17:23:24.184713Z",
     "start_time": "2025-03-09T17:23:24.178698Z"
    }
   },
   "cell_type": "code",
   "source": "lda.show_topics(20, 20)",
   "id": "73ce133dcd2932c9",
   "outputs": [
    {
     "data": {
      "text/plain": [
       "[(0,\n",
       "  '0.170*\"game\" + 0.144*\"rule\" + 0.102*\"play\" + 0.059*\"rating\" + 0.030*\"lot\" + 0.020*\"mode\" + 0.019*\"system\" + 0.016*\"brain\" + 0.016*\"battle\" + 0.016*\"series\" + 0.015*\"head\" + 0.015*\"designer\" + 0.014*\"enemy\" + 0.013*\"book\" + 0.012*\"depth\" + 0.012*\"rulebook\" + 0.011*\"wargame\" + 0.011*\"way\" + 0.011*\"house\" + 0.011*\"company\"'),\n",
       " (1,\n",
       "  '0.148*\"game\" + 0.143*\"<game_name>\" + 0.104*\"version\" + 0.097*\"worker\" + 0.095*\"placement\" + 0.074*\"strategy\" + 0.062*\"art\" + 0.027*\"euro\" + 0.024*\"work\" + 0.022*\"idea\" + 0.022*\"taste\" + 0.018*\"aspect\" + 0.016*\"randomness\" + 0.015*\"half\" + 0.014*\"memory\" + 0.014*\"reason\" + 0.011*\"racing\" + 0.011*\"mechanism\" + 0.010*\"fight\" + 0.008*\"chess\"'),\n",
       " (2,\n",
       "  '0.074*\"game\" + 0.071*\"collection\" + 0.057*\"map\" + 0.048*\"space\" + 0.047*\"board\" + 0.038*\"bonus\" + 0.034*\"weight\" + 0.033*\"drafting\" + 0.028*\"price\" + 0.024*\"addition\" + 0.023*\"word\" + 0.021*\"world\" + 0.021*\"trade\" + 0.020*\"improvement\" + 0.020*\"train\" + 0.019*\"wife\" + 0.017*\"text\" + 0.017*\"change\" + 0.016*\"exploration\" + 0.015*\"route\"'),\n",
       " (3,\n",
       "  '0.227*\"player\" + 0.181*\"game\" + 0.031*\"area\" + 0.030*\"character\" + 0.029*\"time\" + 0.028*\"interaction\" + 0.027*\"play\" + 0.025*\"lot\" + 0.025*\"control\" + 0.016*\"turn\" + 0.016*\"board\" + 0.016*\"option\" + 0.014*\"strategy\" + 0.012*\"power\" + 0.012*\"thing\" + 0.010*\"decision\" + 0.009*\"majority\" + 0.008*\"hero\" + 0.008*\"objective\" + 0.008*\"step\"'),\n",
       " (4,\n",
       "  '0.192*\"game\" + 0.068*\"family\" + 0.048*\"fun\" + 0.047*\"kid\" + 0.040*\"gamer\" + 0.029*\"friend\" + 0.026*\"trick\" + 0.025*\"goal\" + 0.021*\"count\" + 0.021*\"opinion\" + 0.017*\"gateway\" + 0.015*\"coin\" + 0.014*\"age\" + 0.014*\"board\" + 0.012*\"classic\" + 0.012*\"child\" + 0.012*\"group\" + 0.012*\"adult\" + 0.012*\"year\" + 0.011*\"non\"'),\n",
       " (5,\n",
       "  '0.253*\"card\" + 0.071*\"game\" + 0.049*\"player\" + 0.045*\"point\" + 0.030*\"round\" + 0.029*\"turn\" + 0.024*\"number\" + 0.023*\"order\" + 0.021*\"action\" + 0.017*\"deck\" + 0.016*\"victory\" + 0.016*\"way\" + 0.016*\"value\" + 0.014*\"city\" + 0.014*\"color\" + 0.012*\"play\" + 0.012*\"hand\" + 0.011*\"strategy\" + 0.011*\"ability\" + 0.010*\"thing\"'),\n",
       " (6,\n",
       "  '0.222*\"theme\" + 0.196*\"mechanic\" + 0.146*\"game\" + 0.060*\"component\" + 0.058*\"artwork\" + 0.053*\"deck\" + 0.043*\"edition\" + 0.040*\"builder\" + 0.035*\"mechanism\" + 0.022*\"bidding\" + 0.018*\"variant\" + 0.015*\"score\" + 0.013*\"review\" + 0.011*\"material\" + 0.010*\"interest\" + 0.010*\"travel\" + 0.007*\"complaint\" + 0.007*\"cover\" + 0.006*\"starter\" + 0.006*\"difference\"'),\n",
       " (7,\n",
       "  '0.097*\"game\" + 0.061*\"building\" + 0.056*\"resource\" + 0.034*\"engine\" + 0.031*\"end\" + 0.031*\"point\" + 0.026*\"scoring\" + 0.023*\"management\" + 0.023*\"bit\" + 0.020*\"hand\" + 0.017*\"money\" + 0.016*\"token\" + 0.016*\"mechanism\" + 0.016*\"market\" + 0.015*\"auction\" + 0.014*\"track\" + 0.014*\"thing\" + 0.014*\"board\" + 0.014*\"twist\" + 0.013*\"way\"'),\n",
       " (8,\n",
       "  '0.086*\"tile\" + 0.078*\"game\" + 0.069*\"action\" + 0.060*\"gameplay\" + 0.059*\"design\" + 0.029*\"choice\" + 0.027*\"production\" + 0.026*\"quality\" + 0.023*\"board\" + 0.023*\"art\" + 0.021*\"component\" + 0.021*\"stuff\" + 0.018*\"movement\" + 0.017*\"faction\" + 0.016*\"selection\" + 0.015*\"combat\" + 0.015*\"core\" + 0.015*\"decision\" + 0.014*\"genre\" + 0.013*\"balance\"'),\n",
       " (9,\n",
       "  '0.178*\"game\" + 0.113*\"time\" + 0.075*\"box\" + 0.039*\"fan\" + 0.037*\"thing\" + 0.032*\"play\" + 0.030*\"combo\" + 0.030*\"year\" + 0.030*\"co\" + 0.030*\"bit\" + 0.027*\"level\" + 0.026*\"couple\" + 0.021*\"op\" + 0.018*\"animal\" + 0.017*\"complexity\" + 0.017*\"difficulty\" + 0.016*\"room\" + 0.014*\"concept\" + 0.013*\"job\" + 0.010*\"experience\"'),\n",
       " (10,\n",
       "  '0.246*\"game\" + 0.047*\"time\" + 0.043*\"people\" + 0.041*\"experience\" + 0.034*\"group\" + 0.027*\"table\" + 0.024*\"scenario\" + 0.024*\"story\" + 0.023*\"hour\" + 0.017*\"party\" + 0.017*\"lot\" + 0.014*\"day\" + 0.013*\"board\" + 0.013*\"way\" + 0.012*\"playing\" + 0.010*\"night\" + 0.010*\"thing\" + 0.010*\"gaming\" + 0.009*\"tableau\" + 0.008*\"fact\"'),\n",
       " (11,\n",
       "  '0.164*\"bit\" + 0.121*\"game\" + 0.059*\"base\" + 0.045*\"set\" + 0.044*\"team\" + 0.038*\"feel\" + 0.034*\"variety\" + 0.033*\"case\" + 0.028*\"play\" + 0.028*\"role\" + 0.024*\"deduction\" + 0.024*\"condition\" + 0.023*\"monster\" + 0.022*\"answer\" + 0.022*\"question\" + 0.021*\"adventure\" + 0.019*\"race\" + 0.019*\"variation\" + 0.019*\"love\" + 0.019*\"light\"'),\n",
       " (12,\n",
       "  '0.135*\"expansion\" + 0.097*\"puzzle\" + 0.092*\"game\" + 0.071*\"solo\" + 0.051*\"piece\" + 0.039*\"replayability\" + 0.038*\"campaign\" + 0.037*\"copy\" + 0.026*\"challenge\" + 0.025*\"coop\" + 0.022*\"solitaire\" + 0.020*\"miniature\" + 0.020*\"min\" + 0.017*\"experience\" + 0.016*\"moment\" + 0.016*\"multiplayer\" + 0.015*\"nature\" + 0.015*\"star\" + 0.013*\"daughter\" + 0.011*\"variety\"'),\n",
       " (13,\n",
       "  '0.209*\"game\" + 0.151*\"fun\" + 0.099*\"dice\" + 0.085*\"lot\" + 0.070*\"luck\" + 0.038*\"decision\" + 0.032*\"roll\" + 0.028*\"filler\" + 0.027*\"time\" + 0.023*\"minute\" + 0.016*\"setup\" + 0.016*\"ton\" + 0.013*\"element\" + 0.012*\"skill\" + 0.011*\"line\" + 0.009*\"tension\" + 0.009*\"draw\" + 0.008*\"rest\" + 0.008*\"people\" + 0.008*\"gem\"')]"
      ]
     },
     "execution_count": 49,
     "metadata": {},
     "output_type": "execute_result"
    }
   ],
   "execution_count": 49
  },
  {
   "metadata": {},
   "cell_type": "markdown",
   "source": "## First default approach",
   "id": "a39453116dc2fd7d"
  },
  {
   "cell_type": "code",
   "id": "initial_id",
   "metadata": {
    "collapsed": true,
    "ExecuteTime": {
     "end_time": "2025-03-06T19:04:02.044274Z",
     "start_time": "2025-03-06T19:03:56.020514Z"
    }
   },
   "source": [
    "from main.lda.model import LdaModelGenerator, LdaGeneratorConfig\n",
    "\n",
    "corpus = \"../../output/ds/pre_processed.80k.csv\"\n",
    "\n",
    "config = LdaGeneratorConfig(corpus_file_path=corpus)\n",
    "generator = LdaModelGenerator(config)"
   ],
   "outputs": [],
   "execution_count": 1
  },
  {
   "metadata": {
    "ExecuteTime": {
     "end_time": "2025-03-06T19:05:36.724166Z",
     "start_time": "2025-03-06T19:04:02.705058Z"
    }
   },
   "cell_type": "code",
   "source": "base_model, dictionary = generator.make_model()",
   "id": "5c25f99685e4e4b",
   "outputs": [
    {
     "name": "stdout",
     "output_type": "stream",
     "text": [
      "Generating numeric representation for each word of ds.\n"
     ]
    },
    {
     "data": {
      "text/plain": [
       "Pandas Apply:   0%|          | 0/91186 [00:00<?, ?it/s]"
      ],
      "application/vnd.jupyter.widget-view+json": {
       "version_major": 2,
       "version_minor": 0,
       "model_id": "a91384bc8c1c44719e2f63079b4df4f7"
      }
     },
     "metadata": {},
     "output_type": "display_data"
    }
   ],
   "execution_count": 2
  },
  {
   "metadata": {},
   "cell_type": "markdown",
   "source": "## Evaluation",
   "id": "9e10a8a83c320e24"
  },
  {
   "metadata": {
    "ExecuteTime": {
     "end_time": "2025-03-06T19:05:42.005968Z",
     "start_time": "2025-03-06T19:05:42.002450Z"
    }
   },
   "cell_type": "code",
   "source": [
    "import pandas as pd\n",
    "from main.lda.dataset import LdaDataset\n",
    "from gensim.models import CoherenceModel\n",
    "\n",
    "topn = 25  # For the coherence evaluation.\n",
    "test_corpus = \"../../output/ds/pre_processed.80k.csv\""
   ],
   "id": "d89c19b1ed094b72",
   "outputs": [],
   "execution_count": 3
  },
  {
   "metadata": {
    "ExecuteTime": {
     "end_time": "2025-03-06T19:05:44.729927Z",
     "start_time": "2025-03-06T19:05:42.766180Z"
    }
   },
   "cell_type": "code",
   "source": [
    "test_ds = pd.read_csv(config.corpus_file_path)\n",
    "\n",
    "# For the c_v model\n",
    "texts = test_ds['comments'].apply(lambda x: x.split(' '))\n",
    "\n",
    "# For the u_mass model\n",
    "lda_dataset = LdaDataset(test_ds).dataset\n",
    "\n",
    "coh_model = CoherenceModel(base_model, corpus=lda_dataset, coherence='u_mass', topn=topn)\n",
    "coh = CoherenceModel(base_model, texts=texts, coherence='c_v', topn=topn)"
   ],
   "id": "a277b5f764a77501",
   "outputs": [
    {
     "name": "stdout",
     "output_type": "stream",
     "text": [
      "Generating numeric representation for each word of ds.\n"
     ]
    },
    {
     "data": {
      "text/plain": [
       "Pandas Apply:   0%|          | 0/91186 [00:00<?, ?it/s]"
      ],
      "application/vnd.jupyter.widget-view+json": {
       "version_major": 2,
       "version_minor": 0,
       "model_id": "47ae3ed003de410b86825918fd28a7f0"
      }
     },
     "metadata": {},
     "output_type": "display_data"
    }
   ],
   "execution_count": 4
  },
  {
   "metadata": {
    "ExecuteTime": {
     "end_time": "2025-03-06T13:16:13.379496Z",
     "start_time": "2025-03-06T13:15:56.185983Z"
    }
   },
   "cell_type": "code",
   "source": "coh.get_coherence_per_topic()",
   "id": "4e15e9b5e4c61bb8",
   "outputs": [
    {
     "data": {
      "text/plain": [
       "[0.36597146233929445,\n",
       " 0.27384931723728334,\n",
       " 0.22480580524809982,\n",
       " 0.30050388787067583,\n",
       " 0.32920690002253994,\n",
       " 0.3230491979414686,\n",
       " 0.2341942312907988,\n",
       " 0.25688931688541866,\n",
       " 0.1910254904136819,\n",
       " 0.3386633302787434,\n",
       " 0.29873448478566844,\n",
       " 0.5631769278233683,\n",
       " 0.26966071963374144,\n",
       " 0.22413400542008258]"
      ]
     },
     "execution_count": 16,
     "metadata": {},
     "output_type": "execute_result"
    }
   ],
   "execution_count": 16
  },
  {
   "metadata": {
    "ExecuteTime": {
     "end_time": "2025-03-05T18:18:15.942328Z",
     "start_time": "2025-03-05T18:18:15.835328Z"
    }
   },
   "cell_type": "code",
   "source": "coh_model.get_coherence()",
   "id": "2b04a098a9b048fb",
   "outputs": [
    {
     "data": {
      "text/plain": [
       "-5.430695077171264"
      ]
     },
     "execution_count": 8,
     "metadata": {},
     "output_type": "execute_result"
    }
   ],
   "execution_count": 8
  },
  {
   "metadata": {
    "ExecuteTime": {
     "end_time": "2025-03-05T18:24:39.937268Z",
     "start_time": "2025-03-05T18:24:29.423577Z"
    }
   },
   "cell_type": "code",
   "source": "base_model.log_perplexity(lda_dataset.dataset)",
   "id": "35103f2d03880115",
   "outputs": [
    {
     "name": "stdout",
     "output_type": "stream",
     "text": [
      "Generating numeric representation for each word of ds.\n"
     ]
    },
    {
     "data": {
      "text/plain": [
       "Pandas Apply:   0%|          | 0/91186 [00:00<?, ?it/s]"
      ],
      "application/vnd.jupyter.widget-view+json": {
       "version_major": 2,
       "version_minor": 0,
       "model_id": "e93e4f4dfebf4469a0c91e319a2e4050"
      }
     },
     "metadata": {},
     "output_type": "display_data"
    },
    {
     "data": {
      "text/plain": [
       "-10.078125681065158"
      ]
     },
     "execution_count": 10,
     "metadata": {},
     "output_type": "execute_result"
    }
   ],
   "execution_count": 10
  },
  {
   "metadata": {},
   "cell_type": "code",
   "outputs": [],
   "execution_count": null,
   "source": [
    "# Now the model has high coherence which is good but are the extracted aspects good?\n",
    "# Probably not."
   ],
   "id": "b13c0365f1829d5b"
  },
  {
   "metadata": {
    "ExecuteTime": {
     "end_time": "2025-03-06T18:06:51.624393Z",
     "start_time": "2025-03-06T18:06:51.615826Z"
    }
   },
   "cell_type": "code",
   "source": "base_model.show_topic(6)",
   "id": "9112bde92fb1652b",
   "outputs": [
    {
     "data": {
      "text/plain": [
       "[('expansion', 0.04917987),\n",
       " ('score', 0.048671924),\n",
       " ('mean', 0.029798623),\n",
       " ('similar', 0.029067513),\n",
       " ('couple', 0.024561541),\n",
       " ('read', 0.022952618),\n",
       " ('drafting', 0.020841701),\n",
       " ('provide', 0.020252705),\n",
       " ('campaign', 0.02017491),\n",
       " ('issue', 0.019857872)]"
      ]
     },
     "execution_count": 26,
     "metadata": {},
     "output_type": "execute_result"
    }
   ],
   "execution_count": 26
  },
  {
   "metadata": {},
   "cell_type": "code",
   "outputs": [],
   "execution_count": null,
   "source": [
    "topic_distribution = base_model.get_document_topics(dictionary.doc2bow(\"game hard slow time\"))\n",
    "dominant_topic = max(topic_distribution, key=lambda t: t[1])[0]"
   ],
   "id": "d3ea2fc9990525e4"
  },
  {
   "metadata": {
    "ExecuteTime": {
     "end_time": "2025-03-06T19:07:01.142895Z",
     "start_time": "2025-03-06T19:06:54.616965Z"
    }
   },
   "cell_type": "code",
   "source": [
    "import pyLDAvis\n",
    "import pyLDAvis.gensim_models as gensimvis\n",
    "\n",
    "# Visualize the topics\n",
    "pyLDAvis.enable_notebook()\n",
    "vis = gensimvis.prepare(base_model, lda_dataset, dictionary)\n",
    "vis"
   ],
   "id": "f91adb9e1517424b",
   "outputs": [
    {
     "data": {
      "text/plain": [
       "PreparedData(topic_coordinates=              x         y  topics  cluster       Freq\n",
       "topic                                                \n",
       "5     -0.160220  0.101462       1        1  10.228478\n",
       "11     0.091424 -0.293784       2        1   9.917435\n",
       "4     -0.145752  0.030663       3        1   9.293434\n",
       "1     -0.147402 -0.149127       4        1   9.036471\n",
       "10    -0.180771 -0.065883       5        1   7.968856\n",
       "12    -0.132376 -0.140732       6        1   7.432195\n",
       "0      0.005436  0.198822       7        1   7.003833\n",
       "8      0.082123  0.148314       8        1   6.786641\n",
       "3     -0.135015  0.068571       9        1   6.587917\n",
       "7     -0.125794  0.050905      10        1   6.147584\n",
       "9      0.256626  0.008942      11        1   5.633122\n",
       "13     0.166008  0.071100      12        1   4.893969\n",
       "6      0.148035  0.065646      13        1   4.622214\n",
       "2      0.277679 -0.094898      14        1   4.447850, topic_info=             Term          Freq         Total Category  logprob  loglift\n",
       "49    <game_name>  16476.000000  16476.000000  Default  30.0000  30.0000\n",
       "87           card  11371.000000  11371.000000  Default  29.0000  29.0000\n",
       "64           like  10228.000000  10228.000000  Default  28.0000  28.0000\n",
       "80           time   6406.000000   6406.000000  Default  27.0000  27.0000\n",
       "13           play  22382.000000  22382.000000  Default  26.0000  26.0000\n",
       "...           ...           ...           ...      ...      ...      ...\n",
       "451         fresh    256.899900    257.989574  Topic14  -4.8039   3.1085\n",
       "511       benefit    230.881864    231.971536  Topic14  -4.9106   3.1080\n",
       "1453    potential    228.337436    229.427108  Topic14  -4.9217   3.1080\n",
       "1834       unlike    216.420760    217.510433  Topic14  -4.9753   3.1077\n",
       "422     different   1770.159036   3017.261644  Topic14  -2.8737   2.5795\n",
       "\n",
       "[577 rows x 6 columns], token_table=      Topic      Freq         Term\n",
       "term                              \n",
       "49        8  0.999950  <game_name>\n",
       "156       4  0.267906     <number>\n",
       "156       5  0.731441     <number>\n",
       "470      12  0.999250      ability\n",
       "476      12  0.998004         able\n",
       "...     ...       ...          ...\n",
       "817       4  0.998379        write\n",
       "1101      3  0.995907        wrong\n",
       "1783     12  0.998287            x\n",
       "242       4  0.998900         year\n",
       "604       3  0.994740          yes\n",
       "\n",
       "[637 rows x 3 columns], R=30, lambda_step=0.01, plot_opts={'xlab': 'PC1', 'ylab': 'PC2'}, topic_order=[6, 12, 5, 2, 11, 13, 1, 9, 4, 8, 10, 14, 7, 3])"
      ],
      "text/html": [
       "\n",
       "<link rel=\"stylesheet\" type=\"text/css\" href=\"https://cdn.jsdelivr.net/gh/bmabey/pyLDAvis@3.4.0/pyLDAvis/js/ldavis.v1.0.0.css\">\n",
       "\n",
       "\n",
       "<div id=\"ldavis_el2987616339863456809481912647\" style=\"background-color:white;\"></div>\n",
       "<script type=\"text/javascript\">\n",
       "\n",
       "var ldavis_el2987616339863456809481912647_data = {\"mdsDat\": {\"x\": [-0.16022030360821296, 0.09142378508377498, -0.1457524207678373, -0.1474021018748209, -0.1807710570234193, -0.1323757990252915, 0.0054360194758844545, 0.0821228341900291, -0.13501450513142213, -0.12579445065107486, 0.25662603538140477, 0.16600847031650393, 0.14803460310625327, 0.27767889052822914], \"y\": [0.10146203888499541, -0.29378407180873756, 0.03066334333755119, -0.14912664407313492, -0.06588316449506988, -0.14073234551662936, 0.19882176796839252, 0.14831385990681026, 0.06857112882972752, 0.0509053137641663, 0.008941542496369054, 0.07109960254869806, 0.06564556842757183, -0.09489794027071012], \"topics\": [1, 2, 3, 4, 5, 6, 7, 8, 9, 10, 11, 12, 13, 14], \"cluster\": [1, 1, 1, 1, 1, 1, 1, 1, 1, 1, 1, 1, 1, 1], \"Freq\": [10.228478359344395, 9.91743501147646, 9.29343419277104, 9.036471085754147, 7.968856234628448, 7.43219456160514, 7.003833068834529, 6.786640661340247, 6.587917373369797, 6.147584274375507, 5.633122218681617, 4.893968977228224, 4.622214312670199, 4.4478496679202495]}, \"tinfo\": {\"Term\": [\"<game_name>\", \"card\", \"like\", \"time\", \"play\", \"player\", \"feel\", \"fun\", \"great\", \"game\", \"action\", \"interesting\", \"dice\", \"easy\", \"theme\", \"good\", \"enjoy\", \"new\", \"different\", \"want\", \"set\", \"long\", \"nice\", \"love\", \"try\", \"take\", \"lot\", \"thing\", \"tile\", \"expansion\", \"great\", \"theme\", \"love\", \"light\", \"family\", \"kid\", \"idea\", \"bonus\", \"complex\", \"abstract\", \"builder\", \"introduce\", \"replayability\", \"awesome\", \"designer\", \"neat\", \"complexity\", \"ok\", \"future\", \"fit\", \"leader\", \"adult\", \"coop\", \"gateway\", \"favourite\", \"not\", \"taste\", \"ton\", \"life\", \"wonderful\", \"fun\", \"simple\", \"mechanic\", \"good\", \"pretty\", \"game\", \"random\", \"play\", \"little\", \"lot\", \"bit\", \"rule\", \"gameplay\", \"think\", \"strategy\", \"element\", \"card\", \"building\", \"deck\", \"round\", \"build\", \"character\", \"draw\", \"place\", \"power\", \"order\", \"type\", \"level\", \"require\", \"victory\", \"extra\", \"let\", \"rulebook\", \"trick\", \"increase\", \"decide\", \"chance\", \"manage\", \"tableau\", \"happen\", \"improve\", \"genre\", \"one\", \"city\", \"basically\", \"depend\", \"win\", \"point\", \"resource\", \"lose\", \"hand\", \"use\", \"add\", \"turn\", \"number\", \"end\", \"different\", \"player\", \"way\", \"game\", \"strategy\", \"need\", \"feel\", \"decision\", \"fast\", \"quick\", \"sure\", \"plan\", \"say\", \"day\", \"combat\", \"strategic\", \"tactical\", \"update\", \"market\", \"compare\", \"adventure\", \"main\", \"ahead\", \"stuff\", \"sort\", \"involve\", \"consider\", \"truly\", \"slow\", \"solve\", \"part\", \"yes\", \"wrong\", \"dry\", \"bag\", \"mess\", \"like\", \"unique\", \"lot\", \"little\", \"actually\", \"luck\", \"go\", \"game\", \"strategy\", \"play\", \"move\", \"turn\", \"fun\", \"make\", \"think\", \"hope\", \"way\", \"end\", \"need\", \"try\", \"base\", \"space\", \"year\", \"old\", \"setup\", \"write\", \"friend\", \"push\", \"run\", \"difficult\", \"spend\", \"challenge\", \"ship\", \"figure\", \"worth\", \"keep\", \"simply\", \"combine\", \"route\", \"person\", \"fall\", \"collect\", \"gain\", \"house\", \"pace\", \"reward\", \"downtime\", \"finally\", \"question\", \"player\", \"change\", \"need\", \"short\", \"get\", \"especially\", \"high\", \"game\", \"play\", \"bit\", \"good\", \"luck\", \"well\", \"rule\", \"easy\", \"learn\", \"far\", \"rating\", \"favorite\", \"teach\", \"include\", \"production\", \"minute\", \"combo\", \"track\", \"quickly\", \"count\", \"miss\", \"depth\", \"upgrade\", \"co\", \"op\", \"wish\", \"mini\", \"explain\", \"fight\", \"opinion\", \"randomness\", \"watch\", \"single\", \"difficulty\", \"initial\", \"hate\", \"will\", \"hard\", \"pick\", \"<number>\", \"play\", \"rule\", \"game\", \"people\", \"player\", \"good\", \"find\", \"time\", \"want\", \"long\", \"take\", \"hour\", \"heavy\", \"problem\", \"party\", \"recommend\", \"filler\", \"management\", \"leave\", \"expect\", \"copy\", \"condition\", \"highly\", \"concept\", \"combination\", \"vs\", \"event\", \"playing\", \"force\", \"easily\", \"break\", \"completely\", \"factor\", \"cute\", \"hold\", \"min\", \"interest\", \"right\", \"play\", \"game\", \"away\", \"player\", \"little\", \"set\", \"nice\", \"solo\", \"design\", \"art\", \"component\", \"area\", \"small\", \"control\", \"cool\", \"collection\", \"solid\", \"artwork\", \"offer\", \"beautiful\", \"understand\", \"super\", \"race\", \"tight\", \"fantastic\", \"huge\", \"mix\", \"mode\", \"core\", \"tough\", \"lack\", \"war\", \"stay\", \"somewhat\", \"movement\", \"game\", \"box\", \"system\", \"mechanic\", \"bit\", \"<game_name>\", \"scoring\", \"buy\", \"definitely\", \"engine\", \"balance\", \"series\", \"slightly\", \"extremely\", \"final\", \"sell\", \"moment\", \"specific\", \"pack\", \"mission\", \"coin\", \"exactly\", \"promo\", \"dynamic\", \"brain\", \"remind\", \"share\", \"line\", \"skill\", \"train\", \"additional\", \"soon\", \"development\", \"shelf\", \"bunch\", \"open\", \"overall\", \"well\", \"map\", \"fact\", \"like\", \"expansion\", \"game\", \"add\", \"bit\", \"element\", \"interesting\", \"thing\", \"experience\", \"big\", \"group\", \"start\", \"table\", \"enjoyable\", \"have\", \"kind\", \"battle\", \"hit\", \"gaming\", \"cooperative\", \"guess\", \"deduction\", \"faction\", \"classic\", \"length\", \"despite\", \"con\", \"likely\", \"happy\", \"clue\", \"actual\", \"complicated\", \"deliver\", \"hero\", \"beginning\", \"sit\", \"make\", \"choice\", \"fan\", \"game\", \"good\", \"hard\", \"play\", \"lot\", \"get\", \"find\", \"enjoy\", \"new\", \"version\", \"look\", \"original\", \"probably\", \"edition\", \"prefer\", \"gamer\", \"forward\", \"weight\", \"rate\", \"usually\", \"instead\", \"wait\", \"fine\", \"review\", \"non\", \"wife\", \"world\", \"monster\", \"half\", \"miniature\", \"reason\", \"unfortunately\", \"pull\", \"exploration\", \"casual\", \"medium\", \"meeple\", \"come\", \"box\", \"play\", \"think\", \"game\", \"good\", \"well\", \"action\", \"worker\", \"placement\", \"work\", \"piece\", \"story\", \"create\", \"allow\", \"special\", \"focus\", \"help\", \"certain\", \"complete\", \"team\", \"goal\", \"addition\", \"variant\", \"fiddly\", \"match\", \"lead\", \"case\", \"age\", \"cube\", \"purchase\", \"star\", \"spot\", \"effect\", \"night\", \"draft\", \"flow\", \"tile\", \"excellent\", \"board\", \"mechanic\", \"puzzle\", \"know\", \"option\", \"ability\", \"maybe\", \"thematic\", \"aspect\", \"decent\", \"able\", \"bring\", \"finish\", \"room\", \"close\", \"strong\", \"tension\", \"early\", \"selection\", \"x\", \"price\", \"large\", \"replay\", \"book\", \"available\", \"role\", \"location\", \"limited\", \"smooth\", \"auction\", \"head\", \"app\", \"gameplay\", \"choose\", \"game\", \"score\", \"mean\", \"similar\", \"couple\", \"read\", \"drafting\", \"provide\", \"campaign\", \"issue\", \"variety\", \"sleeve\", \"boring\", \"mind\", \"etc\", \"clear\", \"feeling\", \"lay\", \"word\", \"term\", \"path\", \"games\", \"tense\", \"fill\", \"size\", \"rest\", \"step\", \"course\", \"appreciate\", \"matter\", \"show\", \"expansion\", \"tile\", \"rule\", \"game\", \"point\", \"dice\", \"bad\", \"give\", \"roll\", \"mechanism\", \"interaction\", \"euro\", \"clever\", \"scenario\", \"value\", \"real\", \"style\", \"token\", \"color\", \"see\", \"perfect\", \"amazing\", \"plus\", \"basic\", \"opportunity\", \"die\", \"particularly\", \"relatively\", \"present\", \"clean\", \"flip\", \"fresh\", \"benefit\", \"potential\", \"unlike\", \"different\"], \"Freq\": [16476.0, 11371.0, 10228.0, 6406.0, 22382.0, 11554.0, 5987.0, 7083.0, 5351.0, 47785.0, 3292.0, 3478.0, 2923.0, 3411.0, 3566.0, 7997.0, 2779.0, 2597.0, 3017.0, 2653.0, 2585.0, 2633.0, 2556.0, 2950.0, 2796.0, 2446.0, 4234.0, 2231.0, 2444.0, 2355.0, 5350.350616687013, 3565.8122664166176, 2949.348580087969, 1399.7490839321376, 1066.7650582835677, 834.8541278932261, 750.4381701702056, 740.2531222799496, 730.4830414166213, 590.5163343772309, 587.1439806380981, 570.877649021991, 562.5517648219235, 555.4163185387455, 538.0987102754132, 522.7391920159828, 512.8134062355475, 441.7134068491175, 439.6434374931391, 414.2661199009659, 369.99327236179624, 319.8183695369194, 315.6877596971513, 302.55743920569773, 297.28635796230986, 296.444309797447, 295.9776648454451, 281.573886186041, 268.2715688082445, 266.35864665314114, 5666.405826565699, 1883.4486908071706, 2050.581409231094, 4082.9434639634037, 1216.8047996327607, 11698.265053332512, 600.0948713468425, 2240.7610057260003, 901.8355644367072, 945.6687804847093, 904.3522793878245, 802.9714655757449, 610.1826036639067, 687.1143897807805, 636.2710967535469, 538.731597072102, 11370.19948637464, 1981.4970214268033, 1683.8875142301624, 1662.3837896713044, 1447.4487091270482, 1431.3171739944978, 1272.6877872355944, 1137.954348831396, 990.500126016466, 850.0321051083505, 803.6355746699364, 758.8551390568815, 728.5137477242423, 669.5057559798523, 584.3120174223425, 540.960786184136, 462.075706577063, 420.1214033684916, 416.48442540043294, 414.3811269528686, 404.22748330559284, 402.6060524715492, 400.5341518799638, 396.07536350121615, 393.1354179358889, 377.1906756439342, 362.4177403810777, 359.81724956334403, 356.0789850401949, 352.5722512353316, 1521.1719161379146, 2428.8363639224817, 1103.489589324451, 865.6107776825659, 853.399386881374, 1062.4158576953746, 1277.6117519324046, 1611.5927957881013, 728.340717881656, 1148.0498169693553, 1246.094291271047, 1998.5563713376896, 1021.6594884364725, 1633.890934908183, 629.5049525360196, 638.0331308061, 5986.417501501013, 1884.9640697440893, 1542.4511125987287, 1446.1097049252294, 1120.7727946926816, 860.0226552589936, 647.3851067764724, 607.4118565827414, 602.4757980840213, 594.234317679837, 493.1947911503716, 466.424264142594, 457.73937571373375, 420.54380559096825, 408.89656251193173, 408.35680783539743, 387.1668252525999, 377.87784941447717, 362.0723031349024, 348.13173533661615, 343.3743754855359, 336.0020272515649, 333.0003107255819, 322.6084401287022, 316.8045909954277, 299.481005649595, 291.0959199510269, 273.10312173758695, 242.3013105646008, 238.6811613446404, 8496.90635446164, 929.5636562668606, 2665.432074985774, 1975.7618862021188, 608.036463389694, 1186.2002205184522, 1251.9680305281931, 6308.5568005119485, 1011.823634897901, 3158.8176690941614, 562.4020546736684, 1081.0508994982924, 1416.032963286371, 773.1100480265987, 813.4831368255419, 443.9782383098102, 529.2997232719899, 508.69083905557477, 488.87446702958806, 2795.2662878703036, 1798.3068107231027, 1685.1517820536767, 961.962596072492, 814.9599592417771, 800.2107493279866, 795.1937458560728, 739.838019565209, 718.3433016150918, 716.0801536074398, 706.5281973671208, 639.3855902151087, 601.88714466549, 594.9214230605496, 579.0098958108581, 572.1714166179386, 535.5998365784359, 475.74360665308285, 450.27291908429294, 440.8791857593875, 434.0450349430185, 382.52585118235265, 355.9807182509212, 355.0759986126085, 343.35143451522254, 334.8771550967506, 334.1487723332514, 326.76933501075507, 326.55454673603685, 291.1919178428053, 6586.351377434659, 969.9600129100334, 1988.9025437507823, 747.8759926981008, 1740.021840778435, 630.0267507203404, 946.5108847152615, 5059.068651188311, 3016.981388097337, 1244.5101233691053, 1503.663783388003, 814.3656672121014, 721.2584335754842, 602.7232921465325, 3410.8107877368907, 1485.3485443882496, 1286.8103724816006, 1199.0392409658764, 1091.2591861100739, 1051.8317718190676, 890.015127191511, 888.9535828800931, 867.63474878789, 796.7881431446928, 783.5231268410513, 754.6251424442313, 682.872077723961, 620.369225009056, 606.9202606762761, 568.2649784336744, 555.2967992424317, 517.1186420043463, 504.5356660907222, 473.0275334089221, 440.2944574415548, 434.26430326803836, 401.5393841774606, 395.13704635658564, 391.22446445653765, 386.2331617449092, 379.3630322689215, 377.1112898297995, 372.4916217449764, 347.8007034153755, 1332.24469907604, 659.6095017229484, 758.8288098127881, 5973.213944758296, 1309.0843977609272, 4514.782780049489, 698.1200516902076, 1349.1658262499047, 704.662128313775, 531.8070855954336, 6405.21661222758, 2651.948269088608, 2632.6363985327826, 2445.6236319670593, 1005.5108454931975, 792.071488358741, 725.3801197395225, 689.774919070652, 626.373183115633, 600.0685084586733, 568.8717871595292, 548.4145897621397, 536.4235746428486, 529.9365265101151, 518.9924764747693, 510.3882366181788, 466.9436965231841, 466.66172940243456, 454.9041101046425, 452.4016153332168, 451.37878959980264, 439.49135423915425, 435.9014670674392, 390.4505811955719, 374.0814681517684, 362.1491189692226, 352.8672704749955, 347.8310216923655, 346.5427850190206, 343.8355446653627, 790.8693974686553, 3829.710009951816, 4501.684767006269, 487.0762562307033, 1619.7406673661874, 518.046701597596, 2584.624983867328, 2555.2072891644125, 1860.5046227065063, 1860.1325656052916, 1596.9769823259878, 1595.6782751026271, 1082.9929645852965, 1075.1644162661346, 1046.395799440882, 966.2029721375035, 934.2827154899547, 884.7573013690413, 881.9225718444204, 731.5607678944028, 693.9545541122201, 672.4410048049854, 636.2412183357443, 621.3161495587411, 620.895379447733, 616.7546357482822, 555.623025354396, 545.3631004228369, 525.8207276524605, 495.17881986663247, 464.7625084629516, 416.3362620479244, 403.1991905086884, 391.8232780961635, 380.27041337778047, 361.4814378550961, 4399.335517091758, 624.0215138733918, 557.6516924339444, 654.4015662537453, 474.67289457140805, 16475.730471496565, 1518.8921942795314, 1337.9792198287641, 1264.8123908884806, 1199.8439944815266, 884.0904327731807, 680.7751572623304, 509.33289800458033, 506.98408903156997, 496.47331805472794, 485.0797287051196, 432.4318252759772, 417.70369845401143, 381.24323286292173, 367.09907981853263, 347.6204772745827, 343.16112009544645, 319.0448377406457, 306.22992194352383, 290.4208825479721, 285.6107581394648, 275.3494251003302, 265.8592277868549, 252.83651012660502, 234.55586873595442, 230.57971267474437, 229.9579324508384, 207.8532068649549, 205.26012549931855, 205.0378957344111, 484.5166397606742, 716.8044779613583, 1615.7616611930457, 700.1661236621388, 395.11690727950844, 1730.5929752106717, 753.1690692545128, 1475.0221995746292, 407.88448709023675, 439.25867199848324, 308.97592125579723, 3477.0805330053163, 2230.103215535947, 1816.459739008974, 1679.995664620054, 1400.4285959244235, 1378.2206514687239, 1356.411948238417, 1124.606077942399, 1050.1529495097338, 917.5604256958536, 610.9830195541947, 559.0893545946492, 485.3318292151475, 472.99101320404077, 447.38018137876963, 428.6033945136687, 414.25521990308334, 387.34594633589523, 378.5724085973666, 377.40252287583917, 356.46918067138915, 335.7046168736678, 307.28385908087415, 296.48709856684695, 294.45373914481803, 293.0973304818041, 288.03017433583113, 287.94616336554634, 283.44138577548057, 269.1406740130417, 1768.417481011321, 973.4125267721281, 697.5757007730396, 3992.4672382098934, 951.408093326514, 537.3407796173221, 1095.0734661891315, 622.4485826060387, 396.0181176091201, 382.176861778329, 2777.942201476516, 2596.438948220832, 1812.2503820360516, 1720.8195544213015, 1530.9725925458313, 1238.0982872387547, 992.324017016913, 985.4138992674624, 939.452104676857, 755.1350763859693, 730.956924993243, 654.0091568836225, 641.9373455905373, 590.9269635002034, 583.9800580503098, 549.785648464145, 482.73663572845567, 474.2538034476737, 458.68494205600234, 436.95962672527304, 422.44042491795386, 420.37135879237707, 407.26356229043347, 379.8188083129708, 358.53623618406493, 347.99167918283837, 309.2253087070713, 297.7273371360289, 285.5689416335129, 229.98494482055244, 1328.202740768013, 1266.4050512583972, 3067.297150107874, 991.5140422089124, 2995.20648790368, 753.6472720623491, 549.4441117759308, 3291.1667711701116, 1970.1055993137238, 1674.2892086698141, 1508.1599071697535, 1064.7208137351479, 805.306642837556, 761.0130162542617, 718.4255438971331, 689.7262260797883, 674.8023294748916, 646.5206054713947, 610.4296775555094, 584.2576191665459, 567.019917220272, 556.5316519859394, 547.0545862169329, 532.0804216365685, 471.46670542976443, 471.0585368613167, 461.7896766112874, 459.0074550543946, 458.4901014862914, 438.0951271396909, 420.8770149191506, 403.690615877251, 385.19292494883314, 378.4088181185177, 369.9168568216898, 342.7257630771069, 322.53171278539014, 1916.849488398526, 610.0172953479416, 709.341233648214, 403.22378901684215, 1766.6586792676874, 1757.8721226559692, 1049.3241127118954, 953.6237192350288, 932.5614672839853, 886.7726227243668, 844.9696862941015, 656.0579484591864, 639.1858998497718, 626.3267332738775, 611.7095103820958, 611.1499945413707, 610.3816878376753, 588.1034908209236, 545.0929583905256, 537.4411682376888, 525.4218213233236, 506.77813311056605, 492.19639374748056, 487.73112080692766, 484.5468514199909, 482.9540423789183, 477.6830524985333, 471.84185355112834, 456.8839887838639, 437.8372975981323, 436.9334470259967, 434.9472685491526, 434.74814333517554, 428.2212613214825, 1230.8901499826898, 466.54443566701764, 561.2716492156808, 1585.0091384790087, 970.3970292047206, 946.5882940250162, 799.8505981288338, 747.4557554018196, 678.7133946795814, 659.5326328306437, 656.9992182254456, 646.6748531169467, 630.1647734413622, 596.6359416082895, 579.7767789213341, 552.4147365642006, 548.2868223725721, 509.25533831664455, 508.4875679923306, 508.4753455376319, 504.35249623417894, 469.71669821239857, 449.1891916962217, 387.9520247324418, 370.5751212907417, 353.45410085225063, 343.0652266590267, 328.9674288738345, 328.6811262129013, 328.39879660796197, 326.2964737424359, 294.75993235392895, 261.5152498460981, 1601.550517343797, 526.5261823933781, 497.3269200901271, 646.2560748179885, 420.0397897292603, 2922.6743498838127, 1612.693180755615, 1561.6966335120726, 1494.2341475747107, 1465.7986796919977, 1371.982636901101, 1191.6952588617416, 1073.8737335943927, 989.8286873910371, 944.9292653657827, 943.5735249969725, 837.4154410684267, 815.0946675197296, 780.8207081456068, 719.170797794727, 688.6968455343361, 517.0526552649287, 443.40321397936117, 432.7282834691618, 432.43179734510915, 422.3716983316533, 322.9335385078295, 309.5596182592316, 307.5706892943542, 282.16090331193027, 273.620416070627, 256.89990030621857, 230.8818639493046, 228.33743573398738, 216.4207598151658, 1770.1590362634543], \"Total\": [16476.0, 11371.0, 10228.0, 6406.0, 22382.0, 11554.0, 5987.0, 7083.0, 5351.0, 47785.0, 3292.0, 3478.0, 2923.0, 3411.0, 3566.0, 7997.0, 2779.0, 2597.0, 3017.0, 2653.0, 2585.0, 2633.0, 2556.0, 2950.0, 2796.0, 2446.0, 4234.0, 2231.0, 2444.0, 2355.0, 5351.452393163261, 3566.914043415504, 2950.4503570872307, 1400.8508606258663, 1067.8668344445969, 835.9559035797646, 751.5399476971259, 741.3549044227491, 731.5848195213407, 591.618110757313, 588.2457587249125, 571.9794270103702, 563.65354242293, 556.5180977225093, 539.2004883626207, 523.840972001641, 513.9151840305725, 442.81518356626316, 440.7452161515261, 415.3678972446154, 371.09505176351246, 320.9201458430665, 316.78953673058317, 303.659215348088, 298.3881341481592, 297.54608643183786, 297.07944148389953, 282.67566253656537, 269.37334664627826, 267.46042300886774, 7083.461300811585, 2326.921966995858, 3109.1377881743415, 7997.095836059787, 1927.1389388618657, 47785.99336411564, 812.073636345767, 22382.463056713135, 3396.583259484473, 4234.486950205006, 4029.1244058750553, 3884.2470153556624, 1842.087147994845, 3660.918739523766, 2388.3097298727507, 1145.51343643864, 11371.297430582132, 1982.594965196072, 1684.986663953038, 1663.4817334208844, 1448.546652530193, 1432.4151190295656, 1273.7857307270147, 1139.05229289381, 991.5980704371714, 851.1300480747799, 804.7335185949479, 759.9530830668097, 729.611692532689, 670.6036987333273, 585.4099612588275, 542.0587317065703, 463.17365243162885, 421.2193476708145, 417.58236926910104, 415.4790706283902, 405.3254264916733, 403.7039966657634, 401.63209518772265, 397.17330771760015, 394.2333623673653, 378.2886222314151, 363.5156865031043, 360.9151921542734, 357.1769302090315, 353.6701955094991, 1829.0767306868079, 3341.4408352903147, 1374.9213262405315, 1027.4236194254056, 1092.6381537784932, 1481.3721965580366, 2206.3474168371527, 3800.049979673147, 1089.4403201345467, 2393.9903946264717, 3017.26164387462, 11554.666783058587, 3330.3715763885625, 47785.99336411564, 2388.3097298727507, 3116.7462927864076, 5987.517536337322, 1886.0641052193494, 1543.5511474313114, 1447.2097395884211, 1121.8728295722406, 861.1226909007516, 648.4851421114437, 608.5118912374248, 603.5758333747963, 595.3343519726442, 494.2948253071038, 467.52429918914817, 458.83941102636896, 421.6438406931543, 409.9965976071423, 409.4568439904033, 388.266860314684, 378.9778845977266, 363.1723382490326, 349.231769336523, 344.4744109479219, 337.1020638032945, 334.10034599357454, 323.708476483778, 317.9046261141718, 300.5810413057619, 292.19595513885207, 274.2031564241492, 243.401347319766, 239.78119753365087, 10228.514523954133, 1152.1162601527146, 4234.486950205006, 3396.583259484473, 774.8788063208841, 2001.5833966097953, 2402.008144700768, 47785.99336411564, 2388.3097298727507, 22382.463056713135, 892.800615375499, 3800.049979673147, 7083.461300811585, 2542.5425647542356, 3660.918739523766, 621.4725235022883, 3330.3715763885625, 2393.9903946264717, 3116.7462927864076, 2796.3630618949833, 1799.4035851129468, 1686.2485582793042, 963.0593692645076, 816.0567330426214, 801.3075240804066, 796.2905213167959, 740.9347929688541, 719.4400758878668, 717.1769274563953, 707.6249708778538, 640.4823647201122, 602.9839191762585, 596.018198570554, 580.1066702220171, 573.2681904377991, 536.6966109486452, 476.84038110175374, 451.3696943489254, 441.9759614949302, 435.14180924898346, 383.622624609927, 357.07749256651994, 356.1727742823486, 344.4482082301108, 335.97392938214745, 335.24554668936594, 327.86610874190103, 327.65132043763106, 292.2886931894673, 11554.666783058587, 1210.036884273083, 3116.7462927864076, 921.741354732514, 2963.503309165371, 798.9212375554782, 1444.1987320327905, 47785.99336411564, 22382.463056713135, 4029.1244058750553, 7997.095836059787, 2001.5833966097953, 3305.7967371625823, 3884.2470153556624, 3411.910616594729, 1486.4483728762245, 1287.9102015605654, 1200.1390694242843, 1092.3590149680422, 1052.9315999627227, 891.1149570522359, 890.0534136624445, 868.7345780007345, 797.8879765446812, 784.6229573122636, 755.7249717036848, 683.971907089015, 621.4690547863797, 608.0200905469842, 569.364808790002, 556.39662743004, 518.2184698839193, 505.6354964516555, 474.1273641093201, 441.39428680381627, 435.3641345492213, 402.63921406521797, 396.2368758403756, 392.3242938940173, 387.3329921176187, 380.4628621281117, 378.2111180975532, 373.59145096934617, 348.9005325447981, 1870.6003089446942, 814.0026934759611, 1037.6778437337268, 22382.463056713135, 3884.2470153556624, 47785.99336411564, 1643.0837135536883, 11554.666783058587, 7997.095836059787, 2203.9044492812004, 6406.31250817468, 2653.0441651141864, 2633.732294092897, 2446.7195282389966, 1006.606740708387, 793.1673848446881, 726.4760162525426, 690.8708145196275, 627.469078424212, 601.1644040834086, 569.9676832417567, 549.510485584548, 537.5194705452753, 531.0324219968555, 520.088373289606, 511.4841326727306, 468.03959403538335, 467.7576269862386, 456.0000062676014, 453.49751140542526, 452.47468521189876, 440.5872512350514, 436.99736238298004, 391.5464772472814, 375.1773639508973, 363.2450155020294, 353.96316708785207, 348.9269176552282, 347.6386817984255, 344.9314408089447, 1405.9287715017292, 22382.463056713135, 47785.99336411564, 702.3575330233201, 11554.666783058587, 3396.583259484473, 2585.718181557298, 2556.3004862870202, 1861.5978201597438, 1861.2257636154825, 1598.0701794823042, 1596.7714724480172, 1084.0861614912853, 1076.2576137076753, 1047.4889965364534, 967.29617004163, 935.3759123405428, 885.850498601893, 883.0157691840654, 732.6539662088136, 695.0477511881879, 673.5342031947824, 637.334415833976, 622.4093484998529, 621.9885791732482, 617.8478330723464, 556.7162234743648, 546.4562983085418, 526.9139254579376, 496.2720172706408, 465.8557068584134, 417.4294596830456, 404.2923879443122, 392.91647817240084, 381.3636116015481, 362.57463504425357, 47785.99336411564, 1891.4360789795758, 1471.0850735464794, 3109.1377881743415, 4029.1244058750553, 16476.824930806433, 1519.9866556553768, 1339.0736792092755, 1265.9068518519496, 1200.9384559343773, 885.1848942480322, 681.8696167956296, 510.42735871646016, 508.0785513441254, 497.56777942746027, 486.17418776475347, 433.5262862003292, 418.7981619784022, 382.3376919218893, 368.19354006941353, 348.7149359344115, 344.25558093901907, 320.1392958990327, 307.32438418628226, 291.51534232342067, 286.70521672805444, 276.4438850574176, 266.9536873220973, 253.9309697397287, 235.65032802420208, 231.6741732965487, 231.0523921216067, 208.94766855846285, 206.35458433305965, 206.13235634994354, 555.7989065729241, 880.9748551509871, 3305.7967371625823, 1153.6864427635069, 578.337388902917, 10228.514523954133, 2355.7195904484397, 47785.99336411564, 2206.3474168371527, 4029.1244058750553, 1145.51343643864, 3478.1748343210543, 2231.1975164362166, 1817.5540400446416, 1681.0899657746234, 1401.522896351788, 1379.3149524403957, 1357.5062491651736, 1125.7003787092451, 1051.2472515711115, 918.6547270437457, 612.0773214270768, 560.1836552845187, 486.42612977970526, 474.0853149032943, 448.47448219798724, 429.69769480369314, 415.349520794161, 388.44024673988014, 379.66671104538364, 378.4968239574989, 357.56348356063035, 336.79891745385703, 308.37815971600327, 297.5813995978654, 295.54804187685664, 294.19163069766915, 289.1244751957237, 289.04046447400776, 284.5356877023806, 270.23497555729267, 2542.5425647542356, 1337.1501754774558, 933.8363256536886, 47785.99336411564, 7997.095836059787, 1870.6003089446942, 22382.463056713135, 4234.486950205006, 2963.503309165371, 2203.9044492812004, 2779.0378176658996, 2597.534564748142, 1813.3459979102042, 1721.9151704576368, 1532.068208807465, 1239.193903197238, 993.4196326327668, 986.5095155118794, 940.5477202580417, 756.2306919016896, 732.0525439728247, 655.1047730320543, 643.0329628786952, 592.022580775597, 585.075674936401, 550.8812650322119, 483.83225310348087, 475.34941889837165, 459.7805574977895, 438.0552446919336, 423.5360417408129, 421.46697472046634, 408.35917814136536, 380.91442451920585, 359.6318527957142, 349.0872973887901, 310.320926818329, 298.82295355832247, 286.66455899858454, 231.08056220759056, 1836.1509390215133, 1891.4360789795758, 22382.463056713135, 3660.918739523766, 47785.99336411564, 7997.095836059787, 3305.7967371625823, 3292.261421082898, 1971.2002483434137, 1675.3838572165173, 1509.2545575504992, 1065.8154638988178, 806.401292554728, 762.1076667294493, 719.5201942135374, 690.8208760196861, 675.896981092093, 647.6152549667439, 611.5243287475832, 585.3522694547166, 568.114566965396, 557.6263024853607, 548.149237555375, 533.1750712293019, 472.5613557912025, 472.1531880551789, 462.88432746025825, 460.1021046758414, 459.58475096192603, 439.1897762904285, 421.97166461359933, 404.7852656358256, 386.2875748520776, 379.5034680656778, 371.01150692088555, 343.8204129249663, 323.6263622607302, 2444.3758654063136, 1001.4691326328054, 3015.036613514405, 3109.1377881743415, 1767.7505963402168, 1758.9640397749783, 1050.4160299082464, 954.7156370389117, 933.6533837813056, 887.8645400601517, 846.0616040314022, 657.1498662185531, 640.2778172707195, 627.4186503738301, 612.8014281503996, 612.2419114445873, 611.4736058648018, 589.1954077350546, 546.1848752396892, 538.5330849489255, 526.513738888364, 507.87005036852923, 493.2883107198841, 488.8230378930091, 485.63876870324316, 484.04595986989483, 478.7749697387593, 472.93376986111076, 457.9759070532951, 438.92921486558635, 438.0253660980993, 436.0391858189187, 435.84006065814293, 429.3131781683165, 1842.087147994845, 778.4181731338751, 47785.99336411564, 1586.093983735155, 971.481874420291, 947.6731393341446, 800.9354431565783, 748.5406010836105, 679.7982402949333, 660.617478264124, 658.0840635474619, 647.7596978534539, 631.2496184051429, 597.7207857792666, 580.861623762212, 553.4995811696223, 549.3716678733547, 510.3401841390516, 509.5724131755459, 509.560190821899, 505.4373413068903, 470.8015434830854, 450.27403638522696, 389.0368696804113, 371.6599663674203, 354.5389459332632, 344.1500714538653, 330.0522740667791, 329.7659715213526, 329.48364162417744, 327.38131975656825, 295.8447769270857, 262.60009517916706, 2355.7195904484397, 2444.3758654063136, 3884.2470153556624, 47785.99336411564, 3341.4408352903147, 2923.764021972833, 1613.7828531556554, 1562.7863065313513, 1495.3238193291634, 1466.8883526153893, 1373.0723102457882, 1192.784931504115, 1074.9634065477853, 990.9183596829199, 946.0189382884982, 944.6631978771246, 838.5051139058804, 816.1843406355894, 781.9103806423144, 720.260470392655, 689.7865187105281, 518.1423276953504, 444.49288653837306, 433.81795670903455, 433.52147056458983, 423.46137013171574, 324.02321232043664, 310.6492911939206, 308.6603616516026, 283.2505758133716, 274.71008965527045, 257.9895735953907, 231.9715363541912, 229.42710758335124, 217.51043315973644, 3017.26164387462], \"Category\": [\"Default\", \"Default\", \"Default\", \"Default\", \"Default\", \"Default\", \"Default\", \"Default\", \"Default\", \"Default\", \"Default\", \"Default\", \"Default\", \"Default\", \"Default\", \"Default\", \"Default\", \"Default\", \"Default\", \"Default\", \"Default\", \"Default\", \"Default\", \"Default\", \"Default\", \"Default\", \"Default\", \"Default\", \"Default\", \"Default\", \"Topic1\", \"Topic1\", \"Topic1\", \"Topic1\", \"Topic1\", \"Topic1\", \"Topic1\", \"Topic1\", \"Topic1\", \"Topic1\", \"Topic1\", \"Topic1\", \"Topic1\", \"Topic1\", \"Topic1\", \"Topic1\", \"Topic1\", \"Topic1\", \"Topic1\", \"Topic1\", \"Topic1\", \"Topic1\", \"Topic1\", \"Topic1\", \"Topic1\", \"Topic1\", \"Topic1\", \"Topic1\", \"Topic1\", \"Topic1\", \"Topic1\", \"Topic1\", \"Topic1\", \"Topic1\", \"Topic1\", \"Topic1\", \"Topic1\", \"Topic1\", \"Topic1\", \"Topic1\", \"Topic1\", \"Topic1\", \"Topic1\", \"Topic1\", \"Topic1\", \"Topic1\", \"Topic2\", \"Topic2\", \"Topic2\", \"Topic2\", \"Topic2\", \"Topic2\", \"Topic2\", \"Topic2\", \"Topic2\", \"Topic2\", \"Topic2\", \"Topic2\", \"Topic2\", \"Topic2\", \"Topic2\", \"Topic2\", \"Topic2\", \"Topic2\", \"Topic2\", \"Topic2\", \"Topic2\", \"Topic2\", \"Topic2\", \"Topic2\", \"Topic2\", \"Topic2\", \"Topic2\", \"Topic2\", \"Topic2\", \"Topic2\", \"Topic2\", \"Topic2\", \"Topic2\", \"Topic2\", \"Topic2\", \"Topic2\", \"Topic2\", \"Topic2\", \"Topic2\", \"Topic2\", \"Topic2\", \"Topic2\", \"Topic2\", \"Topic2\", \"Topic2\", \"Topic2\", \"Topic3\", \"Topic3\", \"Topic3\", \"Topic3\", \"Topic3\", \"Topic3\", \"Topic3\", \"Topic3\", \"Topic3\", \"Topic3\", \"Topic3\", \"Topic3\", \"Topic3\", \"Topic3\", \"Topic3\", \"Topic3\", \"Topic3\", \"Topic3\", \"Topic3\", \"Topic3\", \"Topic3\", \"Topic3\", \"Topic3\", \"Topic3\", \"Topic3\", \"Topic3\", \"Topic3\", \"Topic3\", \"Topic3\", \"Topic3\", \"Topic3\", \"Topic3\", \"Topic3\", \"Topic3\", \"Topic3\", \"Topic3\", \"Topic3\", \"Topic3\", \"Topic3\", \"Topic3\", \"Topic3\", \"Topic3\", \"Topic3\", \"Topic3\", \"Topic3\", \"Topic3\", \"Topic3\", \"Topic3\", \"Topic3\", \"Topic4\", \"Topic4\", \"Topic4\", \"Topic4\", \"Topic4\", \"Topic4\", \"Topic4\", \"Topic4\", \"Topic4\", \"Topic4\", \"Topic4\", \"Topic4\", \"Topic4\", \"Topic4\", \"Topic4\", \"Topic4\", \"Topic4\", \"Topic4\", \"Topic4\", \"Topic4\", \"Topic4\", \"Topic4\", \"Topic4\", \"Topic4\", \"Topic4\", \"Topic4\", \"Topic4\", \"Topic4\", \"Topic4\", \"Topic4\", \"Topic4\", \"Topic4\", \"Topic4\", \"Topic4\", \"Topic4\", \"Topic4\", \"Topic4\", \"Topic4\", \"Topic4\", \"Topic4\", \"Topic4\", \"Topic4\", \"Topic4\", \"Topic4\", \"Topic5\", \"Topic5\", \"Topic5\", \"Topic5\", \"Topic5\", \"Topic5\", \"Topic5\", \"Topic5\", \"Topic5\", \"Topic5\", \"Topic5\", \"Topic5\", \"Topic5\", \"Topic5\", \"Topic5\", \"Topic5\", \"Topic5\", \"Topic5\", \"Topic5\", \"Topic5\", \"Topic5\", \"Topic5\", \"Topic5\", \"Topic5\", \"Topic5\", \"Topic5\", \"Topic5\", \"Topic5\", \"Topic5\", \"Topic5\", \"Topic5\", \"Topic5\", \"Topic5\", \"Topic5\", \"Topic5\", \"Topic5\", \"Topic5\", \"Topic5\", \"Topic5\", \"Topic5\", \"Topic6\", \"Topic6\", \"Topic6\", \"Topic6\", \"Topic6\", \"Topic6\", \"Topic6\", \"Topic6\", \"Topic6\", \"Topic6\", \"Topic6\", \"Topic6\", \"Topic6\", \"Topic6\", \"Topic6\", \"Topic6\", \"Topic6\", \"Topic6\", \"Topic6\", \"Topic6\", \"Topic6\", \"Topic6\", \"Topic6\", \"Topic6\", \"Topic6\", \"Topic6\", \"Topic6\", \"Topic6\", \"Topic6\", \"Topic6\", \"Topic6\", \"Topic6\", \"Topic6\", \"Topic6\", \"Topic6\", \"Topic6\", \"Topic7\", \"Topic7\", \"Topic7\", \"Topic7\", \"Topic7\", \"Topic7\", \"Topic7\", \"Topic7\", \"Topic7\", \"Topic7\", \"Topic7\", \"Topic7\", \"Topic7\", \"Topic7\", \"Topic7\", \"Topic7\", \"Topic7\", \"Topic7\", \"Topic7\", \"Topic7\", \"Topic7\", \"Topic7\", \"Topic7\", \"Topic7\", \"Topic7\", \"Topic7\", \"Topic7\", \"Topic7\", \"Topic7\", \"Topic7\", \"Topic7\", \"Topic7\", \"Topic7\", \"Topic7\", \"Topic7\", \"Topic8\", \"Topic8\", \"Topic8\", \"Topic8\", \"Topic8\", \"Topic8\", \"Topic8\", \"Topic8\", \"Topic8\", \"Topic8\", \"Topic8\", \"Topic8\", \"Topic8\", \"Topic8\", \"Topic8\", \"Topic8\", \"Topic8\", \"Topic8\", \"Topic8\", \"Topic8\", \"Topic8\", \"Topic8\", \"Topic8\", \"Topic8\", \"Topic8\", \"Topic8\", \"Topic8\", \"Topic8\", \"Topic8\", \"Topic8\", \"Topic8\", \"Topic8\", \"Topic8\", \"Topic8\", \"Topic8\", \"Topic8\", \"Topic8\", \"Topic8\", \"Topic8\", \"Topic8\", \"Topic8\", \"Topic9\", \"Topic9\", \"Topic9\", \"Topic9\", \"Topic9\", \"Topic9\", \"Topic9\", \"Topic9\", \"Topic9\", \"Topic9\", \"Topic9\", \"Topic9\", \"Topic9\", \"Topic9\", \"Topic9\", \"Topic9\", \"Topic9\", \"Topic9\", \"Topic9\", \"Topic9\", \"Topic9\", \"Topic9\", \"Topic9\", \"Topic9\", \"Topic9\", \"Topic9\", \"Topic9\", \"Topic9\", \"Topic9\", \"Topic9\", \"Topic9\", \"Topic9\", \"Topic9\", \"Topic9\", \"Topic9\", \"Topic9\", \"Topic9\", \"Topic9\", \"Topic9\", \"Topic9\", \"Topic10\", \"Topic10\", \"Topic10\", \"Topic10\", \"Topic10\", \"Topic10\", \"Topic10\", \"Topic10\", \"Topic10\", \"Topic10\", \"Topic10\", \"Topic10\", \"Topic10\", \"Topic10\", \"Topic10\", \"Topic10\", \"Topic10\", \"Topic10\", \"Topic10\", \"Topic10\", \"Topic10\", \"Topic10\", \"Topic10\", \"Topic10\", \"Topic10\", \"Topic10\", \"Topic10\", \"Topic10\", \"Topic10\", \"Topic10\", \"Topic10\", \"Topic10\", \"Topic10\", \"Topic10\", \"Topic10\", \"Topic10\", \"Topic10\", \"Topic11\", \"Topic11\", \"Topic11\", \"Topic11\", \"Topic11\", \"Topic11\", \"Topic11\", \"Topic11\", \"Topic11\", \"Topic11\", \"Topic11\", \"Topic11\", \"Topic11\", \"Topic11\", \"Topic11\", \"Topic11\", \"Topic11\", \"Topic11\", \"Topic11\", \"Topic11\", \"Topic11\", \"Topic11\", \"Topic11\", \"Topic11\", \"Topic11\", \"Topic11\", \"Topic11\", \"Topic11\", \"Topic11\", \"Topic11\", \"Topic11\", \"Topic11\", \"Topic11\", \"Topic11\", \"Topic12\", \"Topic12\", \"Topic12\", \"Topic12\", \"Topic12\", \"Topic12\", \"Topic12\", \"Topic12\", \"Topic12\", \"Topic12\", \"Topic12\", \"Topic12\", \"Topic12\", \"Topic12\", \"Topic12\", \"Topic12\", \"Topic12\", \"Topic12\", \"Topic12\", \"Topic12\", \"Topic12\", \"Topic12\", \"Topic12\", \"Topic12\", \"Topic12\", \"Topic12\", \"Topic12\", \"Topic12\", \"Topic12\", \"Topic12\", \"Topic12\", \"Topic12\", \"Topic12\", \"Topic13\", \"Topic13\", \"Topic13\", \"Topic13\", \"Topic13\", \"Topic13\", \"Topic13\", \"Topic13\", \"Topic13\", \"Topic13\", \"Topic13\", \"Topic13\", \"Topic13\", \"Topic13\", \"Topic13\", \"Topic13\", \"Topic13\", \"Topic13\", \"Topic13\", \"Topic13\", \"Topic13\", \"Topic13\", \"Topic13\", \"Topic13\", \"Topic13\", \"Topic13\", \"Topic13\", \"Topic13\", \"Topic13\", \"Topic13\", \"Topic13\", \"Topic13\", \"Topic13\", \"Topic13\", \"Topic13\", \"Topic14\", \"Topic14\", \"Topic14\", \"Topic14\", \"Topic14\", \"Topic14\", \"Topic14\", \"Topic14\", \"Topic14\", \"Topic14\", \"Topic14\", \"Topic14\", \"Topic14\", \"Topic14\", \"Topic14\", \"Topic14\", \"Topic14\", \"Topic14\", \"Topic14\", \"Topic14\", \"Topic14\", \"Topic14\", \"Topic14\", \"Topic14\", \"Topic14\", \"Topic14\", \"Topic14\", \"Topic14\", \"Topic14\", \"Topic14\", \"Topic14\"], \"logprob\": [30.0, 29.0, 28.0, 27.0, 26.0, 25.0, 24.0, 23.0, 22.0, 21.0, 20.0, 19.0, 18.0, 17.0, 16.0, 15.0, 14.0, 13.0, 12.0, 11.0, 10.0, 9.0, 8.0, 7.0, 6.0, 5.0, 4.0, 3.0, 2.0, 1.0, -2.6004, -3.0062, -3.196, -3.9413, -4.2129, -4.458, -4.5646, -4.5783, -4.5916, -4.8043, -4.81, -4.8381, -4.8528, -4.8656, -4.8973, -4.9262, -4.9454, -5.0946, -5.0993, -5.1588, -5.2718, -5.4175, -5.4305, -5.473, -5.4906, -5.4934, -5.495, -5.5449, -5.5933, -5.6005, -2.543, -3.6444, -3.5594, -2.8707, -4.0813, -1.8181, -4.7882, -3.4707, -4.3809, -4.3334, -4.3781, -4.497, -4.7715, -4.6528, -4.7297, -4.8961, -1.8157, -3.5628, -3.7256, -3.7384, -3.8769, -3.8881, -4.0055, -4.1174, -4.2562, -4.4091, -4.4653, -4.5226, -4.5634, -4.6479, -4.784, -4.8611, -5.0187, -5.1139, -5.1226, -5.1276, -5.1524, -5.1565, -5.1616, -5.1728, -5.1803, -5.2217, -5.2616, -5.2688, -5.2793, -5.2892, -3.8272, -3.3593, -4.1482, -4.391, -4.4052, -4.1861, -4.0017, -3.7694, -4.5636, -4.1086, -4.0266, -3.5542, -4.2252, -3.7557, -4.7095, -4.696, -2.3922, -3.5478, -3.7483, -3.8128, -4.0677, -4.3325, -4.6165, -4.6802, -4.6884, -4.7022, -4.8885, -4.9443, -4.9631, -5.0479, -5.076, -5.0773, -5.1306, -5.1549, -5.1976, -5.2369, -5.2506, -5.2723, -5.2813, -5.313, -5.3311, -5.3874, -5.4158, -5.4796, -5.5993, -5.6143, -2.042, -4.2547, -3.2013, -3.5007, -4.6792, -4.0109, -3.957, -2.3398, -4.1699, -3.0315, -4.7572, -4.1037, -3.8338, -4.439, -4.3881, -4.9937, -4.8179, -4.8576, -4.8973, -3.1257, -3.5668, -3.6318, -4.1924, -4.3583, -4.3765, -4.3828, -4.455, -4.4844, -4.4876, -4.501, -4.6009, -4.6613, -4.673, -4.7001, -4.712, -4.778, -4.8965, -4.9515, -4.9726, -4.9882, -5.1146, -5.1865, -5.1891, -5.2226, -5.2476, -5.2498, -5.2721, -5.2728, -5.3874, -2.2686, -4.1841, -3.4661, -4.4442, -3.5997, -4.6156, -4.2086, -2.5325, -3.0494, -3.9349, -3.7457, -4.359, -4.4804, -4.6599, -2.801, -3.6323, -3.7757, -3.8464, -3.9406, -3.9774, -4.1444, -4.1456, -4.1699, -4.2551, -4.2719, -4.3094, -4.4094, -4.5054, -4.5273, -4.5931, -4.6162, -4.6874, -4.712, -4.7765, -4.8482, -4.862, -4.9404, -4.9564, -4.9664, -4.9792, -4.9972, -5.0031, -5.0155, -5.084, -3.741, -4.444, -4.3039, -2.2406, -3.7586, -2.5206, -4.3873, -3.7284, -4.3779, -4.6594, -2.1011, -2.9829, -2.9902, -3.0639, -3.9527, -4.1913, -4.2792, -4.3296, -4.426, -4.4689, -4.5223, -4.5589, -4.581, -4.5932, -4.6141, -4.6308, -4.7197, -4.7203, -4.7459, -4.7514, -4.7536, -4.7803, -4.7885, -4.8986, -4.9415, -4.9739, -4.9999, -5.0142, -5.0179, -5.0258, -4.1928, -2.6154, -2.4537, -4.6775, -3.4759, -4.6159, -2.9492, -2.9607, -3.278, -3.2782, -3.4307, -3.4315, -3.8191, -3.8264, -3.8535, -3.9332, -3.9668, -4.0213, -4.0245, -4.2114, -4.2642, -4.2957, -4.351, -4.3747, -4.3754, -4.3821, -4.4865, -4.5051, -4.5416, -4.6017, -4.6651, -4.7751, -4.8072, -4.8358, -4.8657, -4.9164, -2.4174, -4.3704, -4.4828, -4.3229, -4.644, -1.0654, -3.4493, -3.5762, -3.6324, -3.6851, -3.9905, -4.2518, -4.542, -4.5466, -4.5676, -4.5908, -4.7057, -4.7403, -4.8316, -4.8694, -4.924, -4.9369, -5.0097, -5.0507, -5.1037, -5.1205, -5.157, -5.1921, -5.2423, -5.3174, -5.3345, -5.3372, -5.4382, -5.4508, -5.4519, -4.5919, -4.2003, -3.3875, -4.2238, -4.7959, -3.3189, -4.1508, -3.4787, -4.7641, -4.69, -5.0418, -2.5914, -3.0356, -3.2407, -3.3188, -3.5008, -3.5168, -3.5328, -3.7202, -3.7887, -3.9236, -4.3303, -4.4191, -4.5605, -4.5863, -4.642, -4.6848, -4.7189, -4.786, -4.809, -4.812, -4.8691, -4.9291, -5.0176, -5.0534, -5.0602, -5.0649, -5.0823, -5.0826, -5.0984, -5.1501, -3.2675, -3.8646, -4.1978, -2.4532, -3.8874, -4.4587, -3.7468, -4.3117, -4.7639, -4.7995, -2.7467, -2.8143, -3.1739, -3.2256, -3.3425, -3.5549, -3.7761, -3.7831, -3.8309, -4.0493, -4.0818, -4.1931, -4.2117, -4.2945, -4.3063, -4.3667, -4.4967, -4.5144, -4.5478, -4.5963, -4.6301, -4.635, -4.6667, -4.7365, -4.7942, -4.824, -4.9421, -4.98, -5.0217, -5.2382, -3.4846, -3.5322, -2.6476, -3.777, -2.6714, -4.0513, -4.3673, -2.4898, -3.0029, -3.1656, -3.2701, -3.6183, -3.8976, -3.9541, -4.0117, -4.0525, -4.0744, -4.1172, -4.1746, -4.2184, -4.2484, -4.2671, -4.2842, -4.312, -4.4329, -4.4338, -4.4537, -4.4597, -4.4608, -4.5064, -4.5464, -4.5881, -4.635, -4.6528, -4.6755, -4.7519, -4.8126, -3.0304, -4.1753, -4.0245, -4.5893, -2.9713, -2.9763, -3.4922, -3.5879, -3.6102, -3.6605, -3.7088, -3.9619, -3.9879, -4.0083, -4.0319, -4.0328, -4.034, -4.0712, -4.1472, -4.1613, -4.1839, -4.2201, -4.2493, -4.2584, -4.2649, -4.2682, -4.2792, -4.2915, -4.3237, -4.3663, -4.3683, -4.3729, -4.3734, -4.3885, -3.3326, -4.3028, -4.1179, -3.0227, -3.5133, -3.5381, -3.7066, -3.7743, -3.8708, -3.8995, -3.9033, -3.9192, -3.945, -3.9997, -4.0284, -4.0767, -4.0842, -4.158, -4.1596, -4.1596, -4.1677, -4.2389, -4.2836, -4.4301, -4.4759, -4.5232, -4.5531, -4.595, -4.5959, -4.5968, -4.6032, -4.7048, -4.8245, -3.0123, -4.1247, -4.1818, -3.9198, -4.3506, -2.3723, -2.9669, -2.999, -3.0432, -3.0624, -3.1285, -3.2694, -3.3735, -3.455, -3.5014, -3.5029, -3.6222, -3.6492, -3.6922, -3.7744, -3.8177, -4.1044, -4.2581, -4.2824, -4.2831, -4.3067, -4.5751, -4.6174, -4.6238, -4.7101, -4.7408, -4.8039, -4.9106, -4.9217, -4.9753, -2.8737], \"loglift\": [30.0, 29.0, 28.0, 27.0, 26.0, 25.0, 24.0, 23.0, 22.0, 21.0, 20.0, 19.0, 18.0, 17.0, 16.0, 15.0, 14.0, 13.0, 12.0, 11.0, 10.0, 9.0, 8.0, 7.0, 6.0, 5.0, 4.0, 3.0, 2.0, 1.0, 2.2798, 2.2797, 2.2796, 2.2792, 2.279, 2.2787, 2.2785, 2.2785, 2.2785, 2.2781, 2.2781, 2.2781, 2.278, 2.278, 2.2779, 2.2779, 2.2778, 2.2775, 2.2775, 2.2773, 2.277, 2.2766, 2.2765, 2.2764, 2.2763, 2.2763, 2.2763, 2.2761, 2.2759, 2.2759, 2.0568, 2.0686, 1.8638, 1.6077, 1.8202, 0.8727, 1.9775, -0.0215, 0.9539, 0.7809, 0.7859, 0.7036, 1.1751, 0.607, 0.9573, 1.5256, 2.3108, 2.3103, 2.3102, 2.3102, 2.3101, 2.3101, 2.31, 2.3099, 2.3098, 2.3096, 2.3095, 2.3094, 2.3094, 2.3092, 2.309, 2.3088, 2.3085, 2.3083, 2.3082, 2.3082, 2.3082, 2.3082, 2.3081, 2.3081, 2.3081, 2.308, 2.3079, 2.3078, 2.3078, 2.3078, 2.1265, 1.9919, 2.091, 2.1395, 2.0638, 1.9785, 1.7645, 1.4531, 1.9082, 1.576, 1.4265, 0.5562, 1.1292, -1.0649, 0.9775, 0.7247, 2.3757, 2.3753, 2.3751, 2.3751, 2.3749, 2.3746, 2.3742, 2.3741, 2.374, 2.374, 2.3736, 2.3735, 2.3735, 2.3732, 2.3732, 2.3732, 2.373, 2.373, 2.3728, 2.3727, 2.3727, 2.3726, 2.3726, 2.3725, 2.3724, 2.3722, 2.3721, 2.3718, 2.3713, 2.3713, 2.1904, 2.1612, 1.913, 1.834, 2.1334, 1.8527, 1.7243, 0.351, 1.517, 0.4178, 1.9137, 1.1188, 0.766, 1.1854, 0.8717, 2.0395, 0.5366, 0.827, 0.5234, 2.4035, 2.4033, 2.4033, 2.4028, 2.4026, 2.4025, 2.4025, 2.4024, 2.4024, 2.4024, 2.4024, 2.4022, 2.4021, 2.4021, 2.402, 2.402, 2.4019, 2.4016, 2.4015, 2.4014, 2.4014, 2.401, 2.4008, 2.4008, 2.4007, 2.4006, 2.4006, 2.4006, 2.4005, 2.4001, 1.8418, 2.1828, 1.9547, 2.1949, 1.8714, 2.1664, 1.9814, 0.1584, 0.3999, 1.2291, 0.7327, 1.5046, 0.8815, 0.5407, 2.5293, 2.5289, 2.5288, 2.5287, 2.5286, 2.5286, 2.5284, 2.5284, 2.5284, 2.5282, 2.5282, 2.5282, 2.528, 2.5279, 2.5278, 2.5277, 2.5277, 2.5275, 2.5275, 2.5273, 2.5271, 2.5271, 2.5269, 2.5268, 2.5268, 2.5268, 2.5267, 2.5267, 2.5267, 2.5265, 2.1902, 2.3193, 2.2167, 1.2086, 1.442, 0.1703, 1.6737, 0.382, 0.1005, 1.1079, 2.5992, 2.5989, 2.5989, 2.5989, 2.5983, 2.598, 2.5978, 2.5978, 2.5976, 2.5975, 2.5974, 2.5974, 2.5973, 2.5973, 2.5972, 2.5972, 2.597, 2.597, 2.5969, 2.5969, 2.5969, 2.5969, 2.5968, 2.5965, 2.5964, 2.5963, 2.5962, 2.5962, 2.5962, 2.5962, 2.024, 0.8339, 0.2371, 2.2333, 0.6345, 0.7189, 2.6583, 2.6583, 2.6581, 2.6581, 2.658, 2.658, 2.6577, 2.6577, 2.6577, 2.6576, 2.6575, 2.6575, 2.6575, 2.6572, 2.6571, 2.6571, 2.657, 2.657, 2.657, 2.6569, 2.6567, 2.6567, 2.6566, 2.6565, 2.6564, 2.6561, 2.656, 2.6559, 2.6558, 2.6557, 0.2734, 1.5498, 1.6887, 1.1003, 0.52, 2.6901, 2.6895, 2.6894, 2.6893, 2.6893, 2.689, 2.6886, 2.6881, 2.6881, 2.688, 2.688, 2.6877, 2.6876, 2.6873, 2.6872, 2.6871, 2.687, 2.6868, 2.6866, 2.6865, 2.6864, 2.6862, 2.6861, 2.6859, 2.6856, 2.6855, 2.6855, 2.685, 2.6849, 2.6849, 2.553, 2.484, 1.9743, 2.1908, 2.3092, 0.9135, 1.5499, -0.7878, 1.0021, 0.474, 1.3799, 2.7196, 2.7194, 2.7193, 2.7193, 2.7192, 2.7191, 2.7191, 2.719, 2.7189, 2.7187, 2.7181, 2.718, 2.7177, 2.7176, 2.7175, 2.7174, 2.7173, 2.7171, 2.717, 2.717, 2.7169, 2.7167, 2.7164, 2.7162, 2.7162, 2.7162, 2.7161, 2.7161, 2.7161, 2.7159, 2.3569, 2.4024, 2.4282, 0.2376, 0.591, 1.4726, -0.2975, 0.8026, 0.7073, 0.9678, 2.7887, 2.7887, 2.7885, 2.7885, 2.7884, 2.7882, 2.788, 2.788, 2.7879, 2.7877, 2.7876, 2.7874, 2.7874, 2.7873, 2.7872, 2.7871, 2.7868, 2.7868, 2.7867, 2.7866, 2.7865, 2.7865, 2.7864, 2.7862, 2.7861, 2.786, 2.7856, 2.7854, 2.7853, 2.7844, 2.4653, 2.388, 0.8016, 1.4829, 0.0194, 0.4272, 0.9946, 2.8762, 2.876, 2.8759, 2.8758, 2.8755, 2.8751, 2.8751, 2.875, 2.8749, 2.8749, 2.8748, 2.8747, 2.8746, 2.8746, 2.8745, 2.8745, 2.8745, 2.8742, 2.8742, 2.8741, 2.8741, 2.8741, 2.874, 2.8739, 2.8738, 2.8737, 2.8736, 2.8736, 2.8733, 2.8731, 2.6334, 2.3808, 1.4295, 0.8339, 3.0165, 3.0165, 3.0161, 3.016, 3.016, 3.0159, 3.0159, 3.0155, 3.0155, 3.0154, 3.0154, 3.0154, 3.0154, 3.0153, 3.0152, 3.0151, 3.0151, 3.015, 3.015, 3.0149, 3.0149, 3.0149, 3.0149, 3.0149, 3.0148, 3.0147, 3.0147, 3.0147, 3.0147, 3.0146, 2.614, 2.5053, -1.4271, 3.0736, 3.0732, 3.0732, 3.0729, 3.0728, 3.0727, 3.0727, 3.0726, 3.0726, 3.0726, 3.0725, 3.0724, 3.0723, 3.0723, 3.0722, 3.0722, 3.0722, 3.0721, 3.072, 3.0719, 3.0715, 3.0714, 3.0712, 3.0711, 3.071, 3.071, 3.071, 3.071, 3.0706, 3.0702, 2.6884, 1.5391, 1.0189, -1.229, 1.0005, 3.1124, 3.1121, 3.1121, 3.112, 3.112, 3.112, 3.1118, 3.1117, 3.1116, 3.1116, 3.1116, 3.1114, 3.1114, 3.1114, 3.1112, 3.1112, 3.1106, 3.1103, 3.1102, 3.1102, 3.1102, 3.1094, 3.1092, 3.1092, 3.1089, 3.1088, 3.1085, 3.108, 3.108, 3.1077, 2.5795]}, \"token.table\": {\"Topic\": [8, 4, 5, 12, 12, 1, 11, 9, 3, 4, 1, 2, 8, 11, 8, 1, 3, 11, 3, 11, 14, 12, 13, 7, 7, 7, 12, 12, 12, 4, 6, 1, 14, 3, 8, 4, 14, 2, 9, 7, 9, 14, 9, 1, 4, 7, 8, 9, 10, 13, 1, 2, 4, 7, 8, 9, 10, 11, 13, 1, 12, 13, 7, 10, 8, 6, 12, 2, 1, 2, 8, 8, 13, 2, 11, 10, 11, 4, 2, 2, 4, 2, 3, 9, 2, 12, 2, 9, 14, 13, 14, 12, 9, 5, 8, 4, 7, 14, 3, 6, 4, 5, 2, 10, 3, 11, 6, 1, 1, 9, 7, 9, 6, 6, 3, 7, 7, 1, 9, 6, 7, 5, 13, 13, 11, 11, 6, 3, 12, 2, 3, 2, 9, 8, 9, 2, 5, 7, 1, 9, 8, 14, 14, 2, 14, 4, 5, 4, 11, 13, 2, 3, 8, 12, 6, 5, 10, 11, 1, 3, 8, 2, 3, 5, 6, 11, 13, 8, 10, 9, 1, 4, 13, 14, 6, 8, 1, 11, 8, 13, 6, 9, 5, 10, 2, 8, 8, 9, 9, 6, 4, 1, 7, 9, 7, 5, 3, 5, 1, 3, 13, 11, 5, 4, 13, 6, 8, 4, 3, 4, 5, 8, 9, 10, 13, 10, 12, 1, 14, 11, 11, 6, 10, 14, 4, 1, 3, 1, 4, 1, 2, 3, 4, 5, 6, 7, 8, 9, 10, 12, 13, 1, 12, 10, 13, 9, 1, 2, 4, 5, 6, 9, 14, 3, 4, 5, 9, 11, 1, 4, 5, 9, 10, 1, 9, 9, 10, 2, 6, 2, 9, 5, 9, 5, 9, 12, 6, 11, 9, 2, 4, 5, 6, 9, 6, 3, 4, 6, 4, 7, 1, 2, 5, 2, 5, 10, 14, 6, 9, 1, 3, 13, 4, 1, 9, 12, 7, 12, 13, 11, 1, 5, 6, 9, 2, 2, 1, 1, 3, 8, 9, 12, 8, 1, 3, 6, 12, 6, 10, 2, 4, 1, 3, 9, 1, 3, 4, 3, 3, 9, 2, 6, 2, 7, 8, 3, 11, 13, 12, 13, 1, 7, 11, 14, 10, 10, 3, 6, 13, 5, 10, 5, 5, 8, 7, 7, 8, 10, 3, 4, 11, 7, 1, 2, 3, 4, 10, 7, 11, 10, 1, 2, 4, 11, 7, 1, 4, 2, 5, 8, 13, 5, 14, 12, 2, 10, 8, 12, 4, 8, 3, 14, 6, 13, 1, 3, 5, 9, 14, 4, 2, 5, 11, 2, 11, 3, 1, 3, 4, 5, 6, 9, 10, 2, 4, 5, 6, 6, 14, 2, 4, 13, 14, 2, 10, 14, 1, 3, 7, 12, 10, 6, 5, 8, 13, 10, 11, 4, 12, 4, 3, 5, 7, 1, 6, 5, 10, 5, 13, 14, 10, 6, 14, 8, 12, 1, 2, 2, 6, 13, 10, 4, 2, 6, 9, 12, 14, 12, 2, 4, 1, 4, 5, 7, 10, 13, 2, 4, 3, 14, 13, 8, 14, 12, 8, 8, 7, 4, 8, 8, 4, 4, 9, 13, 13, 1, 7, 4, 5, 9, 13, 8, 13, 8, 3, 7, 12, 7, 7, 3, 7, 8, 3, 4, 11, 8, 4, 11, 11, 9, 7, 13, 11, 3, 1, 2, 3, 7, 12, 3, 14, 7, 3, 1, 3, 7, 11, 12, 9, 2, 3, 6, 1, 5, 11, 13, 12, 13, 12, 1, 9, 1, 3, 5, 6, 9, 10, 12, 7, 11, 13, 6, 14, 1, 7, 5, 8, 2, 3, 4, 2, 3, 4, 6, 11, 2, 7, 10, 3, 12, 14, 3, 5, 2, 11, 12, 10, 14, 11, 13, 10, 2, 6, 10, 6, 7, 5, 1, 2, 3, 4, 6, 8, 10, 12, 13, 10, 4, 5, 8, 10, 10, 5, 2, 4, 5, 1, 13, 11, 11, 10, 4, 4, 3, 12, 4, 3], \"Freq\": [0.9999499338731888, 0.2679058839684893, 0.731440884647782, 0.9992504186470316, 0.9980042768369418, 0.9989552200210338, 0.9996168526974134, 0.994762131168165, 0.7846388300214032, 0.21422704898610678, 0.23568364439424114, 0.5792378798766157, 0.18492101329394303, 0.9979034221401086, 0.9970899937314733, 0.9971327887794352, 0.9975692539573286, 0.9965517764490465, 0.9967371402399442, 0.9978872111918985, 0.9977953399398358, 0.9969412116024036, 0.9957807007510527, 0.9989980856412822, 0.9993303301093756, 0.9988496590666732, 0.9987452402681509, 0.9976167604822785, 0.9983813486758045, 0.30468812526126154, 0.6933790514123102, 0.997272150306123, 0.9995148956043717, 0.9942426476467898, 0.9986614160999225, 0.999219972037091, 0.9981145162472305, 0.9967049097814276, 0.998239893246551, 0.9984925479056701, 0.9946028292099974, 0.995811829462095, 0.9993516315028856, 0.22436636572497864, 0.30900013863672393, 0.11789161915858945, 0.10895667539078056, 0.07272051455466676, 0.08736389461857576, 0.07966991526296255, 0.1276933083579486, 0.12338158625755033, 0.1376434362819446, 0.12503994091154966, 0.05970076754397597, 0.07761099780716876, 0.05306734892797864, 0.23515468993710534, 0.060695780336375564, 0.9981723943354713, 0.9978391310813214, 0.9985166453988966, 0.329908056071684, 0.6693326906838973, 0.9948018436650944, 0.9960503354336023, 0.9977389094618324, 0.9989322728905615, 0.9978822478421046, 0.999195516369167, 0.9945066540256243, 0.9991981925819724, 0.9983526974629682, 0.9998859030299707, 0.9976046519573782, 0.9972460162496792, 0.9975073293474601, 0.9983682497244659, 0.9967299695379448, 0.1975146403438576, 0.8016284566256981, 0.9990120747744381, 0.27147287317251684, 0.7276669575671043, 0.399528185150057, 0.599934605997031, 0.9974642459664534, 0.9962922309107568, 0.9955849134294591, 0.9973739396177228, 0.9991037773547294, 0.9975900744518356, 0.9946858251221264, 0.9974898707842804, 0.9979497983575157, 0.9969824685426814, 0.9985290273970174, 0.9988356969483299, 0.9973891708586389, 0.9983803000901984, 0.9969654711734666, 0.9988870912073062, 0.2761210907150045, 0.7232520877110966, 0.9984730224160375, 0.9976898194040038, 0.9968618470514884, 0.9978337173229243, 0.9982191924679189, 0.9959494745148146, 0.9995168548152764, 0.9956273958820931, 0.9977788331401194, 0.9979073300894578, 0.9957198244599225, 0.9985785086608291, 0.9986600070570173, 0.9975076931557413, 0.9977107181573095, 0.9980558211625322, 0.9974368547361656, 0.9985790248416029, 0.9988320617291055, 0.9954970704558688, 0.9985465744831005, 0.9972909745293304, 0.9972789058935813, 0.9975154286067436, 0.9982502222435655, 0.9964400839104767, 0.9994358064413587, 0.9994144381233717, 0.9983763124351601, 0.9992836346129078, 0.9961107575034509, 0.9981050268922617, 0.9983222749332732, 0.999341421315219, 0.9977735770116488, 0.9960453460564124, 0.9954645650511401, 0.999738685486554, 0.9965489883262287, 0.41295722647371996, 0.5866246315076118, 0.9991168049410715, 0.9961550461983879, 0.9973583462309523, 0.9976138329950021, 0.9988257688125421, 0.9993831531410183, 0.9956121715014539, 0.9956905984216355, 0.9971532204951328, 0.997717692442029, 0.999733106550242, 0.9985709637839505, 0.9960383285208408, 0.4705313642376222, 0.25927238437583267, 0.2697480362698057, 0.47953408776275375, 0.21261572358122097, 0.08939050068051334, 0.08980821330051574, 0.06223918038035742, 0.0664163065803814, 0.9992185645069986, 0.9996265550402724, 0.9993778284857218, 0.21028355750567193, 0.7885633406462698, 0.9975032060195888, 0.9993419337523611, 0.9966978619115585, 0.9963527651880203, 0.38942787879513785, 0.6091051437564977, 0.3196475518788963, 0.6800469828817953, 0.997173180454777, 0.9991449827568244, 0.9968411761422821, 0.9957433524323601, 0.9975914976646527, 0.9978771956791482, 0.6829923286635492, 0.31469519953611635, 0.9967508791352867, 0.9965725186887735, 0.9983769867312698, 0.9991882560478174, 0.2516500949301787, 0.7474543245160201, 0.9986277639461315, 0.999293272497211, 0.9989950786963602, 0.9987558898224665, 0.9953478909202537, 0.9997465499970376, 0.9969142498006379, 0.9966959723386853, 0.9968666813800964, 0.9980922987463778, 0.9956593035802817, 0.9980630854463448, 0.9968491138448228, 0.998012153783598, 0.12477854931037993, 0.16924508688280623, 0.24138977539317136, 0.08303445281381647, 0.1733287484966005, 0.14882677881383496, 0.05898622331036142, 0.9984002631998016, 0.998692189486538, 0.9967067814973437, 0.9974151307796465, 0.9980645511807051, 0.998672902650573, 0.9963974190569472, 0.9983725972578621, 0.996164288418327, 0.9987383600045174, 0.7998914315167953, 0.19990227091912852, 0.9983091906066885, 0.9967072882403445, 0.24479976613365714, 0.03419412017972267, 0.13202613476981045, 0.105867842098664, 0.09448375312818105, 0.09421170688440113, 0.09205626356829866, 0.030866785351952836, 0.08353912347457337, 0.06267526924006694, 0.011739841750810536, 0.013518605652448496, 0.3311461136157425, 0.668263714526195, 0.9983544479193281, 0.9973347778546977, 0.9970681472634886, 0.9978290948709316, 0.996593547477548, 0.5871429245982677, 0.1474606080743925, 0.13160100034099104, 0.1336256311154678, 0.9994968560141172, 0.5212305390229928, 0.16069887225469265, 0.16611101043943619, 0.15153986917281898, 0.9988768419234005, 0.5105603438674954, 0.1880682726369613, 0.0881570027985756, 0.11891816973254668, 0.09428422710656172, 0.9997285983212489, 0.9989133988779262, 0.9967122272135512, 0.9965193602145476, 0.7806793100261129, 0.2178214253062308, 0.9970458545556783, 0.9955309425373299, 0.7120708756599385, 0.2870736187908311, 0.9957401301201704, 0.9988135506949032, 0.9980725483176687, 0.9985281986286959, 0.9990499683847387, 0.9964002809229455, 0.12602143732935203, 0.6557269294005296, 0.21811402614695546, 0.9970983798363884, 0.9978870228123354, 0.9973435192060933, 0.7144322286331379, 0.28319836089962225, 0.9993972415603337, 0.9957955704355317, 0.9987134855350631, 0.9979509436566285, 0.9968714916465745, 0.9987488067129698, 0.9962106415750486, 0.9967977723562299, 0.9982727334922642, 0.9992190431357572, 0.9972996349455409, 0.9996622267778315, 0.9982876534292685, 0.9964729172868119, 0.9988271918491204, 0.9987020395984727, 0.998856514350014, 0.9992872980190799, 0.9994519275248506, 0.9965755658833207, 0.99831628661252, 0.9969381618697832, 0.9980895281870735, 0.9970491340202232, 0.9990256150817926, 0.9972512160838184, 0.9982439570655328, 0.9980468321149684, 0.9987458659119278, 0.9949016980953144, 0.999392611555033, 0.8307169120306666, 0.16923278506826925, 0.9976279096741263, 0.9978829960865765, 0.9964275177029241, 0.2655609861708215, 0.5817610960904028, 0.15250619826661369, 0.9978690864775523, 0.9997219557604471, 0.9994685159447236, 0.8428850414051382, 0.15670264626585134, 0.2234036876543452, 0.6293560545442177, 0.14688910541332212, 0.999508428574727, 0.5925308942953869, 0.4066780336900885, 0.9964420084514757, 0.30402637529677656, 0.6953669230591215, 0.9982561563135917, 0.9983022138443833, 0.1932934216214176, 0.198494141485671, 0.606750650829562, 0.9981705777529195, 0.9975575976518788, 0.9971445264781743, 0.9993001859226822, 0.998474624736385, 0.6596684160480161, 0.21034770555602267, 0.12961792865302316, 0.9993943965716235, 0.9976817538906586, 0.9953238723444864, 0.9967420400695045, 0.9981627999648328, 0.997290727544087, 0.9976222336134554, 0.9966716111351981, 0.9991544275785303, 0.9976361577860305, 0.9967583894351093, 0.9973350141391919, 0.998265512802412, 0.9964793687282346, 0.9963732915515301, 0.6294798528601271, 0.22401418251250074, 0.14560921863312548, 0.9956570733524661, 0.9983946043807387, 0.20470065256085396, 0.15689438730761376, 0.6381655140180854, 0.9994092225878461, 0.9994912623558941, 0.9972736508113177, 0.9971612063784595, 0.9948038757613031, 0.6682330243753889, 0.23498304153859828, 0.09637976313106571, 0.9991074009846728, 0.9981590884944415, 0.9987050740471419, 0.9958304784102038, 0.9976487331989687, 0.8726177656421228, 0.1259448321545332, 0.9984124396161909, 0.9964904378032111, 0.9986519342166074, 0.9986722968160553, 0.9993027668080806, 0.8138711290200399, 0.18502230687624338, 0.9971011757253353, 0.9965012815891492, 0.9971544103486972, 0.9968421635193693, 0.9987395407342066, 0.9971705310937872, 0.19719019629209733, 0.20145047831075374, 0.42481097843174054, 0.17649739791576613, 0.9988597650299134, 0.9973760065690904, 0.18796006601238396, 0.8108081278965583, 0.9992348920367182, 0.9990761680562209, 0.9991740058789772, 0.998696247453917, 0.10012302910192275, 0.14113728198704772, 0.13479302936211554, 0.26686071076563345, 0.17111610953162165, 0.04892222974859679, 0.13702692113145787, 0.17300369084904527, 0.5699861470394257, 0.11674936415976091, 0.1402030911332933, 0.9967408448249251, 0.9966413713614196, 0.7269319194122319, 0.14724187087312396, 0.1256942800136424, 0.9937796906460463, 0.9993968620401735, 0.9984698419141997, 0.9978605556992511, 0.6315061023668271, 0.20185363502111403, 0.1665681666883743, 0.997388321004396, 0.9990365485222631, 0.9979682519181341, 0.9988164601738789, 0.9964412494385194, 0.9990653013514773, 0.996885313797084, 0.9976973226046135, 0.9979983379629087, 0.9995753946615712, 0.9955910262028782, 0.9991640882759916, 0.9990406937300875, 0.9977356566008372, 0.7388492534986449, 0.25982865414702344, 0.9968784433862893, 0.9983135933708115, 0.999050885473772, 0.9979418603595046, 0.9992979530920492, 0.9975993964514207, 0.9976587237925711, 0.9979098899874351, 0.9975402724230046, 0.9986846834634953, 0.9988405245887028, 0.9991616190653886, 0.8022277194695567, 0.1963748723996195, 0.9968117957382527, 0.9982798726249801, 0.9962846734232087, 0.16999438722967058, 0.5626174071074035, 0.26672759502563376, 0.9980255800693086, 0.9991146938796459, 0.9979715347457069, 0.9991092577747533, 0.9977918222257403, 0.20673247525852137, 0.1552424440608822, 0.33700225418854857, 0.08444365116412829, 0.08856285365993942, 0.1279527275261334, 0.9974660639147601, 0.9983589440606107, 0.9977098286221207, 0.9990732236677764, 0.9993102655035746, 0.9993508787385036, 0.9982499797719459, 0.9971249774192789, 0.9975848414121862, 0.998724658242266, 0.9997222506449386, 0.9983682618206947, 0.9947769325513649, 0.9934356470080968, 0.9982916652998248, 0.8115074756704032, 0.18768822632483922, 0.9977147945100415, 0.9992896925045089, 0.8092235264902425, 0.18995050382829912, 0.9982376050035612, 0.9965585371121345, 0.9954299936388846, 0.9966582268921033, 0.9963337684226429, 0.9987941095635031, 0.9972036006846313, 0.9967065403949157, 0.9988314937876789, 0.9976591170798321, 0.9990399072944753, 0.9996788671788988, 0.9978113749399655, 0.9964243793585299, 0.9954452229992373, 0.9967719505987577, 0.9992595645089367, 0.9988117382549065, 0.9980941607417002, 0.9976855495142947, 0.9966667971327561, 0.9980600439233079, 0.9990466626653549, 0.9976674987603886, 0.9976772269199917, 0.9982622888037683, 0.9977586511374276, 0.2662971188556378, 0.2637848818853015, 0.42373063566337327, 0.0460576777894971, 0.9979711183770935, 0.9974196789905971, 0.9982050033077683, 0.9979062548627162, 0.9992219888482606, 0.21956581968527106, 0.22432421206235123, 0.37931184948724844, 0.0897296848249405, 0.08701060346660897, 0.9988904292955558, 0.9984261835762224, 0.9973804595136125, 0.999705921242426, 0.9963664887798773, 0.9991152322118971, 0.9980381299297614, 0.9982242737256026, 0.9978306333745159, 0.9982974918111877, 0.9990262703136076, 0.9997437439185867, 0.9994632853311305, 0.18765781184462157, 0.22207540178992333, 0.08440504200871625, 0.09232655080565079, 0.1018869924571235, 0.27097023195031233, 0.040427010411941765, 0.9984106152325782, 0.7842492748885609, 0.21559695767671966, 0.9997951226742364, 0.9985489299700763, 0.9976097604919278, 0.9981631504222971, 0.9992060424609579, 0.9972402838151989, 0.9971051954817436, 0.9967307711176233, 0.9995125590401486, 0.42420494694089594, 0.284469942706643, 0.14605071064032088, 0.07842002120867679, 0.06684122613088558, 0.9990884950384215, 0.9977221599326281, 0.9982430566402772, 0.8072102027938806, 0.19268888711853924, 0.9930558128279429, 0.996739636438594, 0.99760292738692, 0.7169028840068373, 0.16066185159475263, 0.12150896339098938, 0.9983936082000043, 0.9989229197775452, 0.9977960874528649, 0.9980204052902241, 0.9992577269248365, 0.9990997682618399, 0.9978070038292619, 0.9981614772541724, 0.9996064275416457, 0.9968033334713929, 0.996624491741582, 0.11049818062615621, 0.3068726646737273, 0.15884113465009955, 0.1237099196140662, 0.1150021825538528, 0.03393014785531427, 0.02432161040956156, 0.047141886843224255, 0.07957070072263966, 0.9985622016049387, 0.21810173381042347, 0.12644455580132735, 0.4888382827151794, 0.16607191659073856, 0.9983023260008265, 0.9974189419023529, 0.831567082168758, 0.16784424340947318, 0.9987431727872842, 0.9945396668694444, 0.9971562423481142, 0.999168756824869, 0.9993911078570418, 0.9975910693805854, 0.9977877885796688, 0.9983793335695347, 0.9959070099437765, 0.9982868641931181, 0.9988999958898519, 0.9947400498085519], \"Term\": [\"<game_name>\", \"<number>\", \"<number>\", \"ability\", \"able\", \"abstract\", \"action\", \"actual\", \"actually\", \"actually\", \"add\", \"add\", \"add\", \"addition\", \"additional\", \"adult\", \"adventure\", \"age\", \"ahead\", \"allow\", \"amazing\", \"app\", \"appreciate\", \"area\", \"art\", \"artwork\", \"aspect\", \"auction\", \"available\", \"away\", \"away\", \"awesome\", \"bad\", \"bag\", \"balance\", \"base\", \"basic\", \"basically\", \"battle\", \"beautiful\", \"beginning\", \"benefit\", \"big\", \"bit\", \"bit\", \"bit\", \"bit\", \"bit\", \"bit\", \"bit\", \"board\", \"board\", \"board\", \"board\", \"board\", \"board\", \"board\", \"board\", \"board\", \"bonus\", \"book\", \"boring\", \"box\", \"box\", \"brain\", \"break\", \"bring\", \"build\", \"builder\", \"building\", \"bunch\", \"buy\", \"campaign\", \"card\", \"case\", \"casual\", \"certain\", \"challenge\", \"chance\", \"change\", \"change\", \"character\", \"choice\", \"choice\", \"choose\", \"choose\", \"city\", \"classic\", \"clean\", \"clear\", \"clever\", \"close\", \"clue\", \"co\", \"coin\", \"collect\", \"collection\", \"color\", \"combat\", \"combination\", \"combine\", \"combo\", \"come\", \"come\", \"compare\", \"complete\", \"completely\", \"complex\", \"complexity\", \"complicated\", \"component\", \"con\", \"concept\", \"condition\", \"consider\", \"control\", \"cool\", \"coop\", \"cooperative\", \"copy\", \"core\", \"count\", \"couple\", \"course\", \"create\", \"cube\", \"cute\", \"day\", \"decent\", \"decide\", \"decision\", \"deck\", \"deduction\", \"definitely\", \"deliver\", \"depend\", \"depth\", \"design\", \"designer\", \"despite\", \"development\", \"dice\", \"die\", \"different\", \"different\", \"difficult\", \"difficulty\", \"downtime\", \"draft\", \"drafting\", \"draw\", \"dry\", \"dynamic\", \"early\", \"easily\", \"easy\", \"edition\", \"effect\", \"element\", \"element\", \"element\", \"end\", \"end\", \"end\", \"end\", \"end\", \"end\", \"engine\", \"enjoy\", \"enjoyable\", \"especially\", \"especially\", \"etc\", \"euro\", \"event\", \"exactly\", \"excellent\", \"excellent\", \"expansion\", \"expansion\", \"expect\", \"experience\", \"explain\", \"exploration\", \"extra\", \"extremely\", \"fact\", \"fact\", \"faction\", \"factor\", \"fall\", \"family\", \"fan\", \"fan\", \"fantastic\", \"far\", \"fast\", \"favorite\", \"favourite\", \"feel\", \"feeling\", \"fiddly\", \"fight\", \"figure\", \"fill\", \"filler\", \"final\", \"finally\", \"find\", \"find\", \"find\", \"find\", \"find\", \"find\", \"find\", \"fine\", \"finish\", \"fit\", \"flip\", \"flow\", \"focus\", \"force\", \"forward\", \"fresh\", \"friend\", \"fun\", \"fun\", \"future\", \"gain\", \"game\", \"game\", \"game\", \"game\", \"game\", \"game\", \"game\", \"game\", \"game\", \"game\", \"game\", \"game\", \"gameplay\", \"gameplay\", \"gamer\", \"games\", \"gaming\", \"gateway\", \"genre\", \"get\", \"get\", \"get\", \"get\", \"give\", \"go\", \"go\", \"go\", \"go\", \"goal\", \"good\", \"good\", \"good\", \"good\", \"good\", \"great\", \"group\", \"guess\", \"half\", \"hand\", \"hand\", \"happen\", \"happy\", \"hard\", \"hard\", \"hate\", \"have\", \"head\", \"heavy\", \"help\", \"hero\", \"high\", \"high\", \"high\", \"highly\", \"hit\", \"hold\", \"hope\", \"hope\", \"hour\", \"house\", \"huge\", \"idea\", \"improve\", \"include\", \"increase\", \"initial\", \"instead\", \"interaction\", \"interest\", \"interesting\", \"introduce\", \"involve\", \"issue\", \"keep\", \"kid\", \"kind\", \"know\", \"lack\", \"large\", \"lay\", \"lead\", \"leader\", \"learn\", \"leave\", \"length\", \"let\", \"level\", \"life\", \"light\", \"like\", \"like\", \"likely\", \"limited\", \"line\", \"little\", \"little\", \"little\", \"location\", \"long\", \"look\", \"lose\", \"lose\", \"lot\", \"lot\", \"lot\", \"love\", \"luck\", \"luck\", \"main\", \"make\", \"make\", \"manage\", \"management\", \"map\", \"map\", \"map\", \"market\", \"match\", \"matter\", \"maybe\", \"mean\", \"mechanic\", \"mechanic\", \"mechanic\", \"mechanism\", \"medium\", \"meeple\", \"mess\", \"min\", \"mind\", \"mini\", \"miniature\", \"minute\", \"miss\", \"mission\", \"mix\", \"mode\", \"moment\", \"monster\", \"move\", \"move\", \"move\", \"movement\", \"neat\", \"need\", \"need\", \"need\", \"new\", \"nice\", \"night\", \"non\", \"not\", \"number\", \"number\", \"number\", \"offer\", \"ok\", \"old\", \"one\", \"op\", \"open\", \"open\", \"opinion\", \"opportunity\", \"option\", \"order\", \"original\", \"overall\", \"overall\", \"pace\", \"pack\", \"part\", \"particularly\", \"party\", \"path\", \"people\", \"people\", \"people\", \"people\", \"perfect\", \"person\", \"pick\", \"pick\", \"piece\", \"place\", \"placement\", \"plan\", \"play\", \"play\", \"play\", \"play\", \"play\", \"play\", \"play\", \"player\", \"player\", \"player\", \"player\", \"playing\", \"plus\", \"point\", \"point\", \"point\", \"potential\", \"power\", \"prefer\", \"present\", \"pretty\", \"pretty\", \"pretty\", \"price\", \"probably\", \"problem\", \"production\", \"promo\", \"provide\", \"pull\", \"purchase\", \"push\", \"puzzle\", \"question\", \"quick\", \"quickly\", \"race\", \"random\", \"random\", \"randomness\", \"rate\", \"rating\", \"read\", \"real\", \"reason\", \"recommend\", \"relatively\", \"remind\", \"replay\", \"replayability\", \"require\", \"resource\", \"resource\", \"rest\", \"review\", \"reward\", \"right\", \"right\", \"right\", \"role\", \"roll\", \"room\", \"round\", \"route\", \"rule\", \"rule\", \"rule\", \"rule\", \"rule\", \"rule\", \"rulebook\", \"run\", \"say\", \"scenario\", \"score\", \"scoring\", \"see\", \"selection\", \"sell\", \"series\", \"set\", \"setup\", \"share\", \"shelf\", \"ship\", \"short\", \"short\", \"show\", \"similar\", \"simple\", \"simple\", \"simply\", \"single\", \"sit\", \"size\", \"skill\", \"sleeve\", \"slightly\", \"slow\", \"small\", \"smooth\", \"solid\", \"solo\", \"solve\", \"somewhat\", \"soon\", \"sort\", \"space\", \"special\", \"specific\", \"spend\", \"spot\", \"star\", \"start\", \"stay\", \"step\", \"story\", \"strategic\", \"strategy\", \"strategy\", \"strategy\", \"strategy\", \"strong\", \"stuff\", \"style\", \"super\", \"sure\", \"system\", \"system\", \"system\", \"system\", \"system\", \"table\", \"tableau\", \"tactical\", \"take\", \"taste\", \"teach\", \"team\", \"tense\", \"tension\", \"term\", \"thematic\", \"theme\", \"thing\", \"think\", \"think\", \"think\", \"think\", \"think\", \"think\", \"think\", \"tight\", \"tile\", \"tile\", \"time\", \"token\", \"ton\", \"tough\", \"track\", \"train\", \"trick\", \"truly\", \"try\", \"turn\", \"turn\", \"turn\", \"turn\", \"turn\", \"type\", \"understand\", \"unfortunately\", \"unique\", \"unique\", \"unlike\", \"update\", \"upgrade\", \"use\", \"use\", \"use\", \"usually\", \"value\", \"variant\", \"variety\", \"version\", \"victory\", \"vs\", \"wait\", \"want\", \"war\", \"watch\", \"way\", \"way\", \"way\", \"way\", \"way\", \"way\", \"way\", \"way\", \"way\", \"weight\", \"well\", \"well\", \"well\", \"well\", \"wife\", \"will\", \"win\", \"win\", \"wish\", \"wonderful\", \"word\", \"work\", \"worker\", \"world\", \"worth\", \"write\", \"wrong\", \"x\", \"year\", \"yes\"]}, \"R\": 30, \"lambda.step\": 0.01, \"plot.opts\": {\"xlab\": \"PC1\", \"ylab\": \"PC2\"}, \"topic.order\": [6, 12, 5, 2, 11, 13, 1, 9, 4, 8, 10, 14, 7, 3]};\n",
       "\n",
       "function LDAvis_load_lib(url, callback){\n",
       "  var s = document.createElement('script');\n",
       "  s.src = url;\n",
       "  s.async = true;\n",
       "  s.onreadystatechange = s.onload = callback;\n",
       "  s.onerror = function(){console.warn(\"failed to load library \" + url);};\n",
       "  document.getElementsByTagName(\"head\")[0].appendChild(s);\n",
       "}\n",
       "\n",
       "if(typeof(LDAvis) !== \"undefined\"){\n",
       "   // already loaded: just create the visualization\n",
       "   !function(LDAvis){\n",
       "       new LDAvis(\"#\" + \"ldavis_el2987616339863456809481912647\", ldavis_el2987616339863456809481912647_data);\n",
       "   }(LDAvis);\n",
       "}else if(typeof define === \"function\" && define.amd){\n",
       "   // require.js is available: use it to load d3/LDAvis\n",
       "   require.config({paths: {d3: \"https://d3js.org/d3.v5\"}});\n",
       "   require([\"d3\"], function(d3){\n",
       "      window.d3 = d3;\n",
       "      LDAvis_load_lib(\"https://cdn.jsdelivr.net/gh/bmabey/pyLDAvis@3.4.0/pyLDAvis/js/ldavis.v3.0.0.js\", function(){\n",
       "        new LDAvis(\"#\" + \"ldavis_el2987616339863456809481912647\", ldavis_el2987616339863456809481912647_data);\n",
       "      });\n",
       "    });\n",
       "}else{\n",
       "    // require.js not available: dynamically load d3 & LDAvis\n",
       "    LDAvis_load_lib(\"https://d3js.org/d3.v5.js\", function(){\n",
       "         LDAvis_load_lib(\"https://cdn.jsdelivr.net/gh/bmabey/pyLDAvis@3.4.0/pyLDAvis/js/ldavis.v3.0.0.js\", function(){\n",
       "                 new LDAvis(\"#\" + \"ldavis_el2987616339863456809481912647\", ldavis_el2987616339863456809481912647_data);\n",
       "            })\n",
       "         });\n",
       "}\n",
       "</script>"
      ]
     },
     "execution_count": 7,
     "metadata": {},
     "output_type": "execute_result"
    }
   ],
   "execution_count": 7
  }
 ],
 "metadata": {
  "kernelspec": {
   "display_name": "Python 3",
   "language": "python",
   "name": "python3"
  },
  "language_info": {
   "codemirror_mode": {
    "name": "ipython",
    "version": 2
   },
   "file_extension": ".py",
   "mimetype": "text/x-python",
   "name": "python",
   "nbconvert_exporter": "python",
   "pygments_lexer": "ipython2",
   "version": "2.7.6"
  }
 },
 "nbformat": 4,
 "nbformat_minor": 5
}

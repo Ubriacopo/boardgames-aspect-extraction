{
 "cells": [
  {
   "metadata": {},
   "cell_type": "code",
   "outputs": [],
   "execution_count": null,
   "source": [
    "from pprint import pprint\n",
    "from gensim.models import LdaModel, LdaMulticore\n",
    "\n",
    "from main.lda.config import LdaGeneratorConfig\n",
    "from main.lda.model_manager import LDAManager\n",
    "\n",
    "stop_words = ['game', 'play', '<game_name>']"
   ],
   "id": "9b4ccaba715b62cd"
  },
  {
   "metadata": {},
   "cell_type": "markdown",
   "source": [
    "### NOUN only\n",
    "The best found $K=?$ <br>\n",
    "Let's try training two models on the full data and compare them.\n"
   ],
   "id": "428ef7d2db12fecd"
  },
  {
   "cell_type": "code",
   "execution_count": null,
   "id": "initial_id",
   "metadata": {
    "collapsed": true
   },
   "outputs": [],
   "source": [
    "corpus_path = \"../dataset/output/pos_tagged/pre_processed.310k.noun_only.csv\"\n",
    "test_corpus_path = \"../dataset/output/pos_tagged/pre_processed.310k.noun_only.test.csv\"\n",
    "\n",
    "runs = [\n",
    "    dict(config=LdaGeneratorConfig(name=\"noun-K7\", topics=7), results=[], model=None),\n",
    "    dict(config=LdaGeneratorConfig(name=\"noun-K9\", topics=9), results=[], model=None),\n",
    "]"
   ]
  },
  {
   "metadata": {},
   "cell_type": "code",
   "outputs": [],
   "execution_count": null,
   "source": [
    "for run in runs:\n",
    "    model_manager = LDAManager.from_config(run['config'], stop_words)\n",
    "    run['model'] = model_manager.get_model(corpus_path)\n",
    "    run['results'] = model_manager.evaluate(test_corpus_path)"
   ],
   "id": "bc61c99ef6a7d43a"
  },
  {
   "metadata": {},
   "cell_type": "code",
   "outputs": [],
   "execution_count": null,
   "source": "[pprint(run['results']) for run in runs]",
   "id": "373f5008b463d88e"
  },
  {
   "metadata": {},
   "cell_type": "code",
   "outputs": [],
   "execution_count": null,
   "source": "best_run = 1",
   "id": "dd239d1ce32b29fb"
  },
  {
   "metadata": {},
   "cell_type": "code",
   "outputs": [],
   "execution_count": null,
   "source": [
    "current_config = runs[0]['config']\n",
    "\n",
    "# Load the existing model\n",
    "model = LdaMulticore.load(f'{current_config.output_path()}/{current_config.name}.model')\n",
    "\n",
    "# We work on the best in coherence only\n",
    "m1: LdaModel = model\n",
    "m1.print_topics(20, 20)"
   ],
   "id": "62d9baf4689ac7aa"
  },
  {
   "metadata": {},
   "cell_type": "code",
   "outputs": [],
   "execution_count": null,
   "source": "# TODO: Plot di coherence al variare di topn",
   "id": "b8403d147feaeb69"
  }
 ],
 "metadata": {
  "kernelspec": {
   "display_name": "Python 3",
   "language": "python",
   "name": "python3"
  },
  "language_info": {
   "codemirror_mode": {
    "name": "ipython",
    "version": 2
   },
   "file_extension": ".py",
   "mimetype": "text/x-python",
   "name": "python",
   "nbconvert_exporter": "python",
   "pygments_lexer": "ipython2",
   "version": "2.7.6"
  }
 },
 "nbformat": 4,
 "nbformat_minor": 5
}

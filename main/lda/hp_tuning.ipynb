{
 "cells": [
  {
   "metadata": {},
   "cell_type": "markdown",
   "source": [
    "### What hyperparameters to tune:\n",
    "Take a look here:\n",
    "> https://stats.stackexchange.com/questions/349761/reasonable-hyperparameter-range-for-latent-dirichlet-allocation\n",
    "\n",
    "So our go to are:\n",
    "- Topics number\n",
    "- alpha: Document-Topic Density\n",
    "- beta: Word-Topic Density\n"
   ],
   "id": "c4ee426affe89711"
  },
  {
   "metadata": {},
   "cell_type": "markdown",
   "source": "### Parameters definition",
   "id": "257c06fc04e01be9"
  },
  {
   "metadata": {
    "ExecuteTime": {
     "end_time": "2025-03-11T22:24:24.489449Z",
     "start_time": "2025-03-11T22:24:24.482293Z"
    }
   },
   "cell_type": "code",
   "source": [
    "from main.hp_tuning import UniqueParametersConfigFsGenerator, RandomTunableOffsetParameter\n",
    "\n",
    "seed = 1408\n",
    "config_path = \"./output/config\"\n",
    "\n",
    "config_generator = UniqueParametersConfigFsGenerator(patience=100, seen_configurations_path=config_path)\n",
    "\n",
    "# The amount of topics we want to look for\n",
    "# Topics are by far the most relevant parameter to tune, alpha and beta will come later maybe:\n",
    "config_generator.add_parameter('topics', RandomTunableOffsetParameter(value_range=(7, 70), step=7, seed=seed))"
   ],
   "id": "e2e43afc1b23b676",
   "outputs": [],
   "execution_count": 1
  },
  {
   "metadata": {
    "ExecuteTime": {
     "end_time": "2025-03-11T16:29:33.340862Z",
     "start_time": "2025-03-11T16:29:33.337356Z"
    }
   },
   "cell_type": "code",
   "source": [
    "# config_generator.add_parameter('alpha', RandomTunableOffsetParameter(value_range=(0.005, 1.0), step=0.5, seed=seed))\n",
    "# config_generator.add_parameter('beta', RandomTunableDiscreteParameter(values_list=beta, seed=seed))"
   ],
   "id": "7e05c4bbba698e2e",
   "outputs": [],
   "execution_count": 2
  },
  {
   "metadata": {
    "ExecuteTime": {
     "end_time": "2025-03-11T22:24:27.838891Z",
     "start_time": "2025-03-11T22:24:27.281833Z"
    }
   },
   "cell_type": "code",
   "source": [
    "import pandas as pd\n",
    "import numpy as np\n",
    "\n",
    "corpus = pd.read_csv(\"../dataset/output/pos_tagged/pre_processed.310k.noun_only.csv\")\n",
    "folds = np.array_split(corpus, 5)"
   ],
   "id": "23d97f28f3f6d874",
   "outputs": [
    {
     "name": "stderr",
     "output_type": "stream",
     "text": [
      "D:\\PycharmProjects\\nlp-course-project\\.venv\\Lib\\site-packages\\numpy\\core\\fromnumeric.py:59: FutureWarning: 'DataFrame.swapaxes' is deprecated and will be removed in a future version. Please use 'DataFrame.transpose' instead.\n",
      "  return bound(*args, **kwds)\n"
     ]
    }
   ],
   "execution_count": 2
  },
  {
   "metadata": {
    "jupyter": {
     "is_executing": true
    },
    "ExecuteTime": {
     "start_time": "2025-03-11T22:24:30.125052Z"
    }
   },
   "cell_type": "code",
   "source": [
    "from pathlib import Path\n",
    "import json\n",
    "from gensim.models import CoherenceModel\n",
    "from main.lda.model import LdaGeneratorConfig, LdaModelGenerator\n",
    "\n",
    "results = []\n",
    "n_folds = 5\n",
    "# This script can be re-run as often as desired as the history is persisted\n",
    "for i in range(10):  # How many different configurations we want to see\n",
    "\n",
    "    config = next(config_generator)\n",
    "    if config is None:\n",
    "        break  # We could not find a new configuration in patience time\n",
    "\n",
    "    print(f\"Running configuration = {config} ({i + 1}/10)\")\n",
    "    run_result = dict(config=config, cv_coh=[], npmi_coh=[], perplexity=[])\n",
    "    for k in range(n_folds):  # K-fold CV\n",
    "        # Build the correct data splits\n",
    "        validation_split = folds[k]  # On what to compute the validation metrics\n",
    "        train = pd.concat([folds[index] for index in range(len(folds)) if index != k])\n",
    "        print(f\"Running fold = {k}\")\n",
    "        model, dictionary = LdaModelGenerator(LdaGeneratorConfig().from_dict(config)).make_model(train)\n",
    "        print(\"Model generation over, evaluating...\")\n",
    "        # Validation part\n",
    "        texts = validation_split['comments'].apply(lambda x: x.split(' '))\n",
    "        # Metrics tracking\n",
    "\n",
    "        perplexity = model.log_perplexity(texts.apply(lambda x: dictionary.doc2bow(x)).tolist())\n",
    "\n",
    "        run_result['perplexity'].append(perplexity)\n",
    "\n",
    "        cv_coh_values = []\n",
    "        npmi_coh_values = []\n",
    "\n",
    "        for top in [3, 10, 25]:\n",
    "            cv_coh = CoherenceModel(model, texts=texts, coherence='c_v', topn=top)\n",
    "            npmi_coh = CoherenceModel(model, texts=texts, coherence='c_npmi', topn=top)\n",
    "            cv_coh_values.append({top: cv_coh.get_coherence()})\n",
    "            npmi_coh_values.append({top: npmi_coh.get_coherence()})\n",
    "        # Append to configuration evaluation\n",
    "        run_result['cv_coh'].append(cv_coh_values)\n",
    "        run_result['npmi_coh'].append(npmi_coh_values)\n",
    "\n",
    "    results.append(run_result)\n",
    "\n",
    "results_path = \"./output/config/hp_tuning_results.json\"\n",
    "if Path(results_path).is_file():\n",
    "    existing_res = json.load(open(\"./output/config/hp_tuning_results.json\"))\n",
    "    results = results + existing_res\n",
    "json.dump(results, open(results_path, 'w'))"
   ],
   "id": "acf39f6ccf7c8042",
   "outputs": [
    {
     "name": "stdout",
     "output_type": "stream",
     "text": [
      "Running configuration = {'topics': 56}\n",
      "Running fold = 0\n",
      "Generating numeric representation for each word of ds.\n"
     ]
    },
    {
     "data": {
      "text/plain": [
       "Pandas Apply:   0%|          | 0/156631 [00:00<?, ?it/s]"
      ],
      "application/vnd.jupyter.widget-view+json": {
       "version_major": 2,
       "version_minor": 0,
       "model_id": "cc9bf4e19c194efda3a773133855a687"
      }
     },
     "metadata": {},
     "output_type": "display_data"
    },
    {
     "name": "stdout",
     "output_type": "stream",
     "text": [
      "Model generation over, evaluating...\n",
      "Running fold = 1\n",
      "Generating numeric representation for each word of ds.\n"
     ]
    },
    {
     "data": {
      "text/plain": [
       "Pandas Apply:   0%|          | 0/156631 [00:00<?, ?it/s]"
      ],
      "application/vnd.jupyter.widget-view+json": {
       "version_major": 2,
       "version_minor": 0,
       "model_id": "72d17bb988934020a897e99cebe7ef5f"
      }
     },
     "metadata": {},
     "output_type": "display_data"
    },
    {
     "name": "stdout",
     "output_type": "stream",
     "text": [
      "Model generation over, evaluating...\n",
      "Running fold = 2\n",
      "Generating numeric representation for each word of ds.\n"
     ]
    },
    {
     "data": {
      "text/plain": [
       "Pandas Apply:   0%|          | 0/156631 [00:00<?, ?it/s]"
      ],
      "application/vnd.jupyter.widget-view+json": {
       "version_major": 2,
       "version_minor": 0,
       "model_id": "ace031704df845aaa1465f8ad4729375"
      }
     },
     "metadata": {},
     "output_type": "display_data"
    },
    {
     "name": "stdout",
     "output_type": "stream",
     "text": [
      "Model generation over, evaluating...\n",
      "Running fold = 3\n",
      "Generating numeric representation for each word of ds.\n"
     ]
    },
    {
     "data": {
      "text/plain": [
       "Pandas Apply:   0%|          | 0/156631 [00:00<?, ?it/s]"
      ],
      "application/vnd.jupyter.widget-view+json": {
       "version_major": 2,
       "version_minor": 0,
       "model_id": "13cc1d9f8ad249278e3b82e542b58dbe"
      }
     },
     "metadata": {},
     "output_type": "display_data"
    },
    {
     "name": "stdout",
     "output_type": "stream",
     "text": [
      "Model generation over, evaluating...\n",
      "Running fold = 4\n",
      "Generating numeric representation for each word of ds.\n"
     ]
    },
    {
     "data": {
      "text/plain": [
       "Pandas Apply:   0%|          | 0/156632 [00:00<?, ?it/s]"
      ],
      "application/vnd.jupyter.widget-view+json": {
       "version_major": 2,
       "version_minor": 0,
       "model_id": "82ad242be5104818b11227798b1f73af"
      }
     },
     "metadata": {},
     "output_type": "display_data"
    },
    {
     "name": "stdout",
     "output_type": "stream",
     "text": [
      "Model generation over, evaluating...\n",
      "Running configuration = {'topics': 35}\n",
      "Running fold = 0\n",
      "Generating numeric representation for each word of ds.\n"
     ]
    },
    {
     "data": {
      "text/plain": [
       "Pandas Apply:   0%|          | 0/156631 [00:00<?, ?it/s]"
      ],
      "application/vnd.jupyter.widget-view+json": {
       "version_major": 2,
       "version_minor": 0,
       "model_id": "ebb9699bb520481abfef75a01a8a0f05"
      }
     },
     "metadata": {},
     "output_type": "display_data"
    },
    {
     "name": "stdout",
     "output_type": "stream",
     "text": [
      "Model generation over, evaluating...\n",
      "Running fold = 1\n",
      "Generating numeric representation for each word of ds.\n"
     ]
    },
    {
     "data": {
      "text/plain": [
       "Pandas Apply:   0%|          | 0/156631 [00:00<?, ?it/s]"
      ],
      "application/vnd.jupyter.widget-view+json": {
       "version_major": 2,
       "version_minor": 0,
       "model_id": "59a800208cc04e739789f78e619d77be"
      }
     },
     "metadata": {},
     "output_type": "display_data"
    },
    {
     "name": "stdout",
     "output_type": "stream",
     "text": [
      "Model generation over, evaluating...\n",
      "Running fold = 2\n",
      "Generating numeric representation for each word of ds.\n"
     ]
    },
    {
     "data": {
      "text/plain": [
       "Pandas Apply:   0%|          | 0/156631 [00:00<?, ?it/s]"
      ],
      "application/vnd.jupyter.widget-view+json": {
       "version_major": 2,
       "version_minor": 0,
       "model_id": "edefc22c20044dd9b7ba06af3a45c574"
      }
     },
     "metadata": {},
     "output_type": "display_data"
    },
    {
     "name": "stdout",
     "output_type": "stream",
     "text": [
      "Model generation over, evaluating...\n",
      "Running fold = 3\n",
      "Generating numeric representation for each word of ds.\n"
     ]
    },
    {
     "data": {
      "text/plain": [
       "Pandas Apply:   0%|          | 0/156631 [00:00<?, ?it/s]"
      ],
      "application/vnd.jupyter.widget-view+json": {
       "version_major": 2,
       "version_minor": 0,
       "model_id": "58b8c9a6922e4647b35bd43f743c9744"
      }
     },
     "metadata": {},
     "output_type": "display_data"
    },
    {
     "name": "stdout",
     "output_type": "stream",
     "text": [
      "Model generation over, evaluating...\n",
      "Running fold = 4\n",
      "Generating numeric representation for each word of ds.\n"
     ]
    },
    {
     "data": {
      "text/plain": [
       "Pandas Apply:   0%|          | 0/156632 [00:00<?, ?it/s]"
      ],
      "application/vnd.jupyter.widget-view+json": {
       "version_major": 2,
       "version_minor": 0,
       "model_id": "46f57e1c51454620a57d849fb7fc0c6c"
      }
     },
     "metadata": {},
     "output_type": "display_data"
    },
    {
     "name": "stdout",
     "output_type": "stream",
     "text": [
      "Model generation over, evaluating...\n",
      "Running configuration = {'topics': 14}\n",
      "Running fold = 0\n",
      "Generating numeric representation for each word of ds.\n"
     ]
    },
    {
     "data": {
      "text/plain": [
       "Pandas Apply:   0%|          | 0/156631 [00:00<?, ?it/s]"
      ],
      "application/vnd.jupyter.widget-view+json": {
       "version_major": 2,
       "version_minor": 0,
       "model_id": "bfafd3141ab1457d8c3bccb77ef8e4e6"
      }
     },
     "metadata": {},
     "output_type": "display_data"
    },
    {
     "name": "stdout",
     "output_type": "stream",
     "text": [
      "Model generation over, evaluating...\n",
      "Running fold = 1\n",
      "Generating numeric representation for each word of ds.\n"
     ]
    },
    {
     "data": {
      "text/plain": [
       "Pandas Apply:   0%|          | 0/156631 [00:00<?, ?it/s]"
      ],
      "application/vnd.jupyter.widget-view+json": {
       "version_major": 2,
       "version_minor": 0,
       "model_id": "128e9528e92347b3a0ec80f8ba28e1d3"
      }
     },
     "metadata": {},
     "output_type": "display_data"
    },
    {
     "name": "stdout",
     "output_type": "stream",
     "text": [
      "Model generation over, evaluating...\n",
      "Running fold = 2\n",
      "Generating numeric representation for each word of ds.\n"
     ]
    },
    {
     "data": {
      "text/plain": [
       "Pandas Apply:   0%|          | 0/156631 [00:00<?, ?it/s]"
      ],
      "application/vnd.jupyter.widget-view+json": {
       "version_major": 2,
       "version_minor": 0,
       "model_id": "625d4cb3e626420bb5911855ac210206"
      }
     },
     "metadata": {},
     "output_type": "display_data"
    },
    {
     "name": "stdout",
     "output_type": "stream",
     "text": [
      "Model generation over, evaluating...\n",
      "Running fold = 3\n",
      "Generating numeric representation for each word of ds.\n"
     ]
    },
    {
     "data": {
      "text/plain": [
       "Pandas Apply:   0%|          | 0/156631 [00:00<?, ?it/s]"
      ],
      "application/vnd.jupyter.widget-view+json": {
       "version_major": 2,
       "version_minor": 0,
       "model_id": "b9692780c137443f9d98d17e9693699a"
      }
     },
     "metadata": {},
     "output_type": "display_data"
    }
   ],
   "execution_count": null
  },
  {
   "metadata": {},
   "cell_type": "code",
   "outputs": [],
   "execution_count": null,
   "source": [
    "# In case I interrupt the procedure early the simple store block:\n",
    "\n",
    "results_path = \"./output/config/hp_tuning_results.json\"\n",
    "if Path(results_path).is_file():\n",
    "    existing_res = json.load(open(\"./output/config/hp_tuning_results.json\"))\n",
    "    results = results + existing_res\n",
    "json.dump(results, open(results_path, 'w'))"
   ],
   "id": "a8efbb7560f357ef"
  }
 ],
 "metadata": {
  "kernelspec": {
   "display_name": "Python 3",
   "language": "python",
   "name": "python3"
  },
  "language_info": {
   "codemirror_mode": {
    "name": "ipython",
    "version": 2
   },
   "file_extension": ".py",
   "mimetype": "text/x-python",
   "name": "python",
   "nbconvert_exporter": "python",
   "pygments_lexer": "ipython2",
   "version": "2.7.6"
  }
 },
 "nbformat": 4,
 "nbformat_minor": 5
}

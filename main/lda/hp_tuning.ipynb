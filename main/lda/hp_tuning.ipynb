{
 "cells": [
  {
   "metadata": {},
   "cell_type": "markdown",
   "source": [
    "### What hyperparameters to tune:\n",
    "Take a look here:\n",
    "> https://stats.stackexchange.com/questions/349761/reasonable-hyperparameter-range-for-latent-dirichlet-allocation\n",
    "\n",
    "So our go to are:\n",
    "- Topics number\n",
    "- alpha: Document-Topic Density\n",
    "- beta: Word-Topic Density\n"
   ],
   "id": "c4ee426affe89711"
  },
  {
   "metadata": {},
   "cell_type": "markdown",
   "source": "### Parameters definition",
   "id": "257c06fc04e01be9"
  },
  {
   "metadata": {
    "ExecuteTime": {
     "end_time": "2025-03-12T07:01:53.911791Z",
     "start_time": "2025-03-12T07:01:53.904293Z"
    }
   },
   "cell_type": "code",
   "source": [
    "from main.hp_tuning import UniqueParametersConfigFsGenerator, RandomTunableOffsetParameter\n",
    "\n",
    "seed = 1408\n",
    "config_generator = UniqueParametersConfigFsGenerator(100, \"./output/config\", \"seen_configurations.noun_only.json\")\n",
    "\n",
    "# The amount of topics we want to look for\n",
    "# Topics are by far the most relevant parameter to tune, alpha and beta will come later maybe:\n",
    "config_generator.add_parameter('topics', RandomTunableOffsetParameter(value_range=(7, 72), step=5, seed=seed))\n",
    "# config_generator.add_parameter('alpha', RandomTunableOffsetParameter(value_range=(0.005, 1.0), step=0.5, seed=seed))\n",
    "# config_generator.add_parameter('beta', RandomTunableDiscreteParameter(values_list=beta, seed=seed))"
   ],
   "id": "e2e43afc1b23b676",
   "outputs": [],
   "execution_count": 1
  },
  {
   "metadata": {},
   "cell_type": "code",
   "outputs": [],
   "execution_count": null,
   "source": [
    "from hp_tuning import LDATuningProcedure\n",
    "import pandas as pd\n",
    "\n",
    "corpus = pd.read_csv(\"../dataset/output/pos_tagged/pre_processed.310k.noun_only.csv\")\n",
    "procedure = LDATuningProcedure(generator=config_generator, top=[3, 10, 25], folds=5)\n",
    "results = procedure.run(corpus, 10)  # Try 10 different configurations.\n",
    "procedure.store_results(\"./output/config/hp_tuning_results.noun_only.json\")"
   ],
   "id": "5655c0a54c0c5c38"
  },
  {
   "metadata": {},
   "cell_type": "code",
   "outputs": [],
   "execution_count": null,
   "source": [
    "# Show results in graph...\n",
    "results"
   ],
   "id": "7bfa8ee14af4fcac"
  },
  {
   "metadata": {},
   "cell_type": "markdown",
   "source": "",
   "id": "a21f8679e84ff843"
  },
  {
   "metadata": {},
   "cell_type": "code",
   "outputs": [],
   "execution_count": null,
   "source": [
    "from main.hp_tuning import UniqueParametersConfigFsGenerator, RandomTunableOffsetParameter\n",
    "\n",
    "seed = 1408\n",
    "config_generator = UniqueParametersConfigFsGenerator(\n",
    "    100, \"./output/config\", \"seen_configurations.noun_only_sentence.json\"\n",
    ")\n",
    "\n",
    "# The amount of topics we want to look for\n",
    "# Topics are by far the most relevant parameter to tune, alpha and beta will come later maybe:\n",
    "config_generator.add_parameter('topics', RandomTunableOffsetParameter(value_range=(7, 72), step=5, seed=seed))\n",
    "# config_generator.add_parameter('alpha', RandomTunableOffsetParameter(value_range=(0.005, 1.0), step=0.5, seed=seed))\n",
    "# config_generator.add_parameter('beta', RandomTunableDiscreteParameter(values_list=beta, seed=seed))"
   ],
   "id": "4d4e13acddc03452"
  },
  {
   "metadata": {},
   "cell_type": "code",
   "outputs": [],
   "execution_count": null,
   "source": [
    "from hp_tuning import LDATuningProcedure\n",
    "import pandas as pd\n",
    "\n",
    "corpus = pd.read_csv(\"../dataset/output/pos_tagged_sentence_level/pre_processed.310k.noun_only.csv\")\n",
    "procedure = LDATuningProcedure(generator=config_generator, top=[3, 10, 25], folds=5)\n",
    "results = procedure.run(corpus, 10)  # Try 10 different configurations.\n",
    "procedure.store_results(\"./output/config/hp_tuning_results.noun_only_sent.json\")"
   ],
   "id": "f1cbc93a4783c302"
  },
  {
   "metadata": {},
   "cell_type": "code",
   "outputs": [],
   "execution_count": null,
   "source": [
    "# Show results in graph...\n",
    "results"
   ],
   "id": "fcc72afdb2cf2e0c"
  },
  {
   "metadata": {},
   "cell_type": "markdown",
   "source": "",
   "id": "3ab125632733f851"
  },
  {
   "metadata": {},
   "cell_type": "code",
   "outputs": [],
   "execution_count": null,
   "source": [
    "from main.hp_tuning import UniqueParametersConfigFsGenerator, RandomTunableOffsetParameter\n",
    "\n",
    "seed = 1408\n",
    "config_generator = UniqueParametersConfigFsGenerator(\n",
    "    100, \"./output/config\", \"seen_configurations.default_sentence.json\"\n",
    ")\n",
    "\n",
    "# The amount of topics we want to look for\n",
    "# Topics are by far the most relevant parameter to tune, alpha and beta will come later maybe:\n",
    "config_generator.add_parameter('topics', RandomTunableOffsetParameter(value_range=(7, 72), step=5, seed=seed))\n",
    "# config_generator.add_parameter('alpha', RandomTunableOffsetParameter(value_range=(0.005, 1.0), step=0.5, seed=seed))\n",
    "# config_generator.add_parameter('beta', RandomTunableDiscreteParameter(values_list=beta, seed=seed))"
   ],
   "id": "47de5d9d4f9873ab"
  },
  {
   "metadata": {},
   "cell_type": "code",
   "outputs": [],
   "execution_count": null,
   "source": [
    "from hp_tuning import LDATuningProcedure\n",
    "import pandas as pd\n",
    "\n",
    "corpus = pd.read_csv(\"../dataset/output/default_sentences/pre_processed.310k.csv\")\n",
    "procedure = LDATuningProcedure(generator=config_generator, top=[3, 10, 25], folds=5)\n",
    "results = procedure.run(corpus, 10)  # Try 10 different configurations.\n",
    "procedure.store_results(\"./output/config/hp_tuning_results.default_sentence.json\")"
   ],
   "id": "3bf3696c7e415fb6"
  },
  {
   "metadata": {},
   "cell_type": "code",
   "outputs": [],
   "execution_count": null,
   "source": [
    "# Show results in graph...\n",
    "results"
   ],
   "id": "b32448612ed18a5a"
  },
  {
   "metadata": {},
   "cell_type": "markdown",
   "source": "",
   "id": "52edd5abd5e9c074"
  },
  {
   "metadata": {},
   "cell_type": "code",
   "outputs": [],
   "execution_count": null,
   "source": [
    "#todo fix\n",
    "# https://www.kaggle.com/code/vijaylokithrr/topic-modelling#7)-Hyperparameter-Tuning\n",
    "plt.figure(figsize=(20, 7))\n",
    "ax = sns.lineplot(x=num_topics, y=hyper_para_coherence, label=\"topic coherences\")\n",
    "ax.axes.set_title('Coherence per Number of Topics', fontsize=25)\n",
    "ax.set_ylabel('Coherence', fontsize=20)\n",
    "ax.set_xlabel('Number of Topics', fontsize=20)\n",
    "plt.show()"
   ],
   "id": "ce1f2c39ad00080e"
  }
 ],
 "metadata": {
  "kernelspec": {
   "display_name": "Python 3",
   "language": "python",
   "name": "python3"
  },
  "language_info": {
   "codemirror_mode": {
    "name": "ipython",
    "version": 2
   },
   "file_extension": ".py",
   "mimetype": "text/x-python",
   "name": "python",
   "nbconvert_exporter": "python",
   "pygments_lexer": "ipython2",
   "version": "2.7.6"
  }
 },
 "nbformat": 4,
 "nbformat_minor": 5
}

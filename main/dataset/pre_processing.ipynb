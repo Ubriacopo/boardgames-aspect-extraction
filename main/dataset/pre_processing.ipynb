{
 "cells": [
  {
   "cell_type": "code",
   "id": "initial_id",
   "metadata": {
    "collapsed": true,
    "ExecuteTime": {
     "end_time": "2025-03-10T17:52:13.237261Z",
     "start_time": "2025-03-10T17:52:13.232820Z"
    }
   },
   "source": [
    "corpus_file = \"../../data/corpus.csv\"\n",
    "test_fraction = 0.25  # Fraction fo samples used to generate a test set.\n",
    "generation_setups = zip([80000, 310000], [2, 8])  # tuple[size, random_state]"
   ],
   "outputs": [],
   "execution_count": 13
  },
  {
   "metadata": {
    "ExecuteTime": {
     "end_time": "2025-03-10T17:52:14.308136Z",
     "start_time": "2025-03-10T17:52:14.305090Z"
    }
   },
   "cell_type": "code",
   "source": [
    "from pre_processing import PreProcessingServiceFactory\n",
    "from dataset_sampler import BggDatasetRandomBalancedSampler"
   ],
   "id": "1bb64e74b6426326",
   "outputs": [],
   "execution_count": 14
  },
  {
   "metadata": {},
   "cell_type": "markdown",
   "source": [
    "## Pre-processing\n",
    "We produce two datasets: a \"scouting\" one for the first steps and one for the final models that are eventually hp tuned"
   ],
   "id": "80e68663b1b1e49b"
  },
  {
   "metadata": {
    "ExecuteTime": {
     "end_time": "2025-03-10T17:52:17.496851Z",
     "start_time": "2025-03-10T17:52:17.407114Z"
    }
   },
   "cell_type": "code",
   "source": [
    "import pandas as pd\n",
    "\n",
    "# Read the game names to replace with the <GAME_NAME> tag\n",
    "game_names = pd.read_csv(\"../../resources/2024-08-18.csv\")['Name']\n",
    "game_names = pd.concat([game_names, pd.Series([\"Quick\", \"Catan\"])], ignore_index=True).tolist()\n",
    "print(f\"We have a total of {len(game_names)} different game names.\")"
   ],
   "id": "33c4d97dc3bd3d07",
   "outputs": [
    {
     "name": "stdout",
     "output_type": "stream",
     "text": [
      "We have a total of 25901 different game names.\n"
     ]
    }
   ],
   "execution_count": 15
  },
  {
   "metadata": {
    "ExecuteTime": {
     "end_time": "2025-03-10T17:52:24.059583Z",
     "start_time": "2025-03-10T17:52:24.056078Z"
    }
   },
   "cell_type": "code",
   "source": [
    "def process(service, generation_setup: zip, corpus_file_path: str):\n",
    "    for size, random_state in generation_setup:\n",
    "        sampler = BggDatasetRandomBalancedSampler(int(size / 10), corpus_file_path, random_state)\n",
    "        service.process_dataset(int(size), sampler)"
   ],
   "id": "3b90f69d158c1ed6",
   "outputs": [],
   "execution_count": 18
  },
  {
   "metadata": {},
   "cell_type": "markdown",
   "source": "## Default",
   "id": "5e860773b005b9cd"
  },
  {
   "metadata": {},
   "cell_type": "code",
   "outputs": [],
   "execution_count": null,
   "source": [
    "ps = PreProcessingServiceFactory.default(game_names, \"./output/default\", test_fraction)\n",
    "process(ps, generation_setups, corpus_file)"
   ],
   "id": "64247841da716f48"
  },
  {
   "metadata": {},
   "cell_type": "markdown",
   "source": "## Sentence-split",
   "id": "af777a704f6dee85"
  },
  {
   "metadata": {},
   "cell_type": "code",
   "outputs": [],
   "execution_count": null,
   "source": [
    "sentence_ps = PreProcessingServiceFactory.default_sentences(game_names, \"./output/default_sentences\", test_fraction)\n",
    "process(sentence_ps, generation_setups, corpus_file)"
   ],
   "id": "9b998f5776a5a330"
  },
  {
   "metadata": {},
   "cell_type": "markdown",
   "source": "### POS-tagged",
   "id": "43945a849575141f"
  },
  {
   "metadata": {
    "ExecuteTime": {
     "end_time": "2025-03-10T18:48:32.690918Z",
     "start_time": "2025-03-10T17:52:34.136147Z"
    }
   },
   "cell_type": "code",
   "source": [
    "pos_tag_ps = PreProcessingServiceFactory.pos_tagged(game_names, \"./output/pos_tagged\", test_fraction)\n",
    "process(pos_tag_ps, generation_setups, corpus_file)"
   ],
   "id": "20664c8204cd63da",
   "outputs": [
    {
     "name": "stdout",
     "output_type": "stream",
     "text": [
      "I have a total of 2220 games with reviews. We take 4 reviews per game.\n"
     ]
    },
    {
     "data": {
      "text/plain": [
       "Pandas Apply:   0%|          | 0/8880 [00:00<?, ?it/s]"
      ],
      "application/vnd.jupyter.widget-view+json": {
       "version_major": 2,
       "version_minor": 0,
       "model_id": "56359768eb8941c1b847211f97020782"
      }
     },
     "metadata": {},
     "output_type": "display_data"
    },
    {
     "name": "stdout",
     "output_type": "stream",
     "text": [
      "ds_size: 5886/80000\n",
      "I have a total of 2220 games with reviews. We take 4 reviews per game.\n"
     ]
    },
    {
     "data": {
      "text/plain": [
       "Pandas Apply:   0%|          | 0/8880 [00:00<?, ?it/s]"
      ],
      "application/vnd.jupyter.widget-view+json": {
       "version_major": 2,
       "version_minor": 0,
       "model_id": "06e9c560b19b4cc59a0ad8ea67fdbda0"
      }
     },
     "metadata": {},
     "output_type": "display_data"
    },
    {
     "name": "stdout",
     "output_type": "stream",
     "text": [
      "ds_size: 11779/80000\n",
      "I have a total of 2220 games with reviews. We take 4 reviews per game.\n"
     ]
    },
    {
     "data": {
      "text/plain": [
       "Pandas Apply:   0%|          | 0/8880 [00:00<?, ?it/s]"
      ],
      "application/vnd.jupyter.widget-view+json": {
       "version_major": 2,
       "version_minor": 0,
       "model_id": "f085122437d942b28663e853fc088a9f"
      }
     },
     "metadata": {},
     "output_type": "display_data"
    },
    {
     "name": "stdout",
     "output_type": "stream",
     "text": [
      "ds_size: 17670/80000\n",
      "I have a total of 2220 games with reviews. We take 4 reviews per game.\n"
     ]
    },
    {
     "data": {
      "text/plain": [
       "Pandas Apply:   0%|          | 0/8880 [00:00<?, ?it/s]"
      ],
      "application/vnd.jupyter.widget-view+json": {
       "version_major": 2,
       "version_minor": 0,
       "model_id": "556b50b81e2c499fa206e464060a80d6"
      }
     },
     "metadata": {},
     "output_type": "display_data"
    },
    {
     "name": "stdout",
     "output_type": "stream",
     "text": [
      "ds_size: 23511/80000\n",
      "I have a total of 2220 games with reviews. We take 4 reviews per game.\n"
     ]
    },
    {
     "data": {
      "text/plain": [
       "Pandas Apply:   0%|          | 0/8880 [00:00<?, ?it/s]"
      ],
      "application/vnd.jupyter.widget-view+json": {
       "version_major": 2,
       "version_minor": 0,
       "model_id": "33cb165488ae49f5b9de3e204e5351b3"
      }
     },
     "metadata": {},
     "output_type": "display_data"
    },
    {
     "name": "stdout",
     "output_type": "stream",
     "text": [
      "ds_size: 29253/80000\n",
      "I have a total of 2220 games with reviews. We take 4 reviews per game.\n"
     ]
    },
    {
     "data": {
      "text/plain": [
       "Pandas Apply:   0%|          | 0/8880 [00:00<?, ?it/s]"
      ],
      "application/vnd.jupyter.widget-view+json": {
       "version_major": 2,
       "version_minor": 0,
       "model_id": "ba5948d0e3d64590af515c2ab547e0f0"
      }
     },
     "metadata": {},
     "output_type": "display_data"
    },
    {
     "name": "stdout",
     "output_type": "stream",
     "text": [
      "ds_size: 35092/80000\n",
      "I have a total of 2220 games with reviews. We take 4 reviews per game.\n"
     ]
    },
    {
     "data": {
      "text/plain": [
       "Pandas Apply:   0%|          | 0/8880 [00:00<?, ?it/s]"
      ],
      "application/vnd.jupyter.widget-view+json": {
       "version_major": 2,
       "version_minor": 0,
       "model_id": "96f5fd6c350a4968a543ce8d6cf0edfc"
      }
     },
     "metadata": {},
     "output_type": "display_data"
    },
    {
     "name": "stdout",
     "output_type": "stream",
     "text": [
      "ds_size: 40879/80000\n",
      "I have a total of 2220 games with reviews. We take 4 reviews per game.\n"
     ]
    },
    {
     "data": {
      "text/plain": [
       "Pandas Apply:   0%|          | 0/8880 [00:00<?, ?it/s]"
      ],
      "application/vnd.jupyter.widget-view+json": {
       "version_major": 2,
       "version_minor": 0,
       "model_id": "57c4c9f0f81d4dfd84eb7f965a91745a"
      }
     },
     "metadata": {},
     "output_type": "display_data"
    },
    {
     "name": "stdout",
     "output_type": "stream",
     "text": [
      "ds_size: 46755/80000\n",
      "I have a total of 2220 games with reviews. We take 4 reviews per game.\n"
     ]
    },
    {
     "data": {
      "text/plain": [
       "Pandas Apply:   0%|          | 0/8880 [00:00<?, ?it/s]"
      ],
      "application/vnd.jupyter.widget-view+json": {
       "version_major": 2,
       "version_minor": 0,
       "model_id": "3106ac1efb834c6d80f4dd86b89706c3"
      }
     },
     "metadata": {},
     "output_type": "display_data"
    },
    {
     "name": "stdout",
     "output_type": "stream",
     "text": [
      "ds_size: 52442/80000\n",
      "I have a total of 2220 games with reviews. We take 4 reviews per game.\n"
     ]
    },
    {
     "data": {
      "text/plain": [
       "Pandas Apply:   0%|          | 0/8880 [00:00<?, ?it/s]"
      ],
      "application/vnd.jupyter.widget-view+json": {
       "version_major": 2,
       "version_minor": 0,
       "model_id": "7a7ff62477d54744a33fcfe92b6587a5"
      }
     },
     "metadata": {},
     "output_type": "display_data"
    },
    {
     "name": "stdout",
     "output_type": "stream",
     "text": [
      "ds_size: 58110/80000\n",
      "I have a total of 2220 games with reviews. We take 4 reviews per game.\n"
     ]
    },
    {
     "data": {
      "text/plain": [
       "Pandas Apply:   0%|          | 0/8880 [00:00<?, ?it/s]"
      ],
      "application/vnd.jupyter.widget-view+json": {
       "version_major": 2,
       "version_minor": 0,
       "model_id": "c3c9018802a74442811077552cc8a2aa"
      }
     },
     "metadata": {},
     "output_type": "display_data"
    },
    {
     "name": "stdout",
     "output_type": "stream",
     "text": [
      "ds_size: 63857/80000\n",
      "I have a total of 2220 games with reviews. We take 4 reviews per game.\n"
     ]
    },
    {
     "data": {
      "text/plain": [
       "Pandas Apply:   0%|          | 0/8880 [00:00<?, ?it/s]"
      ],
      "application/vnd.jupyter.widget-view+json": {
       "version_major": 2,
       "version_minor": 0,
       "model_id": "43f67cad65c944ed95ac769ed3de62e6"
      }
     },
     "metadata": {},
     "output_type": "display_data"
    },
    {
     "name": "stdout",
     "output_type": "stream",
     "text": [
      "ds_size: 69588/80000\n",
      "I have a total of 2220 games with reviews. We take 4 reviews per game.\n"
     ]
    },
    {
     "data": {
      "text/plain": [
       "Pandas Apply:   0%|          | 0/8880 [00:00<?, ?it/s]"
      ],
      "application/vnd.jupyter.widget-view+json": {
       "version_major": 2,
       "version_minor": 0,
       "model_id": "f8cf5bf48f524d39ab2ea5056a40bdec"
      }
     },
     "metadata": {},
     "output_type": "display_data"
    },
    {
     "name": "stdout",
     "output_type": "stream",
     "text": [
      "ds_size: 75303/80000\n",
      "I have a total of 2220 games with reviews. We take 4 reviews per game.\n"
     ]
    },
    {
     "data": {
      "text/plain": [
       "Pandas Apply:   0%|          | 0/8880 [00:00<?, ?it/s]"
      ],
      "application/vnd.jupyter.widget-view+json": {
       "version_major": 2,
       "version_minor": 0,
       "model_id": "7431eb3e4915475dafb824154a3d0ebf"
      }
     },
     "metadata": {},
     "output_type": "display_data"
    },
    {
     "name": "stdout",
     "output_type": "stream",
     "text": [
      "ds_size: 80935/80000\n",
      "Processing terminated. We are storing the work ready file now...\n",
      "Test subset created with success as ./output/pos_tagged/pre_processed.80k.test.csv\n",
      "File created with success as ./output/pos_tagged/pre_processed.80k.csv\n",
      "I have a total of 2220 games with reviews. We take 14 reviews per game.\n"
     ]
    },
    {
     "data": {
      "text/plain": [
       "Pandas Apply:   0%|          | 0/31080 [00:00<?, ?it/s]"
      ],
      "application/vnd.jupyter.widget-view+json": {
       "version_major": 2,
       "version_minor": 0,
       "model_id": "637b12d794a64339bfd06bce57b0bff2"
      }
     },
     "metadata": {},
     "output_type": "display_data"
    },
    {
     "name": "stdout",
     "output_type": "stream",
     "text": [
      "ds_size: 20590/310000\n",
      "I have a total of 2220 games with reviews. We take 14 reviews per game.\n"
     ]
    },
    {
     "data": {
      "text/plain": [
       "Pandas Apply:   0%|          | 0/31080 [00:00<?, ?it/s]"
      ],
      "application/vnd.jupyter.widget-view+json": {
       "version_major": 2,
       "version_minor": 0,
       "model_id": "3c6534e4bbac4ac8b0bb535e061f269d"
      }
     },
     "metadata": {},
     "output_type": "display_data"
    },
    {
     "name": "stdout",
     "output_type": "stream",
     "text": [
      "ds_size: 40943/310000\n",
      "I have a total of 2220 games with reviews. We take 14 reviews per game.\n"
     ]
    },
    {
     "data": {
      "text/plain": [
       "Pandas Apply:   0%|          | 0/31080 [00:00<?, ?it/s]"
      ],
      "application/vnd.jupyter.widget-view+json": {
       "version_major": 2,
       "version_minor": 0,
       "model_id": "d2a1411a16a74108a4e0a0cc670466d1"
      }
     },
     "metadata": {},
     "output_type": "display_data"
    },
    {
     "name": "stdout",
     "output_type": "stream",
     "text": [
      "ds_size: 61045/310000\n",
      "I have a total of 2220 games with reviews. We take 14 reviews per game.\n"
     ]
    },
    {
     "data": {
      "text/plain": [
       "Pandas Apply:   0%|          | 0/31080 [00:00<?, ?it/s]"
      ],
      "application/vnd.jupyter.widget-view+json": {
       "version_major": 2,
       "version_minor": 0,
       "model_id": "5df10d02ae5140358e9a50cf99898ba7"
      }
     },
     "metadata": {},
     "output_type": "display_data"
    },
    {
     "name": "stdout",
     "output_type": "stream",
     "text": [
      "ds_size: 81005/310000\n",
      "I have a total of 2220 games with reviews. We take 14 reviews per game.\n"
     ]
    },
    {
     "data": {
      "text/plain": [
       "Pandas Apply:   0%|          | 0/31080 [00:00<?, ?it/s]"
      ],
      "application/vnd.jupyter.widget-view+json": {
       "version_major": 2,
       "version_minor": 0,
       "model_id": "dbf6a9fccfd54833ba9e2524aee27727"
      }
     },
     "metadata": {},
     "output_type": "display_data"
    },
    {
     "name": "stdout",
     "output_type": "stream",
     "text": [
      "ds_size: 100723/310000\n",
      "I have a total of 2220 games with reviews. We take 14 reviews per game.\n"
     ]
    },
    {
     "data": {
      "text/plain": [
       "Pandas Apply:   0%|          | 0/31080 [00:00<?, ?it/s]"
      ],
      "application/vnd.jupyter.widget-view+json": {
       "version_major": 2,
       "version_minor": 0,
       "model_id": "b62c6186c0d440579e7baa15f38678bf"
      }
     },
     "metadata": {},
     "output_type": "display_data"
    },
    {
     "name": "stdout",
     "output_type": "stream",
     "text": [
      "ds_size: 120193/310000\n",
      "I have a total of 2220 games with reviews. We take 14 reviews per game.\n"
     ]
    },
    {
     "data": {
      "text/plain": [
       "Pandas Apply:   0%|          | 0/31080 [00:00<?, ?it/s]"
      ],
      "application/vnd.jupyter.widget-view+json": {
       "version_major": 2,
       "version_minor": 0,
       "model_id": "08196b3a3786477eb928ac8c723e8e21"
      }
     },
     "metadata": {},
     "output_type": "display_data"
    },
    {
     "name": "stdout",
     "output_type": "stream",
     "text": [
      "ds_size: 139659/310000\n",
      "I have a total of 2220 games with reviews. We take 14 reviews per game.\n"
     ]
    },
    {
     "data": {
      "text/plain": [
       "Pandas Apply:   0%|          | 0/31080 [00:00<?, ?it/s]"
      ],
      "application/vnd.jupyter.widget-view+json": {
       "version_major": 2,
       "version_minor": 0,
       "model_id": "b3c4f479b4f045feb85452fd6775a64f"
      }
     },
     "metadata": {},
     "output_type": "display_data"
    },
    {
     "name": "stdout",
     "output_type": "stream",
     "text": [
      "ds_size: 158760/310000\n",
      "I have a total of 2220 games with reviews. We take 14 reviews per game.\n"
     ]
    },
    {
     "data": {
      "text/plain": [
       "Pandas Apply:   0%|          | 0/31080 [00:00<?, ?it/s]"
      ],
      "application/vnd.jupyter.widget-view+json": {
       "version_major": 2,
       "version_minor": 0,
       "model_id": "f3ad91294c694c83a609746b53680723"
      }
     },
     "metadata": {},
     "output_type": "display_data"
    },
    {
     "name": "stdout",
     "output_type": "stream",
     "text": [
      "ds_size: 177863/310000\n",
      "I have a total of 2220 games with reviews. We take 14 reviews per game.\n"
     ]
    },
    {
     "data": {
      "text/plain": [
       "Pandas Apply:   0%|          | 0/31080 [00:00<?, ?it/s]"
      ],
      "application/vnd.jupyter.widget-view+json": {
       "version_major": 2,
       "version_minor": 0,
       "model_id": "4538c2b280f64a179787675000de51e6"
      }
     },
     "metadata": {},
     "output_type": "display_data"
    },
    {
     "name": "stdout",
     "output_type": "stream",
     "text": [
      "ds_size: 196901/310000\n",
      "I have a total of 2220 games with reviews. We take 14 reviews per game.\n"
     ]
    },
    {
     "data": {
      "text/plain": [
       "Pandas Apply:   0%|          | 0/31071 [00:00<?, ?it/s]"
      ],
      "application/vnd.jupyter.widget-view+json": {
       "version_major": 2,
       "version_minor": 0,
       "model_id": "1021e4629a374ab58ab67cf90d43ac76"
      }
     },
     "metadata": {},
     "output_type": "display_data"
    },
    {
     "name": "stdout",
     "output_type": "stream",
     "text": [
      "ds_size: 215479/310000\n",
      "I have a total of 2218 games with reviews. We take 14 reviews per game.\n"
     ]
    },
    {
     "data": {
      "text/plain": [
       "Pandas Apply:   0%|          | 0/31022 [00:00<?, ?it/s]"
      ],
      "application/vnd.jupyter.widget-view+json": {
       "version_major": 2,
       "version_minor": 0,
       "model_id": "994f59e14c2c4ad6a442d0132d2c4809"
      }
     },
     "metadata": {},
     "output_type": "display_data"
    },
    {
     "name": "stdout",
     "output_type": "stream",
     "text": [
      "ds_size: 234051/310000\n",
      "I have a total of 2211 games with reviews. We take 15 reviews per game.\n"
     ]
    },
    {
     "data": {
      "text/plain": [
       "Pandas Apply:   0%|          | 0/33115 [00:00<?, ?it/s]"
      ],
      "application/vnd.jupyter.widget-view+json": {
       "version_major": 2,
       "version_minor": 0,
       "model_id": "e66699fbadfc4889903784d42447140e"
      }
     },
     "metadata": {},
     "output_type": "display_data"
    },
    {
     "name": "stdout",
     "output_type": "stream",
     "text": [
      "ds_size: 253737/310000\n",
      "I have a total of 2206 games with reviews. We take 15 reviews per game.\n"
     ]
    },
    {
     "data": {
      "text/plain": [
       "Pandas Apply:   0%|          | 0/33026 [00:00<?, ?it/s]"
      ],
      "application/vnd.jupyter.widget-view+json": {
       "version_major": 2,
       "version_minor": 0,
       "model_id": "2f9686e94416498187e20d97803a4371"
      }
     },
     "metadata": {},
     "output_type": "display_data"
    },
    {
     "name": "stdout",
     "output_type": "stream",
     "text": [
      "ds_size: 273279/310000\n",
      "I have a total of 2198 games with reviews. We take 15 reviews per game.\n"
     ]
    },
    {
     "data": {
      "text/plain": [
       "Pandas Apply:   0%|          | 0/32916 [00:00<?, ?it/s]"
      ],
      "application/vnd.jupyter.widget-view+json": {
       "version_major": 2,
       "version_minor": 0,
       "model_id": "be5dc7727c964aab8b063a0135f4200f"
      }
     },
     "metadata": {},
     "output_type": "display_data"
    },
    {
     "name": "stdout",
     "output_type": "stream",
     "text": [
      "ds_size: 292741/310000\n",
      "I have a total of 2188 games with reviews. We take 15 reviews per game.\n"
     ]
    },
    {
     "data": {
      "text/plain": [
       "Pandas Apply:   0%|          | 0/32717 [00:00<?, ?it/s]"
      ],
      "application/vnd.jupyter.widget-view+json": {
       "version_major": 2,
       "version_minor": 0,
       "model_id": "8bb728f7c2b84ad19be8b5d59c07d5b1"
      }
     },
     "metadata": {},
     "output_type": "display_data"
    },
    {
     "name": "stdout",
     "output_type": "stream",
     "text": [
      "ds_size: 311703/310000\n",
      "Processing terminated. We are storing the work ready file now...\n",
      "Test subset created with success as ./output/pos_tagged/pre_processed.310k.test.csv\n",
      "File created with success as ./output/pos_tagged/pre_processed.310k.csv\n"
     ]
    }
   ],
   "execution_count": 19
  },
  {
   "metadata": {},
   "cell_type": "markdown",
   "source": "Now a POS tagged variant on sentences",
   "id": "5404af77609b190a"
  },
  {
   "metadata": {
    "ExecuteTime": {
     "end_time": "2025-03-10T16:50:59.055802Z",
     "start_time": "2025-03-10T16:49:44.604092Z"
    }
   },
   "cell_type": "code",
   "source": [
    "out_path = \"./output/pos_tagged_sentence_level\"\n",
    "pos_tag_sentence_ps = PreProcessingServiceFactory.pos_tagged_sentence_level(game_names, out_path, test_fraction)\n",
    "process(pos_tag_sentence_ps, generation_setups, corpus_file)"
   ],
   "id": "3835018b0d0d226d",
   "outputs": [],
   "execution_count": 6
  }
 ],
 "metadata": {
  "kernelspec": {
   "display_name": "Python 3",
   "language": "python",
   "name": "python3"
  },
  "language_info": {
   "codemirror_mode": {
    "name": "ipython",
    "version": 2
   },
   "file_extension": ".py",
   "mimetype": "text/x-python",
   "name": "python",
   "nbconvert_exporter": "python",
   "pygments_lexer": "ipython2",
   "version": "2.7.6"
  }
 },
 "nbformat": 4,
 "nbformat_minor": 5
}

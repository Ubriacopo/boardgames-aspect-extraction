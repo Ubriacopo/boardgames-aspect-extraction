{
 "cells": [
  {
   "cell_type": "code",
   "id": "initial_id",
   "metadata": {
    "collapsed": true,
    "ExecuteTime": {
     "end_time": "2025-03-22T08:17:38.280321Z",
     "start_time": "2025-03-22T08:17:38.276845Z"
    }
   },
   "source": [
    "corpus_file = \"../../data/corpus.csv\"\n",
    "test_fraction = 0.25  # Fraction fo samples used to generate a test set.\n",
    "\n",
    "random_seed = 8\n",
    "# sizes = [80000, 310000]\n",
    "sizes = [80000]"
   ],
   "outputs": [],
   "execution_count": 1
  },
  {
   "metadata": {
    "ExecuteTime": {
     "end_time": "2025-03-22T08:17:42.776727Z",
     "start_time": "2025-03-22T08:17:38.815554Z"
    }
   },
   "cell_type": "code",
   "source": [
    "from pre_processing import PreProcessingServiceFactory\n",
    "from main.dataset.dataset_sampler import BggDatasetRandomBalancedSampler\n",
    "import pandas as pd"
   ],
   "id": "1bb64e74b6426326",
   "outputs": [],
   "execution_count": 2
  },
  {
   "metadata": {},
   "cell_type": "markdown",
   "source": [
    "## Pre-processing\n",
    "We produce two datasets: a \"scouting\" one for the first steps and one for the final models that are eventually hp tuned. <br>\n",
    "By using the same seed I ensure that one dataset is contained in the other. <br>\n",
    "This means that the 310k variant only adds information to the existing 80k one."
   ],
   "id": "80e68663b1b1e49b"
  },
  {
   "metadata": {
    "ExecuteTime": {
     "end_time": "2025-03-22T08:17:46.109895Z",
     "start_time": "2025-03-22T08:17:46.029412Z"
    }
   },
   "cell_type": "code",
   "source": [
    "# Read the game names to replace with the <GAME_NAME> tag\n",
    "game_names = pd.read_csv(\"../../resources/2024-08-18.csv\")['Name']\n",
    "game_names = pd.concat([game_names, pd.Series([\"Quick\", \"Catan\"])], ignore_index=True).tolist()\n",
    "print(f\"We have a total of {len(game_names)} different game names.\")"
   ],
   "id": "33c4d97dc3bd3d07",
   "outputs": [
    {
     "name": "stdout",
     "output_type": "stream",
     "text": [
      "We have a total of 25901 different game names.\n"
     ]
    }
   ],
   "execution_count": 3
  },
  {
   "metadata": {
    "ExecuteTime": {
     "end_time": "2025-03-22T08:17:46.848478Z",
     "start_time": "2025-03-22T08:17:46.844366Z"
    }
   },
   "cell_type": "code",
   "source": [
    "def process(service, ds_sizes: list, random_state: int, corpus_file_path: str):\n",
    "    for size in ds_sizes:\n",
    "        sampler = BggDatasetRandomBalancedSampler(int(size / 10), corpus_file_path, random_state)\n",
    "        service.process_dataset(int(size), sampler)"
   ],
   "id": "3b90f69d158c1ed6",
   "outputs": [],
   "execution_count": 4
  },
  {
   "metadata": {},
   "cell_type": "markdown",
   "source": "## Default",
   "id": "5e860773b005b9cd"
  },
  {
   "metadata": {
    "ExecuteTime": {
     "end_time": "2025-03-22T08:31:29.691168Z",
     "start_time": "2025-03-22T08:18:02.702184Z"
    }
   },
   "cell_type": "code",
   "source": [
    "ps = PreProcessingServiceFactory.default(game_names, \"./output/default\", test_fraction)\n",
    "process(ps, sizes, random_seed, corpus_file)"
   ],
   "id": "64247841da716f48",
   "outputs": [
    {
     "name": "stdout",
     "output_type": "stream",
     "text": [
      "I have a total of 2220 games with reviews. We take 4 reviews per game.\n"
     ]
    },
    {
     "data": {
      "text/plain": [
       "Pandas Apply:   0%|          | 0/8880 [00:00<?, ?it/s]"
      ],
      "application/vnd.jupyter.widget-view+json": {
       "version_major": 2,
       "version_minor": 0,
       "model_id": "3c9034d6f91c4c66b7a119113410e1b1"
      }
     },
     "metadata": {},
     "output_type": "display_data"
    },
    {
     "name": "stdout",
     "output_type": "stream",
     "text": [
      "ds_size: 5912/80000\n",
      "I have a total of 2220 games with reviews. We take 4 reviews per game.\n"
     ]
    },
    {
     "data": {
      "text/plain": [
       "Pandas Apply:   0%|          | 0/8880 [00:00<?, ?it/s]"
      ],
      "application/vnd.jupyter.widget-view+json": {
       "version_major": 2,
       "version_minor": 0,
       "model_id": "ab4b156fabd9463bb9ea3cf6576a5185"
      }
     },
     "metadata": {},
     "output_type": "display_data"
    },
    {
     "name": "stdout",
     "output_type": "stream",
     "text": [
      "ds_size: 11787/80000\n",
      "I have a total of 2220 games with reviews. We take 4 reviews per game.\n"
     ]
    },
    {
     "data": {
      "text/plain": [
       "Pandas Apply:   0%|          | 0/8880 [00:00<?, ?it/s]"
      ],
      "application/vnd.jupyter.widget-view+json": {
       "version_major": 2,
       "version_minor": 0,
       "model_id": "700eef285a2f43e9b1d8d1f23a7fef37"
      }
     },
     "metadata": {},
     "output_type": "display_data"
    },
    {
     "name": "stdout",
     "output_type": "stream",
     "text": [
      "ds_size: 17654/80000\n",
      "I have a total of 2220 games with reviews. We take 4 reviews per game.\n"
     ]
    },
    {
     "data": {
      "text/plain": [
       "Pandas Apply:   0%|          | 0/8880 [00:00<?, ?it/s]"
      ],
      "application/vnd.jupyter.widget-view+json": {
       "version_major": 2,
       "version_minor": 0,
       "model_id": "c2b2181fad00405cb61d8a317c55c0e1"
      }
     },
     "metadata": {},
     "output_type": "display_data"
    },
    {
     "name": "stdout",
     "output_type": "stream",
     "text": [
      "ds_size: 23483/80000\n",
      "I have a total of 2220 games with reviews. We take 4 reviews per game.\n"
     ]
    },
    {
     "data": {
      "text/plain": [
       "Pandas Apply:   0%|          | 0/8880 [00:00<?, ?it/s]"
      ],
      "application/vnd.jupyter.widget-view+json": {
       "version_major": 2,
       "version_minor": 0,
       "model_id": "0d0025495cd745d2ac770fb044a12560"
      }
     },
     "metadata": {},
     "output_type": "display_data"
    },
    {
     "name": "stdout",
     "output_type": "stream",
     "text": [
      "ds_size: 29281/80000\n",
      "I have a total of 2220 games with reviews. We take 4 reviews per game.\n"
     ]
    },
    {
     "data": {
      "text/plain": [
       "Pandas Apply:   0%|          | 0/8880 [00:00<?, ?it/s]"
      ],
      "application/vnd.jupyter.widget-view+json": {
       "version_major": 2,
       "version_minor": 0,
       "model_id": "4b0af7921b164b7382a8b79a78707ae0"
      }
     },
     "metadata": {},
     "output_type": "display_data"
    },
    {
     "name": "stdout",
     "output_type": "stream",
     "text": [
      "ds_size: 35132/80000\n",
      "I have a total of 2220 games with reviews. We take 4 reviews per game.\n"
     ]
    },
    {
     "data": {
      "text/plain": [
       "Pandas Apply:   0%|          | 0/8880 [00:00<?, ?it/s]"
      ],
      "application/vnd.jupyter.widget-view+json": {
       "version_major": 2,
       "version_minor": 0,
       "model_id": "ff0945f5f45d4aac9b66db35f2b0286c"
      }
     },
     "metadata": {},
     "output_type": "display_data"
    },
    {
     "name": "stdout",
     "output_type": "stream",
     "text": [
      "ds_size: 40991/80000\n",
      "I have a total of 2220 games with reviews. We take 4 reviews per game.\n"
     ]
    },
    {
     "data": {
      "text/plain": [
       "Pandas Apply:   0%|          | 0/8880 [00:00<?, ?it/s]"
      ],
      "application/vnd.jupyter.widget-view+json": {
       "version_major": 2,
       "version_minor": 0,
       "model_id": "4a61216642e24ed892ec1a50fe1622df"
      }
     },
     "metadata": {},
     "output_type": "display_data"
    },
    {
     "name": "stdout",
     "output_type": "stream",
     "text": [
      "ds_size: 46736/80000\n",
      "I have a total of 2220 games with reviews. We take 4 reviews per game.\n"
     ]
    },
    {
     "data": {
      "text/plain": [
       "Pandas Apply:   0%|          | 0/8880 [00:00<?, ?it/s]"
      ],
      "application/vnd.jupyter.widget-view+json": {
       "version_major": 2,
       "version_minor": 0,
       "model_id": "f65085c5d3df49a3ad46120dd33d8778"
      }
     },
     "metadata": {},
     "output_type": "display_data"
    },
    {
     "name": "stdout",
     "output_type": "stream",
     "text": [
      "ds_size: 52470/80000\n",
      "I have a total of 2220 games with reviews. We take 4 reviews per game.\n"
     ]
    },
    {
     "data": {
      "text/plain": [
       "Pandas Apply:   0%|          | 0/8880 [00:00<?, ?it/s]"
      ],
      "application/vnd.jupyter.widget-view+json": {
       "version_major": 2,
       "version_minor": 0,
       "model_id": "2ba1e8b1e69a48c080be819f8035c14f"
      }
     },
     "metadata": {},
     "output_type": "display_data"
    },
    {
     "name": "stdout",
     "output_type": "stream",
     "text": [
      "ds_size: 58123/80000\n",
      "I have a total of 2220 games with reviews. We take 4 reviews per game.\n"
     ]
    },
    {
     "data": {
      "text/plain": [
       "Pandas Apply:   0%|          | 0/8880 [00:00<?, ?it/s]"
      ],
      "application/vnd.jupyter.widget-view+json": {
       "version_major": 2,
       "version_minor": 0,
       "model_id": "9299e20bb9d7442d8c83acd61f3c5002"
      }
     },
     "metadata": {},
     "output_type": "display_data"
    },
    {
     "name": "stdout",
     "output_type": "stream",
     "text": [
      "ds_size: 63860/80000\n",
      "I have a total of 2220 games with reviews. We take 4 reviews per game.\n"
     ]
    },
    {
     "data": {
      "text/plain": [
       "Pandas Apply:   0%|          | 0/8880 [00:00<?, ?it/s]"
      ],
      "application/vnd.jupyter.widget-view+json": {
       "version_major": 2,
       "version_minor": 0,
       "model_id": "9fe40892a55b40769ebf42df1c1e223f"
      }
     },
     "metadata": {},
     "output_type": "display_data"
    },
    {
     "name": "stdout",
     "output_type": "stream",
     "text": [
      "ds_size: 69539/80000\n",
      "I have a total of 2220 games with reviews. We take 4 reviews per game.\n"
     ]
    },
    {
     "data": {
      "text/plain": [
       "Pandas Apply:   0%|          | 0/8880 [00:00<?, ?it/s]"
      ],
      "application/vnd.jupyter.widget-view+json": {
       "version_major": 2,
       "version_minor": 0,
       "model_id": "ae128d11458d4121be3f88b4b357e463"
      }
     },
     "metadata": {},
     "output_type": "display_data"
    },
    {
     "name": "stdout",
     "output_type": "stream",
     "text": [
      "ds_size: 75238/80000\n",
      "I have a total of 2220 games with reviews. We take 4 reviews per game.\n"
     ]
    },
    {
     "data": {
      "text/plain": [
       "Pandas Apply:   0%|          | 0/8880 [00:00<?, ?it/s]"
      ],
      "application/vnd.jupyter.widget-view+json": {
       "version_major": 2,
       "version_minor": 0,
       "model_id": "54027ac968744d40ade2f9bc324dd38a"
      }
     },
     "metadata": {},
     "output_type": "display_data"
    },
    {
     "name": "stdout",
     "output_type": "stream",
     "text": [
      "ds_size: 80920/80000\n",
      "Processing terminated. We are storing the work ready file now...\n",
      "Test subset created with success as ./output/default/pre_processed.80k.test.csv\n",
      "File created with success as ./output/default/pre_processed.80k.csv\n"
     ]
    }
   ],
   "execution_count": 5
  },
  {
   "metadata": {},
   "cell_type": "markdown",
   "source": "## Sentence-split",
   "id": "af777a704f6dee85"
  },
  {
   "metadata": {
    "ExecuteTime": {
     "end_time": "2025-03-22T08:53:16.947388Z",
     "start_time": "2025-03-22T08:40:46.010427Z"
    }
   },
   "cell_type": "code",
   "source": [
    "sentence_ps = PreProcessingServiceFactory.default_sentences(game_names, \"./output/default_sentences\", test_fraction)\n",
    "process(ps, sizes, random_seed, corpus_file)"
   ],
   "id": "9b998f5776a5a330",
   "outputs": [
    {
     "name": "stdout",
     "output_type": "stream",
     "text": [
      "I have a total of 2220 games with reviews. We take 4 reviews per game.\n"
     ]
    },
    {
     "data": {
      "text/plain": [
       "Pandas Apply:   0%|          | 0/8880 [00:00<?, ?it/s]"
      ],
      "application/vnd.jupyter.widget-view+json": {
       "version_major": 2,
       "version_minor": 0,
       "model_id": "0827ceae319448a697fb3f3838978ef7"
      }
     },
     "metadata": {},
     "output_type": "display_data"
    },
    {
     "name": "stdout",
     "output_type": "stream",
     "text": [
      "ds_size: 5912/80000\n",
      "I have a total of 2220 games with reviews. We take 4 reviews per game.\n"
     ]
    },
    {
     "data": {
      "text/plain": [
       "Pandas Apply:   0%|          | 0/8880 [00:00<?, ?it/s]"
      ],
      "application/vnd.jupyter.widget-view+json": {
       "version_major": 2,
       "version_minor": 0,
       "model_id": "c282861636fa432f926ef94e741298c4"
      }
     },
     "metadata": {},
     "output_type": "display_data"
    },
    {
     "name": "stdout",
     "output_type": "stream",
     "text": [
      "ds_size: 11787/80000\n",
      "I have a total of 2220 games with reviews. We take 4 reviews per game.\n"
     ]
    },
    {
     "data": {
      "text/plain": [
       "Pandas Apply:   0%|          | 0/8880 [00:00<?, ?it/s]"
      ],
      "application/vnd.jupyter.widget-view+json": {
       "version_major": 2,
       "version_minor": 0,
       "model_id": "ae8353cea97c4ae28702fe2e9c66875a"
      }
     },
     "metadata": {},
     "output_type": "display_data"
    },
    {
     "name": "stdout",
     "output_type": "stream",
     "text": [
      "ds_size: 17654/80000\n",
      "I have a total of 2220 games with reviews. We take 4 reviews per game.\n"
     ]
    },
    {
     "data": {
      "text/plain": [
       "Pandas Apply:   0%|          | 0/8880 [00:00<?, ?it/s]"
      ],
      "application/vnd.jupyter.widget-view+json": {
       "version_major": 2,
       "version_minor": 0,
       "model_id": "f66dc268cb2c41c9892501e92c3f4b08"
      }
     },
     "metadata": {},
     "output_type": "display_data"
    },
    {
     "name": "stdout",
     "output_type": "stream",
     "text": [
      "ds_size: 23483/80000\n",
      "I have a total of 2220 games with reviews. We take 4 reviews per game.\n"
     ]
    },
    {
     "data": {
      "text/plain": [
       "Pandas Apply:   0%|          | 0/8880 [00:00<?, ?it/s]"
      ],
      "application/vnd.jupyter.widget-view+json": {
       "version_major": 2,
       "version_minor": 0,
       "model_id": "edd14e3961a843ac93f4d9e89df10bbb"
      }
     },
     "metadata": {},
     "output_type": "display_data"
    },
    {
     "name": "stdout",
     "output_type": "stream",
     "text": [
      "ds_size: 29281/80000\n",
      "I have a total of 2220 games with reviews. We take 4 reviews per game.\n"
     ]
    },
    {
     "data": {
      "text/plain": [
       "Pandas Apply:   0%|          | 0/8880 [00:00<?, ?it/s]"
      ],
      "application/vnd.jupyter.widget-view+json": {
       "version_major": 2,
       "version_minor": 0,
       "model_id": "00f569d272a14b748b3ac98c030af0cd"
      }
     },
     "metadata": {},
     "output_type": "display_data"
    },
    {
     "name": "stdout",
     "output_type": "stream",
     "text": [
      "ds_size: 35132/80000\n",
      "I have a total of 2220 games with reviews. We take 4 reviews per game.\n"
     ]
    },
    {
     "data": {
      "text/plain": [
       "Pandas Apply:   0%|          | 0/8880 [00:00<?, ?it/s]"
      ],
      "application/vnd.jupyter.widget-view+json": {
       "version_major": 2,
       "version_minor": 0,
       "model_id": "c64cde0c3e91438ab0db572f815ff136"
      }
     },
     "metadata": {},
     "output_type": "display_data"
    },
    {
     "name": "stdout",
     "output_type": "stream",
     "text": [
      "ds_size: 40991/80000\n",
      "I have a total of 2220 games with reviews. We take 4 reviews per game.\n"
     ]
    },
    {
     "data": {
      "text/plain": [
       "Pandas Apply:   0%|          | 0/8880 [00:00<?, ?it/s]"
      ],
      "application/vnd.jupyter.widget-view+json": {
       "version_major": 2,
       "version_minor": 0,
       "model_id": "5bc5331d1bdf4643a065dee50bb17112"
      }
     },
     "metadata": {},
     "output_type": "display_data"
    },
    {
     "name": "stdout",
     "output_type": "stream",
     "text": [
      "ds_size: 46736/80000\n",
      "I have a total of 2220 games with reviews. We take 4 reviews per game.\n"
     ]
    },
    {
     "data": {
      "text/plain": [
       "Pandas Apply:   0%|          | 0/8880 [00:00<?, ?it/s]"
      ],
      "application/vnd.jupyter.widget-view+json": {
       "version_major": 2,
       "version_minor": 0,
       "model_id": "e890b25ef9d3404b8be021d4a18c85c0"
      }
     },
     "metadata": {},
     "output_type": "display_data"
    },
    {
     "name": "stdout",
     "output_type": "stream",
     "text": [
      "ds_size: 52470/80000\n",
      "I have a total of 2220 games with reviews. We take 4 reviews per game.\n"
     ]
    },
    {
     "data": {
      "text/plain": [
       "Pandas Apply:   0%|          | 0/8880 [00:00<?, ?it/s]"
      ],
      "application/vnd.jupyter.widget-view+json": {
       "version_major": 2,
       "version_minor": 0,
       "model_id": "20b68602b40d469a86924896deea1bf3"
      }
     },
     "metadata": {},
     "output_type": "display_data"
    },
    {
     "name": "stdout",
     "output_type": "stream",
     "text": [
      "ds_size: 58123/80000\n",
      "I have a total of 2220 games with reviews. We take 4 reviews per game.\n"
     ]
    },
    {
     "data": {
      "text/plain": [
       "Pandas Apply:   0%|          | 0/8880 [00:00<?, ?it/s]"
      ],
      "application/vnd.jupyter.widget-view+json": {
       "version_major": 2,
       "version_minor": 0,
       "model_id": "89761b09cb4c480480a96bb0928698d6"
      }
     },
     "metadata": {},
     "output_type": "display_data"
    },
    {
     "name": "stdout",
     "output_type": "stream",
     "text": [
      "ds_size: 63860/80000\n",
      "I have a total of 2220 games with reviews. We take 4 reviews per game.\n"
     ]
    },
    {
     "data": {
      "text/plain": [
       "Pandas Apply:   0%|          | 0/8880 [00:00<?, ?it/s]"
      ],
      "application/vnd.jupyter.widget-view+json": {
       "version_major": 2,
       "version_minor": 0,
       "model_id": "973c11cbe6c44d4b9755327c0ac57268"
      }
     },
     "metadata": {},
     "output_type": "display_data"
    },
    {
     "name": "stdout",
     "output_type": "stream",
     "text": [
      "ds_size: 69539/80000\n",
      "I have a total of 2220 games with reviews. We take 4 reviews per game.\n"
     ]
    },
    {
     "data": {
      "text/plain": [
       "Pandas Apply:   0%|          | 0/8880 [00:00<?, ?it/s]"
      ],
      "application/vnd.jupyter.widget-view+json": {
       "version_major": 2,
       "version_minor": 0,
       "model_id": "b79d91f5ca3346dd84ec6259eb8e95b4"
      }
     },
     "metadata": {},
     "output_type": "display_data"
    },
    {
     "name": "stdout",
     "output_type": "stream",
     "text": [
      "ds_size: 75238/80000\n",
      "I have a total of 2220 games with reviews. We take 4 reviews per game.\n"
     ]
    },
    {
     "data": {
      "text/plain": [
       "Pandas Apply:   0%|          | 0/8880 [00:00<?, ?it/s]"
      ],
      "application/vnd.jupyter.widget-view+json": {
       "version_major": 2,
       "version_minor": 0,
       "model_id": "836218deeba84b929849d8c8a5408bb1"
      }
     },
     "metadata": {},
     "output_type": "display_data"
    },
    {
     "name": "stdout",
     "output_type": "stream",
     "text": [
      "ds_size: 80920/80000\n",
      "Processing terminated. We are storing the work ready file now...\n",
      "Test subset created with success as ./output/default/pre_processed.80k.test.csv\n",
      "File created with success as ./output/default/pre_processed.80k.csv\n"
     ]
    }
   ],
   "execution_count": 6
  },
  {
   "metadata": {},
   "cell_type": "markdown",
   "source": "### POS-tagged",
   "id": "43945a849575141f"
  },
  {
   "metadata": {
    "ExecuteTime": {
     "end_time": "2025-03-22T09:06:03.680633Z",
     "start_time": "2025-03-22T08:53:16.964933Z"
    }
   },
   "cell_type": "code",
   "source": [
    "pos_tag_ps = PreProcessingServiceFactory.pos_tagged(game_names, \"./output/pos_tagged\", test_fraction)\n",
    "process(ps, sizes, random_seed, corpus_file)"
   ],
   "id": "20664c8204cd63da",
   "outputs": [
    {
     "name": "stdout",
     "output_type": "stream",
     "text": [
      "I have a total of 2220 games with reviews. We take 4 reviews per game.\n"
     ]
    },
    {
     "data": {
      "text/plain": [
       "Pandas Apply:   0%|          | 0/8880 [00:00<?, ?it/s]"
      ],
      "application/vnd.jupyter.widget-view+json": {
       "version_major": 2,
       "version_minor": 0,
       "model_id": "a280228056ed4815a862bafcb3ef7751"
      }
     },
     "metadata": {},
     "output_type": "display_data"
    },
    {
     "name": "stdout",
     "output_type": "stream",
     "text": [
      "ds_size: 5912/80000\n",
      "I have a total of 2220 games with reviews. We take 4 reviews per game.\n"
     ]
    },
    {
     "data": {
      "text/plain": [
       "Pandas Apply:   0%|          | 0/8880 [00:00<?, ?it/s]"
      ],
      "application/vnd.jupyter.widget-view+json": {
       "version_major": 2,
       "version_minor": 0,
       "model_id": "a62b07df33914b87b48954157d6aa0c8"
      }
     },
     "metadata": {},
     "output_type": "display_data"
    },
    {
     "name": "stdout",
     "output_type": "stream",
     "text": [
      "ds_size: 11787/80000\n",
      "I have a total of 2220 games with reviews. We take 4 reviews per game.\n"
     ]
    },
    {
     "data": {
      "text/plain": [
       "Pandas Apply:   0%|          | 0/8880 [00:00<?, ?it/s]"
      ],
      "application/vnd.jupyter.widget-view+json": {
       "version_major": 2,
       "version_minor": 0,
       "model_id": "9b71bf7f800b4702b697346ea3649b07"
      }
     },
     "metadata": {},
     "output_type": "display_data"
    },
    {
     "name": "stdout",
     "output_type": "stream",
     "text": [
      "ds_size: 17654/80000\n",
      "I have a total of 2220 games with reviews. We take 4 reviews per game.\n"
     ]
    },
    {
     "data": {
      "text/plain": [
       "Pandas Apply:   0%|          | 0/8880 [00:00<?, ?it/s]"
      ],
      "application/vnd.jupyter.widget-view+json": {
       "version_major": 2,
       "version_minor": 0,
       "model_id": "c7badf34b6f34bb1b1963e50269ba547"
      }
     },
     "metadata": {},
     "output_type": "display_data"
    },
    {
     "name": "stdout",
     "output_type": "stream",
     "text": [
      "ds_size: 23483/80000\n",
      "I have a total of 2220 games with reviews. We take 4 reviews per game.\n"
     ]
    },
    {
     "data": {
      "text/plain": [
       "Pandas Apply:   0%|          | 0/8880 [00:00<?, ?it/s]"
      ],
      "application/vnd.jupyter.widget-view+json": {
       "version_major": 2,
       "version_minor": 0,
       "model_id": "f248b915efcc4de6aa18844257d9a001"
      }
     },
     "metadata": {},
     "output_type": "display_data"
    },
    {
     "name": "stdout",
     "output_type": "stream",
     "text": [
      "ds_size: 29281/80000\n",
      "I have a total of 2220 games with reviews. We take 4 reviews per game.\n"
     ]
    },
    {
     "data": {
      "text/plain": [
       "Pandas Apply:   0%|          | 0/8880 [00:00<?, ?it/s]"
      ],
      "application/vnd.jupyter.widget-view+json": {
       "version_major": 2,
       "version_minor": 0,
       "model_id": "9e506b76ca894ea3a8e2084841ba0628"
      }
     },
     "metadata": {},
     "output_type": "display_data"
    },
    {
     "name": "stdout",
     "output_type": "stream",
     "text": [
      "ds_size: 35132/80000\n",
      "I have a total of 2220 games with reviews. We take 4 reviews per game.\n"
     ]
    },
    {
     "data": {
      "text/plain": [
       "Pandas Apply:   0%|          | 0/8880 [00:00<?, ?it/s]"
      ],
      "application/vnd.jupyter.widget-view+json": {
       "version_major": 2,
       "version_minor": 0,
       "model_id": "23db2221252f456382ea3d994e607d0a"
      }
     },
     "metadata": {},
     "output_type": "display_data"
    },
    {
     "name": "stdout",
     "output_type": "stream",
     "text": [
      "ds_size: 40991/80000\n",
      "I have a total of 2220 games with reviews. We take 4 reviews per game.\n"
     ]
    },
    {
     "data": {
      "text/plain": [
       "Pandas Apply:   0%|          | 0/8880 [00:00<?, ?it/s]"
      ],
      "application/vnd.jupyter.widget-view+json": {
       "version_major": 2,
       "version_minor": 0,
       "model_id": "66f84a02771646c6958310677b939242"
      }
     },
     "metadata": {},
     "output_type": "display_data"
    },
    {
     "name": "stdout",
     "output_type": "stream",
     "text": [
      "ds_size: 46736/80000\n",
      "I have a total of 2220 games with reviews. We take 4 reviews per game.\n"
     ]
    },
    {
     "data": {
      "text/plain": [
       "Pandas Apply:   0%|          | 0/8880 [00:00<?, ?it/s]"
      ],
      "application/vnd.jupyter.widget-view+json": {
       "version_major": 2,
       "version_minor": 0,
       "model_id": "7a5ef4a24db044b29a65145bc7118a1a"
      }
     },
     "metadata": {},
     "output_type": "display_data"
    },
    {
     "name": "stdout",
     "output_type": "stream",
     "text": [
      "ds_size: 52470/80000\n",
      "I have a total of 2220 games with reviews. We take 4 reviews per game.\n"
     ]
    },
    {
     "data": {
      "text/plain": [
       "Pandas Apply:   0%|          | 0/8880 [00:00<?, ?it/s]"
      ],
      "application/vnd.jupyter.widget-view+json": {
       "version_major": 2,
       "version_minor": 0,
       "model_id": "05238c0657824dc9a5001d751ca3f7ed"
      }
     },
     "metadata": {},
     "output_type": "display_data"
    },
    {
     "name": "stdout",
     "output_type": "stream",
     "text": [
      "ds_size: 58123/80000\n",
      "I have a total of 2220 games with reviews. We take 4 reviews per game.\n"
     ]
    },
    {
     "data": {
      "text/plain": [
       "Pandas Apply:   0%|          | 0/8880 [00:00<?, ?it/s]"
      ],
      "application/vnd.jupyter.widget-view+json": {
       "version_major": 2,
       "version_minor": 0,
       "model_id": "848835f422aa4b0b82b613dc385c261b"
      }
     },
     "metadata": {},
     "output_type": "display_data"
    },
    {
     "name": "stdout",
     "output_type": "stream",
     "text": [
      "ds_size: 63860/80000\n",
      "I have a total of 2220 games with reviews. We take 4 reviews per game.\n"
     ]
    },
    {
     "data": {
      "text/plain": [
       "Pandas Apply:   0%|          | 0/8880 [00:00<?, ?it/s]"
      ],
      "application/vnd.jupyter.widget-view+json": {
       "version_major": 2,
       "version_minor": 0,
       "model_id": "7d860273eedd467e9be3c7214aebd863"
      }
     },
     "metadata": {},
     "output_type": "display_data"
    },
    {
     "name": "stdout",
     "output_type": "stream",
     "text": [
      "ds_size: 69539/80000\n",
      "I have a total of 2220 games with reviews. We take 4 reviews per game.\n"
     ]
    },
    {
     "data": {
      "text/plain": [
       "Pandas Apply:   0%|          | 0/8880 [00:00<?, ?it/s]"
      ],
      "application/vnd.jupyter.widget-view+json": {
       "version_major": 2,
       "version_minor": 0,
       "model_id": "39737b3a01ed4aefb0e1902416a24863"
      }
     },
     "metadata": {},
     "output_type": "display_data"
    },
    {
     "name": "stdout",
     "output_type": "stream",
     "text": [
      "ds_size: 75238/80000\n",
      "I have a total of 2220 games with reviews. We take 4 reviews per game.\n"
     ]
    },
    {
     "data": {
      "text/plain": [
       "Pandas Apply:   0%|          | 0/8880 [00:00<?, ?it/s]"
      ],
      "application/vnd.jupyter.widget-view+json": {
       "version_major": 2,
       "version_minor": 0,
       "model_id": "d9e9f4470820458eb0a654934b6f00da"
      }
     },
     "metadata": {},
     "output_type": "display_data"
    },
    {
     "name": "stdout",
     "output_type": "stream",
     "text": [
      "ds_size: 80920/80000\n",
      "Processing terminated. We are storing the work ready file now...\n",
      "Test subset created with success as ./output/default/pre_processed.80k.test.csv\n",
      "File created with success as ./output/default/pre_processed.80k.csv\n"
     ]
    }
   ],
   "execution_count": 7
  },
  {
   "metadata": {},
   "cell_type": "markdown",
   "source": "Now a POS tagged variant on sentences",
   "id": "5404af77609b190a"
  },
  {
   "metadata": {
    "ExecuteTime": {
     "end_time": "2025-03-22T09:18:41.178458Z",
     "start_time": "2025-03-22T09:06:03.703451Z"
    }
   },
   "cell_type": "code",
   "source": [
    "out_path = \"./output/pos_tagged_sentence_level\"\n",
    "pos_tag_sentence_ps = PreProcessingServiceFactory.pos_tagged_sentence_level(game_names, out_path, test_fraction)\n",
    "process(ps, sizes, random_seed, corpus_file)"
   ],
   "id": "3835018b0d0d226d",
   "outputs": [
    {
     "name": "stdout",
     "output_type": "stream",
     "text": [
      "I have a total of 2220 games with reviews. We take 4 reviews per game.\n"
     ]
    },
    {
     "data": {
      "text/plain": [
       "Pandas Apply:   0%|          | 0/8880 [00:00<?, ?it/s]"
      ],
      "application/vnd.jupyter.widget-view+json": {
       "version_major": 2,
       "version_minor": 0,
       "model_id": "a19a6a0cc0b148f68db4034b7c93761b"
      }
     },
     "metadata": {},
     "output_type": "display_data"
    },
    {
     "name": "stdout",
     "output_type": "stream",
     "text": [
      "ds_size: 5912/80000\n",
      "I have a total of 2220 games with reviews. We take 4 reviews per game.\n"
     ]
    },
    {
     "data": {
      "text/plain": [
       "Pandas Apply:   0%|          | 0/8880 [00:00<?, ?it/s]"
      ],
      "application/vnd.jupyter.widget-view+json": {
       "version_major": 2,
       "version_minor": 0,
       "model_id": "2c4e4c9486034d8884a9d0f1256014dd"
      }
     },
     "metadata": {},
     "output_type": "display_data"
    },
    {
     "name": "stdout",
     "output_type": "stream",
     "text": [
      "ds_size: 11787/80000\n",
      "I have a total of 2220 games with reviews. We take 4 reviews per game.\n"
     ]
    },
    {
     "data": {
      "text/plain": [
       "Pandas Apply:   0%|          | 0/8880 [00:00<?, ?it/s]"
      ],
      "application/vnd.jupyter.widget-view+json": {
       "version_major": 2,
       "version_minor": 0,
       "model_id": "d140357cdba747b4ba7099c709ce6afa"
      }
     },
     "metadata": {},
     "output_type": "display_data"
    },
    {
     "name": "stdout",
     "output_type": "stream",
     "text": [
      "ds_size: 17654/80000\n",
      "I have a total of 2220 games with reviews. We take 4 reviews per game.\n"
     ]
    },
    {
     "data": {
      "text/plain": [
       "Pandas Apply:   0%|          | 0/8880 [00:00<?, ?it/s]"
      ],
      "application/vnd.jupyter.widget-view+json": {
       "version_major": 2,
       "version_minor": 0,
       "model_id": "38c4557ff4d8493fa0b9eb5d970ef764"
      }
     },
     "metadata": {},
     "output_type": "display_data"
    },
    {
     "name": "stdout",
     "output_type": "stream",
     "text": [
      "ds_size: 23483/80000\n",
      "I have a total of 2220 games with reviews. We take 4 reviews per game.\n"
     ]
    },
    {
     "data": {
      "text/plain": [
       "Pandas Apply:   0%|          | 0/8880 [00:00<?, ?it/s]"
      ],
      "application/vnd.jupyter.widget-view+json": {
       "version_major": 2,
       "version_minor": 0,
       "model_id": "758a721eda49493a9145f8f498a1152e"
      }
     },
     "metadata": {},
     "output_type": "display_data"
    },
    {
     "name": "stdout",
     "output_type": "stream",
     "text": [
      "ds_size: 29281/80000\n",
      "I have a total of 2220 games with reviews. We take 4 reviews per game.\n"
     ]
    },
    {
     "data": {
      "text/plain": [
       "Pandas Apply:   0%|          | 0/8880 [00:00<?, ?it/s]"
      ],
      "application/vnd.jupyter.widget-view+json": {
       "version_major": 2,
       "version_minor": 0,
       "model_id": "a8838fd5eaa349a096c794d46be64998"
      }
     },
     "metadata": {},
     "output_type": "display_data"
    },
    {
     "name": "stdout",
     "output_type": "stream",
     "text": [
      "ds_size: 35132/80000\n",
      "I have a total of 2220 games with reviews. We take 4 reviews per game.\n"
     ]
    },
    {
     "data": {
      "text/plain": [
       "Pandas Apply:   0%|          | 0/8880 [00:00<?, ?it/s]"
      ],
      "application/vnd.jupyter.widget-view+json": {
       "version_major": 2,
       "version_minor": 0,
       "model_id": "d17ea37999604e1685a1496dab66d35f"
      }
     },
     "metadata": {},
     "output_type": "display_data"
    },
    {
     "name": "stdout",
     "output_type": "stream",
     "text": [
      "ds_size: 40991/80000\n",
      "I have a total of 2220 games with reviews. We take 4 reviews per game.\n"
     ]
    },
    {
     "data": {
      "text/plain": [
       "Pandas Apply:   0%|          | 0/8880 [00:00<?, ?it/s]"
      ],
      "application/vnd.jupyter.widget-view+json": {
       "version_major": 2,
       "version_minor": 0,
       "model_id": "fe8c583165a742358bb95312d232f391"
      }
     },
     "metadata": {},
     "output_type": "display_data"
    },
    {
     "name": "stdout",
     "output_type": "stream",
     "text": [
      "ds_size: 46736/80000\n",
      "I have a total of 2220 games with reviews. We take 4 reviews per game.\n"
     ]
    },
    {
     "data": {
      "text/plain": [
       "Pandas Apply:   0%|          | 0/8880 [00:00<?, ?it/s]"
      ],
      "application/vnd.jupyter.widget-view+json": {
       "version_major": 2,
       "version_minor": 0,
       "model_id": "825dd51a43bd46029e6d341c7165bd86"
      }
     },
     "metadata": {},
     "output_type": "display_data"
    },
    {
     "name": "stdout",
     "output_type": "stream",
     "text": [
      "ds_size: 52470/80000\n",
      "I have a total of 2220 games with reviews. We take 4 reviews per game.\n"
     ]
    },
    {
     "data": {
      "text/plain": [
       "Pandas Apply:   0%|          | 0/8880 [00:00<?, ?it/s]"
      ],
      "application/vnd.jupyter.widget-view+json": {
       "version_major": 2,
       "version_minor": 0,
       "model_id": "dd42cab4f2d3496c9f4c1a1f7628e614"
      }
     },
     "metadata": {},
     "output_type": "display_data"
    },
    {
     "name": "stdout",
     "output_type": "stream",
     "text": [
      "ds_size: 58123/80000\n",
      "I have a total of 2220 games with reviews. We take 4 reviews per game.\n"
     ]
    },
    {
     "data": {
      "text/plain": [
       "Pandas Apply:   0%|          | 0/8880 [00:00<?, ?it/s]"
      ],
      "application/vnd.jupyter.widget-view+json": {
       "version_major": 2,
       "version_minor": 0,
       "model_id": "b27c1a88af6a4b78a6354f49b0331a1f"
      }
     },
     "metadata": {},
     "output_type": "display_data"
    },
    {
     "name": "stdout",
     "output_type": "stream",
     "text": [
      "ds_size: 63860/80000\n",
      "I have a total of 2220 games with reviews. We take 4 reviews per game.\n"
     ]
    },
    {
     "data": {
      "text/plain": [
       "Pandas Apply:   0%|          | 0/8880 [00:00<?, ?it/s]"
      ],
      "application/vnd.jupyter.widget-view+json": {
       "version_major": 2,
       "version_minor": 0,
       "model_id": "cf084d9d87fa457ab016582caa950964"
      }
     },
     "metadata": {},
     "output_type": "display_data"
    },
    {
     "name": "stdout",
     "output_type": "stream",
     "text": [
      "ds_size: 69539/80000\n",
      "I have a total of 2220 games with reviews. We take 4 reviews per game.\n"
     ]
    },
    {
     "data": {
      "text/plain": [
       "Pandas Apply:   0%|          | 0/8880 [00:00<?, ?it/s]"
      ],
      "application/vnd.jupyter.widget-view+json": {
       "version_major": 2,
       "version_minor": 0,
       "model_id": "0291dda0beeb402ebe835ad35df06c3f"
      }
     },
     "metadata": {},
     "output_type": "display_data"
    },
    {
     "name": "stdout",
     "output_type": "stream",
     "text": [
      "ds_size: 75238/80000\n",
      "I have a total of 2220 games with reviews. We take 4 reviews per game.\n"
     ]
    },
    {
     "data": {
      "text/plain": [
       "Pandas Apply:   0%|          | 0/8880 [00:00<?, ?it/s]"
      ],
      "application/vnd.jupyter.widget-view+json": {
       "version_major": 2,
       "version_minor": 0,
       "model_id": "eead0c9b659249a3848100311a60f487"
      }
     },
     "metadata": {},
     "output_type": "display_data"
    },
    {
     "name": "stdout",
     "output_type": "stream",
     "text": [
      "ds_size: 80920/80000\n",
      "Processing terminated. We are storing the work ready file now...\n",
      "Test subset created with success as ./output/default/pre_processed.80k.test.csv\n",
      "File created with success as ./output/default/pre_processed.80k.csv\n"
     ]
    }
   ],
   "execution_count": 8
  }
 ],
 "metadata": {
  "kernelspec": {
   "display_name": "Python 3",
   "language": "python",
   "name": "python3"
  },
  "language_info": {
   "codemirror_mode": {
    "name": "ipython",
    "version": 2
   },
   "file_extension": ".py",
   "mimetype": "text/x-python",
   "name": "python",
   "nbconvert_exporter": "python",
   "pygments_lexer": "ipython2",
   "version": "2.7.6"
  }
 },
 "nbformat": 4,
 "nbformat_minor": 5
}

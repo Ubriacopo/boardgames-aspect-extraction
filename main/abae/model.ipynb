{
 "cells": [
  {
   "cell_type": "code",
   "execution_count": null,
   "id": "initial_id",
   "metadata": {
    "collapsed": true
   },
   "outputs": [],
   "source": [
    "# We will still do ABAE. I made wrong assumptions. I need a test set -> Coherence cant be my only reference metric\n",
    "# As seen by the training of the Restaurant ds -> Coherence is degraded for better reconstruction."
   ]
  },
  {
   "metadata": {},
   "cell_type": "markdown",
   "source": "## Hands on: First attempt",
   "id": "5b4c80db434e5d1"
  },
  {
   "metadata": {},
   "cell_type": "code",
   "outputs": [],
   "execution_count": null,
   "source": "",
   "id": "21f7fd86367949d3"
  }
 ],
 "metadata": {
  "kernelspec": {
   "display_name": "Python 3",
   "language": "python",
   "name": "python3"
  },
  "language_info": {
   "codemirror_mode": {
    "name": "ipython",
    "version": 2
   },
   "file_extension": ".py",
   "mimetype": "text/x-python",
   "name": "python",
   "nbconvert_exporter": "python",
   "pygments_lexer": "ipython2",
   "version": "2.7.6"
  }
 },
 "nbformat": 4,
 "nbformat_minor": 5
}

{
 "cells": [
  {
   "metadata": {
    "ExecuteTime": {
     "end_time": "2025-03-19T17:23:38.178778Z",
     "start_time": "2025-03-19T17:23:27.704654Z"
    }
   },
   "cell_type": "code",
   "source": [
    "from pprint import pprint\n",
    "# Required imports.\n",
    "from main.abae.config import ABAEManagerConfig\n",
    "from main.abae.model_manager import ABAEManager"
   ],
   "id": "92a992781ca00086",
   "outputs": [],
   "execution_count": 2
  },
  {
   "metadata": {},
   "cell_type": "markdown",
   "source": "In case we want to avoid the long gibberish by gensim on Word2Vec or other stuff:",
   "id": "9670a5d3901d7f7d"
  },
  {
   "metadata": {
    "ExecuteTime": {
     "end_time": "2025-03-19T17:23:47.246694Z",
     "start_time": "2025-03-19T17:23:47.242451Z"
    }
   },
   "cell_type": "code",
   "source": [
    "import logging\n",
    "\n",
    "logging.disable()\n",
    "logging.disable(logging.DEBUG)\n",
    "logging.disable(logging.INFO)"
   ],
   "id": "2f908b9c3058b5c9",
   "outputs": [],
   "execution_count": 3
  },
  {
   "metadata": {},
   "cell_type": "markdown",
   "source": "Let's make a first attempt on the various pre-processing pipelines:",
   "id": "510c606905805814"
  },
  {
   "metadata": {},
   "cell_type": "markdown",
   "source": [
    "### Full-reviews\n",
    "Try to run the procedure on the default implementation of the pipeline. Default as it was thought to be a simple version for ABAE specifically."
   ],
   "id": "f13e2df2d7eeb181"
  },
  {
   "metadata": {},
   "cell_type": "markdown",
   "source": [
    "## Preprocessing\n",
    "Unlike LDA we should not toy too much with the sentence structure as ABAE uses word embeddings and needs the sequence information to weight the terms based on the surrounding context. One question remains:\n",
    "\n",
    "**Should we work on sentence level or full reviews? Let's try a first simple comparison**"
   ],
   "id": "46ac0985d60cd3fa"
  },
  {
   "metadata": {
    "ExecuteTime": {
     "end_time": "2025-03-19T17:53:40.454356Z",
     "start_time": "2025-03-19T17:24:06.191943Z"
    }
   },
   "cell_type": "code",
   "source": [
    "corpus_path = \"../dataset/output/default/pre_processed.80k.csv\"\n",
    "test_corpus_path = \"../dataset/output/default/pre_processed.80k.test.csv\"\n",
    "\n",
    "manager = ABAEManager.from_scratch(ABAEManagerConfig('default'), corpus_path, override=True)\n",
    "manager.train(corpus_path, verbose=2)\n",
    "res = manager.evaluate([20, 10, 5, 3], test_corpus=test_corpus_path)"
   ],
   "id": "b64f39e26675094",
   "outputs": [
    {
     "data": {
      "text/plain": [
       "Pandas Apply:   0%|          | 0/60640 [00:00<?, ?it/s]"
      ],
      "application/vnd.jupyter.widget-view+json": {
       "version_major": 2,
       "version_minor": 0,
       "model_id": "1533a8dc690449958593234964a7048f"
      }
     },
     "metadata": {},
     "output_type": "display_data"
    },
    {
     "name": "stderr",
     "output_type": "stream",
     "text": [
      "D:\\PycharmProjects\\nlp-course-project\\.venv\\Lib\\site-packages\\gensim\\models\\keyedvectors.py:551: UserWarning: Adding single vectors to a KeyedVectors which grows by one each time can be costly. Consider adding in batches or preallocating to the required size.\n",
      "  warnings.warn(\n",
      "WARNING:gensim.models.keyedvectors:sorting after vectors have been allocated is expensive & error-prone\n",
      "D:\\PycharmProjects\\nlp-course-project\\.venv\\Lib\\site-packages\\joblib\\externals\\loky\\backend\\context.py:136: UserWarning: Could not find the number of physical cores for the following reason:\n",
      "[WinError 2] Das System kann die angegebene Datei nicht finden\n",
      "Returning the number of logical cores instead. You can silence this warning by setting LOKY_MAX_CPU_COUNT to the number of cores you want to use.\n",
      "  warnings.warn(\n",
      "  File \"D:\\PycharmProjects\\nlp-course-project\\.venv\\Lib\\site-packages\\joblib\\externals\\loky\\backend\\context.py\", line 257, in _count_physical_cores\n",
      "    cpu_info = subprocess.run(\n",
      "               ^^^^^^^^^^^^^^^\n",
      "  File \"C:\\Users\\jacop\\AppData\\Local\\Programs\\Python\\Python312\\Lib\\subprocess.py\", line 548, in run\n",
      "    with Popen(*popenargs, **kwargs) as process:\n",
      "         ^^^^^^^^^^^^^^^^^^^^^^^^^^^\n",
      "  File \"C:\\Users\\jacop\\AppData\\Local\\Programs\\Python\\Python312\\Lib\\subprocess.py\", line 1026, in __init__\n",
      "    self._execute_child(args, executable, preexec_fn, close_fds,\n",
      "  File \"C:\\Users\\jacop\\AppData\\Local\\Programs\\Python\\Python312\\Lib\\subprocess.py\", line 1538, in _execute_child\n",
      "    hp, ht, pid, tid = _winapi.CreateProcess(executable, args,\n",
      "                       ^^^^^^^^^^^^^^^^^^^^^^^^^^^^^^^^^^^^^^^\n"
     ]
    },
    {
     "name": "stdout",
     "output_type": "stream",
     "text": [
      "Creating new Aspect embedding model\n",
      "\n",
      "Generating numeric representation for each word of ds.\n"
     ]
    },
    {
     "data": {
      "text/plain": [
       "Pandas Apply:   0%|          | 0/60640 [00:00<?, ?it/s]"
      ],
      "application/vnd.jupyter.widget-view+json": {
       "version_major": 2,
       "version_minor": 0,
       "model_id": "94673d458b994b79aef07ce0f6c2a983"
      }
     },
     "metadata": {},
     "output_type": "display_data"
    },
    {
     "name": "stdout",
     "output_type": "stream",
     "text": [
      "Max sequence length calculation in progress...\n",
      "We loose information on 1340(2.2097625329815305% of ds).\n",
      "Generating a new compiled model from scratch\n",
      "Training is starting:\n",
      "Epoch 1/15\n",
      "474/474 - 102s - 216ms/step - loss: 7.8150 - max_margin_loss: 7.8109\n",
      "Epoch 2/15\n",
      "474/474 - 108s - 228ms/step - loss: 4.8807 - max_margin_loss: 4.8796\n",
      "Epoch 3/15\n",
      "474/474 - 105s - 222ms/step - loss: 4.7211 - max_margin_loss: 4.7201\n",
      "Epoch 4/15\n",
      "474/474 - 107s - 227ms/step - loss: 4.6786 - max_margin_loss: 4.6774\n",
      "Epoch 5/15\n",
      "474/474 - 124s - 263ms/step - loss: 4.6447 - max_margin_loss: 4.6437\n",
      "Epoch 6/15\n",
      "474/474 - 115s - 243ms/step - loss: 4.6210 - max_margin_loss: 4.6200\n",
      "Epoch 7/15\n",
      "474/474 - 115s - 243ms/step - loss: 4.5963 - max_margin_loss: 4.5954\n",
      "Epoch 8/15\n",
      "474/474 - 114s - 240ms/step - loss: 4.5832 - max_margin_loss: 4.5822\n",
      "Epoch 9/15\n",
      "474/474 - 114s - 241ms/step - loss: 4.5660 - max_margin_loss: 4.5648\n",
      "Epoch 10/15\n",
      "474/474 - 115s - 242ms/step - loss: 4.5639 - max_margin_loss: 4.5628\n",
      "Epoch 11/15\n",
      "474/474 - 114s - 241ms/step - loss: 4.5481 - max_margin_loss: 4.5472\n",
      "Epoch 12/15\n",
      "474/474 - 115s - 242ms/step - loss: 4.5413 - max_margin_loss: 4.5404\n",
      "Epoch 13/15\n",
      "474/474 - 114s - 241ms/step - loss: 4.5406 - max_margin_loss: 4.5395\n",
      "Epoch 14/15\n",
      "474/474 - 115s - 243ms/step - loss: 4.5313 - max_margin_loss: 4.5301\n",
      "Epoch 15/15\n",
      "474/474 - 115s - 243ms/step - loss: 4.5262 - max_margin_loss: 4.5254\n",
      "Generating numeric representation for each word of ds.\n"
     ]
    },
    {
     "data": {
      "text/plain": [
       "Pandas Apply:   0%|          | 0/20213 [00:00<?, ?it/s]"
      ],
      "application/vnd.jupyter.widget-view+json": {
       "version_major": 2,
       "version_minor": 0,
       "model_id": "7242335dc6cf491fa6faa541384e186e"
      }
     },
     "metadata": {},
     "output_type": "display_data"
    },
    {
     "name": "stdout",
     "output_type": "stream",
     "text": [
      "Max sequence length calculation in progress...\n",
      "We loose information on 464(2.295552367288379% of ds).\n",
      "\u001B[1m158/158\u001B[0m \u001B[32m━━━━━━━━━━━━━━━━━━━━\u001B[0m\u001B[37m\u001B[0m \u001B[1m20s\u001B[0m 127ms/step - loss: 4.5561 - max_margin_loss: 4.5550\n",
      "Generating numeric representation for each word of ds.\n"
     ]
    },
    {
     "data": {
      "text/plain": [
       "Pandas Apply:   0%|          | 0/20213 [00:00<?, ?it/s]"
      ],
      "application/vnd.jupyter.widget-view+json": {
       "version_major": 2,
       "version_minor": 0,
       "model_id": "b1f0de14f6524518ae3126de2730d17b"
      }
     },
     "metadata": {},
     "output_type": "display_data"
    },
    {
     "name": "stdout",
     "output_type": "stream",
     "text": [
      "Max sequence length calculation in progress...\n",
      "We loose information on 464(2.295552367288379% of ds).\n",
      "\u001B[1m40/40\u001B[0m \u001B[32m━━━━━━━━━━━━━━━━━━━━\u001B[0m\u001B[37m\u001B[0m \u001B[1m0s\u001B[0m 12ms/step\n"
     ]
    },
    {
     "data": {
      "text/plain": [
       "Pandas Apply:   0%|          | 0/20213 [00:00<?, ?it/s]"
      ],
      "application/vnd.jupyter.widget-view+json": {
       "version_major": 2,
       "version_minor": 0,
       "model_id": "5d9310de4043408db2029188461b57eb"
      }
     },
     "metadata": {},
     "output_type": "display_data"
    },
    {
     "data": {
      "text/plain": [
       "Pandas Apply:   0%|          | 0/20213 [00:00<?, ?it/s]"
      ],
      "application/vnd.jupyter.widget-view+json": {
       "version_major": 2,
       "version_minor": 0,
       "model_id": "d37a84f4a79f483faa18ad2999ae3529"
      }
     },
     "metadata": {},
     "output_type": "display_data"
    },
    {
     "data": {
      "text/plain": [
       "Pandas Apply:   0%|          | 0/20213 [00:00<?, ?it/s]"
      ],
      "application/vnd.jupyter.widget-view+json": {
       "version_major": 2,
       "version_minor": 0,
       "model_id": "9e59b50c10624524964f072b308c3b09"
      }
     },
     "metadata": {},
     "output_type": "display_data"
    },
    {
     "name": "stdout",
     "output_type": "stream",
     "text": [
      "{'coherence': [-9.314158083564223, -7.227275543083238, -6.677170463293241],\n",
      " 'loss': [4.543952941894531, 4.543019771575928],\n",
      " 'silhouette_score': 0.0912192165851593,\n",
      " 'top': [25, 10, 3]}\n"
     ]
    }
   ],
   "execution_count": 4
  },
  {
   "metadata": {
    "ExecuteTime": {
     "end_time": "2025-03-19T18:04:05.176337Z",
     "start_time": "2025-03-19T18:04:05.172826Z"
    }
   },
   "cell_type": "code",
   "source": "pprint(res)",
   "id": "63d998f3720bc703",
   "outputs": [
    {
     "name": "stdout",
     "output_type": "stream",
     "text": [
      "{'coherence': [-9.314158083564223, -7.227275543083238, -6.677170463293241],\n",
      " 'loss': [4.543952941894531, 4.543019771575928],\n",
      " 'silhouette_score': 0.0912192165851593,\n",
      " 'top': [25, 10, 3]}\n"
     ]
    }
   ],
   "execution_count": 7
  },
  {
   "metadata": {
    "ExecuteTime": {
     "end_time": "2025-03-19T18:04:06.907458Z",
     "start_time": "2025-03-19T18:04:06.708771Z"
    }
   },
   "cell_type": "code",
   "source": [
    "processor = manager.make_ev_processor(test_corpus_path)\n",
    "aspects = processor.get_aspects(15)\n",
    "aspects"
   ],
   "id": "63fd69c029c588ec",
   "outputs": [
    {
     "data": {
      "text/plain": [
       "[[('review', tensor(0.4236, device='cuda:0', grad_fn=<SelectBackward0>)),\n",
       "  ('series', tensor(0.3879, device='cuda:0', grad_fn=<SelectBackward0>)),\n",
       "  ('star', tensor(0.3625, device='cuda:0', grad_fn=<SelectBackward0>)),\n",
       "  ('rating', tensor(0.3402, device='cuda:0', grad_fn=<SelectBackward0>)),\n",
       "  ('entry', tensor(0.3160, device='cuda:0', grad_fn=<SelectBackward0>)),\n",
       "  ('designer', tensor(0.3057, device='cuda:0', grad_fn=<SelectBackward0>)),\n",
       "  ('write', tensor(0.2936, device='cuda:0', grad_fn=<SelectBackward0>)),\n",
       "  ('movie', tensor(0.2866, device='cuda:0', grad_fn=<SelectBackward0>)),\n",
       "  ('impression', tensor(0.2767, device='cuda:0', grad_fn=<SelectBackward0>)),\n",
       "  ('comment', tensor(0.2725, device='cuda:0', grad_fn=<SelectBackward0>)),\n",
       "  ('wars', tensor(0.2668, device='cuda:0', grad_fn=<SelectBackward0>)),\n",
       "  ('rate', tensor(0.2636, device='cuda:0', grad_fn=<SelectBackward0>)),\n",
       "  ('tea', tensor(0.2588, device='cuda:0', grad_fn=<SelectBackward0>)),\n",
       "  ('video', tensor(0.2512, device='cuda:0', grad_fn=<SelectBackward0>)),\n",
       "  ('wargame', tensor(0.2510, device='cuda:0', grad_fn=<SelectBackward0>))],\n",
       " [('chance', tensor(0.6571, device='cuda:0', grad_fn=<SelectBackward0>)),\n",
       "  ('winner', tensor(0.6136, device='cuda:0', grad_fn=<SelectBackward0>)),\n",
       "  ('person', tensor(0.5798, device='cuda:0', grad_fn=<SelectBackward0>)),\n",
       "  ('win', tensor(0.5605, device='cuda:0', grad_fn=<SelectBackward0>)),\n",
       "  ('impossible', tensor(0.5604, device='cuda:0', grad_fn=<SelectBackward0>)),\n",
       "  ('lose', tensor(0.5451, device='cuda:0', grad_fn=<SelectBackward0>)),\n",
       "  ('avoid', tensor(0.5154, device='cuda:0', grad_fn=<SelectBackward0>)),\n",
       "  ('usually', tensor(0.5116, device='cuda:0', grad_fn=<SelectBackward0>)),\n",
       "  ('cause', tensor(0.5053, device='cuda:0', grad_fn=<SelectBackward0>)),\n",
       "  ('early', tensor(0.5019, device='cuda:0', grad_fn=<SelectBackward0>)),\n",
       "  ('advantage', tensor(0.4937, device='cuda:0', grad_fn=<SelectBackward0>)),\n",
       "  ('player', tensor(0.4834, device='cuda:0', grad_fn=<SelectBackward0>)),\n",
       "  ('mean', tensor(0.4830, device='cuda:0', grad_fn=<SelectBackward0>)),\n",
       "  ('lead', tensor(0.4771, device='cuda:0', grad_fn=<SelectBackward0>)),\n",
       "  ('guess', tensor(0.4732, device='cuda:0', grad_fn=<SelectBackward0>))],\n",
       " [('pay', tensor(0.6457, device='cuda:0', grad_fn=<SelectBackward0>)),\n",
       "  ('stone', tensor(0.6220, device='cuda:0', grad_fn=<SelectBackward0>)),\n",
       "  ('sweet', tensor(0.6033, device='cuda:0', grad_fn=<SelectBackward0>)),\n",
       "  ('vertically', tensor(0.5982, device='cuda:0', grad_fn=<SelectBackward0>)),\n",
       "  ('middle', tensor(0.5884, device='cuda:0', grad_fn=<SelectBackward0>)),\n",
       "  ('exchange', tensor(0.5883, device='cuda:0', grad_fn=<SelectBackward0>)),\n",
       "  ('spot', tensor(0.5861, device='cuda:0', grad_fn=<SelectBackward0>)),\n",
       "  ('cut', tensor(0.5797, device='cuda:0', grad_fn=<SelectBackward0>)),\n",
       "  ('waste', tensor(0.5785, device='cuda:0', grad_fn=<SelectBackward0>)),\n",
       "  ('sink', tensor(0.5782, device='cuda:0', grad_fn=<SelectBackward0>)),\n",
       "  ('grab', tensor(0.5767, device='cuda:0', grad_fn=<SelectBackward0>)),\n",
       "  ('bump', tensor(0.5669, device='cuda:0', grad_fn=<SelectBackward0>)),\n",
       "  ('expensive', tensor(0.5648, device='cuda:0', grad_fn=<SelectBackward0>)),\n",
       "  ('slide', tensor(0.5592, device='cuda:0', grad_fn=<SelectBackward0>)),\n",
       "  ('leave', tensor(0.5553, device='cuda:0', grad_fn=<SelectBackward0>))],\n",
       " [('artwork', tensor(0.7280, device='cuda:0', grad_fn=<SelectBackward0>)),\n",
       "  ('production', tensor(0.7240, device='cuda:0', grad_fn=<SelectBackward0>)),\n",
       "  ('presentation', tensor(0.7121, device='cuda:0', grad_fn=<SelectBackward0>)),\n",
       "  ('art', tensor(0.7088, device='cuda:0', grad_fn=<SelectBackward0>)),\n",
       "  ('graphic', tensor(0.7081, device='cuda:0', grad_fn=<SelectBackward0>)),\n",
       "  ('component', tensor(0.7039, device='cuda:0', grad_fn=<SelectBackward0>)),\n",
       "  ('aesthetic', tensor(0.7036, device='cuda:0', grad_fn=<SelectBackward0>)),\n",
       "  ('ugly', tensor(0.6939, device='cuda:0', grad_fn=<SelectBackward0>)),\n",
       "  ('material', tensor(0.6674, device='cuda:0', grad_fn=<SelectBackward0>)),\n",
       "  ('gorgeous', tensor(0.6484, device='cuda:0', grad_fn=<SelectBackward0>)),\n",
       "  ('job', tensor(0.6367, device='cuda:0', grad_fn=<SelectBackward0>)),\n",
       "  ('miniature', tensor(0.6255, device='cuda:0', grad_fn=<SelectBackward0>)),\n",
       "  ('theme', tensor(0.6219, device='cuda:0', grad_fn=<SelectBackward0>)),\n",
       "  ('quality', tensor(0.6158, device='cuda:0', grad_fn=<SelectBackward0>)),\n",
       "  ('aesthetics', tensor(0.6152, device='cuda:0', grad_fn=<SelectBackward0>))],\n",
       " [('chip', tensor(0.6081, device='cuda:0', grad_fn=<SelectBackward0>)),\n",
       "  ('text', tensor(0.5901, device='cuda:0', grad_fn=<SelectBackward0>)),\n",
       "  ('print', tensor(0.5846, device='cuda:0', grad_fn=<SelectBackward0>)),\n",
       "  ('token', tensor(0.5679, device='cuda:0', grad_fn=<SelectBackward0>)),\n",
       "  ('plastic', tensor(0.5600, device='cuda:0', grad_fn=<SelectBackward0>)),\n",
       "  ('picture', tensor(0.5511, device='cuda:0', grad_fn=<SelectBackward0>)),\n",
       "  ('sleeve', tensor(0.5509, device='cuda:0', grad_fn=<SelectBackward0>)),\n",
       "  ('sheet', tensor(0.5493, device='cuda:0', grad_fn=<SelectBackward0>)),\n",
       "  ('cards', tensor(0.5488, device='cuda:0', grad_fn=<SelectBackward0>)),\n",
       "  ('box', tensor(0.5484, device='cuda:0', grad_fn=<SelectBackward0>)),\n",
       "  ('mat', tensor(0.5483, device='cuda:0', grad_fn=<SelectBackward0>)),\n",
       "  ('insert', tensor(0.5419, device='cuda:0', grad_fn=<SelectBackward0>)),\n",
       "  ('card', tensor(0.5197, device='cuda:0', grad_fn=<SelectBackward0>)),\n",
       "  ('damage', tensor(0.5097, device='cuda:0', grad_fn=<SelectBackward0>)),\n",
       "  ('reference', tensor(0.4965, device='cuda:0', grad_fn=<SelectBackward0>))],\n",
       " [('friend', tensor(0.6857, device='cuda:0', grad_fn=<SelectBackward0>)),\n",
       "  ('wife', tensor(0.6758, device='cuda:0', grad_fn=<SelectBackward0>)),\n",
       "  ('year', tensor(0.6722, device='cuda:0', grad_fn=<SelectBackward0>)),\n",
       "  ('night', tensor(0.6599, device='cuda:0', grad_fn=<SelectBackward0>)),\n",
       "  ('son', tensor(0.6225, device='cuda:0', grad_fn=<SelectBackward0>)),\n",
       "  ('daughter', tensor(0.6095, device='cuda:0', grad_fn=<SelectBackward0>)),\n",
       "  ('child', tensor(0.5981, device='cuda:0', grad_fn=<SelectBackward0>)),\n",
       "  ('kid', tensor(0.5928, device='cuda:0', grad_fn=<SelectBackward0>)),\n",
       "  ('young', tensor(0.5718, device='cuda:0', grad_fn=<SelectBackward0>)),\n",
       "  ('parent', tensor(0.5612, device='cuda:0', grad_fn=<SelectBackward0>)),\n",
       "  ('day', tensor(0.5604, device='cuda:0', grad_fn=<SelectBackward0>)),\n",
       "  ('family', tensor(0.5595, device='cuda:0', grad_fn=<SelectBackward0>)),\n",
       "  ('hobby', tensor(0.5431, device='cuda:0', grad_fn=<SelectBackward0>)),\n",
       "  ('glad', tensor(0.5267, device='cuda:0', grad_fn=<SelectBackward0>)),\n",
       "  ('happy', tensor(0.5134, device='cuda:0', grad_fn=<SelectBackward0>))],\n",
       " [('care', tensor(0.6567, device='cuda:0', grad_fn=<SelectBackward0>)),\n",
       "  ('kinda', tensor(0.6419, device='cuda:0', grad_fn=<SelectBackward0>)),\n",
       "  ('exciting', tensor(0.6352, device='cuda:0', grad_fn=<SelectBackward0>)),\n",
       "  ('clunky', tensor(0.6327, device='cuda:0', grad_fn=<SelectBackward0>)),\n",
       "  ('particularly', tensor(0.6247, device='cuda:0', grad_fn=<SelectBackward0>)),\n",
       "  ('exactly', tensor(0.6165, device='cuda:0', grad_fn=<SelectBackward0>)),\n",
       "  ('meh', tensor(0.6158, device='cuda:0', grad_fn=<SelectBackward0>)),\n",
       "  ('dull', tensor(0.6057, device='cuda:0', grad_fn=<SelectBackward0>)),\n",
       "  ('weird', tensor(0.6027, device='cuda:0', grad_fn=<SelectBackward0>)),\n",
       "  ('ok', tensor(0.5955, device='cuda:0', grad_fn=<SelectBackward0>)),\n",
       "  ('compelling', tensor(0.5887, device='cuda:0', grad_fn=<SelectBackward0>)),\n",
       "  ('honestly', tensor(0.5807, device='cuda:0', grad_fn=<SelectBackward0>)),\n",
       "  ('bad', tensor(0.5781, device='cuda:0', grad_fn=<SelectBackward0>)),\n",
       "  ('uninteresting',\n",
       "   tensor(0.5769, device='cuda:0', grad_fn=<SelectBackward0>)),\n",
       "  ('actually', tensor(0.5765, device='cuda:0', grad_fn=<SelectBackward0>))],\n",
       " [('player', tensor(0.5034, device='cuda:0', grad_fn=<SelectBackward0>)),\n",
       "  ('action', tensor(0.4801, device='cuda:0', grad_fn=<SelectBackward0>)),\n",
       "  ('pawn', tensor(0.4699, device='cuda:0', grad_fn=<SelectBackward0>)),\n",
       "  ('phase', tensor(0.4584, device='cuda:0', grad_fn=<SelectBackward0>)),\n",
       "  ('spot', tensor(0.4501, device='cuda:0', grad_fn=<SelectBackward0>)),\n",
       "  ('market', tensor(0.4248, device='cuda:0', grad_fn=<SelectBackward0>)),\n",
       "  ('location', tensor(0.4243, device='cuda:0', grad_fn=<SelectBackward0>)),\n",
       "  ('worker', tensor(0.4196, device='cuda:0', grad_fn=<SelectBackward0>)),\n",
       "  ('region', tensor(0.4191, device='cuda:0', grad_fn=<SelectBackward0>)),\n",
       "  ('order', tensor(0.4180, device='cuda:0', grad_fn=<SelectBackward0>)),\n",
       "  ('mechanism', tensor(0.4168, device='cuda:0', grad_fn=<SelectBackward0>)),\n",
       "  ('company', tensor(0.4005, device='cuda:0', grad_fn=<SelectBackward0>)),\n",
       "  ('bid', tensor(0.3969, device='cuda:0', grad_fn=<SelectBackward0>)),\n",
       "  ('position', tensor(0.3876, device='cuda:0', grad_fn=<SelectBackward0>)),\n",
       "  ('plant', tensor(0.3818, device='cuda:0', grad_fn=<SelectBackward0>))],\n",
       " [('release', tensor(0.5704, device='cuda:0', grad_fn=<SelectBackward0>)),\n",
       "  ('own', tensor(0.5242, device='cuda:0', grad_fn=<SelectBackward0>)),\n",
       "  ('edition', tensor(0.5028, device='cuda:0', grad_fn=<SelectBackward0>)),\n",
       "  ('expansion', tensor(0.4923, device='cuda:0', grad_fn=<SelectBackward0>)),\n",
       "  ('bgg', tensor(0.4697, device='cuda:0', grad_fn=<SelectBackward0>)),\n",
       "  ('purchase', tensor(0.4630, device='cuda:0', grad_fn=<SelectBackward0>)),\n",
       "  ('list', tensor(0.4413, device='cuda:0', grad_fn=<SelectBackward0>)),\n",
       "  ('copy', tensor(0.4390, device='cuda:0', grad_fn=<SelectBackward0>)),\n",
       "  ('update', tensor(0.4310, device='cuda:0', grad_fn=<SelectBackward0>)),\n",
       "  ('games', tensor(0.4256, device='cuda:0', grad_fn=<SelectBackward0>)),\n",
       "  ('module', tensor(0.4190, device='cuda:0', grad_fn=<SelectBackward0>)),\n",
       "  ('publisher', tensor(0.4052, device='cuda:0', grad_fn=<SelectBackward0>)),\n",
       "  ('march', tensor(0.3975, device='cuda:0', grad_fn=<SelectBackward0>)),\n",
       "  ('version', tensor(0.3891, device='cuda:0', grad_fn=<SelectBackward0>)),\n",
       "  ('season', tensor(0.3882, device='cuda:0', grad_fn=<SelectBackward0>))],\n",
       " [('crawler', tensor(0.6582, device='cuda:0', grad_fn=<SelectBackward0>)),\n",
       "  ('dungeon', tensor(0.6361, device='cuda:0', grad_fn=<SelectBackward0>)),\n",
       "  ('adventure', tensor(0.6259, device='cuda:0', grad_fn=<SelectBackward0>)),\n",
       "  ('crawl', tensor(0.6116, device='cuda:0', grad_fn=<SelectBackward0>)),\n",
       "  ('tabletop', tensor(0.6063, device='cuda:0', grad_fn=<SelectBackward0>)),\n",
       "  ('cooperative', tensor(0.6032, device='cuda:0', grad_fn=<SelectBackward0>)),\n",
       "  ('rpg', tensor(0.5971, device='cuda:0', grad_fn=<SelectBackward0>)),\n",
       "  ('coop', tensor(0.5904, device='cuda:0', grad_fn=<SelectBackward0>)),\n",
       "  ('zombie', tensor(0.5825, device='cuda:0', grad_fn=<SelectBackward0>)),\n",
       "  ('xcom', tensor(0.5800, device='cuda:0', grad_fn=<SelectBackward0>)),\n",
       "  ('dm', tensor(0.5748, device='cuda:0', grad_fn=<SelectBackward0>)),\n",
       "  ('crawling', tensor(0.5740, device='cuda:0', grad_fn=<SelectBackward0>)),\n",
       "  ('post', tensor(0.5583, device='cuda:0', grad_fn=<SelectBackward0>)),\n",
       "  ('weekly', tensor(0.5432, device='cuda:0', grad_fn=<SelectBackward0>)),\n",
       "  ('telling', tensor(0.5385, device='cuda:0', grad_fn=<SelectBackward0>))],\n",
       " [('connect', tensor(0.7144, device='cuda:0', grad_fn=<SelectBackward0>)),\n",
       "  ('achieve', tensor(0.7040, device='cuda:0', grad_fn=<SelectBackward0>)),\n",
       "  ('line', tensor(0.6988, device='cuda:0', grad_fn=<SelectBackward0>)),\n",
       "  ('road', tensor(0.6812, device='cuda:0', grad_fn=<SelectBackward0>)),\n",
       "  ('technology', tensor(0.6774, device='cuda:0', grad_fn=<SelectBackward0>)),\n",
       "  ('objective', tensor(0.6615, device='cuda:0', grad_fn=<SelectBackward0>)),\n",
       "  ('island', tensor(0.6607, device='cuda:0', grad_fn=<SelectBackward0>)),\n",
       "  ('goal', tensor(0.6524, device='cuda:0', grad_fn=<SelectBackward0>)),\n",
       "  ('military', tensor(0.6302, device='cuda:0', grad_fn=<SelectBackward0>)),\n",
       "  ('city', tensor(0.6299, device='cuda:0', grad_fn=<SelectBackward0>)),\n",
       "  ('cross', tensor(0.6277, device='cuda:0', grad_fn=<SelectBackward0>)),\n",
       "  ('focus', tensor(0.6259, device='cuda:0', grad_fn=<SelectBackward0>)),\n",
       "  ('expand', tensor(0.6204, device='cuda:0', grad_fn=<SelectBackward0>)),\n",
       "  ('army', tensor(0.6166, device='cuda:0', grad_fn=<SelectBackward0>)),\n",
       "  ('planet', tensor(0.6157, device='cuda:0', grad_fn=<SelectBackward0>))],\n",
       " [('resource', tensor(0.4900, device='cuda:0', grad_fn=<SelectBackward0>)),\n",
       "  ('tableau', tensor(0.4624, device='cuda:0', grad_fn=<SelectBackward0>)),\n",
       "  ('dice', tensor(0.4502, device='cuda:0', grad_fn=<SelectBackward0>)),\n",
       "  ('draft', tensor(0.4411, device='cuda:0', grad_fn=<SelectBackward0>)),\n",
       "  ('building', tensor(0.4295, device='cuda:0', grad_fn=<SelectBackward0>)),\n",
       "  ('management', tensor(0.4083, device='cuda:0', grad_fn=<SelectBackward0>)),\n",
       "  ('drafting', tensor(0.4075, device='cuda:0', grad_fn=<SelectBackward0>)),\n",
       "  ('build', tensor(0.4009, device='cuda:0', grad_fn=<SelectBackward0>)),\n",
       "  ('auction', tensor(0.3997, device='cuda:0', grad_fn=<SelectBackward0>)),\n",
       "  ('bidding', tensor(0.3932, device='cuda:0', grad_fn=<SelectBackward0>)),\n",
       "  ('market', tensor(0.3898, device='cuda:0', grad_fn=<SelectBackward0>)),\n",
       "  ('tree', tensor(0.3817, device='cuda:0', grad_fn=<SelectBackward0>)),\n",
       "  ('engine', tensor(0.3804, device='cuda:0', grad_fn=<SelectBackward0>)),\n",
       "  ('combo', tensor(0.3729, device='cuda:0', grad_fn=<SelectBackward0>)),\n",
       "  ('worker', tensor(0.3719, device='cuda:0', grad_fn=<SelectBackward0>))],\n",
       " [('relatively', tensor(0.7496, device='cuda:0', grad_fn=<SelectBackward0>)),\n",
       "  ('depth', tensor(0.6735, device='cuda:0', grad_fn=<SelectBackward0>)),\n",
       "  ('fairly', tensor(0.6484, device='cuda:0', grad_fn=<SelectBackward0>)),\n",
       "  ('rule', tensor(0.6469, device='cuda:0', grad_fn=<SelectBackward0>)),\n",
       "  ('complexity', tensor(0.6356, device='cuda:0', grad_fn=<SelectBackward0>)),\n",
       "  ('complex', tensor(0.6280, device='cuda:0', grad_fn=<SelectBackward0>)),\n",
       "  ('deep', tensor(0.6226, device='cuda:0', grad_fn=<SelectBackward0>)),\n",
       "  ('setup', tensor(0.6035, device='cuda:0', grad_fn=<SelectBackward0>)),\n",
       "  ('explain', tensor(0.5911, device='cuda:0', grad_fn=<SelectBackward0>)),\n",
       "  ('intuitive', tensor(0.5907, device='cuda:0', grad_fn=<SelectBackward0>)),\n",
       "  ('welcome', tensor(0.5870, device='cuda:0', grad_fn=<SelectBackward0>)),\n",
       "  ('straightforward',\n",
       "   tensor(0.5822, device='cuda:0', grad_fn=<SelectBackward0>)),\n",
       "  ('ruleset', tensor(0.5816, device='cuda:0', grad_fn=<SelectBackward0>)),\n",
       "  ('curve', tensor(0.5812, device='cuda:0', grad_fn=<SelectBackward0>)),\n",
       "  ('grasp', tensor(0.5805, device='cuda:0', grad_fn=<SelectBackward0>))],\n",
       " [('<game_name>', tensor(0.6487, device='cuda:0', grad_fn=<SelectBackward0>)),\n",
       "  ('bluffing', tensor(0.5558, device='cuda:0', grad_fn=<SelectBackward0>)),\n",
       "  ('sushi', tensor(0.5538, device='cuda:0', grad_fn=<SelectBackward0>)),\n",
       "  ('light', tensor(0.5423, device='cuda:0', grad_fn=<SelectBackward0>)),\n",
       "  ('racing', tensor(0.5138, device='cuda:0', grad_fn=<SelectBackward0>)),\n",
       "  ('similar', tensor(0.5095, device='cuda:0', grad_fn=<SelectBackward0>)),\n",
       "  ('genre', tensor(0.5042, device='cuda:0', grad_fn=<SelectBackward0>)),\n",
       "  ('social', tensor(0.4941, device='cuda:0', grad_fn=<SelectBackward0>)),\n",
       "  ('deduction', tensor(0.4884, device='cuda:0', grad_fn=<SelectBackward0>)),\n",
       "  ('prefer', tensor(0.4855, device='cuda:0', grad_fn=<SelectBackward0>)),\n",
       "  ('remind', tensor(0.4674, device='cuda:0', grad_fn=<SelectBackward0>)),\n",
       "  ('chess', tensor(0.4652, device='cuda:0', grad_fn=<SelectBackward0>)),\n",
       "  ('category', tensor(0.4648, device='cuda:0', grad_fn=<SelectBackward0>)),\n",
       "  ('princes', tensor(0.4642, device='cuda:0', grad_fn=<SelectBackward0>)),\n",
       "  ('semi', tensor(0.4598, device='cuda:0', grad_fn=<SelectBackward0>))]]"
      ]
     },
     "execution_count": 8,
     "metadata": {},
     "output_type": "execute_result"
    }
   ],
   "execution_count": 8
  },
  {
   "metadata": {},
   "cell_type": "markdown",
   "source": "## Sentence-split reviews",
   "id": "9eaaec47b2c6b0dc"
  },
  {
   "metadata": {
    "ExecuteTime": {
     "end_time": "2025-03-19T17:18:22.943158Z",
     "start_time": "2025-03-19T17:18:22.940372Z"
    }
   },
   "cell_type": "code",
   "source": [
    "corpus_path = \"../dataset/output/default_sentences/pre_processed.80k.csv\"\n",
    "test_corpus_path = \"../dataset/output/default_sentences/pre_processed.80k.test.csv\""
   ],
   "id": "de599d8f511eee18",
   "outputs": [],
   "execution_count": 2
  },
  {
   "metadata": {},
   "cell_type": "code",
   "outputs": [],
   "execution_count": null,
   "source": [
    "manager = ABAEManager.from_scratch(ABAEManagerConfig('sentence_default'), corpus_path)\n",
    "manager.train(corpus_path, verbose=2)\n",
    "res = manager.evaluate([20, 10, 5, 3], test_corpus=test_corpus_path)"
   ],
   "id": "ba5daef7089707a9"
  },
  {
   "metadata": {
    "ExecuteTime": {
     "end_time": "2025-03-19T15:52:54.847979Z",
     "start_time": "2025-03-19T15:52:54.843976Z"
    }
   },
   "cell_type": "code",
   "source": "pprint(res)",
   "id": "57733fb14ae7b153",
   "outputs": [
    {
     "name": "stdout",
     "output_type": "stream",
     "text": [
      "{'coherence': [-10.641038863629595,\n",
      "               -9.138537658110502,\n",
      "               -6.587250501495071,\n",
      "               -5.5914570947321085],\n",
      " 'loss': [5.903240203857422, 5.900863170623779],\n",
      " 'silhouette_score': 0.20448735356330872,\n",
      " 'top': [20, 10, 5, 3]}\n"
     ]
    }
   ],
   "execution_count": 4
  },
  {
   "metadata": {
    "ExecuteTime": {
     "end_time": "2025-03-19T22:53:34.733468Z",
     "start_time": "2025-03-19T22:53:34.372342Z"
    }
   },
   "cell_type": "code",
   "source": [
    "corpus_path = \"../dataset/output/default_sentences/pre_processed.80k.csv\"\n",
    "config = ABAEManagerConfig('sentence_default')\n",
    "manager = ABAEManager.from_scratch(config, corpus_path)\n",
    "manager.get_compiled_model(load_existing=True)\n",
    "processor = manager.make_ev_processor(test_corpus_path)\n",
    "\n",
    "aspects = processor.get_aspects(20)"
   ],
   "id": "217b0f0f816f9c55",
   "outputs": [
    {
     "data": {
      "text/plain": [
       "Pandas Apply:   0%|          | 0/68390 [00:00<?, ?it/s]"
      ],
      "application/vnd.jupyter.widget-view+json": {
       "version_major": 2,
       "version_minor": 0,
       "model_id": "70a6ad62710444c1821acc521f18df5b"
      }
     },
     "metadata": {},
     "output_type": "display_data"
    },
    {
     "name": "stdout",
     "output_type": "stream",
     "text": [
      "Loading the existing found model as requested in path ./output/sentence_default/sentence_default.aspect_embeddings.model\n",
      "Generating a new compiled model from fs\n"
     ]
    }
   ],
   "execution_count": 45
  },
  {
   "metadata": {
    "ExecuteTime": {
     "end_time": "2025-03-19T22:53:38.959722Z",
     "start_time": "2025-03-19T22:53:38.544701Z"
    }
   },
   "cell_type": "code",
   "source": "aspects",
   "id": "81d0db210f2c0666",
   "outputs": [
    {
     "data": {
      "text/plain": [
       "[[('games', tensor(0.4446, device='cuda:0', grad_fn=<SelectBackward0>)),\n",
       "  ('review', tensor(0.4162, device='cuda:0', grad_fn=<SelectBackward0>)),\n",
       "  ('price', tensor(0.4087, device='cuda:0', grad_fn=<SelectBackward0>)),\n",
       "  ('box', tensor(0.4049, device='cuda:0', grad_fn=<SelectBackward0>)),\n",
       "  ('copy', tensor(0.3943, device='cuda:0', grad_fn=<SelectBackward0>)),\n",
       "  ('designer', tensor(0.3898, device='cuda:0', grad_fn=<SelectBackward0>)),\n",
       "  ('rating', tensor(0.3842, device='cuda:0', grad_fn=<SelectBackward0>)),\n",
       "  ('star', tensor(0.3789, device='cuda:0', grad_fn=<SelectBackward0>)),\n",
       "  ('year', tensor(0.3781, device='cuda:0', grad_fn=<SelectBackward0>)),\n",
       "  ('criteria', tensor(0.3780, device='cuda:0', grad_fn=<SelectBackward0>)),\n",
       "  ('rate', tensor(0.3648, device='cuda:0', grad_fn=<SelectBackward0>)),\n",
       "  ('sell', tensor(0.3567, device='cuda:0', grad_fn=<SelectBackward0>)),\n",
       "  ('bgg', tensor(0.3552, device='cuda:0', grad_fn=<SelectBackward0>)),\n",
       "  ('friend', tensor(0.3546, device='cuda:0', grad_fn=<SelectBackward0>)),\n",
       "  ('update', tensor(0.3468, device='cuda:0', grad_fn=<SelectBackward0>)),\n",
       "  ('hit', tensor(0.3440, device='cuda:0', grad_fn=<SelectBackward0>)),\n",
       "  ('publisher', tensor(0.3429, device='cuda:0', grad_fn=<SelectBackward0>)),\n",
       "  ('shelf', tensor(0.3361, device='cuda:0', grad_fn=<SelectBackward0>)),\n",
       "  ('edition', tensor(0.3337, device='cuda:0', grad_fn=<SelectBackward0>)),\n",
       "  ('fan', tensor(0.3315, device='cuda:0', grad_fn=<SelectBackward0>))],\n",
       " [('dynasty', tensor(0.6239, device='cuda:0', grad_fn=<SelectBackward0>)),\n",
       "  ('stale', tensor(0.6182, device='cuda:0', grad_fn=<SelectBackward0>)),\n",
       "  ('forgivable', tensor(0.6125, device='cuda:0', grad_fn=<SelectBackward0>)),\n",
       "  ('blast', tensor(0.6099, device='cuda:0', grad_fn=<SelectBackward0>)),\n",
       "  ('interest', tensor(0.6052, device='cuda:0', grad_fn=<SelectBackward0>)),\n",
       "  ('shine', tensor(0.6018, device='cuda:0', grad_fn=<SelectBackward0>)),\n",
       "  ('investigator', tensor(0.5981, device='cuda:0', grad_fn=<SelectBackward0>)),\n",
       "  ('entertainment',\n",
       "   tensor(0.5943, device='cuda:0', grad_fn=<SelectBackward0>)),\n",
       "  ('looong', tensor(0.5919, device='cuda:0', grad_fn=<SelectBackward0>)),\n",
       "  ('ready', tensor(0.5885, device='cuda:0', grad_fn=<SelectBackward0>)),\n",
       "  ('revenge', tensor(0.5871, device='cuda:0', grad_fn=<SelectBackward0>)),\n",
       "  ('wanna', tensor(0.5870, device='cuda:0', grad_fn=<SelectBackward0>)),\n",
       "  ('ramp', tensor(0.5829, device='cuda:0', grad_fn=<SelectBackward0>)),\n",
       "  ('definately', tensor(0.5823, device='cuda:0', grad_fn=<SelectBackward0>)),\n",
       "  ('cull', tensor(0.5817, device='cuda:0', grad_fn=<SelectBackward0>)),\n",
       "  ('upper', tensor(0.5815, device='cuda:0', grad_fn=<SelectBackward0>)),\n",
       "  ('unpleasant', tensor(0.5813, device='cuda:0', grad_fn=<SelectBackward0>)),\n",
       "  ('care', tensor(0.5803, device='cuda:0', grad_fn=<SelectBackward0>)),\n",
       "  ('extract', tensor(0.5802, device='cuda:0', grad_fn=<SelectBackward0>)),\n",
       "  ('reluctant', tensor(0.5781, device='cuda:0', grad_fn=<SelectBackward0>))],\n",
       " [('feel', tensor(0.7706, device='cuda:0', grad_fn=<SelectBackward0>)),\n",
       "  ('chess', tensor(0.6464, device='cuda:0', grad_fn=<SelectBackward0>)),\n",
       "  ('similar', tensor(0.6324, device='cuda:0', grad_fn=<SelectBackward0>)),\n",
       "  ('feeling', tensor(0.6308, device='cuda:0', grad_fn=<SelectBackward0>)),\n",
       "  ('like', tensor(0.6305, device='cuda:0', grad_fn=<SelectBackward0>)),\n",
       "  ('kind', tensor(0.6128, device='cuda:0', grad_fn=<SelectBackward0>)),\n",
       "  ('think', tensor(0.6038, device='cuda:0', grad_fn=<SelectBackward0>)),\n",
       "  ('slightly', tensor(0.5909, device='cuda:0', grad_fn=<SelectBackward0>)),\n",
       "  ('sound', tensor(0.5881, device='cuda:0', grad_fn=<SelectBackward0>)),\n",
       "  ('remind', tensor(0.5832, device='cuda:0', grad_fn=<SelectBackward0>)),\n",
       "  ('taste', tensor(0.5764, device='cuda:0', grad_fn=<SelectBackward0>)),\n",
       "  ('dry', tensor(0.5692, device='cuda:0', grad_fn=<SelectBackward0>)),\n",
       "  ('compare', tensor(0.5689, device='cuda:0', grad_fn=<SelectBackward0>)),\n",
       "  ('idea', tensor(0.5612, device='cuda:0', grad_fn=<SelectBackward0>)),\n",
       "  ('system', tensor(0.5390, device='cuda:0', grad_fn=<SelectBackward0>)),\n",
       "  ('abstract', tensor(0.5352, device='cuda:0', grad_fn=<SelectBackward0>)),\n",
       "  ('actually', tensor(0.5314, device='cuda:0', grad_fn=<SelectBackward0>)),\n",
       "  ('repetitive', tensor(0.5281, device='cuda:0', grad_fn=<SelectBackward0>)),\n",
       "  ('streamlined', tensor(0.5261, device='cuda:0', grad_fn=<SelectBackward0>)),\n",
       "  ('overall', tensor(0.5229, device='cuda:0', grad_fn=<SelectBackward0>))],\n",
       " [('factor', tensor(0.6825, device='cuda:0', grad_fn=<SelectBackward0>)),\n",
       "  ('luck', tensor(0.6654, device='cuda:0', grad_fn=<SelectBackward0>)),\n",
       "  ('randomness', tensor(0.6465, device='cuda:0', grad_fn=<SelectBackward0>)),\n",
       "  ('random', tensor(0.6113, device='cuda:0', grad_fn=<SelectBackward0>)),\n",
       "  ('push', tensor(0.5761, device='cuda:0', grad_fn=<SelectBackward0>)),\n",
       "  ('dependent', tensor(0.5498, device='cuda:0', grad_fn=<SelectBackward0>)),\n",
       "  ('skill', tensor(0.5274, device='cuda:0', grad_fn=<SelectBackward0>)),\n",
       "  ('mitigate', tensor(0.5220, device='cuda:0', grad_fn=<SelectBackward0>)),\n",
       "  ('draw', tensor(0.5015, device='cuda:0', grad_fn=<SelectBackward0>)),\n",
       "  ('element', tensor(0.4949, device='cuda:0', grad_fn=<SelectBackward0>)),\n",
       "  ('involve', tensor(0.4852, device='cuda:0', grad_fn=<SelectBackward0>)),\n",
       "  ('low', tensor(0.4751, device='cuda:0', grad_fn=<SelectBackward0>)),\n",
       "  ('press', tensor(0.4605, device='cuda:0', grad_fn=<SelectBackward0>)),\n",
       "  ('die', tensor(0.4516, device='cuda:0', grad_fn=<SelectBackward0>)),\n",
       "  ('write', tensor(0.4498, device='cuda:0', grad_fn=<SelectBackward0>)),\n",
       "  ('roll', tensor(0.4470, device='cuda:0', grad_fn=<SelectBackward0>)),\n",
       "  ('bad', tensor(0.4456, device='cuda:0', grad_fn=<SelectBackward0>)),\n",
       "  ('high', tensor(0.4407, device='cuda:0', grad_fn=<SelectBackward0>)),\n",
       "  ('replayability',\n",
       "   tensor(0.4395, device='cuda:0', grad_fn=<SelectBackward0>)),\n",
       "  ('base', tensor(0.4263, device='cuda:0', grad_fn=<SelectBackward0>))],\n",
       " [('write', tensor(0.4330, device='cuda:0', grad_fn=<SelectBackward0>)),\n",
       "  ('love', tensor(0.4223, device='cuda:0', grad_fn=<SelectBackward0>)),\n",
       "  ('easy', tensor(0.4023, device='cuda:0', grad_fn=<SelectBackward0>)),\n",
       "  ('pick', tensor(0.3710, device='cuda:0', grad_fn=<SelectBackward0>)),\n",
       "  ('favorite', tensor(0.3636, device='cuda:0', grad_fn=<SelectBackward0>)),\n",
       "  ('basic', tensor(0.3635, device='cuda:0', grad_fn=<SelectBackward0>)),\n",
       "  ('deliver', tensor(0.3614, device='cuda:0', grad_fn=<SelectBackward0>)),\n",
       "  ('chuck', tensor(0.3506, device='cuda:0', grad_fn=<SelectBackward0>)),\n",
       "  ('old', tensor(0.3468, device='cuda:0', grad_fn=<SelectBackward0>)),\n",
       "  ('dice', tensor(0.3464, device='cuda:0', grad_fn=<SelectBackward0>)),\n",
       "  ('fluent', tensor(0.3456, device='cuda:0', grad_fn=<SelectBackward0>)),\n",
       "  ('ages', tensor(0.3454, device='cuda:0', grad_fn=<SelectBackward0>)),\n",
       "  ('video', tensor(0.3451, device='cuda:0', grad_fn=<SelectBackward0>)),\n",
       "  ('tell', tensor(0.3447, device='cuda:0', grad_fn=<SelectBackward0>)),\n",
       "  ('annoyed', tensor(0.3447, device='cuda:0', grad_fn=<SelectBackward0>)),\n",
       "  ('house', tensor(0.3368, device='cuda:0', grad_fn=<SelectBackward0>)),\n",
       "  ('previously', tensor(0.3341, device='cuda:0', grad_fn=<SelectBackward0>)),\n",
       "  ('influential', tensor(0.3331, device='cuda:0', grad_fn=<SelectBackward0>)),\n",
       "  ('assignment', tensor(0.3296, device='cuda:0', grad_fn=<SelectBackward0>)),\n",
       "  ('adventurer', tensor(0.3290, device='cuda:0', grad_fn=<SelectBackward0>))],\n",
       " [('play', tensor(0.3758, device='cuda:0', grad_fn=<SelectBackward0>)),\n",
       "  ('group', tensor(0.2582, device='cuda:0', grad_fn=<SelectBackward0>)),\n",
       "  ('people', tensor(0.2204, device='cuda:0', grad_fn=<SelectBackward0>)),\n",
       "  ('try', tensor(0.2141, device='cuda:0', grad_fn=<SelectBackward0>)),\n",
       "  ('know', tensor(0.2004, device='cuda:0', grad_fn=<SelectBackward0>)),\n",
       "  ('get', tensor(0.1971, device='cuda:0', grad_fn=<SelectBackward0>)),\n",
       "  ('friend', tensor(0.1881, device='cuda:0', grad_fn=<SelectBackward0>)),\n",
       "  ('table', tensor(0.1791, device='cuda:0', grad_fn=<SelectBackward0>)),\n",
       "  ('year', tensor(0.1656, device='cuda:0', grad_fn=<SelectBackward0>)),\n",
       "  ('finish', tensor(0.1549, device='cuda:0', grad_fn=<SelectBackward0>)),\n",
       "  ('wait', tensor(0.1455, device='cuda:0', grad_fn=<SelectBackward0>)),\n",
       "  ('find', tensor(0.1346, device='cuda:0', grad_fn=<SelectBackward0>)),\n",
       "  ('win', tensor(0.1305, device='cuda:0', grad_fn=<SelectBackward0>)),\n",
       "  ('hour', tensor(0.1284, device='cuda:0', grad_fn=<SelectBackward0>)),\n",
       "  ('wife', tensor(0.1240, device='cuda:0', grad_fn=<SelectBackward0>)),\n",
       "  ('read', tensor(0.1231, device='cuda:0', grad_fn=<SelectBackward0>)),\n",
       "  ('person', tensor(0.1210, device='cuda:0', grad_fn=<SelectBackward0>)),\n",
       "  ('go', tensor(0.1154, device='cuda:0', grad_fn=<SelectBackward0>)),\n",
       "  ('start', tensor(0.1068, device='cuda:0', grad_fn=<SelectBackward0>)),\n",
       "  ('night', tensor(0.1056, device='cuda:0', grad_fn=<SelectBackward0>))],\n",
       " [('point', tensor(0.4165, device='cuda:0', grad_fn=<SelectBackward0>)),\n",
       "  ('score', tensor(0.3452, device='cuda:0', grad_fn=<SelectBackward0>)),\n",
       "  ('victory', tensor(0.3265, device='cuda:0', grad_fn=<SelectBackward0>)),\n",
       "  ('scoring', tensor(0.2867, device='cuda:0', grad_fn=<SelectBackward0>)),\n",
       "  ('condition', tensor(0.2840, device='cuda:0', grad_fn=<SelectBackward0>)),\n",
       "  ('opponent', tensor(0.2723, device='cuda:0', grad_fn=<SelectBackward0>)),\n",
       "  ('bonus', tensor(0.2700, device='cuda:0', grad_fn=<SelectBackward0>)),\n",
       "  ('end', tensor(0.2593, device='cuda:0', grad_fn=<SelectBackward0>)),\n",
       "  ('money', tensor(0.2552, device='cuda:0', grad_fn=<SelectBackward0>)),\n",
       "  ('player', tensor(0.2528, device='cuda:0', grad_fn=<SelectBackward0>)),\n",
       "  ('gain', tensor(0.2505, device='cuda:0', grad_fn=<SelectBackward0>)),\n",
       "  ('path', tensor(0.2312, device='cuda:0', grad_fn=<SelectBackward0>)),\n",
       "  ('round', tensor(0.2223, device='cuda:0', grad_fn=<SelectBackward0>)),\n",
       "  ('goal', tensor(0.2080, device='cuda:0', grad_fn=<SelectBackward0>)),\n",
       "  ('vp', tensor(0.2038, device='cuda:0', grad_fn=<SelectBackward0>)),\n",
       "  ('number', tensor(0.1917, device='cuda:0', grad_fn=<SelectBackward0>)),\n",
       "  ('complete', tensor(0.1906, device='cuda:0', grad_fn=<SelectBackward0>)),\n",
       "  ('win', tensor(0.1882, device='cuda:0', grad_fn=<SelectBackward0>)),\n",
       "  ('area', tensor(0.1750, device='cuda:0', grad_fn=<SelectBackward0>)),\n",
       "  ('action', tensor(0.1695, device='cuda:0', grad_fn=<SelectBackward0>))],\n",
       " [('available', tensor(0.7850, device='cuda:0', grad_fn=<SelectBackward0>)),\n",
       "  ('upgrade', tensor(0.7336, device='cuda:0', grad_fn=<SelectBackward0>)),\n",
       "  ('special', tensor(0.7324, device='cuda:0', grad_fn=<SelectBackward0>)),\n",
       "  ('extra', tensor(0.7313, device='cuda:0', grad_fn=<SelectBackward0>)),\n",
       "  ('use', tensor(0.7226, device='cuda:0', grad_fn=<SelectBackward0>)),\n",
       "  ('additional', tensor(0.7207, device='cuda:0', grad_fn=<SelectBackward0>)),\n",
       "  ('location', tensor(0.7071, device='cuda:0', grad_fn=<SelectBackward0>)),\n",
       "  ('activate', tensor(0.7062, device='cuda:0', grad_fn=<SelectBackward0>)),\n",
       "  ('power', tensor(0.7002, device='cuda:0', grad_fn=<SelectBackward0>)),\n",
       "  ('match', tensor(0.6990, device='cuda:0', grad_fn=<SelectBackward0>)),\n",
       "  ('animal', tensor(0.6969, device='cuda:0', grad_fn=<SelectBackward0>)),\n",
       "  ('market', tensor(0.6909, device='cuda:0', grad_fn=<SelectBackward0>)),\n",
       "  ('claim', tensor(0.6906, device='cuda:0', grad_fn=<SelectBackward0>)),\n",
       "  ('remove', tensor(0.6848, device='cuda:0', grad_fn=<SelectBackward0>)),\n",
       "  ('specific', tensor(0.6840, device='cuda:0', grad_fn=<SelectBackward0>)),\n",
       "  ('terrain', tensor(0.6837, device='cuda:0', grad_fn=<SelectBackward0>)),\n",
       "  ('swap', tensor(0.6806, device='cuda:0', grad_fn=<SelectBackward0>)),\n",
       "  ('double', tensor(0.6740, device='cuda:0', grad_fn=<SelectBackward0>)),\n",
       "  ('map', tensor(0.6721, device='cuda:0', grad_fn=<SelectBackward0>)),\n",
       "  ('pay', tensor(0.6718, device='cuda:0', grad_fn=<SelectBackward0>))],\n",
       " [('edition', tensor(0.4373, device='cuda:0', grad_fn=<SelectBackward0>)),\n",
       "  ('expansion', tensor(0.3987, device='cuda:0', grad_fn=<SelectBackward0>)),\n",
       "  ('version', tensor(0.3715, device='cuda:0', grad_fn=<SelectBackward0>)),\n",
       "  ('<game_name>', tensor(0.3277, device='cuda:0', grad_fn=<SelectBackward0>)),\n",
       "  ('x', tensor(0.3238, device='cuda:0', grad_fn=<SelectBackward0>)),\n",
       "  ('include', tensor(0.3235, device='cuda:0', grad_fn=<SelectBackward0>)),\n",
       "  ('pack', tensor(0.3131, device='cuda:0', grad_fn=<SelectBackward0>)),\n",
       "  ('sleeve', tensor(0.3100, device='cuda:0', grad_fn=<SelectBackward0>)),\n",
       "  ('promo', tensor(0.2965, device='cuda:0', grad_fn=<SelectBackward0>)),\n",
       "  ('box', tensor(0.2762, device='cuda:0', grad_fn=<SelectBackward0>)),\n",
       "  ('original', tensor(0.2415, device='cuda:0', grad_fn=<SelectBackward0>)),\n",
       "  ('deluxe', tensor(0.2107, device='cuda:0', grad_fn=<SelectBackward0>)),\n",
       "  ('mini', tensor(0.2005, device='cuda:0', grad_fn=<SelectBackward0>)),\n",
       "  ('mm', tensor(0.1878, device='cuda:0', grad_fn=<SelectBackward0>)),\n",
       "  ('copy', tensor(0.1782, device='cuda:0', grad_fn=<SelectBackward0>)),\n",
       "  ('print', tensor(0.1654, device='cuda:0', grad_fn=<SelectBackward0>)),\n",
       "  ('standard', tensor(0.1635, device='cuda:0', grad_fn=<SelectBackward0>)),\n",
       "  ('english', tensor(0.1450, device='cuda:0', grad_fn=<SelectBackward0>)),\n",
       "  ('games', tensor(0.1396, device='cuda:0', grad_fn=<SelectBackward0>)),\n",
       "  ('men', tensor(0.1365, device='cuda:0', grad_fn=<SelectBackward0>))],\n",
       " [('rule', tensor(0.7395, device='cuda:0', grad_fn=<SelectBackward0>)),\n",
       "  ('explain', tensor(0.5894, device='cuda:0', grad_fn=<SelectBackward0>)),\n",
       "  ('easy', tensor(0.5816, device='cuda:0', grad_fn=<SelectBackward0>)),\n",
       "  ('quick', tensor(0.5750, device='cuda:0', grad_fn=<SelectBackward0>)),\n",
       "  ('relatively', tensor(0.5713, device='cuda:0', grad_fn=<SelectBackward0>)),\n",
       "  ('learn', tensor(0.5648, device='cuda:0', grad_fn=<SelectBackward0>)),\n",
       "  ('teach', tensor(0.5619, device='cuda:0', grad_fn=<SelectBackward0>)),\n",
       "  ('fairly', tensor(0.5553, device='cuda:0', grad_fn=<SelectBackward0>)),\n",
       "  ('fast', tensor(0.5523, device='cuda:0', grad_fn=<SelectBackward0>)),\n",
       "  ('quickly', tensor(0.5256, device='cuda:0', grad_fn=<SelectBackward0>)),\n",
       "  ('difficult', tensor(0.5195, device='cuda:0', grad_fn=<SelectBackward0>)),\n",
       "  ('understand', tensor(0.5154, device='cuda:0', grad_fn=<SelectBackward0>)),\n",
       "  ('hard', tensor(0.5127, device='cuda:0', grad_fn=<SelectBackward0>)),\n",
       "  ('grasp', tensor(0.5048, device='cuda:0', grad_fn=<SelectBackward0>)),\n",
       "  ('setup', tensor(0.4791, device='cuda:0', grad_fn=<SelectBackward0>)),\n",
       "  ('super', tensor(0.4724, device='cuda:0', grad_fn=<SelectBackward0>)),\n",
       "  ('clear', tensor(0.4714, device='cuda:0', grad_fn=<SelectBackward0>)),\n",
       "  ('complex', tensor(0.4649, device='cuda:0', grad_fn=<SelectBackward0>)),\n",
       "  ('simple', tensor(0.4568, device='cuda:0', grad_fn=<SelectBackward0>)),\n",
       "  ('rulebook', tensor(0.4525, device='cuda:0', grad_fn=<SelectBackward0>))],\n",
       " [('thumbsup', tensor(0.5447, device='cuda:0', grad_fn=<SelectBackward0>)),\n",
       "  ('warped', tensor(0.5407, device='cuda:0', grad_fn=<SelectBackward0>)),\n",
       "  ('payout', tensor(0.5088, device='cuda:0', grad_fn=<SelectBackward0>)),\n",
       "  ('crank', tensor(0.5024, device='cuda:0', grad_fn=<SelectBackward0>)),\n",
       "  ('flimsy', tensor(0.4965, device='cuda:0', grad_fn=<SelectBackward0>)),\n",
       "  ('total', tensor(0.4960, device='cuda:0', grad_fn=<SelectBackward0>)),\n",
       "  ('cavalry', tensor(0.4953, device='cuda:0', grad_fn=<SelectBackward0>)),\n",
       "  ('overhead', tensor(0.4939, device='cuda:0', grad_fn=<SelectBackward0>)),\n",
       "  ('trump', tensor(0.4934, device='cuda:0', grad_fn=<SelectBackward0>)),\n",
       "  ('leave', tensor(0.4926, device='cuda:0', grad_fn=<SelectBackward0>)),\n",
       "  ('compensate', tensor(0.4921, device='cuda:0', grad_fn=<SelectBackward0>)),\n",
       "  ('grab', tensor(0.4921, device='cuda:0', grad_fn=<SelectBackward0>)),\n",
       "  ('huge', tensor(0.4918, device='cuda:0', grad_fn=<SelectBackward0>)),\n",
       "  ('lacking', tensor(0.4913, device='cuda:0', grad_fn=<SelectBackward0>)),\n",
       "  ('score', tensor(0.4910, device='cuda:0', grad_fn=<SelectBackward0>)),\n",
       "  ('edge', tensor(0.4906, device='cuda:0', grad_fn=<SelectBackward0>)),\n",
       "  ('swing', tensor(0.4845, device='cuda:0', grad_fn=<SelectBackward0>)),\n",
       "  ('compass', tensor(0.4836, device='cuda:0', grad_fn=<SelectBackward0>)),\n",
       "  ('scoring', tensor(0.4831, device='cuda:0', grad_fn=<SelectBackward0>)),\n",
       "  ('influence', tensor(0.4822, device='cuda:0', grad_fn=<SelectBackward0>))],\n",
       " [('resource', tensor(0.3301, device='cuda:0', grad_fn=<SelectBackward0>)),\n",
       "  ('building', tensor(0.3186, device='cuda:0', grad_fn=<SelectBackward0>)),\n",
       "  ('tile', tensor(0.3155, device='cuda:0', grad_fn=<SelectBackward0>)),\n",
       "  ('worker', tensor(0.3131, device='cuda:0', grad_fn=<SelectBackward0>)),\n",
       "  ('management', tensor(0.2864, device='cuda:0', grad_fn=<SelectBackward0>)),\n",
       "  ('dice', tensor(0.2775, device='cuda:0', grad_fn=<SelectBackward0>)),\n",
       "  ('card', tensor(0.1959, device='cuda:0', grad_fn=<SelectBackward0>)),\n",
       "  ('build', tensor(0.1958, device='cuda:0', grad_fn=<SelectBackward0>)),\n",
       "  ('hand', tensor(0.1911, device='cuda:0', grad_fn=<SelectBackward0>)),\n",
       "  ('cube', tensor(0.1910, device='cuda:0', grad_fn=<SelectBackward0>)),\n",
       "  ('drafting', tensor(0.1846, device='cuda:0', grad_fn=<SelectBackward0>)),\n",
       "  ('city', tensor(0.1784, device='cuda:0', grad_fn=<SelectBackward0>)),\n",
       "  ('builder', tensor(0.1648, device='cuda:0', grad_fn=<SelectBackward0>)),\n",
       "  ('market', tensor(0.1604, device='cuda:0', grad_fn=<SelectBackward0>)),\n",
       "  ('engine', tensor(0.1537, device='cuda:0', grad_fn=<SelectBackward0>)),\n",
       "  ('type', tensor(0.1389, device='cuda:0', grad_fn=<SelectBackward0>)),\n",
       "  ('tableau', tensor(0.1351, device='cuda:0', grad_fn=<SelectBackward0>)),\n",
       "  ('auction', tensor(0.1314, device='cuda:0', grad_fn=<SelectBackward0>)),\n",
       "  ('mechanism', tensor(0.1305, device='cuda:0', grad_fn=<SelectBackward0>)),\n",
       "  ('collection', tensor(0.1246, device='cuda:0', grad_fn=<SelectBackward0>))],\n",
       " [('weight', tensor(0.5650, device='cuda:0', grad_fn=<SelectBackward0>)),\n",
       "  ('family', tensor(0.5389, device='cuda:0', grad_fn=<SelectBackward0>)),\n",
       "  ('best', tensor(0.4864, device='cuda:0', grad_fn=<SelectBackward0>)),\n",
       "  ('min', tensor(0.4252, device='cuda:0', grad_fn=<SelectBackward0>)),\n",
       "  ('party', tensor(0.3996, device='cuda:0', grad_fn=<SelectBackward0>)),\n",
       "  ('recommend', tensor(0.3931, device='cuda:0', grad_fn=<SelectBackward0>)),\n",
       "  ('light', tensor(0.3911, device='cuda:0', grad_fn=<SelectBackward0>)),\n",
       "  ('filler', tensor(0.3876, device='cuda:0', grad_fn=<SelectBackward0>)),\n",
       "  ('gateway', tensor(0.3802, device='cuda:0', grad_fn=<SelectBackward0>)),\n",
       "  ('kid', tensor(0.3799, device='cuda:0', grad_fn=<SelectBackward0>)),\n",
       "  ('gamer', tensor(0.3768, device='cuda:0', grad_fn=<SelectBackward0>)),\n",
       "  ('medium', tensor(0.3690, device='cuda:0', grad_fn=<SelectBackward0>)),\n",
       "  ('cooperative', tensor(0.3642, device='cuda:0', grad_fn=<SelectBackward0>)),\n",
       "  ('favorite', tensor(0.3289, device='cuda:0', grad_fn=<SelectBackward0>)),\n",
       "  ('child', tensor(0.3279, device='cuda:0', grad_fn=<SelectBackward0>)),\n",
       "  ('highly', tensor(0.3260, device='cuda:0', grad_fn=<SelectBackward0>)),\n",
       "  ('casual', tensor(0.3190, device='cuda:0', grad_fn=<SelectBackward0>)),\n",
       "  ('age', tensor(0.3149, device='cuda:0', grad_fn=<SelectBackward0>)),\n",
       "  ('solo', tensor(0.3113, device='cuda:0', grad_fn=<SelectBackward0>)),\n",
       "  ('adult', tensor(0.3023, device='cuda:0', grad_fn=<SelectBackward0>))],\n",
       " [('art', tensor(0.4445, device='cuda:0', grad_fn=<SelectBackward0>)),\n",
       "  ('beautiful', tensor(0.4432, device='cuda:0', grad_fn=<SelectBackward0>)),\n",
       "  ('component', tensor(0.4394, device='cuda:0', grad_fn=<SelectBackward0>)),\n",
       "  ('artwork', tensor(0.4373, device='cuda:0', grad_fn=<SelectBackward0>)),\n",
       "  ('production', tensor(0.4348, device='cuda:0', grad_fn=<SelectBackward0>)),\n",
       "  ('design', tensor(0.4338, device='cuda:0', grad_fn=<SelectBackward0>)),\n",
       "  ('quality', tensor(0.4026, device='cuda:0', grad_fn=<SelectBackward0>)),\n",
       "  ('theme', tensor(0.3990, device='cuda:0', grad_fn=<SelectBackward0>)),\n",
       "  ('gorgeous', tensor(0.3159, device='cuda:0', grad_fn=<SelectBackward0>)),\n",
       "  ('graphic', tensor(0.3106, device='cuda:0', grad_fn=<SelectBackward0>)),\n",
       "  ('amazing', tensor(0.2915, device='cuda:0', grad_fn=<SelectBackward0>)),\n",
       "  ('excellent', tensor(0.2896, device='cuda:0', grad_fn=<SelectBackward0>)),\n",
       "  ('nice', tensor(0.2654, device='cuda:0', grad_fn=<SelectBackward0>)),\n",
       "  ('gameplay', tensor(0.2576, device='cuda:0', grad_fn=<SelectBackward0>)),\n",
       "  ('thematic', tensor(0.2478, device='cuda:0', grad_fn=<SelectBackward0>)),\n",
       "  ('miniature', tensor(0.2446, device='cuda:0', grad_fn=<SelectBackward0>)),\n",
       "  ('fantastic', tensor(0.2442, device='cuda:0', grad_fn=<SelectBackward0>)),\n",
       "  ('cool', tensor(0.2423, device='cuda:0', grad_fn=<SelectBackward0>)),\n",
       "  ('style', tensor(0.2319, device='cuda:0', grad_fn=<SelectBackward0>)),\n",
       "  ('great', tensor(0.2155, device='cuda:0', grad_fn=<SelectBackward0>))]]"
      ]
     },
     "execution_count": 46,
     "metadata": {},
     "output_type": "execute_result"
    }
   ],
   "execution_count": 46
  },
  {
   "metadata": {
    "ExecuteTime": {
     "end_time": "2025-03-19T22:57:58.337987Z",
     "start_time": "2025-03-19T22:54:35.664850Z"
    }
   },
   "cell_type": "code",
   "source": "manager.evaluate([20, 10, 5, 3], test_corpus=test_corpus_path)",
   "id": "4820c63dce36bb65",
   "outputs": [
    {
     "name": "stdout",
     "output_type": "stream",
     "text": [
      "Generating numeric representation for each word of ds.\n"
     ]
    },
    {
     "data": {
      "text/plain": [
       "Pandas Apply:   0%|          | 0/77966 [00:00<?, ?it/s]"
      ],
      "application/vnd.jupyter.widget-view+json": {
       "version_major": 2,
       "version_minor": 0,
       "model_id": "866b85fe306a4801aacea2d7fe653836"
      }
     },
     "metadata": {},
     "output_type": "display_data"
    },
    {
     "name": "stdout",
     "output_type": "stream",
     "text": [
      "Max sequence length calculation in progress...\n",
      "We loose information on 8(0.01026088294897776% of ds).\n",
      "\u001B[1m610/610\u001B[0m \u001B[32m━━━━━━━━━━━━━━━━━━━━\u001B[0m\u001B[37m\u001B[0m \u001B[1m161s\u001B[0m 264ms/step - loss: 5.9393 - max_margin_loss: 5.9393\n",
      "Generating numeric representation for each word of ds.\n"
     ]
    },
    {
     "data": {
      "text/plain": [
       "Pandas Apply:   0%|          | 0/77966 [00:00<?, ?it/s]"
      ],
      "application/vnd.jupyter.widget-view+json": {
       "version_major": 2,
       "version_minor": 0,
       "model_id": "55b1f9a6c28c44e5b861af3606fa862f"
      }
     },
     "metadata": {},
     "output_type": "display_data"
    },
    {
     "name": "stdout",
     "output_type": "stream",
     "text": [
      "Max sequence length calculation in progress...\n",
      "We loose information on 8(0.01026088294897776% of ds).\n",
      "\u001B[1m153/153\u001B[0m \u001B[32m━━━━━━━━━━━━━━━━━━━━\u001B[0m\u001B[37m\u001B[0m \u001B[1m1s\u001B[0m 8ms/step\n"
     ]
    },
    {
     "data": {
      "text/plain": [
       "Pandas Apply:   0%|          | 0/77966 [00:00<?, ?it/s]"
      ],
      "application/vnd.jupyter.widget-view+json": {
       "version_major": 2,
       "version_minor": 0,
       "model_id": "8556d908f2ec4100b1652398821ec505"
      }
     },
     "metadata": {},
     "output_type": "display_data"
    },
    {
     "data": {
      "text/plain": [
       "Pandas Apply:   0%|          | 0/77966 [00:00<?, ?it/s]"
      ],
      "application/vnd.jupyter.widget-view+json": {
       "version_major": 2,
       "version_minor": 0,
       "model_id": "ce48384723194e5aaa5d4779a8231c41"
      }
     },
     "metadata": {},
     "output_type": "display_data"
    },
    {
     "data": {
      "text/plain": [
       "Pandas Apply:   0%|          | 0/77966 [00:00<?, ?it/s]"
      ],
      "application/vnd.jupyter.widget-view+json": {
       "version_major": 2,
       "version_minor": 0,
       "model_id": "f848e4dca38642bb94591c5cd31a6efd"
      }
     },
     "metadata": {},
     "output_type": "display_data"
    },
    {
     "data": {
      "text/plain": [
       "Pandas Apply:   0%|          | 0/77966 [00:00<?, ?it/s]"
      ],
      "application/vnd.jupyter.widget-view+json": {
       "version_major": 2,
       "version_minor": 0,
       "model_id": "9349cd6875c24bcfac4044e5c95ddd8b"
      }
     },
     "metadata": {},
     "output_type": "display_data"
    },
    {
     "data": {
      "text/plain": [
       "{'coherence': [-8.44545707953797,\n",
       "  -7.3458720913356945,\n",
       "  -5.829376841304451,\n",
       "  -6.036148838026193],\n",
       " 'top': [20, 10, 5, 3],\n",
       " 'loss': [5.936696529388428, 5.937065601348877],\n",
       " 'silhouette_score': 0.20680736005306244}"
      ]
     },
     "execution_count": 48,
     "metadata": {},
     "output_type": "execute_result"
    }
   ],
   "execution_count": 48
  },
  {
   "metadata": {
    "ExecuteTime": {
     "end_time": "2025-03-19T22:58:42.847081Z",
     "start_time": "2025-03-19T22:58:42.344140Z"
    }
   },
   "cell_type": "code",
   "source": "processor.get_aspects(20)",
   "id": "fe8fbc0c9b441ba4",
   "outputs": [
    {
     "data": {
      "text/plain": [
       "[[('games', tensor(0.4446, device='cuda:0', grad_fn=<SelectBackward0>)),\n",
       "  ('review', tensor(0.4162, device='cuda:0', grad_fn=<SelectBackward0>)),\n",
       "  ('price', tensor(0.4087, device='cuda:0', grad_fn=<SelectBackward0>)),\n",
       "  ('box', tensor(0.4049, device='cuda:0', grad_fn=<SelectBackward0>)),\n",
       "  ('copy', tensor(0.3943, device='cuda:0', grad_fn=<SelectBackward0>)),\n",
       "  ('designer', tensor(0.3898, device='cuda:0', grad_fn=<SelectBackward0>)),\n",
       "  ('rating', tensor(0.3842, device='cuda:0', grad_fn=<SelectBackward0>)),\n",
       "  ('star', tensor(0.3789, device='cuda:0', grad_fn=<SelectBackward0>)),\n",
       "  ('year', tensor(0.3781, device='cuda:0', grad_fn=<SelectBackward0>)),\n",
       "  ('criteria', tensor(0.3780, device='cuda:0', grad_fn=<SelectBackward0>)),\n",
       "  ('rate', tensor(0.3648, device='cuda:0', grad_fn=<SelectBackward0>)),\n",
       "  ('sell', tensor(0.3567, device='cuda:0', grad_fn=<SelectBackward0>)),\n",
       "  ('bgg', tensor(0.3552, device='cuda:0', grad_fn=<SelectBackward0>)),\n",
       "  ('friend', tensor(0.3546, device='cuda:0', grad_fn=<SelectBackward0>)),\n",
       "  ('update', tensor(0.3468, device='cuda:0', grad_fn=<SelectBackward0>)),\n",
       "  ('hit', tensor(0.3440, device='cuda:0', grad_fn=<SelectBackward0>)),\n",
       "  ('publisher', tensor(0.3429, device='cuda:0', grad_fn=<SelectBackward0>)),\n",
       "  ('shelf', tensor(0.3361, device='cuda:0', grad_fn=<SelectBackward0>)),\n",
       "  ('edition', tensor(0.3337, device='cuda:0', grad_fn=<SelectBackward0>)),\n",
       "  ('fan', tensor(0.3315, device='cuda:0', grad_fn=<SelectBackward0>))],\n",
       " [('dynasty', tensor(0.6239, device='cuda:0', grad_fn=<SelectBackward0>)),\n",
       "  ('stale', tensor(0.6182, device='cuda:0', grad_fn=<SelectBackward0>)),\n",
       "  ('forgivable', tensor(0.6125, device='cuda:0', grad_fn=<SelectBackward0>)),\n",
       "  ('blast', tensor(0.6099, device='cuda:0', grad_fn=<SelectBackward0>)),\n",
       "  ('interest', tensor(0.6052, device='cuda:0', grad_fn=<SelectBackward0>)),\n",
       "  ('shine', tensor(0.6018, device='cuda:0', grad_fn=<SelectBackward0>)),\n",
       "  ('investigator', tensor(0.5981, device='cuda:0', grad_fn=<SelectBackward0>)),\n",
       "  ('entertainment',\n",
       "   tensor(0.5943, device='cuda:0', grad_fn=<SelectBackward0>)),\n",
       "  ('looong', tensor(0.5919, device='cuda:0', grad_fn=<SelectBackward0>)),\n",
       "  ('ready', tensor(0.5885, device='cuda:0', grad_fn=<SelectBackward0>)),\n",
       "  ('revenge', tensor(0.5871, device='cuda:0', grad_fn=<SelectBackward0>)),\n",
       "  ('wanna', tensor(0.5870, device='cuda:0', grad_fn=<SelectBackward0>)),\n",
       "  ('ramp', tensor(0.5829, device='cuda:0', grad_fn=<SelectBackward0>)),\n",
       "  ('definately', tensor(0.5823, device='cuda:0', grad_fn=<SelectBackward0>)),\n",
       "  ('cull', tensor(0.5817, device='cuda:0', grad_fn=<SelectBackward0>)),\n",
       "  ('upper', tensor(0.5815, device='cuda:0', grad_fn=<SelectBackward0>)),\n",
       "  ('unpleasant', tensor(0.5813, device='cuda:0', grad_fn=<SelectBackward0>)),\n",
       "  ('care', tensor(0.5803, device='cuda:0', grad_fn=<SelectBackward0>)),\n",
       "  ('extract', tensor(0.5802, device='cuda:0', grad_fn=<SelectBackward0>)),\n",
       "  ('reluctant', tensor(0.5781, device='cuda:0', grad_fn=<SelectBackward0>))],\n",
       " [('feel', tensor(0.7706, device='cuda:0', grad_fn=<SelectBackward0>)),\n",
       "  ('chess', tensor(0.6464, device='cuda:0', grad_fn=<SelectBackward0>)),\n",
       "  ('similar', tensor(0.6324, device='cuda:0', grad_fn=<SelectBackward0>)),\n",
       "  ('feeling', tensor(0.6308, device='cuda:0', grad_fn=<SelectBackward0>)),\n",
       "  ('like', tensor(0.6305, device='cuda:0', grad_fn=<SelectBackward0>)),\n",
       "  ('kind', tensor(0.6128, device='cuda:0', grad_fn=<SelectBackward0>)),\n",
       "  ('think', tensor(0.6038, device='cuda:0', grad_fn=<SelectBackward0>)),\n",
       "  ('slightly', tensor(0.5909, device='cuda:0', grad_fn=<SelectBackward0>)),\n",
       "  ('sound', tensor(0.5881, device='cuda:0', grad_fn=<SelectBackward0>)),\n",
       "  ('remind', tensor(0.5832, device='cuda:0', grad_fn=<SelectBackward0>)),\n",
       "  ('taste', tensor(0.5764, device='cuda:0', grad_fn=<SelectBackward0>)),\n",
       "  ('dry', tensor(0.5692, device='cuda:0', grad_fn=<SelectBackward0>)),\n",
       "  ('compare', tensor(0.5689, device='cuda:0', grad_fn=<SelectBackward0>)),\n",
       "  ('idea', tensor(0.5612, device='cuda:0', grad_fn=<SelectBackward0>)),\n",
       "  ('system', tensor(0.5390, device='cuda:0', grad_fn=<SelectBackward0>)),\n",
       "  ('abstract', tensor(0.5352, device='cuda:0', grad_fn=<SelectBackward0>)),\n",
       "  ('actually', tensor(0.5314, device='cuda:0', grad_fn=<SelectBackward0>)),\n",
       "  ('repetitive', tensor(0.5281, device='cuda:0', grad_fn=<SelectBackward0>)),\n",
       "  ('streamlined', tensor(0.5261, device='cuda:0', grad_fn=<SelectBackward0>)),\n",
       "  ('overall', tensor(0.5229, device='cuda:0', grad_fn=<SelectBackward0>))],\n",
       " [('factor', tensor(0.6825, device='cuda:0', grad_fn=<SelectBackward0>)),\n",
       "  ('luck', tensor(0.6654, device='cuda:0', grad_fn=<SelectBackward0>)),\n",
       "  ('randomness', tensor(0.6465, device='cuda:0', grad_fn=<SelectBackward0>)),\n",
       "  ('random', tensor(0.6113, device='cuda:0', grad_fn=<SelectBackward0>)),\n",
       "  ('push', tensor(0.5761, device='cuda:0', grad_fn=<SelectBackward0>)),\n",
       "  ('dependent', tensor(0.5498, device='cuda:0', grad_fn=<SelectBackward0>)),\n",
       "  ('skill', tensor(0.5274, device='cuda:0', grad_fn=<SelectBackward0>)),\n",
       "  ('mitigate', tensor(0.5220, device='cuda:0', grad_fn=<SelectBackward0>)),\n",
       "  ('draw', tensor(0.5015, device='cuda:0', grad_fn=<SelectBackward0>)),\n",
       "  ('element', tensor(0.4949, device='cuda:0', grad_fn=<SelectBackward0>)),\n",
       "  ('involve', tensor(0.4852, device='cuda:0', grad_fn=<SelectBackward0>)),\n",
       "  ('low', tensor(0.4751, device='cuda:0', grad_fn=<SelectBackward0>)),\n",
       "  ('press', tensor(0.4605, device='cuda:0', grad_fn=<SelectBackward0>)),\n",
       "  ('die', tensor(0.4516, device='cuda:0', grad_fn=<SelectBackward0>)),\n",
       "  ('write', tensor(0.4498, device='cuda:0', grad_fn=<SelectBackward0>)),\n",
       "  ('roll', tensor(0.4470, device='cuda:0', grad_fn=<SelectBackward0>)),\n",
       "  ('bad', tensor(0.4456, device='cuda:0', grad_fn=<SelectBackward0>)),\n",
       "  ('high', tensor(0.4407, device='cuda:0', grad_fn=<SelectBackward0>)),\n",
       "  ('replayability',\n",
       "   tensor(0.4395, device='cuda:0', grad_fn=<SelectBackward0>)),\n",
       "  ('base', tensor(0.4263, device='cuda:0', grad_fn=<SelectBackward0>))],\n",
       " [('write', tensor(0.4330, device='cuda:0', grad_fn=<SelectBackward0>)),\n",
       "  ('love', tensor(0.4223, device='cuda:0', grad_fn=<SelectBackward0>)),\n",
       "  ('easy', tensor(0.4023, device='cuda:0', grad_fn=<SelectBackward0>)),\n",
       "  ('pick', tensor(0.3710, device='cuda:0', grad_fn=<SelectBackward0>)),\n",
       "  ('favorite', tensor(0.3636, device='cuda:0', grad_fn=<SelectBackward0>)),\n",
       "  ('basic', tensor(0.3635, device='cuda:0', grad_fn=<SelectBackward0>)),\n",
       "  ('deliver', tensor(0.3614, device='cuda:0', grad_fn=<SelectBackward0>)),\n",
       "  ('chuck', tensor(0.3506, device='cuda:0', grad_fn=<SelectBackward0>)),\n",
       "  ('old', tensor(0.3468, device='cuda:0', grad_fn=<SelectBackward0>)),\n",
       "  ('dice', tensor(0.3464, device='cuda:0', grad_fn=<SelectBackward0>)),\n",
       "  ('fluent', tensor(0.3456, device='cuda:0', grad_fn=<SelectBackward0>)),\n",
       "  ('ages', tensor(0.3454, device='cuda:0', grad_fn=<SelectBackward0>)),\n",
       "  ('video', tensor(0.3451, device='cuda:0', grad_fn=<SelectBackward0>)),\n",
       "  ('tell', tensor(0.3447, device='cuda:0', grad_fn=<SelectBackward0>)),\n",
       "  ('annoyed', tensor(0.3447, device='cuda:0', grad_fn=<SelectBackward0>)),\n",
       "  ('house', tensor(0.3368, device='cuda:0', grad_fn=<SelectBackward0>)),\n",
       "  ('previously', tensor(0.3341, device='cuda:0', grad_fn=<SelectBackward0>)),\n",
       "  ('influential', tensor(0.3331, device='cuda:0', grad_fn=<SelectBackward0>)),\n",
       "  ('assignment', tensor(0.3296, device='cuda:0', grad_fn=<SelectBackward0>)),\n",
       "  ('adventurer', tensor(0.3290, device='cuda:0', grad_fn=<SelectBackward0>))],\n",
       " [('play', tensor(0.3758, device='cuda:0', grad_fn=<SelectBackward0>)),\n",
       "  ('group', tensor(0.2582, device='cuda:0', grad_fn=<SelectBackward0>)),\n",
       "  ('people', tensor(0.2204, device='cuda:0', grad_fn=<SelectBackward0>)),\n",
       "  ('try', tensor(0.2141, device='cuda:0', grad_fn=<SelectBackward0>)),\n",
       "  ('know', tensor(0.2004, device='cuda:0', grad_fn=<SelectBackward0>)),\n",
       "  ('get', tensor(0.1971, device='cuda:0', grad_fn=<SelectBackward0>)),\n",
       "  ('friend', tensor(0.1881, device='cuda:0', grad_fn=<SelectBackward0>)),\n",
       "  ('table', tensor(0.1791, device='cuda:0', grad_fn=<SelectBackward0>)),\n",
       "  ('year', tensor(0.1656, device='cuda:0', grad_fn=<SelectBackward0>)),\n",
       "  ('finish', tensor(0.1549, device='cuda:0', grad_fn=<SelectBackward0>)),\n",
       "  ('wait', tensor(0.1455, device='cuda:0', grad_fn=<SelectBackward0>)),\n",
       "  ('find', tensor(0.1346, device='cuda:0', grad_fn=<SelectBackward0>)),\n",
       "  ('win', tensor(0.1305, device='cuda:0', grad_fn=<SelectBackward0>)),\n",
       "  ('hour', tensor(0.1284, device='cuda:0', grad_fn=<SelectBackward0>)),\n",
       "  ('wife', tensor(0.1240, device='cuda:0', grad_fn=<SelectBackward0>)),\n",
       "  ('read', tensor(0.1231, device='cuda:0', grad_fn=<SelectBackward0>)),\n",
       "  ('person', tensor(0.1210, device='cuda:0', grad_fn=<SelectBackward0>)),\n",
       "  ('go', tensor(0.1154, device='cuda:0', grad_fn=<SelectBackward0>)),\n",
       "  ('start', tensor(0.1068, device='cuda:0', grad_fn=<SelectBackward0>)),\n",
       "  ('night', tensor(0.1056, device='cuda:0', grad_fn=<SelectBackward0>))],\n",
       " [('point', tensor(0.4165, device='cuda:0', grad_fn=<SelectBackward0>)),\n",
       "  ('score', tensor(0.3452, device='cuda:0', grad_fn=<SelectBackward0>)),\n",
       "  ('victory', tensor(0.3265, device='cuda:0', grad_fn=<SelectBackward0>)),\n",
       "  ('scoring', tensor(0.2867, device='cuda:0', grad_fn=<SelectBackward0>)),\n",
       "  ('condition', tensor(0.2840, device='cuda:0', grad_fn=<SelectBackward0>)),\n",
       "  ('opponent', tensor(0.2723, device='cuda:0', grad_fn=<SelectBackward0>)),\n",
       "  ('bonus', tensor(0.2700, device='cuda:0', grad_fn=<SelectBackward0>)),\n",
       "  ('end', tensor(0.2593, device='cuda:0', grad_fn=<SelectBackward0>)),\n",
       "  ('money', tensor(0.2552, device='cuda:0', grad_fn=<SelectBackward0>)),\n",
       "  ('player', tensor(0.2528, device='cuda:0', grad_fn=<SelectBackward0>)),\n",
       "  ('gain', tensor(0.2505, device='cuda:0', grad_fn=<SelectBackward0>)),\n",
       "  ('path', tensor(0.2312, device='cuda:0', grad_fn=<SelectBackward0>)),\n",
       "  ('round', tensor(0.2223, device='cuda:0', grad_fn=<SelectBackward0>)),\n",
       "  ('goal', tensor(0.2080, device='cuda:0', grad_fn=<SelectBackward0>)),\n",
       "  ('vp', tensor(0.2038, device='cuda:0', grad_fn=<SelectBackward0>)),\n",
       "  ('number', tensor(0.1917, device='cuda:0', grad_fn=<SelectBackward0>)),\n",
       "  ('complete', tensor(0.1906, device='cuda:0', grad_fn=<SelectBackward0>)),\n",
       "  ('win', tensor(0.1882, device='cuda:0', grad_fn=<SelectBackward0>)),\n",
       "  ('area', tensor(0.1750, device='cuda:0', grad_fn=<SelectBackward0>)),\n",
       "  ('action', tensor(0.1695, device='cuda:0', grad_fn=<SelectBackward0>))],\n",
       " [('available', tensor(0.7850, device='cuda:0', grad_fn=<SelectBackward0>)),\n",
       "  ('upgrade', tensor(0.7336, device='cuda:0', grad_fn=<SelectBackward0>)),\n",
       "  ('special', tensor(0.7324, device='cuda:0', grad_fn=<SelectBackward0>)),\n",
       "  ('extra', tensor(0.7313, device='cuda:0', grad_fn=<SelectBackward0>)),\n",
       "  ('use', tensor(0.7226, device='cuda:0', grad_fn=<SelectBackward0>)),\n",
       "  ('additional', tensor(0.7207, device='cuda:0', grad_fn=<SelectBackward0>)),\n",
       "  ('location', tensor(0.7071, device='cuda:0', grad_fn=<SelectBackward0>)),\n",
       "  ('activate', tensor(0.7062, device='cuda:0', grad_fn=<SelectBackward0>)),\n",
       "  ('power', tensor(0.7002, device='cuda:0', grad_fn=<SelectBackward0>)),\n",
       "  ('match', tensor(0.6990, device='cuda:0', grad_fn=<SelectBackward0>)),\n",
       "  ('animal', tensor(0.6969, device='cuda:0', grad_fn=<SelectBackward0>)),\n",
       "  ('market', tensor(0.6909, device='cuda:0', grad_fn=<SelectBackward0>)),\n",
       "  ('claim', tensor(0.6906, device='cuda:0', grad_fn=<SelectBackward0>)),\n",
       "  ('remove', tensor(0.6848, device='cuda:0', grad_fn=<SelectBackward0>)),\n",
       "  ('specific', tensor(0.6840, device='cuda:0', grad_fn=<SelectBackward0>)),\n",
       "  ('terrain', tensor(0.6837, device='cuda:0', grad_fn=<SelectBackward0>)),\n",
       "  ('swap', tensor(0.6806, device='cuda:0', grad_fn=<SelectBackward0>)),\n",
       "  ('double', tensor(0.6740, device='cuda:0', grad_fn=<SelectBackward0>)),\n",
       "  ('map', tensor(0.6721, device='cuda:0', grad_fn=<SelectBackward0>)),\n",
       "  ('pay', tensor(0.6718, device='cuda:0', grad_fn=<SelectBackward0>))],\n",
       " [('edition', tensor(0.4373, device='cuda:0', grad_fn=<SelectBackward0>)),\n",
       "  ('expansion', tensor(0.3987, device='cuda:0', grad_fn=<SelectBackward0>)),\n",
       "  ('version', tensor(0.3715, device='cuda:0', grad_fn=<SelectBackward0>)),\n",
       "  ('<game_name>', tensor(0.3277, device='cuda:0', grad_fn=<SelectBackward0>)),\n",
       "  ('x', tensor(0.3238, device='cuda:0', grad_fn=<SelectBackward0>)),\n",
       "  ('include', tensor(0.3235, device='cuda:0', grad_fn=<SelectBackward0>)),\n",
       "  ('pack', tensor(0.3131, device='cuda:0', grad_fn=<SelectBackward0>)),\n",
       "  ('sleeve', tensor(0.3100, device='cuda:0', grad_fn=<SelectBackward0>)),\n",
       "  ('promo', tensor(0.2965, device='cuda:0', grad_fn=<SelectBackward0>)),\n",
       "  ('box', tensor(0.2762, device='cuda:0', grad_fn=<SelectBackward0>)),\n",
       "  ('original', tensor(0.2415, device='cuda:0', grad_fn=<SelectBackward0>)),\n",
       "  ('deluxe', tensor(0.2107, device='cuda:0', grad_fn=<SelectBackward0>)),\n",
       "  ('mini', tensor(0.2005, device='cuda:0', grad_fn=<SelectBackward0>)),\n",
       "  ('mm', tensor(0.1878, device='cuda:0', grad_fn=<SelectBackward0>)),\n",
       "  ('copy', tensor(0.1782, device='cuda:0', grad_fn=<SelectBackward0>)),\n",
       "  ('print', tensor(0.1654, device='cuda:0', grad_fn=<SelectBackward0>)),\n",
       "  ('standard', tensor(0.1635, device='cuda:0', grad_fn=<SelectBackward0>)),\n",
       "  ('english', tensor(0.1450, device='cuda:0', grad_fn=<SelectBackward0>)),\n",
       "  ('games', tensor(0.1396, device='cuda:0', grad_fn=<SelectBackward0>)),\n",
       "  ('men', tensor(0.1365, device='cuda:0', grad_fn=<SelectBackward0>))],\n",
       " [('rule', tensor(0.7395, device='cuda:0', grad_fn=<SelectBackward0>)),\n",
       "  ('explain', tensor(0.5894, device='cuda:0', grad_fn=<SelectBackward0>)),\n",
       "  ('easy', tensor(0.5816, device='cuda:0', grad_fn=<SelectBackward0>)),\n",
       "  ('quick', tensor(0.5750, device='cuda:0', grad_fn=<SelectBackward0>)),\n",
       "  ('relatively', tensor(0.5713, device='cuda:0', grad_fn=<SelectBackward0>)),\n",
       "  ('learn', tensor(0.5648, device='cuda:0', grad_fn=<SelectBackward0>)),\n",
       "  ('teach', tensor(0.5619, device='cuda:0', grad_fn=<SelectBackward0>)),\n",
       "  ('fairly', tensor(0.5553, device='cuda:0', grad_fn=<SelectBackward0>)),\n",
       "  ('fast', tensor(0.5523, device='cuda:0', grad_fn=<SelectBackward0>)),\n",
       "  ('quickly', tensor(0.5256, device='cuda:0', grad_fn=<SelectBackward0>)),\n",
       "  ('difficult', tensor(0.5195, device='cuda:0', grad_fn=<SelectBackward0>)),\n",
       "  ('understand', tensor(0.5154, device='cuda:0', grad_fn=<SelectBackward0>)),\n",
       "  ('hard', tensor(0.5127, device='cuda:0', grad_fn=<SelectBackward0>)),\n",
       "  ('grasp', tensor(0.5048, device='cuda:0', grad_fn=<SelectBackward0>)),\n",
       "  ('setup', tensor(0.4791, device='cuda:0', grad_fn=<SelectBackward0>)),\n",
       "  ('super', tensor(0.4724, device='cuda:0', grad_fn=<SelectBackward0>)),\n",
       "  ('clear', tensor(0.4714, device='cuda:0', grad_fn=<SelectBackward0>)),\n",
       "  ('complex', tensor(0.4649, device='cuda:0', grad_fn=<SelectBackward0>)),\n",
       "  ('simple', tensor(0.4568, device='cuda:0', grad_fn=<SelectBackward0>)),\n",
       "  ('rulebook', tensor(0.4525, device='cuda:0', grad_fn=<SelectBackward0>))],\n",
       " [('thumbsup', tensor(0.5447, device='cuda:0', grad_fn=<SelectBackward0>)),\n",
       "  ('warped', tensor(0.5407, device='cuda:0', grad_fn=<SelectBackward0>)),\n",
       "  ('payout', tensor(0.5088, device='cuda:0', grad_fn=<SelectBackward0>)),\n",
       "  ('crank', tensor(0.5024, device='cuda:0', grad_fn=<SelectBackward0>)),\n",
       "  ('flimsy', tensor(0.4965, device='cuda:0', grad_fn=<SelectBackward0>)),\n",
       "  ('total', tensor(0.4960, device='cuda:0', grad_fn=<SelectBackward0>)),\n",
       "  ('cavalry', tensor(0.4953, device='cuda:0', grad_fn=<SelectBackward0>)),\n",
       "  ('overhead', tensor(0.4939, device='cuda:0', grad_fn=<SelectBackward0>)),\n",
       "  ('trump', tensor(0.4934, device='cuda:0', grad_fn=<SelectBackward0>)),\n",
       "  ('leave', tensor(0.4926, device='cuda:0', grad_fn=<SelectBackward0>)),\n",
       "  ('compensate', tensor(0.4921, device='cuda:0', grad_fn=<SelectBackward0>)),\n",
       "  ('grab', tensor(0.4921, device='cuda:0', grad_fn=<SelectBackward0>)),\n",
       "  ('huge', tensor(0.4918, device='cuda:0', grad_fn=<SelectBackward0>)),\n",
       "  ('lacking', tensor(0.4913, device='cuda:0', grad_fn=<SelectBackward0>)),\n",
       "  ('score', tensor(0.4910, device='cuda:0', grad_fn=<SelectBackward0>)),\n",
       "  ('edge', tensor(0.4906, device='cuda:0', grad_fn=<SelectBackward0>)),\n",
       "  ('swing', tensor(0.4845, device='cuda:0', grad_fn=<SelectBackward0>)),\n",
       "  ('compass', tensor(0.4836, device='cuda:0', grad_fn=<SelectBackward0>)),\n",
       "  ('scoring', tensor(0.4831, device='cuda:0', grad_fn=<SelectBackward0>)),\n",
       "  ('influence', tensor(0.4822, device='cuda:0', grad_fn=<SelectBackward0>))],\n",
       " [('resource', tensor(0.3301, device='cuda:0', grad_fn=<SelectBackward0>)),\n",
       "  ('building', tensor(0.3186, device='cuda:0', grad_fn=<SelectBackward0>)),\n",
       "  ('tile', tensor(0.3155, device='cuda:0', grad_fn=<SelectBackward0>)),\n",
       "  ('worker', tensor(0.3131, device='cuda:0', grad_fn=<SelectBackward0>)),\n",
       "  ('management', tensor(0.2864, device='cuda:0', grad_fn=<SelectBackward0>)),\n",
       "  ('dice', tensor(0.2775, device='cuda:0', grad_fn=<SelectBackward0>)),\n",
       "  ('card', tensor(0.1959, device='cuda:0', grad_fn=<SelectBackward0>)),\n",
       "  ('build', tensor(0.1958, device='cuda:0', grad_fn=<SelectBackward0>)),\n",
       "  ('hand', tensor(0.1911, device='cuda:0', grad_fn=<SelectBackward0>)),\n",
       "  ('cube', tensor(0.1910, device='cuda:0', grad_fn=<SelectBackward0>)),\n",
       "  ('drafting', tensor(0.1846, device='cuda:0', grad_fn=<SelectBackward0>)),\n",
       "  ('city', tensor(0.1784, device='cuda:0', grad_fn=<SelectBackward0>)),\n",
       "  ('builder', tensor(0.1648, device='cuda:0', grad_fn=<SelectBackward0>)),\n",
       "  ('market', tensor(0.1604, device='cuda:0', grad_fn=<SelectBackward0>)),\n",
       "  ('engine', tensor(0.1537, device='cuda:0', grad_fn=<SelectBackward0>)),\n",
       "  ('type', tensor(0.1389, device='cuda:0', grad_fn=<SelectBackward0>)),\n",
       "  ('tableau', tensor(0.1351, device='cuda:0', grad_fn=<SelectBackward0>)),\n",
       "  ('auction', tensor(0.1314, device='cuda:0', grad_fn=<SelectBackward0>)),\n",
       "  ('mechanism', tensor(0.1305, device='cuda:0', grad_fn=<SelectBackward0>)),\n",
       "  ('collection', tensor(0.1246, device='cuda:0', grad_fn=<SelectBackward0>))],\n",
       " [('weight', tensor(0.5650, device='cuda:0', grad_fn=<SelectBackward0>)),\n",
       "  ('family', tensor(0.5389, device='cuda:0', grad_fn=<SelectBackward0>)),\n",
       "  ('best', tensor(0.4864, device='cuda:0', grad_fn=<SelectBackward0>)),\n",
       "  ('min', tensor(0.4252, device='cuda:0', grad_fn=<SelectBackward0>)),\n",
       "  ('party', tensor(0.3996, device='cuda:0', grad_fn=<SelectBackward0>)),\n",
       "  ('recommend', tensor(0.3931, device='cuda:0', grad_fn=<SelectBackward0>)),\n",
       "  ('light', tensor(0.3911, device='cuda:0', grad_fn=<SelectBackward0>)),\n",
       "  ('filler', tensor(0.3876, device='cuda:0', grad_fn=<SelectBackward0>)),\n",
       "  ('gateway', tensor(0.3802, device='cuda:0', grad_fn=<SelectBackward0>)),\n",
       "  ('kid', tensor(0.3799, device='cuda:0', grad_fn=<SelectBackward0>)),\n",
       "  ('gamer', tensor(0.3768, device='cuda:0', grad_fn=<SelectBackward0>)),\n",
       "  ('medium', tensor(0.3690, device='cuda:0', grad_fn=<SelectBackward0>)),\n",
       "  ('cooperative', tensor(0.3642, device='cuda:0', grad_fn=<SelectBackward0>)),\n",
       "  ('favorite', tensor(0.3289, device='cuda:0', grad_fn=<SelectBackward0>)),\n",
       "  ('child', tensor(0.3279, device='cuda:0', grad_fn=<SelectBackward0>)),\n",
       "  ('highly', tensor(0.3260, device='cuda:0', grad_fn=<SelectBackward0>)),\n",
       "  ('casual', tensor(0.3190, device='cuda:0', grad_fn=<SelectBackward0>)),\n",
       "  ('age', tensor(0.3149, device='cuda:0', grad_fn=<SelectBackward0>)),\n",
       "  ('solo', tensor(0.3113, device='cuda:0', grad_fn=<SelectBackward0>)),\n",
       "  ('adult', tensor(0.3023, device='cuda:0', grad_fn=<SelectBackward0>))],\n",
       " [('art', tensor(0.4445, device='cuda:0', grad_fn=<SelectBackward0>)),\n",
       "  ('beautiful', tensor(0.4432, device='cuda:0', grad_fn=<SelectBackward0>)),\n",
       "  ('component', tensor(0.4394, device='cuda:0', grad_fn=<SelectBackward0>)),\n",
       "  ('artwork', tensor(0.4373, device='cuda:0', grad_fn=<SelectBackward0>)),\n",
       "  ('production', tensor(0.4348, device='cuda:0', grad_fn=<SelectBackward0>)),\n",
       "  ('design', tensor(0.4338, device='cuda:0', grad_fn=<SelectBackward0>)),\n",
       "  ('quality', tensor(0.4026, device='cuda:0', grad_fn=<SelectBackward0>)),\n",
       "  ('theme', tensor(0.3990, device='cuda:0', grad_fn=<SelectBackward0>)),\n",
       "  ('gorgeous', tensor(0.3159, device='cuda:0', grad_fn=<SelectBackward0>)),\n",
       "  ('graphic', tensor(0.3106, device='cuda:0', grad_fn=<SelectBackward0>)),\n",
       "  ('amazing', tensor(0.2915, device='cuda:0', grad_fn=<SelectBackward0>)),\n",
       "  ('excellent', tensor(0.2896, device='cuda:0', grad_fn=<SelectBackward0>)),\n",
       "  ('nice', tensor(0.2654, device='cuda:0', grad_fn=<SelectBackward0>)),\n",
       "  ('gameplay', tensor(0.2576, device='cuda:0', grad_fn=<SelectBackward0>)),\n",
       "  ('thematic', tensor(0.2478, device='cuda:0', grad_fn=<SelectBackward0>)),\n",
       "  ('miniature', tensor(0.2446, device='cuda:0', grad_fn=<SelectBackward0>)),\n",
       "  ('fantastic', tensor(0.2442, device='cuda:0', grad_fn=<SelectBackward0>)),\n",
       "  ('cool', tensor(0.2423, device='cuda:0', grad_fn=<SelectBackward0>)),\n",
       "  ('style', tensor(0.2319, device='cuda:0', grad_fn=<SelectBackward0>)),\n",
       "  ('great', tensor(0.2155, device='cuda:0', grad_fn=<SelectBackward0>))]]"
      ]
     },
     "execution_count": 49,
     "metadata": {},
     "output_type": "execute_result"
    }
   ],
   "execution_count": 49
  },
  {
   "metadata": {},
   "cell_type": "markdown",
   "source": [
    "I know that doing a  comparison on a single run is not that meaningful. <br>\n",
    "I could do k-CV to estimate the expected model loss to get a valid analysis. <br>\n",
    "But for the sake of the experiment we consider this good enough."
   ],
   "id": "b78cbae13b203c37"
  },
  {
   "metadata": {
    "ExecuteTime": {
     "end_time": "2025-03-19T17:18:27.526486Z",
     "start_time": "2025-03-19T17:18:27.414899Z"
    }
   },
   "cell_type": "code",
   "source": "aspects",
   "id": "21cec0d66498cf26",
   "outputs": [
    {
     "data": {
      "text/plain": [
       "[[('games', tensor(0.4446, device='cuda:0', grad_fn=<SelectBackward0>)),\n",
       "  ('review', tensor(0.4162, device='cuda:0', grad_fn=<SelectBackward0>)),\n",
       "  ('price', tensor(0.4087, device='cuda:0', grad_fn=<SelectBackward0>)),\n",
       "  ('box', tensor(0.4049, device='cuda:0', grad_fn=<SelectBackward0>)),\n",
       "  ('copy', tensor(0.3943, device='cuda:0', grad_fn=<SelectBackward0>)),\n",
       "  ('designer', tensor(0.3898, device='cuda:0', grad_fn=<SelectBackward0>)),\n",
       "  ('rating', tensor(0.3842, device='cuda:0', grad_fn=<SelectBackward0>)),\n",
       "  ('star', tensor(0.3789, device='cuda:0', grad_fn=<SelectBackward0>)),\n",
       "  ('year', tensor(0.3781, device='cuda:0', grad_fn=<SelectBackward0>)),\n",
       "  ('criteria', tensor(0.3780, device='cuda:0', grad_fn=<SelectBackward0>))],\n",
       " [('dynasty', tensor(0.6239, device='cuda:0', grad_fn=<SelectBackward0>)),\n",
       "  ('stale', tensor(0.6182, device='cuda:0', grad_fn=<SelectBackward0>)),\n",
       "  ('forgivable', tensor(0.6125, device='cuda:0', grad_fn=<SelectBackward0>)),\n",
       "  ('blast', tensor(0.6099, device='cuda:0', grad_fn=<SelectBackward0>)),\n",
       "  ('interest', tensor(0.6052, device='cuda:0', grad_fn=<SelectBackward0>)),\n",
       "  ('shine', tensor(0.6018, device='cuda:0', grad_fn=<SelectBackward0>)),\n",
       "  ('investigator', tensor(0.5981, device='cuda:0', grad_fn=<SelectBackward0>)),\n",
       "  ('entertainment',\n",
       "   tensor(0.5943, device='cuda:0', grad_fn=<SelectBackward0>)),\n",
       "  ('looong', tensor(0.5919, device='cuda:0', grad_fn=<SelectBackward0>)),\n",
       "  ('ready', tensor(0.5885, device='cuda:0', grad_fn=<SelectBackward0>))],\n",
       " [('feel', tensor(0.7706, device='cuda:0', grad_fn=<SelectBackward0>)),\n",
       "  ('chess', tensor(0.6464, device='cuda:0', grad_fn=<SelectBackward0>)),\n",
       "  ('similar', tensor(0.6324, device='cuda:0', grad_fn=<SelectBackward0>)),\n",
       "  ('feeling', tensor(0.6308, device='cuda:0', grad_fn=<SelectBackward0>)),\n",
       "  ('like', tensor(0.6305, device='cuda:0', grad_fn=<SelectBackward0>)),\n",
       "  ('kind', tensor(0.6128, device='cuda:0', grad_fn=<SelectBackward0>)),\n",
       "  ('think', tensor(0.6038, device='cuda:0', grad_fn=<SelectBackward0>)),\n",
       "  ('slightly', tensor(0.5909, device='cuda:0', grad_fn=<SelectBackward0>)),\n",
       "  ('sound', tensor(0.5881, device='cuda:0', grad_fn=<SelectBackward0>)),\n",
       "  ('remind', tensor(0.5832, device='cuda:0', grad_fn=<SelectBackward0>))],\n",
       " [('factor', tensor(0.6825, device='cuda:0', grad_fn=<SelectBackward0>)),\n",
       "  ('luck', tensor(0.6654, device='cuda:0', grad_fn=<SelectBackward0>)),\n",
       "  ('randomness', tensor(0.6465, device='cuda:0', grad_fn=<SelectBackward0>)),\n",
       "  ('random', tensor(0.6113, device='cuda:0', grad_fn=<SelectBackward0>)),\n",
       "  ('push', tensor(0.5761, device='cuda:0', grad_fn=<SelectBackward0>)),\n",
       "  ('dependent', tensor(0.5498, device='cuda:0', grad_fn=<SelectBackward0>)),\n",
       "  ('skill', tensor(0.5274, device='cuda:0', grad_fn=<SelectBackward0>)),\n",
       "  ('mitigate', tensor(0.5220, device='cuda:0', grad_fn=<SelectBackward0>)),\n",
       "  ('draw', tensor(0.5015, device='cuda:0', grad_fn=<SelectBackward0>)),\n",
       "  ('element', tensor(0.4949, device='cuda:0', grad_fn=<SelectBackward0>))],\n",
       " [('write', tensor(0.4330, device='cuda:0', grad_fn=<SelectBackward0>)),\n",
       "  ('love', tensor(0.4223, device='cuda:0', grad_fn=<SelectBackward0>)),\n",
       "  ('easy', tensor(0.4023, device='cuda:0', grad_fn=<SelectBackward0>)),\n",
       "  ('pick', tensor(0.3710, device='cuda:0', grad_fn=<SelectBackward0>)),\n",
       "  ('favorite', tensor(0.3636, device='cuda:0', grad_fn=<SelectBackward0>)),\n",
       "  ('basic', tensor(0.3635, device='cuda:0', grad_fn=<SelectBackward0>)),\n",
       "  ('deliver', tensor(0.3614, device='cuda:0', grad_fn=<SelectBackward0>)),\n",
       "  ('chuck', tensor(0.3506, device='cuda:0', grad_fn=<SelectBackward0>)),\n",
       "  ('old', tensor(0.3468, device='cuda:0', grad_fn=<SelectBackward0>)),\n",
       "  ('dice', tensor(0.3464, device='cuda:0', grad_fn=<SelectBackward0>))],\n",
       " [('play', tensor(0.3758, device='cuda:0', grad_fn=<SelectBackward0>)),\n",
       "  ('group', tensor(0.2582, device='cuda:0', grad_fn=<SelectBackward0>)),\n",
       "  ('people', tensor(0.2204, device='cuda:0', grad_fn=<SelectBackward0>)),\n",
       "  ('try', tensor(0.2141, device='cuda:0', grad_fn=<SelectBackward0>)),\n",
       "  ('know', tensor(0.2004, device='cuda:0', grad_fn=<SelectBackward0>)),\n",
       "  ('get', tensor(0.1971, device='cuda:0', grad_fn=<SelectBackward0>)),\n",
       "  ('friend', tensor(0.1881, device='cuda:0', grad_fn=<SelectBackward0>)),\n",
       "  ('table', tensor(0.1791, device='cuda:0', grad_fn=<SelectBackward0>)),\n",
       "  ('year', tensor(0.1656, device='cuda:0', grad_fn=<SelectBackward0>)),\n",
       "  ('finish', tensor(0.1549, device='cuda:0', grad_fn=<SelectBackward0>))],\n",
       " [('point', tensor(0.4165, device='cuda:0', grad_fn=<SelectBackward0>)),\n",
       "  ('score', tensor(0.3452, device='cuda:0', grad_fn=<SelectBackward0>)),\n",
       "  ('victory', tensor(0.3265, device='cuda:0', grad_fn=<SelectBackward0>)),\n",
       "  ('scoring', tensor(0.2867, device='cuda:0', grad_fn=<SelectBackward0>)),\n",
       "  ('condition', tensor(0.2840, device='cuda:0', grad_fn=<SelectBackward0>)),\n",
       "  ('opponent', tensor(0.2723, device='cuda:0', grad_fn=<SelectBackward0>)),\n",
       "  ('bonus', tensor(0.2700, device='cuda:0', grad_fn=<SelectBackward0>)),\n",
       "  ('end', tensor(0.2593, device='cuda:0', grad_fn=<SelectBackward0>)),\n",
       "  ('money', tensor(0.2552, device='cuda:0', grad_fn=<SelectBackward0>)),\n",
       "  ('player', tensor(0.2528, device='cuda:0', grad_fn=<SelectBackward0>))],\n",
       " [('available', tensor(0.7850, device='cuda:0', grad_fn=<SelectBackward0>)),\n",
       "  ('upgrade', tensor(0.7336, device='cuda:0', grad_fn=<SelectBackward0>)),\n",
       "  ('special', tensor(0.7324, device='cuda:0', grad_fn=<SelectBackward0>)),\n",
       "  ('extra', tensor(0.7313, device='cuda:0', grad_fn=<SelectBackward0>)),\n",
       "  ('use', tensor(0.7226, device='cuda:0', grad_fn=<SelectBackward0>)),\n",
       "  ('additional', tensor(0.7207, device='cuda:0', grad_fn=<SelectBackward0>)),\n",
       "  ('location', tensor(0.7071, device='cuda:0', grad_fn=<SelectBackward0>)),\n",
       "  ('activate', tensor(0.7062, device='cuda:0', grad_fn=<SelectBackward0>)),\n",
       "  ('power', tensor(0.7002, device='cuda:0', grad_fn=<SelectBackward0>)),\n",
       "  ('match', tensor(0.6990, device='cuda:0', grad_fn=<SelectBackward0>))],\n",
       " [('edition', tensor(0.4373, device='cuda:0', grad_fn=<SelectBackward0>)),\n",
       "  ('expansion', tensor(0.3987, device='cuda:0', grad_fn=<SelectBackward0>)),\n",
       "  ('version', tensor(0.3715, device='cuda:0', grad_fn=<SelectBackward0>)),\n",
       "  ('<game_name>', tensor(0.3277, device='cuda:0', grad_fn=<SelectBackward0>)),\n",
       "  ('x', tensor(0.3238, device='cuda:0', grad_fn=<SelectBackward0>)),\n",
       "  ('include', tensor(0.3235, device='cuda:0', grad_fn=<SelectBackward0>)),\n",
       "  ('pack', tensor(0.3131, device='cuda:0', grad_fn=<SelectBackward0>)),\n",
       "  ('sleeve', tensor(0.3100, device='cuda:0', grad_fn=<SelectBackward0>)),\n",
       "  ('promo', tensor(0.2965, device='cuda:0', grad_fn=<SelectBackward0>)),\n",
       "  ('box', tensor(0.2762, device='cuda:0', grad_fn=<SelectBackward0>))],\n",
       " [('rule', tensor(0.7395, device='cuda:0', grad_fn=<SelectBackward0>)),\n",
       "  ('explain', tensor(0.5894, device='cuda:0', grad_fn=<SelectBackward0>)),\n",
       "  ('easy', tensor(0.5816, device='cuda:0', grad_fn=<SelectBackward0>)),\n",
       "  ('quick', tensor(0.5750, device='cuda:0', grad_fn=<SelectBackward0>)),\n",
       "  ('relatively', tensor(0.5713, device='cuda:0', grad_fn=<SelectBackward0>)),\n",
       "  ('learn', tensor(0.5648, device='cuda:0', grad_fn=<SelectBackward0>)),\n",
       "  ('teach', tensor(0.5619, device='cuda:0', grad_fn=<SelectBackward0>)),\n",
       "  ('fairly', tensor(0.5553, device='cuda:0', grad_fn=<SelectBackward0>)),\n",
       "  ('fast', tensor(0.5523, device='cuda:0', grad_fn=<SelectBackward0>)),\n",
       "  ('quickly', tensor(0.5256, device='cuda:0', grad_fn=<SelectBackward0>))],\n",
       " [('thumbsup', tensor(0.5447, device='cuda:0', grad_fn=<SelectBackward0>)),\n",
       "  ('warped', tensor(0.5407, device='cuda:0', grad_fn=<SelectBackward0>)),\n",
       "  ('payout', tensor(0.5088, device='cuda:0', grad_fn=<SelectBackward0>)),\n",
       "  ('crank', tensor(0.5024, device='cuda:0', grad_fn=<SelectBackward0>)),\n",
       "  ('flimsy', tensor(0.4965, device='cuda:0', grad_fn=<SelectBackward0>)),\n",
       "  ('total', tensor(0.4960, device='cuda:0', grad_fn=<SelectBackward0>)),\n",
       "  ('cavalry', tensor(0.4953, device='cuda:0', grad_fn=<SelectBackward0>)),\n",
       "  ('overhead', tensor(0.4939, device='cuda:0', grad_fn=<SelectBackward0>)),\n",
       "  ('trump', tensor(0.4934, device='cuda:0', grad_fn=<SelectBackward0>)),\n",
       "  ('leave', tensor(0.4926, device='cuda:0', grad_fn=<SelectBackward0>))],\n",
       " [('resource', tensor(0.3301, device='cuda:0', grad_fn=<SelectBackward0>)),\n",
       "  ('building', tensor(0.3186, device='cuda:0', grad_fn=<SelectBackward0>)),\n",
       "  ('tile', tensor(0.3155, device='cuda:0', grad_fn=<SelectBackward0>)),\n",
       "  ('worker', tensor(0.3131, device='cuda:0', grad_fn=<SelectBackward0>)),\n",
       "  ('management', tensor(0.2864, device='cuda:0', grad_fn=<SelectBackward0>)),\n",
       "  ('dice', tensor(0.2775, device='cuda:0', grad_fn=<SelectBackward0>)),\n",
       "  ('card', tensor(0.1959, device='cuda:0', grad_fn=<SelectBackward0>)),\n",
       "  ('build', tensor(0.1958, device='cuda:0', grad_fn=<SelectBackward0>)),\n",
       "  ('hand', tensor(0.1911, device='cuda:0', grad_fn=<SelectBackward0>)),\n",
       "  ('cube', tensor(0.1910, device='cuda:0', grad_fn=<SelectBackward0>))],\n",
       " [('weight', tensor(0.5650, device='cuda:0', grad_fn=<SelectBackward0>)),\n",
       "  ('family', tensor(0.5389, device='cuda:0', grad_fn=<SelectBackward0>)),\n",
       "  ('best', tensor(0.4864, device='cuda:0', grad_fn=<SelectBackward0>)),\n",
       "  ('min', tensor(0.4252, device='cuda:0', grad_fn=<SelectBackward0>)),\n",
       "  ('party', tensor(0.3996, device='cuda:0', grad_fn=<SelectBackward0>)),\n",
       "  ('recommend', tensor(0.3931, device='cuda:0', grad_fn=<SelectBackward0>)),\n",
       "  ('light', tensor(0.3911, device='cuda:0', grad_fn=<SelectBackward0>)),\n",
       "  ('filler', tensor(0.3876, device='cuda:0', grad_fn=<SelectBackward0>)),\n",
       "  ('gateway', tensor(0.3802, device='cuda:0', grad_fn=<SelectBackward0>)),\n",
       "  ('kid', tensor(0.3799, device='cuda:0', grad_fn=<SelectBackward0>))],\n",
       " [('art', tensor(0.4445, device='cuda:0', grad_fn=<SelectBackward0>)),\n",
       "  ('beautiful', tensor(0.4432, device='cuda:0', grad_fn=<SelectBackward0>)),\n",
       "  ('component', tensor(0.4394, device='cuda:0', grad_fn=<SelectBackward0>)),\n",
       "  ('artwork', tensor(0.4373, device='cuda:0', grad_fn=<SelectBackward0>)),\n",
       "  ('production', tensor(0.4348, device='cuda:0', grad_fn=<SelectBackward0>)),\n",
       "  ('design', tensor(0.4338, device='cuda:0', grad_fn=<SelectBackward0>)),\n",
       "  ('quality', tensor(0.4026, device='cuda:0', grad_fn=<SelectBackward0>)),\n",
       "  ('theme', tensor(0.3990, device='cuda:0', grad_fn=<SelectBackward0>)),\n",
       "  ('gorgeous', tensor(0.3159, device='cuda:0', grad_fn=<SelectBackward0>)),\n",
       "  ('graphic', tensor(0.3106, device='cuda:0', grad_fn=<SelectBackward0>))]]"
      ]
     },
     "execution_count": 4,
     "metadata": {},
     "output_type": "execute_result"
    }
   ],
   "execution_count": 4
  },
  {
   "metadata": {},
   "cell_type": "markdown",
   "source": [
    "## NOUN only\n",
    "I expect this to utterly fail in the task as we loose sentence structure which ABAE sounds to be abusing. <br>\n",
    "Being based on word2vec embeddings this kind of pre-processing should be harmful I suppose."
   ],
   "id": "45effeec64f11cdd"
  },
  {
   "metadata": {
    "ExecuteTime": {
     "end_time": "2025-03-15T17:51:00.945403Z",
     "start_time": "2025-03-15T17:50:59.822545Z"
    }
   },
   "cell_type": "code",
   "source": [
    "from main.lda.pre_processing import extract_pos_ds\n",
    "import pandas as pd\n",
    "\n",
    "print(\"Creating the __noun filtered ds:\")\n",
    "corpus_path = \"../dataset/output/pos_tagged/pre_processed.80k.csv\"\n",
    "store_path = \"../dataset/output/pos_tagged/pre_processed.80k.noun_only.csv\"\n",
    "extract_pos_ds(pd.read_csv(corpus_path)['comments'], \"__noun\", store_path)\n",
    "print(\"ds created under: \" + store_path)\n",
    "\n",
    "print(\"Creating the __noun filtered test ds:\")\n",
    "corpus_path = \"../dataset/output/pos_tagged/pre_processed.80k.test.csv\"\n",
    "store_path = \"../dataset/output/pos_tagged/pre_processed.80k.noun_only.test.csv\"\n",
    "extract_pos_ds(pd.read_csv(corpus_path)['comments'], \"__noun\", store_path)\n",
    "print(\"ds created under: \" + store_path)"
   ],
   "id": "86ec4d3d3c01530c",
   "outputs": [
    {
     "name": "stdout",
     "output_type": "stream",
     "text": [
      "Creating the __noun filtered ds:\n"
     ]
    },
    {
     "data": {
      "text/plain": [
       "Pandas Apply:   0%|          | 0/60701 [00:00<?, ?it/s]"
      ],
      "application/vnd.jupyter.widget-view+json": {
       "version_major": 2,
       "version_minor": 0,
       "model_id": "312f6c9017ba4032a71db92b14e073f0"
      }
     },
     "metadata": {},
     "output_type": "display_data"
    },
    {
     "data": {
      "text/plain": [
       "Pandas Apply:   0%|          | 0/60701 [00:00<?, ?it/s]"
      ],
      "application/vnd.jupyter.widget-view+json": {
       "version_major": 2,
       "version_minor": 0,
       "model_id": "45de47fd5d6d4d139785baed72f11d2f"
      }
     },
     "metadata": {},
     "output_type": "display_data"
    },
    {
     "name": "stdout",
     "output_type": "stream",
     "text": [
      "ds created under: ../dataset/output/pos_tagged/pre_processed.80k.noun_only.csv\n",
      "Creating the __noun filtered test ds:\n"
     ]
    },
    {
     "data": {
      "text/plain": [
       "Pandas Apply:   0%|          | 0/20234 [00:00<?, ?it/s]"
      ],
      "application/vnd.jupyter.widget-view+json": {
       "version_major": 2,
       "version_minor": 0,
       "model_id": "830d69bd535142e88ae2ee6a303ce9ec"
      }
     },
     "metadata": {},
     "output_type": "display_data"
    },
    {
     "data": {
      "text/plain": [
       "Pandas Apply:   0%|          | 0/20234 [00:00<?, ?it/s]"
      ],
      "application/vnd.jupyter.widget-view+json": {
       "version_major": 2,
       "version_minor": 0,
       "model_id": "fdf88491887a46d9a7d70f3aa097b98c"
      }
     },
     "metadata": {},
     "output_type": "display_data"
    },
    {
     "name": "stdout",
     "output_type": "stream",
     "text": [
      "ds created under: ../dataset/output/pos_tagged/pre_processed.80k.noun_only.test.csv\n"
     ]
    }
   ],
   "execution_count": 5
  },
  {
   "metadata": {
    "ExecuteTime": {
     "end_time": "2025-03-19T16:18:09.656409Z",
     "start_time": "2025-03-19T15:53:49.723754Z"
    }
   },
   "cell_type": "code",
   "source": [
    "corpus_path = \"../dataset/output/pos_tagged/pre_processed.80k.noun_only.csv\"\n",
    "test_corpus_path = \"../dataset/output/pos_tagged/pre_processed.80k.noun_only.test.csv\"\n",
    "\n",
    "manager = ABAEManager.from_scratch(ABAEManagerConfig('noun_only'), corpus_path)\n",
    "manager.train(corpus_path, verbose=2)\n",
    "res = manager.evaluate([20, 10, 5, 3], test_corpus=test_corpus_path)"
   ],
   "id": "1122e985147b038b",
   "outputs": [
    {
     "data": {
      "text/plain": [
       "Pandas Apply:   0%|          | 0/51995 [00:00<?, ?it/s]"
      ],
      "application/vnd.jupyter.widget-view+json": {
       "version_major": 2,
       "version_minor": 0,
       "model_id": "804194b83dcf4506923521498105cc32"
      }
     },
     "metadata": {},
     "output_type": "display_data"
    },
    {
     "name": "stderr",
     "output_type": "stream",
     "text": [
      "D:\\PycharmProjects\\nlp-course-project\\.venv\\Lib\\site-packages\\gensim\\models\\keyedvectors.py:551: UserWarning: Adding single vectors to a KeyedVectors which grows by one each time can be costly. Consider adding in batches or preallocating to the required size.\n",
      "  warnings.warn(\n",
      "WARNING:gensim.models.keyedvectors:sorting after vectors have been allocated is expensive & error-prone\n"
     ]
    },
    {
     "name": "stdout",
     "output_type": "stream",
     "text": [
      "Creating new Aspect embedding model\n",
      "\n",
      "Generating numeric representation for each word of ds.\n"
     ]
    },
    {
     "data": {
      "text/plain": [
       "Pandas Apply:   0%|          | 0/51995 [00:00<?, ?it/s]"
      ],
      "application/vnd.jupyter.widget-view+json": {
       "version_major": 2,
       "version_minor": 0,
       "model_id": "90cc634711f444d79c1f13375b8fc587"
      }
     },
     "metadata": {},
     "output_type": "display_data"
    },
    {
     "name": "stdout",
     "output_type": "stream",
     "text": [
      "Max sequence length calculation in progress...\n",
      "We loose information on 191(0.3673430137513222% of ds).\n",
      "Generating a new compiled model from scratch\n",
      "Training is starting:\n",
      "Epoch 1/15\n",
      "407/407 - 101s - 249ms/step - loss: 9.0340 - max_margin_loss: 9.0234\n",
      "Epoch 2/15\n",
      "407/407 - 102s - 251ms/step - loss: 5.7994 - max_margin_loss: 5.7975\n",
      "Epoch 3/15\n",
      "407/407 - 101s - 247ms/step - loss: 5.6593 - max_margin_loss: 5.6584\n",
      "Epoch 4/15\n",
      "407/407 - 93s - 228ms/step - loss: 5.6012 - max_margin_loss: 5.6011\n",
      "Epoch 5/15\n",
      "407/407 - 96s - 235ms/step - loss: 5.5773 - max_margin_loss: 5.5765\n",
      "Epoch 6/15\n",
      "407/407 - 91s - 225ms/step - loss: 5.5658 - max_margin_loss: 5.5645\n",
      "Epoch 7/15\n",
      "407/407 - 91s - 224ms/step - loss: 5.5454 - max_margin_loss: 5.5439\n",
      "Epoch 8/15\n",
      "407/407 - 91s - 223ms/step - loss: 5.5357 - max_margin_loss: 5.5339\n",
      "Epoch 9/15\n",
      "407/407 - 93s - 228ms/step - loss: 5.5175 - max_margin_loss: 5.5152\n",
      "Epoch 10/15\n",
      "407/407 - 89s - 220ms/step - loss: 5.5071 - max_margin_loss: 5.5060\n",
      "Epoch 11/15\n",
      "407/407 - 89s - 219ms/step - loss: 5.4924 - max_margin_loss: 5.4907\n",
      "Epoch 12/15\n",
      "407/407 - 89s - 219ms/step - loss: 5.4983 - max_margin_loss: 5.4977\n",
      "Epoch 13/15\n",
      "407/407 - 89s - 219ms/step - loss: 5.4860 - max_margin_loss: 5.4841\n",
      "Epoch 14/15\n",
      "407/407 - 89s - 219ms/step - loss: 5.4828 - max_margin_loss: 5.4815\n",
      "Epoch 15/15\n",
      "407/407 - 89s - 218ms/step - loss: 5.4803 - max_margin_loss: 5.4781\n",
      "Generating numeric representation for each word of ds.\n"
     ]
    },
    {
     "data": {
      "text/plain": [
       "Pandas Apply:   0%|          | 0/17733 [00:00<?, ?it/s]"
      ],
      "application/vnd.jupyter.widget-view+json": {
       "version_major": 2,
       "version_minor": 0,
       "model_id": "6aa5cca6678742178bbdb41afcbf68ba"
      }
     },
     "metadata": {},
     "output_type": "display_data"
    },
    {
     "name": "stdout",
     "output_type": "stream",
     "text": [
      "Max sequence length calculation in progress...\n",
      "We loose information on 87(0.4906107257655219% of ds).\n",
      "\u001B[1m139/139\u001B[0m \u001B[32m━━━━━━━━━━━━━━━━━━━━\u001B[0m\u001B[37m\u001B[0m \u001B[1m15s\u001B[0m 108ms/step - loss: 5.4558 - max_margin_loss: 5.4543\n",
      "Generating numeric representation for each word of ds.\n"
     ]
    },
    {
     "data": {
      "text/plain": [
       "Pandas Apply:   0%|          | 0/17733 [00:00<?, ?it/s]"
      ],
      "application/vnd.jupyter.widget-view+json": {
       "version_major": 2,
       "version_minor": 0,
       "model_id": "4ee8bca7fa054938926c87970ca7d5ba"
      }
     },
     "metadata": {},
     "output_type": "display_data"
    },
    {
     "name": "stdout",
     "output_type": "stream",
     "text": [
      "Max sequence length calculation in progress...\n",
      "We loose information on 87(0.4906107257655219% of ds).\n",
      "\u001B[1m35/35\u001B[0m \u001B[32m━━━━━━━━━━━━━━━━━━━━\u001B[0m\u001B[37m\u001B[0m \u001B[1m0s\u001B[0m 10ms/step\n"
     ]
    },
    {
     "data": {
      "text/plain": [
       "Pandas Apply:   0%|          | 0/17733 [00:00<?, ?it/s]"
      ],
      "application/vnd.jupyter.widget-view+json": {
       "version_major": 2,
       "version_minor": 0,
       "model_id": "2872dd6d5b5e4b038bac7216e887e0d8"
      }
     },
     "metadata": {},
     "output_type": "display_data"
    },
    {
     "data": {
      "text/plain": [
       "Pandas Apply:   0%|          | 0/17733 [00:00<?, ?it/s]"
      ],
      "application/vnd.jupyter.widget-view+json": {
       "version_major": 2,
       "version_minor": 0,
       "model_id": "9f270b78c8fd4454b922819a99471a00"
      }
     },
     "metadata": {},
     "output_type": "display_data"
    },
    {
     "data": {
      "text/plain": [
       "Pandas Apply:   0%|          | 0/17733 [00:00<?, ?it/s]"
      ],
      "application/vnd.jupyter.widget-view+json": {
       "version_major": 2,
       "version_minor": 0,
       "model_id": "60b5f10e5b284536b838d5ffbd5032af"
      }
     },
     "metadata": {},
     "output_type": "display_data"
    },
    {
     "data": {
      "text/plain": [
       "Pandas Apply:   0%|          | 0/17733 [00:00<?, ?it/s]"
      ],
      "application/vnd.jupyter.widget-view+json": {
       "version_major": 2,
       "version_minor": 0,
       "model_id": "ee0fefdb37174c189aa081f34733302b"
      }
     },
     "metadata": {},
     "output_type": "display_data"
    }
   ],
   "execution_count": 5
  },
  {
   "metadata": {
    "ExecuteTime": {
     "end_time": "2025-03-19T16:18:09.674131Z",
     "start_time": "2025-03-19T16:18:09.669685Z"
    }
   },
   "cell_type": "code",
   "source": "pprint(res)",
   "id": "99ce52abc48b5f2b",
   "outputs": [
    {
     "name": "stdout",
     "output_type": "stream",
     "text": [
      "{'coherence': [-8.948873045807769,\n",
      "               -7.445881505510981,\n",
      "               -6.305143535846072,\n",
      "               -5.799752060521229],\n",
      " 'loss': [5.478001117706299, 5.478464126586914],\n",
      " 'silhouette_score': 0.1511905938386917,\n",
      " 'top': [20, 10, 5, 3]}\n"
     ]
    }
   ],
   "execution_count": 6
  },
  {
   "metadata": {},
   "cell_type": "markdown",
   "source": "For the future work and as one by the proposed ABAE paper we won't be splitting up reviews in sentences but use the full review as the model does not increase much in performance if not done like this.",
   "id": "5b4c80db434e5d1"
  },
  {
   "metadata": {},
   "cell_type": "markdown",
   "source": "## Hyperparameters tuning results",
   "id": "d6cadc1254bf9f0d"
  },
  {
   "metadata": {
    "ExecuteTime": {
     "end_time": "2025-03-19T18:05:34.139283Z",
     "start_time": "2025-03-19T18:05:34.131218Z"
    }
   },
   "cell_type": "code",
   "source": [
    "import json\n",
    "import pandas as pd\n",
    "\n",
    "file_path = \"./output/config/abae_configurations_results.json\"\n",
    "configs = [\n",
    "    pd.DataFrame(json.load(open(file_path))).at[11, 'config'],\n",
    "    pd.DataFrame(json.load(open(file_path))).at[20, 'config'],\n",
    "    # These two perform worse but have a lower variance which might result in a more robust solution\n",
    "    pd.DataFrame(json.load(open(file_path))).at[14, 'config'],\n",
    "    pd.DataFrame(json.load(open(file_path))).at[15, 'config'],\n",
    "]\n",
    "\n",
    "runs = [\n",
    "    dict(config=ABAEManagerConfig.from_configuration(f\"final_full_{i}\", configs[i]), results=[], model=None)\n",
    "    for i in range(len(configs))\n",
    "]"
   ],
   "id": "aeccf89df8948f94",
   "outputs": [],
   "execution_count": 16
  },
  {
   "metadata": {},
   "cell_type": "markdown",
   "source": "Run on configs",
   "id": "cb2dc40b0e17a261"
  },
  {
   "metadata": {
    "ExecuteTime": {
     "end_time": "2025-03-19T18:05:04.102046Z",
     "start_time": "2025-03-19T18:05:04.099581Z"
    }
   },
   "cell_type": "code",
   "source": [
    "corpus = \"../dataset/output/default/pre_processed.310k.csv\"\n",
    "test_corpus_path = \"../dataset/output/default/pre_processed.310k.test.csv\""
   ],
   "id": "b8a7d5729b1ba56d",
   "outputs": [],
   "execution_count": 11
  },
  {
   "metadata": {},
   "cell_type": "code",
   "source": [
    "for run in runs:\n",
    "    manager = ABAEManager.from_scratch(run['config'], corpus, override=True)\n",
    "    manager.train(corpus, verbose=2)\n",
    "    run['results'] = manager.evaluate([20, 10, 5, 3], test_corpus=test_corpus_path)\n",
    "    run['model'] = manager.get_compiled_model(load_existing=True)\n",
    "\n",
    "    # Still print the results in output.\n",
    "    pprint(run['results'])"
   ],
   "id": "38d3ddb5d7c59886",
   "outputs": [],
   "execution_count": null
  },
  {
   "metadata": {
    "ExecuteTime": {
     "end_time": "2025-03-19T22:45:17.821013Z",
     "start_time": "2025-03-19T22:45:16.379484Z"
    }
   },
   "cell_type": "code",
   "source": [
    "config = ABAEManagerConfig('final_full_1')\n",
    "manager = ABAEManager.from_scratch(config, corpus_path)\n",
    "manager.get_compiled_model(load_existing=True)\n",
    "processor = manager.make_ev_processor(test_corpus_path)\n",
    "\n",
    "aspects = processor.get_aspects(15)"
   ],
   "id": "af64a8c0e1b0897f",
   "outputs": [
    {
     "data": {
      "text/plain": [
       "Pandas Apply:   0%|          | 0/233897 [00:00<?, ?it/s]"
      ],
      "application/vnd.jupyter.widget-view+json": {
       "version_major": 2,
       "version_minor": 0,
       "model_id": "55ab222518c44be0a762793dbd90ae1b"
      }
     },
     "metadata": {},
     "output_type": "display_data"
    },
    {
     "name": "stdout",
     "output_type": "stream",
     "text": [
      "Loading the existing found model as requested in path ./output/final_full_1/final_full_1.aspect_embeddings.model\n",
      "Generating a new compiled model from fs\n"
     ]
    }
   ],
   "execution_count": 39
  },
  {
   "metadata": {
    "ExecuteTime": {
     "end_time": "2025-03-19T22:49:36.132498Z",
     "start_time": "2025-03-19T22:49:35.538279Z"
    }
   },
   "cell_type": "code",
   "source": [
    "aspects = processor.get_aspects(20)\n",
    "aspects"
   ],
   "id": "efcb5fa4dade295f",
   "outputs": [
    {
     "data": {
      "text/plain": [
       "[[('mode', tensor(0.5173, device='cuda:0', grad_fn=<SelectBackward0>)),\n",
       "  ('solo', tensor(0.5006, device='cuda:0', grad_fn=<SelectBackward0>)),\n",
       "  ('varied', tensor(0.4984, device='cuda:0', grad_fn=<SelectBackward0>)),\n",
       "  ('progression', tensor(0.4800, device='cuda:0', grad_fn=<SelectBackward0>)),\n",
       "  ('differently', tensor(0.4707, device='cuda:0', grad_fn=<SelectBackward0>)),\n",
       "  ('variability', tensor(0.4523, device='cuda:0', grad_fn=<SelectBackward0>)),\n",
       "  ('challenging', tensor(0.4435, device='cuda:0', grad_fn=<SelectBackward0>)),\n",
       "  ('campaign', tensor(0.4395, device='cuda:0', grad_fn=<SelectBackward0>)),\n",
       "  ('variety', tensor(0.4295, device='cuda:0', grad_fn=<SelectBackward0>)),\n",
       "  ('enhance', tensor(0.4290, device='cuda:0', grad_fn=<SelectBackward0>)),\n",
       "  ('scenario', tensor(0.4259, device='cuda:0', grad_fn=<SelectBackward0>)),\n",
       "  ('bot', tensor(0.4176, device='cuda:0', grad_fn=<SelectBackward0>)),\n",
       "  ('evolve', tensor(0.4160, device='cuda:0', grad_fn=<SelectBackward0>)),\n",
       "  ('improve', tensor(0.4108, device='cuda:0', grad_fn=<SelectBackward0>)),\n",
       "  ('unlock', tensor(0.4095, device='cuda:0', grad_fn=<SelectBackward0>)),\n",
       "  ('arc', tensor(0.4049, device='cuda:0', grad_fn=<SelectBackward0>)),\n",
       "  ('unique', tensor(0.4041, device='cuda:0', grad_fn=<SelectBackward0>)),\n",
       "  ('individual', tensor(0.4020, device='cuda:0', grad_fn=<SelectBackward0>)),\n",
       "  ('variable', tensor(0.3958, device='cuda:0', grad_fn=<SelectBackward0>)),\n",
       "  ('rewarding', tensor(0.3902, device='cuda:0', grad_fn=<SelectBackward0>))],\n",
       " [('bggweight', tensor(0.5167, device='cuda:0', grad_fn=<SelectBackward0>)),\n",
       "  ('scott', tensor(0.4998, device='cuda:0', grad_fn=<SelectBackward0>)),\n",
       "  ('bggsolorate', tensor(0.4986, device='cuda:0', grad_fn=<SelectBackward0>)),\n",
       "  ('inductive', tensor(0.4870, device='cuda:0', grad_fn=<SelectBackward0>)),\n",
       "  ('walker', tensor(0.4851, device='cuda:0', grad_fn=<SelectBackward0>)),\n",
       "  ('solofun', tensor(0.4776, device='cuda:0', grad_fn=<SelectBackward0>)),\n",
       "  ('eklund', tensor(0.4773, device='cuda:0', grad_fn=<SelectBackward0>)),\n",
       "  ('matt', tensor(0.4764, device='cuda:0', grad_fn=<SelectBackward0>)),\n",
       "  ('arsène', tensor(0.4745, device='cuda:0', grad_fn=<SelectBackward0>)),\n",
       "  ('le', tensor(0.4737, device='cuda:0', grad_fn=<SelectBackward0>)),\n",
       "  ('oca', tensor(0.4644, device='cuda:0', grad_fn=<SelectBackward0>)),\n",
       "  ('speechless', tensor(0.4611, device='cuda:0', grad_fn=<SelectBackward0>)),\n",
       "  ('r', tensor(0.4585, device='cuda:0', grad_fn=<SelectBackward0>)),\n",
       "  ('navir', tensor(0.4581, device='cuda:0', grad_fn=<SelectBackward0>)),\n",
       "  ('ratings', tensor(0.4543, device='cuda:0', grad_fn=<SelectBackward0>)),\n",
       "  ('jose', tensor(0.4530, device='cuda:0', grad_fn=<SelectBackward0>)),\n",
       "  ('eva', tensor(0.4515, device='cuda:0', grad_fn=<SelectBackward0>)),\n",
       "  ('harding', tensor(0.4511, device='cuda:0', grad_fn=<SelectBackward0>)),\n",
       "  ('leacock', tensor(0.4505, device='cuda:0', grad_fn=<SelectBackward0>)),\n",
       "  ('e', tensor(0.4505, device='cuda:0', grad_fn=<SelectBackward0>))],\n",
       " [('instruction', tensor(0.7353, device='cuda:0', grad_fn=<SelectBackward0>)),\n",
       "  ('rulebook', tensor(0.7175, device='cuda:0', grad_fn=<SelectBackward0>)),\n",
       "  ('manual', tensor(0.7158, device='cuda:0', grad_fn=<SelectBackward0>)),\n",
       "  ('rule', tensor(0.6908, device='cuda:0', grad_fn=<SelectBackward0>)),\n",
       "  ('terminology', tensor(0.6806, device='cuda:0', grad_fn=<SelectBackward0>)),\n",
       "  ('page', tensor(0.6615, device='cuda:0', grad_fn=<SelectBackward0>)),\n",
       "  ('booklet', tensor(0.6382, device='cuda:0', grad_fn=<SelectBackward0>)),\n",
       "  ('symbology', tensor(0.6107, device='cuda:0', grad_fn=<SelectBackward0>)),\n",
       "  ('faq', tensor(0.6085, device='cuda:0', grad_fn=<SelectBackward0>)),\n",
       "  ('errata', tensor(0.6067, device='cuda:0', grad_fn=<SelectBackward0>)),\n",
       "  ('wording', tensor(0.6056, device='cuda:0', grad_fn=<SelectBackward0>)),\n",
       "  ('reference', tensor(0.6001, device='cuda:0', grad_fn=<SelectBackward0>)),\n",
       "  ('iconography', tensor(0.5950, device='cuda:0', grad_fn=<SelectBackward0>)),\n",
       "  ('refer', tensor(0.5940, device='cuda:0', grad_fn=<SelectBackward0>)),\n",
       "  ('translation', tensor(0.5934, device='cuda:0', grad_fn=<SelectBackward0>)),\n",
       "  ('reminder', tensor(0.5900, device='cuda:0', grad_fn=<SelectBackward0>)),\n",
       "  ('rules', tensor(0.5872, device='cuda:0', grad_fn=<SelectBackward0>)),\n",
       "  ('clarify', tensor(0.5863, device='cuda:0', grad_fn=<SelectBackward0>)),\n",
       "  ('clarification',\n",
       "   tensor(0.5764, device='cuda:0', grad_fn=<SelectBackward0>)),\n",
       "  ('icon', tensor(0.5688, device='cuda:0', grad_fn=<SelectBackward0>))],\n",
       " [('ganz', tensor(0.5418, device='cuda:0', grad_fn=<SelectBackward0>)),\n",
       "  ('mash', tensor(0.5302, device='cuda:0', grad_fn=<SelectBackward0>)),\n",
       "  ('burgundy', tensor(0.5291, device='cuda:0', grad_fn=<SelectBackward0>)),\n",
       "  ('mechanism', tensor(0.5251, device='cuda:0', grad_fn=<SelectBackward0>)),\n",
       "  ('vein', tensor(0.4868, device='cuda:0', grad_fn=<SelectBackward0>)),\n",
       "  ('schön', tensor(0.4709, device='cuda:0', grad_fn=<SelectBackward0>)),\n",
       "  ('mish', tensor(0.4630, device='cuda:0', grad_fn=<SelectBackward0>)),\n",
       "  ('mechanic', tensor(0.4593, device='cuda:0', grad_fn=<SelectBackward0>)),\n",
       "  ('albeit', tensor(0.4582, device='cuda:0', grad_fn=<SelectBackward0>)),\n",
       "  ('schon', tensor(0.4580, device='cuda:0', grad_fn=<SelectBackward0>)),\n",
       "  ('feld', tensor(0.4564, device='cuda:0', grad_fn=<SelectBackward0>)),\n",
       "  ('puzzly', tensor(0.4561, device='cuda:0', grad_fn=<SelectBackward0>)),\n",
       "  ('polyomino', tensor(0.4518, device='cuda:0', grad_fn=<SelectBackward0>)),\n",
       "  ('domino', tensor(0.4376, device='cuda:0', grad_fn=<SelectBackward0>)),\n",
       "  ('gambling', tensor(0.4357, device='cuda:0', grad_fn=<SelectBackward0>)),\n",
       "  ('bingo', tensor(0.4352, device='cuda:0', grad_fn=<SelectBackward0>)),\n",
       "  ('workerplacement',\n",
       "   tensor(0.4312, device='cuda:0', grad_fn=<SelectBackward0>)),\n",
       "  ('yahtzee', tensor(0.4308, device='cuda:0', grad_fn=<SelectBackward0>)),\n",
       "  ('drafting', tensor(0.4296, device='cuda:0', grad_fn=<SelectBackward0>)),\n",
       "  ('spatial', tensor(0.4277, device='cuda:0', grad_fn=<SelectBackward0>))],\n",
       " [('pilot', tensor(0.6375, device='cuda:0', grad_fn=<SelectBackward0>)),\n",
       "  ('spell', tensor(0.6144, device='cuda:0', grad_fn=<SelectBackward0>)),\n",
       "  ('weapon', tensor(0.6109, device='cuda:0', grad_fn=<SelectBackward0>)),\n",
       "  ('summon', tensor(0.6070, device='cuda:0', grad_fn=<SelectBackward0>)),\n",
       "  ('encounter', tensor(0.5977, device='cuda:0', grad_fn=<SelectBackward0>)),\n",
       "  ('equipment', tensor(0.5974, device='cuda:0', grad_fn=<SelectBackward0>)),\n",
       "  ('enemy', tensor(0.5921, device='cuda:0', grad_fn=<SelectBackward0>)),\n",
       "  ('loot', tensor(0.5480, device='cuda:0', grad_fn=<SelectBackward0>)),\n",
       "  ('hero', tensor(0.5422, device='cuda:0', grad_fn=<SelectBackward0>)),\n",
       "  ('minion', tensor(0.5411, device='cuda:0', grad_fn=<SelectBackward0>)),\n",
       "  ('squadron', tensor(0.5388, device='cuda:0', grad_fn=<SelectBackward0>)),\n",
       "  ('boss', tensor(0.5376, device='cuda:0', grad_fn=<SelectBackward0>)),\n",
       "  ('baddie', tensor(0.5322, device='cuda:0', grad_fn=<SelectBackward0>)),\n",
       "  ('health', tensor(0.5311, device='cuda:0', grad_fn=<SelectBackward0>)),\n",
       "  ('cast', tensor(0.5289, device='cuda:0', grad_fn=<SelectBackward0>)),\n",
       "  ('aircraft', tensor(0.5271, device='cuda:0', grad_fn=<SelectBackward0>)),\n",
       "  ('equip', tensor(0.5261, device='cuda:0', grad_fn=<SelectBackward0>)),\n",
       "  ('spawn', tensor(0.5260, device='cuda:0', grad_fn=<SelectBackward0>)),\n",
       "  ('heal', tensor(0.5260, device='cuda:0', grad_fn=<SelectBackward0>)),\n",
       "  ('mob', tensor(0.5251, device='cuda:0', grad_fn=<SelectBackward0>))],\n",
       " [('accessible', tensor(0.6187, device='cuda:0', grad_fn=<SelectBackward0>)),\n",
       "  ('teach', tensor(0.5929, device='cuda:0', grad_fn=<SelectBackward0>)),\n",
       "  ('quick', tensor(0.5870, device='cuda:0', grad_fn=<SelectBackward0>)),\n",
       "  ('relatively', tensor(0.5754, device='cuda:0', grad_fn=<SelectBackward0>)),\n",
       "  ('simple', tensor(0.5703, device='cuda:0', grad_fn=<SelectBackward0>)),\n",
       "  ('suitable', tensor(0.5524, device='cuda:0', grad_fn=<SelectBackward0>)),\n",
       "  ('deep', tensor(0.5359, device='cuda:0', grad_fn=<SelectBackward0>)),\n",
       "  ('light', tensor(0.5220, device='cuda:0', grad_fn=<SelectBackward0>)),\n",
       "  ('approachable', tensor(0.5210, device='cuda:0', grad_fn=<SelectBackward0>)),\n",
       "  ('fast', tensor(0.5170, device='cuda:0', grad_fn=<SelectBackward0>)),\n",
       "  ('depth', tensor(0.5128, device='cuda:0', grad_fn=<SelectBackward0>)),\n",
       "  ('thinky', tensor(0.5104, device='cuda:0', grad_fn=<SelectBackward0>)),\n",
       "  ('manageable', tensor(0.5021, device='cuda:0', grad_fn=<SelectBackward0>)),\n",
       "  ('fun', tensor(0.5015, device='cuda:0', grad_fn=<SelectBackward0>)),\n",
       "  ('meaty', tensor(0.4985, device='cuda:0', grad_fn=<SelectBackward0>)),\n",
       "  ('complex', tensor(0.4982, device='cuda:0', grad_fn=<SelectBackward0>)),\n",
       "  ('easy', tensor(0.4940, device='cuda:0', grad_fn=<SelectBackward0>)),\n",
       "  ('great', tensor(0.4918, device='cuda:0', grad_fn=<SelectBackward0>)),\n",
       "  ('ideal', tensor(0.4868, device='cuda:0', grad_fn=<SelectBackward0>)),\n",
       "  ('explain', tensor(0.4867, device='cuda:0', grad_fn=<SelectBackward0>))],\n",
       " [('tts', tensor(0.6843, device='cuda:0', grad_fn=<SelectBackward0>)),\n",
       "  ('nephew', tensor(0.6804, device='cuda:0', grad_fn=<SelectBackward0>)),\n",
       "  ('dad', tensor(0.6720, device='cuda:0', grad_fn=<SelectBackward0>)),\n",
       "  ('mom', tensor(0.6569, device='cuda:0', grad_fn=<SelectBackward0>)),\n",
       "  ('tonight', tensor(0.6529, device='cuda:0', grad_fn=<SelectBackward0>)),\n",
       "  ('gencon', tensor(0.6497, device='cuda:0', grad_fn=<SelectBackward0>)),\n",
       "  ('tabletopia', tensor(0.6476, device='cuda:0', grad_fn=<SelectBackward0>)),\n",
       "  ('april', tensor(0.6429, device='cuda:0', grad_fn=<SelectBackward0>)),\n",
       "  ('gf', tensor(0.6428, device='cuda:0', grad_fn=<SelectBackward0>)),\n",
       "  ('household', tensor(0.6426, device='cuda:0', grad_fn=<SelectBackward0>)),\n",
       "  ('december', tensor(0.6386, device='cuda:0', grad_fn=<SelectBackward0>)),\n",
       "  ('june', tensor(0.6353, device='cuda:0', grad_fn=<SelectBackward0>)),\n",
       "  ('demo', tensor(0.6352, device='cuda:0', grad_fn=<SelectBackward0>)),\n",
       "  ('today', tensor(0.6328, device='cuda:0', grad_fn=<SelectBackward0>)),\n",
       "  ('buddy', tensor(0.6325, device='cuda:0', grad_fn=<SelectBackward0>)),\n",
       "  ('weekend', tensor(0.6315, device='cuda:0', grad_fn=<SelectBackward0>)),\n",
       "  ('feb', tensor(0.6301, device='cuda:0', grad_fn=<SelectBackward0>)),\n",
       "  ('niece', tensor(0.6297, device='cuda:0', grad_fn=<SelectBackward0>)),\n",
       "  ('husband', tensor(0.6257, device='cuda:0', grad_fn=<SelectBackward0>)),\n",
       "  ('daughter', tensor(0.6177, device='cuda:0', grad_fn=<SelectBackward0>))],\n",
       " [('player', tensor(0.5393, device='cuda:0', grad_fn=<SelectBackward0>)),\n",
       "  ('attacker', tensor(0.4820, device='cuda:0', grad_fn=<SelectBackward0>)),\n",
       "  ('screwage', tensor(0.4802, device='cuda:0', grad_fn=<SelectBackward0>)),\n",
       "  ('aggression', tensor(0.4701, device='cuda:0', grad_fn=<SelectBackward0>)),\n",
       "  ('discourage', tensor(0.4609, device='cuda:0', grad_fn=<SelectBackward0>)),\n",
       "  ('probability', tensor(0.4484, device='cuda:0', grad_fn=<SelectBackward0>)),\n",
       "  ('analysis', tensor(0.4465, device='cuda:0', grad_fn=<SelectBackward0>)),\n",
       "  ('aggressive', tensor(0.4425, device='cuda:0', grad_fn=<SelectBackward0>)),\n",
       "  ('quarterbacking',\n",
       "   tensor(0.4416, device='cuda:0', grad_fn=<SelectBackward0>)),\n",
       "  ('skilled', tensor(0.4416, device='cuda:0', grad_fn=<SelectBackward0>)),\n",
       "  ('harm', tensor(0.4401, device='cuda:0', grad_fn=<SelectBackward0>)),\n",
       "  ('outcome', tensor(0.4386, device='cuda:0', grad_fn=<SelectBackward0>)),\n",
       "  ('minimum', tensor(0.4381, device='cuda:0', grad_fn=<SelectBackward0>)),\n",
       "  ('kingmake', tensor(0.4334, device='cuda:0', grad_fn=<SelectBackward0>)),\n",
       "  ('loss', tensor(0.4330, device='cuda:0', grad_fn=<SelectBackward0>)),\n",
       "  ('indirect', tensor(0.4298, device='cuda:0', grad_fn=<SelectBackward0>)),\n",
       "  ('conflict', tensor(0.4280, device='cuda:0', grad_fn=<SelectBackward0>)),\n",
       "  ('opposition', tensor(0.4264, device='cuda:0', grad_fn=<SelectBackward0>)),\n",
       "  ('result', tensor(0.4219, device='cuda:0', grad_fn=<SelectBackward0>)),\n",
       "  ('situation', tensor(0.4192, device='cuda:0', grad_fn=<SelectBackward0>))],\n",
       " [('crop', tensor(0.7105, device='cuda:0', grad_fn=<SelectBackward0>)),\n",
       "  ('industry', tensor(0.6967, device='cuda:0', grad_fn=<SelectBackward0>)),\n",
       "  ('harvest', tensor(0.6958, device='cuda:0', grad_fn=<SelectBackward0>)),\n",
       "  ('coal', tensor(0.6899, device='cuda:0', grad_fn=<SelectBackward0>)),\n",
       "  ('mining', tensor(0.6804, device='cuda:0', grad_fn=<SelectBackward0>)),\n",
       "  ('farmer', tensor(0.6706, device='cuda:0', grad_fn=<SelectBackward0>)),\n",
       "  ('harvesting', tensor(0.6456, device='cuda:0', grad_fn=<SelectBackward0>)),\n",
       "  ('mineral', tensor(0.6395, device='cuda:0', grad_fn=<SelectBackward0>)),\n",
       "  ('craftsman', tensor(0.6392, device='cuda:0', grad_fn=<SelectBackward0>)),\n",
       "  ('palace', tensor(0.6365, device='cuda:0', grad_fn=<SelectBackward0>)),\n",
       "  ('fishing', tensor(0.6362, device='cuda:0', grad_fn=<SelectBackward0>)),\n",
       "  ('farm', tensor(0.6348, device='cuda:0', grad_fn=<SelectBackward0>)),\n",
       "  ('sheep', tensor(0.6341, device='cuda:0', grad_fn=<SelectBackward0>)),\n",
       "  ('factory', tensor(0.6338, device='cuda:0', grad_fn=<SelectBackward0>)),\n",
       "  ('cattle', tensor(0.6320, device='cuda:0', grad_fn=<SelectBackward0>)),\n",
       "  ('mine', tensor(0.6310, device='cuda:0', grad_fn=<SelectBackward0>)),\n",
       "  ('business', tensor(0.6308, device='cuda:0', grad_fn=<SelectBackward0>)),\n",
       "  ('wheat', tensor(0.6285, device='cuda:0', grad_fn=<SelectBackward0>)),\n",
       "  ('oil', tensor(0.6279, device='cuda:0', grad_fn=<SelectBackward0>)),\n",
       "  ('canal', tensor(0.6278, device='cuda:0', grad_fn=<SelectBackward0>))],\n",
       " [('party', tensor(0.6896, device='cuda:0', grad_fn=<SelectBackward0>)),\n",
       "  ('drinking', tensor(0.6830, device='cuda:0', grad_fn=<SelectBackward0>)),\n",
       "  ('trivia', tensor(0.6737, device='cuda:0', grad_fn=<SelectBackward0>)),\n",
       "  ('pictionary', tensor(0.6358, device='cuda:0', grad_fn=<SelectBackward0>)),\n",
       "  ('alcohol', tensor(0.6325, device='cuda:0', grad_fn=<SelectBackward0>)),\n",
       "  ('werewolf', tensor(0.6302, device='cuda:0', grad_fn=<SelectBackward0>)),\n",
       "  ('drunk', tensor(0.6136, device='cuda:0', grad_fn=<SelectBackward0>)),\n",
       "  ('trivium', tensor(0.6090, device='cuda:0', grad_fn=<SelectBackward0>)),\n",
       "  ('charade', tensor(0.6054, device='cuda:0', grad_fn=<SelectBackward0>)),\n",
       "  ('deception', tensor(0.5870, device='cuda:0', grad_fn=<SelectBackward0>)),\n",
       "  ('loud', tensor(0.5736, device='cuda:0', grad_fn=<SelectBackward0>)),\n",
       "  ('conversation', tensor(0.5728, device='cuda:0', grad_fn=<SelectBackward0>)),\n",
       "  ('ice', tensor(0.5697, device='cuda:0', grad_fn=<SelectBackward0>)),\n",
       "  ('murder', tensor(0.5667, device='cuda:0', grad_fn=<SelectBackward0>)),\n",
       "  ('apple', tensor(0.5658, device='cuda:0', grad_fn=<SelectBackward0>)),\n",
       "  ('crowd', tensor(0.5592, device='cuda:0', grad_fn=<SelectBackward0>)),\n",
       "  ('storyteller', tensor(0.5587, device='cuda:0', grad_fn=<SelectBackward0>)),\n",
       "  ('music', tensor(0.5487, device='cuda:0', grad_fn=<SelectBackward0>)),\n",
       "  ('accusation', tensor(0.5444, device='cuda:0', grad_fn=<SelectBackward0>)),\n",
       "  ('prompt', tensor(0.5401, device='cuda:0', grad_fn=<SelectBackward0>))],\n",
       " [('sword', tensor(0.6823, device='cuda:0', grad_fn=<SelectBackward0>)),\n",
       "  ('raider', tensor(0.6815, device='cuda:0', grad_fn=<SelectBackward0>)),\n",
       "  ('coast', tensor(0.6675, device='cuda:0', grad_fn=<SelectBackward0>)),\n",
       "  ('la', tensor(0.6667, device='cuda:0', grad_fn=<SelectBackward0>)),\n",
       "  ('frost', tensor(0.6619, device='cuda:0', grad_fn=<SelectBackward0>)),\n",
       "  ('rogue', tensor(0.6607, device='cuda:0', grad_fn=<SelectBackward0>)),\n",
       "  ('spider', tensor(0.6537, device='cuda:0', grad_fn=<SelectBackward0>)),\n",
       "  ('galaxy', tensor(0.6519, device='cuda:0', grad_fn=<SelectBackward0>)),\n",
       "  ('cowboy', tensor(0.6473, device='cuda:0', grad_fn=<SelectBackward0>)),\n",
       "  ('elemental', tensor(0.6453, device='cuda:0', grad_fn=<SelectBackward0>)),\n",
       "  ('archer', tensor(0.6449, device='cuda:0', grad_fn=<SelectBackward0>)),\n",
       "  ('desert', tensor(0.6440, device='cuda:0', grad_fn=<SelectBackward0>)),\n",
       "  ('shadow', tensor(0.6438, device='cuda:0', grad_fn=<SelectBackward0>)),\n",
       "  ('gambit', tensor(0.6398, device='cuda:0', grad_fn=<SelectBackward0>)),\n",
       "  ('cobble', tensor(0.6396, device='cuda:0', grad_fn=<SelectBackward0>)),\n",
       "  ('lee', tensor(0.6372, device='cuda:0', grad_fn=<SelectBackward0>)),\n",
       "  ('wings', tensor(0.6353, device='cuda:0', grad_fn=<SelectBackward0>)),\n",
       "  ('elf', tensor(0.6348, device='cuda:0', grad_fn=<SelectBackward0>)),\n",
       "  ('guns', tensor(0.6344, device='cuda:0', grad_fn=<SelectBackward0>)),\n",
       "  ('assault', tensor(0.6327, device='cuda:0', grad_fn=<SelectBackward0>))],\n",
       " [('sturdy', tensor(0.7854, device='cuda:0', grad_fn=<SelectBackward0>)),\n",
       "  ('chunky', tensor(0.7629, device='cuda:0', grad_fn=<SelectBackward0>)),\n",
       "  ('thick', tensor(0.7133, device='cuda:0', grad_fn=<SelectBackward0>)),\n",
       "  ('colourful', tensor(0.7076, device='cuda:0', grad_fn=<SelectBackward0>)),\n",
       "  ('illustration', tensor(0.6965, device='cuda:0', grad_fn=<SelectBackward0>)),\n",
       "  ('packaging', tensor(0.6894, device='cuda:0', grad_fn=<SelectBackward0>)),\n",
       "  ('plastic', tensor(0.6880, device='cuda:0', grad_fn=<SelectBackward0>)),\n",
       "  ('wooden', tensor(0.6763, device='cuda:0', grad_fn=<SelectBackward0>)),\n",
       "  ('presentation', tensor(0.6728, device='cuda:0', grad_fn=<SelectBackward0>)),\n",
       "  ('colorful', tensor(0.6541, device='cuda:0', grad_fn=<SelectBackward0>)),\n",
       "  ('cardboard', tensor(0.6526, device='cuda:0', grad_fn=<SelectBackward0>)),\n",
       "  ('functional', tensor(0.6504, device='cuda:0', grad_fn=<SelectBackward0>)),\n",
       "  ('flimsy', tensor(0.6472, device='cuda:0', grad_fn=<SelectBackward0>)),\n",
       "  ('cardstock', tensor(0.6451, device='cuda:0', grad_fn=<SelectBackward0>)),\n",
       "  ('standee', tensor(0.6420, device='cuda:0', grad_fn=<SelectBackward0>)),\n",
       "  ('minis', tensor(0.6419, device='cuda:0', grad_fn=<SelectBackward0>)),\n",
       "  ('aesthetically',\n",
       "   tensor(0.6408, device='cuda:0', grad_fn=<SelectBackward0>)),\n",
       "  ('components', tensor(0.6268, device='cuda:0', grad_fn=<SelectBackward0>)),\n",
       "  ('figurine', tensor(0.6256, device='cuda:0', grad_fn=<SelectBackward0>)),\n",
       "  ('looking', tensor(0.6146, device='cuda:0', grad_fn=<SelectBackward0>))],\n",
       " [('realize', tensor(0.6913, device='cuda:0', grad_fn=<SelectBackward0>)),\n",
       "  ('frustrate', tensor(0.6784, device='cuda:0', grad_fn=<SelectBackward0>)),\n",
       "  ('happen', tensor(0.6433, device='cuda:0', grad_fn=<SelectBackward0>)),\n",
       "  ('notice', tensor(0.6358, device='cuda:0', grad_fn=<SelectBackward0>)),\n",
       "  ('suddenly', tensor(0.6261, device='cuda:0', grad_fn=<SelectBackward0>)),\n",
       "  ('halfway', tensor(0.6111, device='cuda:0', grad_fn=<SelectBackward0>)),\n",
       "  ('frustrated', tensor(0.5867, device='cuda:0', grad_fn=<SelectBackward0>)),\n",
       "  ('annoy', tensor(0.5838, device='cuda:0', grad_fn=<SelectBackward0>)),\n",
       "  ('go', tensor(0.5821, device='cuda:0', grad_fn=<SelectBackward0>)),\n",
       "  ('unsatisfying', tensor(0.5759, device='cuda:0', grad_fn=<SelectBackward0>)),\n",
       "  ('painful', tensor(0.5758, device='cuda:0', grad_fn=<SelectBackward0>)),\n",
       "  ('realise', tensor(0.5662, device='cuda:0', grad_fn=<SelectBackward0>)),\n",
       "  ('spoil', tensor(0.5662, device='cuda:0', grad_fn=<SelectBackward0>)),\n",
       "  ('fear', tensor(0.5646, device='cuda:0', grad_fn=<SelectBackward0>)),\n",
       "  ('sour', tensor(0.5624, device='cuda:0', grad_fn=<SelectBackward0>)),\n",
       "  ('wrong', tensor(0.5565, device='cuda:0', grad_fn=<SelectBackward0>)),\n",
       "  ('sure', tensor(0.5516, device='cuda:0', grad_fn=<SelectBackward0>)),\n",
       "  ('stuck', tensor(0.5509, device='cuda:0', grad_fn=<SelectBackward0>)),\n",
       "  ('frequently', tensor(0.5450, device='cuda:0', grad_fn=<SelectBackward0>)),\n",
       "  ('suck', tensor(0.5419, device='cuda:0', grad_fn=<SelectBackward0>))],\n",
       " [('display', tensor(0.6131, device='cuda:0', grad_fn=<SelectBackward0>)),\n",
       "  ('card', tensor(0.5886, device='cuda:0', grad_fn=<SelectBackward0>)),\n",
       "  ('discard', tensor(0.5586, device='cuda:0', grad_fn=<SelectBackward0>)),\n",
       "  ('pair', tensor(0.5400, device='cuda:0', grad_fn=<SelectBackward0>)),\n",
       "  ('pile', tensor(0.5231, device='cuda:0', grad_fn=<SelectBackward0>)),\n",
       "  ('joker', tensor(0.5014, device='cuda:0', grad_fn=<SelectBackward0>)),\n",
       "  ('column', tensor(0.4973, device='cuda:0', grad_fn=<SelectBackward0>)),\n",
       "  ('bird', tensor(0.4776, device='cuda:0', grad_fn=<SelectBackward0>)),\n",
       "  ('colour', tensor(0.4699, device='cuda:0', grad_fn=<SelectBackward0>)),\n",
       "  ('suit', tensor(0.4637, device='cuda:0', grad_fn=<SelectBackward0>)),\n",
       "  ('artifact', tensor(0.4523, device='cuda:0', grad_fn=<SelectBackward0>)),\n",
       "  ('tile', tensor(0.4491, device='cuda:0', grad_fn=<SelectBackward0>)),\n",
       "  ('color', tensor(0.4481, device='cuda:0', grad_fn=<SelectBackward0>)),\n",
       "  ('investor', tensor(0.4476, device='cuda:0', grad_fn=<SelectBackward0>)),\n",
       "  ('randomly', tensor(0.4439, device='cuda:0', grad_fn=<SelectBackward0>)),\n",
       "  ('adjacent', tensor(0.4439, device='cuda:0', grad_fn=<SelectBackward0>)),\n",
       "  ('public', tensor(0.4432, device='cuda:0', grad_fn=<SelectBackward0>)),\n",
       "  ('directly', tensor(0.4432, device='cuda:0', grad_fn=<SelectBackward0>)),\n",
       "  ('flower', tensor(0.4418, device='cuda:0', grad_fn=<SelectBackward0>)),\n",
       "  ('seed', tensor(0.4401, device='cuda:0', grad_fn=<SelectBackward0>))],\n",
       " [('theme', tensor(0.7121, device='cuda:0', grad_fn=<SelectBackward0>)),\n",
       "  ('setting', tensor(0.6752, device='cuda:0', grad_fn=<SelectBackward0>)),\n",
       "  ('themed', tensor(0.6581, device='cuda:0', grad_fn=<SelectBackward0>)),\n",
       "  ('thematically', tensor(0.6545, device='cuda:0', grad_fn=<SelectBackward0>)),\n",
       "  ('theming', tensor(0.6365, device='cuda:0', grad_fn=<SelectBackward0>)),\n",
       "  ('history', tensor(0.6187, device='cuda:0', grad_fn=<SelectBackward0>)),\n",
       "  ('representation',\n",
       "   tensor(0.6141, device='cuda:0', grad_fn=<SelectBackward0>)),\n",
       "  ('medieval', tensor(0.6003, device='cuda:0', grad_fn=<SelectBackward0>)),\n",
       "  ('fiction', tensor(0.5950, device='cuda:0', grad_fn=<SelectBackward0>)),\n",
       "  ('evolution', tensor(0.5949, device='cuda:0', grad_fn=<SelectBackward0>)),\n",
       "  ('classical', tensor(0.5865, device='cuda:0', grad_fn=<SelectBackward0>)),\n",
       "  ('simulation', tensor(0.5856, device='cuda:0', grad_fn=<SelectBackward0>)),\n",
       "  ('universe', tensor(0.5777, device='cuda:0', grad_fn=<SelectBackward0>)),\n",
       "  ('sim', tensor(0.5777, device='cuda:0', grad_fn=<SelectBackward0>)),\n",
       "  ('historic', tensor(0.5697, device='cuda:0', grad_fn=<SelectBackward0>)),\n",
       "  ('warfare', tensor(0.5696, device='cuda:0', grad_fn=<SelectBackward0>)),\n",
       "  ('trope', tensor(0.5636, device='cuda:0', grad_fn=<SelectBackward0>)),\n",
       "  ('fi', tensor(0.5632, device='cuda:0', grad_fn=<SelectBackward0>)),\n",
       "  ('sci', tensor(0.5566, device='cuda:0', grad_fn=<SelectBackward0>)),\n",
       "  ('mythos', tensor(0.5549, device='cuda:0', grad_fn=<SelectBackward0>))],\n",
       " [('expansions', tensor(0.6641, device='cuda:0', grad_fn=<SelectBackward0>)),\n",
       "  ('expansion', tensor(0.6453, device='cuda:0', grad_fn=<SelectBackward0>)),\n",
       "  ('promos', tensor(0.6000, device='cuda:0', grad_fn=<SelectBackward0>)),\n",
       "  ('ed', tensor(0.5879, device='cuda:0', grad_fn=<SelectBackward0>)),\n",
       "  ('standalone', tensor(0.5769, device='cuda:0', grad_fn=<SelectBackward0>)),\n",
       "  ('exp', tensor(0.5751, device='cuda:0', grad_fn=<SelectBackward0>)),\n",
       "  ('undertow', tensor(0.5722, device='cuda:0', grad_fn=<SelectBackward0>)),\n",
       "  ('bundle', tensor(0.5664, device='cuda:0', grad_fn=<SelectBackward0>)),\n",
       "  ('module', tensor(0.5611, device='cuda:0', grad_fn=<SelectBackward0>)),\n",
       "  ('tuscany', tensor(0.5587, device='cuda:0', grad_fn=<SelectBackward0>)),\n",
       "  ('sequel', tensor(0.5468, device='cuda:0', grad_fn=<SelectBackward0>)),\n",
       "  ('gamette', tensor(0.5406, device='cuda:0', grad_fn=<SelectBackward0>)),\n",
       "  ('on', tensor(0.5364, device='cuda:0', grad_fn=<SelectBackward0>)),\n",
       "  ('dragonspire', tensor(0.5349, device='cuda:0', grad_fn=<SelectBackward0>)),\n",
       "  ('playmat', tensor(0.5343, device='cuda:0', grad_fn=<SelectBackward0>)),\n",
       "  ('addon', tensor(0.5314, device='cuda:0', grad_fn=<SelectBackward0>)),\n",
       "  ('extension', tensor(0.5312, device='cuda:0', grad_fn=<SelectBackward0>)),\n",
       "  ('heroscape', tensor(0.5269, device='cuda:0', grad_fn=<SelectBackward0>)),\n",
       "  ('bling', tensor(0.5195, device='cuda:0', grad_fn=<SelectBackward0>)),\n",
       "  ('kit', tensor(0.5174, device='cuda:0', grad_fn=<SelectBackward0>))],\n",
       " [('bruno', tensor(0.6578, device='cuda:0', grad_fn=<SelectBackward0>)),\n",
       "  ('cathala', tensor(0.6492, device='cuda:0', grad_fn=<SelectBackward0>)),\n",
       "  ('richard', tensor(0.6450, device='cuda:0', grad_fn=<SelectBackward0>)),\n",
       "  ('alexander', tensor(0.6311, device='cuda:0', grad_fn=<SelectBackward0>)),\n",
       "  ('eric', tensor(0.6172, device='cuda:0', grad_fn=<SelectBackward0>)),\n",
       "  ('tascini', tensor(0.6142, device='cuda:0', grad_fn=<SelectBackward0>)),\n",
       "  ('shem', tensor(0.6106, device='cuda:0', grad_fn=<SelectBackward0>)),\n",
       "  ('lang', tensor(0.6091, device='cuda:0', grad_fn=<SelectBackward0>)),\n",
       "  ('oink', tensor(0.6082, device='cuda:0', grad_fn=<SelectBackward0>)),\n",
       "  ('nominee', tensor(0.6028, device='cuda:0', grad_fn=<SelectBackward0>)),\n",
       "  ('beloved', tensor(0.6012, device='cuda:0', grad_fn=<SelectBackward0>)),\n",
       "  ('borg', tensor(0.5984, device='cuda:0', grad_fn=<SelectBackward0>)),\n",
       "  ('luciani', tensor(0.5951, device='cuda:0', grad_fn=<SelectBackward0>)),\n",
       "  ('faidutti', tensor(0.5859, device='cuda:0', grad_fn=<SelectBackward0>)),\n",
       "  ('daniele', tensor(0.5787, device='cuda:0', grad_fn=<SelectBackward0>)),\n",
       "  ('garphill', tensor(0.5782, device='cuda:0', grad_fn=<SelectBackward0>)),\n",
       "  ('timeless', tensor(0.5776, device='cuda:0', grad_fn=<SelectBackward0>)),\n",
       "  ('restoration', tensor(0.5767, device='cuda:0', grad_fn=<SelectBackward0>)),\n",
       "  ('steding', tensor(0.5733, device='cuda:0', grad_fn=<SelectBackward0>)),\n",
       "  ('sierra', tensor(0.5696, device='cuda:0', grad_fn=<SelectBackward0>))]]"
      ]
     },
     "execution_count": 43,
     "metadata": {},
     "output_type": "execute_result"
    }
   ],
   "execution_count": 43
  },
  {
   "metadata": {},
   "cell_type": "code",
   "source": [
    "corpus_path = \"../dataset/output/default_sentences/pre_processed.310k.csv\"\n",
    "test_corpus_path = \"../dataset/output/default_sentences/pre_processed.310k.test.csv\"\n",
    "\n",
    "manager = ABAEManager.from_scratch(runs[0]['config'], corpus_path)\n",
    "manager.train(corpus_path, verbose=2)\n",
    "res = manager.evaluate([20, 10, 5, 3], test_corpus=test_corpus_path)"
   ],
   "id": "4bee02c7feb5ce8b",
   "outputs": [],
   "execution_count": null
  },
  {
   "metadata": {},
   "cell_type": "code",
   "outputs": [],
   "execution_count": null,
   "source": "",
   "id": "adb3f83a76b0c5b1"
  }
 ],
 "metadata": {
  "kernelspec": {
   "display_name": "Python 3",
   "language": "python",
   "name": "python3"
  },
  "language_info": {
   "codemirror_mode": {
    "name": "ipython",
    "version": 2
   },
   "file_extension": ".py",
   "mimetype": "text/x-python",
   "name": "python",
   "nbconvert_exporter": "python",
   "pygments_lexer": "ipython2",
   "version": "2.7.6"
  }
 },
 "nbformat": 4,
 "nbformat_minor": 5
}

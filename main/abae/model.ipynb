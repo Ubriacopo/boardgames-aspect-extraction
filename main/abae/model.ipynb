{
 "cells": [
  {
   "metadata": {
    "ExecuteTime": {
     "end_time": "2025-03-15T16:44:00.684765Z",
     "start_time": "2025-03-15T16:43:54.622711Z"
    }
   },
   "cell_type": "code",
   "source": [
    "# Required imports.\n",
    "from main.abae.config import ABAEManagerConfig\n",
    "from main.abae.runner import ABAERunner\n",
    "from main.abae.model_manager import ABAEManager"
   ],
   "id": "92a992781ca00086",
   "outputs": [],
   "execution_count": 1
  },
  {
   "metadata": {},
   "cell_type": "markdown",
   "source": "In case we want to avoid the long gibberish by gensim on Word2Vec or other stuff:",
   "id": "9670a5d3901d7f7d"
  },
  {
   "metadata": {
    "ExecuteTime": {
     "end_time": "2025-03-15T16:44:01.299059Z",
     "start_time": "2025-03-15T16:44:01.295582Z"
    }
   },
   "cell_type": "code",
   "source": [
    "import logging\n",
    "\n",
    "logging.disable()\n",
    "logging.disable(logging.DEBUG)\n",
    "logging.disable(logging.INFO)"
   ],
   "id": "2f908b9c3058b5c9",
   "outputs": [],
   "execution_count": 2
  },
  {
   "metadata": {},
   "cell_type": "markdown",
   "source": "Let's make a first attempt on the various pre-processing pipelines:",
   "id": "510c606905805814"
  },
  {
   "metadata": {},
   "cell_type": "markdown",
   "source": [
    "### Full-reviews\n",
    "Try to run the procedure on the default implementation of the pipeline. Default as it was thought to be a simple version for ABAE specifically."
   ],
   "id": "f13e2df2d7eeb181"
  },
  {
   "metadata": {},
   "cell_type": "markdown",
   "source": [
    "## Preprocessing\n",
    "Unlike LDA we should not toy too much with the sentence structure as ABAE uses word embeddings and needs the sequence information to weight the terms based on the surrounding context. One question remains:\n",
    "\n",
    "**Should we work on sentence level or full reviews? Let's try a first simple comparison**"
   ],
   "id": "46ac0985d60cd3fa"
  },
  {
   "metadata": {
    "jupyter": {
     "is_executing": true
    },
    "ExecuteTime": {
     "start_time": "2025-03-15T16:44:04.613652Z"
    }
   },
   "cell_type": "code",
   "source": [
    "corpus_path = \"../dataset/output/default/pre_processed.80k.csv\"\n",
    "test_corpus_path = \"../dataset/output/default/pre_processed.80k.test.csv\"\n",
    "\n",
    "manager = ABAEManager.from_scratch(ABAEManagerConfig('default', epochs=2, batch_size=512), corpus_path)\n",
    "manager.train(corpus_path, verbose=2)\n",
    "manager.evaluate([3, 10], test_corpus_path=test_corpus_path)"
   ],
   "id": "1a9724ba75af1d16",
   "outputs": [
    {
     "data": {
      "text/plain": [
       "Pandas Apply:   0%|          | 0/60640 [00:00<?, ?it/s]"
      ],
      "application/vnd.jupyter.widget-view+json": {
       "version_major": 2,
       "version_minor": 0,
       "model_id": "49d4c3b332bb4682be2ffb6e90850fd5"
      }
     },
     "metadata": {},
     "output_type": "display_data"
    },
    {
     "name": "stdout",
     "output_type": "stream",
     "text": [
      "Loading the existing found model as requested in path ./output/default/default.aspect_embeddings.model\n",
      "Generating numeric representation for each word of ds.\n"
     ]
    },
    {
     "data": {
      "text/plain": [
       "Pandas Apply:   0%|          | 0/60640 [00:00<?, ?it/s]"
      ],
      "application/vnd.jupyter.widget-view+json": {
       "version_major": 2,
       "version_minor": 0,
       "model_id": "737de6f2a7bd43169729aca7e733d1d4"
      }
     },
     "metadata": {},
     "output_type": "display_data"
    },
    {
     "name": "stdout",
     "output_type": "stream",
     "text": [
      "Max sequence length calculation in progress...\n",
      "We loose information on 1340(2.2097625329815305% of ds).\n",
      "Generating a new compiled model from scratch\n",
      "Training is starting:\n",
      "Epoch 1/2\n"
     ]
    }
   ],
   "execution_count": null
  },
  {
   "metadata": {},
   "cell_type": "markdown",
   "source": [
    "Latest run result:\n",
    "```\n",
    "Max Margin loss: [4.6614, 4.6604]\n",
    "```"
   ],
   "id": "7ee41fbe415dd82e"
  },
  {
   "metadata": {},
   "cell_type": "markdown",
   "source": [
    "Results of the latest run:\n",
    "```\n",
    "NPMI coherence: -0.23037988688672537\n",
    "CV score: 0.5646751917101251\n",
    "Max margin reconstruction result: [4.745960235595703, 4.744936943054199]\n",
    "```"
   ],
   "id": "90204b1de20cae27"
  },
  {
   "metadata": {},
   "cell_type": "markdown",
   "source": "## Sentence-split reviews",
   "id": "9eaaec47b2c6b0dc"
  },
  {
   "metadata": {},
   "cell_type": "code",
   "source": [
    "from main.abae.model_manager import ABAEManagerConfig, ABAEManager\n",
    "\n",
    "corpus_path = \"../dataset/output/default_sentences/pre_processed.80k.csv\"\n",
    "test_corpus_path = \"../dataset/output/default_sentences/pre_processed.80k.test.csv\"\n",
    "\n",
    "runner = ABAERunner(corpus_path, test_corpus_path, config=ABAEManagerConfig('default'), override_existing=True)\n",
    "runner.default_full_run()"
   ],
   "id": "ba5daef7089707a9",
   "outputs": [],
   "execution_count": null
  },
  {
   "metadata": {},
   "cell_type": "markdown",
   "source": [
    "Results for the run:\n",
    "```\n",
    "NPMI coherence: -0.3117940799781337\n",
    "CV score: 0.6031670887985386\n",
    "Max margin reconstruction result: [5.261548042297363, 5.262136936187744]\n",
    "```"
   ],
   "id": "ef92f28f17f7dd15"
  },
  {
   "metadata": {},
   "cell_type": "markdown",
   "source": [
    "I know that doing a  comparison on a single run is not that meaningful. <br>\n",
    "I could do k-CV to estimate the expected model loss to get a valid analysis. <br>\n",
    "But for the sake of the experiment we consider this good enough."
   ],
   "id": "b78cbae13b203c37"
  },
  {
   "metadata": {},
   "cell_type": "markdown",
   "source": [
    "## NOUN only\n",
    "I expect this to utterly fail in the task as we loose sentence structure which ABAE sounds to be abusing. <br>\n",
    "Being based on word2vec embeddings this kind of pre-processing should be harmful I suppose."
   ],
   "id": "45effeec64f11cdd"
  },
  {
   "metadata": {},
   "cell_type": "code",
   "source": [
    "from main.lda.pre_processing import extract_pos_ds\n",
    "import pandas as pd\n",
    "\n",
    "print(\"Creating the __noun filtered ds:\")\n",
    "corpus_path = \"../dataset/output/pos_tagged/pre_processed.80k.csv\"\n",
    "store_path = \"../dataset/output/pos_tagged/pre_processed.80k.noun_only.csv\"\n",
    "extract_pos_ds(pd.read_csv(corpus_path)['comments'], \"__noun\", store_path)\n",
    "print(\"ds created under: \" + store_path)\n",
    "\n",
    "print(\"Creating the __noun filtered test ds:\")\n",
    "corpus_path = \"../dataset/output/pos_tagged/pre_processed.80k.test.csv\"\n",
    "store_path = \"../dataset/output/pos_tagged/pre_processed.80k.noun_only.test.csv\"\n",
    "extract_pos_ds(pd.read_csv(corpus_path)['comments'], \"__noun\", store_path)\n",
    "print(\"ds created under: \" + store_path)"
   ],
   "id": "86ec4d3d3c01530c",
   "outputs": [],
   "execution_count": null
  },
  {
   "metadata": {},
   "cell_type": "code",
   "source": [
    "from main.abae.model_manager import ABAEManagerConfig, ABAEManager\n",
    "\n",
    "corpus_path = \"../dataset/output/pos_tagged/pre_processed.80k.noun_only.csv\"\n",
    "test_corpus_path = \"../dataset/output/pos_tagged/pre_processed.80k.noun_only.test.csv\"\n",
    "\n",
    "runner = ABAERunner(corpus_path, test_corpus_path, config=ABAEManagerConfig('default'), override_existing=True)\n",
    "runner.default_full_run()"
   ],
   "id": "1122e985147b038b",
   "outputs": [],
   "execution_count": null
  },
  {
   "metadata": {},
   "cell_type": "markdown",
   "source": "For the future work and as one by the proposed ABAE paper we won't be splitting up reviews in sentences but use the full review as the model does not increase much if not done like this.",
   "id": "5b4c80db434e5d1"
  },
  {
   "metadata": {},
   "cell_type": "markdown",
   "source": "Results of HP tuning",
   "id": "d6cadc1254bf9f0d"
  },
  {
   "metadata": {},
   "cell_type": "code",
   "source": [
    "import json\n",
    "\n",
    "# Best tuning configurations\n",
    "configs = ['31479139-17f6-4f6d-aa8b-494cbc8f183b', '3f192c54-6623-48a7-b01b-2d5019dad186']\n",
    "results = json.load(open(\"./output/config/abae_configurations_results.json\"))\n",
    "configs = list(map(lambda x: x['config'], filter(lambda x: x['id'] in configs, results)))"
   ],
   "id": "7d6545417958061a",
   "outputs": [],
   "execution_count": null
  },
  {
   "metadata": {},
   "cell_type": "markdown",
   "source": "Run on configs",
   "id": "cb2dc40b0e17a261"
  },
  {
   "metadata": {},
   "cell_type": "code",
   "source": "configs[0]",
   "id": "f07f42d787f9d8a8",
   "outputs": [],
   "execution_count": null
  },
  {
   "metadata": {},
   "cell_type": "code",
   "source": [
    "import keras\n",
    "from main.abae.model_manager import ABAEManager\n",
    "from main.abae.config import ABAEManagerConfig\n",
    "\n",
    "# To boost training\n",
    "keras.mixed_precision.set_global_policy(\"mixed_float16\")\n",
    "\n",
    "corpus = \"../dataset/output/default/pre_processed.310k.csv\"\n",
    "default_config = ABAEManagerConfig.from_configuration(\"abae_best_0\", configs[0])\n",
    "abae_manager = ABAEManager.from_scratch(default_config, corpus)\n",
    "# Train\n",
    "history, _ = abae_manager.train(corpus)\n",
    "model = abae_manager.get_compiled_model(refresh=False)"
   ],
   "id": "d374624e109b9a6d",
   "outputs": [],
   "execution_count": null
  },
  {
   "metadata": {},
   "cell_type": "code",
   "source": "history.history",
   "id": "270aaff24abe77bd",
   "outputs": [],
   "execution_count": null
  },
  {
   "metadata": {},
   "cell_type": "code",
   "source": [
    "from evaluation import ABAEEvaluationProcessor\n",
    "import pandas as pd\n",
    "\n",
    "test_corpus_path = \"../dataset/output/default/pre_processed.310k.test.csv\"\n",
    "inv_vocab = abae_manager.generator.emb_model.model.wv.index_to_key\n",
    "processor = ABAEEvaluationProcessor(abae_manager, pd.read_csv(test_corpus_path))"
   ],
   "id": "862292fa44e21611",
   "outputs": [],
   "execution_count": null
  },
  {
   "metadata": {},
   "cell_type": "code",
   "source": [
    "from main.abae.dataset import PositiveNegativeABAEDataset\n",
    "import pandas as pd\n",
    "from torch.utils.data import DataLoader\n",
    "\n",
    "npmi_coh = processor.c_npmi_coherence_model(top_n=10)\n",
    "npmi_coherence = npmi_coh.get_coherence()\n",
    "\n",
    "cv_coh = processor.c_v_coherence_model(top_n=100)\n",
    "cv_coherence = cv_coh.get_coherence()\n",
    "\n",
    "df = pd.read_csv(test_corpus_path)\n",
    "vocabulary = abae_manager.generator.emb_model.vocabulary()\n",
    "max_seq_len = default_config.max_seq_len\n",
    "negative_sample_size = default_config.negative_sample_size\n",
    "test_ds = PositiveNegativeABAEDataset(df, vocabulary, max_seq_len, negative_sample_size)\n",
    "\n",
    "results = model.evaluate(DataLoader(test_ds, batch_size=default_config.batch_size))"
   ],
   "id": "b68440156e988e83",
   "outputs": [],
   "execution_count": null
  },
  {
   "metadata": {},
   "cell_type": "code",
   "source": [
    "print(f\"Max margin reconstruction result: {results}\")\n",
    "print(f\"NPMI coherence: {npmi_coherence}\")\n",
    "print(f\"CV score: {cv_coherence}\")\n",
    "print(f\"Max margin reconstruction result: {results}\")"
   ],
   "id": "f67ef13634f9ff7c",
   "outputs": [],
   "execution_count": null
  },
  {
   "metadata": {},
   "cell_type": "markdown",
   "source": "",
   "id": "530e40a3504bb0db"
  },
  {
   "metadata": {},
   "cell_type": "code",
   "source": [
    "from main.abae.model_manager import ABAEManager\n",
    "from main.abae.config import ABAEManagerConfig\n",
    "\n",
    "corpus = \"../dataset/output/default/pre_processed.310k.csv\"\n",
    "default_config = ABAEManagerConfig.from_configuration(\"abae_best_1\", configs[1])\n",
    "abae_manager = ABAEManager.from_scratch(default_config, corpus)\n",
    "# Train\n",
    "history, _ = abae_manager.train(corpus)\n",
    "model = abae_manager.get_compiled_model(refresh=False)"
   ],
   "id": "26cf9f5a36e231b6",
   "outputs": [],
   "execution_count": null
  }
 ],
 "metadata": {
  "kernelspec": {
   "display_name": "Python 3",
   "language": "python",
   "name": "python3"
  },
  "language_info": {
   "codemirror_mode": {
    "name": "ipython",
    "version": 2
   },
   "file_extension": ".py",
   "mimetype": "text/x-python",
   "name": "python",
   "nbconvert_exporter": "python",
   "pygments_lexer": "ipython2",
   "version": "2.7.6"
  }
 },
 "nbformat": 4,
 "nbformat_minor": 5
}

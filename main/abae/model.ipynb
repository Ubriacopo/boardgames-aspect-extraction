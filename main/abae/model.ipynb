{
 "cells": [
  {
   "metadata": {
    "ExecuteTime": {
     "end_time": "2025-03-22T10:57:01.892607Z",
     "start_time": "2025-03-22T10:57:01.889109Z"
    }
   },
   "cell_type": "code",
   "source": [
    "from pprint import pprint\n",
    "# Required imports.\n",
    "from main.abae.config import ABAEManagerConfig\n",
    "from main.abae.model_manager import ABAEManager"
   ],
   "id": "92a992781ca00086",
   "outputs": [],
   "execution_count": 7
  },
  {
   "metadata": {},
   "cell_type": "markdown",
   "source": "In case we want to avoid the long gibberish by gensim on Word2Vec or other stuff:",
   "id": "9670a5d3901d7f7d"
  },
  {
   "metadata": {
    "ExecuteTime": {
     "end_time": "2025-03-22T10:57:29.753119Z",
     "start_time": "2025-03-22T10:57:29.749309Z"
    }
   },
   "cell_type": "code",
   "source": [
    "import logging\n",
    "\n",
    "logging.disable()\n",
    "logging.disable(logging.DEBUG)\n",
    "logging.disable(logging.INFO)"
   ],
   "id": "2f908b9c3058b5c9",
   "outputs": [],
   "execution_count": 9
  },
  {
   "metadata": {},
   "cell_type": "markdown",
   "source": "Let's make a first attempt on the various pre-processing pipelines:",
   "id": "510c606905805814"
  },
  {
   "metadata": {},
   "cell_type": "markdown",
   "source": [
    "### Full-reviews\n",
    "Try to run the procedure on the default implementation of the pipeline. Default as it was thought to be a simple version for ABAE specifically."
   ],
   "id": "f13e2df2d7eeb181"
  },
  {
   "metadata": {
    "ExecuteTime": {
     "end_time": "2025-03-22T11:23:55.843005Z",
     "start_time": "2025-03-22T10:57:32.201453Z"
    }
   },
   "cell_type": "code",
   "source": [
    "corpus_path = \"../dataset/output/default/pre_processed.80k.csv\"\n",
    "test_corpus_path = \"../dataset/output/default/pre_processed.80k.test.csv\"\n",
    "\n",
    "manager = ABAEManager.from_config(ABAEManagerConfig('default-small'), corpus_path, override=True)\n",
    "manager.train(corpus_path, verbose=2)\n",
    "res = manager.evaluate([20, 10, 5, 3], test_corpus=test_corpus_path)"
   ],
   "id": "b64f39e26675094",
   "outputs": [
    {
     "data": {
      "text/plain": [
       "Pandas Apply:   0%|          | 0/60690 [00:00<?, ?it/s]"
      ],
      "application/vnd.jupyter.widget-view+json": {
       "version_major": 2,
       "version_minor": 0,
       "model_id": "517b3067df214b508e0fcf7698007dd6"
      }
     },
     "metadata": {},
     "output_type": "display_data"
    },
    {
     "name": "stderr",
     "output_type": "stream",
     "text": [
      "D:\\PycharmProjects\\nlp-course-project\\.venv\\Lib\\site-packages\\gensim\\models\\keyedvectors.py:551: UserWarning: Adding single vectors to a KeyedVectors which grows by one each time can be costly. Consider adding in batches or preallocating to the required size.\n",
      "  warnings.warn(\n"
     ]
    },
    {
     "name": "stdout",
     "output_type": "stream",
     "text": [
      "Creating new Aspect embedding model\n",
      "\n",
      "Generating numeric representation for each word of ds.\n"
     ]
    },
    {
     "data": {
      "text/plain": [
       "Pandas Apply:   0%|          | 0/60690 [00:00<?, ?it/s]"
      ],
      "application/vnd.jupyter.widget-view+json": {
       "version_major": 2,
       "version_minor": 0,
       "model_id": "55e6cf914d9d4cd3ae34bfc7af5b8d79"
      }
     },
     "metadata": {},
     "output_type": "display_data"
    },
    {
     "name": "stdout",
     "output_type": "stream",
     "text": [
      "Max sequence length calculation in progress...\n",
      "We loose information on 1479(2.4369747899159666% of ds).\n",
      "Generating a new compiled model from scratch\n",
      "Training is starting:\n",
      "Epoch 1/15\n",
      "475/475 - 100s - 211ms/step - loss: 7.5795 - max_margin_loss: 7.5738\n",
      "Epoch 2/15\n",
      "475/475 - 95s - 201ms/step - loss: 4.8201 - max_margin_loss: 4.8191\n",
      "Epoch 3/15\n",
      "475/475 - 103s - 216ms/step - loss: 4.6539 - max_margin_loss: 4.6516\n",
      "Epoch 4/15\n",
      "475/475 - 108s - 228ms/step - loss: 4.6021 - max_margin_loss: 4.6027\n",
      "Epoch 5/15\n",
      "475/475 - 109s - 228ms/step - loss: 4.5763 - max_margin_loss: 4.5748\n",
      "Epoch 6/15\n",
      "475/475 - 103s - 216ms/step - loss: 4.5620 - max_margin_loss: 4.5599\n",
      "Epoch 7/15\n",
      "475/475 - 97s - 204ms/step - loss: 4.5524 - max_margin_loss: 4.5529\n",
      "Epoch 8/15\n",
      "475/475 - 99s - 207ms/step - loss: 4.5325 - max_margin_loss: 4.5314\n",
      "Epoch 9/15\n",
      "475/475 - 101s - 214ms/step - loss: 4.5287 - max_margin_loss: 4.5278\n",
      "Epoch 10/15\n",
      "475/475 - 100s - 211ms/step - loss: 4.5098 - max_margin_loss: 4.5074\n",
      "Epoch 11/15\n",
      "475/475 - 98s - 207ms/step - loss: 4.5100 - max_margin_loss: 4.5090\n",
      "Epoch 12/15\n",
      "475/475 - 98s - 206ms/step - loss: 4.5104 - max_margin_loss: 4.5107\n",
      "Epoch 13/15\n",
      "475/475 - 99s - 209ms/step - loss: 4.4936 - max_margin_loss: 4.4942\n",
      "Epoch 14/15\n",
      "475/475 - 99s - 209ms/step - loss: 4.4929 - max_margin_loss: 4.4892\n",
      "Epoch 15/15\n",
      "475/475 - 100s - 210ms/step - loss: 4.4809 - max_margin_loss: 4.4793\n",
      "Generating numeric representation for each word of ds.\n"
     ]
    },
    {
     "data": {
      "text/plain": [
       "Pandas Apply:   0%|          | 0/20230 [00:00<?, ?it/s]"
      ],
      "application/vnd.jupyter.widget-view+json": {
       "version_major": 2,
       "version_minor": 0,
       "model_id": "ae8bc6b410634b58baf583100702013e"
      }
     },
     "metadata": {},
     "output_type": "display_data"
    },
    {
     "name": "stdout",
     "output_type": "stream",
     "text": [
      "Max sequence length calculation in progress...\n",
      "We loose information on 489(2.417202174987642% of ds).\n",
      "\u001B[1m159/159\u001B[0m \u001B[32m━━━━━━━━━━━━━━━━━━━━\u001B[0m\u001B[37m\u001B[0m \u001B[1m19s\u001B[0m 119ms/step - loss: 4.5366 - max_margin_loss: 4.5357\n",
      "Generating numeric representation for each word of ds.\n"
     ]
    },
    {
     "data": {
      "text/plain": [
       "Pandas Apply:   0%|          | 0/20230 [00:00<?, ?it/s]"
      ],
      "application/vnd.jupyter.widget-view+json": {
       "version_major": 2,
       "version_minor": 0,
       "model_id": "7f3b95eb5110413788a677a956aa7a1f"
      }
     },
     "metadata": {},
     "output_type": "display_data"
    },
    {
     "name": "stdout",
     "output_type": "stream",
     "text": [
      "Max sequence length calculation in progress...\n",
      "We loose information on 489(2.417202174987642% of ds).\n",
      "\u001B[1m40/40\u001B[0m \u001B[32m━━━━━━━━━━━━━━━━━━━━\u001B[0m\u001B[37m\u001B[0m \u001B[1m0s\u001B[0m 9ms/step \n"
     ]
    },
    {
     "data": {
      "text/plain": [
       "Pandas Apply:   0%|          | 0/20230 [00:00<?, ?it/s]"
      ],
      "application/vnd.jupyter.widget-view+json": {
       "version_major": 2,
       "version_minor": 0,
       "model_id": "702043e2f0294d8d9ced31eef8a8c702"
      }
     },
     "metadata": {},
     "output_type": "display_data"
    },
    {
     "data": {
      "text/plain": [
       "Pandas Apply:   0%|          | 0/20230 [00:00<?, ?it/s]"
      ],
      "application/vnd.jupyter.widget-view+json": {
       "version_major": 2,
       "version_minor": 0,
       "model_id": "a25bceaca3cb4d5ebfaa820860ebec2b"
      }
     },
     "metadata": {},
     "output_type": "display_data"
    },
    {
     "data": {
      "text/plain": [
       "Pandas Apply:   0%|          | 0/20230 [00:00<?, ?it/s]"
      ],
      "application/vnd.jupyter.widget-view+json": {
       "version_major": 2,
       "version_minor": 0,
       "model_id": "5864735e502e42afbd8ad2dd2fd8f15c"
      }
     },
     "metadata": {},
     "output_type": "display_data"
    },
    {
     "data": {
      "text/plain": [
       "Pandas Apply:   0%|          | 0/20230 [00:00<?, ?it/s]"
      ],
      "application/vnd.jupyter.widget-view+json": {
       "version_major": 2,
       "version_minor": 0,
       "model_id": "598e6853050c4a48bd0d4a1c82092f73"
      }
     },
     "metadata": {},
     "output_type": "display_data"
    }
   ],
   "execution_count": 10
  },
  {
   "metadata": {
    "ExecuteTime": {
     "end_time": "2025-03-22T11:23:55.874738Z",
     "start_time": "2025-03-22T11:23:55.870736Z"
    }
   },
   "cell_type": "code",
   "source": "pprint(res)",
   "id": "63d998f3720bc703",
   "outputs": [
    {
     "name": "stdout",
     "output_type": "stream",
     "text": [
      "{'coherence': [-10.165343087442237,\n",
      "               -9.238136382666726,\n",
      "               -7.179224357682313,\n",
      "               -7.095903532720541],\n",
      " 'loss': [4.536928176879883, 4.546741485595703],\n",
      " 'silhouette_score': 0.10153559595346451,\n",
      " 'top': [20, 10, 5, 3]}\n"
     ]
    }
   ],
   "execution_count": 11
  },
  {
   "metadata": {},
   "cell_type": "markdown",
   "source": "## Sentence-split reviews",
   "id": "9eaaec47b2c6b0dc"
  },
  {
   "metadata": {
    "ExecuteTime": {
     "end_time": "2025-03-22T11:25:46.949236Z",
     "start_time": "2025-03-22T11:25:46.945685Z"
    }
   },
   "cell_type": "code",
   "source": [
    "corpus_path = \"../dataset/output/default_sentences/pre_processed.80k.csv\"\n",
    "test_corpus_path = \"../dataset/output/default_sentences/pre_processed.80k.test.csv\""
   ],
   "id": "de599d8f511eee18",
   "outputs": [],
   "execution_count": 12
  },
  {
   "metadata": {
    "ExecuteTime": {
     "end_time": "2025-03-22T11:52:25.760671Z",
     "start_time": "2025-03-22T11:26:04.298408Z"
    }
   },
   "cell_type": "code",
   "source": [
    "manager = ABAEManager.from_config(ABAEManagerConfig('default-sentence-small'), corpus_path)\n",
    "manager.train(corpus_path, verbose=2)\n",
    "res = manager.evaluate([20, 10, 5, 3], test_corpus=test_corpus_path)"
   ],
   "id": "ba5daef7089707a9",
   "outputs": [
    {
     "data": {
      "text/plain": [
       "Pandas Apply:   0%|          | 0/68550 [00:00<?, ?it/s]"
      ],
      "application/vnd.jupyter.widget-view+json": {
       "version_major": 2,
       "version_minor": 0,
       "model_id": "1fc8ef08e0444e9cb909399676455739"
      }
     },
     "metadata": {},
     "output_type": "display_data"
    },
    {
     "name": "stderr",
     "output_type": "stream",
     "text": [
      "D:\\PycharmProjects\\nlp-course-project\\.venv\\Lib\\site-packages\\gensim\\models\\keyedvectors.py:551: UserWarning: Adding single vectors to a KeyedVectors which grows by one each time can be costly. Consider adding in batches or preallocating to the required size.\n",
      "  warnings.warn(\n"
     ]
    },
    {
     "name": "stdout",
     "output_type": "stream",
     "text": [
      "Creating new Aspect embedding model\n",
      "\n",
      "Generating numeric representation for each word of ds.\n"
     ]
    },
    {
     "data": {
      "text/plain": [
       "Pandas Apply:   0%|          | 0/68550 [00:00<?, ?it/s]"
      ],
      "application/vnd.jupyter.widget-view+json": {
       "version_major": 2,
       "version_minor": 0,
       "model_id": "207f356c8093419fb1965fc022e34ac0"
      }
     },
     "metadata": {},
     "output_type": "display_data"
    },
    {
     "name": "stdout",
     "output_type": "stream",
     "text": [
      "Max sequence length calculation in progress...\n",
      "We loose information on 12(0.0175054704595186% of ds).\n",
      "Generating a new compiled model from scratch\n",
      "Training is starting:\n",
      "Epoch 1/15\n",
      "536/536 - 102s - 190ms/step - loss: 8.9767 - max_margin_loss: 8.9717\n",
      "Epoch 2/15\n",
      "536/536 - 105s - 195ms/step - loss: 6.2761 - max_margin_loss: 6.2748\n",
      "Epoch 3/15\n",
      "536/536 - 113s - 211ms/step - loss: 6.0804 - max_margin_loss: 6.0788\n",
      "Epoch 4/15\n",
      "536/536 - 97s - 181ms/step - loss: 6.0198 - max_margin_loss: 6.0184\n",
      "Epoch 5/15\n",
      "536/536 - 98s - 183ms/step - loss: 5.9774 - max_margin_loss: 5.9762\n",
      "Epoch 6/15\n",
      "536/536 - 101s - 189ms/step - loss: 5.9492 - max_margin_loss: 5.9477\n",
      "Epoch 7/15\n",
      "536/536 - 98s - 182ms/step - loss: 5.9253 - max_margin_loss: 5.9238\n",
      "Epoch 8/15\n",
      "536/536 - 100s - 186ms/step - loss: 5.9165 - max_margin_loss: 5.9147\n",
      "Epoch 9/15\n",
      "536/536 - 97s - 180ms/step - loss: 5.8963 - max_margin_loss: 5.8948\n",
      "Epoch 10/15\n",
      "536/536 - 101s - 188ms/step - loss: 5.8796 - max_margin_loss: 5.8780\n",
      "Epoch 11/15\n",
      "536/536 - 101s - 189ms/step - loss: 5.8670 - max_margin_loss: 5.8657\n",
      "Epoch 12/15\n",
      "536/536 - 104s - 194ms/step - loss: 5.8617 - max_margin_loss: 5.8606\n",
      "Epoch 13/15\n",
      "536/536 - 99s - 184ms/step - loss: 5.8468 - max_margin_loss: 5.8460\n",
      "Epoch 14/15\n",
      "536/536 - 95s - 178ms/step - loss: 5.8445 - max_margin_loss: 5.8431\n",
      "Epoch 15/15\n",
      "536/536 - 96s - 179ms/step - loss: 5.8329 - max_margin_loss: 5.8317\n",
      "Generating numeric representation for each word of ds.\n"
     ]
    },
    {
     "data": {
      "text/plain": [
       "Pandas Apply:   0%|          | 0/22850 [00:00<?, ?it/s]"
      ],
      "application/vnd.jupyter.widget-view+json": {
       "version_major": 2,
       "version_minor": 0,
       "model_id": "40f826796b4b44cd9ea727abea834d46"
      }
     },
     "metadata": {},
     "output_type": "display_data"
    },
    {
     "name": "stdout",
     "output_type": "stream",
     "text": [
      "Max sequence length calculation in progress...\n",
      "We loose information on 2(0.0087527352297593% of ds).\n",
      "\u001B[1m179/179\u001B[0m \u001B[32m━━━━━━━━━━━━━━━━━━━━\u001B[0m\u001B[37m\u001B[0m \u001B[1m23s\u001B[0m 129ms/step - loss: 5.7996 - max_margin_loss: 5.7981\n",
      "Generating numeric representation for each word of ds.\n"
     ]
    },
    {
     "data": {
      "text/plain": [
       "Pandas Apply:   0%|          | 0/22850 [00:00<?, ?it/s]"
      ],
      "application/vnd.jupyter.widget-view+json": {
       "version_major": 2,
       "version_minor": 0,
       "model_id": "59e3de5b8fc845c7900e549c97fec4df"
      }
     },
     "metadata": {},
     "output_type": "display_data"
    },
    {
     "name": "stdout",
     "output_type": "stream",
     "text": [
      "Max sequence length calculation in progress...\n",
      "We loose information on 2(0.0087527352297593% of ds).\n",
      "\u001B[1m45/45\u001B[0m \u001B[32m━━━━━━━━━━━━━━━━━━━━\u001B[0m\u001B[37m\u001B[0m \u001B[1m0s\u001B[0m 10ms/step\n"
     ]
    },
    {
     "data": {
      "text/plain": [
       "Pandas Apply:   0%|          | 0/22850 [00:00<?, ?it/s]"
      ],
      "application/vnd.jupyter.widget-view+json": {
       "version_major": 2,
       "version_minor": 0,
       "model_id": "ac04fc27a7e345d2a584a6d2e90d3648"
      }
     },
     "metadata": {},
     "output_type": "display_data"
    },
    {
     "data": {
      "text/plain": [
       "Pandas Apply:   0%|          | 0/22850 [00:00<?, ?it/s]"
      ],
      "application/vnd.jupyter.widget-view+json": {
       "version_major": 2,
       "version_minor": 0,
       "model_id": "c1f95b1996f648baa998fa0a27965d8f"
      }
     },
     "metadata": {},
     "output_type": "display_data"
    },
    {
     "data": {
      "text/plain": [
       "Pandas Apply:   0%|          | 0/22850 [00:00<?, ?it/s]"
      ],
      "application/vnd.jupyter.widget-view+json": {
       "version_major": 2,
       "version_minor": 0,
       "model_id": "d06bdd7de1a2411fb064b703aebe4ea8"
      }
     },
     "metadata": {},
     "output_type": "display_data"
    },
    {
     "data": {
      "text/plain": [
       "Pandas Apply:   0%|          | 0/22850 [00:00<?, ?it/s]"
      ],
      "application/vnd.jupyter.widget-view+json": {
       "version_major": 2,
       "version_minor": 0,
       "model_id": "2313a7cf9d9c4ddc8fe1cf0b43cd1318"
      }
     },
     "metadata": {},
     "output_type": "display_data"
    }
   ],
   "execution_count": 13
  },
  {
   "metadata": {
    "ExecuteTime": {
     "end_time": "2025-03-22T11:52:25.775442Z",
     "start_time": "2025-03-22T11:52:25.772194Z"
    }
   },
   "cell_type": "code",
   "source": "pprint(res)",
   "id": "57733fb14ae7b153",
   "outputs": [
    {
     "name": "stdout",
     "output_type": "stream",
     "text": [
      "{'coherence': [-10.03381872158121,\n",
      "               -8.373182405617502,\n",
      "               -7.211015889840545,\n",
      "               -6.196475433751492],\n",
      " 'loss': [5.810688495635986, 5.807947158813477],\n",
      " 'silhouette_score': 0.1704401671886444,\n",
      " 'top': [20, 10, 5, 3]}\n"
     ]
    }
   ],
   "execution_count": 14
  },
  {
   "metadata": {},
   "cell_type": "markdown",
   "source": [
    "I know that doing a  comparison on a single run is not that meaningful. <br>\n",
    "I could do k-CV to estimate the expected model loss to get a valid analysis. <br>\n",
    "But for the sake of the experiment we consider this good enough."
   ],
   "id": "b78cbae13b203c37"
  },
  {
   "metadata": {},
   "cell_type": "markdown",
   "source": [
    "## NOUN only\n",
    "I expect this to utterly fail in the task as we loose sentence structure which ABAE sounds to be abusing. <br>\n",
    "Being based on word2vec embeddings this kind of pre-processing should be harmful I suppose."
   ],
   "id": "45effeec64f11cdd"
  },
  {
   "metadata": {
    "ExecuteTime": {
     "end_time": "2025-03-22T14:52:57.243394Z",
     "start_time": "2025-03-22T14:52:55.722904Z"
    }
   },
   "cell_type": "code",
   "source": [
    "from main.lda.pre_processing import extract_pos_ds\n",
    "import pandas as pd\n",
    "\n",
    "print(\"Creating the __noun filtered ds:\")\n",
    "corpus_path = \"../dataset/output/pos_tagged/pre_processed.80k.csv\"\n",
    "store_path = \"../dataset/output/pos_tagged/pre_processed.80k.noun_only.csv\"\n",
    "extract_pos_ds(pd.read_csv(corpus_path)['comments'], \"__noun\", store_path)\n",
    "print(\"ds created under: \" + store_path)\n",
    "\n",
    "print(\"Creating the __noun filtered test ds:\")\n",
    "corpus_path = \"../dataset/output/pos_tagged/pre_processed.80k.test.csv\"\n",
    "store_path = \"../dataset/output/pos_tagged/pre_processed.80k.noun_only.test.csv\"\n",
    "extract_pos_ds(pd.read_csv(corpus_path)['comments'], \"__noun\", store_path)\n",
    "print(\"ds created under: \" + store_path)"
   ],
   "id": "86ec4d3d3c01530c",
   "outputs": [
    {
     "name": "stdout",
     "output_type": "stream",
     "text": [
      "Creating the __noun filtered ds:\n"
     ]
    },
    {
     "data": {
      "text/plain": [
       "Pandas Apply:   0%|          | 0/60763 [00:00<?, ?it/s]"
      ],
      "application/vnd.jupyter.widget-view+json": {
       "version_major": 2,
       "version_minor": 0,
       "model_id": "2da8b26502fa463490b2c3118bc83e11"
      }
     },
     "metadata": {},
     "output_type": "display_data"
    },
    {
     "data": {
      "text/plain": [
       "Pandas Apply:   0%|          | 0/60763 [00:00<?, ?it/s]"
      ],
      "application/vnd.jupyter.widget-view+json": {
       "version_major": 2,
       "version_minor": 0,
       "model_id": "289ace49431045e4a20aa22eaa3ecda7"
      }
     },
     "metadata": {},
     "output_type": "display_data"
    },
    {
     "name": "stdout",
     "output_type": "stream",
     "text": [
      "ds created under: ../dataset/output/pos_tagged/pre_processed.80k.noun_only.csv\n",
      "Creating the __noun filtered test ds:\n"
     ]
    },
    {
     "data": {
      "text/plain": [
       "Pandas Apply:   0%|          | 0/20254 [00:00<?, ?it/s]"
      ],
      "application/vnd.jupyter.widget-view+json": {
       "version_major": 2,
       "version_minor": 0,
       "model_id": "baa02bc7f1294f1a9e9c36f3e137c686"
      }
     },
     "metadata": {},
     "output_type": "display_data"
    },
    {
     "data": {
      "text/plain": [
       "Pandas Apply:   0%|          | 0/20254 [00:00<?, ?it/s]"
      ],
      "application/vnd.jupyter.widget-view+json": {
       "version_major": 2,
       "version_minor": 0,
       "model_id": "6b072c0d24c84c87afb7e80c6193f591"
      }
     },
     "metadata": {},
     "output_type": "display_data"
    },
    {
     "name": "stdout",
     "output_type": "stream",
     "text": [
      "ds created under: ../dataset/output/pos_tagged/pre_processed.80k.noun_only.test.csv\n"
     ]
    }
   ],
   "execution_count": 15
  },
  {
   "metadata": {
    "ExecuteTime": {
     "end_time": "2025-03-22T15:17:42.919539Z",
     "start_time": "2025-03-22T14:53:19.236878Z"
    }
   },
   "cell_type": "code",
   "source": [
    "corpus_path = \"../dataset/output/pos_tagged/pre_processed.80k.noun_only.csv\"\n",
    "test_corpus_path = \"../dataset/output/pos_tagged/pre_processed.80k.noun_only.test.csv\"\n",
    "\n",
    "manager = ABAEManager.from_config(ABAEManagerConfig('noun_only'), corpus_path)\n",
    "manager.train(corpus_path, verbose=2)\n",
    "res = manager.evaluate([20, 10, 5, 3], test_corpus=test_corpus_path)"
   ],
   "id": "1122e985147b038b",
   "outputs": [
    {
     "data": {
      "text/plain": [
       "Pandas Apply:   0%|          | 0/52175 [00:00<?, ?it/s]"
      ],
      "application/vnd.jupyter.widget-view+json": {
       "version_major": 2,
       "version_minor": 0,
       "model_id": "3baf58ca02a8475c98a161176d2f7d23"
      }
     },
     "metadata": {},
     "output_type": "display_data"
    },
    {
     "name": "stdout",
     "output_type": "stream",
     "text": [
      "Loading the existing found model as requested in path ./output/noun_only/noun_only.aspect_embeddings.model\n",
      "Generating numeric representation for each word of ds.\n"
     ]
    },
    {
     "data": {
      "text/plain": [
       "Pandas Apply:   0%|          | 0/52175 [00:00<?, ?it/s]"
      ],
      "application/vnd.jupyter.widget-view+json": {
       "version_major": 2,
       "version_minor": 0,
       "model_id": "e3decc77192349be8ae26f25d2d758ab"
      }
     },
     "metadata": {},
     "output_type": "display_data"
    },
    {
     "name": "stdout",
     "output_type": "stream",
     "text": [
      "Max sequence length calculation in progress...\n",
      "We loose information on 203(0.389075227599425% of ds).\n",
      "Generating a new compiled model from scratch\n",
      "Training is starting:\n",
      "Epoch 1/15\n",
      "408/408 - 93s - 227ms/step - loss: 9.0050 - max_margin_loss: 8.9995\n",
      "Epoch 2/15\n",
      "408/408 - 93s - 229ms/step - loss: 5.8635 - max_margin_loss: 5.8624\n",
      "Epoch 3/15\n",
      "408/408 - 92s - 225ms/step - loss: 5.6911 - max_margin_loss: 5.6900\n",
      "Epoch 4/15\n",
      "408/408 - 92s - 224ms/step - loss: 5.6327 - max_margin_loss: 5.6318\n",
      "Epoch 5/15\n",
      "408/408 - 92s - 226ms/step - loss: 5.5829 - max_margin_loss: 5.5815\n",
      "Epoch 6/15\n",
      "408/408 - 90s - 222ms/step - loss: 5.5579 - max_margin_loss: 5.5564\n",
      "Epoch 7/15\n",
      "408/408 - 89s - 218ms/step - loss: 5.5367 - max_margin_loss: 5.5351\n",
      "Epoch 8/15\n",
      "408/408 - 92s - 225ms/step - loss: 5.5208 - max_margin_loss: 5.5185\n",
      "Epoch 9/15\n",
      "408/408 - 93s - 229ms/step - loss: 5.5122 - max_margin_loss: 5.5108\n",
      "Epoch 10/15\n",
      "408/408 - 95s - 233ms/step - loss: 5.4931 - max_margin_loss: 5.4915\n",
      "Epoch 11/15\n",
      "408/408 - 93s - 229ms/step - loss: 5.4847 - max_margin_loss: 5.4831\n",
      "Epoch 12/15\n",
      "408/408 - 94s - 231ms/step - loss: 5.4731 - max_margin_loss: 5.4714\n",
      "Epoch 13/15\n",
      "408/408 - 94s - 231ms/step - loss: 5.4652 - max_margin_loss: 5.4636\n",
      "Epoch 14/15\n",
      "408/408 - 91s - 224ms/step - loss: 5.4648 - max_margin_loss: 5.4630\n",
      "Epoch 15/15\n",
      "408/408 - 98s - 239ms/step - loss: 5.4575 - max_margin_loss: 5.4560\n",
      "Generating numeric representation for each word of ds.\n"
     ]
    },
    {
     "data": {
      "text/plain": [
       "Pandas Apply:   0%|          | 0/17702 [00:00<?, ?it/s]"
      ],
      "application/vnd.jupyter.widget-view+json": {
       "version_major": 2,
       "version_minor": 0,
       "model_id": "047573f6824949a2941627fc85a4cb75"
      }
     },
     "metadata": {},
     "output_type": "display_data"
    },
    {
     "name": "stdout",
     "output_type": "stream",
     "text": [
      "Max sequence length calculation in progress...\n",
      "We loose information on 76(0.42933001920686925% of ds).\n",
      "\u001B[1m139/139\u001B[0m \u001B[32m━━━━━━━━━━━━━━━━━━━━\u001B[0m\u001B[37m\u001B[0m \u001B[1m15s\u001B[0m 108ms/step - loss: 5.4776 - max_margin_loss: 5.4760\n",
      "Generating numeric representation for each word of ds.\n"
     ]
    },
    {
     "data": {
      "text/plain": [
       "Pandas Apply:   0%|          | 0/17702 [00:00<?, ?it/s]"
      ],
      "application/vnd.jupyter.widget-view+json": {
       "version_major": 2,
       "version_minor": 0,
       "model_id": "2851bde520c14dd8bc2e9a470e8117c2"
      }
     },
     "metadata": {},
     "output_type": "display_data"
    },
    {
     "name": "stdout",
     "output_type": "stream",
     "text": [
      "Max sequence length calculation in progress...\n",
      "We loose information on 76(0.42933001920686925% of ds).\n",
      "\u001B[1m35/35\u001B[0m \u001B[32m━━━━━━━━━━━━━━━━━━━━\u001B[0m\u001B[37m\u001B[0m \u001B[1m0s\u001B[0m 9ms/step\n"
     ]
    },
    {
     "data": {
      "text/plain": [
       "Pandas Apply:   0%|          | 0/17702 [00:00<?, ?it/s]"
      ],
      "application/vnd.jupyter.widget-view+json": {
       "version_major": 2,
       "version_minor": 0,
       "model_id": "26b5d0565a4b4a5bbb24421a5b4a675c"
      }
     },
     "metadata": {},
     "output_type": "display_data"
    },
    {
     "data": {
      "text/plain": [
       "Pandas Apply:   0%|          | 0/17702 [00:00<?, ?it/s]"
      ],
      "application/vnd.jupyter.widget-view+json": {
       "version_major": 2,
       "version_minor": 0,
       "model_id": "80cb60ec1aaa46f9b479b8f49d8cf748"
      }
     },
     "metadata": {},
     "output_type": "display_data"
    },
    {
     "data": {
      "text/plain": [
       "Pandas Apply:   0%|          | 0/17702 [00:00<?, ?it/s]"
      ],
      "application/vnd.jupyter.widget-view+json": {
       "version_major": 2,
       "version_minor": 0,
       "model_id": "91ad24a46d99412e8334223538556092"
      }
     },
     "metadata": {},
     "output_type": "display_data"
    },
    {
     "data": {
      "text/plain": [
       "Pandas Apply:   0%|          | 0/17702 [00:00<?, ?it/s]"
      ],
      "application/vnd.jupyter.widget-view+json": {
       "version_major": 2,
       "version_minor": 0,
       "model_id": "273297472d534a75a8b3bc8757b32754"
      }
     },
     "metadata": {},
     "output_type": "display_data"
    }
   ],
   "execution_count": 16
  },
  {
   "metadata": {
    "ExecuteTime": {
     "end_time": "2025-03-22T15:17:42.935671Z",
     "start_time": "2025-03-22T15:17:42.932060Z"
    }
   },
   "cell_type": "code",
   "source": "pprint(res)  # Loss is quite higher but very good coherence",
   "id": "99ce52abc48b5f2b",
   "outputs": [
    {
     "name": "stdout",
     "output_type": "stream",
     "text": [
      "{'coherence': [-8.975561259693754,\n",
      "               -7.674651170943385,\n",
      "               -6.952137122380766,\n",
      "               -6.804949733554401],\n",
      " 'loss': [5.49080228805542, 5.493194580078125],\n",
      " 'silhouette_score': 0.14022880792617798,\n",
      " 'top': [20, 10, 5, 3]}\n"
     ]
    }
   ],
   "execution_count": 17
  },
  {
   "metadata": {
    "ExecuteTime": {
     "end_time": "2025-03-22T15:24:07.284002Z",
     "start_time": "2025-03-22T15:20:35.250923Z"
    }
   },
   "cell_type": "code",
   "source": [
    "# To see if it holds well against the other model\n",
    "res = manager.evaluate([20, 10, 5, 3], test_corpus=\"../dataset/output/default/pre_processed.310k.test.csv\")"
   ],
   "id": "f411c1c3f4c26c68",
   "outputs": [
    {
     "name": "stdout",
     "output_type": "stream",
     "text": [
      "Generating numeric representation for each word of ds.\n"
     ]
    },
    {
     "data": {
      "text/plain": [
       "Pandas Apply:   0%|          | 0/77794 [00:00<?, ?it/s]"
      ],
      "application/vnd.jupyter.widget-view+json": {
       "version_major": 2,
       "version_minor": 0,
       "model_id": "e32898715a09427dbd2811ecc8ffe862"
      }
     },
     "metadata": {},
     "output_type": "display_data"
    },
    {
     "name": "stdout",
     "output_type": "stream",
     "text": [
      "Max sequence length calculation in progress...\n",
      "We loose information on 1827(2.3485101678792706% of ds).\n",
      "\u001B[1m608/608\u001B[0m \u001B[32m━━━━━━━━━━━━━━━━━━━━\u001B[0m\u001B[37m\u001B[0m \u001B[1m160s\u001B[0m 263ms/step - loss: 6.2350 - max_margin_loss: 6.2333\n",
      "Generating numeric representation for each word of ds.\n"
     ]
    },
    {
     "data": {
      "text/plain": [
       "Pandas Apply:   0%|          | 0/77794 [00:00<?, ?it/s]"
      ],
      "application/vnd.jupyter.widget-view+json": {
       "version_major": 2,
       "version_minor": 0,
       "model_id": "7af9e0ad8f5248ddac5a939bffd94bab"
      }
     },
     "metadata": {},
     "output_type": "display_data"
    },
    {
     "name": "stdout",
     "output_type": "stream",
     "text": [
      "Max sequence length calculation in progress...\n",
      "We loose information on 1827(2.3485101678792706% of ds).\n",
      "\u001B[1m152/152\u001B[0m \u001B[32m━━━━━━━━━━━━━━━━━━━━\u001B[0m\u001B[37m\u001B[0m \u001B[1m2s\u001B[0m 16ms/step\n"
     ]
    },
    {
     "data": {
      "text/plain": [
       "Pandas Apply:   0%|          | 0/77794 [00:00<?, ?it/s]"
      ],
      "application/vnd.jupyter.widget-view+json": {
       "version_major": 2,
       "version_minor": 0,
       "model_id": "83f46df76c34423da28666f4fc33f50f"
      }
     },
     "metadata": {},
     "output_type": "display_data"
    },
    {
     "data": {
      "text/plain": [
       "Pandas Apply:   0%|          | 0/77794 [00:00<?, ?it/s]"
      ],
      "application/vnd.jupyter.widget-view+json": {
       "version_major": 2,
       "version_minor": 0,
       "model_id": "9bf32afc289e41e4b65b5b1ee8824c0b"
      }
     },
     "metadata": {},
     "output_type": "display_data"
    },
    {
     "data": {
      "text/plain": [
       "Pandas Apply:   0%|          | 0/77794 [00:00<?, ?it/s]"
      ],
      "application/vnd.jupyter.widget-view+json": {
       "version_major": 2,
       "version_minor": 0,
       "model_id": "fe918f083f7444bd9241d5016ecceac8"
      }
     },
     "metadata": {},
     "output_type": "display_data"
    },
    {
     "data": {
      "text/plain": [
       "Pandas Apply:   0%|          | 0/77794 [00:00<?, ?it/s]"
      ],
      "application/vnd.jupyter.widget-view+json": {
       "version_major": 2,
       "version_minor": 0,
       "model_id": "f36aa2bfd81145b4afadb4db538ebac8"
      }
     },
     "metadata": {},
     "output_type": "display_data"
    }
   ],
   "execution_count": 19
  },
  {
   "metadata": {},
   "cell_type": "markdown",
   "source": "For the future work and as one by the proposed ABAE paper we won't be splitting up reviews in sentences but use the full review as the model does not increase much in performance if not done like this.",
   "id": "5b4c80db434e5d1"
  },
  {
   "metadata": {
    "ExecuteTime": {
     "end_time": "2025-03-22T15:24:16.790373Z",
     "start_time": "2025-03-22T15:24:16.785213Z"
    }
   },
   "cell_type": "code",
   "source": "res  # Great coherence",
   "id": "40bb655b16cb3c57",
   "outputs": [
    {
     "data": {
      "text/plain": [
       "{'coherence': [-6.676461261251687,\n",
       "  -5.6416849039010035,\n",
       "  -5.0618468606208324,\n",
       "  -4.321103472933283],\n",
       " 'top': [20, 10, 5, 3],\n",
       " 'loss': [6.252679347991943, 6.250834941864014],\n",
       " 'silhouette_score': 0.1203828826546669}"
      ]
     },
     "execution_count": 21,
     "metadata": {},
     "output_type": "execute_result"
    }
   ],
   "execution_count": 21
  },
  {
   "metadata": {
    "ExecuteTime": {
     "end_time": "2025-03-22T15:24:07.974049Z",
     "start_time": "2025-03-22T15:24:07.299834Z"
    }
   },
   "cell_type": "code",
   "source": [
    "ev = manager.make_ev_processor(\"../dataset/output/default/pre_processed.310k.test.csv\")\n",
    "ev.get_aspects(top_n=20)"
   ],
   "id": "bb68c4160199ca09",
   "outputs": [
    {
     "data": {
      "text/plain": [
       "[[('gamplay', tensor(0.6785, device='cuda:0', grad_fn=<SelectBackward0>)),\n",
       "  ('name', tensor(0.6759, device='cuda:0', grad_fn=<SelectBackward0>)),\n",
       "  ('game', tensor(0.6751, device='cuda:0', grad_fn=<SelectBackward0>)),\n",
       "  ('citadel', tensor(0.6737, device='cuda:0', grad_fn=<SelectBackward0>)),\n",
       "  ('devotion', tensor(0.6685, device='cuda:0', grad_fn=<SelectBackward0>)),\n",
       "  ('hulk', tensor(0.6683, device='cuda:0', grad_fn=<SelectBackward0>)),\n",
       "  ('concept', tensor(0.6664, device='cuda:0', grad_fn=<SelectBackward0>)),\n",
       "  ('killing', tensor(0.6656, device='cuda:0', grad_fn=<SelectBackward0>)),\n",
       "  ('machination', tensor(0.6645, device='cuda:0', grad_fn=<SelectBackward0>)),\n",
       "  ('richness', tensor(0.6591, device='cuda:0', grad_fn=<SelectBackward0>)),\n",
       "  ('accomplishment',\n",
       "   tensor(0.6570, device='cuda:0', grad_fn=<SelectBackward0>)),\n",
       "  ('presence', tensor(0.6561, device='cuda:0', grad_fn=<SelectBackward0>)),\n",
       "  ('parody', tensor(0.6525, device='cuda:0', grad_fn=<SelectBackward0>)),\n",
       "  ('department', tensor(0.6518, device='cuda:0', grad_fn=<SelectBackward0>)),\n",
       "  ('job', tensor(0.6515, device='cuda:0', grad_fn=<SelectBackward0>)),\n",
       "  ('scope', tensor(0.6510, device='cuda:0', grad_fn=<SelectBackward0>)),\n",
       "  ('body', tensor(0.6504, device='cuda:0', grad_fn=<SelectBackward0>)),\n",
       "  ('aesthetic', tensor(0.6495, device='cuda:0', grad_fn=<SelectBackward0>)),\n",
       "  ('quote', tensor(0.6491, device='cuda:0', grad_fn=<SelectBackward0>)),\n",
       "  ('cartoony', tensor(0.6489, device='cuda:0', grad_fn=<SelectBackward0>))],\n",
       " [('count', tensor(0.6438, device='cuda:0', grad_fn=<SelectBackward0>)),\n",
       "  ('faction', tensor(0.6376, device='cuda:0', grad_fn=<SelectBackward0>)),\n",
       "  ('chance', tensor(0.6279, device='cuda:0', grad_fn=<SelectBackward0>)),\n",
       "  ('problem', tensor(0.6034, device='cuda:0', grad_fn=<SelectBackward0>)),\n",
       "  ('issue', tensor(0.6022, device='cuda:0', grad_fn=<SelectBackward0>)),\n",
       "  ('player', tensor(0.5985, device='cuda:0', grad_fn=<SelectBackward0>)),\n",
       "  ('downtime', tensor(0.5909, device='cuda:0', grad_fn=<SelectBackward0>)),\n",
       "  ('situation', tensor(0.5688, device='cuda:0', grad_fn=<SelectBackward0>)),\n",
       "  ('chaos', tensor(0.5687, device='cuda:0', grad_fn=<SelectBackward0>)),\n",
       "  ('playing', tensor(0.5599, device='cuda:0', grad_fn=<SelectBackward0>)),\n",
       "  ('advantage', tensor(0.5592, device='cuda:0', grad_fn=<SelectBackward0>)),\n",
       "  ('deal', tensor(0.5551, device='cuda:0', grad_fn=<SelectBackward0>)),\n",
       "  ('play', tensor(0.5551, device='cuda:0', grad_fn=<SelectBackward0>)),\n",
       "  ('leader', tensor(0.5526, device='cuda:0', grad_fn=<SelectBackward0>)),\n",
       "  ('paralysis', tensor(0.5504, device='cuda:0', grad_fn=<SelectBackward0>)),\n",
       "  ('negotiation', tensor(0.5415, device='cuda:0', grad_fn=<SelectBackward0>)),\n",
       "  ('possibility', tensor(0.5404, device='cuda:0', grad_fn=<SelectBackward0>)),\n",
       "  ('lack', tensor(0.5359, device='cuda:0', grad_fn=<SelectBackward0>)),\n",
       "  ('time', tensor(0.5359, device='cuda:0', grad_fn=<SelectBackward0>)),\n",
       "  ('balance', tensor(0.5346, device='cuda:0', grad_fn=<SelectBackward0>))],\n",
       " [('worker', tensor(0.5088, device='cuda:0', grad_fn=<SelectBackward0>)),\n",
       "  ('decision', tensor(0.5062, device='cuda:0', grad_fn=<SelectBackward0>)),\n",
       "  ('placement', tensor(0.4742, device='cuda:0', grad_fn=<SelectBackward0>)),\n",
       "  ('spot', tensor(0.4693, device='cuda:0', grad_fn=<SelectBackward0>)),\n",
       "  ('euro', tensor(0.4670, device='cuda:0', grad_fn=<SelectBackward0>)),\n",
       "  ('planning', tensor(0.4567, device='cuda:0', grad_fn=<SelectBackward0>)),\n",
       "  ('mechanism', tensor(0.4223, device='cuda:0', grad_fn=<SelectBackward0>)),\n",
       "  ('choice', tensor(0.3930, device='cuda:0', grad_fn=<SelectBackward0>)),\n",
       "  ('auction', tensor(0.3831, device='cuda:0', grad_fn=<SelectBackward0>)),\n",
       "  ('term', tensor(0.3820, device='cuda:0', grad_fn=<SelectBackward0>)),\n",
       "  ('dice', tensor(0.3697, device='cuda:0', grad_fn=<SelectBackward0>)),\n",
       "  ('resource', tensor(0.3595, device='cuda:0', grad_fn=<SelectBackward0>)),\n",
       "  ('drafting', tensor(0.3548, device='cuda:0', grad_fn=<SelectBackward0>)),\n",
       "  ('roll', tensor(0.3538, device='cuda:0', grad_fn=<SelectBackward0>)),\n",
       "  ('action', tensor(0.3516, device='cuda:0', grad_fn=<SelectBackward0>)),\n",
       "  ('efficiency', tensor(0.3415, device='cuda:0', grad_fn=<SelectBackward0>)),\n",
       "  ('bidding', tensor(0.3260, device='cuda:0', grad_fn=<SelectBackward0>)),\n",
       "  ('plan', tensor(0.3182, device='cuda:0', grad_fn=<SelectBackward0>)),\n",
       "  ('phase', tensor(0.3167, device='cuda:0', grad_fn=<SelectBackward0>)),\n",
       "  ('rolling', tensor(0.3141, device='cuda:0', grad_fn=<SelectBackward0>))],\n",
       " [('day', tensor(0.6027, device='cuda:0', grad_fn=<SelectBackward0>)),\n",
       "  ('boundary', tensor(0.5625, device='cuda:0', grad_fn=<SelectBackward0>)),\n",
       "  ('chapter', tensor(0.5591, device='cuda:0', grad_fn=<SelectBackward0>)),\n",
       "  ('couple', tensor(0.5569, device='cuda:0', grad_fn=<SelectBackward0>)),\n",
       "  ('click', tensor(0.5559, device='cuda:0', grad_fn=<SelectBackward0>)),\n",
       "  ('resetting', tensor(0.5521, device='cuda:0', grad_fn=<SelectBackward0>)),\n",
       "  ('interest', tensor(0.5493, device='cuda:0', grad_fn=<SelectBackward0>)),\n",
       "  ('spoiler', tensor(0.5484, device='cuda:0', grad_fn=<SelectBackward0>)),\n",
       "  ('purchase', tensor(0.5456, device='cuda:0', grad_fn=<SelectBackward0>)),\n",
       "  ('grinding', tensor(0.5380, device='cuda:0', grad_fn=<SelectBackward0>)),\n",
       "  ('futility', tensor(0.5367, device='cuda:0', grad_fn=<SelectBackward0>)),\n",
       "  ('star', tensor(0.5338, device='cuda:0', grad_fn=<SelectBackward0>)),\n",
       "  ('winter', tensor(0.5280, device='cuda:0', grad_fn=<SelectBackward0>)),\n",
       "  ('slide', tensor(0.5260, device='cuda:0', grad_fn=<SelectBackward0>)),\n",
       "  ('exit', tensor(0.5248, device='cuda:0', grad_fn=<SelectBackward0>)),\n",
       "  ('bunch', tensor(0.5221, device='cuda:0', grad_fn=<SelectBackward0>)),\n",
       "  ('in', tensor(0.5196, device='cuda:0', grad_fn=<SelectBackward0>)),\n",
       "  ('maintenance', tensor(0.5181, device='cuda:0', grad_fn=<SelectBackward0>)),\n",
       "  ('month', tensor(0.5148, device='cuda:0', grad_fn=<SelectBackward0>)),\n",
       "  ('season', tensor(0.5136, device='cuda:0', grad_fn=<SelectBackward0>))],\n",
       " [('number', tensor(0.3615, device='cuda:0', grad_fn=<SelectBackward0>)),\n",
       "  ('color', tensor(0.3372, device='cuda:0', grad_fn=<SelectBackward0>)),\n",
       "  ('order', tensor(0.3344, device='cuda:0', grad_fn=<SelectBackward0>)),\n",
       "  ('location', tensor(0.2885, device='cuda:0', grad_fn=<SelectBackward0>)),\n",
       "  ('opponent', tensor(0.2757, device='cuda:0', grad_fn=<SelectBackward0>)),\n",
       "  ('turn', tensor(0.2634, device='cuda:0', grad_fn=<SelectBackward0>)),\n",
       "  ('round', tensor(0.2609, device='cuda:0', grad_fn=<SelectBackward0>)),\n",
       "  ('bonus', tensor(0.2605, device='cuda:0', grad_fn=<SelectBackward0>)),\n",
       "  ('marker', tensor(0.2512, device='cuda:0', grad_fn=<SelectBackward0>)),\n",
       "  ('track', tensor(0.2420, device='cuda:0', grad_fn=<SelectBackward0>)),\n",
       "  ('token', tensor(0.2380, device='cuda:0', grad_fn=<SelectBackward0>)),\n",
       "  ('action', tensor(0.2369, device='cuda:0', grad_fn=<SelectBackward0>)),\n",
       "  ('scoring', tensor(0.2333, device='cuda:0', grad_fn=<SelectBackward0>)),\n",
       "  ('piece', tensor(0.2308, device='cuda:0', grad_fn=<SelectBackward0>)),\n",
       "  ('row', tensor(0.2285, device='cuda:0', grad_fn=<SelectBackward0>)),\n",
       "  ('player', tensor(0.2272, device='cuda:0', grad_fn=<SelectBackward0>)),\n",
       "  ('cube', tensor(0.2270, device='cuda:0', grad_fn=<SelectBackward0>)),\n",
       "  ('tile', tensor(0.2230, device='cuda:0', grad_fn=<SelectBackward0>)),\n",
       "  ('column', tensor(0.2190, device='cuda:0', grad_fn=<SelectBackward0>)),\n",
       "  ('region', tensor(0.2169, device='cuda:0', grad_fn=<SelectBackward0>))],\n",
       " [('solo', tensor(0.6308, device='cuda:0', grad_fn=<SelectBackward0>)),\n",
       "  ('mode', tensor(0.5631, device='cuda:0', grad_fn=<SelectBackward0>)),\n",
       "  ('solitaire', tensor(0.5601, device='cuda:0', grad_fn=<SelectBackward0>)),\n",
       "  ('multiplayer', tensor(0.5081, device='cuda:0', grad_fn=<SelectBackward0>)),\n",
       "  ('coop', tensor(0.5036, device='cuda:0', grad_fn=<SelectBackward0>)),\n",
       "  ('co', tensor(0.4752, device='cuda:0', grad_fn=<SelectBackward0>)),\n",
       "  ('op', tensor(0.4002, device='cuda:0', grad_fn=<SelectBackward0>)),\n",
       "  ('puzzle', tensor(0.3846, device='cuda:0', grad_fn=<SelectBackward0>)),\n",
       "  ('challenge', tensor(0.3640, device='cuda:0', grad_fn=<SelectBackward0>)),\n",
       "  ('experience', tensor(0.3497, device='cuda:0', grad_fn=<SelectBackward0>)),\n",
       "  ('legacy', tensor(0.3126, device='cuda:0', grad_fn=<SelectBackward0>)),\n",
       "  ('adventure', tensor(0.2972, device='cuda:0', grad_fn=<SelectBackward0>)),\n",
       "  ('bot', tensor(0.2796, device='cuda:0', grad_fn=<SelectBackward0>)),\n",
       "  ('style', tensor(0.2774, device='cuda:0', grad_fn=<SelectBackward0>)),\n",
       "  ('app', tensor(0.2738, device='cuda:0', grad_fn=<SelectBackward0>)),\n",
       "  ('difficulty', tensor(0.2473, device='cuda:0', grad_fn=<SelectBackward0>)),\n",
       "  ('series', tensor(0.2471, device='cuda:0', grad_fn=<SelectBackward0>)),\n",
       "  ('genre', tensor(0.2410, device='cuda:0', grad_fn=<SelectBackward0>)),\n",
       "  ('min', tensor(0.2341, device='cuda:0', grad_fn=<SelectBackward0>)),\n",
       "  ('wife', tensor(0.2318, device='cuda:0', grad_fn=<SelectBackward0>))],\n",
       " [('edition', tensor(0.5189, device='cuda:0', grad_fn=<SelectBackward0>)),\n",
       "  ('box', tensor(0.4846, device='cuda:0', grad_fn=<SelectBackward0>)),\n",
       "  ('insert', tensor(0.4461, device='cuda:0', grad_fn=<SelectBackward0>)),\n",
       "  ('miniature', tensor(0.4221, device='cuda:0', grad_fn=<SelectBackward0>)),\n",
       "  ('component', tensor(0.4046, device='cuda:0', grad_fn=<SelectBackward0>)),\n",
       "  ('quality', tensor(0.3996, device='cuda:0', grad_fn=<SelectBackward0>)),\n",
       "  ('cardboard', tensor(0.3870, device='cuda:0', grad_fn=<SelectBackward0>)),\n",
       "  ('mini', tensor(0.3803, device='cuda:0', grad_fn=<SelectBackward0>)),\n",
       "  ('version', tensor(0.3609, device='cuda:0', grad_fn=<SelectBackward0>)),\n",
       "  ('price', tensor(0.3280, device='cuda:0', grad_fn=<SelectBackward0>)),\n",
       "  ('size', tensor(0.3243, device='cuda:0', grad_fn=<SelectBackward0>)),\n",
       "  ('copy', tensor(0.2969, device='cuda:0', grad_fn=<SelectBackward0>)),\n",
       "  ('plastic', tensor(0.2958, device='cuda:0', grad_fn=<SelectBackward0>)),\n",
       "  ('notch', tensor(0.2826, device='cuda:0', grad_fn=<SelectBackward0>)),\n",
       "  ('print', tensor(0.2794, device='cuda:0', grad_fn=<SelectBackward0>)),\n",
       "  ('artwork', tensor(0.2716, device='cuda:0', grad_fn=<SelectBackward0>)),\n",
       "  ('sleeve', tensor(0.2695, device='cuda:0', grad_fn=<SelectBackward0>)),\n",
       "  ('rulebook', tensor(0.2677, device='cuda:0', grad_fn=<SelectBackward0>)),\n",
       "  ('content', tensor(0.2649, device='cuda:0', grad_fn=<SelectBackward0>)),\n",
       "  ('base', tensor(0.2316, device='cuda:0', grad_fn=<SelectBackward0>))],\n",
       " [('family', tensor(0.4166, device='cuda:0', grad_fn=<SelectBackward0>)),\n",
       "  ('friend', tensor(0.4154, device='cuda:0', grad_fn=<SelectBackward0>)),\n",
       "  ('party', tensor(0.4029, device='cuda:0', grad_fn=<SelectBackward0>)),\n",
       "  ('child', tensor(0.3735, device='cuda:0', grad_fn=<SelectBackward0>)),\n",
       "  ('gamer', tensor(0.3568, device='cuda:0', grad_fn=<SelectBackward0>)),\n",
       "  ('kid', tensor(0.3512, device='cuda:0', grad_fn=<SelectBackward0>)),\n",
       "  ('night', tensor(0.3397, device='cuda:0', grad_fn=<SelectBackward0>)),\n",
       "  ('adult', tensor(0.3294, device='cuda:0', grad_fn=<SelectBackward0>)),\n",
       "  ('year', tensor(0.3202, device='cuda:0', grad_fn=<SelectBackward0>)),\n",
       "  ('non', tensor(0.3089, device='cuda:0', grad_fn=<SelectBackward0>)),\n",
       "  ('wife', tensor(0.2935, device='cuda:0', grad_fn=<SelectBackward0>)),\n",
       "  ('age', tensor(0.2794, device='cuda:0', grad_fn=<SelectBackward0>)),\n",
       "  ('gaming', tensor(0.2426, device='cuda:0', grad_fn=<SelectBackward0>)),\n",
       "  ('son', tensor(0.2406, device='cuda:0', grad_fn=<SelectBackward0>)),\n",
       "  ('daughter', tensor(0.2332, device='cuda:0', grad_fn=<SelectBackward0>)),\n",
       "  ('dexterity', tensor(0.2257, device='cuda:0', grad_fn=<SelectBackward0>)),\n",
       "  ('group', tensor(0.2176, device='cuda:0', grad_fn=<SelectBackward0>)),\n",
       "  ('gateway', tensor(0.2158, device='cuda:0', grad_fn=<SelectBackward0>)),\n",
       "  ('crowd', tensor(0.1809, device='cuda:0', grad_fn=<SelectBackward0>)),\n",
       "  ('copy', tensor(0.1711, device='cuda:0', grad_fn=<SelectBackward0>))],\n",
       " [('card', tensor(0.5299, device='cuda:0', grad_fn=<SelectBackward0>)),\n",
       "  ('deck', tensor(0.5214, device='cuda:0', grad_fn=<SelectBackward0>)),\n",
       "  ('hand', tensor(0.5008, device='cuda:0', grad_fn=<SelectBackward0>)),\n",
       "  ('suit', tensor(0.3586, device='cuda:0', grad_fn=<SelectBackward0>)),\n",
       "  ('tableau', tensor(0.3575, device='cuda:0', grad_fn=<SelectBackward0>)),\n",
       "  ('builder', tensor(0.3516, device='cuda:0', grad_fn=<SelectBackward0>)),\n",
       "  ('bag', tensor(0.3307, device='cuda:0', grad_fn=<SelectBackward0>)),\n",
       "  ('chip', tensor(0.3198, device='cuda:0', grad_fn=<SelectBackward0>)),\n",
       "  ('set', tensor(0.3097, device='cuda:0', grad_fn=<SelectBackward0>)),\n",
       "  ('discard', tensor(0.2970, device='cuda:0', grad_fn=<SelectBackward0>)),\n",
       "  ('draw', tensor(0.2902, device='cuda:0', grad_fn=<SelectBackward0>)),\n",
       "  ('building', tensor(0.2879, device='cuda:0', grad_fn=<SelectBackward0>)),\n",
       "  ('trick', tensor(0.2782, device='cuda:0', grad_fn=<SelectBackward0>)),\n",
       "  ('pool', tensor(0.2716, device='cuda:0', grad_fn=<SelectBackward0>)),\n",
       "  ('pile', tensor(0.2618, device='cuda:0', grad_fn=<SelectBackward0>)),\n",
       "  ('effect', tensor(0.2522, device='cuda:0', grad_fn=<SelectBackward0>)),\n",
       "  ('face', tensor(0.2506, device='cuda:0', grad_fn=<SelectBackward0>)),\n",
       "  ('combo', tensor(0.2433, device='cuda:0', grad_fn=<SelectBackward0>)),\n",
       "  ('power', tensor(0.2355, device='cuda:0', grad_fn=<SelectBackward0>)),\n",
       "  ('row', tensor(0.2267, device='cuda:0', grad_fn=<SelectBackward0>))],\n",
       " [('coin', tensor(0.5242, device='cuda:0', grad_fn=<SelectBackward0>)),\n",
       "  ('trade', tensor(0.4498, device='cuda:0', grad_fn=<SelectBackward0>)),\n",
       "  ('gold', tensor(0.4433, device='cuda:0', grad_fn=<SelectBackward0>)),\n",
       "  ('ship', tensor(0.4286, device='cuda:0', grad_fn=<SelectBackward0>)),\n",
       "  ('island', tensor(0.4262, device='cuda:0', grad_fn=<SelectBackward0>)),\n",
       "  ('train', tensor(0.4211, device='cuda:0', grad_fn=<SelectBackward0>)),\n",
       "  ('city', tensor(0.4004, device='cuda:0', grad_fn=<SelectBackward0>)),\n",
       "  ('town', tensor(0.3752, device='cuda:0', grad_fn=<SelectBackward0>)),\n",
       "  ('metal', tensor(0.3507, device='cuda:0', grad_fn=<SelectBackward0>)),\n",
       "  ('food', tensor(0.3481, device='cuda:0', grad_fn=<SelectBackward0>)),\n",
       "  ('route', tensor(0.3478, device='cuda:0', grad_fn=<SelectBackward0>)),\n",
       "  ('wood', tensor(0.3464, device='cuda:0', grad_fn=<SelectBackward0>)),\n",
       "  ('shape', tensor(0.3422, device='cuda:0', grad_fn=<SelectBackward0>)),\n",
       "  ('treasure', tensor(0.3372, device='cuda:0', grad_fn=<SelectBackward0>)),\n",
       "  ('temple', tensor(0.3350, device='cuda:0', grad_fn=<SelectBackward0>)),\n",
       "  ('boat', tensor(0.3338, device='cuda:0', grad_fn=<SelectBackward0>)),\n",
       "  ('ticket', tensor(0.3311, device='cuda:0', grad_fn=<SelectBackward0>)),\n",
       "  ('sale', tensor(0.3269, device='cuda:0', grad_fn=<SelectBackward0>)),\n",
       "  ('good', tensor(0.3231, device='cuda:0', grad_fn=<SelectBackward0>)),\n",
       "  ('car', tensor(0.3202, device='cuda:0', grad_fn=<SelectBackward0>))],\n",
       " [('press', tensor(0.6865, device='cuda:0', grad_fn=<SelectBackward0>)),\n",
       "  ('light', tensor(0.6815, device='cuda:0', grad_fn=<SelectBackward0>)),\n",
       "  ('filler', tensor(0.6476, device='cuda:0', grad_fn=<SelectBackward0>)),\n",
       "  ('push', tensor(0.6392, device='cuda:0', grad_fn=<SelectBackward0>)),\n",
       "  ('backgammon', tensor(0.6289, device='cuda:0', grad_fn=<SelectBackward0>)),\n",
       "  ('racing', tensor(0.6288, device='cuda:0', grad_fn=<SelectBackward0>)),\n",
       "  ('factor', tensor(0.5979, device='cuda:0', grad_fn=<SelectBackward0>)),\n",
       "  ('bluffing', tensor(0.5920, device='cuda:0', grad_fn=<SelectBackward0>)),\n",
       "  ('toy', tensor(0.5841, device='cuda:0', grad_fn=<SelectBackward0>)),\n",
       "  ('mitigation', tensor(0.5805, device='cuda:0', grad_fn=<SelectBackward0>)),\n",
       "  ('dexterity', tensor(0.5777, device='cuda:0', grad_fn=<SelectBackward0>)),\n",
       "  ('sushi', tensor(0.5756, device='cuda:0', grad_fn=<SelectBackward0>)),\n",
       "  ('fluidity', tensor(0.5730, device='cuda:0', grad_fn=<SelectBackward0>)),\n",
       "  ('fest', tensor(0.5708, device='cuda:0', grad_fn=<SelectBackward0>)),\n",
       "  ('niche', tensor(0.5669, device='cuda:0', grad_fn=<SelectBackward0>)),\n",
       "  ('lightweight', tensor(0.5665, device='cuda:0', grad_fn=<SelectBackward0>)),\n",
       "  ('simple', tensor(0.5631, device='cuda:0', grad_fn=<SelectBackward0>)),\n",
       "  ('lunchtime', tensor(0.5622, device='cuda:0', grad_fn=<SelectBackward0>)),\n",
       "  ('dose', tensor(0.5612, device='cuda:0', grad_fn=<SelectBackward0>)),\n",
       "  ('palate', tensor(0.5586, device='cuda:0', grad_fn=<SelectBackward0>))],\n",
       " [('area', tensor(0.4998, device='cuda:0', grad_fn=<SelectBackward0>)),\n",
       "  ('majority', tensor(0.4990, device='cuda:0', grad_fn=<SelectBackward0>)),\n",
       "  ('war', tensor(0.4119, device='cuda:0', grad_fn=<SelectBackward0>)),\n",
       "  ('land', tensor(0.3923, device='cuda:0', grad_fn=<SelectBackward0>)),\n",
       "  ('control', tensor(0.3826, device='cuda:0', grad_fn=<SelectBackward0>)),\n",
       "  ('influence', tensor(0.3768, device='cuda:0', grad_fn=<SelectBackward0>)),\n",
       "  ('bidding', tensor(0.3549, device='cuda:0', grad_fn=<SelectBackward0>)),\n",
       "  ('city', tensor(0.3264, device='cuda:0', grad_fn=<SelectBackward0>)),\n",
       "  ('territory', tensor(0.2832, device='cuda:0', grad_fn=<SelectBackward0>)),\n",
       "  ('euro', tensor(0.2815, device='cuda:0', grad_fn=<SelectBackward0>)),\n",
       "  ('cube', tensor(0.2729, device='cuda:0', grad_fn=<SelectBackward0>)),\n",
       "  ('network', tensor(0.2575, device='cuda:0', grad_fn=<SelectBackward0>)),\n",
       "  ('army', tensor(0.2556, device='cuda:0', grad_fn=<SelectBackward0>)),\n",
       "  ('region', tensor(0.2510, device='cuda:0', grad_fn=<SelectBackward0>)),\n",
       "  ('placement', tensor(0.2505, device='cuda:0', grad_fn=<SelectBackward0>)),\n",
       "  ('mechanism', tensor(0.2484, device='cuda:0', grad_fn=<SelectBackward0>)),\n",
       "  ('conversion', tensor(0.2476, device='cuda:0', grad_fn=<SelectBackward0>)),\n",
       "  ('mix', tensor(0.2431, device='cuda:0', grad_fn=<SelectBackward0>)),\n",
       "  ('economy', tensor(0.2413, device='cuda:0', grad_fn=<SelectBackward0>)),\n",
       "  ('tug', tensor(0.2345, device='cuda:0', grad_fn=<SelectBackward0>))],\n",
       " [('hero', tensor(0.5286, device='cuda:0', grad_fn=<SelectBackward0>)),\n",
       "  ('dungeon', tensor(0.5203, device='cuda:0', grad_fn=<SelectBackward0>)),\n",
       "  ('monster', tensor(0.5057, device='cuda:0', grad_fn=<SelectBackward0>)),\n",
       "  ('character', tensor(0.4677, device='cuda:0', grad_fn=<SelectBackward0>)),\n",
       "  ('mission', tensor(0.4410, device='cuda:0', grad_fn=<SelectBackward0>)),\n",
       "  ('scenario', tensor(0.4312, device='cuda:0', grad_fn=<SelectBackward0>)),\n",
       "  ('campaign', tensor(0.4290, device='cuda:0', grad_fn=<SelectBackward0>)),\n",
       "  ('enemy', tensor(0.4247, device='cuda:0', grad_fn=<SelectBackward0>)),\n",
       "  ('story', tensor(0.4138, device='cuda:0', grad_fn=<SelectBackward0>)),\n",
       "  ('adventure', tensor(0.4015, device='cuda:0', grad_fn=<SelectBackward0>)),\n",
       "  ('quest', tensor(0.3973, device='cuda:0', grad_fn=<SelectBackward0>)),\n",
       "  ('combat', tensor(0.3892, device='cuda:0', grad_fn=<SelectBackward0>)),\n",
       "  ('battle', tensor(0.3814, device='cuda:0', grad_fn=<SelectBackward0>)),\n",
       "  ('weapon', tensor(0.3763, device='cuda:0', grad_fn=<SelectBackward0>)),\n",
       "  ('boss', tensor(0.3650, device='cuda:0', grad_fn=<SelectBackward0>)),\n",
       "  ('crawler', tensor(0.3522, device='cuda:0', grad_fn=<SelectBackward0>)),\n",
       "  ('crawl', tensor(0.3450, device='cuda:0', grad_fn=<SelectBackward0>)),\n",
       "  ('item', tensor(0.3442, device='cuda:0', grad_fn=<SelectBackward0>)),\n",
       "  ('equipment', tensor(0.3047, device='cuda:0', grad_fn=<SelectBackward0>)),\n",
       "  ('zombie', tensor(0.3044, device='cuda:0', grad_fn=<SelectBackward0>))],\n",
       " [('detail', tensor(0.5052, device='cuda:0', grad_fn=<SelectBackward0>)),\n",
       "  ('designer', tensor(0.4785, device='cuda:0', grad_fn=<SelectBackward0>)),\n",
       "  ('thumbsup', tensor(0.4775, device='cuda:0', grad_fn=<SelectBackward0>)),\n",
       "  ('book', tensor(0.4599, device='cuda:0', grad_fn=<SelectBackward0>)),\n",
       "  ('rulebook', tensor(0.4582, device='cuda:0', grad_fn=<SelectBackward0>)),\n",
       "  ('condition', tensor(0.4480, device='cuda:0', grad_fn=<SelectBackward0>)),\n",
       "  ('page', tensor(0.4196, device='cuda:0', grad_fn=<SelectBackward0>)),\n",
       "  ('enjoyment', tensor(0.4125, device='cuda:0', grad_fn=<SelectBackward0>)),\n",
       "  ('hint', tensor(0.3974, device='cuda:0', grad_fn=<SelectBackward0>)),\n",
       "  ('history', tensor(0.3934, device='cuda:0', grad_fn=<SelectBackward0>)),\n",
       "  ('interest', tensor(0.3852, device='cuda:0', grad_fn=<SelectBackward0>)),\n",
       "  ('rule', tensor(0.3843, device='cuda:0', grad_fn=<SelectBackward0>)),\n",
       "  ('quality', tensor(0.3830, device='cuda:0', grad_fn=<SelectBackward0>)),\n",
       "  ('deer', tensor(0.3809, device='cuda:0', grad_fn=<SelectBackward0>)),\n",
       "  ('jaw', tensor(0.3803, device='cuda:0', grad_fn=<SelectBackward0>)),\n",
       "  ('complexity', tensor(0.3735, device='cuda:0', grad_fn=<SelectBackward0>)),\n",
       "  ('raven', tensor(0.3724, device='cuda:0', grad_fn=<SelectBackward0>)),\n",
       "  ('gameplay', tensor(0.3672, device='cuda:0', grad_fn=<SelectBackward0>)),\n",
       "  ('view', tensor(0.3670, device='cuda:0', grad_fn=<SelectBackward0>)),\n",
       "  ('graphic', tensor(0.3655, device='cuda:0', grad_fn=<SelectBackward0>))]]"
      ]
     },
     "execution_count": 20,
     "metadata": {},
     "output_type": "execute_result"
    }
   ],
   "execution_count": 20
  },
  {
   "metadata": {},
   "cell_type": "code",
   "outputs": [],
   "execution_count": null,
   "source": [
    "# The model has good coherence but terrible aspects.\n",
    "# Probably the aspects we are trying to extract have an intrinsic low coherence for the\n",
    "# general reviewer sentence structure."
   ],
   "id": "5c9570c27426634e"
  }
 ],
 "metadata": {
  "kernelspec": {
   "display_name": "Python 3",
   "language": "python",
   "name": "python3"
  },
  "language_info": {
   "codemirror_mode": {
    "name": "ipython",
    "version": 2
   },
   "file_extension": ".py",
   "mimetype": "text/x-python",
   "name": "python",
   "nbconvert_exporter": "python",
   "pygments_lexer": "ipython2",
   "version": "2.7.6"
  }
 },
 "nbformat": 4,
 "nbformat_minor": 5
}

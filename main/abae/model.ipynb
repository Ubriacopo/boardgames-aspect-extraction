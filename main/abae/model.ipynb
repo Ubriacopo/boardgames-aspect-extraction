{
 "cells": [
  {
   "metadata": {
    "ExecuteTime": {
     "end_time": "2025-03-22T10:57:01.892607Z",
     "start_time": "2025-03-22T10:57:01.889109Z"
    }
   },
   "cell_type": "code",
   "source": [
    "from pprint import pprint\n",
    "# Required imports.\n",
    "from main.abae.config import ABAEManagerConfig\n",
    "from main.abae.model_manager import ABAEManager"
   ],
   "id": "92a992781ca00086",
   "outputs": [],
   "execution_count": 7
  },
  {
   "metadata": {},
   "cell_type": "markdown",
   "source": "In case we want to avoid the long gibberish by gensim on Word2Vec or other stuff:",
   "id": "9670a5d3901d7f7d"
  },
  {
   "metadata": {
    "ExecuteTime": {
     "end_time": "2025-03-22T10:57:29.753119Z",
     "start_time": "2025-03-22T10:57:29.749309Z"
    }
   },
   "cell_type": "code",
   "source": [
    "import logging\n",
    "\n",
    "logging.disable()\n",
    "logging.disable(logging.DEBUG)\n",
    "logging.disable(logging.INFO)"
   ],
   "id": "2f908b9c3058b5c9",
   "outputs": [],
   "execution_count": 9
  },
  {
   "metadata": {},
   "cell_type": "markdown",
   "source": "Let's make a first attempt on the various pre-processing pipelines:",
   "id": "510c606905805814"
  },
  {
   "metadata": {},
   "cell_type": "markdown",
   "source": [
    "### Full-reviews\n",
    "Try to run the procedure on the default implementation of the pipeline. Default as it was thought to be a simple version for ABAE specifically."
   ],
   "id": "f13e2df2d7eeb181"
  },
  {
   "metadata": {
    "ExecuteTime": {
     "end_time": "2025-03-22T11:23:55.843005Z",
     "start_time": "2025-03-22T10:57:32.201453Z"
    }
   },
   "cell_type": "code",
   "source": [
    "corpus_path = \"../dataset/output/default/pre_processed.80k.csv\"\n",
    "test_corpus_path = \"../dataset/output/default/pre_processed.80k.test.csv\"\n",
    "\n",
    "manager = ABAEManager.from_config(ABAEManagerConfig('default-small'), corpus_path, override=True)\n",
    "manager.train(corpus_path, verbose=2)\n",
    "res = manager.evaluate([20, 10, 5, 3], test_corpus=test_corpus_path)"
   ],
   "id": "b64f39e26675094",
   "outputs": [
    {
     "data": {
      "text/plain": [
       "Pandas Apply:   0%|          | 0/60690 [00:00<?, ?it/s]"
      ],
      "application/vnd.jupyter.widget-view+json": {
       "version_major": 2,
       "version_minor": 0,
       "model_id": "517b3067df214b508e0fcf7698007dd6"
      }
     },
     "metadata": {},
     "output_type": "display_data"
    },
    {
     "name": "stderr",
     "output_type": "stream",
     "text": [
      "D:\\PycharmProjects\\nlp-course-project\\.venv\\Lib\\site-packages\\gensim\\models\\keyedvectors.py:551: UserWarning: Adding single vectors to a KeyedVectors which grows by one each time can be costly. Consider adding in batches or preallocating to the required size.\n",
      "  warnings.warn(\n"
     ]
    },
    {
     "name": "stdout",
     "output_type": "stream",
     "text": [
      "Creating new Aspect embedding model\n",
      "\n",
      "Generating numeric representation for each word of ds.\n"
     ]
    },
    {
     "data": {
      "text/plain": [
       "Pandas Apply:   0%|          | 0/60690 [00:00<?, ?it/s]"
      ],
      "application/vnd.jupyter.widget-view+json": {
       "version_major": 2,
       "version_minor": 0,
       "model_id": "55e6cf914d9d4cd3ae34bfc7af5b8d79"
      }
     },
     "metadata": {},
     "output_type": "display_data"
    },
    {
     "name": "stdout",
     "output_type": "stream",
     "text": [
      "Max sequence length calculation in progress...\n",
      "We loose information on 1479(2.4369747899159666% of ds).\n",
      "Generating a new compiled model from scratch\n",
      "Training is starting:\n",
      "Epoch 1/15\n",
      "475/475 - 100s - 211ms/step - loss: 7.5795 - max_margin_loss: 7.5738\n",
      "Epoch 2/15\n",
      "475/475 - 95s - 201ms/step - loss: 4.8201 - max_margin_loss: 4.8191\n",
      "Epoch 3/15\n",
      "475/475 - 103s - 216ms/step - loss: 4.6539 - max_margin_loss: 4.6516\n",
      "Epoch 4/15\n",
      "475/475 - 108s - 228ms/step - loss: 4.6021 - max_margin_loss: 4.6027\n",
      "Epoch 5/15\n",
      "475/475 - 109s - 228ms/step - loss: 4.5763 - max_margin_loss: 4.5748\n",
      "Epoch 6/15\n",
      "475/475 - 103s - 216ms/step - loss: 4.5620 - max_margin_loss: 4.5599\n",
      "Epoch 7/15\n",
      "475/475 - 97s - 204ms/step - loss: 4.5524 - max_margin_loss: 4.5529\n",
      "Epoch 8/15\n",
      "475/475 - 99s - 207ms/step - loss: 4.5325 - max_margin_loss: 4.5314\n",
      "Epoch 9/15\n",
      "475/475 - 101s - 214ms/step - loss: 4.5287 - max_margin_loss: 4.5278\n",
      "Epoch 10/15\n",
      "475/475 - 100s - 211ms/step - loss: 4.5098 - max_margin_loss: 4.5074\n",
      "Epoch 11/15\n",
      "475/475 - 98s - 207ms/step - loss: 4.5100 - max_margin_loss: 4.5090\n",
      "Epoch 12/15\n",
      "475/475 - 98s - 206ms/step - loss: 4.5104 - max_margin_loss: 4.5107\n",
      "Epoch 13/15\n",
      "475/475 - 99s - 209ms/step - loss: 4.4936 - max_margin_loss: 4.4942\n",
      "Epoch 14/15\n",
      "475/475 - 99s - 209ms/step - loss: 4.4929 - max_margin_loss: 4.4892\n",
      "Epoch 15/15\n",
      "475/475 - 100s - 210ms/step - loss: 4.4809 - max_margin_loss: 4.4793\n",
      "Generating numeric representation for each word of ds.\n"
     ]
    },
    {
     "data": {
      "text/plain": [
       "Pandas Apply:   0%|          | 0/20230 [00:00<?, ?it/s]"
      ],
      "application/vnd.jupyter.widget-view+json": {
       "version_major": 2,
       "version_minor": 0,
       "model_id": "ae8bc6b410634b58baf583100702013e"
      }
     },
     "metadata": {},
     "output_type": "display_data"
    },
    {
     "name": "stdout",
     "output_type": "stream",
     "text": [
      "Max sequence length calculation in progress...\n",
      "We loose information on 489(2.417202174987642% of ds).\n",
      "\u001B[1m159/159\u001B[0m \u001B[32m━━━━━━━━━━━━━━━━━━━━\u001B[0m\u001B[37m\u001B[0m \u001B[1m19s\u001B[0m 119ms/step - loss: 4.5366 - max_margin_loss: 4.5357\n",
      "Generating numeric representation for each word of ds.\n"
     ]
    },
    {
     "data": {
      "text/plain": [
       "Pandas Apply:   0%|          | 0/20230 [00:00<?, ?it/s]"
      ],
      "application/vnd.jupyter.widget-view+json": {
       "version_major": 2,
       "version_minor": 0,
       "model_id": "7f3b95eb5110413788a677a956aa7a1f"
      }
     },
     "metadata": {},
     "output_type": "display_data"
    },
    {
     "name": "stdout",
     "output_type": "stream",
     "text": [
      "Max sequence length calculation in progress...\n",
      "We loose information on 489(2.417202174987642% of ds).\n",
      "\u001B[1m40/40\u001B[0m \u001B[32m━━━━━━━━━━━━━━━━━━━━\u001B[0m\u001B[37m\u001B[0m \u001B[1m0s\u001B[0m 9ms/step \n"
     ]
    },
    {
     "data": {
      "text/plain": [
       "Pandas Apply:   0%|          | 0/20230 [00:00<?, ?it/s]"
      ],
      "application/vnd.jupyter.widget-view+json": {
       "version_major": 2,
       "version_minor": 0,
       "model_id": "702043e2f0294d8d9ced31eef8a8c702"
      }
     },
     "metadata": {},
     "output_type": "display_data"
    },
    {
     "data": {
      "text/plain": [
       "Pandas Apply:   0%|          | 0/20230 [00:00<?, ?it/s]"
      ],
      "application/vnd.jupyter.widget-view+json": {
       "version_major": 2,
       "version_minor": 0,
       "model_id": "a25bceaca3cb4d5ebfaa820860ebec2b"
      }
     },
     "metadata": {},
     "output_type": "display_data"
    },
    {
     "data": {
      "text/plain": [
       "Pandas Apply:   0%|          | 0/20230 [00:00<?, ?it/s]"
      ],
      "application/vnd.jupyter.widget-view+json": {
       "version_major": 2,
       "version_minor": 0,
       "model_id": "5864735e502e42afbd8ad2dd2fd8f15c"
      }
     },
     "metadata": {},
     "output_type": "display_data"
    },
    {
     "data": {
      "text/plain": [
       "Pandas Apply:   0%|          | 0/20230 [00:00<?, ?it/s]"
      ],
      "application/vnd.jupyter.widget-view+json": {
       "version_major": 2,
       "version_minor": 0,
       "model_id": "598e6853050c4a48bd0d4a1c82092f73"
      }
     },
     "metadata": {},
     "output_type": "display_data"
    }
   ],
   "execution_count": 10
  },
  {
   "metadata": {
    "ExecuteTime": {
     "end_time": "2025-03-22T11:23:55.874738Z",
     "start_time": "2025-03-22T11:23:55.870736Z"
    }
   },
   "cell_type": "code",
   "source": "pprint(res)",
   "id": "63d998f3720bc703",
   "outputs": [
    {
     "name": "stdout",
     "output_type": "stream",
     "text": [
      "{'coherence': [-10.165343087442237,\n",
      "               -9.238136382666726,\n",
      "               -7.179224357682313,\n",
      "               -7.095903532720541],\n",
      " 'loss': [4.536928176879883, 4.546741485595703],\n",
      " 'silhouette_score': 0.10153559595346451,\n",
      " 'top': [20, 10, 5, 3]}\n"
     ]
    }
   ],
   "execution_count": 11
  },
  {
   "metadata": {},
   "cell_type": "markdown",
   "source": "## Sentence-split reviews",
   "id": "9eaaec47b2c6b0dc"
  },
  {
   "metadata": {
    "ExecuteTime": {
     "end_time": "2025-03-22T11:25:46.949236Z",
     "start_time": "2025-03-22T11:25:46.945685Z"
    }
   },
   "cell_type": "code",
   "source": [
    "corpus_path = \"../dataset/output/default_sentences/pre_processed.80k.csv\"\n",
    "test_corpus_path = \"../dataset/output/default_sentences/pre_processed.80k.test.csv\""
   ],
   "id": "de599d8f511eee18",
   "outputs": [],
   "execution_count": 12
  },
  {
   "metadata": {
    "ExecuteTime": {
     "end_time": "2025-03-22T11:52:25.760671Z",
     "start_time": "2025-03-22T11:26:04.298408Z"
    }
   },
   "cell_type": "code",
   "source": [
    "manager = ABAEManager.from_config(ABAEManagerConfig('default-sentence-small'), corpus_path)\n",
    "manager.train(corpus_path, verbose=2)\n",
    "res = manager.evaluate([20, 10, 5, 3], test_corpus=test_corpus_path)"
   ],
   "id": "ba5daef7089707a9",
   "outputs": [
    {
     "data": {
      "text/plain": [
       "Pandas Apply:   0%|          | 0/68550 [00:00<?, ?it/s]"
      ],
      "application/vnd.jupyter.widget-view+json": {
       "version_major": 2,
       "version_minor": 0,
       "model_id": "1fc8ef08e0444e9cb909399676455739"
      }
     },
     "metadata": {},
     "output_type": "display_data"
    },
    {
     "name": "stderr",
     "output_type": "stream",
     "text": [
      "D:\\PycharmProjects\\nlp-course-project\\.venv\\Lib\\site-packages\\gensim\\models\\keyedvectors.py:551: UserWarning: Adding single vectors to a KeyedVectors which grows by one each time can be costly. Consider adding in batches or preallocating to the required size.\n",
      "  warnings.warn(\n"
     ]
    },
    {
     "name": "stdout",
     "output_type": "stream",
     "text": [
      "Creating new Aspect embedding model\n",
      "\n",
      "Generating numeric representation for each word of ds.\n"
     ]
    },
    {
     "data": {
      "text/plain": [
       "Pandas Apply:   0%|          | 0/68550 [00:00<?, ?it/s]"
      ],
      "application/vnd.jupyter.widget-view+json": {
       "version_major": 2,
       "version_minor": 0,
       "model_id": "207f356c8093419fb1965fc022e34ac0"
      }
     },
     "metadata": {},
     "output_type": "display_data"
    },
    {
     "name": "stdout",
     "output_type": "stream",
     "text": [
      "Max sequence length calculation in progress...\n",
      "We loose information on 12(0.0175054704595186% of ds).\n",
      "Generating a new compiled model from scratch\n",
      "Training is starting:\n",
      "Epoch 1/15\n",
      "536/536 - 102s - 190ms/step - loss: 8.9767 - max_margin_loss: 8.9717\n",
      "Epoch 2/15\n",
      "536/536 - 105s - 195ms/step - loss: 6.2761 - max_margin_loss: 6.2748\n",
      "Epoch 3/15\n",
      "536/536 - 113s - 211ms/step - loss: 6.0804 - max_margin_loss: 6.0788\n",
      "Epoch 4/15\n",
      "536/536 - 97s - 181ms/step - loss: 6.0198 - max_margin_loss: 6.0184\n",
      "Epoch 5/15\n",
      "536/536 - 98s - 183ms/step - loss: 5.9774 - max_margin_loss: 5.9762\n",
      "Epoch 6/15\n",
      "536/536 - 101s - 189ms/step - loss: 5.9492 - max_margin_loss: 5.9477\n",
      "Epoch 7/15\n",
      "536/536 - 98s - 182ms/step - loss: 5.9253 - max_margin_loss: 5.9238\n",
      "Epoch 8/15\n",
      "536/536 - 100s - 186ms/step - loss: 5.9165 - max_margin_loss: 5.9147\n",
      "Epoch 9/15\n",
      "536/536 - 97s - 180ms/step - loss: 5.8963 - max_margin_loss: 5.8948\n",
      "Epoch 10/15\n",
      "536/536 - 101s - 188ms/step - loss: 5.8796 - max_margin_loss: 5.8780\n",
      "Epoch 11/15\n",
      "536/536 - 101s - 189ms/step - loss: 5.8670 - max_margin_loss: 5.8657\n",
      "Epoch 12/15\n",
      "536/536 - 104s - 194ms/step - loss: 5.8617 - max_margin_loss: 5.8606\n",
      "Epoch 13/15\n",
      "536/536 - 99s - 184ms/step - loss: 5.8468 - max_margin_loss: 5.8460\n",
      "Epoch 14/15\n",
      "536/536 - 95s - 178ms/step - loss: 5.8445 - max_margin_loss: 5.8431\n",
      "Epoch 15/15\n",
      "536/536 - 96s - 179ms/step - loss: 5.8329 - max_margin_loss: 5.8317\n",
      "Generating numeric representation for each word of ds.\n"
     ]
    },
    {
     "data": {
      "text/plain": [
       "Pandas Apply:   0%|          | 0/22850 [00:00<?, ?it/s]"
      ],
      "application/vnd.jupyter.widget-view+json": {
       "version_major": 2,
       "version_minor": 0,
       "model_id": "40f826796b4b44cd9ea727abea834d46"
      }
     },
     "metadata": {},
     "output_type": "display_data"
    },
    {
     "name": "stdout",
     "output_type": "stream",
     "text": [
      "Max sequence length calculation in progress...\n",
      "We loose information on 2(0.0087527352297593% of ds).\n",
      "\u001B[1m179/179\u001B[0m \u001B[32m━━━━━━━━━━━━━━━━━━━━\u001B[0m\u001B[37m\u001B[0m \u001B[1m23s\u001B[0m 129ms/step - loss: 5.7996 - max_margin_loss: 5.7981\n",
      "Generating numeric representation for each word of ds.\n"
     ]
    },
    {
     "data": {
      "text/plain": [
       "Pandas Apply:   0%|          | 0/22850 [00:00<?, ?it/s]"
      ],
      "application/vnd.jupyter.widget-view+json": {
       "version_major": 2,
       "version_minor": 0,
       "model_id": "59e3de5b8fc845c7900e549c97fec4df"
      }
     },
     "metadata": {},
     "output_type": "display_data"
    },
    {
     "name": "stdout",
     "output_type": "stream",
     "text": [
      "Max sequence length calculation in progress...\n",
      "We loose information on 2(0.0087527352297593% of ds).\n",
      "\u001B[1m45/45\u001B[0m \u001B[32m━━━━━━━━━━━━━━━━━━━━\u001B[0m\u001B[37m\u001B[0m \u001B[1m0s\u001B[0m 10ms/step\n"
     ]
    },
    {
     "data": {
      "text/plain": [
       "Pandas Apply:   0%|          | 0/22850 [00:00<?, ?it/s]"
      ],
      "application/vnd.jupyter.widget-view+json": {
       "version_major": 2,
       "version_minor": 0,
       "model_id": "ac04fc27a7e345d2a584a6d2e90d3648"
      }
     },
     "metadata": {},
     "output_type": "display_data"
    },
    {
     "data": {
      "text/plain": [
       "Pandas Apply:   0%|          | 0/22850 [00:00<?, ?it/s]"
      ],
      "application/vnd.jupyter.widget-view+json": {
       "version_major": 2,
       "version_minor": 0,
       "model_id": "c1f95b1996f648baa998fa0a27965d8f"
      }
     },
     "metadata": {},
     "output_type": "display_data"
    },
    {
     "data": {
      "text/plain": [
       "Pandas Apply:   0%|          | 0/22850 [00:00<?, ?it/s]"
      ],
      "application/vnd.jupyter.widget-view+json": {
       "version_major": 2,
       "version_minor": 0,
       "model_id": "d06bdd7de1a2411fb064b703aebe4ea8"
      }
     },
     "metadata": {},
     "output_type": "display_data"
    },
    {
     "data": {
      "text/plain": [
       "Pandas Apply:   0%|          | 0/22850 [00:00<?, ?it/s]"
      ],
      "application/vnd.jupyter.widget-view+json": {
       "version_major": 2,
       "version_minor": 0,
       "model_id": "2313a7cf9d9c4ddc8fe1cf0b43cd1318"
      }
     },
     "metadata": {},
     "output_type": "display_data"
    }
   ],
   "execution_count": 13
  },
  {
   "metadata": {
    "ExecuteTime": {
     "end_time": "2025-03-22T11:52:25.775442Z",
     "start_time": "2025-03-22T11:52:25.772194Z"
    }
   },
   "cell_type": "code",
   "source": "pprint(res)",
   "id": "57733fb14ae7b153",
   "outputs": [
    {
     "name": "stdout",
     "output_type": "stream",
     "text": [
      "{'coherence': [-10.03381872158121,\n",
      "               -8.373182405617502,\n",
      "               -7.211015889840545,\n",
      "               -6.196475433751492],\n",
      " 'loss': [5.810688495635986, 5.807947158813477],\n",
      " 'silhouette_score': 0.1704401671886444,\n",
      " 'top': [20, 10, 5, 3]}\n"
     ]
    }
   ],
   "execution_count": 14
  },
  {
   "metadata": {},
   "cell_type": "markdown",
   "source": [
    "I know that doing a  comparison on a single run is not that meaningful. <br>\n",
    "I could do k-CV to estimate the expected model loss to get a valid analysis. <br>\n",
    "But for the sake of the experiment we consider this good enough."
   ],
   "id": "b78cbae13b203c37"
  },
  {
   "metadata": {},
   "cell_type": "markdown",
   "source": [
    "## NOUN only\n",
    "I expect this to utterly fail in the task as we loose sentence structure which ABAE sounds to be abusing. <br>\n",
    "Being based on word2vec embeddings this kind of pre-processing should be harmful I suppose."
   ],
   "id": "45effeec64f11cdd"
  },
  {
   "metadata": {
    "ExecuteTime": {
     "end_time": "2025-03-22T14:52:57.243394Z",
     "start_time": "2025-03-22T14:52:55.722904Z"
    }
   },
   "cell_type": "code",
   "source": [
    "from main.lda.pre_processing import extract_pos_ds\n",
    "import pandas as pd\n",
    "\n",
    "print(\"Creating the __noun filtered ds:\")\n",
    "corpus_path = \"../dataset/output/pos_tagged/pre_processed.80k.csv\"\n",
    "store_path = \"../dataset/output/pos_tagged/pre_processed.80k.noun_only.csv\"\n",
    "extract_pos_ds(pd.read_csv(corpus_path)['comments'], \"__noun\", store_path)\n",
    "print(\"ds created under: \" + store_path)\n",
    "\n",
    "print(\"Creating the __noun filtered test ds:\")\n",
    "corpus_path = \"../dataset/output/pos_tagged/pre_processed.80k.test.csv\"\n",
    "store_path = \"../dataset/output/pos_tagged/pre_processed.80k.noun_only.test.csv\"\n",
    "extract_pos_ds(pd.read_csv(corpus_path)['comments'], \"__noun\", store_path)\n",
    "print(\"ds created under: \" + store_path)"
   ],
   "id": "86ec4d3d3c01530c",
   "outputs": [
    {
     "name": "stdout",
     "output_type": "stream",
     "text": [
      "Creating the __noun filtered ds:\n"
     ]
    },
    {
     "data": {
      "text/plain": [
       "Pandas Apply:   0%|          | 0/60763 [00:00<?, ?it/s]"
      ],
      "application/vnd.jupyter.widget-view+json": {
       "version_major": 2,
       "version_minor": 0,
       "model_id": "2da8b26502fa463490b2c3118bc83e11"
      }
     },
     "metadata": {},
     "output_type": "display_data"
    },
    {
     "data": {
      "text/plain": [
       "Pandas Apply:   0%|          | 0/60763 [00:00<?, ?it/s]"
      ],
      "application/vnd.jupyter.widget-view+json": {
       "version_major": 2,
       "version_minor": 0,
       "model_id": "289ace49431045e4a20aa22eaa3ecda7"
      }
     },
     "metadata": {},
     "output_type": "display_data"
    },
    {
     "name": "stdout",
     "output_type": "stream",
     "text": [
      "ds created under: ../dataset/output/pos_tagged/pre_processed.80k.noun_only.csv\n",
      "Creating the __noun filtered test ds:\n"
     ]
    },
    {
     "data": {
      "text/plain": [
       "Pandas Apply:   0%|          | 0/20254 [00:00<?, ?it/s]"
      ],
      "application/vnd.jupyter.widget-view+json": {
       "version_major": 2,
       "version_minor": 0,
       "model_id": "baa02bc7f1294f1a9e9c36f3e137c686"
      }
     },
     "metadata": {},
     "output_type": "display_data"
    },
    {
     "data": {
      "text/plain": [
       "Pandas Apply:   0%|          | 0/20254 [00:00<?, ?it/s]"
      ],
      "application/vnd.jupyter.widget-view+json": {
       "version_major": 2,
       "version_minor": 0,
       "model_id": "6b072c0d24c84c87afb7e80c6193f591"
      }
     },
     "metadata": {},
     "output_type": "display_data"
    },
    {
     "name": "stdout",
     "output_type": "stream",
     "text": [
      "ds created under: ../dataset/output/pos_tagged/pre_processed.80k.noun_only.test.csv\n"
     ]
    }
   ],
   "execution_count": 15
  },
  {
   "metadata": {
    "jupyter": {
     "is_executing": true
    },
    "ExecuteTime": {
     "start_time": "2025-03-22T14:53:19.236878Z"
    }
   },
   "cell_type": "code",
   "source": [
    "corpus_path = \"../dataset/output/pos_tagged/pre_processed.80k.noun_only.csv\"\n",
    "test_corpus_path = \"../dataset/output/pos_tagged/pre_processed.80k.noun_only.test.csv\"\n",
    "\n",
    "manager = ABAEManager.from_config(ABAEManagerConfig('noun_only'), corpus_path)\n",
    "manager.train(corpus_path, verbose=2)\n",
    "res = manager.evaluate([20, 10, 5, 3], test_corpus=test_corpus_path)"
   ],
   "id": "1122e985147b038b",
   "outputs": [
    {
     "data": {
      "text/plain": [
       "Pandas Apply:   0%|          | 0/52175 [00:00<?, ?it/s]"
      ],
      "application/vnd.jupyter.widget-view+json": {
       "version_major": 2,
       "version_minor": 0,
       "model_id": "3baf58ca02a8475c98a161176d2f7d23"
      }
     },
     "metadata": {},
     "output_type": "display_data"
    },
    {
     "name": "stdout",
     "output_type": "stream",
     "text": [
      "Loading the existing found model as requested in path ./output/noun_only/noun_only.aspect_embeddings.model\n",
      "Generating numeric representation for each word of ds.\n"
     ]
    },
    {
     "data": {
      "text/plain": [
       "Pandas Apply:   0%|          | 0/52175 [00:00<?, ?it/s]"
      ],
      "application/vnd.jupyter.widget-view+json": {
       "version_major": 2,
       "version_minor": 0,
       "model_id": "e3decc77192349be8ae26f25d2d758ab"
      }
     },
     "metadata": {},
     "output_type": "display_data"
    },
    {
     "name": "stdout",
     "output_type": "stream",
     "text": [
      "Max sequence length calculation in progress...\n",
      "We loose information on 203(0.389075227599425% of ds).\n",
      "Generating a new compiled model from scratch\n",
      "Training is starting:\n",
      "Epoch 1/15\n"
     ]
    }
   ],
   "execution_count": null
  },
  {
   "metadata": {
    "ExecuteTime": {
     "end_time": "2025-03-19T16:18:09.674131Z",
     "start_time": "2025-03-19T16:18:09.669685Z"
    }
   },
   "cell_type": "code",
   "source": "pprint(res)",
   "id": "99ce52abc48b5f2b",
   "outputs": [
    {
     "name": "stdout",
     "output_type": "stream",
     "text": [
      "{'coherence': [-8.948873045807769,\n",
      "               -7.445881505510981,\n",
      "               -6.305143535846072,\n",
      "               -5.799752060521229],\n",
      " 'loss': [5.478001117706299, 5.478464126586914],\n",
      " 'silhouette_score': 0.1511905938386917,\n",
      " 'top': [20, 10, 5, 3]}\n"
     ]
    }
   ],
   "execution_count": 6
  },
  {
   "metadata": {},
   "cell_type": "markdown",
   "source": "For the future work and as one by the proposed ABAE paper we won't be splitting up reviews in sentences but use the full review as the model does not increase much in performance if not done like this.",
   "id": "5b4c80db434e5d1"
  }
 ],
 "metadata": {
  "kernelspec": {
   "display_name": "Python 3",
   "language": "python",
   "name": "python3"
  },
  "language_info": {
   "codemirror_mode": {
    "name": "ipython",
    "version": 2
   },
   "file_extension": ".py",
   "mimetype": "text/x-python",
   "name": "python",
   "nbconvert_exporter": "python",
   "pygments_lexer": "ipython2",
   "version": "2.7.6"
  }
 },
 "nbformat": 4,
 "nbformat_minor": 5
}

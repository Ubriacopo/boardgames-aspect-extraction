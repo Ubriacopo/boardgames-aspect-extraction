{
 "cells": [
  {
   "metadata": {
    "ExecuteTime": {
     "end_time": "2025-03-20T13:34:43.459806Z",
     "start_time": "2025-03-20T13:34:36.808188Z"
    }
   },
   "cell_type": "code",
   "source": [
    "from pprint import pprint\n",
    "# Required imports.\n",
    "from main.abae.config import ABAEManagerConfig\n",
    "from main.abae.model_manager import ABAEManager"
   ],
   "id": "92a992781ca00086",
   "outputs": [],
   "execution_count": 2
  },
  {
   "metadata": {},
   "cell_type": "markdown",
   "source": "In case we want to avoid the long gibberish by gensim on Word2Vec or other stuff:",
   "id": "9670a5d3901d7f7d"
  },
  {
   "metadata": {
    "ExecuteTime": {
     "end_time": "2025-03-20T13:34:43.466455Z",
     "start_time": "2025-03-20T13:34:43.463324Z"
    }
   },
   "cell_type": "code",
   "source": [
    "import logging\n",
    "\n",
    "logging.disable()\n",
    "logging.disable(logging.DEBUG)\n",
    "logging.disable(logging.INFO)"
   ],
   "id": "2f908b9c3058b5c9",
   "outputs": [],
   "execution_count": 3
  },
  {
   "metadata": {},
   "cell_type": "markdown",
   "source": "Let's make a first attempt on the various pre-processing pipelines:",
   "id": "510c606905805814"
  },
  {
   "metadata": {},
   "cell_type": "markdown",
   "source": [
    "### Full-reviews\n",
    "Try to run the procedure on the default implementation of the pipeline. Default as it was thought to be a simple version for ABAE specifically."
   ],
   "id": "f13e2df2d7eeb181"
  },
  {
   "metadata": {},
   "cell_type": "markdown",
   "source": [
    "## Preprocessing\n",
    "Unlike LDA we should not toy too much with the sentence structure as ABAE uses word embeddings and needs the sequence information to weight the terms based on the surrounding context. One question remains:\n",
    "\n",
    "**Should we work on sentence level or full reviews? Let's try a first simple comparison**"
   ],
   "id": "46ac0985d60cd3fa"
  },
  {
   "metadata": {},
   "cell_type": "code",
   "source": [
    "corpus_path = \"../dataset/output/default/pre_processed.80k.csv\"\n",
    "test_corpus_path = \"../dataset/output/default/pre_processed.80k.test.csv\"\n",
    "\n",
    "manager = ABAEManager.from_scratch(ABAEManagerConfig('default'), corpus_path, override=True)\n",
    "manager.train(corpus_path, verbose=2)\n",
    "res = manager.evaluate([20, 10, 5, 3], test_corpus=test_corpus_path)"
   ],
   "id": "b64f39e26675094",
   "outputs": [],
   "execution_count": null
  },
  {
   "metadata": {
    "ExecuteTime": {
     "end_time": "2025-03-20T14:00:05.771649Z",
     "start_time": "2025-03-20T14:00:05.767037Z"
    }
   },
   "cell_type": "code",
   "source": "pprint(res)",
   "id": "63d998f3720bc703",
   "outputs": [
    {
     "name": "stdout",
     "output_type": "stream",
     "text": [
      "{'coherence': [-9.519545495352105,\n",
      "               -8.080626319870326,\n",
      "               -7.4795967093038005,\n",
      "               -6.558865921103352],\n",
      " 'loss': [4.573703289031982, 4.572718143463135],\n",
      " 'silhouette_score': 0.10651056468486786,\n",
      " 'top': [20, 10, 5, 3]}\n"
     ]
    }
   ],
   "execution_count": 5
  },
  {
   "metadata": {
    "ExecuteTime": {
     "end_time": "2025-03-20T15:49:18.624537Z",
     "start_time": "2025-03-20T15:21:15.060576Z"
    }
   },
   "cell_type": "code",
   "source": [
    "# See if lucky random initalization\n",
    "corpus_path = \"../dataset/output/default-8/pre_processed.80k.csv\"\n",
    "test_corpus_path = \"../dataset/output/default-8/pre_processed.80k.test.csv\"\n",
    "\n",
    "manager = ABAEManager.from_scratch(ABAEManagerConfig('default-8'), corpus_path, override=True)\n",
    "manager.train(corpus_path, verbose=2)\n",
    "res = manager.evaluate([20, 10, 5, 3], test_corpus=test_corpus_path)"
   ],
   "id": "3058c335ab1f8473",
   "outputs": [
    {
     "data": {
      "text/plain": [
       "Pandas Apply:   0%|          | 0/60690 [00:00<?, ?it/s]"
      ],
      "application/vnd.jupyter.widget-view+json": {
       "version_major": 2,
       "version_minor": 0,
       "model_id": "23adbe277a1a4fb29815299fa7179458"
      }
     },
     "metadata": {},
     "output_type": "display_data"
    },
    {
     "name": "stderr",
     "output_type": "stream",
     "text": [
      "D:\\PycharmProjects\\nlp-course-project\\.venv\\Lib\\site-packages\\gensim\\models\\keyedvectors.py:551: UserWarning: Adding single vectors to a KeyedVectors which grows by one each time can be costly. Consider adding in batches or preallocating to the required size.\n",
      "  warnings.warn(\n",
      "WARNING:gensim.models.keyedvectors:sorting after vectors have been allocated is expensive & error-prone\n"
     ]
    },
    {
     "name": "stdout",
     "output_type": "stream",
     "text": [
      "Creating new Aspect embedding model\n",
      "\n",
      "Generating numeric representation for each word of ds.\n"
     ]
    },
    {
     "data": {
      "text/plain": [
       "Pandas Apply:   0%|          | 0/60690 [00:00<?, ?it/s]"
      ],
      "application/vnd.jupyter.widget-view+json": {
       "version_major": 2,
       "version_minor": 0,
       "model_id": "24be96c4eb0141e3ab850f58dd89418b"
      }
     },
     "metadata": {},
     "output_type": "display_data"
    },
    {
     "name": "stdout",
     "output_type": "stream",
     "text": [
      "Max sequence length calculation in progress...\n",
      "We loose information on 1481(2.4402702257373536% of ds).\n",
      "Generating a new compiled model from scratch\n",
      "Training is starting:\n",
      "Epoch 1/15\n",
      "475/475 - 99s - 209ms/step - loss: 7.9819 - max_margin_loss: 7.9755\n",
      "Epoch 2/15\n",
      "475/475 - 97s - 203ms/step - loss: 4.9599 - max_margin_loss: 4.9572\n",
      "Epoch 3/15\n",
      "475/475 - 103s - 217ms/step - loss: 4.6922 - max_margin_loss: 4.6910\n",
      "Epoch 4/15\n",
      "475/475 - 105s - 221ms/step - loss: 4.6369 - max_margin_loss: 4.6377\n",
      "Epoch 5/15\n",
      "475/475 - 102s - 215ms/step - loss: 4.6034 - max_margin_loss: 4.6033\n",
      "Epoch 6/15\n",
      "475/475 - 108s - 227ms/step - loss: 4.5782 - max_margin_loss: 4.5744\n",
      "Epoch 7/15\n",
      "475/475 - 107s - 225ms/step - loss: 4.5533 - max_margin_loss: 4.5549\n",
      "Epoch 8/15\n",
      "475/475 - 104s - 218ms/step - loss: 4.5499 - max_margin_loss: 4.5480\n",
      "Epoch 9/15\n",
      "475/475 - 110s - 231ms/step - loss: 4.5308 - max_margin_loss: 4.5311\n",
      "Epoch 10/15\n",
      "475/475 - 113s - 237ms/step - loss: 4.5265 - max_margin_loss: 4.5252\n",
      "Epoch 11/15\n",
      "475/475 - 112s - 235ms/step - loss: 4.5138 - max_margin_loss: 4.5146\n",
      "Epoch 12/15\n",
      "475/475 - 112s - 235ms/step - loss: 4.5080 - max_margin_loss: 4.5069\n",
      "Epoch 13/15\n",
      "475/475 - 112s - 236ms/step - loss: 4.5056 - max_margin_loss: 4.5057\n",
      "Epoch 14/15\n",
      "475/475 - 113s - 237ms/step - loss: 4.4946 - max_margin_loss: 4.4922\n",
      "Epoch 15/15\n",
      "475/475 - 112s - 237ms/step - loss: 4.4912 - max_margin_loss: 4.4904\n",
      "Generating numeric representation for each word of ds.\n"
     ]
    },
    {
     "data": {
      "text/plain": [
       "Pandas Apply:   0%|          | 0/20230 [00:00<?, ?it/s]"
      ],
      "application/vnd.jupyter.widget-view+json": {
       "version_major": 2,
       "version_minor": 0,
       "model_id": "1038acc9fa4649bbba7641a2c46192ba"
      }
     },
     "metadata": {},
     "output_type": "display_data"
    },
    {
     "name": "stdout",
     "output_type": "stream",
     "text": [
      "Max sequence length calculation in progress...\n",
      "We loose information on 487(2.40731586752348% of ds).\n",
      "\u001B[1m159/159\u001B[0m \u001B[32m━━━━━━━━━━━━━━━━━━━━\u001B[0m\u001B[37m\u001B[0m \u001B[1m20s\u001B[0m 128ms/step - loss: 4.5248 - max_margin_loss: 4.5238\n",
      "Generating numeric representation for each word of ds.\n"
     ]
    },
    {
     "data": {
      "text/plain": [
       "Pandas Apply:   0%|          | 0/20230 [00:00<?, ?it/s]"
      ],
      "application/vnd.jupyter.widget-view+json": {
       "version_major": 2,
       "version_minor": 0,
       "model_id": "d50f42b99fb141169332034fcdac7d7d"
      }
     },
     "metadata": {},
     "output_type": "display_data"
    },
    {
     "name": "stdout",
     "output_type": "stream",
     "text": [
      "Max sequence length calculation in progress...\n",
      "We loose information on 487(2.40731586752348% of ds).\n",
      "\u001B[1m40/40\u001B[0m \u001B[32m━━━━━━━━━━━━━━━━━━━━\u001B[0m\u001B[37m\u001B[0m \u001B[1m0s\u001B[0m 12ms/step\n"
     ]
    },
    {
     "data": {
      "text/plain": [
       "Pandas Apply:   0%|          | 0/20230 [00:00<?, ?it/s]"
      ],
      "application/vnd.jupyter.widget-view+json": {
       "version_major": 2,
       "version_minor": 0,
       "model_id": "16e3bf51656e48f1b1afb806ed3314da"
      }
     },
     "metadata": {},
     "output_type": "display_data"
    },
    {
     "data": {
      "text/plain": [
       "Pandas Apply:   0%|          | 0/20230 [00:00<?, ?it/s]"
      ],
      "application/vnd.jupyter.widget-view+json": {
       "version_major": 2,
       "version_minor": 0,
       "model_id": "b96cdc17e3fe4b3180da92ee0d2c9629"
      }
     },
     "metadata": {},
     "output_type": "display_data"
    },
    {
     "data": {
      "text/plain": [
       "Pandas Apply:   0%|          | 0/20230 [00:00<?, ?it/s]"
      ],
      "application/vnd.jupyter.widget-view+json": {
       "version_major": 2,
       "version_minor": 0,
       "model_id": "abc7a0301e7b4cd1ba22307409ecb2a2"
      }
     },
     "metadata": {},
     "output_type": "display_data"
    },
    {
     "data": {
      "text/plain": [
       "Pandas Apply:   0%|          | 0/20230 [00:00<?, ?it/s]"
      ],
      "application/vnd.jupyter.widget-view+json": {
       "version_major": 2,
       "version_minor": 0,
       "model_id": "8db23587b5d245e2a3f6a88815e90d1b"
      }
     },
     "metadata": {},
     "output_type": "display_data"
    }
   ],
   "execution_count": 10
  },
  {
   "metadata": {
    "ExecuteTime": {
     "end_time": "2025-03-20T15:49:18.685762Z",
     "start_time": "2025-03-20T15:49:18.681738Z"
    }
   },
   "cell_type": "code",
   "source": "pprint(res)",
   "id": "f4565f51917cc79e",
   "outputs": [
    {
     "name": "stdout",
     "output_type": "stream",
     "text": [
      "{'coherence': [-9.532476935115621,\n",
      "               -7.297630775527104,\n",
      "               -6.547716215539502,\n",
      "               -5.569106045492354],\n",
      " 'loss': [4.510308265686035, 4.5080647468566895],\n",
      " 'silhouette_score': 0.10978267341852188,\n",
      " 'top': [20, 10, 5, 3]}\n"
     ]
    }
   ],
   "execution_count": 11
  },
  {
   "metadata": {},
   "cell_type": "markdown",
   "source": "## Sentence-split reviews",
   "id": "9eaaec47b2c6b0dc"
  },
  {
   "metadata": {
    "ExecuteTime": {
     "end_time": "2025-03-19T17:18:22.943158Z",
     "start_time": "2025-03-19T17:18:22.940372Z"
    }
   },
   "cell_type": "code",
   "source": [
    "corpus_path = \"../dataset/output/default_sentences/pre_processed.80k.csv\"\n",
    "test_corpus_path = \"../dataset/output/default_sentences/pre_processed.80k.test.csv\""
   ],
   "id": "de599d8f511eee18",
   "outputs": [],
   "execution_count": 2
  },
  {
   "metadata": {},
   "cell_type": "code",
   "outputs": [],
   "execution_count": null,
   "source": [
    "manager = ABAEManager.from_scratch(ABAEManagerConfig('sentence_default'), corpus_path)\n",
    "manager.train(corpus_path, verbose=2)\n",
    "res = manager.evaluate([20, 10, 5, 3], test_corpus=test_corpus_path)"
   ],
   "id": "ba5daef7089707a9"
  },
  {
   "metadata": {
    "ExecuteTime": {
     "end_time": "2025-03-19T15:52:54.847979Z",
     "start_time": "2025-03-19T15:52:54.843976Z"
    }
   },
   "cell_type": "code",
   "source": "pprint(res)",
   "id": "57733fb14ae7b153",
   "outputs": [
    {
     "name": "stdout",
     "output_type": "stream",
     "text": [
      "{'coherence': [-10.641038863629595,\n",
      "               -9.138537658110502,\n",
      "               -6.587250501495071,\n",
      "               -5.5914570947321085],\n",
      " 'loss': [5.903240203857422, 5.900863170623779],\n",
      " 'silhouette_score': 0.20448735356330872,\n",
      " 'top': [20, 10, 5, 3]}\n"
     ]
    }
   ],
   "execution_count": 4
  },
  {
   "metadata": {
    "ExecuteTime": {
     "end_time": "2025-03-19T22:53:34.733468Z",
     "start_time": "2025-03-19T22:53:34.372342Z"
    }
   },
   "cell_type": "code",
   "source": [
    "corpus_path = \"../dataset/output/default_sentences/pre_processed.80k.csv\"\n",
    "config = ABAEManagerConfig('sentence_default')\n",
    "manager = ABAEManager.from_scratch(config, corpus_path)\n",
    "manager.get_compiled_model(load_existing=True)\n",
    "processor = manager.make_ev_processor(test_corpus_path)\n",
    "\n",
    "aspects = processor.get_aspects(20)"
   ],
   "id": "217b0f0f816f9c55",
   "outputs": [
    {
     "data": {
      "text/plain": [
       "Pandas Apply:   0%|          | 0/68390 [00:00<?, ?it/s]"
      ],
      "application/vnd.jupyter.widget-view+json": {
       "version_major": 2,
       "version_minor": 0,
       "model_id": "70a6ad62710444c1821acc521f18df5b"
      }
     },
     "metadata": {},
     "output_type": "display_data"
    },
    {
     "name": "stdout",
     "output_type": "stream",
     "text": [
      "Loading the existing found model as requested in path ./output/sentence_default/sentence_default.aspect_embeddings.model\n",
      "Generating a new compiled model from fs\n"
     ]
    }
   ],
   "execution_count": 45
  },
  {
   "metadata": {
    "ExecuteTime": {
     "end_time": "2025-03-19T22:53:38.959722Z",
     "start_time": "2025-03-19T22:53:38.544701Z"
    }
   },
   "cell_type": "code",
   "source": "aspects",
   "id": "81d0db210f2c0666",
   "outputs": [
    {
     "data": {
      "text/plain": [
       "[[('games', tensor(0.4446, device='cuda:0', grad_fn=<SelectBackward0>)),\n",
       "  ('review', tensor(0.4162, device='cuda:0', grad_fn=<SelectBackward0>)),\n",
       "  ('price', tensor(0.4087, device='cuda:0', grad_fn=<SelectBackward0>)),\n",
       "  ('box', tensor(0.4049, device='cuda:0', grad_fn=<SelectBackward0>)),\n",
       "  ('copy', tensor(0.3943, device='cuda:0', grad_fn=<SelectBackward0>)),\n",
       "  ('designer', tensor(0.3898, device='cuda:0', grad_fn=<SelectBackward0>)),\n",
       "  ('rating', tensor(0.3842, device='cuda:0', grad_fn=<SelectBackward0>)),\n",
       "  ('star', tensor(0.3789, device='cuda:0', grad_fn=<SelectBackward0>)),\n",
       "  ('year', tensor(0.3781, device='cuda:0', grad_fn=<SelectBackward0>)),\n",
       "  ('criteria', tensor(0.3780, device='cuda:0', grad_fn=<SelectBackward0>)),\n",
       "  ('rate', tensor(0.3648, device='cuda:0', grad_fn=<SelectBackward0>)),\n",
       "  ('sell', tensor(0.3567, device='cuda:0', grad_fn=<SelectBackward0>)),\n",
       "  ('bgg', tensor(0.3552, device='cuda:0', grad_fn=<SelectBackward0>)),\n",
       "  ('friend', tensor(0.3546, device='cuda:0', grad_fn=<SelectBackward0>)),\n",
       "  ('update', tensor(0.3468, device='cuda:0', grad_fn=<SelectBackward0>)),\n",
       "  ('hit', tensor(0.3440, device='cuda:0', grad_fn=<SelectBackward0>)),\n",
       "  ('publisher', tensor(0.3429, device='cuda:0', grad_fn=<SelectBackward0>)),\n",
       "  ('shelf', tensor(0.3361, device='cuda:0', grad_fn=<SelectBackward0>)),\n",
       "  ('edition', tensor(0.3337, device='cuda:0', grad_fn=<SelectBackward0>)),\n",
       "  ('fan', tensor(0.3315, device='cuda:0', grad_fn=<SelectBackward0>))],\n",
       " [('dynasty', tensor(0.6239, device='cuda:0', grad_fn=<SelectBackward0>)),\n",
       "  ('stale', tensor(0.6182, device='cuda:0', grad_fn=<SelectBackward0>)),\n",
       "  ('forgivable', tensor(0.6125, device='cuda:0', grad_fn=<SelectBackward0>)),\n",
       "  ('blast', tensor(0.6099, device='cuda:0', grad_fn=<SelectBackward0>)),\n",
       "  ('interest', tensor(0.6052, device='cuda:0', grad_fn=<SelectBackward0>)),\n",
       "  ('shine', tensor(0.6018, device='cuda:0', grad_fn=<SelectBackward0>)),\n",
       "  ('investigator', tensor(0.5981, device='cuda:0', grad_fn=<SelectBackward0>)),\n",
       "  ('entertainment',\n",
       "   tensor(0.5943, device='cuda:0', grad_fn=<SelectBackward0>)),\n",
       "  ('looong', tensor(0.5919, device='cuda:0', grad_fn=<SelectBackward0>)),\n",
       "  ('ready', tensor(0.5885, device='cuda:0', grad_fn=<SelectBackward0>)),\n",
       "  ('revenge', tensor(0.5871, device='cuda:0', grad_fn=<SelectBackward0>)),\n",
       "  ('wanna', tensor(0.5870, device='cuda:0', grad_fn=<SelectBackward0>)),\n",
       "  ('ramp', tensor(0.5829, device='cuda:0', grad_fn=<SelectBackward0>)),\n",
       "  ('definately', tensor(0.5823, device='cuda:0', grad_fn=<SelectBackward0>)),\n",
       "  ('cull', tensor(0.5817, device='cuda:0', grad_fn=<SelectBackward0>)),\n",
       "  ('upper', tensor(0.5815, device='cuda:0', grad_fn=<SelectBackward0>)),\n",
       "  ('unpleasant', tensor(0.5813, device='cuda:0', grad_fn=<SelectBackward0>)),\n",
       "  ('care', tensor(0.5803, device='cuda:0', grad_fn=<SelectBackward0>)),\n",
       "  ('extract', tensor(0.5802, device='cuda:0', grad_fn=<SelectBackward0>)),\n",
       "  ('reluctant', tensor(0.5781, device='cuda:0', grad_fn=<SelectBackward0>))],\n",
       " [('feel', tensor(0.7706, device='cuda:0', grad_fn=<SelectBackward0>)),\n",
       "  ('chess', tensor(0.6464, device='cuda:0', grad_fn=<SelectBackward0>)),\n",
       "  ('similar', tensor(0.6324, device='cuda:0', grad_fn=<SelectBackward0>)),\n",
       "  ('feeling', tensor(0.6308, device='cuda:0', grad_fn=<SelectBackward0>)),\n",
       "  ('like', tensor(0.6305, device='cuda:0', grad_fn=<SelectBackward0>)),\n",
       "  ('kind', tensor(0.6128, device='cuda:0', grad_fn=<SelectBackward0>)),\n",
       "  ('think', tensor(0.6038, device='cuda:0', grad_fn=<SelectBackward0>)),\n",
       "  ('slightly', tensor(0.5909, device='cuda:0', grad_fn=<SelectBackward0>)),\n",
       "  ('sound', tensor(0.5881, device='cuda:0', grad_fn=<SelectBackward0>)),\n",
       "  ('remind', tensor(0.5832, device='cuda:0', grad_fn=<SelectBackward0>)),\n",
       "  ('taste', tensor(0.5764, device='cuda:0', grad_fn=<SelectBackward0>)),\n",
       "  ('dry', tensor(0.5692, device='cuda:0', grad_fn=<SelectBackward0>)),\n",
       "  ('compare', tensor(0.5689, device='cuda:0', grad_fn=<SelectBackward0>)),\n",
       "  ('idea', tensor(0.5612, device='cuda:0', grad_fn=<SelectBackward0>)),\n",
       "  ('system', tensor(0.5390, device='cuda:0', grad_fn=<SelectBackward0>)),\n",
       "  ('abstract', tensor(0.5352, device='cuda:0', grad_fn=<SelectBackward0>)),\n",
       "  ('actually', tensor(0.5314, device='cuda:0', grad_fn=<SelectBackward0>)),\n",
       "  ('repetitive', tensor(0.5281, device='cuda:0', grad_fn=<SelectBackward0>)),\n",
       "  ('streamlined', tensor(0.5261, device='cuda:0', grad_fn=<SelectBackward0>)),\n",
       "  ('overall', tensor(0.5229, device='cuda:0', grad_fn=<SelectBackward0>))],\n",
       " [('factor', tensor(0.6825, device='cuda:0', grad_fn=<SelectBackward0>)),\n",
       "  ('luck', tensor(0.6654, device='cuda:0', grad_fn=<SelectBackward0>)),\n",
       "  ('randomness', tensor(0.6465, device='cuda:0', grad_fn=<SelectBackward0>)),\n",
       "  ('random', tensor(0.6113, device='cuda:0', grad_fn=<SelectBackward0>)),\n",
       "  ('push', tensor(0.5761, device='cuda:0', grad_fn=<SelectBackward0>)),\n",
       "  ('dependent', tensor(0.5498, device='cuda:0', grad_fn=<SelectBackward0>)),\n",
       "  ('skill', tensor(0.5274, device='cuda:0', grad_fn=<SelectBackward0>)),\n",
       "  ('mitigate', tensor(0.5220, device='cuda:0', grad_fn=<SelectBackward0>)),\n",
       "  ('draw', tensor(0.5015, device='cuda:0', grad_fn=<SelectBackward0>)),\n",
       "  ('element', tensor(0.4949, device='cuda:0', grad_fn=<SelectBackward0>)),\n",
       "  ('involve', tensor(0.4852, device='cuda:0', grad_fn=<SelectBackward0>)),\n",
       "  ('low', tensor(0.4751, device='cuda:0', grad_fn=<SelectBackward0>)),\n",
       "  ('press', tensor(0.4605, device='cuda:0', grad_fn=<SelectBackward0>)),\n",
       "  ('die', tensor(0.4516, device='cuda:0', grad_fn=<SelectBackward0>)),\n",
       "  ('write', tensor(0.4498, device='cuda:0', grad_fn=<SelectBackward0>)),\n",
       "  ('roll', tensor(0.4470, device='cuda:0', grad_fn=<SelectBackward0>)),\n",
       "  ('bad', tensor(0.4456, device='cuda:0', grad_fn=<SelectBackward0>)),\n",
       "  ('high', tensor(0.4407, device='cuda:0', grad_fn=<SelectBackward0>)),\n",
       "  ('replayability',\n",
       "   tensor(0.4395, device='cuda:0', grad_fn=<SelectBackward0>)),\n",
       "  ('base', tensor(0.4263, device='cuda:0', grad_fn=<SelectBackward0>))],\n",
       " [('write', tensor(0.4330, device='cuda:0', grad_fn=<SelectBackward0>)),\n",
       "  ('love', tensor(0.4223, device='cuda:0', grad_fn=<SelectBackward0>)),\n",
       "  ('easy', tensor(0.4023, device='cuda:0', grad_fn=<SelectBackward0>)),\n",
       "  ('pick', tensor(0.3710, device='cuda:0', grad_fn=<SelectBackward0>)),\n",
       "  ('favorite', tensor(0.3636, device='cuda:0', grad_fn=<SelectBackward0>)),\n",
       "  ('basic', tensor(0.3635, device='cuda:0', grad_fn=<SelectBackward0>)),\n",
       "  ('deliver', tensor(0.3614, device='cuda:0', grad_fn=<SelectBackward0>)),\n",
       "  ('chuck', tensor(0.3506, device='cuda:0', grad_fn=<SelectBackward0>)),\n",
       "  ('old', tensor(0.3468, device='cuda:0', grad_fn=<SelectBackward0>)),\n",
       "  ('dice', tensor(0.3464, device='cuda:0', grad_fn=<SelectBackward0>)),\n",
       "  ('fluent', tensor(0.3456, device='cuda:0', grad_fn=<SelectBackward0>)),\n",
       "  ('ages', tensor(0.3454, device='cuda:0', grad_fn=<SelectBackward0>)),\n",
       "  ('video', tensor(0.3451, device='cuda:0', grad_fn=<SelectBackward0>)),\n",
       "  ('tell', tensor(0.3447, device='cuda:0', grad_fn=<SelectBackward0>)),\n",
       "  ('annoyed', tensor(0.3447, device='cuda:0', grad_fn=<SelectBackward0>)),\n",
       "  ('house', tensor(0.3368, device='cuda:0', grad_fn=<SelectBackward0>)),\n",
       "  ('previously', tensor(0.3341, device='cuda:0', grad_fn=<SelectBackward0>)),\n",
       "  ('influential', tensor(0.3331, device='cuda:0', grad_fn=<SelectBackward0>)),\n",
       "  ('assignment', tensor(0.3296, device='cuda:0', grad_fn=<SelectBackward0>)),\n",
       "  ('adventurer', tensor(0.3290, device='cuda:0', grad_fn=<SelectBackward0>))],\n",
       " [('play', tensor(0.3758, device='cuda:0', grad_fn=<SelectBackward0>)),\n",
       "  ('group', tensor(0.2582, device='cuda:0', grad_fn=<SelectBackward0>)),\n",
       "  ('people', tensor(0.2204, device='cuda:0', grad_fn=<SelectBackward0>)),\n",
       "  ('try', tensor(0.2141, device='cuda:0', grad_fn=<SelectBackward0>)),\n",
       "  ('know', tensor(0.2004, device='cuda:0', grad_fn=<SelectBackward0>)),\n",
       "  ('get', tensor(0.1971, device='cuda:0', grad_fn=<SelectBackward0>)),\n",
       "  ('friend', tensor(0.1881, device='cuda:0', grad_fn=<SelectBackward0>)),\n",
       "  ('table', tensor(0.1791, device='cuda:0', grad_fn=<SelectBackward0>)),\n",
       "  ('year', tensor(0.1656, device='cuda:0', grad_fn=<SelectBackward0>)),\n",
       "  ('finish', tensor(0.1549, device='cuda:0', grad_fn=<SelectBackward0>)),\n",
       "  ('wait', tensor(0.1455, device='cuda:0', grad_fn=<SelectBackward0>)),\n",
       "  ('find', tensor(0.1346, device='cuda:0', grad_fn=<SelectBackward0>)),\n",
       "  ('win', tensor(0.1305, device='cuda:0', grad_fn=<SelectBackward0>)),\n",
       "  ('hour', tensor(0.1284, device='cuda:0', grad_fn=<SelectBackward0>)),\n",
       "  ('wife', tensor(0.1240, device='cuda:0', grad_fn=<SelectBackward0>)),\n",
       "  ('read', tensor(0.1231, device='cuda:0', grad_fn=<SelectBackward0>)),\n",
       "  ('person', tensor(0.1210, device='cuda:0', grad_fn=<SelectBackward0>)),\n",
       "  ('go', tensor(0.1154, device='cuda:0', grad_fn=<SelectBackward0>)),\n",
       "  ('start', tensor(0.1068, device='cuda:0', grad_fn=<SelectBackward0>)),\n",
       "  ('night', tensor(0.1056, device='cuda:0', grad_fn=<SelectBackward0>))],\n",
       " [('point', tensor(0.4165, device='cuda:0', grad_fn=<SelectBackward0>)),\n",
       "  ('score', tensor(0.3452, device='cuda:0', grad_fn=<SelectBackward0>)),\n",
       "  ('victory', tensor(0.3265, device='cuda:0', grad_fn=<SelectBackward0>)),\n",
       "  ('scoring', tensor(0.2867, device='cuda:0', grad_fn=<SelectBackward0>)),\n",
       "  ('condition', tensor(0.2840, device='cuda:0', grad_fn=<SelectBackward0>)),\n",
       "  ('opponent', tensor(0.2723, device='cuda:0', grad_fn=<SelectBackward0>)),\n",
       "  ('bonus', tensor(0.2700, device='cuda:0', grad_fn=<SelectBackward0>)),\n",
       "  ('end', tensor(0.2593, device='cuda:0', grad_fn=<SelectBackward0>)),\n",
       "  ('money', tensor(0.2552, device='cuda:0', grad_fn=<SelectBackward0>)),\n",
       "  ('player', tensor(0.2528, device='cuda:0', grad_fn=<SelectBackward0>)),\n",
       "  ('gain', tensor(0.2505, device='cuda:0', grad_fn=<SelectBackward0>)),\n",
       "  ('path', tensor(0.2312, device='cuda:0', grad_fn=<SelectBackward0>)),\n",
       "  ('round', tensor(0.2223, device='cuda:0', grad_fn=<SelectBackward0>)),\n",
       "  ('goal', tensor(0.2080, device='cuda:0', grad_fn=<SelectBackward0>)),\n",
       "  ('vp', tensor(0.2038, device='cuda:0', grad_fn=<SelectBackward0>)),\n",
       "  ('number', tensor(0.1917, device='cuda:0', grad_fn=<SelectBackward0>)),\n",
       "  ('complete', tensor(0.1906, device='cuda:0', grad_fn=<SelectBackward0>)),\n",
       "  ('win', tensor(0.1882, device='cuda:0', grad_fn=<SelectBackward0>)),\n",
       "  ('area', tensor(0.1750, device='cuda:0', grad_fn=<SelectBackward0>)),\n",
       "  ('action', tensor(0.1695, device='cuda:0', grad_fn=<SelectBackward0>))],\n",
       " [('available', tensor(0.7850, device='cuda:0', grad_fn=<SelectBackward0>)),\n",
       "  ('upgrade', tensor(0.7336, device='cuda:0', grad_fn=<SelectBackward0>)),\n",
       "  ('special', tensor(0.7324, device='cuda:0', grad_fn=<SelectBackward0>)),\n",
       "  ('extra', tensor(0.7313, device='cuda:0', grad_fn=<SelectBackward0>)),\n",
       "  ('use', tensor(0.7226, device='cuda:0', grad_fn=<SelectBackward0>)),\n",
       "  ('additional', tensor(0.7207, device='cuda:0', grad_fn=<SelectBackward0>)),\n",
       "  ('location', tensor(0.7071, device='cuda:0', grad_fn=<SelectBackward0>)),\n",
       "  ('activate', tensor(0.7062, device='cuda:0', grad_fn=<SelectBackward0>)),\n",
       "  ('power', tensor(0.7002, device='cuda:0', grad_fn=<SelectBackward0>)),\n",
       "  ('match', tensor(0.6990, device='cuda:0', grad_fn=<SelectBackward0>)),\n",
       "  ('animal', tensor(0.6969, device='cuda:0', grad_fn=<SelectBackward0>)),\n",
       "  ('market', tensor(0.6909, device='cuda:0', grad_fn=<SelectBackward0>)),\n",
       "  ('claim', tensor(0.6906, device='cuda:0', grad_fn=<SelectBackward0>)),\n",
       "  ('remove', tensor(0.6848, device='cuda:0', grad_fn=<SelectBackward0>)),\n",
       "  ('specific', tensor(0.6840, device='cuda:0', grad_fn=<SelectBackward0>)),\n",
       "  ('terrain', tensor(0.6837, device='cuda:0', grad_fn=<SelectBackward0>)),\n",
       "  ('swap', tensor(0.6806, device='cuda:0', grad_fn=<SelectBackward0>)),\n",
       "  ('double', tensor(0.6740, device='cuda:0', grad_fn=<SelectBackward0>)),\n",
       "  ('map', tensor(0.6721, device='cuda:0', grad_fn=<SelectBackward0>)),\n",
       "  ('pay', tensor(0.6718, device='cuda:0', grad_fn=<SelectBackward0>))],\n",
       " [('edition', tensor(0.4373, device='cuda:0', grad_fn=<SelectBackward0>)),\n",
       "  ('expansion', tensor(0.3987, device='cuda:0', grad_fn=<SelectBackward0>)),\n",
       "  ('version', tensor(0.3715, device='cuda:0', grad_fn=<SelectBackward0>)),\n",
       "  ('<game_name>', tensor(0.3277, device='cuda:0', grad_fn=<SelectBackward0>)),\n",
       "  ('x', tensor(0.3238, device='cuda:0', grad_fn=<SelectBackward0>)),\n",
       "  ('include', tensor(0.3235, device='cuda:0', grad_fn=<SelectBackward0>)),\n",
       "  ('pack', tensor(0.3131, device='cuda:0', grad_fn=<SelectBackward0>)),\n",
       "  ('sleeve', tensor(0.3100, device='cuda:0', grad_fn=<SelectBackward0>)),\n",
       "  ('promo', tensor(0.2965, device='cuda:0', grad_fn=<SelectBackward0>)),\n",
       "  ('box', tensor(0.2762, device='cuda:0', grad_fn=<SelectBackward0>)),\n",
       "  ('original', tensor(0.2415, device='cuda:0', grad_fn=<SelectBackward0>)),\n",
       "  ('deluxe', tensor(0.2107, device='cuda:0', grad_fn=<SelectBackward0>)),\n",
       "  ('mini', tensor(0.2005, device='cuda:0', grad_fn=<SelectBackward0>)),\n",
       "  ('mm', tensor(0.1878, device='cuda:0', grad_fn=<SelectBackward0>)),\n",
       "  ('copy', tensor(0.1782, device='cuda:0', grad_fn=<SelectBackward0>)),\n",
       "  ('print', tensor(0.1654, device='cuda:0', grad_fn=<SelectBackward0>)),\n",
       "  ('standard', tensor(0.1635, device='cuda:0', grad_fn=<SelectBackward0>)),\n",
       "  ('english', tensor(0.1450, device='cuda:0', grad_fn=<SelectBackward0>)),\n",
       "  ('games', tensor(0.1396, device='cuda:0', grad_fn=<SelectBackward0>)),\n",
       "  ('men', tensor(0.1365, device='cuda:0', grad_fn=<SelectBackward0>))],\n",
       " [('rule', tensor(0.7395, device='cuda:0', grad_fn=<SelectBackward0>)),\n",
       "  ('explain', tensor(0.5894, device='cuda:0', grad_fn=<SelectBackward0>)),\n",
       "  ('easy', tensor(0.5816, device='cuda:0', grad_fn=<SelectBackward0>)),\n",
       "  ('quick', tensor(0.5750, device='cuda:0', grad_fn=<SelectBackward0>)),\n",
       "  ('relatively', tensor(0.5713, device='cuda:0', grad_fn=<SelectBackward0>)),\n",
       "  ('learn', tensor(0.5648, device='cuda:0', grad_fn=<SelectBackward0>)),\n",
       "  ('teach', tensor(0.5619, device='cuda:0', grad_fn=<SelectBackward0>)),\n",
       "  ('fairly', tensor(0.5553, device='cuda:0', grad_fn=<SelectBackward0>)),\n",
       "  ('fast', tensor(0.5523, device='cuda:0', grad_fn=<SelectBackward0>)),\n",
       "  ('quickly', tensor(0.5256, device='cuda:0', grad_fn=<SelectBackward0>)),\n",
       "  ('difficult', tensor(0.5195, device='cuda:0', grad_fn=<SelectBackward0>)),\n",
       "  ('understand', tensor(0.5154, device='cuda:0', grad_fn=<SelectBackward0>)),\n",
       "  ('hard', tensor(0.5127, device='cuda:0', grad_fn=<SelectBackward0>)),\n",
       "  ('grasp', tensor(0.5048, device='cuda:0', grad_fn=<SelectBackward0>)),\n",
       "  ('setup', tensor(0.4791, device='cuda:0', grad_fn=<SelectBackward0>)),\n",
       "  ('super', tensor(0.4724, device='cuda:0', grad_fn=<SelectBackward0>)),\n",
       "  ('clear', tensor(0.4714, device='cuda:0', grad_fn=<SelectBackward0>)),\n",
       "  ('complex', tensor(0.4649, device='cuda:0', grad_fn=<SelectBackward0>)),\n",
       "  ('simple', tensor(0.4568, device='cuda:0', grad_fn=<SelectBackward0>)),\n",
       "  ('rulebook', tensor(0.4525, device='cuda:0', grad_fn=<SelectBackward0>))],\n",
       " [('thumbsup', tensor(0.5447, device='cuda:0', grad_fn=<SelectBackward0>)),\n",
       "  ('warped', tensor(0.5407, device='cuda:0', grad_fn=<SelectBackward0>)),\n",
       "  ('payout', tensor(0.5088, device='cuda:0', grad_fn=<SelectBackward0>)),\n",
       "  ('crank', tensor(0.5024, device='cuda:0', grad_fn=<SelectBackward0>)),\n",
       "  ('flimsy', tensor(0.4965, device='cuda:0', grad_fn=<SelectBackward0>)),\n",
       "  ('total', tensor(0.4960, device='cuda:0', grad_fn=<SelectBackward0>)),\n",
       "  ('cavalry', tensor(0.4953, device='cuda:0', grad_fn=<SelectBackward0>)),\n",
       "  ('overhead', tensor(0.4939, device='cuda:0', grad_fn=<SelectBackward0>)),\n",
       "  ('trump', tensor(0.4934, device='cuda:0', grad_fn=<SelectBackward0>)),\n",
       "  ('leave', tensor(0.4926, device='cuda:0', grad_fn=<SelectBackward0>)),\n",
       "  ('compensate', tensor(0.4921, device='cuda:0', grad_fn=<SelectBackward0>)),\n",
       "  ('grab', tensor(0.4921, device='cuda:0', grad_fn=<SelectBackward0>)),\n",
       "  ('huge', tensor(0.4918, device='cuda:0', grad_fn=<SelectBackward0>)),\n",
       "  ('lacking', tensor(0.4913, device='cuda:0', grad_fn=<SelectBackward0>)),\n",
       "  ('score', tensor(0.4910, device='cuda:0', grad_fn=<SelectBackward0>)),\n",
       "  ('edge', tensor(0.4906, device='cuda:0', grad_fn=<SelectBackward0>)),\n",
       "  ('swing', tensor(0.4845, device='cuda:0', grad_fn=<SelectBackward0>)),\n",
       "  ('compass', tensor(0.4836, device='cuda:0', grad_fn=<SelectBackward0>)),\n",
       "  ('scoring', tensor(0.4831, device='cuda:0', grad_fn=<SelectBackward0>)),\n",
       "  ('influence', tensor(0.4822, device='cuda:0', grad_fn=<SelectBackward0>))],\n",
       " [('resource', tensor(0.3301, device='cuda:0', grad_fn=<SelectBackward0>)),\n",
       "  ('building', tensor(0.3186, device='cuda:0', grad_fn=<SelectBackward0>)),\n",
       "  ('tile', tensor(0.3155, device='cuda:0', grad_fn=<SelectBackward0>)),\n",
       "  ('worker', tensor(0.3131, device='cuda:0', grad_fn=<SelectBackward0>)),\n",
       "  ('management', tensor(0.2864, device='cuda:0', grad_fn=<SelectBackward0>)),\n",
       "  ('dice', tensor(0.2775, device='cuda:0', grad_fn=<SelectBackward0>)),\n",
       "  ('card', tensor(0.1959, device='cuda:0', grad_fn=<SelectBackward0>)),\n",
       "  ('build', tensor(0.1958, device='cuda:0', grad_fn=<SelectBackward0>)),\n",
       "  ('hand', tensor(0.1911, device='cuda:0', grad_fn=<SelectBackward0>)),\n",
       "  ('cube', tensor(0.1910, device='cuda:0', grad_fn=<SelectBackward0>)),\n",
       "  ('drafting', tensor(0.1846, device='cuda:0', grad_fn=<SelectBackward0>)),\n",
       "  ('city', tensor(0.1784, device='cuda:0', grad_fn=<SelectBackward0>)),\n",
       "  ('builder', tensor(0.1648, device='cuda:0', grad_fn=<SelectBackward0>)),\n",
       "  ('market', tensor(0.1604, device='cuda:0', grad_fn=<SelectBackward0>)),\n",
       "  ('engine', tensor(0.1537, device='cuda:0', grad_fn=<SelectBackward0>)),\n",
       "  ('type', tensor(0.1389, device='cuda:0', grad_fn=<SelectBackward0>)),\n",
       "  ('tableau', tensor(0.1351, device='cuda:0', grad_fn=<SelectBackward0>)),\n",
       "  ('auction', tensor(0.1314, device='cuda:0', grad_fn=<SelectBackward0>)),\n",
       "  ('mechanism', tensor(0.1305, device='cuda:0', grad_fn=<SelectBackward0>)),\n",
       "  ('collection', tensor(0.1246, device='cuda:0', grad_fn=<SelectBackward0>))],\n",
       " [('weight', tensor(0.5650, device='cuda:0', grad_fn=<SelectBackward0>)),\n",
       "  ('family', tensor(0.5389, device='cuda:0', grad_fn=<SelectBackward0>)),\n",
       "  ('best', tensor(0.4864, device='cuda:0', grad_fn=<SelectBackward0>)),\n",
       "  ('min', tensor(0.4252, device='cuda:0', grad_fn=<SelectBackward0>)),\n",
       "  ('party', tensor(0.3996, device='cuda:0', grad_fn=<SelectBackward0>)),\n",
       "  ('recommend', tensor(0.3931, device='cuda:0', grad_fn=<SelectBackward0>)),\n",
       "  ('light', tensor(0.3911, device='cuda:0', grad_fn=<SelectBackward0>)),\n",
       "  ('filler', tensor(0.3876, device='cuda:0', grad_fn=<SelectBackward0>)),\n",
       "  ('gateway', tensor(0.3802, device='cuda:0', grad_fn=<SelectBackward0>)),\n",
       "  ('kid', tensor(0.3799, device='cuda:0', grad_fn=<SelectBackward0>)),\n",
       "  ('gamer', tensor(0.3768, device='cuda:0', grad_fn=<SelectBackward0>)),\n",
       "  ('medium', tensor(0.3690, device='cuda:0', grad_fn=<SelectBackward0>)),\n",
       "  ('cooperative', tensor(0.3642, device='cuda:0', grad_fn=<SelectBackward0>)),\n",
       "  ('favorite', tensor(0.3289, device='cuda:0', grad_fn=<SelectBackward0>)),\n",
       "  ('child', tensor(0.3279, device='cuda:0', grad_fn=<SelectBackward0>)),\n",
       "  ('highly', tensor(0.3260, device='cuda:0', grad_fn=<SelectBackward0>)),\n",
       "  ('casual', tensor(0.3190, device='cuda:0', grad_fn=<SelectBackward0>)),\n",
       "  ('age', tensor(0.3149, device='cuda:0', grad_fn=<SelectBackward0>)),\n",
       "  ('solo', tensor(0.3113, device='cuda:0', grad_fn=<SelectBackward0>)),\n",
       "  ('adult', tensor(0.3023, device='cuda:0', grad_fn=<SelectBackward0>))],\n",
       " [('art', tensor(0.4445, device='cuda:0', grad_fn=<SelectBackward0>)),\n",
       "  ('beautiful', tensor(0.4432, device='cuda:0', grad_fn=<SelectBackward0>)),\n",
       "  ('component', tensor(0.4394, device='cuda:0', grad_fn=<SelectBackward0>)),\n",
       "  ('artwork', tensor(0.4373, device='cuda:0', grad_fn=<SelectBackward0>)),\n",
       "  ('production', tensor(0.4348, device='cuda:0', grad_fn=<SelectBackward0>)),\n",
       "  ('design', tensor(0.4338, device='cuda:0', grad_fn=<SelectBackward0>)),\n",
       "  ('quality', tensor(0.4026, device='cuda:0', grad_fn=<SelectBackward0>)),\n",
       "  ('theme', tensor(0.3990, device='cuda:0', grad_fn=<SelectBackward0>)),\n",
       "  ('gorgeous', tensor(0.3159, device='cuda:0', grad_fn=<SelectBackward0>)),\n",
       "  ('graphic', tensor(0.3106, device='cuda:0', grad_fn=<SelectBackward0>)),\n",
       "  ('amazing', tensor(0.2915, device='cuda:0', grad_fn=<SelectBackward0>)),\n",
       "  ('excellent', tensor(0.2896, device='cuda:0', grad_fn=<SelectBackward0>)),\n",
       "  ('nice', tensor(0.2654, device='cuda:0', grad_fn=<SelectBackward0>)),\n",
       "  ('gameplay', tensor(0.2576, device='cuda:0', grad_fn=<SelectBackward0>)),\n",
       "  ('thematic', tensor(0.2478, device='cuda:0', grad_fn=<SelectBackward0>)),\n",
       "  ('miniature', tensor(0.2446, device='cuda:0', grad_fn=<SelectBackward0>)),\n",
       "  ('fantastic', tensor(0.2442, device='cuda:0', grad_fn=<SelectBackward0>)),\n",
       "  ('cool', tensor(0.2423, device='cuda:0', grad_fn=<SelectBackward0>)),\n",
       "  ('style', tensor(0.2319, device='cuda:0', grad_fn=<SelectBackward0>)),\n",
       "  ('great', tensor(0.2155, device='cuda:0', grad_fn=<SelectBackward0>))]]"
      ]
     },
     "execution_count": 46,
     "metadata": {},
     "output_type": "execute_result"
    }
   ],
   "execution_count": 46
  },
  {
   "metadata": {
    "ExecuteTime": {
     "end_time": "2025-03-19T22:57:58.337987Z",
     "start_time": "2025-03-19T22:54:35.664850Z"
    }
   },
   "cell_type": "code",
   "source": "manager.evaluate([20, 10, 5, 3], test_corpus=test_corpus_path)",
   "id": "4820c63dce36bb65",
   "outputs": [
    {
     "name": "stdout",
     "output_type": "stream",
     "text": [
      "Generating numeric representation for each word of ds.\n"
     ]
    },
    {
     "data": {
      "text/plain": [
       "Pandas Apply:   0%|          | 0/77966 [00:00<?, ?it/s]"
      ],
      "application/vnd.jupyter.widget-view+json": {
       "version_major": 2,
       "version_minor": 0,
       "model_id": "866b85fe306a4801aacea2d7fe653836"
      }
     },
     "metadata": {},
     "output_type": "display_data"
    },
    {
     "name": "stdout",
     "output_type": "stream",
     "text": [
      "Max sequence length calculation in progress...\n",
      "We loose information on 8(0.01026088294897776% of ds).\n",
      "\u001B[1m610/610\u001B[0m \u001B[32m━━━━━━━━━━━━━━━━━━━━\u001B[0m\u001B[37m\u001B[0m \u001B[1m161s\u001B[0m 264ms/step - loss: 5.9393 - max_margin_loss: 5.9393\n",
      "Generating numeric representation for each word of ds.\n"
     ]
    },
    {
     "data": {
      "text/plain": [
       "Pandas Apply:   0%|          | 0/77966 [00:00<?, ?it/s]"
      ],
      "application/vnd.jupyter.widget-view+json": {
       "version_major": 2,
       "version_minor": 0,
       "model_id": "55b1f9a6c28c44e5b861af3606fa862f"
      }
     },
     "metadata": {},
     "output_type": "display_data"
    },
    {
     "name": "stdout",
     "output_type": "stream",
     "text": [
      "Max sequence length calculation in progress...\n",
      "We loose information on 8(0.01026088294897776% of ds).\n",
      "\u001B[1m153/153\u001B[0m \u001B[32m━━━━━━━━━━━━━━━━━━━━\u001B[0m\u001B[37m\u001B[0m \u001B[1m1s\u001B[0m 8ms/step\n"
     ]
    },
    {
     "data": {
      "text/plain": [
       "Pandas Apply:   0%|          | 0/77966 [00:00<?, ?it/s]"
      ],
      "application/vnd.jupyter.widget-view+json": {
       "version_major": 2,
       "version_minor": 0,
       "model_id": "8556d908f2ec4100b1652398821ec505"
      }
     },
     "metadata": {},
     "output_type": "display_data"
    },
    {
     "data": {
      "text/plain": [
       "Pandas Apply:   0%|          | 0/77966 [00:00<?, ?it/s]"
      ],
      "application/vnd.jupyter.widget-view+json": {
       "version_major": 2,
       "version_minor": 0,
       "model_id": "ce48384723194e5aaa5d4779a8231c41"
      }
     },
     "metadata": {},
     "output_type": "display_data"
    },
    {
     "data": {
      "text/plain": [
       "Pandas Apply:   0%|          | 0/77966 [00:00<?, ?it/s]"
      ],
      "application/vnd.jupyter.widget-view+json": {
       "version_major": 2,
       "version_minor": 0,
       "model_id": "f848e4dca38642bb94591c5cd31a6efd"
      }
     },
     "metadata": {},
     "output_type": "display_data"
    },
    {
     "data": {
      "text/plain": [
       "Pandas Apply:   0%|          | 0/77966 [00:00<?, ?it/s]"
      ],
      "application/vnd.jupyter.widget-view+json": {
       "version_major": 2,
       "version_minor": 0,
       "model_id": "9349cd6875c24bcfac4044e5c95ddd8b"
      }
     },
     "metadata": {},
     "output_type": "display_data"
    },
    {
     "data": {
      "text/plain": [
       "{'coherence': [-8.44545707953797,\n",
       "  -7.3458720913356945,\n",
       "  -5.829376841304451,\n",
       "  -6.036148838026193],\n",
       " 'top': [20, 10, 5, 3],\n",
       " 'loss': [5.936696529388428, 5.937065601348877],\n",
       " 'silhouette_score': 0.20680736005306244}"
      ]
     },
     "execution_count": 48,
     "metadata": {},
     "output_type": "execute_result"
    }
   ],
   "execution_count": 48
  },
  {
   "metadata": {
    "ExecuteTime": {
     "end_time": "2025-03-19T22:58:42.847081Z",
     "start_time": "2025-03-19T22:58:42.344140Z"
    }
   },
   "cell_type": "code",
   "source": "processor.get_aspects(20)",
   "id": "fe8fbc0c9b441ba4",
   "outputs": [
    {
     "data": {
      "text/plain": [
       "[[('games', tensor(0.4446, device='cuda:0', grad_fn=<SelectBackward0>)),\n",
       "  ('review', tensor(0.4162, device='cuda:0', grad_fn=<SelectBackward0>)),\n",
       "  ('price', tensor(0.4087, device='cuda:0', grad_fn=<SelectBackward0>)),\n",
       "  ('box', tensor(0.4049, device='cuda:0', grad_fn=<SelectBackward0>)),\n",
       "  ('copy', tensor(0.3943, device='cuda:0', grad_fn=<SelectBackward0>)),\n",
       "  ('designer', tensor(0.3898, device='cuda:0', grad_fn=<SelectBackward0>)),\n",
       "  ('rating', tensor(0.3842, device='cuda:0', grad_fn=<SelectBackward0>)),\n",
       "  ('star', tensor(0.3789, device='cuda:0', grad_fn=<SelectBackward0>)),\n",
       "  ('year', tensor(0.3781, device='cuda:0', grad_fn=<SelectBackward0>)),\n",
       "  ('criteria', tensor(0.3780, device='cuda:0', grad_fn=<SelectBackward0>)),\n",
       "  ('rate', tensor(0.3648, device='cuda:0', grad_fn=<SelectBackward0>)),\n",
       "  ('sell', tensor(0.3567, device='cuda:0', grad_fn=<SelectBackward0>)),\n",
       "  ('bgg', tensor(0.3552, device='cuda:0', grad_fn=<SelectBackward0>)),\n",
       "  ('friend', tensor(0.3546, device='cuda:0', grad_fn=<SelectBackward0>)),\n",
       "  ('update', tensor(0.3468, device='cuda:0', grad_fn=<SelectBackward0>)),\n",
       "  ('hit', tensor(0.3440, device='cuda:0', grad_fn=<SelectBackward0>)),\n",
       "  ('publisher', tensor(0.3429, device='cuda:0', grad_fn=<SelectBackward0>)),\n",
       "  ('shelf', tensor(0.3361, device='cuda:0', grad_fn=<SelectBackward0>)),\n",
       "  ('edition', tensor(0.3337, device='cuda:0', grad_fn=<SelectBackward0>)),\n",
       "  ('fan', tensor(0.3315, device='cuda:0', grad_fn=<SelectBackward0>))],\n",
       " [('dynasty', tensor(0.6239, device='cuda:0', grad_fn=<SelectBackward0>)),\n",
       "  ('stale', tensor(0.6182, device='cuda:0', grad_fn=<SelectBackward0>)),\n",
       "  ('forgivable', tensor(0.6125, device='cuda:0', grad_fn=<SelectBackward0>)),\n",
       "  ('blast', tensor(0.6099, device='cuda:0', grad_fn=<SelectBackward0>)),\n",
       "  ('interest', tensor(0.6052, device='cuda:0', grad_fn=<SelectBackward0>)),\n",
       "  ('shine', tensor(0.6018, device='cuda:0', grad_fn=<SelectBackward0>)),\n",
       "  ('investigator', tensor(0.5981, device='cuda:0', grad_fn=<SelectBackward0>)),\n",
       "  ('entertainment',\n",
       "   tensor(0.5943, device='cuda:0', grad_fn=<SelectBackward0>)),\n",
       "  ('looong', tensor(0.5919, device='cuda:0', grad_fn=<SelectBackward0>)),\n",
       "  ('ready', tensor(0.5885, device='cuda:0', grad_fn=<SelectBackward0>)),\n",
       "  ('revenge', tensor(0.5871, device='cuda:0', grad_fn=<SelectBackward0>)),\n",
       "  ('wanna', tensor(0.5870, device='cuda:0', grad_fn=<SelectBackward0>)),\n",
       "  ('ramp', tensor(0.5829, device='cuda:0', grad_fn=<SelectBackward0>)),\n",
       "  ('definately', tensor(0.5823, device='cuda:0', grad_fn=<SelectBackward0>)),\n",
       "  ('cull', tensor(0.5817, device='cuda:0', grad_fn=<SelectBackward0>)),\n",
       "  ('upper', tensor(0.5815, device='cuda:0', grad_fn=<SelectBackward0>)),\n",
       "  ('unpleasant', tensor(0.5813, device='cuda:0', grad_fn=<SelectBackward0>)),\n",
       "  ('care', tensor(0.5803, device='cuda:0', grad_fn=<SelectBackward0>)),\n",
       "  ('extract', tensor(0.5802, device='cuda:0', grad_fn=<SelectBackward0>)),\n",
       "  ('reluctant', tensor(0.5781, device='cuda:0', grad_fn=<SelectBackward0>))],\n",
       " [('feel', tensor(0.7706, device='cuda:0', grad_fn=<SelectBackward0>)),\n",
       "  ('chess', tensor(0.6464, device='cuda:0', grad_fn=<SelectBackward0>)),\n",
       "  ('similar', tensor(0.6324, device='cuda:0', grad_fn=<SelectBackward0>)),\n",
       "  ('feeling', tensor(0.6308, device='cuda:0', grad_fn=<SelectBackward0>)),\n",
       "  ('like', tensor(0.6305, device='cuda:0', grad_fn=<SelectBackward0>)),\n",
       "  ('kind', tensor(0.6128, device='cuda:0', grad_fn=<SelectBackward0>)),\n",
       "  ('think', tensor(0.6038, device='cuda:0', grad_fn=<SelectBackward0>)),\n",
       "  ('slightly', tensor(0.5909, device='cuda:0', grad_fn=<SelectBackward0>)),\n",
       "  ('sound', tensor(0.5881, device='cuda:0', grad_fn=<SelectBackward0>)),\n",
       "  ('remind', tensor(0.5832, device='cuda:0', grad_fn=<SelectBackward0>)),\n",
       "  ('taste', tensor(0.5764, device='cuda:0', grad_fn=<SelectBackward0>)),\n",
       "  ('dry', tensor(0.5692, device='cuda:0', grad_fn=<SelectBackward0>)),\n",
       "  ('compare', tensor(0.5689, device='cuda:0', grad_fn=<SelectBackward0>)),\n",
       "  ('idea', tensor(0.5612, device='cuda:0', grad_fn=<SelectBackward0>)),\n",
       "  ('system', tensor(0.5390, device='cuda:0', grad_fn=<SelectBackward0>)),\n",
       "  ('abstract', tensor(0.5352, device='cuda:0', grad_fn=<SelectBackward0>)),\n",
       "  ('actually', tensor(0.5314, device='cuda:0', grad_fn=<SelectBackward0>)),\n",
       "  ('repetitive', tensor(0.5281, device='cuda:0', grad_fn=<SelectBackward0>)),\n",
       "  ('streamlined', tensor(0.5261, device='cuda:0', grad_fn=<SelectBackward0>)),\n",
       "  ('overall', tensor(0.5229, device='cuda:0', grad_fn=<SelectBackward0>))],\n",
       " [('factor', tensor(0.6825, device='cuda:0', grad_fn=<SelectBackward0>)),\n",
       "  ('luck', tensor(0.6654, device='cuda:0', grad_fn=<SelectBackward0>)),\n",
       "  ('randomness', tensor(0.6465, device='cuda:0', grad_fn=<SelectBackward0>)),\n",
       "  ('random', tensor(0.6113, device='cuda:0', grad_fn=<SelectBackward0>)),\n",
       "  ('push', tensor(0.5761, device='cuda:0', grad_fn=<SelectBackward0>)),\n",
       "  ('dependent', tensor(0.5498, device='cuda:0', grad_fn=<SelectBackward0>)),\n",
       "  ('skill', tensor(0.5274, device='cuda:0', grad_fn=<SelectBackward0>)),\n",
       "  ('mitigate', tensor(0.5220, device='cuda:0', grad_fn=<SelectBackward0>)),\n",
       "  ('draw', tensor(0.5015, device='cuda:0', grad_fn=<SelectBackward0>)),\n",
       "  ('element', tensor(0.4949, device='cuda:0', grad_fn=<SelectBackward0>)),\n",
       "  ('involve', tensor(0.4852, device='cuda:0', grad_fn=<SelectBackward0>)),\n",
       "  ('low', tensor(0.4751, device='cuda:0', grad_fn=<SelectBackward0>)),\n",
       "  ('press', tensor(0.4605, device='cuda:0', grad_fn=<SelectBackward0>)),\n",
       "  ('die', tensor(0.4516, device='cuda:0', grad_fn=<SelectBackward0>)),\n",
       "  ('write', tensor(0.4498, device='cuda:0', grad_fn=<SelectBackward0>)),\n",
       "  ('roll', tensor(0.4470, device='cuda:0', grad_fn=<SelectBackward0>)),\n",
       "  ('bad', tensor(0.4456, device='cuda:0', grad_fn=<SelectBackward0>)),\n",
       "  ('high', tensor(0.4407, device='cuda:0', grad_fn=<SelectBackward0>)),\n",
       "  ('replayability',\n",
       "   tensor(0.4395, device='cuda:0', grad_fn=<SelectBackward0>)),\n",
       "  ('base', tensor(0.4263, device='cuda:0', grad_fn=<SelectBackward0>))],\n",
       " [('write', tensor(0.4330, device='cuda:0', grad_fn=<SelectBackward0>)),\n",
       "  ('love', tensor(0.4223, device='cuda:0', grad_fn=<SelectBackward0>)),\n",
       "  ('easy', tensor(0.4023, device='cuda:0', grad_fn=<SelectBackward0>)),\n",
       "  ('pick', tensor(0.3710, device='cuda:0', grad_fn=<SelectBackward0>)),\n",
       "  ('favorite', tensor(0.3636, device='cuda:0', grad_fn=<SelectBackward0>)),\n",
       "  ('basic', tensor(0.3635, device='cuda:0', grad_fn=<SelectBackward0>)),\n",
       "  ('deliver', tensor(0.3614, device='cuda:0', grad_fn=<SelectBackward0>)),\n",
       "  ('chuck', tensor(0.3506, device='cuda:0', grad_fn=<SelectBackward0>)),\n",
       "  ('old', tensor(0.3468, device='cuda:0', grad_fn=<SelectBackward0>)),\n",
       "  ('dice', tensor(0.3464, device='cuda:0', grad_fn=<SelectBackward0>)),\n",
       "  ('fluent', tensor(0.3456, device='cuda:0', grad_fn=<SelectBackward0>)),\n",
       "  ('ages', tensor(0.3454, device='cuda:0', grad_fn=<SelectBackward0>)),\n",
       "  ('video', tensor(0.3451, device='cuda:0', grad_fn=<SelectBackward0>)),\n",
       "  ('tell', tensor(0.3447, device='cuda:0', grad_fn=<SelectBackward0>)),\n",
       "  ('annoyed', tensor(0.3447, device='cuda:0', grad_fn=<SelectBackward0>)),\n",
       "  ('house', tensor(0.3368, device='cuda:0', grad_fn=<SelectBackward0>)),\n",
       "  ('previously', tensor(0.3341, device='cuda:0', grad_fn=<SelectBackward0>)),\n",
       "  ('influential', tensor(0.3331, device='cuda:0', grad_fn=<SelectBackward0>)),\n",
       "  ('assignment', tensor(0.3296, device='cuda:0', grad_fn=<SelectBackward0>)),\n",
       "  ('adventurer', tensor(0.3290, device='cuda:0', grad_fn=<SelectBackward0>))],\n",
       " [('play', tensor(0.3758, device='cuda:0', grad_fn=<SelectBackward0>)),\n",
       "  ('group', tensor(0.2582, device='cuda:0', grad_fn=<SelectBackward0>)),\n",
       "  ('people', tensor(0.2204, device='cuda:0', grad_fn=<SelectBackward0>)),\n",
       "  ('try', tensor(0.2141, device='cuda:0', grad_fn=<SelectBackward0>)),\n",
       "  ('know', tensor(0.2004, device='cuda:0', grad_fn=<SelectBackward0>)),\n",
       "  ('get', tensor(0.1971, device='cuda:0', grad_fn=<SelectBackward0>)),\n",
       "  ('friend', tensor(0.1881, device='cuda:0', grad_fn=<SelectBackward0>)),\n",
       "  ('table', tensor(0.1791, device='cuda:0', grad_fn=<SelectBackward0>)),\n",
       "  ('year', tensor(0.1656, device='cuda:0', grad_fn=<SelectBackward0>)),\n",
       "  ('finish', tensor(0.1549, device='cuda:0', grad_fn=<SelectBackward0>)),\n",
       "  ('wait', tensor(0.1455, device='cuda:0', grad_fn=<SelectBackward0>)),\n",
       "  ('find', tensor(0.1346, device='cuda:0', grad_fn=<SelectBackward0>)),\n",
       "  ('win', tensor(0.1305, device='cuda:0', grad_fn=<SelectBackward0>)),\n",
       "  ('hour', tensor(0.1284, device='cuda:0', grad_fn=<SelectBackward0>)),\n",
       "  ('wife', tensor(0.1240, device='cuda:0', grad_fn=<SelectBackward0>)),\n",
       "  ('read', tensor(0.1231, device='cuda:0', grad_fn=<SelectBackward0>)),\n",
       "  ('person', tensor(0.1210, device='cuda:0', grad_fn=<SelectBackward0>)),\n",
       "  ('go', tensor(0.1154, device='cuda:0', grad_fn=<SelectBackward0>)),\n",
       "  ('start', tensor(0.1068, device='cuda:0', grad_fn=<SelectBackward0>)),\n",
       "  ('night', tensor(0.1056, device='cuda:0', grad_fn=<SelectBackward0>))],\n",
       " [('point', tensor(0.4165, device='cuda:0', grad_fn=<SelectBackward0>)),\n",
       "  ('score', tensor(0.3452, device='cuda:0', grad_fn=<SelectBackward0>)),\n",
       "  ('victory', tensor(0.3265, device='cuda:0', grad_fn=<SelectBackward0>)),\n",
       "  ('scoring', tensor(0.2867, device='cuda:0', grad_fn=<SelectBackward0>)),\n",
       "  ('condition', tensor(0.2840, device='cuda:0', grad_fn=<SelectBackward0>)),\n",
       "  ('opponent', tensor(0.2723, device='cuda:0', grad_fn=<SelectBackward0>)),\n",
       "  ('bonus', tensor(0.2700, device='cuda:0', grad_fn=<SelectBackward0>)),\n",
       "  ('end', tensor(0.2593, device='cuda:0', grad_fn=<SelectBackward0>)),\n",
       "  ('money', tensor(0.2552, device='cuda:0', grad_fn=<SelectBackward0>)),\n",
       "  ('player', tensor(0.2528, device='cuda:0', grad_fn=<SelectBackward0>)),\n",
       "  ('gain', tensor(0.2505, device='cuda:0', grad_fn=<SelectBackward0>)),\n",
       "  ('path', tensor(0.2312, device='cuda:0', grad_fn=<SelectBackward0>)),\n",
       "  ('round', tensor(0.2223, device='cuda:0', grad_fn=<SelectBackward0>)),\n",
       "  ('goal', tensor(0.2080, device='cuda:0', grad_fn=<SelectBackward0>)),\n",
       "  ('vp', tensor(0.2038, device='cuda:0', grad_fn=<SelectBackward0>)),\n",
       "  ('number', tensor(0.1917, device='cuda:0', grad_fn=<SelectBackward0>)),\n",
       "  ('complete', tensor(0.1906, device='cuda:0', grad_fn=<SelectBackward0>)),\n",
       "  ('win', tensor(0.1882, device='cuda:0', grad_fn=<SelectBackward0>)),\n",
       "  ('area', tensor(0.1750, device='cuda:0', grad_fn=<SelectBackward0>)),\n",
       "  ('action', tensor(0.1695, device='cuda:0', grad_fn=<SelectBackward0>))],\n",
       " [('available', tensor(0.7850, device='cuda:0', grad_fn=<SelectBackward0>)),\n",
       "  ('upgrade', tensor(0.7336, device='cuda:0', grad_fn=<SelectBackward0>)),\n",
       "  ('special', tensor(0.7324, device='cuda:0', grad_fn=<SelectBackward0>)),\n",
       "  ('extra', tensor(0.7313, device='cuda:0', grad_fn=<SelectBackward0>)),\n",
       "  ('use', tensor(0.7226, device='cuda:0', grad_fn=<SelectBackward0>)),\n",
       "  ('additional', tensor(0.7207, device='cuda:0', grad_fn=<SelectBackward0>)),\n",
       "  ('location', tensor(0.7071, device='cuda:0', grad_fn=<SelectBackward0>)),\n",
       "  ('activate', tensor(0.7062, device='cuda:0', grad_fn=<SelectBackward0>)),\n",
       "  ('power', tensor(0.7002, device='cuda:0', grad_fn=<SelectBackward0>)),\n",
       "  ('match', tensor(0.6990, device='cuda:0', grad_fn=<SelectBackward0>)),\n",
       "  ('animal', tensor(0.6969, device='cuda:0', grad_fn=<SelectBackward0>)),\n",
       "  ('market', tensor(0.6909, device='cuda:0', grad_fn=<SelectBackward0>)),\n",
       "  ('claim', tensor(0.6906, device='cuda:0', grad_fn=<SelectBackward0>)),\n",
       "  ('remove', tensor(0.6848, device='cuda:0', grad_fn=<SelectBackward0>)),\n",
       "  ('specific', tensor(0.6840, device='cuda:0', grad_fn=<SelectBackward0>)),\n",
       "  ('terrain', tensor(0.6837, device='cuda:0', grad_fn=<SelectBackward0>)),\n",
       "  ('swap', tensor(0.6806, device='cuda:0', grad_fn=<SelectBackward0>)),\n",
       "  ('double', tensor(0.6740, device='cuda:0', grad_fn=<SelectBackward0>)),\n",
       "  ('map', tensor(0.6721, device='cuda:0', grad_fn=<SelectBackward0>)),\n",
       "  ('pay', tensor(0.6718, device='cuda:0', grad_fn=<SelectBackward0>))],\n",
       " [('edition', tensor(0.4373, device='cuda:0', grad_fn=<SelectBackward0>)),\n",
       "  ('expansion', tensor(0.3987, device='cuda:0', grad_fn=<SelectBackward0>)),\n",
       "  ('version', tensor(0.3715, device='cuda:0', grad_fn=<SelectBackward0>)),\n",
       "  ('<game_name>', tensor(0.3277, device='cuda:0', grad_fn=<SelectBackward0>)),\n",
       "  ('x', tensor(0.3238, device='cuda:0', grad_fn=<SelectBackward0>)),\n",
       "  ('include', tensor(0.3235, device='cuda:0', grad_fn=<SelectBackward0>)),\n",
       "  ('pack', tensor(0.3131, device='cuda:0', grad_fn=<SelectBackward0>)),\n",
       "  ('sleeve', tensor(0.3100, device='cuda:0', grad_fn=<SelectBackward0>)),\n",
       "  ('promo', tensor(0.2965, device='cuda:0', grad_fn=<SelectBackward0>)),\n",
       "  ('box', tensor(0.2762, device='cuda:0', grad_fn=<SelectBackward0>)),\n",
       "  ('original', tensor(0.2415, device='cuda:0', grad_fn=<SelectBackward0>)),\n",
       "  ('deluxe', tensor(0.2107, device='cuda:0', grad_fn=<SelectBackward0>)),\n",
       "  ('mini', tensor(0.2005, device='cuda:0', grad_fn=<SelectBackward0>)),\n",
       "  ('mm', tensor(0.1878, device='cuda:0', grad_fn=<SelectBackward0>)),\n",
       "  ('copy', tensor(0.1782, device='cuda:0', grad_fn=<SelectBackward0>)),\n",
       "  ('print', tensor(0.1654, device='cuda:0', grad_fn=<SelectBackward0>)),\n",
       "  ('standard', tensor(0.1635, device='cuda:0', grad_fn=<SelectBackward0>)),\n",
       "  ('english', tensor(0.1450, device='cuda:0', grad_fn=<SelectBackward0>)),\n",
       "  ('games', tensor(0.1396, device='cuda:0', grad_fn=<SelectBackward0>)),\n",
       "  ('men', tensor(0.1365, device='cuda:0', grad_fn=<SelectBackward0>))],\n",
       " [('rule', tensor(0.7395, device='cuda:0', grad_fn=<SelectBackward0>)),\n",
       "  ('explain', tensor(0.5894, device='cuda:0', grad_fn=<SelectBackward0>)),\n",
       "  ('easy', tensor(0.5816, device='cuda:0', grad_fn=<SelectBackward0>)),\n",
       "  ('quick', tensor(0.5750, device='cuda:0', grad_fn=<SelectBackward0>)),\n",
       "  ('relatively', tensor(0.5713, device='cuda:0', grad_fn=<SelectBackward0>)),\n",
       "  ('learn', tensor(0.5648, device='cuda:0', grad_fn=<SelectBackward0>)),\n",
       "  ('teach', tensor(0.5619, device='cuda:0', grad_fn=<SelectBackward0>)),\n",
       "  ('fairly', tensor(0.5553, device='cuda:0', grad_fn=<SelectBackward0>)),\n",
       "  ('fast', tensor(0.5523, device='cuda:0', grad_fn=<SelectBackward0>)),\n",
       "  ('quickly', tensor(0.5256, device='cuda:0', grad_fn=<SelectBackward0>)),\n",
       "  ('difficult', tensor(0.5195, device='cuda:0', grad_fn=<SelectBackward0>)),\n",
       "  ('understand', tensor(0.5154, device='cuda:0', grad_fn=<SelectBackward0>)),\n",
       "  ('hard', tensor(0.5127, device='cuda:0', grad_fn=<SelectBackward0>)),\n",
       "  ('grasp', tensor(0.5048, device='cuda:0', grad_fn=<SelectBackward0>)),\n",
       "  ('setup', tensor(0.4791, device='cuda:0', grad_fn=<SelectBackward0>)),\n",
       "  ('super', tensor(0.4724, device='cuda:0', grad_fn=<SelectBackward0>)),\n",
       "  ('clear', tensor(0.4714, device='cuda:0', grad_fn=<SelectBackward0>)),\n",
       "  ('complex', tensor(0.4649, device='cuda:0', grad_fn=<SelectBackward0>)),\n",
       "  ('simple', tensor(0.4568, device='cuda:0', grad_fn=<SelectBackward0>)),\n",
       "  ('rulebook', tensor(0.4525, device='cuda:0', grad_fn=<SelectBackward0>))],\n",
       " [('thumbsup', tensor(0.5447, device='cuda:0', grad_fn=<SelectBackward0>)),\n",
       "  ('warped', tensor(0.5407, device='cuda:0', grad_fn=<SelectBackward0>)),\n",
       "  ('payout', tensor(0.5088, device='cuda:0', grad_fn=<SelectBackward0>)),\n",
       "  ('crank', tensor(0.5024, device='cuda:0', grad_fn=<SelectBackward0>)),\n",
       "  ('flimsy', tensor(0.4965, device='cuda:0', grad_fn=<SelectBackward0>)),\n",
       "  ('total', tensor(0.4960, device='cuda:0', grad_fn=<SelectBackward0>)),\n",
       "  ('cavalry', tensor(0.4953, device='cuda:0', grad_fn=<SelectBackward0>)),\n",
       "  ('overhead', tensor(0.4939, device='cuda:0', grad_fn=<SelectBackward0>)),\n",
       "  ('trump', tensor(0.4934, device='cuda:0', grad_fn=<SelectBackward0>)),\n",
       "  ('leave', tensor(0.4926, device='cuda:0', grad_fn=<SelectBackward0>)),\n",
       "  ('compensate', tensor(0.4921, device='cuda:0', grad_fn=<SelectBackward0>)),\n",
       "  ('grab', tensor(0.4921, device='cuda:0', grad_fn=<SelectBackward0>)),\n",
       "  ('huge', tensor(0.4918, device='cuda:0', grad_fn=<SelectBackward0>)),\n",
       "  ('lacking', tensor(0.4913, device='cuda:0', grad_fn=<SelectBackward0>)),\n",
       "  ('score', tensor(0.4910, device='cuda:0', grad_fn=<SelectBackward0>)),\n",
       "  ('edge', tensor(0.4906, device='cuda:0', grad_fn=<SelectBackward0>)),\n",
       "  ('swing', tensor(0.4845, device='cuda:0', grad_fn=<SelectBackward0>)),\n",
       "  ('compass', tensor(0.4836, device='cuda:0', grad_fn=<SelectBackward0>)),\n",
       "  ('scoring', tensor(0.4831, device='cuda:0', grad_fn=<SelectBackward0>)),\n",
       "  ('influence', tensor(0.4822, device='cuda:0', grad_fn=<SelectBackward0>))],\n",
       " [('resource', tensor(0.3301, device='cuda:0', grad_fn=<SelectBackward0>)),\n",
       "  ('building', tensor(0.3186, device='cuda:0', grad_fn=<SelectBackward0>)),\n",
       "  ('tile', tensor(0.3155, device='cuda:0', grad_fn=<SelectBackward0>)),\n",
       "  ('worker', tensor(0.3131, device='cuda:0', grad_fn=<SelectBackward0>)),\n",
       "  ('management', tensor(0.2864, device='cuda:0', grad_fn=<SelectBackward0>)),\n",
       "  ('dice', tensor(0.2775, device='cuda:0', grad_fn=<SelectBackward0>)),\n",
       "  ('card', tensor(0.1959, device='cuda:0', grad_fn=<SelectBackward0>)),\n",
       "  ('build', tensor(0.1958, device='cuda:0', grad_fn=<SelectBackward0>)),\n",
       "  ('hand', tensor(0.1911, device='cuda:0', grad_fn=<SelectBackward0>)),\n",
       "  ('cube', tensor(0.1910, device='cuda:0', grad_fn=<SelectBackward0>)),\n",
       "  ('drafting', tensor(0.1846, device='cuda:0', grad_fn=<SelectBackward0>)),\n",
       "  ('city', tensor(0.1784, device='cuda:0', grad_fn=<SelectBackward0>)),\n",
       "  ('builder', tensor(0.1648, device='cuda:0', grad_fn=<SelectBackward0>)),\n",
       "  ('market', tensor(0.1604, device='cuda:0', grad_fn=<SelectBackward0>)),\n",
       "  ('engine', tensor(0.1537, device='cuda:0', grad_fn=<SelectBackward0>)),\n",
       "  ('type', tensor(0.1389, device='cuda:0', grad_fn=<SelectBackward0>)),\n",
       "  ('tableau', tensor(0.1351, device='cuda:0', grad_fn=<SelectBackward0>)),\n",
       "  ('auction', tensor(0.1314, device='cuda:0', grad_fn=<SelectBackward0>)),\n",
       "  ('mechanism', tensor(0.1305, device='cuda:0', grad_fn=<SelectBackward0>)),\n",
       "  ('collection', tensor(0.1246, device='cuda:0', grad_fn=<SelectBackward0>))],\n",
       " [('weight', tensor(0.5650, device='cuda:0', grad_fn=<SelectBackward0>)),\n",
       "  ('family', tensor(0.5389, device='cuda:0', grad_fn=<SelectBackward0>)),\n",
       "  ('best', tensor(0.4864, device='cuda:0', grad_fn=<SelectBackward0>)),\n",
       "  ('min', tensor(0.4252, device='cuda:0', grad_fn=<SelectBackward0>)),\n",
       "  ('party', tensor(0.3996, device='cuda:0', grad_fn=<SelectBackward0>)),\n",
       "  ('recommend', tensor(0.3931, device='cuda:0', grad_fn=<SelectBackward0>)),\n",
       "  ('light', tensor(0.3911, device='cuda:0', grad_fn=<SelectBackward0>)),\n",
       "  ('filler', tensor(0.3876, device='cuda:0', grad_fn=<SelectBackward0>)),\n",
       "  ('gateway', tensor(0.3802, device='cuda:0', grad_fn=<SelectBackward0>)),\n",
       "  ('kid', tensor(0.3799, device='cuda:0', grad_fn=<SelectBackward0>)),\n",
       "  ('gamer', tensor(0.3768, device='cuda:0', grad_fn=<SelectBackward0>)),\n",
       "  ('medium', tensor(0.3690, device='cuda:0', grad_fn=<SelectBackward0>)),\n",
       "  ('cooperative', tensor(0.3642, device='cuda:0', grad_fn=<SelectBackward0>)),\n",
       "  ('favorite', tensor(0.3289, device='cuda:0', grad_fn=<SelectBackward0>)),\n",
       "  ('child', tensor(0.3279, device='cuda:0', grad_fn=<SelectBackward0>)),\n",
       "  ('highly', tensor(0.3260, device='cuda:0', grad_fn=<SelectBackward0>)),\n",
       "  ('casual', tensor(0.3190, device='cuda:0', grad_fn=<SelectBackward0>)),\n",
       "  ('age', tensor(0.3149, device='cuda:0', grad_fn=<SelectBackward0>)),\n",
       "  ('solo', tensor(0.3113, device='cuda:0', grad_fn=<SelectBackward0>)),\n",
       "  ('adult', tensor(0.3023, device='cuda:0', grad_fn=<SelectBackward0>))],\n",
       " [('art', tensor(0.4445, device='cuda:0', grad_fn=<SelectBackward0>)),\n",
       "  ('beautiful', tensor(0.4432, device='cuda:0', grad_fn=<SelectBackward0>)),\n",
       "  ('component', tensor(0.4394, device='cuda:0', grad_fn=<SelectBackward0>)),\n",
       "  ('artwork', tensor(0.4373, device='cuda:0', grad_fn=<SelectBackward0>)),\n",
       "  ('production', tensor(0.4348, device='cuda:0', grad_fn=<SelectBackward0>)),\n",
       "  ('design', tensor(0.4338, device='cuda:0', grad_fn=<SelectBackward0>)),\n",
       "  ('quality', tensor(0.4026, device='cuda:0', grad_fn=<SelectBackward0>)),\n",
       "  ('theme', tensor(0.3990, device='cuda:0', grad_fn=<SelectBackward0>)),\n",
       "  ('gorgeous', tensor(0.3159, device='cuda:0', grad_fn=<SelectBackward0>)),\n",
       "  ('graphic', tensor(0.3106, device='cuda:0', grad_fn=<SelectBackward0>)),\n",
       "  ('amazing', tensor(0.2915, device='cuda:0', grad_fn=<SelectBackward0>)),\n",
       "  ('excellent', tensor(0.2896, device='cuda:0', grad_fn=<SelectBackward0>)),\n",
       "  ('nice', tensor(0.2654, device='cuda:0', grad_fn=<SelectBackward0>)),\n",
       "  ('gameplay', tensor(0.2576, device='cuda:0', grad_fn=<SelectBackward0>)),\n",
       "  ('thematic', tensor(0.2478, device='cuda:0', grad_fn=<SelectBackward0>)),\n",
       "  ('miniature', tensor(0.2446, device='cuda:0', grad_fn=<SelectBackward0>)),\n",
       "  ('fantastic', tensor(0.2442, device='cuda:0', grad_fn=<SelectBackward0>)),\n",
       "  ('cool', tensor(0.2423, device='cuda:0', grad_fn=<SelectBackward0>)),\n",
       "  ('style', tensor(0.2319, device='cuda:0', grad_fn=<SelectBackward0>)),\n",
       "  ('great', tensor(0.2155, device='cuda:0', grad_fn=<SelectBackward0>))]]"
      ]
     },
     "execution_count": 49,
     "metadata": {},
     "output_type": "execute_result"
    }
   ],
   "execution_count": 49
  },
  {
   "metadata": {},
   "cell_type": "markdown",
   "source": [
    "I know that doing a  comparison on a single run is not that meaningful. <br>\n",
    "I could do k-CV to estimate the expected model loss to get a valid analysis. <br>\n",
    "But for the sake of the experiment we consider this good enough."
   ],
   "id": "b78cbae13b203c37"
  },
  {
   "metadata": {
    "ExecuteTime": {
     "end_time": "2025-03-19T17:18:27.526486Z",
     "start_time": "2025-03-19T17:18:27.414899Z"
    }
   },
   "cell_type": "code",
   "source": "aspects",
   "id": "21cec0d66498cf26",
   "outputs": [
    {
     "data": {
      "text/plain": [
       "[[('games', tensor(0.4446, device='cuda:0', grad_fn=<SelectBackward0>)),\n",
       "  ('review', tensor(0.4162, device='cuda:0', grad_fn=<SelectBackward0>)),\n",
       "  ('price', tensor(0.4087, device='cuda:0', grad_fn=<SelectBackward0>)),\n",
       "  ('box', tensor(0.4049, device='cuda:0', grad_fn=<SelectBackward0>)),\n",
       "  ('copy', tensor(0.3943, device='cuda:0', grad_fn=<SelectBackward0>)),\n",
       "  ('designer', tensor(0.3898, device='cuda:0', grad_fn=<SelectBackward0>)),\n",
       "  ('rating', tensor(0.3842, device='cuda:0', grad_fn=<SelectBackward0>)),\n",
       "  ('star', tensor(0.3789, device='cuda:0', grad_fn=<SelectBackward0>)),\n",
       "  ('year', tensor(0.3781, device='cuda:0', grad_fn=<SelectBackward0>)),\n",
       "  ('criteria', tensor(0.3780, device='cuda:0', grad_fn=<SelectBackward0>))],\n",
       " [('dynasty', tensor(0.6239, device='cuda:0', grad_fn=<SelectBackward0>)),\n",
       "  ('stale', tensor(0.6182, device='cuda:0', grad_fn=<SelectBackward0>)),\n",
       "  ('forgivable', tensor(0.6125, device='cuda:0', grad_fn=<SelectBackward0>)),\n",
       "  ('blast', tensor(0.6099, device='cuda:0', grad_fn=<SelectBackward0>)),\n",
       "  ('interest', tensor(0.6052, device='cuda:0', grad_fn=<SelectBackward0>)),\n",
       "  ('shine', tensor(0.6018, device='cuda:0', grad_fn=<SelectBackward0>)),\n",
       "  ('investigator', tensor(0.5981, device='cuda:0', grad_fn=<SelectBackward0>)),\n",
       "  ('entertainment',\n",
       "   tensor(0.5943, device='cuda:0', grad_fn=<SelectBackward0>)),\n",
       "  ('looong', tensor(0.5919, device='cuda:0', grad_fn=<SelectBackward0>)),\n",
       "  ('ready', tensor(0.5885, device='cuda:0', grad_fn=<SelectBackward0>))],\n",
       " [('feel', tensor(0.7706, device='cuda:0', grad_fn=<SelectBackward0>)),\n",
       "  ('chess', tensor(0.6464, device='cuda:0', grad_fn=<SelectBackward0>)),\n",
       "  ('similar', tensor(0.6324, device='cuda:0', grad_fn=<SelectBackward0>)),\n",
       "  ('feeling', tensor(0.6308, device='cuda:0', grad_fn=<SelectBackward0>)),\n",
       "  ('like', tensor(0.6305, device='cuda:0', grad_fn=<SelectBackward0>)),\n",
       "  ('kind', tensor(0.6128, device='cuda:0', grad_fn=<SelectBackward0>)),\n",
       "  ('think', tensor(0.6038, device='cuda:0', grad_fn=<SelectBackward0>)),\n",
       "  ('slightly', tensor(0.5909, device='cuda:0', grad_fn=<SelectBackward0>)),\n",
       "  ('sound', tensor(0.5881, device='cuda:0', grad_fn=<SelectBackward0>)),\n",
       "  ('remind', tensor(0.5832, device='cuda:0', grad_fn=<SelectBackward0>))],\n",
       " [('factor', tensor(0.6825, device='cuda:0', grad_fn=<SelectBackward0>)),\n",
       "  ('luck', tensor(0.6654, device='cuda:0', grad_fn=<SelectBackward0>)),\n",
       "  ('randomness', tensor(0.6465, device='cuda:0', grad_fn=<SelectBackward0>)),\n",
       "  ('random', tensor(0.6113, device='cuda:0', grad_fn=<SelectBackward0>)),\n",
       "  ('push', tensor(0.5761, device='cuda:0', grad_fn=<SelectBackward0>)),\n",
       "  ('dependent', tensor(0.5498, device='cuda:0', grad_fn=<SelectBackward0>)),\n",
       "  ('skill', tensor(0.5274, device='cuda:0', grad_fn=<SelectBackward0>)),\n",
       "  ('mitigate', tensor(0.5220, device='cuda:0', grad_fn=<SelectBackward0>)),\n",
       "  ('draw', tensor(0.5015, device='cuda:0', grad_fn=<SelectBackward0>)),\n",
       "  ('element', tensor(0.4949, device='cuda:0', grad_fn=<SelectBackward0>))],\n",
       " [('write', tensor(0.4330, device='cuda:0', grad_fn=<SelectBackward0>)),\n",
       "  ('love', tensor(0.4223, device='cuda:0', grad_fn=<SelectBackward0>)),\n",
       "  ('easy', tensor(0.4023, device='cuda:0', grad_fn=<SelectBackward0>)),\n",
       "  ('pick', tensor(0.3710, device='cuda:0', grad_fn=<SelectBackward0>)),\n",
       "  ('favorite', tensor(0.3636, device='cuda:0', grad_fn=<SelectBackward0>)),\n",
       "  ('basic', tensor(0.3635, device='cuda:0', grad_fn=<SelectBackward0>)),\n",
       "  ('deliver', tensor(0.3614, device='cuda:0', grad_fn=<SelectBackward0>)),\n",
       "  ('chuck', tensor(0.3506, device='cuda:0', grad_fn=<SelectBackward0>)),\n",
       "  ('old', tensor(0.3468, device='cuda:0', grad_fn=<SelectBackward0>)),\n",
       "  ('dice', tensor(0.3464, device='cuda:0', grad_fn=<SelectBackward0>))],\n",
       " [('play', tensor(0.3758, device='cuda:0', grad_fn=<SelectBackward0>)),\n",
       "  ('group', tensor(0.2582, device='cuda:0', grad_fn=<SelectBackward0>)),\n",
       "  ('people', tensor(0.2204, device='cuda:0', grad_fn=<SelectBackward0>)),\n",
       "  ('try', tensor(0.2141, device='cuda:0', grad_fn=<SelectBackward0>)),\n",
       "  ('know', tensor(0.2004, device='cuda:0', grad_fn=<SelectBackward0>)),\n",
       "  ('get', tensor(0.1971, device='cuda:0', grad_fn=<SelectBackward0>)),\n",
       "  ('friend', tensor(0.1881, device='cuda:0', grad_fn=<SelectBackward0>)),\n",
       "  ('table', tensor(0.1791, device='cuda:0', grad_fn=<SelectBackward0>)),\n",
       "  ('year', tensor(0.1656, device='cuda:0', grad_fn=<SelectBackward0>)),\n",
       "  ('finish', tensor(0.1549, device='cuda:0', grad_fn=<SelectBackward0>))],\n",
       " [('point', tensor(0.4165, device='cuda:0', grad_fn=<SelectBackward0>)),\n",
       "  ('score', tensor(0.3452, device='cuda:0', grad_fn=<SelectBackward0>)),\n",
       "  ('victory', tensor(0.3265, device='cuda:0', grad_fn=<SelectBackward0>)),\n",
       "  ('scoring', tensor(0.2867, device='cuda:0', grad_fn=<SelectBackward0>)),\n",
       "  ('condition', tensor(0.2840, device='cuda:0', grad_fn=<SelectBackward0>)),\n",
       "  ('opponent', tensor(0.2723, device='cuda:0', grad_fn=<SelectBackward0>)),\n",
       "  ('bonus', tensor(0.2700, device='cuda:0', grad_fn=<SelectBackward0>)),\n",
       "  ('end', tensor(0.2593, device='cuda:0', grad_fn=<SelectBackward0>)),\n",
       "  ('money', tensor(0.2552, device='cuda:0', grad_fn=<SelectBackward0>)),\n",
       "  ('player', tensor(0.2528, device='cuda:0', grad_fn=<SelectBackward0>))],\n",
       " [('available', tensor(0.7850, device='cuda:0', grad_fn=<SelectBackward0>)),\n",
       "  ('upgrade', tensor(0.7336, device='cuda:0', grad_fn=<SelectBackward0>)),\n",
       "  ('special', tensor(0.7324, device='cuda:0', grad_fn=<SelectBackward0>)),\n",
       "  ('extra', tensor(0.7313, device='cuda:0', grad_fn=<SelectBackward0>)),\n",
       "  ('use', tensor(0.7226, device='cuda:0', grad_fn=<SelectBackward0>)),\n",
       "  ('additional', tensor(0.7207, device='cuda:0', grad_fn=<SelectBackward0>)),\n",
       "  ('location', tensor(0.7071, device='cuda:0', grad_fn=<SelectBackward0>)),\n",
       "  ('activate', tensor(0.7062, device='cuda:0', grad_fn=<SelectBackward0>)),\n",
       "  ('power', tensor(0.7002, device='cuda:0', grad_fn=<SelectBackward0>)),\n",
       "  ('match', tensor(0.6990, device='cuda:0', grad_fn=<SelectBackward0>))],\n",
       " [('edition', tensor(0.4373, device='cuda:0', grad_fn=<SelectBackward0>)),\n",
       "  ('expansion', tensor(0.3987, device='cuda:0', grad_fn=<SelectBackward0>)),\n",
       "  ('version', tensor(0.3715, device='cuda:0', grad_fn=<SelectBackward0>)),\n",
       "  ('<game_name>', tensor(0.3277, device='cuda:0', grad_fn=<SelectBackward0>)),\n",
       "  ('x', tensor(0.3238, device='cuda:0', grad_fn=<SelectBackward0>)),\n",
       "  ('include', tensor(0.3235, device='cuda:0', grad_fn=<SelectBackward0>)),\n",
       "  ('pack', tensor(0.3131, device='cuda:0', grad_fn=<SelectBackward0>)),\n",
       "  ('sleeve', tensor(0.3100, device='cuda:0', grad_fn=<SelectBackward0>)),\n",
       "  ('promo', tensor(0.2965, device='cuda:0', grad_fn=<SelectBackward0>)),\n",
       "  ('box', tensor(0.2762, device='cuda:0', grad_fn=<SelectBackward0>))],\n",
       " [('rule', tensor(0.7395, device='cuda:0', grad_fn=<SelectBackward0>)),\n",
       "  ('explain', tensor(0.5894, device='cuda:0', grad_fn=<SelectBackward0>)),\n",
       "  ('easy', tensor(0.5816, device='cuda:0', grad_fn=<SelectBackward0>)),\n",
       "  ('quick', tensor(0.5750, device='cuda:0', grad_fn=<SelectBackward0>)),\n",
       "  ('relatively', tensor(0.5713, device='cuda:0', grad_fn=<SelectBackward0>)),\n",
       "  ('learn', tensor(0.5648, device='cuda:0', grad_fn=<SelectBackward0>)),\n",
       "  ('teach', tensor(0.5619, device='cuda:0', grad_fn=<SelectBackward0>)),\n",
       "  ('fairly', tensor(0.5553, device='cuda:0', grad_fn=<SelectBackward0>)),\n",
       "  ('fast', tensor(0.5523, device='cuda:0', grad_fn=<SelectBackward0>)),\n",
       "  ('quickly', tensor(0.5256, device='cuda:0', grad_fn=<SelectBackward0>))],\n",
       " [('thumbsup', tensor(0.5447, device='cuda:0', grad_fn=<SelectBackward0>)),\n",
       "  ('warped', tensor(0.5407, device='cuda:0', grad_fn=<SelectBackward0>)),\n",
       "  ('payout', tensor(0.5088, device='cuda:0', grad_fn=<SelectBackward0>)),\n",
       "  ('crank', tensor(0.5024, device='cuda:0', grad_fn=<SelectBackward0>)),\n",
       "  ('flimsy', tensor(0.4965, device='cuda:0', grad_fn=<SelectBackward0>)),\n",
       "  ('total', tensor(0.4960, device='cuda:0', grad_fn=<SelectBackward0>)),\n",
       "  ('cavalry', tensor(0.4953, device='cuda:0', grad_fn=<SelectBackward0>)),\n",
       "  ('overhead', tensor(0.4939, device='cuda:0', grad_fn=<SelectBackward0>)),\n",
       "  ('trump', tensor(0.4934, device='cuda:0', grad_fn=<SelectBackward0>)),\n",
       "  ('leave', tensor(0.4926, device='cuda:0', grad_fn=<SelectBackward0>))],\n",
       " [('resource', tensor(0.3301, device='cuda:0', grad_fn=<SelectBackward0>)),\n",
       "  ('building', tensor(0.3186, device='cuda:0', grad_fn=<SelectBackward0>)),\n",
       "  ('tile', tensor(0.3155, device='cuda:0', grad_fn=<SelectBackward0>)),\n",
       "  ('worker', tensor(0.3131, device='cuda:0', grad_fn=<SelectBackward0>)),\n",
       "  ('management', tensor(0.2864, device='cuda:0', grad_fn=<SelectBackward0>)),\n",
       "  ('dice', tensor(0.2775, device='cuda:0', grad_fn=<SelectBackward0>)),\n",
       "  ('card', tensor(0.1959, device='cuda:0', grad_fn=<SelectBackward0>)),\n",
       "  ('build', tensor(0.1958, device='cuda:0', grad_fn=<SelectBackward0>)),\n",
       "  ('hand', tensor(0.1911, device='cuda:0', grad_fn=<SelectBackward0>)),\n",
       "  ('cube', tensor(0.1910, device='cuda:0', grad_fn=<SelectBackward0>))],\n",
       " [('weight', tensor(0.5650, device='cuda:0', grad_fn=<SelectBackward0>)),\n",
       "  ('family', tensor(0.5389, device='cuda:0', grad_fn=<SelectBackward0>)),\n",
       "  ('best', tensor(0.4864, device='cuda:0', grad_fn=<SelectBackward0>)),\n",
       "  ('min', tensor(0.4252, device='cuda:0', grad_fn=<SelectBackward0>)),\n",
       "  ('party', tensor(0.3996, device='cuda:0', grad_fn=<SelectBackward0>)),\n",
       "  ('recommend', tensor(0.3931, device='cuda:0', grad_fn=<SelectBackward0>)),\n",
       "  ('light', tensor(0.3911, device='cuda:0', grad_fn=<SelectBackward0>)),\n",
       "  ('filler', tensor(0.3876, device='cuda:0', grad_fn=<SelectBackward0>)),\n",
       "  ('gateway', tensor(0.3802, device='cuda:0', grad_fn=<SelectBackward0>)),\n",
       "  ('kid', tensor(0.3799, device='cuda:0', grad_fn=<SelectBackward0>))],\n",
       " [('art', tensor(0.4445, device='cuda:0', grad_fn=<SelectBackward0>)),\n",
       "  ('beautiful', tensor(0.4432, device='cuda:0', grad_fn=<SelectBackward0>)),\n",
       "  ('component', tensor(0.4394, device='cuda:0', grad_fn=<SelectBackward0>)),\n",
       "  ('artwork', tensor(0.4373, device='cuda:0', grad_fn=<SelectBackward0>)),\n",
       "  ('production', tensor(0.4348, device='cuda:0', grad_fn=<SelectBackward0>)),\n",
       "  ('design', tensor(0.4338, device='cuda:0', grad_fn=<SelectBackward0>)),\n",
       "  ('quality', tensor(0.4026, device='cuda:0', grad_fn=<SelectBackward0>)),\n",
       "  ('theme', tensor(0.3990, device='cuda:0', grad_fn=<SelectBackward0>)),\n",
       "  ('gorgeous', tensor(0.3159, device='cuda:0', grad_fn=<SelectBackward0>)),\n",
       "  ('graphic', tensor(0.3106, device='cuda:0', grad_fn=<SelectBackward0>))]]"
      ]
     },
     "execution_count": 4,
     "metadata": {},
     "output_type": "execute_result"
    }
   ],
   "execution_count": 4
  },
  {
   "metadata": {},
   "cell_type": "markdown",
   "source": [
    "## NOUN only\n",
    "I expect this to utterly fail in the task as we loose sentence structure which ABAE sounds to be abusing. <br>\n",
    "Being based on word2vec embeddings this kind of pre-processing should be harmful I suppose."
   ],
   "id": "45effeec64f11cdd"
  },
  {
   "metadata": {
    "ExecuteTime": {
     "end_time": "2025-03-15T17:51:00.945403Z",
     "start_time": "2025-03-15T17:50:59.822545Z"
    }
   },
   "cell_type": "code",
   "source": [
    "from main.lda.pre_processing import extract_pos_ds\n",
    "import pandas as pd\n",
    "\n",
    "print(\"Creating the __noun filtered ds:\")\n",
    "corpus_path = \"../dataset/output/pos_tagged/pre_processed.80k.csv\"\n",
    "store_path = \"../dataset/output/pos_tagged/pre_processed.80k.noun_only.csv\"\n",
    "extract_pos_ds(pd.read_csv(corpus_path)['comments'], \"__noun\", store_path)\n",
    "print(\"ds created under: \" + store_path)\n",
    "\n",
    "print(\"Creating the __noun filtered test ds:\")\n",
    "corpus_path = \"../dataset/output/pos_tagged/pre_processed.80k.test.csv\"\n",
    "store_path = \"../dataset/output/pos_tagged/pre_processed.80k.noun_only.test.csv\"\n",
    "extract_pos_ds(pd.read_csv(corpus_path)['comments'], \"__noun\", store_path)\n",
    "print(\"ds created under: \" + store_path)"
   ],
   "id": "86ec4d3d3c01530c",
   "outputs": [
    {
     "name": "stdout",
     "output_type": "stream",
     "text": [
      "Creating the __noun filtered ds:\n"
     ]
    },
    {
     "data": {
      "text/plain": [
       "Pandas Apply:   0%|          | 0/60701 [00:00<?, ?it/s]"
      ],
      "application/vnd.jupyter.widget-view+json": {
       "version_major": 2,
       "version_minor": 0,
       "model_id": "312f6c9017ba4032a71db92b14e073f0"
      }
     },
     "metadata": {},
     "output_type": "display_data"
    },
    {
     "data": {
      "text/plain": [
       "Pandas Apply:   0%|          | 0/60701 [00:00<?, ?it/s]"
      ],
      "application/vnd.jupyter.widget-view+json": {
       "version_major": 2,
       "version_minor": 0,
       "model_id": "45de47fd5d6d4d139785baed72f11d2f"
      }
     },
     "metadata": {},
     "output_type": "display_data"
    },
    {
     "name": "stdout",
     "output_type": "stream",
     "text": [
      "ds created under: ../dataset/output/pos_tagged/pre_processed.80k.noun_only.csv\n",
      "Creating the __noun filtered test ds:\n"
     ]
    },
    {
     "data": {
      "text/plain": [
       "Pandas Apply:   0%|          | 0/20234 [00:00<?, ?it/s]"
      ],
      "application/vnd.jupyter.widget-view+json": {
       "version_major": 2,
       "version_minor": 0,
       "model_id": "830d69bd535142e88ae2ee6a303ce9ec"
      }
     },
     "metadata": {},
     "output_type": "display_data"
    },
    {
     "data": {
      "text/plain": [
       "Pandas Apply:   0%|          | 0/20234 [00:00<?, ?it/s]"
      ],
      "application/vnd.jupyter.widget-view+json": {
       "version_major": 2,
       "version_minor": 0,
       "model_id": "fdf88491887a46d9a7d70f3aa097b98c"
      }
     },
     "metadata": {},
     "output_type": "display_data"
    },
    {
     "name": "stdout",
     "output_type": "stream",
     "text": [
      "ds created under: ../dataset/output/pos_tagged/pre_processed.80k.noun_only.test.csv\n"
     ]
    }
   ],
   "execution_count": 5
  },
  {
   "metadata": {
    "ExecuteTime": {
     "end_time": "2025-03-19T16:18:09.656409Z",
     "start_time": "2025-03-19T15:53:49.723754Z"
    }
   },
   "cell_type": "code",
   "source": [
    "corpus_path = \"../dataset/output/pos_tagged/pre_processed.80k.noun_only.csv\"\n",
    "test_corpus_path = \"../dataset/output/pos_tagged/pre_processed.80k.noun_only.test.csv\"\n",
    "\n",
    "manager = ABAEManager.from_scratch(ABAEManagerConfig('noun_only'), corpus_path)\n",
    "manager.train(corpus_path, verbose=2)\n",
    "res = manager.evaluate([20, 10, 5, 3], test_corpus=test_corpus_path)"
   ],
   "id": "1122e985147b038b",
   "outputs": [
    {
     "data": {
      "text/plain": [
       "Pandas Apply:   0%|          | 0/51995 [00:00<?, ?it/s]"
      ],
      "application/vnd.jupyter.widget-view+json": {
       "version_major": 2,
       "version_minor": 0,
       "model_id": "804194b83dcf4506923521498105cc32"
      }
     },
     "metadata": {},
     "output_type": "display_data"
    },
    {
     "name": "stderr",
     "output_type": "stream",
     "text": [
      "D:\\PycharmProjects\\nlp-course-project\\.venv\\Lib\\site-packages\\gensim\\models\\keyedvectors.py:551: UserWarning: Adding single vectors to a KeyedVectors which grows by one each time can be costly. Consider adding in batches or preallocating to the required size.\n",
      "  warnings.warn(\n",
      "WARNING:gensim.models.keyedvectors:sorting after vectors have been allocated is expensive & error-prone\n"
     ]
    },
    {
     "name": "stdout",
     "output_type": "stream",
     "text": [
      "Creating new Aspect embedding model\n",
      "\n",
      "Generating numeric representation for each word of ds.\n"
     ]
    },
    {
     "data": {
      "text/plain": [
       "Pandas Apply:   0%|          | 0/51995 [00:00<?, ?it/s]"
      ],
      "application/vnd.jupyter.widget-view+json": {
       "version_major": 2,
       "version_minor": 0,
       "model_id": "90cc634711f444d79c1f13375b8fc587"
      }
     },
     "metadata": {},
     "output_type": "display_data"
    },
    {
     "name": "stdout",
     "output_type": "stream",
     "text": [
      "Max sequence length calculation in progress...\n",
      "We loose information on 191(0.3673430137513222% of ds).\n",
      "Generating a new compiled model from scratch\n",
      "Training is starting:\n",
      "Epoch 1/15\n",
      "407/407 - 101s - 249ms/step - loss: 9.0340 - max_margin_loss: 9.0234\n",
      "Epoch 2/15\n",
      "407/407 - 102s - 251ms/step - loss: 5.7994 - max_margin_loss: 5.7975\n",
      "Epoch 3/15\n",
      "407/407 - 101s - 247ms/step - loss: 5.6593 - max_margin_loss: 5.6584\n",
      "Epoch 4/15\n",
      "407/407 - 93s - 228ms/step - loss: 5.6012 - max_margin_loss: 5.6011\n",
      "Epoch 5/15\n",
      "407/407 - 96s - 235ms/step - loss: 5.5773 - max_margin_loss: 5.5765\n",
      "Epoch 6/15\n",
      "407/407 - 91s - 225ms/step - loss: 5.5658 - max_margin_loss: 5.5645\n",
      "Epoch 7/15\n",
      "407/407 - 91s - 224ms/step - loss: 5.5454 - max_margin_loss: 5.5439\n",
      "Epoch 8/15\n",
      "407/407 - 91s - 223ms/step - loss: 5.5357 - max_margin_loss: 5.5339\n",
      "Epoch 9/15\n",
      "407/407 - 93s - 228ms/step - loss: 5.5175 - max_margin_loss: 5.5152\n",
      "Epoch 10/15\n",
      "407/407 - 89s - 220ms/step - loss: 5.5071 - max_margin_loss: 5.5060\n",
      "Epoch 11/15\n",
      "407/407 - 89s - 219ms/step - loss: 5.4924 - max_margin_loss: 5.4907\n",
      "Epoch 12/15\n",
      "407/407 - 89s - 219ms/step - loss: 5.4983 - max_margin_loss: 5.4977\n",
      "Epoch 13/15\n",
      "407/407 - 89s - 219ms/step - loss: 5.4860 - max_margin_loss: 5.4841\n",
      "Epoch 14/15\n",
      "407/407 - 89s - 219ms/step - loss: 5.4828 - max_margin_loss: 5.4815\n",
      "Epoch 15/15\n",
      "407/407 - 89s - 218ms/step - loss: 5.4803 - max_margin_loss: 5.4781\n",
      "Generating numeric representation for each word of ds.\n"
     ]
    },
    {
     "data": {
      "text/plain": [
       "Pandas Apply:   0%|          | 0/17733 [00:00<?, ?it/s]"
      ],
      "application/vnd.jupyter.widget-view+json": {
       "version_major": 2,
       "version_minor": 0,
       "model_id": "6aa5cca6678742178bbdb41afcbf68ba"
      }
     },
     "metadata": {},
     "output_type": "display_data"
    },
    {
     "name": "stdout",
     "output_type": "stream",
     "text": [
      "Max sequence length calculation in progress...\n",
      "We loose information on 87(0.4906107257655219% of ds).\n",
      "\u001B[1m139/139\u001B[0m \u001B[32m━━━━━━━━━━━━━━━━━━━━\u001B[0m\u001B[37m\u001B[0m \u001B[1m15s\u001B[0m 108ms/step - loss: 5.4558 - max_margin_loss: 5.4543\n",
      "Generating numeric representation for each word of ds.\n"
     ]
    },
    {
     "data": {
      "text/plain": [
       "Pandas Apply:   0%|          | 0/17733 [00:00<?, ?it/s]"
      ],
      "application/vnd.jupyter.widget-view+json": {
       "version_major": 2,
       "version_minor": 0,
       "model_id": "4ee8bca7fa054938926c87970ca7d5ba"
      }
     },
     "metadata": {},
     "output_type": "display_data"
    },
    {
     "name": "stdout",
     "output_type": "stream",
     "text": [
      "Max sequence length calculation in progress...\n",
      "We loose information on 87(0.4906107257655219% of ds).\n",
      "\u001B[1m35/35\u001B[0m \u001B[32m━━━━━━━━━━━━━━━━━━━━\u001B[0m\u001B[37m\u001B[0m \u001B[1m0s\u001B[0m 10ms/step\n"
     ]
    },
    {
     "data": {
      "text/plain": [
       "Pandas Apply:   0%|          | 0/17733 [00:00<?, ?it/s]"
      ],
      "application/vnd.jupyter.widget-view+json": {
       "version_major": 2,
       "version_minor": 0,
       "model_id": "2872dd6d5b5e4b038bac7216e887e0d8"
      }
     },
     "metadata": {},
     "output_type": "display_data"
    },
    {
     "data": {
      "text/plain": [
       "Pandas Apply:   0%|          | 0/17733 [00:00<?, ?it/s]"
      ],
      "application/vnd.jupyter.widget-view+json": {
       "version_major": 2,
       "version_minor": 0,
       "model_id": "9f270b78c8fd4454b922819a99471a00"
      }
     },
     "metadata": {},
     "output_type": "display_data"
    },
    {
     "data": {
      "text/plain": [
       "Pandas Apply:   0%|          | 0/17733 [00:00<?, ?it/s]"
      ],
      "application/vnd.jupyter.widget-view+json": {
       "version_major": 2,
       "version_minor": 0,
       "model_id": "60b5f10e5b284536b838d5ffbd5032af"
      }
     },
     "metadata": {},
     "output_type": "display_data"
    },
    {
     "data": {
      "text/plain": [
       "Pandas Apply:   0%|          | 0/17733 [00:00<?, ?it/s]"
      ],
      "application/vnd.jupyter.widget-view+json": {
       "version_major": 2,
       "version_minor": 0,
       "model_id": "ee0fefdb37174c189aa081f34733302b"
      }
     },
     "metadata": {},
     "output_type": "display_data"
    }
   ],
   "execution_count": 5
  },
  {
   "metadata": {
    "ExecuteTime": {
     "end_time": "2025-03-19T16:18:09.674131Z",
     "start_time": "2025-03-19T16:18:09.669685Z"
    }
   },
   "cell_type": "code",
   "source": "pprint(res)",
   "id": "99ce52abc48b5f2b",
   "outputs": [
    {
     "name": "stdout",
     "output_type": "stream",
     "text": [
      "{'coherence': [-8.948873045807769,\n",
      "               -7.445881505510981,\n",
      "               -6.305143535846072,\n",
      "               -5.799752060521229],\n",
      " 'loss': [5.478001117706299, 5.478464126586914],\n",
      " 'silhouette_score': 0.1511905938386917,\n",
      " 'top': [20, 10, 5, 3]}\n"
     ]
    }
   ],
   "execution_count": 6
  },
  {
   "metadata": {},
   "cell_type": "markdown",
   "source": "For the future work and as one by the proposed ABAE paper we won't be splitting up reviews in sentences but use the full review as the model does not increase much in performance if not done like this.",
   "id": "5b4c80db434e5d1"
  },
  {
   "metadata": {},
   "cell_type": "markdown",
   "source": "## Hyperparameters tuning results",
   "id": "d6cadc1254bf9f0d"
  },
  {
   "metadata": {
    "ExecuteTime": {
     "end_time": "2025-03-20T16:56:45.875512Z",
     "start_time": "2025-03-20T16:56:45.860471Z"
    }
   },
   "cell_type": "code",
   "source": [
    "import json\n",
    "import pandas as pd\n",
    "\n",
    "file_path = \"./output/config/abae_configurations_results.json\"\n",
    "configs = [\n",
    "    pd.DataFrame(json.load(open(file_path))).at[11, 'config'],\n",
    "    pd.DataFrame(json.load(open(file_path))).at[20, 'config'],\n",
    "    # These two perform worse but have a lower variance which might result in a more robust solution\n",
    "    pd.DataFrame(json.load(open(file_path))).at[14, 'config'],\n",
    "    pd.DataFrame(json.load(open(file_path))).at[15, 'config'],\n",
    "]\n",
    "\n",
    "runs = [\n",
    "    dict(config=ABAEManagerConfig.from_configuration(f\"final_full_{i}\", configs[i]), results=[], model=None)\n",
    "    for i in range(len(configs))\n",
    "]"
   ],
   "id": "aeccf89df8948f94",
   "outputs": [],
   "execution_count": 12
  },
  {
   "metadata": {},
   "cell_type": "markdown",
   "source": "Run on configs",
   "id": "cb2dc40b0e17a261"
  },
  {
   "metadata": {
    "ExecuteTime": {
     "end_time": "2025-03-20T16:56:51.971560Z",
     "start_time": "2025-03-20T16:56:51.968542Z"
    }
   },
   "cell_type": "code",
   "source": [
    "corpus = \"../dataset/output/default/pre_processed.310k.csv\"\n",
    "test_corpus_path = \"../dataset/output/default/pre_processed.310k.test.csv\""
   ],
   "id": "b8a7d5729b1ba56d",
   "outputs": [],
   "execution_count": 13
  },
  {
   "metadata": {},
   "cell_type": "code",
   "source": [
    "for run in runs:\n",
    "    manager = ABAEManager.from_scratch(run['config'], corpus, override=True)\n",
    "    manager.train(corpus, verbose=2)\n",
    "    run['results'] = manager.evaluate([20, 10, 5, 3], test_corpus=test_corpus_path)\n",
    "    run['model'] = manager.get_compiled_model(load_existing=True)\n",
    "\n",
    "    # Still print the results in output.\n",
    "    pprint(run['results'])"
   ],
   "id": "38d3ddb5d7c59886",
   "outputs": [],
   "execution_count": null
  },
  {
   "metadata": {
    "ExecuteTime": {
     "end_time": "2025-03-20T21:13:05.729793Z",
     "start_time": "2025-03-20T21:13:05.725329Z"
    }
   },
   "cell_type": "code",
   "source": [
    "[run['results'] for run in\n",
    " runs]  # The second configuration yielded the overall best model. The first one seems to be overfitting"
   ],
   "id": "625b297dc615b74a",
   "outputs": [
    {
     "data": {
      "text/plain": [
       "[{'coherence': [-12.85030957360423,\n",
       "   -11.720057513868097,\n",
       "   -11.361470141436131,\n",
       "   -11.536755467282116],\n",
       "  'top': [20, 10, 5, 3],\n",
       "  'loss': [3.9788215160369873, 3.977562665939331],\n",
       "  'silhouette_score': 0.00810018740594387},\n",
       " {'coherence': [-12.968785972106792,\n",
       "   -11.427717010393682,\n",
       "   -11.386505234330448,\n",
       "   -10.055480345568363],\n",
       "  'top': [20, 10, 5, 3],\n",
       "  'loss': [4.198480129241943, 4.197236061096191],\n",
       "  'silhouette_score': 0.04261905327439308},\n",
       " {'coherence': [-13.761206825132213,\n",
       "   -14.066563112308721,\n",
       "   -13.169986067132188,\n",
       "   -14.055746424933238],\n",
       "  'top': [20, 10, 5, 3],\n",
       "  'loss': [5.173580169677734, 5.172301769256592],\n",
       "  'silhouette_score': 0.05377541854977608},\n",
       " {'coherence': [-14.414729002014086,\n",
       "   -13.55967317937999,\n",
       "   -11.93764523613414,\n",
       "   -10.512464698706138],\n",
       "  'top': [20, 10, 5, 3],\n",
       "  'loss': [4.7525739669799805, 4.751503944396973],\n",
       "  'silhouette_score': -0.03403297811746597}]"
      ]
     },
     "execution_count": 17,
     "metadata": {},
     "output_type": "execute_result"
    }
   ],
   "execution_count": 17
  },
  {
   "metadata": {
    "ExecuteTime": {
     "end_time": "2025-03-20T21:59:09.284098Z",
     "start_time": "2025-03-20T21:59:07.526807Z"
    }
   },
   "cell_type": "code",
   "source": [
    "best_run = runs[1]\n",
    "manager = ABAEManager.from_scratch(best_run['config'], corpus)\n",
    "manager.get_compiled_model(load_existing=True)\n",
    "ev_processor = manager.make_ev_processor(test_corpus_path)\n",
    "aspects = ev_processor.get_aspects(20)"
   ],
   "id": "cc7e2c68269483e",
   "outputs": [
    {
     "data": {
      "text/plain": [
       "Pandas Apply:   0%|          | 0/233384 [00:00<?, ?it/s]"
      ],
      "application/vnd.jupyter.widget-view+json": {
       "version_major": 2,
       "version_minor": 0,
       "model_id": "4d8daa037aa14fe086daab3cc66b7007"
      }
     },
     "metadata": {},
     "output_type": "display_data"
    },
    {
     "name": "stdout",
     "output_type": "stream",
     "text": [
      "Loading the existing found model as requested in path ./output/final_full_1/final_full_1.aspect_embeddings.model\n",
      "Generating a new compiled model from fs\n"
     ]
    }
   ],
   "execution_count": 23
  },
  {
   "metadata": {
    "ExecuteTime": {
     "end_time": "2025-03-20T21:59:14.566951Z",
     "start_time": "2025-03-20T21:59:14.282886Z"
    }
   },
   "cell_type": "code",
   "source": "aspects",
   "id": "36ed408162651515",
   "outputs": [
    {
     "data": {
      "text/plain": [
       "[[('daughter', tensor(0.6013, device='cuda:0', grad_fn=<SelectBackward0>)),\n",
       "  ('friend', tensor(0.5799, device='cuda:0', grad_fn=<SelectBackward0>)),\n",
       "  ('son', tensor(0.5796, device='cuda:0', grad_fn=<SelectBackward0>)),\n",
       "  ('mom', tensor(0.5775, device='cuda:0', grad_fn=<SelectBackward0>)),\n",
       "  ('request', tensor(0.5766, device='cuda:0', grad_fn=<SelectBackward0>)),\n",
       "  ('month', tensor(0.5754, device='cuda:0', grad_fn=<SelectBackward0>)),\n",
       "  ('weekend', tensor(0.5648, device='cuda:0', grad_fn=<SelectBackward0>)),\n",
       "  ('dad', tensor(0.5610, device='cuda:0', grad_fn=<SelectBackward0>)),\n",
       "  ('week', tensor(0.5514, device='cuda:0', grad_fn=<SelectBackward0>)),\n",
       "  ('anymore', tensor(0.5486, device='cuda:0', grad_fn=<SelectBackward0>)),\n",
       "  ('happily', tensor(0.5486, device='cuda:0', grad_fn=<SelectBackward0>)),\n",
       "  ('regularly', tensor(0.5450, device='cuda:0', grad_fn=<SelectBackward0>)),\n",
       "  ('husband', tensor(0.5362, device='cuda:0', grad_fn=<SelectBackward0>)),\n",
       "  ('niece', tensor(0.5326, device='cuda:0', grad_fn=<SelectBackward0>)),\n",
       "  ('year', tensor(0.5306, device='cuda:0', grad_fn=<SelectBackward0>)),\n",
       "  ('wanna', tensor(0.5303, device='cuda:0', grad_fn=<SelectBackward0>)),\n",
       "  ('join', tensor(0.5283, device='cuda:0', grad_fn=<SelectBackward0>)),\n",
       "  ('recently', tensor(0.5188, device='cuda:0', grad_fn=<SelectBackward0>)),\n",
       "  ('wife', tensor(0.5089, device='cuda:0', grad_fn=<SelectBackward0>)),\n",
       "  ('regret', tensor(0.5086, device='cuda:0', grad_fn=<SelectBackward0>))],\n",
       " [('july', tensor(0.6579, device='cuda:0', grad_fn=<SelectBackward0>)),\n",
       "  ('mike', tensor(0.6494, device='cuda:0', grad_fn=<SelectBackward0>)),\n",
       "  ('february', tensor(0.6430, device='cuda:0', grad_fn=<SelectBackward0>)),\n",
       "  ('oct', tensor(0.6413, device='cuda:0', grad_fn=<SelectBackward0>)),\n",
       "  ('nov', tensor(0.6401, device='cuda:0', grad_fn=<SelectBackward0>)),\n",
       "  ('sold', tensor(0.6400, device='cuda:0', grad_fn=<SelectBackward0>)),\n",
       "  ('june', tensor(0.6398, device='cuda:0', grad_fn=<SelectBackward0>)),\n",
       "  ('april', tensor(0.6345, device='cuda:0', grad_fn=<SelectBackward0>)),\n",
       "  ('sept', tensor(0.6341, device='cuda:0', grad_fn=<SelectBackward0>)),\n",
       "  ('august', tensor(0.6318, device='cuda:0', grad_fn=<SelectBackward0>)),\n",
       "  ('ebay', tensor(0.6309, device='cuda:0', grad_fn=<SelectBackward0>)),\n",
       "  ('feb', tensor(0.6262, device='cuda:0', grad_fn=<SelectBackward0>)),\n",
       "  ('november', tensor(0.6230, device='cuda:0', grad_fn=<SelectBackward0>)),\n",
       "  ('aug', tensor(0.6216, device='cuda:0', grad_fn=<SelectBackward0>)),\n",
       "  ('l', tensor(0.6149, device='cuda:0', grad_fn=<SelectBackward0>)),\n",
       "  ('january', tensor(0.6136, device='cuda:0', grad_fn=<SelectBackward0>)),\n",
       "  ('uk', tensor(0.6132, device='cuda:0', grad_fn=<SelectBackward0>)),\n",
       "  ('preordere', tensor(0.6109, device='cuda:0', grad_fn=<SelectBackward0>)),\n",
       "  ('retailer', tensor(0.6083, device='cuda:0', grad_fn=<SelectBackward0>)),\n",
       "  ('amazon', tensor(0.6011, device='cuda:0', grad_fn=<SelectBackward0>))],\n",
       " [('drinking', tensor(0.6053, device='cuda:0', grad_fn=<SelectBackward0>)),\n",
       "  ('trivia', tensor(0.6018, device='cuda:0', grad_fn=<SelectBackward0>)),\n",
       "  ('party', tensor(0.5530, device='cuda:0', grad_fn=<SelectBackward0>)),\n",
       "  ('drunk', tensor(0.5325, device='cuda:0', grad_fn=<SelectBackward0>)),\n",
       "  ('palate', tensor(0.5285, device='cuda:0', grad_fn=<SelectBackward0>)),\n",
       "  ('beer', tensor(0.5150, device='cuda:0', grad_fn=<SelectBackward0>)),\n",
       "  ('deception', tensor(0.5108, device='cuda:0', grad_fn=<SelectBackward0>)),\n",
       "  ('buddy', tensor(0.5103, device='cuda:0', grad_fn=<SelectBackward0>)),\n",
       "  ('spouse', tensor(0.5084, device='cuda:0', grad_fn=<SelectBackward0>)),\n",
       "  ('raucous', tensor(0.5071, device='cuda:0', grad_fn=<SelectBackward0>)),\n",
       "  ('cleanser', tensor(0.5058, device='cuda:0', grad_fn=<SelectBackward0>)),\n",
       "  ('warm', tensor(0.5054, device='cuda:0', grad_fn=<SelectBackward0>)),\n",
       "  ('parent', tensor(0.5049, device='cuda:0', grad_fn=<SelectBackward0>)),\n",
       "  ('club', tensor(0.4996, device='cuda:0', grad_fn=<SelectBackward0>)),\n",
       "  ('crowd', tensor(0.4990, device='cuda:0', grad_fn=<SelectBackward0>)),\n",
       "  ('silliness', tensor(0.4981, device='cuda:0', grad_fn=<SelectBackward0>)),\n",
       "  ('friese', tensor(0.4921, device='cuda:0', grad_fn=<SelectBackward0>)),\n",
       "  ('girlfriend', tensor(0.4915, device='cuda:0', grad_fn=<SelectBackward0>)),\n",
       "  ('kids', tensor(0.4880, device='cuda:0', grad_fn=<SelectBackward0>)),\n",
       "  ('drink', tensor(0.4851, device='cuda:0', grad_fn=<SelectBackward0>))],\n",
       " [('sequel', tensor(0.7444, device='cuda:0', grad_fn=<SelectBackward0>)),\n",
       "  ('iteration', tensor(0.7227, device='cuda:0', grad_fn=<SelectBackward0>)),\n",
       "  ('imperium', tensor(0.6948, device='cuda:0', grad_fn=<SelectBackward0>)),\n",
       "  ('successor', tensor(0.6804, device='cuda:0', grad_fn=<SelectBackward0>)),\n",
       "  ('reimplementation',\n",
       "   tensor(0.6739, device='cuda:0', grad_fn=<SelectBackward0>)),\n",
       "  ('evolution', tensor(0.6226, device='cuda:0', grad_fn=<SelectBackward0>)),\n",
       "  ('remake', tensor(0.6039, device='cuda:0', grad_fn=<SelectBackward0>)),\n",
       "  ('og', tensor(0.5992, device='cuda:0', grad_fn=<SelectBackward0>)),\n",
       "  ('battlelore', tensor(0.5919, device='cuda:0', grad_fn=<SelectBackward0>)),\n",
       "  ('trilogy', tensor(0.5778, device='cuda:0', grad_fn=<SelectBackward0>)),\n",
       "  ('spiritual', tensor(0.5722, device='cuda:0', grad_fn=<SelectBackward0>)),\n",
       "  ('argentina', tensor(0.5713, device='cuda:0', grad_fn=<SelectBackward0>)),\n",
       "  ('vastly', tensor(0.5685, device='cuda:0', grad_fn=<SelectBackward0>)),\n",
       "  ('standalone', tensor(0.5630, device='cuda:0', grad_fn=<SelectBackward0>)),\n",
       "  ('predecessor', tensor(0.5587, device='cuda:0', grad_fn=<SelectBackward0>)),\n",
       "  ('hannibal', tensor(0.5568, device='cuda:0', grad_fn=<SelectBackward0>)),\n",
       "  ('reskin', tensor(0.5548, device='cuda:0', grad_fn=<SelectBackward0>)),\n",
       "  ('neuroshima', tensor(0.5538, device='cuda:0', grad_fn=<SelectBackward0>)),\n",
       "  ('formula', tensor(0.5537, device='cuda:0', grad_fn=<SelectBackward0>)),\n",
       "  ('memoir', tensor(0.5506, device='cuda:0', grad_fn=<SelectBackward0>))],\n",
       " [('packaging', tensor(0.7969, device='cuda:0', grad_fn=<SelectBackward0>)),\n",
       "  ('sturdy', tensor(0.7592, device='cuda:0', grad_fn=<SelectBackward0>)),\n",
       "  ('cardstock', tensor(0.7442, device='cuda:0', grad_fn=<SelectBackward0>)),\n",
       "  ('plastic', tensor(0.7255, device='cuda:0', grad_fn=<SelectBackward0>)),\n",
       "  ('inlay', tensor(0.7232, device='cuda:0', grad_fn=<SelectBackward0>)),\n",
       "  ('cardboard', tensor(0.6974, device='cuda:0', grad_fn=<SelectBackward0>)),\n",
       "  ('figurine', tensor(0.6960, device='cuda:0', grad_fn=<SelectBackward0>)),\n",
       "  ('insert', tensor(0.6918, device='cuda:0', grad_fn=<SelectBackward0>)),\n",
       "  ('thick', tensor(0.6829, device='cuda:0', grad_fn=<SelectBackward0>)),\n",
       "  ('minis', tensor(0.6821, device='cuda:0', grad_fn=<SelectBackward0>)),\n",
       "  ('tin', tensor(0.6811, device='cuda:0', grad_fn=<SelectBackward0>)),\n",
       "  ('standee', tensor(0.6792, device='cuda:0', grad_fn=<SelectBackward0>)),\n",
       "  ('components', tensor(0.6753, device='cuda:0', grad_fn=<SelectBackward0>)),\n",
       "  ('flimsy', tensor(0.6544, device='cuda:0', grad_fn=<SelectBackward0>)),\n",
       "  ('tray', tensor(0.6540, device='cuda:0', grad_fn=<SelectBackward0>)),\n",
       "  ('gametrayz', tensor(0.6540, device='cuda:0', grad_fn=<SelectBackward0>)),\n",
       "  ('chunky', tensor(0.6518, device='cuda:0', grad_fn=<SelectBackward0>)),\n",
       "  ('functional', tensor(0.6459, device='cuda:0', grad_fn=<SelectBackward0>)),\n",
       "  ('material', tensor(0.6439, device='cuda:0', grad_fn=<SelectBackward0>)),\n",
       "  ('bent', tensor(0.6417, device='cuda:0', grad_fn=<SelectBackward0>))],\n",
       " [('pointless', tensor(0.6385, device='cuda:0', grad_fn=<SelectBackward0>)),\n",
       "  ('ultimately', tensor(0.5869, device='cuda:0', grad_fn=<SelectBackward0>)),\n",
       "  ('uninteresting',\n",
       "   tensor(0.5611, device='cuda:0', grad_fn=<SelectBackward0>)),\n",
       "  ('swingy', tensor(0.5545, device='cuda:0', grad_fn=<SelectBackward0>)),\n",
       "  ('unsatisfying', tensor(0.5442, device='cuda:0', grad_fn=<SelectBackward0>)),\n",
       "  ('arbitrary', tensor(0.5429, device='cuda:0', grad_fn=<SelectBackward0>)),\n",
       "  ('tedious', tensor(0.5407, device='cuda:0', grad_fn=<SelectBackward0>)),\n",
       "  ('bit', tensor(0.5220, device='cuda:0', grad_fn=<SelectBackward0>)),\n",
       "  ('think', tensor(0.5213, device='cuda:0', grad_fn=<SelectBackward0>)),\n",
       "  ('unfortunately',\n",
       "   tensor(0.5152, device='cuda:0', grad_fn=<SelectBackward0>)),\n",
       "  ('kinda', tensor(0.5152, device='cuda:0', grad_fn=<SelectBackward0>)),\n",
       "  ('terribly', tensor(0.5131, device='cuda:0', grad_fn=<SelectBackward0>)),\n",
       "  ('predictable', tensor(0.5107, device='cuda:0', grad_fn=<SelectBackward0>)),\n",
       "  ('boring', tensor(0.5101, device='cuda:0', grad_fn=<SelectBackward0>)),\n",
       "  ('chaotic', tensor(0.5072, device='cuda:0', grad_fn=<SelectBackward0>)),\n",
       "  ('clunky', tensor(0.5049, device='cuda:0', grad_fn=<SelectBackward0>)),\n",
       "  ('bother', tensor(0.5030, device='cuda:0', grad_fn=<SelectBackward0>)),\n",
       "  ('feel', tensor(0.5020, device='cuda:0', grad_fn=<SelectBackward0>)),\n",
       "  ('mechanical', tensor(0.5016, device='cuda:0', grad_fn=<SelectBackward0>)),\n",
       "  ('meh', tensor(0.5010, device='cuda:0', grad_fn=<SelectBackward0>))],\n",
       " [('player', tensor(0.7563, device='cuda:0', grad_fn=<SelectBackward0>)),\n",
       "  ('minimum', tensor(0.5377, device='cuda:0', grad_fn=<SelectBackward0>)),\n",
       "  ('maximum', tensor(0.5197, device='cuda:0', grad_fn=<SelectBackward0>)),\n",
       "  ('teammate', tensor(0.4875, device='cuda:0', grad_fn=<SelectBackward0>)),\n",
       "  ('syndrome', tensor(0.4858, device='cuda:0', grad_fn=<SelectBackward0>)),\n",
       "  ('vote', tensor(0.4809, device='cuda:0', grad_fn=<SelectBackward0>)),\n",
       "  ('active', tensor(0.4698, device='cuda:0', grad_fn=<SelectBackward0>)),\n",
       "  ('person', tensor(0.4615, device='cuda:0', grad_fn=<SelectBackward0>)),\n",
       "  ('collaborate', tensor(0.4549, device='cuda:0', grad_fn=<SelectBackward0>)),\n",
       "  ('skilled', tensor(0.4435, device='cuda:0', grad_fn=<SelectBackward0>)),\n",
       "  ('eliminate', tensor(0.4353, device='cuda:0', grad_fn=<SelectBackward0>)),\n",
       "  ('competition', tensor(0.4349, device='cuda:0', grad_fn=<SelectBackward0>)),\n",
       "  ('secretly', tensor(0.4343, device='cuda:0', grad_fn=<SelectBackward0>)),\n",
       "  ('max', tensor(0.4334, device='cuda:0', grad_fn=<SelectBackward0>)),\n",
       "  ('directly', tensor(0.4318, device='cuda:0', grad_fn=<SelectBackward0>)),\n",
       "  ('few', tensor(0.4269, device='cuda:0', grad_fn=<SelectBackward0>)),\n",
       "  ('performance', tensor(0.4240, device='cuda:0', grad_fn=<SelectBackward0>)),\n",
       "  ('passive', tensor(0.4239, device='cuda:0', grad_fn=<SelectBackward0>)),\n",
       "  ('position', tensor(0.4170, device='cuda:0', grad_fn=<SelectBackward0>)),\n",
       "  ('team', tensor(0.4161, device='cuda:0', grad_fn=<SelectBackward0>))],\n",
       " [('card', tensor(0.8615, device='cuda:0', grad_fn=<SelectBackward0>)),\n",
       "  ('display', tensor(0.7273, device='cuda:0', grad_fn=<SelectBackward0>)),\n",
       "  ('discard', tensor(0.7123, device='cuda:0', grad_fn=<SelectBackward0>)),\n",
       "  ('pile', tensor(0.6130, device='cuda:0', grad_fn=<SelectBackward0>)),\n",
       "  ('pair', tensor(0.6089, device='cuda:0', grad_fn=<SelectBackward0>)),\n",
       "  ('randomly', tensor(0.5692, device='cuda:0', grad_fn=<SelectBackward0>)),\n",
       "  ('duplicate', tensor(0.5472, device='cuda:0', grad_fn=<SelectBackward0>)),\n",
       "  ('cards', tensor(0.5369, device='cuda:0', grad_fn=<SelectBackward0>)),\n",
       "  ('suit', tensor(0.5369, device='cuda:0', grad_fn=<SelectBackward0>)),\n",
       "  ('useful', tensor(0.5348, device='cuda:0', grad_fn=<SelectBackward0>)),\n",
       "  ('joker', tensor(0.5338, device='cuda:0', grad_fn=<SelectBackward0>)),\n",
       "  ('effect', tensor(0.5291, device='cuda:0', grad_fn=<SelectBackward0>)),\n",
       "  ('select', tensor(0.5256, device='cuda:0', grad_fn=<SelectBackward0>)),\n",
       "  ('column', tensor(0.5243, device='cuda:0', grad_fn=<SelectBackward0>)),\n",
       "  ('pool', tensor(0.5159, device='cuda:0', grad_fn=<SelectBackward0>)),\n",
       "  ('guild', tensor(0.5112, device='cuda:0', grad_fn=<SelectBackward0>)),\n",
       "  ('trait', tensor(0.5059, device='cuda:0', grad_fn=<SelectBackward0>)),\n",
       "  ('hand', tensor(0.5048, device='cuda:0', grad_fn=<SelectBackward0>)),\n",
       "  ('fate', tensor(0.4982, device='cuda:0', grad_fn=<SelectBackward0>)),\n",
       "  ('trump', tensor(0.4981, device='cuda:0', grad_fn=<SelectBackward0>))],\n",
       " [('lightweight', tensor(0.5997, device='cuda:0', grad_fn=<SelectBackward0>)),\n",
       "  ('filler', tensor(0.5657, device='cuda:0', grad_fn=<SelectBackward0>)),\n",
       "  ('suitable', tensor(0.5616, device='cuda:0', grad_fn=<SelectBackward0>)),\n",
       "  ('quick', tensor(0.5562, device='cuda:0', grad_fn=<SelectBackward0>)),\n",
       "  ('thinky', tensor(0.5339, device='cuda:0', grad_fn=<SelectBackward0>)),\n",
       "  ('breezy', tensor(0.5324, device='cuda:0', grad_fn=<SelectBackward0>)),\n",
       "  ('family', tensor(0.5172, device='cuda:0', grad_fn=<SelectBackward0>)),\n",
       "  ('portable', tensor(0.5130, device='cuda:0', grad_fn=<SelectBackward0>)),\n",
       "  ('cute', tensor(0.5110, device='cuda:0', grad_fn=<SelectBackward0>)),\n",
       "  ('relax', tensor(0.5052, device='cuda:0', grad_fn=<SelectBackward0>)),\n",
       "  ('addictive', tensor(0.4992, device='cuda:0', grad_fn=<SelectBackward0>)),\n",
       "  ('accessible', tensor(0.4947, device='cuda:0', grad_fn=<SelectBackward0>)),\n",
       "  ('light', tensor(0.4935, device='cuda:0', grad_fn=<SelectBackward0>)),\n",
       "  ('stacking', tensor(0.4870, device='cuda:0', grad_fn=<SelectBackward0>)),\n",
       "  ('casual', tensor(0.4821, device='cuda:0', grad_fn=<SelectBackward0>)),\n",
       "  ('adult', tensor(0.4814, device='cuda:0', grad_fn=<SelectBackward0>)),\n",
       "  ('simple', tensor(0.4804, device='cuda:0', grad_fn=<SelectBackward0>)),\n",
       "  ('relaxing', tensor(0.4770, device='cuda:0', grad_fn=<SelectBackward0>)),\n",
       "  ('paced', tensor(0.4726, device='cuda:0', grad_fn=<SelectBackward0>)),\n",
       "  ('gateway', tensor(0.4698, device='cuda:0', grad_fn=<SelectBackward0>))],\n",
       " [('theme', tensor(0.7082, device='cuda:0', grad_fn=<SelectBackward0>)),\n",
       "  ('theming', tensor(0.6205, device='cuda:0', grad_fn=<SelectBackward0>)),\n",
       "  ('themeless', tensor(0.5744, device='cuda:0', grad_fn=<SelectBackward0>)),\n",
       "  ('aesthetic', tensor(0.5590, device='cuda:0', grad_fn=<SelectBackward0>)),\n",
       "  ('themed', tensor(0.5526, device='cuda:0', grad_fn=<SelectBackward0>)),\n",
       "  ('mechanics', tensor(0.5332, device='cuda:0', grad_fn=<SelectBackward0>)),\n",
       "  ('presentation', tensor(0.5264, device='cuda:0', grad_fn=<SelectBackward0>)),\n",
       "  ('thematically', tensor(0.5102, device='cuda:0', grad_fn=<SelectBackward0>)),\n",
       "  ('thematic', tensor(0.5085, device='cuda:0', grad_fn=<SelectBackward0>)),\n",
       "  ('illustration', tensor(0.4960, device='cuda:0', grad_fn=<SelectBackward0>)),\n",
       "  ('evocative', tensor(0.4951, device='cuda:0', grad_fn=<SelectBackward0>)),\n",
       "  ('laukat', tensor(0.4919, device='cuda:0', grad_fn=<SelectBackward0>)),\n",
       "  ('blend', tensor(0.4845, device='cuda:0', grad_fn=<SelectBackward0>)),\n",
       "  ('quirky', tensor(0.4765, device='cuda:0', grad_fn=<SelectBackward0>)),\n",
       "  ('aesthetically',\n",
       "   tensor(0.4711, device='cuda:0', grad_fn=<SelectBackward0>)),\n",
       "  ('spectacular', tensor(0.4694, device='cuda:0', grad_fn=<SelectBackward0>)),\n",
       "  ('eurogame', tensor(0.4584, device='cuda:0', grad_fn=<SelectBackward0>)),\n",
       "  ('whimsical', tensor(0.4536, device='cuda:0', grad_fn=<SelectBackward0>)),\n",
       "  ('charming', tensor(0.4528, device='cuda:0', grad_fn=<SelectBackward0>)),\n",
       "  ('wallace', tensor(0.4507, device='cuda:0', grad_fn=<SelectBackward0>))],\n",
       " [('attrition', tensor(0.6882, device='cuda:0', grad_fn=<SelectBackward0>)),\n",
       "  ('wage', tensor(0.6835, device='cuda:0', grad_fn=<SelectBackward0>)),\n",
       "  ('soviet', tensor(0.6581, device='cuda:0', grad_fn=<SelectBackward0>)),\n",
       "  ('leadership', tensor(0.6385, device='cuda:0', grad_fn=<SelectBackward0>)),\n",
       "  ('battlefield', tensor(0.6253, device='cuda:0', grad_fn=<SelectBackward0>)),\n",
       "  ('religious', tensor(0.6250, device='cuda:0', grad_fn=<SelectBackward0>)),\n",
       "  ('depict', tensor(0.6236, device='cuda:0', grad_fn=<SelectBackward0>)),\n",
       "  ('offensive', tensor(0.6228, device='cuda:0', grad_fn=<SelectBackward0>)),\n",
       "  ('attacker', tensor(0.6169, device='cuda:0', grad_fn=<SelectBackward0>)),\n",
       "  ('artillery', tensor(0.6125, device='cuda:0', grad_fn=<SelectBackward0>)),\n",
       "  ('landing', tensor(0.5989, device='cuda:0', grad_fn=<SelectBackward0>)),\n",
       "  ('maneuver', tensor(0.5946, device='cuda:0', grad_fn=<SelectBackward0>)),\n",
       "  ('measure', tensor(0.5926, device='cuda:0', grad_fn=<SelectBackward0>)),\n",
       "  ('civil', tensor(0.5914, device='cuda:0', grad_fn=<SelectBackward0>)),\n",
       "  ('invade', tensor(0.5846, device='cuda:0', grad_fn=<SelectBackward0>)),\n",
       "  ('retreat', tensor(0.5839, device='cuda:0', grad_fn=<SelectBackward0>)),\n",
       "  ('british', tensor(0.5827, device='cuda:0', grad_fn=<SelectBackward0>)),\n",
       "  ('germans', tensor(0.5806, device='cuda:0', grad_fn=<SelectBackward0>)),\n",
       "  ('seize', tensor(0.5802, device='cuda:0', grad_fn=<SelectBackward0>)),\n",
       "  ('britain', tensor(0.5780, device='cuda:0', grad_fn=<SelectBackward0>))],\n",
       " [('harvest', tensor(0.6823, device='cuda:0', grad_fn=<SelectBackward0>)),\n",
       "  ('mining', tensor(0.6571, device='cuda:0', grad_fn=<SelectBackward0>)),\n",
       "  ('farm', tensor(0.6516, device='cuda:0', grad_fn=<SelectBackward0>)),\n",
       "  ('crop', tensor(0.6363, device='cuda:0', grad_fn=<SelectBackward0>)),\n",
       "  ('coal', tensor(0.6249, device='cuda:0', grad_fn=<SelectBackward0>)),\n",
       "  ('craftsman', tensor(0.6222, device='cuda:0', grad_fn=<SelectBackward0>)),\n",
       "  ('farmer', tensor(0.6170, device='cuda:0', grad_fn=<SelectBackward0>)),\n",
       "  ('ranch', tensor(0.6107, device='cuda:0', grad_fn=<SelectBackward0>)),\n",
       "  ('ant', tensor(0.6105, device='cuda:0', grad_fn=<SelectBackward0>)),\n",
       "  ('plantation', tensor(0.6084, device='cuda:0', grad_fn=<SelectBackward0>)),\n",
       "  ('hut', tensor(0.5970, device='cuda:0', grad_fn=<SelectBackward0>)),\n",
       "  ('factory', tensor(0.5951, device='cuda:0', grad_fn=<SelectBackward0>)),\n",
       "  ('statue', tensor(0.5818, device='cuda:0', grad_fn=<SelectBackward0>)),\n",
       "  ('commodity', tensor(0.5773, device='cuda:0', grad_fn=<SelectBackward0>)),\n",
       "  ('economy', tensor(0.5763, device='cuda:0', grad_fn=<SelectBackward0>)),\n",
       "  ('village', tensor(0.5748, device='cuda:0', grad_fn=<SelectBackward0>)),\n",
       "  ('palace', tensor(0.5746, device='cuda:0', grad_fn=<SelectBackward0>)),\n",
       "  ('tent', tensor(0.5699, device='cuda:0', grad_fn=<SelectBackward0>)),\n",
       "  ('fishing', tensor(0.5686, device='cuda:0', grad_fn=<SelectBackward0>)),\n",
       "  ('mine', tensor(0.5665, device='cuda:0', grad_fn=<SelectBackward0>))],\n",
       " [('princes', tensor(0.6844, device='cuda:0', grad_fn=<SelectBackward0>)),\n",
       "  ('el', tensor(0.6561, device='cuda:0', grad_fn=<SelectBackward0>)),\n",
       "  ('la', tensor(0.6479, device='cuda:0', grad_fn=<SelectBackward0>)),\n",
       "  ('isle', tensor(0.6314, device='cuda:0', grad_fn=<SelectBackward0>)),\n",
       "  ('fury', tensor(0.6311, device='cuda:0', grad_fn=<SelectBackward0>)),\n",
       "  ('<game_name>', tensor(0.6130, device='cuda:0', grad_fn=<SelectBackward0>)),\n",
       "  ('de', tensor(0.6121, device='cuda:0', grad_fn=<SelectBackward0>)),\n",
       "  ('feast', tensor(0.6090, device='cuda:0', grad_fn=<SelectBackward0>)),\n",
       "  ('dorado', tensor(0.6090, device='cuda:0', grad_fn=<SelectBackward0>)),\n",
       "  ('et', tensor(0.6022, device='cuda:0', grad_fn=<SelectBackward0>)),\n",
       "  ('goa', tensor(0.6022, device='cuda:0', grad_fn=<SelectBackward0>)),\n",
       "  ('und', tensor(0.5964, device='cuda:0', grad_fn=<SelectBackward0>)),\n",
       "  ('le', tensor(0.5957, device='cuda:0', grad_fn=<SelectBackward0>)),\n",
       "  ('mal', tensor(0.5826, device='cuda:0', grad_fn=<SelectBackward0>)),\n",
       "  ('h', tensor(0.5782, device='cuda:0', grad_fn=<SelectBackward0>)),\n",
       "  ('citta', tensor(0.5770, device='cuda:0', grad_fn=<SelectBackward0>)),\n",
       "  ('gt', tensor(0.5769, device='cuda:0', grad_fn=<SelectBackward0>)),\n",
       "  ('teotihuacan', tensor(0.5765, device='cuda:0', grad_fn=<SelectBackward0>)),\n",
       "  ('al', tensor(0.5751, device='cuda:0', grad_fn=<SelectBackward0>)),\n",
       "  ('à', tensor(0.5691, device='cuda:0', grad_fn=<SelectBackward0>))],\n",
       " [('hint', tensor(0.6401, device='cuda:0', grad_fn=<SelectBackward0>)),\n",
       "  ('code', tensor(0.6145, device='cuda:0', grad_fn=<SelectBackward0>)),\n",
       "  ('decipher', tensor(0.5768, device='cuda:0', grad_fn=<SelectBackward0>)),\n",
       "  ('clue', tensor(0.5706, device='cuda:0', grad_fn=<SelectBackward0>)),\n",
       "  ('interpret', tensor(0.5685, device='cuda:0', grad_fn=<SelectBackward0>)),\n",
       "  ('solve', tensor(0.5609, device='cuda:0', grad_fn=<SelectBackward0>)),\n",
       "  ('riddle', tensor(0.5562, device='cuda:0', grad_fn=<SelectBackward0>)),\n",
       "  ('cheat', tensor(0.5406, device='cuda:0', grad_fn=<SelectBackward0>)),\n",
       "  ('correctly', tensor(0.5337, device='cuda:0', grad_fn=<SelectBackward0>)),\n",
       "  ('solution', tensor(0.5325, device='cuda:0', grad_fn=<SelectBackward0>)),\n",
       "  ('stuck', tensor(0.5132, device='cuda:0', grad_fn=<SelectBackward0>)),\n",
       "  ('identify', tensor(0.5025, device='cuda:0', grad_fn=<SelectBackward0>)),\n",
       "  ('accidentally', tensor(0.5024, device='cuda:0', grad_fn=<SelectBackward0>)),\n",
       "  ('stump', tensor(0.4982, device='cuda:0', grad_fn=<SelectBackward0>)),\n",
       "  ('consult', tensor(0.4961, device='cuda:0', grad_fn=<SelectBackward0>)),\n",
       "  ('puzzle', tensor(0.4927, device='cuda:0', grad_fn=<SelectBackward0>)),\n",
       "  ('solvable', tensor(0.4896, device='cuda:0', grad_fn=<SelectBackward0>)),\n",
       "  ('leap', tensor(0.4871, device='cuda:0', grad_fn=<SelectBackward0>)),\n",
       "  ('incorrect', tensor(0.4862, device='cuda:0', grad_fn=<SelectBackward0>)),\n",
       "  ('paragraph', tensor(0.4859, device='cuda:0', grad_fn=<SelectBackward0>))],\n",
       " [('commitment', tensor(0.4869, device='cuda:0', grad_fn=<SelectBackward0>)),\n",
       "  ('reasonable', tensor(0.4865, device='cuda:0', grad_fn=<SelectBackward0>)),\n",
       "  ('satisfy', tensor(0.4541, device='cuda:0', grad_fn=<SelectBackward0>)),\n",
       "  ('lengthy', tensor(0.4513, device='cuda:0', grad_fn=<SelectBackward0>)),\n",
       "  ('duration', tensor(0.4417, device='cuda:0', grad_fn=<SelectBackward0>)),\n",
       "  ('solo', tensor(0.4342, device='cuda:0', grad_fn=<SelectBackward0>)),\n",
       "  ('length', tensor(0.4301, device='cuda:0', grad_fn=<SelectBackward0>)),\n",
       "  ('session', tensor(0.4209, device='cuda:0', grad_fn=<SelectBackward0>)),\n",
       "  ('campaign', tensor(0.4196, device='cuda:0', grad_fn=<SelectBackward0>)),\n",
       "  ('invest', tensor(0.4151, device='cuda:0', grad_fn=<SelectBackward0>)),\n",
       "  ('impressed', tensor(0.4133, device='cuda:0', grad_fn=<SelectBackward0>)),\n",
       "  ('ease', tensor(0.4088, device='cuda:0', grad_fn=<SelectBackward0>)),\n",
       "  ('crunchy', tensor(0.4042, device='cuda:0', grad_fn=<SelectBackward0>)),\n",
       "  ('dive', tensor(0.4038, device='cuda:0', grad_fn=<SelectBackward0>)),\n",
       "  ('immense', tensor(0.4001, device='cuda:0', grad_fn=<SelectBackward0>)),\n",
       "  ('substantial', tensor(0.3980, device='cuda:0', grad_fn=<SelectBackward0>)),\n",
       "  ('investment', tensor(0.3961, device='cuda:0', grad_fn=<SelectBackward0>)),\n",
       "  ('meaty', tensor(0.3953, device='cuda:0', grad_fn=<SelectBackward0>)),\n",
       "  ('hour', tensor(0.3952, device='cuda:0', grad_fn=<SelectBackward0>)),\n",
       "  ('content', tensor(0.3941, device='cuda:0', grad_fn=<SelectBackward0>))],\n",
       " [('zombie', tensor(0.7120, device='cuda:0', grad_fn=<SelectBackward0>)),\n",
       "  ('survivor', tensor(0.6937, device='cuda:0', grad_fn=<SelectBackward0>)),\n",
       "  ('demon', tensor(0.6657, device='cuda:0', grad_fn=<SelectBackward0>)),\n",
       "  ('fighter', tensor(0.6640, device='cuda:0', grad_fn=<SelectBackward0>)),\n",
       "  ('horde', tensor(0.6423, device='cuda:0', grad_fn=<SelectBackward0>)),\n",
       "  ('boss', tensor(0.6349, device='cuda:0', grad_fn=<SelectBackward0>)),\n",
       "  ('villain', tensor(0.6231, device='cuda:0', grad_fn=<SelectBackward0>)),\n",
       "  ('tale', tensor(0.6222, device='cuda:0', grad_fn=<SelectBackward0>)),\n",
       "  ('nemesis', tensor(0.6179, device='cuda:0', grad_fn=<SelectBackward0>)),\n",
       "  ('battler', tensor(0.6104, device='cuda:0', grad_fn=<SelectBackward0>)),\n",
       "  ('baddie', tensor(0.6096, device='cuda:0', grad_fn=<SelectBackward0>)),\n",
       "  ('survival', tensor(0.6046, device='cuda:0', grad_fn=<SelectBackward0>)),\n",
       "  ('minion', tensor(0.6037, device='cuda:0', grad_fn=<SelectBackward0>)),\n",
       "  ('swarm', tensor(0.6030, device='cuda:0', grad_fn=<SelectBackward0>)),\n",
       "  ('mansion', tensor(0.6027, device='cuda:0', grad_fn=<SelectBackward0>)),\n",
       "  ('apocalypse', tensor(0.5936, device='cuda:0', grad_fn=<SelectBackward0>)),\n",
       "  ('hero', tensor(0.5934, device='cuda:0', grad_fn=<SelectBackward0>)),\n",
       "  ('evil', tensor(0.5904, device='cuda:0', grad_fn=<SelectBackward0>)),\n",
       "  ('quest', tensor(0.5816, device='cuda:0', grad_fn=<SelectBackward0>)),\n",
       "  ('pilot', tensor(0.5797, device='cuda:0', grad_fn=<SelectBackward0>))],\n",
       " [('rule', tensor(0.7573, device='cuda:0', grad_fn=<SelectBackward0>)),\n",
       "  ('rules', tensor(0.6948, device='cuda:0', grad_fn=<SelectBackward0>)),\n",
       "  ('rulebook', tensor(0.6616, device='cuda:0', grad_fn=<SelectBackward0>)),\n",
       "  ('terminology', tensor(0.6592, device='cuda:0', grad_fn=<SelectBackward0>)),\n",
       "  ('manual', tensor(0.6451, device='cuda:0', grad_fn=<SelectBackward0>)),\n",
       "  ('instruction', tensor(0.6277, device='cuda:0', grad_fn=<SelectBackward0>)),\n",
       "  ('ruleset', tensor(0.6131, device='cuda:0', grad_fn=<SelectBackward0>)),\n",
       "  ('faq', tensor(0.5545, device='cuda:0', grad_fn=<SelectBackward0>)),\n",
       "  ('wording', tensor(0.5492, device='cuda:0', grad_fn=<SelectBackward0>)),\n",
       "  ('page', tensor(0.5428, device='cuda:0', grad_fn=<SelectBackward0>)),\n",
       "  ('errata', tensor(0.5387, device='cuda:0', grad_fn=<SelectBackward0>)),\n",
       "  ('keeping', tensor(0.5380, device='cuda:0', grad_fn=<SelectBackward0>)),\n",
       "  ('symbology', tensor(0.5360, device='cuda:0', grad_fn=<SelectBackward0>)),\n",
       "  ('ruling', tensor(0.5338, device='cuda:0', grad_fn=<SelectBackward0>)),\n",
       "  ('forum', tensor(0.5316, device='cuda:0', grad_fn=<SelectBackward0>)),\n",
       "  ('translation', tensor(0.5121, device='cuda:0', grad_fn=<SelectBackward0>)),\n",
       "  ('language', tensor(0.4862, device='cuda:0', grad_fn=<SelectBackward0>)),\n",
       "  ('reference', tensor(0.4859, device='cuda:0', grad_fn=<SelectBackward0>)),\n",
       "  ('needlessly', tensor(0.4835, device='cuda:0', grad_fn=<SelectBackward0>)),\n",
       "  ('iconography', tensor(0.4815, device='cuda:0', grad_fn=<SelectBackward0>))]]"
      ]
     },
     "execution_count": 24,
     "metadata": {},
     "output_type": "execute_result"
    }
   ],
   "execution_count": 24
  },
  {
   "metadata": {
    "ExecuteTime": {
     "end_time": "2025-03-20T21:58:24.997336Z",
     "start_time": "2025-03-20T21:58:22.820424Z"
    }
   },
   "cell_type": "code",
   "source": "ev_processor.u_mass_coherence_model(3).get_coherence_per_topic()",
   "id": "23a53117912890aa",
   "outputs": [
    {
     "data": {
      "text/plain": [
       "Pandas Apply:   0%|          | 0/77794 [00:00<?, ?it/s]"
      ],
      "application/vnd.jupyter.widget-view+json": {
       "version_major": 2,
       "version_minor": 0,
       "model_id": "de83181970724b04b923ab722ad74a89"
      }
     },
     "metadata": {},
     "output_type": "display_data"
    },
    {
     "data": {
      "text/plain": [
       "[-3.9255778188673314,\n",
       " -9.682578001477758,\n",
       " -7.920850829364216,\n",
       " -20.800788480558847,\n",
       " -14.668867895648573,\n",
       " -4.428323920088644,\n",
       " -4.3330299233703995,\n",
       " -4.018951870591462,\n",
       " -9.562629431391636,\n",
       " -11.194518106501354,\n",
       " -19.603888372171728,\n",
       " -8.714951871114133,\n",
       " -19.654037319663455,\n",
       " -4.120865113649609,\n",
       " -9.26197477529872,\n",
       " -14.944052565152163,\n",
       " -4.107279579752117]"
      ]
     },
     "execution_count": 19,
     "metadata": {},
     "output_type": "execute_result"
    }
   ],
   "execution_count": 19
  },
  {
   "metadata": {
    "ExecuteTime": {
     "end_time": "2025-03-20T21:59:22.873850Z",
     "start_time": "2025-03-20T21:59:22.781608Z"
    }
   },
   "cell_type": "code",
   "source": "aspects[3]  # Seems to be talking about games",
   "id": "c7b44ef78c3f4e80",
   "outputs": [
    {
     "data": {
      "text/plain": [
       "[('sequel', tensor(0.7444, device='cuda:0', grad_fn=<SelectBackward0>)),\n",
       " ('iteration', tensor(0.7227, device='cuda:0', grad_fn=<SelectBackward0>)),\n",
       " ('imperium', tensor(0.6948, device='cuda:0', grad_fn=<SelectBackward0>)),\n",
       " ('successor', tensor(0.6804, device='cuda:0', grad_fn=<SelectBackward0>)),\n",
       " ('reimplementation',\n",
       "  tensor(0.6739, device='cuda:0', grad_fn=<SelectBackward0>)),\n",
       " ('evolution', tensor(0.6226, device='cuda:0', grad_fn=<SelectBackward0>)),\n",
       " ('remake', tensor(0.6039, device='cuda:0', grad_fn=<SelectBackward0>)),\n",
       " ('og', tensor(0.5992, device='cuda:0', grad_fn=<SelectBackward0>)),\n",
       " ('battlelore', tensor(0.5919, device='cuda:0', grad_fn=<SelectBackward0>)),\n",
       " ('trilogy', tensor(0.5778, device='cuda:0', grad_fn=<SelectBackward0>)),\n",
       " ('spiritual', tensor(0.5722, device='cuda:0', grad_fn=<SelectBackward0>)),\n",
       " ('argentina', tensor(0.5713, device='cuda:0', grad_fn=<SelectBackward0>)),\n",
       " ('vastly', tensor(0.5685, device='cuda:0', grad_fn=<SelectBackward0>)),\n",
       " ('standalone', tensor(0.5630, device='cuda:0', grad_fn=<SelectBackward0>)),\n",
       " ('predecessor', tensor(0.5587, device='cuda:0', grad_fn=<SelectBackward0>)),\n",
       " ('hannibal', tensor(0.5568, device='cuda:0', grad_fn=<SelectBackward0>)),\n",
       " ('reskin', tensor(0.5548, device='cuda:0', grad_fn=<SelectBackward0>)),\n",
       " ('neuroshima', tensor(0.5538, device='cuda:0', grad_fn=<SelectBackward0>)),\n",
       " ('formula', tensor(0.5537, device='cuda:0', grad_fn=<SelectBackward0>)),\n",
       " ('memoir', tensor(0.5506, device='cuda:0', grad_fn=<SelectBackward0>))]"
      ]
     },
     "execution_count": 25,
     "metadata": {},
     "output_type": "execute_result"
    }
   ],
   "execution_count": 25
  },
  {
   "metadata": {
    "ExecuteTime": {
     "end_time": "2025-03-20T21:59:41.241265Z",
     "start_time": "2025-03-20T21:59:41.132482Z"
    }
   },
   "cell_type": "code",
   "source": "aspects[4]  # Components quality",
   "id": "895898b61a6e0b1d",
   "outputs": [
    {
     "data": {
      "text/plain": [
       "[('packaging', tensor(0.7969, device='cuda:0', grad_fn=<SelectBackward0>)),\n",
       " ('sturdy', tensor(0.7592, device='cuda:0', grad_fn=<SelectBackward0>)),\n",
       " ('cardstock', tensor(0.7442, device='cuda:0', grad_fn=<SelectBackward0>)),\n",
       " ('plastic', tensor(0.7255, device='cuda:0', grad_fn=<SelectBackward0>)),\n",
       " ('inlay', tensor(0.7232, device='cuda:0', grad_fn=<SelectBackward0>)),\n",
       " ('cardboard', tensor(0.6974, device='cuda:0', grad_fn=<SelectBackward0>)),\n",
       " ('figurine', tensor(0.6960, device='cuda:0', grad_fn=<SelectBackward0>)),\n",
       " ('insert', tensor(0.6918, device='cuda:0', grad_fn=<SelectBackward0>)),\n",
       " ('thick', tensor(0.6829, device='cuda:0', grad_fn=<SelectBackward0>)),\n",
       " ('minis', tensor(0.6821, device='cuda:0', grad_fn=<SelectBackward0>)),\n",
       " ('tin', tensor(0.6811, device='cuda:0', grad_fn=<SelectBackward0>)),\n",
       " ('standee', tensor(0.6792, device='cuda:0', grad_fn=<SelectBackward0>)),\n",
       " ('components', tensor(0.6753, device='cuda:0', grad_fn=<SelectBackward0>)),\n",
       " ('flimsy', tensor(0.6544, device='cuda:0', grad_fn=<SelectBackward0>)),\n",
       " ('tray', tensor(0.6540, device='cuda:0', grad_fn=<SelectBackward0>)),\n",
       " ('gametrayz', tensor(0.6540, device='cuda:0', grad_fn=<SelectBackward0>)),\n",
       " ('chunky', tensor(0.6518, device='cuda:0', grad_fn=<SelectBackward0>)),\n",
       " ('functional', tensor(0.6459, device='cuda:0', grad_fn=<SelectBackward0>)),\n",
       " ('material', tensor(0.6439, device='cuda:0', grad_fn=<SelectBackward0>)),\n",
       " ('bent', tensor(0.6417, device='cuda:0', grad_fn=<SelectBackward0>))]"
      ]
     },
     "execution_count": 26,
     "metadata": {},
     "output_type": "execute_result"
    }
   ],
   "execution_count": 26
  },
  {
   "metadata": {
    "ExecuteTime": {
     "end_time": "2025-03-20T22:00:12.354214Z",
     "start_time": "2025-03-20T22:00:12.295981Z"
    }
   },
   "cell_type": "code",
   "source": "aspects[-2]  # Role of the component/mechanics role",
   "id": "acb195d6b26ec48e",
   "outputs": [
    {
     "data": {
      "text/plain": [
       "[('zombie', tensor(0.7120, device='cuda:0', grad_fn=<SelectBackward0>)),\n",
       " ('survivor', tensor(0.6937, device='cuda:0', grad_fn=<SelectBackward0>)),\n",
       " ('demon', tensor(0.6657, device='cuda:0', grad_fn=<SelectBackward0>)),\n",
       " ('fighter', tensor(0.6640, device='cuda:0', grad_fn=<SelectBackward0>)),\n",
       " ('horde', tensor(0.6423, device='cuda:0', grad_fn=<SelectBackward0>)),\n",
       " ('boss', tensor(0.6349, device='cuda:0', grad_fn=<SelectBackward0>)),\n",
       " ('villain', tensor(0.6231, device='cuda:0', grad_fn=<SelectBackward0>)),\n",
       " ('tale', tensor(0.6222, device='cuda:0', grad_fn=<SelectBackward0>)),\n",
       " ('nemesis', tensor(0.6179, device='cuda:0', grad_fn=<SelectBackward0>)),\n",
       " ('battler', tensor(0.6104, device='cuda:0', grad_fn=<SelectBackward0>)),\n",
       " ('baddie', tensor(0.6096, device='cuda:0', grad_fn=<SelectBackward0>)),\n",
       " ('survival', tensor(0.6046, device='cuda:0', grad_fn=<SelectBackward0>)),\n",
       " ('minion', tensor(0.6037, device='cuda:0', grad_fn=<SelectBackward0>)),\n",
       " ('swarm', tensor(0.6030, device='cuda:0', grad_fn=<SelectBackward0>)),\n",
       " ('mansion', tensor(0.6027, device='cuda:0', grad_fn=<SelectBackward0>)),\n",
       " ('apocalypse', tensor(0.5936, device='cuda:0', grad_fn=<SelectBackward0>)),\n",
       " ('hero', tensor(0.5934, device='cuda:0', grad_fn=<SelectBackward0>)),\n",
       " ('evil', tensor(0.5904, device='cuda:0', grad_fn=<SelectBackward0>)),\n",
       " ('quest', tensor(0.5816, device='cuda:0', grad_fn=<SelectBackward0>)),\n",
       " ('pilot', tensor(0.5797, device='cuda:0', grad_fn=<SelectBackward0>))]"
      ]
     },
     "execution_count": 28,
     "metadata": {},
     "output_type": "execute_result"
    }
   ],
   "execution_count": 28
  },
  {
   "metadata": {
    "ExecuteTime": {
     "end_time": "2025-03-20T22:00:55.074861Z",
     "start_time": "2025-03-20T22:00:54.985590Z"
    }
   },
   "cell_type": "code",
   "source": "aspects[-5]  # ??? Seems to be associated to game-names/abbreviations",
   "id": "49a80aad8aa97295",
   "outputs": [
    {
     "data": {
      "text/plain": [
       "[('princes', tensor(0.6844, device='cuda:0', grad_fn=<SelectBackward0>)),\n",
       " ('el', tensor(0.6561, device='cuda:0', grad_fn=<SelectBackward0>)),\n",
       " ('la', tensor(0.6479, device='cuda:0', grad_fn=<SelectBackward0>)),\n",
       " ('isle', tensor(0.6314, device='cuda:0', grad_fn=<SelectBackward0>)),\n",
       " ('fury', tensor(0.6311, device='cuda:0', grad_fn=<SelectBackward0>)),\n",
       " ('<game_name>', tensor(0.6130, device='cuda:0', grad_fn=<SelectBackward0>)),\n",
       " ('de', tensor(0.6121, device='cuda:0', grad_fn=<SelectBackward0>)),\n",
       " ('feast', tensor(0.6090, device='cuda:0', grad_fn=<SelectBackward0>)),\n",
       " ('dorado', tensor(0.6090, device='cuda:0', grad_fn=<SelectBackward0>)),\n",
       " ('et', tensor(0.6022, device='cuda:0', grad_fn=<SelectBackward0>)),\n",
       " ('goa', tensor(0.6022, device='cuda:0', grad_fn=<SelectBackward0>)),\n",
       " ('und', tensor(0.5964, device='cuda:0', grad_fn=<SelectBackward0>)),\n",
       " ('le', tensor(0.5957, device='cuda:0', grad_fn=<SelectBackward0>)),\n",
       " ('mal', tensor(0.5826, device='cuda:0', grad_fn=<SelectBackward0>)),\n",
       " ('h', tensor(0.5782, device='cuda:0', grad_fn=<SelectBackward0>)),\n",
       " ('citta', tensor(0.5770, device='cuda:0', grad_fn=<SelectBackward0>)),\n",
       " ('gt', tensor(0.5769, device='cuda:0', grad_fn=<SelectBackward0>)),\n",
       " ('teotihuacan', tensor(0.5765, device='cuda:0', grad_fn=<SelectBackward0>)),\n",
       " ('al', tensor(0.5751, device='cuda:0', grad_fn=<SelectBackward0>)),\n",
       " ('à', tensor(0.5691, device='cuda:0', grad_fn=<SelectBackward0>))]"
      ]
     },
     "execution_count": 29,
     "metadata": {},
     "output_type": "execute_result"
    }
   ],
   "execution_count": 29
  },
  {
   "metadata": {
    "ExecuteTime": {
     "end_time": "2025-03-20T21:58:32.512737Z",
     "start_time": "2025-03-20T21:58:30.565233Z"
    }
   },
   "cell_type": "code",
   "source": "ev_processor.u_mass_coherence_model(5).get_coherence_per_topic()",
   "id": "e691150106a3551c",
   "outputs": [
    {
     "data": {
      "text/plain": [
       "Pandas Apply:   0%|          | 0/77794 [00:00<?, ?it/s]"
      ],
      "application/vnd.jupyter.widget-view+json": {
       "version_major": 2,
       "version_minor": 0,
       "model_id": "1edee4e4c8b745a3bb1b3869935b1060"
      }
     },
     "metadata": {},
     "output_type": "display_data"
    },
    {
     "data": {
      "text/plain": [
       "[-3.9255778188673314,\n",
       " -9.682578001477758,\n",
       " -7.920850829364216,\n",
       " -20.800788480558847,\n",
       " -14.668867895648573,\n",
       " -4.428323920088644,\n",
       " -4.3330299233703995,\n",
       " -4.018951870591462,\n",
       " -9.562629431391636,\n",
       " -11.194518106501354,\n",
       " -19.603888372171728,\n",
       " -8.714951871114133,\n",
       " -19.654037319663455,\n",
       " -4.120865113649609,\n",
       " -9.26197477529872,\n",
       " -14.944052565152163,\n",
       " -4.107279579752117]"
      ]
     },
     "execution_count": 20,
     "metadata": {},
     "output_type": "execute_result"
    }
   ],
   "execution_count": 20
  },
  {
   "metadata": {
    "ExecuteTime": {
     "end_time": "2025-03-20T21:58:39.999719Z",
     "start_time": "2025-03-20T21:58:37.895657Z"
    }
   },
   "cell_type": "code",
   "source": "ev_processor.u_mass_coherence_model(10).get_coherence_per_topic()",
   "id": "f2d6e3e40063267e",
   "outputs": [
    {
     "data": {
      "text/plain": [
       "Pandas Apply:   0%|          | 0/77794 [00:00<?, ?it/s]"
      ],
      "application/vnd.jupyter.widget-view+json": {
       "version_major": 2,
       "version_minor": 0,
       "model_id": "df88634a6f72402ba7040e3c655c4bed"
      }
     },
     "metadata": {},
     "output_type": "display_data"
    },
    {
     "data": {
      "text/plain": [
       "[-3.9255778188673314,\n",
       " -9.682578001477758,\n",
       " -7.920850829364216,\n",
       " -20.800788480558847,\n",
       " -14.668867895648573,\n",
       " -4.428323920088644,\n",
       " -4.3330299233703995,\n",
       " -4.018951870591462,\n",
       " -9.562629431391636,\n",
       " -11.194518106501354,\n",
       " -19.603888372171728,\n",
       " -8.714951871114133,\n",
       " -19.654037319663455,\n",
       " -4.120865113649609,\n",
       " -9.26197477529872,\n",
       " -14.944052565152163,\n",
       " -4.107279579752117]"
      ]
     },
     "execution_count": 21,
     "metadata": {},
     "output_type": "execute_result"
    }
   ],
   "execution_count": 21
  },
  {
   "metadata": {
    "ExecuteTime": {
     "end_time": "2025-03-20T21:58:44.239133Z",
     "start_time": "2025-03-20T21:58:41.978246Z"
    }
   },
   "cell_type": "code",
   "source": "ev_processor.u_mass_coherence_model(20).get_coherence_per_topic()",
   "id": "b3790e19309d4532",
   "outputs": [
    {
     "data": {
      "text/plain": [
       "Pandas Apply:   0%|          | 0/77794 [00:00<?, ?it/s]"
      ],
      "application/vnd.jupyter.widget-view+json": {
       "version_major": 2,
       "version_minor": 0,
       "model_id": "fc5ca98edba2450f8ea021ba8e045753"
      }
     },
     "metadata": {},
     "output_type": "display_data"
    },
    {
     "data": {
      "text/plain": [
       "[-11.292684969558596,\n",
       " -13.340562485156116,\n",
       " -17.25537068228306,\n",
       " -16.67731065741633,\n",
       " -12.729347415810782,\n",
       " -6.863208686903573,\n",
       " -12.21684293614156,\n",
       " -9.525660566176187,\n",
       " -9.072414689878123,\n",
       " -13.020833492935134,\n",
       " -17.018505533620598,\n",
       " -15.922856249580782,\n",
       " -17.517073871647344,\n",
       " -12.29556240725517,\n",
       " -9.56280301759823,\n",
       " -15.131052446773475,\n",
       " -11.027271417080396]"
      ]
     },
     "execution_count": 22,
     "metadata": {},
     "output_type": "execute_result"
    }
   ],
   "execution_count": 22
  },
  {
   "metadata": {},
   "cell_type": "code",
   "outputs": [],
   "execution_count": null,
   "source": "config = ABAEManagerConfig('final_full_1')",
   "id": "3bb8402c9ccc2138"
  },
  {
   "metadata": {
    "ExecuteTime": {
     "end_time": "2025-03-19T22:45:17.821013Z",
     "start_time": "2025-03-19T22:45:16.379484Z"
    }
   },
   "cell_type": "code",
   "outputs": [
    {
     "data": {
      "text/plain": [
       "Pandas Apply:   0%|          | 0/233897 [00:00<?, ?it/s]"
      ],
      "application/vnd.jupyter.widget-view+json": {
       "version_major": 2,
       "version_minor": 0,
       "model_id": "55ab222518c44be0a762793dbd90ae1b"
      }
     },
     "metadata": {},
     "output_type": "display_data"
    },
    {
     "name": "stdout",
     "output_type": "stream",
     "text": [
      "Loading the existing found model as requested in path ./output/final_full_1/final_full_1.aspect_embeddings.model\n",
      "Generating a new compiled model from fs\n"
     ]
    }
   ],
   "execution_count": 39,
   "source": [
    "best_run = runs[1]\n",
    "manager = ABAEManager.from_scratch(config, corpus_path)\n",
    "manager.get_compiled_model(load_existing=True)\n",
    "processor = manager.make_ev_processor(test_corpus_path)\n",
    "\n",
    "aspects = processor.get_aspects(15)"
   ],
   "id": "af64a8c0e1b0897f"
  },
  {
   "metadata": {
    "ExecuteTime": {
     "end_time": "2025-03-19T22:49:36.132498Z",
     "start_time": "2025-03-19T22:49:35.538279Z"
    }
   },
   "cell_type": "code",
   "source": [
    "aspects = processor.get_aspects(20)\n",
    "aspects"
   ],
   "id": "efcb5fa4dade295f",
   "outputs": [
    {
     "data": {
      "text/plain": [
       "[[('mode', tensor(0.5173, device='cuda:0', grad_fn=<SelectBackward0>)),\n",
       "  ('solo', tensor(0.5006, device='cuda:0', grad_fn=<SelectBackward0>)),\n",
       "  ('varied', tensor(0.4984, device='cuda:0', grad_fn=<SelectBackward0>)),\n",
       "  ('progression', tensor(0.4800, device='cuda:0', grad_fn=<SelectBackward0>)),\n",
       "  ('differently', tensor(0.4707, device='cuda:0', grad_fn=<SelectBackward0>)),\n",
       "  ('variability', tensor(0.4523, device='cuda:0', grad_fn=<SelectBackward0>)),\n",
       "  ('challenging', tensor(0.4435, device='cuda:0', grad_fn=<SelectBackward0>)),\n",
       "  ('campaign', tensor(0.4395, device='cuda:0', grad_fn=<SelectBackward0>)),\n",
       "  ('variety', tensor(0.4295, device='cuda:0', grad_fn=<SelectBackward0>)),\n",
       "  ('enhance', tensor(0.4290, device='cuda:0', grad_fn=<SelectBackward0>)),\n",
       "  ('scenario', tensor(0.4259, device='cuda:0', grad_fn=<SelectBackward0>)),\n",
       "  ('bot', tensor(0.4176, device='cuda:0', grad_fn=<SelectBackward0>)),\n",
       "  ('evolve', tensor(0.4160, device='cuda:0', grad_fn=<SelectBackward0>)),\n",
       "  ('improve', tensor(0.4108, device='cuda:0', grad_fn=<SelectBackward0>)),\n",
       "  ('unlock', tensor(0.4095, device='cuda:0', grad_fn=<SelectBackward0>)),\n",
       "  ('arc', tensor(0.4049, device='cuda:0', grad_fn=<SelectBackward0>)),\n",
       "  ('unique', tensor(0.4041, device='cuda:0', grad_fn=<SelectBackward0>)),\n",
       "  ('individual', tensor(0.4020, device='cuda:0', grad_fn=<SelectBackward0>)),\n",
       "  ('variable', tensor(0.3958, device='cuda:0', grad_fn=<SelectBackward0>)),\n",
       "  ('rewarding', tensor(0.3902, device='cuda:0', grad_fn=<SelectBackward0>))],\n",
       " [('bggweight', tensor(0.5167, device='cuda:0', grad_fn=<SelectBackward0>)),\n",
       "  ('scott', tensor(0.4998, device='cuda:0', grad_fn=<SelectBackward0>)),\n",
       "  ('bggsolorate', tensor(0.4986, device='cuda:0', grad_fn=<SelectBackward0>)),\n",
       "  ('inductive', tensor(0.4870, device='cuda:0', grad_fn=<SelectBackward0>)),\n",
       "  ('walker', tensor(0.4851, device='cuda:0', grad_fn=<SelectBackward0>)),\n",
       "  ('solofun', tensor(0.4776, device='cuda:0', grad_fn=<SelectBackward0>)),\n",
       "  ('eklund', tensor(0.4773, device='cuda:0', grad_fn=<SelectBackward0>)),\n",
       "  ('matt', tensor(0.4764, device='cuda:0', grad_fn=<SelectBackward0>)),\n",
       "  ('arsène', tensor(0.4745, device='cuda:0', grad_fn=<SelectBackward0>)),\n",
       "  ('le', tensor(0.4737, device='cuda:0', grad_fn=<SelectBackward0>)),\n",
       "  ('oca', tensor(0.4644, device='cuda:0', grad_fn=<SelectBackward0>)),\n",
       "  ('speechless', tensor(0.4611, device='cuda:0', grad_fn=<SelectBackward0>)),\n",
       "  ('r', tensor(0.4585, device='cuda:0', grad_fn=<SelectBackward0>)),\n",
       "  ('navir', tensor(0.4581, device='cuda:0', grad_fn=<SelectBackward0>)),\n",
       "  ('ratings', tensor(0.4543, device='cuda:0', grad_fn=<SelectBackward0>)),\n",
       "  ('jose', tensor(0.4530, device='cuda:0', grad_fn=<SelectBackward0>)),\n",
       "  ('eva', tensor(0.4515, device='cuda:0', grad_fn=<SelectBackward0>)),\n",
       "  ('harding', tensor(0.4511, device='cuda:0', grad_fn=<SelectBackward0>)),\n",
       "  ('leacock', tensor(0.4505, device='cuda:0', grad_fn=<SelectBackward0>)),\n",
       "  ('e', tensor(0.4505, device='cuda:0', grad_fn=<SelectBackward0>))],\n",
       " [('instruction', tensor(0.7353, device='cuda:0', grad_fn=<SelectBackward0>)),\n",
       "  ('rulebook', tensor(0.7175, device='cuda:0', grad_fn=<SelectBackward0>)),\n",
       "  ('manual', tensor(0.7158, device='cuda:0', grad_fn=<SelectBackward0>)),\n",
       "  ('rule', tensor(0.6908, device='cuda:0', grad_fn=<SelectBackward0>)),\n",
       "  ('terminology', tensor(0.6806, device='cuda:0', grad_fn=<SelectBackward0>)),\n",
       "  ('page', tensor(0.6615, device='cuda:0', grad_fn=<SelectBackward0>)),\n",
       "  ('booklet', tensor(0.6382, device='cuda:0', grad_fn=<SelectBackward0>)),\n",
       "  ('symbology', tensor(0.6107, device='cuda:0', grad_fn=<SelectBackward0>)),\n",
       "  ('faq', tensor(0.6085, device='cuda:0', grad_fn=<SelectBackward0>)),\n",
       "  ('errata', tensor(0.6067, device='cuda:0', grad_fn=<SelectBackward0>)),\n",
       "  ('wording', tensor(0.6056, device='cuda:0', grad_fn=<SelectBackward0>)),\n",
       "  ('reference', tensor(0.6001, device='cuda:0', grad_fn=<SelectBackward0>)),\n",
       "  ('iconography', tensor(0.5950, device='cuda:0', grad_fn=<SelectBackward0>)),\n",
       "  ('refer', tensor(0.5940, device='cuda:0', grad_fn=<SelectBackward0>)),\n",
       "  ('translation', tensor(0.5934, device='cuda:0', grad_fn=<SelectBackward0>)),\n",
       "  ('reminder', tensor(0.5900, device='cuda:0', grad_fn=<SelectBackward0>)),\n",
       "  ('rules', tensor(0.5872, device='cuda:0', grad_fn=<SelectBackward0>)),\n",
       "  ('clarify', tensor(0.5863, device='cuda:0', grad_fn=<SelectBackward0>)),\n",
       "  ('clarification',\n",
       "   tensor(0.5764, device='cuda:0', grad_fn=<SelectBackward0>)),\n",
       "  ('icon', tensor(0.5688, device='cuda:0', grad_fn=<SelectBackward0>))],\n",
       " [('ganz', tensor(0.5418, device='cuda:0', grad_fn=<SelectBackward0>)),\n",
       "  ('mash', tensor(0.5302, device='cuda:0', grad_fn=<SelectBackward0>)),\n",
       "  ('burgundy', tensor(0.5291, device='cuda:0', grad_fn=<SelectBackward0>)),\n",
       "  ('mechanism', tensor(0.5251, device='cuda:0', grad_fn=<SelectBackward0>)),\n",
       "  ('vein', tensor(0.4868, device='cuda:0', grad_fn=<SelectBackward0>)),\n",
       "  ('schön', tensor(0.4709, device='cuda:0', grad_fn=<SelectBackward0>)),\n",
       "  ('mish', tensor(0.4630, device='cuda:0', grad_fn=<SelectBackward0>)),\n",
       "  ('mechanic', tensor(0.4593, device='cuda:0', grad_fn=<SelectBackward0>)),\n",
       "  ('albeit', tensor(0.4582, device='cuda:0', grad_fn=<SelectBackward0>)),\n",
       "  ('schon', tensor(0.4580, device='cuda:0', grad_fn=<SelectBackward0>)),\n",
       "  ('feld', tensor(0.4564, device='cuda:0', grad_fn=<SelectBackward0>)),\n",
       "  ('puzzly', tensor(0.4561, device='cuda:0', grad_fn=<SelectBackward0>)),\n",
       "  ('polyomino', tensor(0.4518, device='cuda:0', grad_fn=<SelectBackward0>)),\n",
       "  ('domino', tensor(0.4376, device='cuda:0', grad_fn=<SelectBackward0>)),\n",
       "  ('gambling', tensor(0.4357, device='cuda:0', grad_fn=<SelectBackward0>)),\n",
       "  ('bingo', tensor(0.4352, device='cuda:0', grad_fn=<SelectBackward0>)),\n",
       "  ('workerplacement',\n",
       "   tensor(0.4312, device='cuda:0', grad_fn=<SelectBackward0>)),\n",
       "  ('yahtzee', tensor(0.4308, device='cuda:0', grad_fn=<SelectBackward0>)),\n",
       "  ('drafting', tensor(0.4296, device='cuda:0', grad_fn=<SelectBackward0>)),\n",
       "  ('spatial', tensor(0.4277, device='cuda:0', grad_fn=<SelectBackward0>))],\n",
       " [('pilot', tensor(0.6375, device='cuda:0', grad_fn=<SelectBackward0>)),\n",
       "  ('spell', tensor(0.6144, device='cuda:0', grad_fn=<SelectBackward0>)),\n",
       "  ('weapon', tensor(0.6109, device='cuda:0', grad_fn=<SelectBackward0>)),\n",
       "  ('summon', tensor(0.6070, device='cuda:0', grad_fn=<SelectBackward0>)),\n",
       "  ('encounter', tensor(0.5977, device='cuda:0', grad_fn=<SelectBackward0>)),\n",
       "  ('equipment', tensor(0.5974, device='cuda:0', grad_fn=<SelectBackward0>)),\n",
       "  ('enemy', tensor(0.5921, device='cuda:0', grad_fn=<SelectBackward0>)),\n",
       "  ('loot', tensor(0.5480, device='cuda:0', grad_fn=<SelectBackward0>)),\n",
       "  ('hero', tensor(0.5422, device='cuda:0', grad_fn=<SelectBackward0>)),\n",
       "  ('minion', tensor(0.5411, device='cuda:0', grad_fn=<SelectBackward0>)),\n",
       "  ('squadron', tensor(0.5388, device='cuda:0', grad_fn=<SelectBackward0>)),\n",
       "  ('boss', tensor(0.5376, device='cuda:0', grad_fn=<SelectBackward0>)),\n",
       "  ('baddie', tensor(0.5322, device='cuda:0', grad_fn=<SelectBackward0>)),\n",
       "  ('health', tensor(0.5311, device='cuda:0', grad_fn=<SelectBackward0>)),\n",
       "  ('cast', tensor(0.5289, device='cuda:0', grad_fn=<SelectBackward0>)),\n",
       "  ('aircraft', tensor(0.5271, device='cuda:0', grad_fn=<SelectBackward0>)),\n",
       "  ('equip', tensor(0.5261, device='cuda:0', grad_fn=<SelectBackward0>)),\n",
       "  ('spawn', tensor(0.5260, device='cuda:0', grad_fn=<SelectBackward0>)),\n",
       "  ('heal', tensor(0.5260, device='cuda:0', grad_fn=<SelectBackward0>)),\n",
       "  ('mob', tensor(0.5251, device='cuda:0', grad_fn=<SelectBackward0>))],\n",
       " [('accessible', tensor(0.6187, device='cuda:0', grad_fn=<SelectBackward0>)),\n",
       "  ('teach', tensor(0.5929, device='cuda:0', grad_fn=<SelectBackward0>)),\n",
       "  ('quick', tensor(0.5870, device='cuda:0', grad_fn=<SelectBackward0>)),\n",
       "  ('relatively', tensor(0.5754, device='cuda:0', grad_fn=<SelectBackward0>)),\n",
       "  ('simple', tensor(0.5703, device='cuda:0', grad_fn=<SelectBackward0>)),\n",
       "  ('suitable', tensor(0.5524, device='cuda:0', grad_fn=<SelectBackward0>)),\n",
       "  ('deep', tensor(0.5359, device='cuda:0', grad_fn=<SelectBackward0>)),\n",
       "  ('light', tensor(0.5220, device='cuda:0', grad_fn=<SelectBackward0>)),\n",
       "  ('approachable', tensor(0.5210, device='cuda:0', grad_fn=<SelectBackward0>)),\n",
       "  ('fast', tensor(0.5170, device='cuda:0', grad_fn=<SelectBackward0>)),\n",
       "  ('depth', tensor(0.5128, device='cuda:0', grad_fn=<SelectBackward0>)),\n",
       "  ('thinky', tensor(0.5104, device='cuda:0', grad_fn=<SelectBackward0>)),\n",
       "  ('manageable', tensor(0.5021, device='cuda:0', grad_fn=<SelectBackward0>)),\n",
       "  ('fun', tensor(0.5015, device='cuda:0', grad_fn=<SelectBackward0>)),\n",
       "  ('meaty', tensor(0.4985, device='cuda:0', grad_fn=<SelectBackward0>)),\n",
       "  ('complex', tensor(0.4982, device='cuda:0', grad_fn=<SelectBackward0>)),\n",
       "  ('easy', tensor(0.4940, device='cuda:0', grad_fn=<SelectBackward0>)),\n",
       "  ('great', tensor(0.4918, device='cuda:0', grad_fn=<SelectBackward0>)),\n",
       "  ('ideal', tensor(0.4868, device='cuda:0', grad_fn=<SelectBackward0>)),\n",
       "  ('explain', tensor(0.4867, device='cuda:0', grad_fn=<SelectBackward0>))],\n",
       " [('tts', tensor(0.6843, device='cuda:0', grad_fn=<SelectBackward0>)),\n",
       "  ('nephew', tensor(0.6804, device='cuda:0', grad_fn=<SelectBackward0>)),\n",
       "  ('dad', tensor(0.6720, device='cuda:0', grad_fn=<SelectBackward0>)),\n",
       "  ('mom', tensor(0.6569, device='cuda:0', grad_fn=<SelectBackward0>)),\n",
       "  ('tonight', tensor(0.6529, device='cuda:0', grad_fn=<SelectBackward0>)),\n",
       "  ('gencon', tensor(0.6497, device='cuda:0', grad_fn=<SelectBackward0>)),\n",
       "  ('tabletopia', tensor(0.6476, device='cuda:0', grad_fn=<SelectBackward0>)),\n",
       "  ('april', tensor(0.6429, device='cuda:0', grad_fn=<SelectBackward0>)),\n",
       "  ('gf', tensor(0.6428, device='cuda:0', grad_fn=<SelectBackward0>)),\n",
       "  ('household', tensor(0.6426, device='cuda:0', grad_fn=<SelectBackward0>)),\n",
       "  ('december', tensor(0.6386, device='cuda:0', grad_fn=<SelectBackward0>)),\n",
       "  ('june', tensor(0.6353, device='cuda:0', grad_fn=<SelectBackward0>)),\n",
       "  ('demo', tensor(0.6352, device='cuda:0', grad_fn=<SelectBackward0>)),\n",
       "  ('today', tensor(0.6328, device='cuda:0', grad_fn=<SelectBackward0>)),\n",
       "  ('buddy', tensor(0.6325, device='cuda:0', grad_fn=<SelectBackward0>)),\n",
       "  ('weekend', tensor(0.6315, device='cuda:0', grad_fn=<SelectBackward0>)),\n",
       "  ('feb', tensor(0.6301, device='cuda:0', grad_fn=<SelectBackward0>)),\n",
       "  ('niece', tensor(0.6297, device='cuda:0', grad_fn=<SelectBackward0>)),\n",
       "  ('husband', tensor(0.6257, device='cuda:0', grad_fn=<SelectBackward0>)),\n",
       "  ('daughter', tensor(0.6177, device='cuda:0', grad_fn=<SelectBackward0>))],\n",
       " [('player', tensor(0.5393, device='cuda:0', grad_fn=<SelectBackward0>)),\n",
       "  ('attacker', tensor(0.4820, device='cuda:0', grad_fn=<SelectBackward0>)),\n",
       "  ('screwage', tensor(0.4802, device='cuda:0', grad_fn=<SelectBackward0>)),\n",
       "  ('aggression', tensor(0.4701, device='cuda:0', grad_fn=<SelectBackward0>)),\n",
       "  ('discourage', tensor(0.4609, device='cuda:0', grad_fn=<SelectBackward0>)),\n",
       "  ('probability', tensor(0.4484, device='cuda:0', grad_fn=<SelectBackward0>)),\n",
       "  ('analysis', tensor(0.4465, device='cuda:0', grad_fn=<SelectBackward0>)),\n",
       "  ('aggressive', tensor(0.4425, device='cuda:0', grad_fn=<SelectBackward0>)),\n",
       "  ('quarterbacking',\n",
       "   tensor(0.4416, device='cuda:0', grad_fn=<SelectBackward0>)),\n",
       "  ('skilled', tensor(0.4416, device='cuda:0', grad_fn=<SelectBackward0>)),\n",
       "  ('harm', tensor(0.4401, device='cuda:0', grad_fn=<SelectBackward0>)),\n",
       "  ('outcome', tensor(0.4386, device='cuda:0', grad_fn=<SelectBackward0>)),\n",
       "  ('minimum', tensor(0.4381, device='cuda:0', grad_fn=<SelectBackward0>)),\n",
       "  ('kingmake', tensor(0.4334, device='cuda:0', grad_fn=<SelectBackward0>)),\n",
       "  ('loss', tensor(0.4330, device='cuda:0', grad_fn=<SelectBackward0>)),\n",
       "  ('indirect', tensor(0.4298, device='cuda:0', grad_fn=<SelectBackward0>)),\n",
       "  ('conflict', tensor(0.4280, device='cuda:0', grad_fn=<SelectBackward0>)),\n",
       "  ('opposition', tensor(0.4264, device='cuda:0', grad_fn=<SelectBackward0>)),\n",
       "  ('result', tensor(0.4219, device='cuda:0', grad_fn=<SelectBackward0>)),\n",
       "  ('situation', tensor(0.4192, device='cuda:0', grad_fn=<SelectBackward0>))],\n",
       " [('crop', tensor(0.7105, device='cuda:0', grad_fn=<SelectBackward0>)),\n",
       "  ('industry', tensor(0.6967, device='cuda:0', grad_fn=<SelectBackward0>)),\n",
       "  ('harvest', tensor(0.6958, device='cuda:0', grad_fn=<SelectBackward0>)),\n",
       "  ('coal', tensor(0.6899, device='cuda:0', grad_fn=<SelectBackward0>)),\n",
       "  ('mining', tensor(0.6804, device='cuda:0', grad_fn=<SelectBackward0>)),\n",
       "  ('farmer', tensor(0.6706, device='cuda:0', grad_fn=<SelectBackward0>)),\n",
       "  ('harvesting', tensor(0.6456, device='cuda:0', grad_fn=<SelectBackward0>)),\n",
       "  ('mineral', tensor(0.6395, device='cuda:0', grad_fn=<SelectBackward0>)),\n",
       "  ('craftsman', tensor(0.6392, device='cuda:0', grad_fn=<SelectBackward0>)),\n",
       "  ('palace', tensor(0.6365, device='cuda:0', grad_fn=<SelectBackward0>)),\n",
       "  ('fishing', tensor(0.6362, device='cuda:0', grad_fn=<SelectBackward0>)),\n",
       "  ('farm', tensor(0.6348, device='cuda:0', grad_fn=<SelectBackward0>)),\n",
       "  ('sheep', tensor(0.6341, device='cuda:0', grad_fn=<SelectBackward0>)),\n",
       "  ('factory', tensor(0.6338, device='cuda:0', grad_fn=<SelectBackward0>)),\n",
       "  ('cattle', tensor(0.6320, device='cuda:0', grad_fn=<SelectBackward0>)),\n",
       "  ('mine', tensor(0.6310, device='cuda:0', grad_fn=<SelectBackward0>)),\n",
       "  ('business', tensor(0.6308, device='cuda:0', grad_fn=<SelectBackward0>)),\n",
       "  ('wheat', tensor(0.6285, device='cuda:0', grad_fn=<SelectBackward0>)),\n",
       "  ('oil', tensor(0.6279, device='cuda:0', grad_fn=<SelectBackward0>)),\n",
       "  ('canal', tensor(0.6278, device='cuda:0', grad_fn=<SelectBackward0>))],\n",
       " [('party', tensor(0.6896, device='cuda:0', grad_fn=<SelectBackward0>)),\n",
       "  ('drinking', tensor(0.6830, device='cuda:0', grad_fn=<SelectBackward0>)),\n",
       "  ('trivia', tensor(0.6737, device='cuda:0', grad_fn=<SelectBackward0>)),\n",
       "  ('pictionary', tensor(0.6358, device='cuda:0', grad_fn=<SelectBackward0>)),\n",
       "  ('alcohol', tensor(0.6325, device='cuda:0', grad_fn=<SelectBackward0>)),\n",
       "  ('werewolf', tensor(0.6302, device='cuda:0', grad_fn=<SelectBackward0>)),\n",
       "  ('drunk', tensor(0.6136, device='cuda:0', grad_fn=<SelectBackward0>)),\n",
       "  ('trivium', tensor(0.6090, device='cuda:0', grad_fn=<SelectBackward0>)),\n",
       "  ('charade', tensor(0.6054, device='cuda:0', grad_fn=<SelectBackward0>)),\n",
       "  ('deception', tensor(0.5870, device='cuda:0', grad_fn=<SelectBackward0>)),\n",
       "  ('loud', tensor(0.5736, device='cuda:0', grad_fn=<SelectBackward0>)),\n",
       "  ('conversation', tensor(0.5728, device='cuda:0', grad_fn=<SelectBackward0>)),\n",
       "  ('ice', tensor(0.5697, device='cuda:0', grad_fn=<SelectBackward0>)),\n",
       "  ('murder', tensor(0.5667, device='cuda:0', grad_fn=<SelectBackward0>)),\n",
       "  ('apple', tensor(0.5658, device='cuda:0', grad_fn=<SelectBackward0>)),\n",
       "  ('crowd', tensor(0.5592, device='cuda:0', grad_fn=<SelectBackward0>)),\n",
       "  ('storyteller', tensor(0.5587, device='cuda:0', grad_fn=<SelectBackward0>)),\n",
       "  ('music', tensor(0.5487, device='cuda:0', grad_fn=<SelectBackward0>)),\n",
       "  ('accusation', tensor(0.5444, device='cuda:0', grad_fn=<SelectBackward0>)),\n",
       "  ('prompt', tensor(0.5401, device='cuda:0', grad_fn=<SelectBackward0>))],\n",
       " [('sword', tensor(0.6823, device='cuda:0', grad_fn=<SelectBackward0>)),\n",
       "  ('raider', tensor(0.6815, device='cuda:0', grad_fn=<SelectBackward0>)),\n",
       "  ('coast', tensor(0.6675, device='cuda:0', grad_fn=<SelectBackward0>)),\n",
       "  ('la', tensor(0.6667, device='cuda:0', grad_fn=<SelectBackward0>)),\n",
       "  ('frost', tensor(0.6619, device='cuda:0', grad_fn=<SelectBackward0>)),\n",
       "  ('rogue', tensor(0.6607, device='cuda:0', grad_fn=<SelectBackward0>)),\n",
       "  ('spider', tensor(0.6537, device='cuda:0', grad_fn=<SelectBackward0>)),\n",
       "  ('galaxy', tensor(0.6519, device='cuda:0', grad_fn=<SelectBackward0>)),\n",
       "  ('cowboy', tensor(0.6473, device='cuda:0', grad_fn=<SelectBackward0>)),\n",
       "  ('elemental', tensor(0.6453, device='cuda:0', grad_fn=<SelectBackward0>)),\n",
       "  ('archer', tensor(0.6449, device='cuda:0', grad_fn=<SelectBackward0>)),\n",
       "  ('desert', tensor(0.6440, device='cuda:0', grad_fn=<SelectBackward0>)),\n",
       "  ('shadow', tensor(0.6438, device='cuda:0', grad_fn=<SelectBackward0>)),\n",
       "  ('gambit', tensor(0.6398, device='cuda:0', grad_fn=<SelectBackward0>)),\n",
       "  ('cobble', tensor(0.6396, device='cuda:0', grad_fn=<SelectBackward0>)),\n",
       "  ('lee', tensor(0.6372, device='cuda:0', grad_fn=<SelectBackward0>)),\n",
       "  ('wings', tensor(0.6353, device='cuda:0', grad_fn=<SelectBackward0>)),\n",
       "  ('elf', tensor(0.6348, device='cuda:0', grad_fn=<SelectBackward0>)),\n",
       "  ('guns', tensor(0.6344, device='cuda:0', grad_fn=<SelectBackward0>)),\n",
       "  ('assault', tensor(0.6327, device='cuda:0', grad_fn=<SelectBackward0>))],\n",
       " [('sturdy', tensor(0.7854, device='cuda:0', grad_fn=<SelectBackward0>)),\n",
       "  ('chunky', tensor(0.7629, device='cuda:0', grad_fn=<SelectBackward0>)),\n",
       "  ('thick', tensor(0.7133, device='cuda:0', grad_fn=<SelectBackward0>)),\n",
       "  ('colourful', tensor(0.7076, device='cuda:0', grad_fn=<SelectBackward0>)),\n",
       "  ('illustration', tensor(0.6965, device='cuda:0', grad_fn=<SelectBackward0>)),\n",
       "  ('packaging', tensor(0.6894, device='cuda:0', grad_fn=<SelectBackward0>)),\n",
       "  ('plastic', tensor(0.6880, device='cuda:0', grad_fn=<SelectBackward0>)),\n",
       "  ('wooden', tensor(0.6763, device='cuda:0', grad_fn=<SelectBackward0>)),\n",
       "  ('presentation', tensor(0.6728, device='cuda:0', grad_fn=<SelectBackward0>)),\n",
       "  ('colorful', tensor(0.6541, device='cuda:0', grad_fn=<SelectBackward0>)),\n",
       "  ('cardboard', tensor(0.6526, device='cuda:0', grad_fn=<SelectBackward0>)),\n",
       "  ('functional', tensor(0.6504, device='cuda:0', grad_fn=<SelectBackward0>)),\n",
       "  ('flimsy', tensor(0.6472, device='cuda:0', grad_fn=<SelectBackward0>)),\n",
       "  ('cardstock', tensor(0.6451, device='cuda:0', grad_fn=<SelectBackward0>)),\n",
       "  ('standee', tensor(0.6420, device='cuda:0', grad_fn=<SelectBackward0>)),\n",
       "  ('minis', tensor(0.6419, device='cuda:0', grad_fn=<SelectBackward0>)),\n",
       "  ('aesthetically',\n",
       "   tensor(0.6408, device='cuda:0', grad_fn=<SelectBackward0>)),\n",
       "  ('components', tensor(0.6268, device='cuda:0', grad_fn=<SelectBackward0>)),\n",
       "  ('figurine', tensor(0.6256, device='cuda:0', grad_fn=<SelectBackward0>)),\n",
       "  ('looking', tensor(0.6146, device='cuda:0', grad_fn=<SelectBackward0>))],\n",
       " [('realize', tensor(0.6913, device='cuda:0', grad_fn=<SelectBackward0>)),\n",
       "  ('frustrate', tensor(0.6784, device='cuda:0', grad_fn=<SelectBackward0>)),\n",
       "  ('happen', tensor(0.6433, device='cuda:0', grad_fn=<SelectBackward0>)),\n",
       "  ('notice', tensor(0.6358, device='cuda:0', grad_fn=<SelectBackward0>)),\n",
       "  ('suddenly', tensor(0.6261, device='cuda:0', grad_fn=<SelectBackward0>)),\n",
       "  ('halfway', tensor(0.6111, device='cuda:0', grad_fn=<SelectBackward0>)),\n",
       "  ('frustrated', tensor(0.5867, device='cuda:0', grad_fn=<SelectBackward0>)),\n",
       "  ('annoy', tensor(0.5838, device='cuda:0', grad_fn=<SelectBackward0>)),\n",
       "  ('go', tensor(0.5821, device='cuda:0', grad_fn=<SelectBackward0>)),\n",
       "  ('unsatisfying', tensor(0.5759, device='cuda:0', grad_fn=<SelectBackward0>)),\n",
       "  ('painful', tensor(0.5758, device='cuda:0', grad_fn=<SelectBackward0>)),\n",
       "  ('realise', tensor(0.5662, device='cuda:0', grad_fn=<SelectBackward0>)),\n",
       "  ('spoil', tensor(0.5662, device='cuda:0', grad_fn=<SelectBackward0>)),\n",
       "  ('fear', tensor(0.5646, device='cuda:0', grad_fn=<SelectBackward0>)),\n",
       "  ('sour', tensor(0.5624, device='cuda:0', grad_fn=<SelectBackward0>)),\n",
       "  ('wrong', tensor(0.5565, device='cuda:0', grad_fn=<SelectBackward0>)),\n",
       "  ('sure', tensor(0.5516, device='cuda:0', grad_fn=<SelectBackward0>)),\n",
       "  ('stuck', tensor(0.5509, device='cuda:0', grad_fn=<SelectBackward0>)),\n",
       "  ('frequently', tensor(0.5450, device='cuda:0', grad_fn=<SelectBackward0>)),\n",
       "  ('suck', tensor(0.5419, device='cuda:0', grad_fn=<SelectBackward0>))],\n",
       " [('display', tensor(0.6131, device='cuda:0', grad_fn=<SelectBackward0>)),\n",
       "  ('card', tensor(0.5886, device='cuda:0', grad_fn=<SelectBackward0>)),\n",
       "  ('discard', tensor(0.5586, device='cuda:0', grad_fn=<SelectBackward0>)),\n",
       "  ('pair', tensor(0.5400, device='cuda:0', grad_fn=<SelectBackward0>)),\n",
       "  ('pile', tensor(0.5231, device='cuda:0', grad_fn=<SelectBackward0>)),\n",
       "  ('joker', tensor(0.5014, device='cuda:0', grad_fn=<SelectBackward0>)),\n",
       "  ('column', tensor(0.4973, device='cuda:0', grad_fn=<SelectBackward0>)),\n",
       "  ('bird', tensor(0.4776, device='cuda:0', grad_fn=<SelectBackward0>)),\n",
       "  ('colour', tensor(0.4699, device='cuda:0', grad_fn=<SelectBackward0>)),\n",
       "  ('suit', tensor(0.4637, device='cuda:0', grad_fn=<SelectBackward0>)),\n",
       "  ('artifact', tensor(0.4523, device='cuda:0', grad_fn=<SelectBackward0>)),\n",
       "  ('tile', tensor(0.4491, device='cuda:0', grad_fn=<SelectBackward0>)),\n",
       "  ('color', tensor(0.4481, device='cuda:0', grad_fn=<SelectBackward0>)),\n",
       "  ('investor', tensor(0.4476, device='cuda:0', grad_fn=<SelectBackward0>)),\n",
       "  ('randomly', tensor(0.4439, device='cuda:0', grad_fn=<SelectBackward0>)),\n",
       "  ('adjacent', tensor(0.4439, device='cuda:0', grad_fn=<SelectBackward0>)),\n",
       "  ('public', tensor(0.4432, device='cuda:0', grad_fn=<SelectBackward0>)),\n",
       "  ('directly', tensor(0.4432, device='cuda:0', grad_fn=<SelectBackward0>)),\n",
       "  ('flower', tensor(0.4418, device='cuda:0', grad_fn=<SelectBackward0>)),\n",
       "  ('seed', tensor(0.4401, device='cuda:0', grad_fn=<SelectBackward0>))],\n",
       " [('theme', tensor(0.7121, device='cuda:0', grad_fn=<SelectBackward0>)),\n",
       "  ('setting', tensor(0.6752, device='cuda:0', grad_fn=<SelectBackward0>)),\n",
       "  ('themed', tensor(0.6581, device='cuda:0', grad_fn=<SelectBackward0>)),\n",
       "  ('thematically', tensor(0.6545, device='cuda:0', grad_fn=<SelectBackward0>)),\n",
       "  ('theming', tensor(0.6365, device='cuda:0', grad_fn=<SelectBackward0>)),\n",
       "  ('history', tensor(0.6187, device='cuda:0', grad_fn=<SelectBackward0>)),\n",
       "  ('representation',\n",
       "   tensor(0.6141, device='cuda:0', grad_fn=<SelectBackward0>)),\n",
       "  ('medieval', tensor(0.6003, device='cuda:0', grad_fn=<SelectBackward0>)),\n",
       "  ('fiction', tensor(0.5950, device='cuda:0', grad_fn=<SelectBackward0>)),\n",
       "  ('evolution', tensor(0.5949, device='cuda:0', grad_fn=<SelectBackward0>)),\n",
       "  ('classical', tensor(0.5865, device='cuda:0', grad_fn=<SelectBackward0>)),\n",
       "  ('simulation', tensor(0.5856, device='cuda:0', grad_fn=<SelectBackward0>)),\n",
       "  ('universe', tensor(0.5777, device='cuda:0', grad_fn=<SelectBackward0>)),\n",
       "  ('sim', tensor(0.5777, device='cuda:0', grad_fn=<SelectBackward0>)),\n",
       "  ('historic', tensor(0.5697, device='cuda:0', grad_fn=<SelectBackward0>)),\n",
       "  ('warfare', tensor(0.5696, device='cuda:0', grad_fn=<SelectBackward0>)),\n",
       "  ('trope', tensor(0.5636, device='cuda:0', grad_fn=<SelectBackward0>)),\n",
       "  ('fi', tensor(0.5632, device='cuda:0', grad_fn=<SelectBackward0>)),\n",
       "  ('sci', tensor(0.5566, device='cuda:0', grad_fn=<SelectBackward0>)),\n",
       "  ('mythos', tensor(0.5549, device='cuda:0', grad_fn=<SelectBackward0>))],\n",
       " [('expansions', tensor(0.6641, device='cuda:0', grad_fn=<SelectBackward0>)),\n",
       "  ('expansion', tensor(0.6453, device='cuda:0', grad_fn=<SelectBackward0>)),\n",
       "  ('promos', tensor(0.6000, device='cuda:0', grad_fn=<SelectBackward0>)),\n",
       "  ('ed', tensor(0.5879, device='cuda:0', grad_fn=<SelectBackward0>)),\n",
       "  ('standalone', tensor(0.5769, device='cuda:0', grad_fn=<SelectBackward0>)),\n",
       "  ('exp', tensor(0.5751, device='cuda:0', grad_fn=<SelectBackward0>)),\n",
       "  ('undertow', tensor(0.5722, device='cuda:0', grad_fn=<SelectBackward0>)),\n",
       "  ('bundle', tensor(0.5664, device='cuda:0', grad_fn=<SelectBackward0>)),\n",
       "  ('module', tensor(0.5611, device='cuda:0', grad_fn=<SelectBackward0>)),\n",
       "  ('tuscany', tensor(0.5587, device='cuda:0', grad_fn=<SelectBackward0>)),\n",
       "  ('sequel', tensor(0.5468, device='cuda:0', grad_fn=<SelectBackward0>)),\n",
       "  ('gamette', tensor(0.5406, device='cuda:0', grad_fn=<SelectBackward0>)),\n",
       "  ('on', tensor(0.5364, device='cuda:0', grad_fn=<SelectBackward0>)),\n",
       "  ('dragonspire', tensor(0.5349, device='cuda:0', grad_fn=<SelectBackward0>)),\n",
       "  ('playmat', tensor(0.5343, device='cuda:0', grad_fn=<SelectBackward0>)),\n",
       "  ('addon', tensor(0.5314, device='cuda:0', grad_fn=<SelectBackward0>)),\n",
       "  ('extension', tensor(0.5312, device='cuda:0', grad_fn=<SelectBackward0>)),\n",
       "  ('heroscape', tensor(0.5269, device='cuda:0', grad_fn=<SelectBackward0>)),\n",
       "  ('bling', tensor(0.5195, device='cuda:0', grad_fn=<SelectBackward0>)),\n",
       "  ('kit', tensor(0.5174, device='cuda:0', grad_fn=<SelectBackward0>))],\n",
       " [('bruno', tensor(0.6578, device='cuda:0', grad_fn=<SelectBackward0>)),\n",
       "  ('cathala', tensor(0.6492, device='cuda:0', grad_fn=<SelectBackward0>)),\n",
       "  ('richard', tensor(0.6450, device='cuda:0', grad_fn=<SelectBackward0>)),\n",
       "  ('alexander', tensor(0.6311, device='cuda:0', grad_fn=<SelectBackward0>)),\n",
       "  ('eric', tensor(0.6172, device='cuda:0', grad_fn=<SelectBackward0>)),\n",
       "  ('tascini', tensor(0.6142, device='cuda:0', grad_fn=<SelectBackward0>)),\n",
       "  ('shem', tensor(0.6106, device='cuda:0', grad_fn=<SelectBackward0>)),\n",
       "  ('lang', tensor(0.6091, device='cuda:0', grad_fn=<SelectBackward0>)),\n",
       "  ('oink', tensor(0.6082, device='cuda:0', grad_fn=<SelectBackward0>)),\n",
       "  ('nominee', tensor(0.6028, device='cuda:0', grad_fn=<SelectBackward0>)),\n",
       "  ('beloved', tensor(0.6012, device='cuda:0', grad_fn=<SelectBackward0>)),\n",
       "  ('borg', tensor(0.5984, device='cuda:0', grad_fn=<SelectBackward0>)),\n",
       "  ('luciani', tensor(0.5951, device='cuda:0', grad_fn=<SelectBackward0>)),\n",
       "  ('faidutti', tensor(0.5859, device='cuda:0', grad_fn=<SelectBackward0>)),\n",
       "  ('daniele', tensor(0.5787, device='cuda:0', grad_fn=<SelectBackward0>)),\n",
       "  ('garphill', tensor(0.5782, device='cuda:0', grad_fn=<SelectBackward0>)),\n",
       "  ('timeless', tensor(0.5776, device='cuda:0', grad_fn=<SelectBackward0>)),\n",
       "  ('restoration', tensor(0.5767, device='cuda:0', grad_fn=<SelectBackward0>)),\n",
       "  ('steding', tensor(0.5733, device='cuda:0', grad_fn=<SelectBackward0>)),\n",
       "  ('sierra', tensor(0.5696, device='cuda:0', grad_fn=<SelectBackward0>))]]"
      ]
     },
     "execution_count": 43,
     "metadata": {},
     "output_type": "execute_result"
    }
   ],
   "execution_count": 43
  },
  {
   "metadata": {},
   "cell_type": "code",
   "source": [
    "corpus_path = \"../dataset/output/default_sentences/pre_processed.310k.csv\"\n",
    "test_corpus_path = \"../dataset/output/default_sentences/pre_processed.310k.test.csv\"\n",
    "\n",
    "manager = ABAEManager.from_scratch(runs[0]['config'], corpus_path)\n",
    "manager.train(corpus_path, verbose=2)\n",
    "res = manager.evaluate([20, 10, 5, 3], test_corpus=test_corpus_path)"
   ],
   "id": "4bee02c7feb5ce8b",
   "outputs": [],
   "execution_count": null
  },
  {
   "metadata": {},
   "cell_type": "code",
   "outputs": [],
   "execution_count": null,
   "source": "",
   "id": "adb3f83a76b0c5b1"
  }
 ],
 "metadata": {
  "kernelspec": {
   "display_name": "Python 3",
   "language": "python",
   "name": "python3"
  },
  "language_info": {
   "codemirror_mode": {
    "name": "ipython",
    "version": 2
   },
   "file_extension": ".py",
   "mimetype": "text/x-python",
   "name": "python",
   "nbconvert_exporter": "python",
   "pygments_lexer": "ipython2",
   "version": "2.7.6"
  }
 },
 "nbformat": 4,
 "nbformat_minor": 5
}

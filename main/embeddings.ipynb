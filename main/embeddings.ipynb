{
 "cells": [
  {
   "metadata": {},
   "cell_type": "markdown",
   "source": [
    "## Generation of the embeddings model used by both ABAE and graph.\n",
    "This is just for the first step for ABAE. <br>\n"
   ],
   "id": "8f43ae063867c75f"
  },
  {
   "metadata": {
    "ExecuteTime": {
     "end_time": "2025-03-09T16:22:03.259989Z",
     "start_time": "2025-03-09T16:22:02.478776Z"
    }
   },
   "cell_type": "code",
   "source": "from main.embedding import Word2VecWrapper",
   "id": "bd7a95a2a02d62db",
   "outputs": [],
   "execution_count": 1
  },
  {
   "metadata": {
    "ExecuteTime": {
     "end_time": "2025-03-09T16:22:13.208022Z",
     "start_time": "2025-03-09T16:22:03.909041Z"
    }
   },
   "cell_type": "code",
   "source": [
    "# Toy example of usage\n",
    "folder_path = \"./output/default/80k\"\n",
    "corpus_file_path = \"./dataset/output/default/pre_processed.80k.csv\"\n",
    "\n",
    "word2vec_wrapper = Word2VecWrapper.from_scratch(corpus_file_path, folder_path, persist=False)\n",
    "wv = word2vec_wrapper.model.wv"
   ],
   "id": "5fb461d2897c9702",
   "outputs": [
    {
     "data": {
      "text/plain": [
       "Pandas Apply:   0%|          | 0/60640 [00:00<?, ?it/s]"
      ],
      "application/vnd.jupyter.widget-view+json": {
       "version_major": 2,
       "version_minor": 0,
       "model_id": "b6912f6dcf714a35a12581ae99632fa6"
      }
     },
     "metadata": {},
     "output_type": "display_data"
    },
    {
     "name": "stderr",
     "output_type": "stream",
     "text": [
      "D:\\PycharmProjects\\nlp-course-project\\.venv\\Lib\\site-packages\\gensim\\models\\keyedvectors.py:551: UserWarning: Adding single vectors to a KeyedVectors which grows by one each time can be costly. Consider adding in batches or preallocating to the required size.\n",
      "  warnings.warn(\n"
     ]
    }
   ],
   "execution_count": 2
  },
  {
   "metadata": {
    "ExecuteTime": {
     "end_time": "2025-03-09T16:22:38.202130Z",
     "start_time": "2025-03-09T16:22:38.198126Z"
    }
   },
   "cell_type": "code",
   "source": "len(wv.index_to_key)  # Words in our embedding model",
   "id": "776da4879b7f1a72",
   "outputs": [
    {
     "data": {
      "text/plain": [
       "8667"
      ]
     },
     "execution_count": 3,
     "metadata": {},
     "output_type": "execute_result"
    }
   ],
   "execution_count": 3
  },
  {
   "metadata": {
    "ExecuteTime": {
     "end_time": "2025-03-09T16:32:06.497585Z",
     "start_time": "2025-03-09T16:32:06.491150Z"
    }
   },
   "cell_type": "code",
   "source": "wv.most_similar(\"luck\")",
   "id": "83320c61df0a3f37",
   "outputs": [
    {
     "data": {
      "text/plain": [
       "[('randomness', 0.6285845041275024),\n",
       " ('random', 0.5718682408332825),\n",
       " ('mercy', 0.5319719910621643),\n",
       " ('rng', 0.5216178894042969),\n",
       " ('chaos', 0.4400442838668823),\n",
       " ('lucky', 0.43027904629707336),\n",
       " ('timing', 0.42571821808815),\n",
       " ('unlucky', 0.4196769893169403),\n",
       " ('boundary', 0.41387417912483215),\n",
       " ('mitigate', 0.3973115086555481)]"
      ]
     },
     "execution_count": 13,
     "metadata": {},
     "output_type": "execute_result"
    }
   ],
   "execution_count": 13
  },
  {
   "metadata": {
    "ExecuteTime": {
     "end_time": "2025-03-09T16:31:29.971323Z",
     "start_time": "2025-03-09T16:31:29.965813Z"
    }
   },
   "cell_type": "code",
   "source": "wv.most_similar(\"ap\")",
   "id": "27f96e95d5401449",
   "outputs": [
    {
     "data": {
      "text/plain": [
       "[('analysis', 0.6260102987289429),\n",
       " ('paralysis', 0.6082258224487305),\n",
       " ('downtime', 0.5778775811195374),\n",
       " ('induce', 0.5491893291473389),\n",
       " ('prone', 0.5369951128959656),\n",
       " ('kingmake', 0.4877948760986328),\n",
       " ('excessive', 0.46211689710617065),\n",
       " ('stalemate', 0.4602574110031128),\n",
       " ('slow', 0.4512106478214264),\n",
       " ('suffer', 0.4451979994773865)]"
      ]
     },
     "execution_count": 12,
     "metadata": {},
     "output_type": "execute_result"
    }
   ],
   "execution_count": 12
  }
 ],
 "metadata": {
  "kernelspec": {
   "display_name": "Python 3",
   "language": "python",
   "name": "python3"
  },
  "language_info": {
   "codemirror_mode": {
    "name": "ipython",
    "version": 2
   },
   "file_extension": ".py",
   "mimetype": "text/x-python",
   "name": "python",
   "nbconvert_exporter": "python",
   "pygments_lexer": "ipython2",
   "version": "2.7.6"
  }
 },
 "nbformat": 4,
 "nbformat_minor": 5
}

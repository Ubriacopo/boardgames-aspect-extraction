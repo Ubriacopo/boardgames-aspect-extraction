{
 "cells": [
  {
   "metadata": {},
   "cell_type": "code",
   "outputs": [],
   "execution_count": null,
   "source": [
    "from core.service.bgg_corpus_service import BggCorpusDownloaderService\n",
    "from core.service.bgg_retriever_service import BggRetrieverService\n",
    "\n",
    "corpus_service = BggCorpusDownloaderService(\n",
    "    BggRetrieverService(BggCorpusDownloaderService.BGG_URL), \"./../../resources/2024-08-18.csv\"\n",
    ")\n",
    "\n",
    "corpus_service.download_corpus(20)"
   ],
   "id": "c16c2b1aba1d2f9a"
  }
 ],
 "metadata": {
  "kernelspec": {
   "display_name": "Python 3",
   "language": "python",
   "name": "python3"
  },
  "language_info": {
   "codemirror_mode": {
    "name": "ipython",
    "version": 2
   },
   "file_extension": ".py",
   "mimetype": "text/x-python",
   "name": "python",
   "nbconvert_exporter": "python",
   "pygments_lexer": "ipython2",
   "version": "2.7.6"
  }
 },
 "nbformat": 4,
 "nbformat_minor": 5
}

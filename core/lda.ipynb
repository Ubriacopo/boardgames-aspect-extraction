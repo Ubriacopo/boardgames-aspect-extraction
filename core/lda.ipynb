{
 "cells": [
  {
   "metadata": {},
   "cell_type": "code",
   "source": [
    "import os\n",
    "\n",
    "os.environ['KERAS_BACKEND'] = \"torch\""
   ],
   "id": "2c88b1ad08831183",
   "outputs": [],
   "execution_count": null
  },
  {
   "metadata": {},
   "cell_type": "code",
   "outputs": [],
   "execution_count": null,
   "source": [
    "import pandas as pd\n",
    "\n",
    "text_dataset: list[str] = pd.read_csv(\"../output/dataset/pre-processed/100k.preprocessed.csv\")[\"comments\"]"
   ],
   "id": "5e656554924627bd"
  },
  {
   "metadata": {},
   "cell_type": "code",
   "outputs": [],
   "execution_count": null,
   "source": [
    "from gensim import corpora\n",
    "\n",
    "# Make Dictionary:\n",
    "tokenized_text = [doc.split(\" \") for doc in text_dataset]\n",
    "dictionary = corpora.Dictionary(tokenized_text)\n",
    "\n",
    "corpus = [dictionary.doc2bow(doc, allow_update=True) for doc in tokenized_text]"
   ],
   "id": "9a40c6c005d9888c"
  },
  {
   "metadata": {},
   "cell_type": "code",
   "outputs": [],
   "execution_count": null,
   "source": [
    "from gensim.models.ldamodel import LdaModel\n",
    "\n",
    "random_state = 1234\n",
    "# todo scout for best topic_size\n",
    "model = LdaModel(\n",
    "    corpus=corpus, id2word=dictionary, num_topics=14,\n",
    "    random_state=random_state, chunksize=64, per_word_topics=True, passes=10\n",
    ")"
   ],
   "id": "48c7e6fe74e37c13"
  },
  {
   "metadata": {},
   "cell_type": "code",
   "outputs": [],
   "execution_count": null,
   "source": [
    "from pprint import pprint\n",
    "\n",
    "pprint(model.print_topics(num_words=20))\n",
    "doc_lda = model[corpus]"
   ],
   "id": "5183be7d53c248ac"
  },
  {
   "metadata": {},
   "cell_type": "code",
   "outputs": [],
   "execution_count": null,
   "source": [
    "from gensim.models import CoherenceModel\n",
    "\n",
    "# Evaluation\n",
    "topn = 10\n",
    "coh_model = CoherenceModel(model, corpus=corpus, coherence='u_mass', topn=10)"
   ],
   "id": "29e0bd286e6352ef"
  },
  {
   "metadata": {},
   "cell_type": "code",
   "outputs": [],
   "execution_count": null,
   "source": "coh_model.get_coherence_per_topic()",
   "id": "392e60fc07311e30"
  },
  {
   "metadata": {},
   "cell_type": "code",
   "outputs": [],
   "execution_count": null,
   "source": [
    "import pyLDAvis\n",
    "import pyLDAvis.gensim_models as gensimvis\n",
    "\n",
    "pyLDAvis.enable_notebook()\n",
    "vis = gensimvis.prepare(model, corpus, dictionary)\n",
    "vis"
   ],
   "id": "6f146fd4328255c1"
  },
  {
   "metadata": {},
   "cell_type": "code",
   "outputs": [],
   "execution_count": null,
   "source": "",
   "id": "da88d80697d294b9"
  }
 ],
 "metadata": {
  "kernelspec": {
   "display_name": "Python 3",
   "language": "python",
   "name": "python3"
  },
  "language_info": {
   "codemirror_mode": {
    "name": "ipython",
    "version": 2
   },
   "file_extension": ".py",
   "mimetype": "text/x-python",
   "name": "python",
   "nbconvert_exporter": "python",
   "pygments_lexer": "ipython2",
   "version": "2.7.6"
  }
 },
 "nbformat": 4,
 "nbformat_minor": 5
}

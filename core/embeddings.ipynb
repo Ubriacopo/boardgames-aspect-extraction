{
 "cells": [
  {
   "metadata": {
    "ExecuteTime": {
     "end_time": "2024-12-21T09:49:34.520793Z",
     "start_time": "2024-12-21T09:49:34.517867Z"
    }
   },
   "cell_type": "code",
   "source": [
    "import os\n",
    "\n",
    "os.environ['KERAS_BACKEND'] = \"torch\""
   ],
   "id": "448c9236eeb58cd9",
   "outputs": [],
   "execution_count": 1
  },
  {
   "metadata": {},
   "cell_type": "markdown",
   "source": [
    "# Embeddings Model\n",
    "We use word2vec to generate the embeddings model. <br>\n",
    "What algorithm should we choose? CBOW or Skipgram? There are some tradeoffs:\n",
    "\n",
    "> CBOW is faster and does very well on frequent terms. <br> Skipgram requires more training time but\n",
    "captures better rare words context\n",
    "\n",
    "For the embedding size we start with 128 as first value."
   ],
   "id": "c8451a02b548564e"
  },
  {
   "metadata": {
    "ExecuteTime": {
     "end_time": "2024-12-21T09:49:48.733564Z",
     "start_time": "2024-12-21T09:49:38.844587Z"
    }
   },
   "cell_type": "code",
   "source": [
    "# Experiments from here on are done on the 64k ds.\n",
    "from core.utils import LoadCorpusUtility\n",
    "from core.embeddings import WordEmbedding\n",
    "\n",
    "loader = LoadCorpusUtility(min_word_count=4)\n",
    "corpus = loader.load_data(data_file_path='../data/processed-dataset/full/64k.preprocessed.csv')\n",
    "\n",
    "emb_model = WordEmbedding(128, \"../output/64k-full.embeddings.model\", min_word_count=5)\n",
    "emb_model.generate(corpus)"
   ],
   "id": "64a3a938eaccc3b",
   "outputs": [
    {
     "data": {
      "text/plain": [
       "Pandas Apply:   0%|          | 0/80286 [00:00<?, ?it/s]"
      ],
      "application/vnd.jupyter.widget-view+json": {
       "version_major": 2,
       "version_minor": 0,
       "model_id": "a7a519786a304a24bf58a4c189e9c282"
      }
     },
     "metadata": {},
     "output_type": "display_data"
    },
    {
     "data": {
      "text/plain": [
       "Pandas Apply:   0%|          | 0/80286 [00:00<?, ?it/s]"
      ],
      "application/vnd.jupyter.widget-view+json": {
       "version_major": 2,
       "version_minor": 0,
       "model_id": "03766408f9c848c2bfbfce8e1c47483f"
      }
     },
     "metadata": {},
     "output_type": "display_data"
    },
    {
     "name": "stderr",
     "output_type": "stream",
     "text": [
      "INFO:gensim.models.word2vec:collecting all words and their counts\n",
      "INFO:gensim.models.word2vec:PROGRESS: at sentence #0, processed 0 words, keeping 0 word types\n",
      "INFO:gensim.models.word2vec:PROGRESS: at sentence #10000, processed 69874 words, keeping 4753 word types\n",
      "INFO:gensim.models.word2vec:PROGRESS: at sentence #20000, processed 144092 words, keeping 5790 word types\n",
      "INFO:gensim.models.word2vec:PROGRESS: at sentence #30000, processed 218736 words, keeping 6198 word types\n",
      "INFO:gensim.models.word2vec:PROGRESS: at sentence #40000, processed 295254 words, keeping 6372 word types\n",
      "INFO:gensim.models.word2vec:PROGRESS: at sentence #50000, processed 372434 words, keeping 6413 word types\n",
      "INFO:gensim.models.word2vec:PROGRESS: at sentence #60000, processed 445937 words, keeping 6429 word types\n",
      "INFO:gensim.models.word2vec:PROGRESS: at sentence #70000, processed 517713 words, keeping 6433 word types\n",
      "INFO:gensim.models.word2vec:PROGRESS: at sentence #80000, processed 593358 words, keeping 6435 word types\n",
      "INFO:gensim.models.word2vec:collected 6436 word types from a corpus of 595438 raw words and 80286 sentences\n",
      "INFO:gensim.models.word2vec:Creating a fresh vocabulary\n",
      "DEBUG:gensim.utils:starting a new internal lifecycle event log for Word2Vec\n",
      "INFO:gensim.utils:Word2Vec lifecycle event {'msg': 'effective_min_count=5 retains 6436 unique words (100.00% of original 6436, drops 0)', 'datetime': '2024-12-21T10:49:47.183065', 'gensim': '4.3.3', 'python': '3.12.6 (tags/v3.12.6:a4a2d2b, Sep  6 2024, 20:11:23) [MSC v.1940 64 bit (AMD64)]', 'platform': 'Windows-11-10.0.26100-SP0', 'event': 'prepare_vocab'}\n",
      "INFO:gensim.utils:Word2Vec lifecycle event {'msg': 'effective_min_count=5 leaves 595438 word corpus (100.00% of original 595438, drops 0)', 'datetime': '2024-12-21T10:49:47.183065', 'gensim': '4.3.3', 'python': '3.12.6 (tags/v3.12.6:a4a2d2b, Sep  6 2024, 20:11:23) [MSC v.1940 64 bit (AMD64)]', 'platform': 'Windows-11-10.0.26100-SP0', 'event': 'prepare_vocab'}\n",
      "INFO:gensim.models.word2vec:deleting the raw counts dictionary of 6436 items\n",
      "INFO:gensim.models.word2vec:sample=0.001 downsamples 51 most-common words\n",
      "INFO:gensim.utils:Word2Vec lifecycle event {'msg': 'downsampling leaves estimated 480861.2759476973 word corpus (80.8%% of prior 595438)', 'datetime': '2024-12-21T10:49:47.203091', 'gensim': '4.3.3', 'python': '3.12.6 (tags/v3.12.6:a4a2d2b, Sep  6 2024, 20:11:23) [MSC v.1940 64 bit (AMD64)]', 'platform': 'Windows-11-10.0.26100-SP0', 'event': 'prepare_vocab'}\n",
      "INFO:gensim.models.word2vec:estimated required memory for 6436 words and 128 dimensions: 9808464 bytes\n",
      "INFO:gensim.models.word2vec:resetting layer weights\n",
      "INFO:gensim.utils:Word2Vec lifecycle event {'update': False, 'trim_rule': 'None', 'datetime': '2024-12-21T10:49:47.245153', 'gensim': '4.3.3', 'python': '3.12.6 (tags/v3.12.6:a4a2d2b, Sep  6 2024, 20:11:23) [MSC v.1940 64 bit (AMD64)]', 'platform': 'Windows-11-10.0.26100-SP0', 'event': 'build_vocab'}\n",
      "INFO:gensim.utils:Word2Vec lifecycle event {'msg': 'training model with 8 workers on 6436 vocabulary and 128 features, using sg=1 hs=0 sample=0.001 negative=5 window=5 shrink_windows=True', 'datetime': '2024-12-21T10:49:47.246155', 'gensim': '4.3.3', 'python': '3.12.6 (tags/v3.12.6:a4a2d2b, Sep  6 2024, 20:11:23) [MSC v.1940 64 bit (AMD64)]', 'platform': 'Windows-11-10.0.26100-SP0', 'event': 'train'}\n",
      "DEBUG:gensim.models.word2vec:job loop exiting, total 60 jobs\n",
      "DEBUG:gensim.models.word2vec:worker exiting, processed 7 jobs\n",
      "DEBUG:gensim.models.word2vec:worker thread finished; awaiting finish of 7 more threads\n",
      "DEBUG:gensim.models.word2vec:worker exiting, processed 7 jobs\n",
      "DEBUG:gensim.models.word2vec:worker thread finished; awaiting finish of 6 more threads\n",
      "DEBUG:gensim.models.word2vec:worker exiting, processed 8 jobs\n",
      "DEBUG:gensim.models.word2vec:worker thread finished; awaiting finish of 5 more threads\n",
      "DEBUG:gensim.models.word2vec:worker exiting, processed 6 jobs\n",
      "DEBUG:gensim.models.word2vec:worker exiting, processed 8 jobs\n",
      "DEBUG:gensim.models.word2vec:worker thread finished; awaiting finish of 4 more threads\n",
      "DEBUG:gensim.models.word2vec:worker exiting, processed 8 jobs\n",
      "DEBUG:gensim.models.word2vec:worker exiting, processed 8 jobs\n",
      "DEBUG:gensim.models.word2vec:worker exiting, processed 8 jobs\n",
      "DEBUG:gensim.models.word2vec:worker thread finished; awaiting finish of 3 more threads\n",
      "DEBUG:gensim.models.word2vec:worker thread finished; awaiting finish of 2 more threads\n",
      "DEBUG:gensim.models.word2vec:worker thread finished; awaiting finish of 1 more threads\n",
      "DEBUG:gensim.models.word2vec:worker thread finished; awaiting finish of 0 more threads\n",
      "INFO:gensim.models.word2vec:EPOCH 0: training on 595438 raw words (480991 effective words) took 0.2s, 2183719 effective words/s\n",
      "DEBUG:gensim.models.word2vec:job loop exiting, total 60 jobs\n",
      "DEBUG:gensim.models.word2vec:worker exiting, processed 7 jobs\n",
      "DEBUG:gensim.models.word2vec:worker thread finished; awaiting finish of 7 more threads\n",
      "DEBUG:gensim.models.word2vec:worker exiting, processed 7 jobs\n",
      "DEBUG:gensim.models.word2vec:worker exiting, processed 7 jobs\n",
      "DEBUG:gensim.models.word2vec:worker exiting, processed 7 jobs\n",
      "DEBUG:gensim.models.word2vec:worker thread finished; awaiting finish of 6 more threads\n",
      "DEBUG:gensim.models.word2vec:worker exiting, processed 8 jobs\n",
      "DEBUG:gensim.models.word2vec:worker exiting, processed 8 jobs\n",
      "DEBUG:gensim.models.word2vec:worker exiting, processed 8 jobs\n",
      "DEBUG:gensim.models.word2vec:worker thread finished; awaiting finish of 5 more threads\n",
      "DEBUG:gensim.models.word2vec:worker exiting, processed 8 jobs\n",
      "DEBUG:gensim.models.word2vec:worker thread finished; awaiting finish of 4 more threads\n",
      "DEBUG:gensim.models.word2vec:worker thread finished; awaiting finish of 3 more threads\n",
      "DEBUG:gensim.models.word2vec:worker thread finished; awaiting finish of 2 more threads\n",
      "DEBUG:gensim.models.word2vec:worker thread finished; awaiting finish of 1 more threads\n",
      "DEBUG:gensim.models.word2vec:worker thread finished; awaiting finish of 0 more threads\n",
      "INFO:gensim.models.word2vec:EPOCH 1: training on 595438 raw words (480658 effective words) took 0.3s, 1786481 effective words/s\n",
      "DEBUG:gensim.models.word2vec:job loop exiting, total 60 jobs\n",
      "DEBUG:gensim.models.word2vec:worker exiting, processed 7 jobs\n",
      "DEBUG:gensim.models.word2vec:worker thread finished; awaiting finish of 7 more threads\n",
      "DEBUG:gensim.models.word2vec:worker exiting, processed 7 jobs\n",
      "DEBUG:gensim.models.word2vec:worker thread finished; awaiting finish of 6 more threads\n",
      "DEBUG:gensim.models.word2vec:worker exiting, processed 8 jobs\n",
      "DEBUG:gensim.models.word2vec:worker thread finished; awaiting finish of 5 more threads\n",
      "DEBUG:gensim.models.word2vec:worker exiting, processed 7 jobs\n",
      "DEBUG:gensim.models.word2vec:worker exiting, processed 7 jobs\n",
      "DEBUG:gensim.models.word2vec:worker exiting, processed 8 jobs\n",
      "DEBUG:gensim.models.word2vec:worker thread finished; awaiting finish of 4 more threads\n",
      "DEBUG:gensim.models.word2vec:worker thread finished; awaiting finish of 3 more threads\n",
      "DEBUG:gensim.models.word2vec:worker exiting, processed 8 jobs\n",
      "DEBUG:gensim.models.word2vec:worker thread finished; awaiting finish of 2 more threads\n",
      "DEBUG:gensim.models.word2vec:worker exiting, processed 8 jobs\n",
      "DEBUG:gensim.models.word2vec:worker thread finished; awaiting finish of 1 more threads\n",
      "DEBUG:gensim.models.word2vec:worker thread finished; awaiting finish of 0 more threads\n",
      "INFO:gensim.models.word2vec:EPOCH 2: training on 595438 raw words (481029 effective words) took 0.3s, 1679704 effective words/s\n",
      "DEBUG:gensim.models.word2vec:job loop exiting, total 60 jobs\n",
      "DEBUG:gensim.models.word2vec:worker exiting, processed 7 jobs\n",
      "DEBUG:gensim.models.word2vec:worker thread finished; awaiting finish of 7 more threads\n",
      "DEBUG:gensim.models.word2vec:worker exiting, processed 7 jobs\n",
      "DEBUG:gensim.models.word2vec:worker exiting, processed 8 jobs\n",
      "DEBUG:gensim.models.word2vec:worker thread finished; awaiting finish of 6 more threads\n",
      "DEBUG:gensim.models.word2vec:worker exiting, processed 8 jobs\n",
      "DEBUG:gensim.models.word2vec:worker exiting, processed 7 jobs\n",
      "DEBUG:gensim.models.word2vec:worker exiting, processed 8 jobs\n",
      "DEBUG:gensim.models.word2vec:worker thread finished; awaiting finish of 5 more threads\n",
      "DEBUG:gensim.models.word2vec:worker exiting, processed 8 jobs\n",
      "DEBUG:gensim.models.word2vec:worker exiting, processed 7 jobs\n",
      "DEBUG:gensim.models.word2vec:worker thread finished; awaiting finish of 4 more threads\n",
      "DEBUG:gensim.models.word2vec:worker thread finished; awaiting finish of 3 more threads\n",
      "DEBUG:gensim.models.word2vec:worker thread finished; awaiting finish of 2 more threads\n",
      "DEBUG:gensim.models.word2vec:worker thread finished; awaiting finish of 1 more threads\n",
      "DEBUG:gensim.models.word2vec:worker thread finished; awaiting finish of 0 more threads\n",
      "INFO:gensim.models.word2vec:EPOCH 3: training on 595438 raw words (481010 effective words) took 0.3s, 1508720 effective words/s\n",
      "DEBUG:gensim.models.word2vec:job loop exiting, total 60 jobs\n",
      "DEBUG:gensim.models.word2vec:worker exiting, processed 7 jobs\n",
      "DEBUG:gensim.models.word2vec:worker thread finished; awaiting finish of 7 more threads\n",
      "DEBUG:gensim.models.word2vec:worker exiting, processed 7 jobs\n",
      "DEBUG:gensim.models.word2vec:worker thread finished; awaiting finish of 6 more threads\n",
      "DEBUG:gensim.models.word2vec:worker exiting, processed 7 jobs\n",
      "DEBUG:gensim.models.word2vec:worker thread finished; awaiting finish of 5 more threads\n",
      "DEBUG:gensim.models.word2vec:worker exiting, processed 8 jobs\n",
      "DEBUG:gensim.models.word2vec:worker thread finished; awaiting finish of 4 more threads\n",
      "DEBUG:gensim.models.word2vec:worker exiting, processed 8 jobs\n",
      "DEBUG:gensim.models.word2vec:worker exiting, processed 8 jobs\n",
      "DEBUG:gensim.models.word2vec:worker thread finished; awaiting finish of 3 more threads\n",
      "DEBUG:gensim.models.word2vec:worker exiting, processed 7 jobs\n",
      "DEBUG:gensim.models.word2vec:worker thread finished; awaiting finish of 2 more threads\n",
      "DEBUG:gensim.models.word2vec:worker exiting, processed 8 jobs\n",
      "DEBUG:gensim.models.word2vec:worker thread finished; awaiting finish of 1 more threads\n",
      "DEBUG:gensim.models.word2vec:worker thread finished; awaiting finish of 0 more threads\n",
      "INFO:gensim.models.word2vec:EPOCH 4: training on 595438 raw words (481064 effective words) took 0.3s, 1799783 effective words/s\n",
      "INFO:gensim.utils:Word2Vec lifecycle event {'msg': 'training on 2977190 raw words (2404752 effective words) took 1.5s, 1632310 effective words/s', 'datetime': '2024-12-21T10:49:48.719781', 'gensim': '4.3.3', 'python': '3.12.6 (tags/v3.12.6:a4a2d2b, Sep  6 2024, 20:11:23) [MSC v.1940 64 bit (AMD64)]', 'platform': 'Windows-11-10.0.26100-SP0', 'event': 'train'}\n",
      "INFO:gensim.utils:Word2Vec lifecycle event {'params': 'Word2Vec<vocab=6436, vector_size=128, alpha=0.025>', 'datetime': '2024-12-21T10:49:48.719781', 'gensim': '4.3.3', 'python': '3.12.6 (tags/v3.12.6:a4a2d2b, Sep  6 2024, 20:11:23) [MSC v.1940 64 bit (AMD64)]', 'platform': 'Windows-11-10.0.26100-SP0', 'event': 'created'}\n",
      "INFO:gensim.utils:Word2Vec lifecycle event {'fname_or_handle': '../output/64k-full.embeddings.model', 'separately': 'None', 'sep_limit': 10485760, 'ignore': frozenset(), 'datetime': '2024-12-21T10:49:48.720782', 'gensim': '4.3.3', 'python': '3.12.6 (tags/v3.12.6:a4a2d2b, Sep  6 2024, 20:11:23) [MSC v.1940 64 bit (AMD64)]', 'platform': 'Windows-11-10.0.26100-SP0', 'event': 'saving'}\n",
      "INFO:gensim.utils:not storing attribute cum_table\n",
      "DEBUG:smart_open.smart_open_lib:{'uri': '../output/64k-full.embeddings.model', 'mode': 'wb', 'buffering': -1, 'encoding': None, 'errors': None, 'newline': None, 'closefd': True, 'opener': None, 'compression': 'infer_from_extension', 'transport_params': None}\n",
      "INFO:gensim.utils:saved ../output/64k-full.embeddings.model\n"
     ]
    }
   ],
   "execution_count": 2
  },
  {
   "metadata": {
    "ExecuteTime": {
     "end_time": "2024-12-21T10:18:22.087279Z",
     "start_time": "2024-12-21T10:18:19.681306Z"
    }
   },
   "cell_type": "code",
   "source": [
    "# Experiments from here on are done on the 64k ds.\n",
    "from core.utils import LoadCorpusUtility\n",
    "from core.embeddings import WordEmbedding\n",
    "\n",
    "loader = LoadCorpusUtility(min_word_count=4)\n",
    "corpus = loader.load_data(data_file_path='../data/processed-dataset/full/64k.preprocessed.csv')\n",
    "\n",
    "emb_model = WordEmbedding(128, \"../output/64k-full.embeddings-sg.model\", min_word_count=5)\n",
    "emb_model.generate(corpus, sg=True)"
   ],
   "id": "b54af92511c81e1",
   "outputs": [
    {
     "data": {
      "text/plain": [
       "Pandas Apply:   0%|          | 0/80286 [00:00<?, ?it/s]"
      ],
      "application/vnd.jupyter.widget-view+json": {
       "version_major": 2,
       "version_minor": 0,
       "model_id": "cbf2b7c08b9d43fca00ffd74ee8e36d9"
      }
     },
     "metadata": {},
     "output_type": "display_data"
    },
    {
     "data": {
      "text/plain": [
       "Pandas Apply:   0%|          | 0/80286 [00:00<?, ?it/s]"
      ],
      "application/vnd.jupyter.widget-view+json": {
       "version_major": 2,
       "version_minor": 0,
       "model_id": "61811c48721a44fabc5be60e41d89897"
      }
     },
     "metadata": {},
     "output_type": "display_data"
    },
    {
     "name": "stderr",
     "output_type": "stream",
     "text": [
      "INFO:gensim.models.word2vec:collecting all words and their counts\n",
      "INFO:gensim.models.word2vec:PROGRESS: at sentence #0, processed 0 words, keeping 0 word types\n",
      "INFO:gensim.models.word2vec:PROGRESS: at sentence #10000, processed 69874 words, keeping 4753 word types\n",
      "INFO:gensim.models.word2vec:PROGRESS: at sentence #20000, processed 144092 words, keeping 5790 word types\n",
      "INFO:gensim.models.word2vec:PROGRESS: at sentence #30000, processed 218736 words, keeping 6198 word types\n",
      "INFO:gensim.models.word2vec:PROGRESS: at sentence #40000, processed 295254 words, keeping 6372 word types\n",
      "INFO:gensim.models.word2vec:PROGRESS: at sentence #50000, processed 372434 words, keeping 6413 word types\n",
      "INFO:gensim.models.word2vec:PROGRESS: at sentence #60000, processed 445937 words, keeping 6429 word types\n",
      "INFO:gensim.models.word2vec:PROGRESS: at sentence #70000, processed 517713 words, keeping 6433 word types\n",
      "INFO:gensim.models.word2vec:PROGRESS: at sentence #80000, processed 593358 words, keeping 6435 word types\n",
      "INFO:gensim.models.word2vec:collected 6436 word types from a corpus of 595438 raw words and 80286 sentences\n",
      "INFO:gensim.models.word2vec:Creating a fresh vocabulary\n",
      "DEBUG:gensim.utils:starting a new internal lifecycle event log for Word2Vec\n",
      "INFO:gensim.utils:Word2Vec lifecycle event {'msg': 'effective_min_count=5 retains 6436 unique words (100.00% of original 6436, drops 0)', 'datetime': '2024-12-21T11:18:20.825527', 'gensim': '4.3.3', 'python': '3.12.6 (tags/v3.12.6:a4a2d2b, Sep  6 2024, 20:11:23) [MSC v.1940 64 bit (AMD64)]', 'platform': 'Windows-11-10.0.26100-SP0', 'event': 'prepare_vocab'}\n",
      "INFO:gensim.utils:Word2Vec lifecycle event {'msg': 'effective_min_count=5 leaves 595438 word corpus (100.00% of original 595438, drops 0)', 'datetime': '2024-12-21T11:18:20.826527', 'gensim': '4.3.3', 'python': '3.12.6 (tags/v3.12.6:a4a2d2b, Sep  6 2024, 20:11:23) [MSC v.1940 64 bit (AMD64)]', 'platform': 'Windows-11-10.0.26100-SP0', 'event': 'prepare_vocab'}\n",
      "INFO:gensim.models.word2vec:deleting the raw counts dictionary of 6436 items\n",
      "INFO:gensim.models.word2vec:sample=0.001 downsamples 51 most-common words\n",
      "INFO:gensim.utils:Word2Vec lifecycle event {'msg': 'downsampling leaves estimated 480861.2759476973 word corpus (80.8%% of prior 595438)', 'datetime': '2024-12-21T11:18:20.847563', 'gensim': '4.3.3', 'python': '3.12.6 (tags/v3.12.6:a4a2d2b, Sep  6 2024, 20:11:23) [MSC v.1940 64 bit (AMD64)]', 'platform': 'Windows-11-10.0.26100-SP0', 'event': 'prepare_vocab'}\n",
      "INFO:gensim.models.word2vec:estimated required memory for 6436 words and 128 dimensions: 9808464 bytes\n",
      "INFO:gensim.models.word2vec:resetting layer weights\n",
      "INFO:gensim.utils:Word2Vec lifecycle event {'update': False, 'trim_rule': 'None', 'datetime': '2024-12-21T11:18:20.884769', 'gensim': '4.3.3', 'python': '3.12.6 (tags/v3.12.6:a4a2d2b, Sep  6 2024, 20:11:23) [MSC v.1940 64 bit (AMD64)]', 'platform': 'Windows-11-10.0.26100-SP0', 'event': 'build_vocab'}\n",
      "INFO:gensim.utils:Word2Vec lifecycle event {'msg': 'training model with 8 workers on 6436 vocabulary and 128 features, using sg=1 hs=0 sample=0.001 negative=5 window=5 shrink_windows=True', 'datetime': '2024-12-21T11:18:20.885766', 'gensim': '4.3.3', 'python': '3.12.6 (tags/v3.12.6:a4a2d2b, Sep  6 2024, 20:11:23) [MSC v.1940 64 bit (AMD64)]', 'platform': 'Windows-11-10.0.26100-SP0', 'event': 'train'}\n",
      "DEBUG:gensim.models.word2vec:job loop exiting, total 60 jobs\n",
      "DEBUG:gensim.models.word2vec:worker exiting, processed 7 jobs\n",
      "DEBUG:gensim.models.word2vec:worker thread finished; awaiting finish of 7 more threads\n",
      "DEBUG:gensim.models.word2vec:worker exiting, processed 7 jobs\n",
      "DEBUG:gensim.models.word2vec:worker thread finished; awaiting finish of 6 more threads\n",
      "DEBUG:gensim.models.word2vec:worker exiting, processed 7 jobs\n",
      "DEBUG:gensim.models.word2vec:worker exiting, processed 7 jobs\n",
      "DEBUG:gensim.models.word2vec:worker thread finished; awaiting finish of 5 more threads\n",
      "DEBUG:gensim.models.word2vec:worker exiting, processed 8 jobs\n",
      "DEBUG:gensim.models.word2vec:worker thread finished; awaiting finish of 4 more threads\n",
      "DEBUG:gensim.models.word2vec:worker exiting, processed 8 jobs\n",
      "DEBUG:gensim.models.word2vec:worker thread finished; awaiting finish of 3 more threads\n",
      "DEBUG:gensim.models.word2vec:worker exiting, processed 8 jobs\n",
      "DEBUG:gensim.models.word2vec:worker thread finished; awaiting finish of 2 more threads\n",
      "DEBUG:gensim.models.word2vec:worker thread finished; awaiting finish of 1 more threads\n",
      "DEBUG:gensim.models.word2vec:worker exiting, processed 8 jobs\n",
      "DEBUG:gensim.models.word2vec:worker thread finished; awaiting finish of 0 more threads\n",
      "INFO:gensim.models.word2vec:EPOCH 0: training on 595438 raw words (480643 effective words) took 0.2s, 2201203 effective words/s\n",
      "DEBUG:gensim.models.word2vec:job loop exiting, total 60 jobs\n",
      "DEBUG:gensim.models.word2vec:worker exiting, processed 7 jobs\n",
      "DEBUG:gensim.models.word2vec:worker thread finished; awaiting finish of 7 more threads\n",
      "DEBUG:gensim.models.word2vec:worker exiting, processed 7 jobs\n",
      "DEBUG:gensim.models.word2vec:worker exiting, processed 7 jobs\n",
      "DEBUG:gensim.models.word2vec:worker thread finished; awaiting finish of 6 more threads\n",
      "DEBUG:gensim.models.word2vec:worker exiting, processed 7 jobs\n",
      "DEBUG:gensim.models.word2vec:worker exiting, processed 8 jobs\n",
      "DEBUG:gensim.models.word2vec:worker exiting, processed 8 jobs\n",
      "DEBUG:gensim.models.word2vec:worker thread finished; awaiting finish of 5 more threads\n",
      "DEBUG:gensim.models.word2vec:worker exiting, processed 8 jobs\n",
      "DEBUG:gensim.models.word2vec:worker thread finished; awaiting finish of 4 more threads\n",
      "DEBUG:gensim.models.word2vec:worker thread finished; awaiting finish of 3 more threads\n",
      "DEBUG:gensim.models.word2vec:worker thread finished; awaiting finish of 2 more threads\n",
      "DEBUG:gensim.models.word2vec:worker thread finished; awaiting finish of 1 more threads\n",
      "DEBUG:gensim.models.word2vec:worker exiting, processed 8 jobs\n",
      "DEBUG:gensim.models.word2vec:worker thread finished; awaiting finish of 0 more threads\n",
      "INFO:gensim.models.word2vec:EPOCH 1: training on 595438 raw words (480892 effective words) took 0.2s, 2329693 effective words/s\n",
      "DEBUG:gensim.models.word2vec:job loop exiting, total 60 jobs\n",
      "DEBUG:gensim.models.word2vec:worker exiting, processed 8 jobs\n",
      "DEBUG:gensim.models.word2vec:worker thread finished; awaiting finish of 7 more threads\n",
      "DEBUG:gensim.models.word2vec:worker exiting, processed 7 jobs\n",
      "DEBUG:gensim.models.word2vec:worker thread finished; awaiting finish of 6 more threads\n",
      "DEBUG:gensim.models.word2vec:worker exiting, processed 7 jobs\n",
      "DEBUG:gensim.models.word2vec:worker thread finished; awaiting finish of 5 more threads\n",
      "DEBUG:gensim.models.word2vec:worker exiting, processed 7 jobs\n",
      "DEBUG:gensim.models.word2vec:worker exiting, processed 7 jobs\n",
      "DEBUG:gensim.models.word2vec:worker exiting, processed 8 jobs\n",
      "DEBUG:gensim.models.word2vec:worker exiting, processed 8 jobs\n",
      "DEBUG:gensim.models.word2vec:worker thread finished; awaiting finish of 4 more threads\n",
      "DEBUG:gensim.models.word2vec:worker exiting, processed 8 jobs\n",
      "DEBUG:gensim.models.word2vec:worker thread finished; awaiting finish of 3 more threads\n",
      "DEBUG:gensim.models.word2vec:worker thread finished; awaiting finish of 2 more threads\n",
      "DEBUG:gensim.models.word2vec:worker thread finished; awaiting finish of 1 more threads\n",
      "DEBUG:gensim.models.word2vec:worker thread finished; awaiting finish of 0 more threads\n",
      "INFO:gensim.models.word2vec:EPOCH 2: training on 595438 raw words (480994 effective words) took 0.2s, 2009680 effective words/s\n",
      "DEBUG:gensim.models.word2vec:job loop exiting, total 60 jobs\n",
      "DEBUG:gensim.models.word2vec:worker exiting, processed 7 jobs\n",
      "DEBUG:gensim.models.word2vec:worker thread finished; awaiting finish of 7 more threads\n",
      "DEBUG:gensim.models.word2vec:worker exiting, processed 7 jobs\n",
      "DEBUG:gensim.models.word2vec:worker thread finished; awaiting finish of 6 more threads\n",
      "DEBUG:gensim.models.word2vec:worker exiting, processed 7 jobs\n",
      "DEBUG:gensim.models.word2vec:worker exiting, processed 7 jobs\n",
      "DEBUG:gensim.models.word2vec:worker exiting, processed 8 jobs\n",
      "DEBUG:gensim.models.word2vec:worker exiting, processed 8 jobs\n",
      "DEBUG:gensim.models.word2vec:worker thread finished; awaiting finish of 5 more threads\n",
      "DEBUG:gensim.models.word2vec:worker exiting, processed 8 jobs\n",
      "DEBUG:gensim.models.word2vec:worker exiting, processed 8 jobs\n",
      "DEBUG:gensim.models.word2vec:worker thread finished; awaiting finish of 4 more threads\n",
      "DEBUG:gensim.models.word2vec:worker thread finished; awaiting finish of 3 more threads\n",
      "DEBUG:gensim.models.word2vec:worker thread finished; awaiting finish of 2 more threads\n",
      "DEBUG:gensim.models.word2vec:worker thread finished; awaiting finish of 1 more threads\n",
      "DEBUG:gensim.models.word2vec:worker thread finished; awaiting finish of 0 more threads\n",
      "INFO:gensim.models.word2vec:EPOCH 3: training on 595438 raw words (480795 effective words) took 0.2s, 2098400 effective words/s\n",
      "DEBUG:gensim.models.word2vec:job loop exiting, total 60 jobs\n",
      "DEBUG:gensim.models.word2vec:worker exiting, processed 7 jobs\n",
      "DEBUG:gensim.models.word2vec:worker thread finished; awaiting finish of 7 more threads\n",
      "DEBUG:gensim.models.word2vec:worker exiting, processed 7 jobs\n",
      "DEBUG:gensim.models.word2vec:worker thread finished; awaiting finish of 6 more threads\n",
      "DEBUG:gensim.models.word2vec:worker exiting, processed 8 jobs\n",
      "DEBUG:gensim.models.word2vec:worker thread finished; awaiting finish of 5 more threads\n",
      "DEBUG:gensim.models.word2vec:worker exiting, processed 7 jobs\n",
      "DEBUG:gensim.models.word2vec:worker exiting, processed 8 jobs\n",
      "DEBUG:gensim.models.word2vec:worker exiting, processed 7 jobs\n",
      "DEBUG:gensim.models.word2vec:worker thread finished; awaiting finish of 4 more threads\n",
      "DEBUG:gensim.models.word2vec:worker exiting, processed 8 jobs\n",
      "DEBUG:gensim.models.word2vec:worker thread finished; awaiting finish of 3 more threads\n",
      "DEBUG:gensim.models.word2vec:worker thread finished; awaiting finish of 2 more threads\n",
      "DEBUG:gensim.models.word2vec:worker thread finished; awaiting finish of 1 more threads\n",
      "DEBUG:gensim.models.word2vec:worker exiting, processed 8 jobs\n",
      "DEBUG:gensim.models.word2vec:worker thread finished; awaiting finish of 0 more threads\n",
      "INFO:gensim.models.word2vec:EPOCH 4: training on 595438 raw words (481117 effective words) took 0.2s, 2271714 effective words/s\n",
      "INFO:gensim.utils:Word2Vec lifecycle event {'msg': 'training on 2977190 raw words (2404441 effective words) took 1.2s, 2027228 effective words/s', 'datetime': '2024-12-21T11:18:22.072058', 'gensim': '4.3.3', 'python': '3.12.6 (tags/v3.12.6:a4a2d2b, Sep  6 2024, 20:11:23) [MSC v.1940 64 bit (AMD64)]', 'platform': 'Windows-11-10.0.26100-SP0', 'event': 'train'}\n",
      "INFO:gensim.utils:Word2Vec lifecycle event {'params': 'Word2Vec<vocab=6436, vector_size=128, alpha=0.025>', 'datetime': '2024-12-21T11:18:22.072058', 'gensim': '4.3.3', 'python': '3.12.6 (tags/v3.12.6:a4a2d2b, Sep  6 2024, 20:11:23) [MSC v.1940 64 bit (AMD64)]', 'platform': 'Windows-11-10.0.26100-SP0', 'event': 'created'}\n",
      "INFO:gensim.utils:Word2Vec lifecycle event {'fname_or_handle': '../output/64k-full.embeddings-sg.model', 'separately': 'None', 'sep_limit': 10485760, 'ignore': frozenset(), 'datetime': '2024-12-21T11:18:22.072058', 'gensim': '4.3.3', 'python': '3.12.6 (tags/v3.12.6:a4a2d2b, Sep  6 2024, 20:11:23) [MSC v.1940 64 bit (AMD64)]', 'platform': 'Windows-11-10.0.26100-SP0', 'event': 'saving'}\n",
      "INFO:gensim.utils:not storing attribute cum_table\n",
      "DEBUG:smart_open.smart_open_lib:{'uri': '../output/64k-full.embeddings-sg.model', 'mode': 'wb', 'buffering': -1, 'encoding': None, 'errors': None, 'newline': None, 'closefd': True, 'opener': None, 'compression': 'infer_from_extension', 'transport_params': None}\n",
      "INFO:gensim.utils:saved ../output/64k-full.embeddings-sg.model\n"
     ]
    }
   ],
   "execution_count": 11
  },
  {
   "metadata": {},
   "cell_type": "markdown",
   "source": [
    "We can see that generating with CBOW is quite faster. <br>\n",
    "We still have very few records in our dataset therefore the difference is irrelevant. <br>\n",
    "\n",
    "We opt for SkipGram from the smaller datasets, for 1M (which might be the last test) we will prolly go for the CBOW."
   ],
   "id": "342032b1f74af24a"
  },
  {
   "metadata": {
    "ExecuteTime": {
     "end_time": "2024-12-21T10:18:53.914918Z",
     "start_time": "2024-12-21T10:18:53.909914Z"
    }
   },
   "cell_type": "code",
   "source": "emb_model.model.wv.most_similar([\"random\"])",
   "id": "682b67f574e46c7a",
   "outputs": [
    {
     "data": {
      "text/plain": [
       "[('swingy', 0.8061403632164001),\n",
       " ('randomness', 0.7774782180786133),\n",
       " ('deterministic', 0.7737147808074951),\n",
       " ('mercy', 0.7505597472190857),\n",
       " ('outcome', 0.74383145570755),\n",
       " ('unbalanced', 0.7373806238174438),\n",
       " ('rely', 0.7349971532821655),\n",
       " ('lucky', 0.7327756881713867),\n",
       " ('pointless', 0.7256832122802734),\n",
       " ('chaos', 0.7223337888717651)]"
      ]
     },
     "execution_count": 13,
     "metadata": {},
     "output_type": "execute_result"
    }
   ],
   "execution_count": 13
  },
  {
   "metadata": {
    "ExecuteTime": {
     "end_time": "2024-12-20T18:29:53.218645Z",
     "start_time": "2024-12-20T18:29:53.215171Z"
    }
   },
   "cell_type": "code",
   "source": "print(f\"We have a total of words: {len(emb_model.model.wv.key_to_index)}\")",
   "id": "33f01282f3abdeb6",
   "outputs": [
    {
     "name": "stdout",
     "output_type": "stream",
     "text": [
      "We have a total of words: 6790\n"
     ]
    }
   ],
   "execution_count": 8
  },
  {
   "metadata": {
    "ExecuteTime": {
     "end_time": "2024-12-21T10:18:09.079862Z",
     "start_time": "2024-12-21T10:18:09.075356Z"
    }
   },
   "cell_type": "code",
   "source": [
    "# Never resort the words: There is a bug in the Word2Vec model (seems like at least)\n",
    "# https://stackoverflow.com/questions/68451937/gensim-sort-by-descending-frequency-changes-most-similar-results\n",
    "# emb_model.model.wv.sort_by_descending_frequency() # Simpler tests\n",
    "\n",
    "last_index = len(emb_model.model.wv.key_to_index) - 1\n",
    "frequency = emb_model.model.wv.get_vecattr(last_index, 'count')\n",
    "most_frequency = emb_model.model.wv.get_vecattr(0, 'count')\n",
    "\n",
    "print(f\"One of the least frequent word is '{emb_model.model.wv.index_to_key[last_index]}'({frequency})\")\n",
    "print(f\"The most frequent word is '{emb_model.model.wv.index_to_key[0]}' ({most_frequency})\")"
   ],
   "id": "db1b269d4fbba93e",
   "outputs": [
    {
     "name": "stdout",
     "output_type": "stream",
     "text": [
      "One of the least frequent word is '☆'(5)\n",
      "The most frequent word is 'game' (33514)\n"
     ]
    }
   ],
   "execution_count": 10
  },
  {
   "metadata": {
    "ExecuteTime": {
     "end_time": "2024-12-21T10:18:48.301511Z",
     "start_time": "2024-12-21T10:18:48.294620Z"
    }
   },
   "cell_type": "code",
   "source": [
    "emb_model.model.wv.most_similar([\"ap\"], [], topn=20)\n",
    "# Root + Pirates = Ahoy as they are manufactured and designed by the same company and often referenced together"
   ],
   "id": "64a019c21ca8d578",
   "outputs": [
    {
     "data": {
      "text/plain": [
       "[('prone', 0.9203250408172607),\n",
       " ('paralysis', 0.8648532629013062),\n",
       " ('analysis', 0.8551996350288391),\n",
       " ('induce', 0.8508877158164978),\n",
       " ('downtime', 0.8423551917076111),\n",
       " ('concerned', 0.7912846207618713),\n",
       " ('drag', 0.7892791628837585),\n",
       " ('consideration', 0.7807860970497131),\n",
       " ('tend', 0.7693648934364319),\n",
       " ('unforgiving', 0.7632957696914673),\n",
       " ('practice', 0.7603340744972229),\n",
       " ('affair', 0.7601995468139648),\n",
       " ('tendency', 0.7552022337913513),\n",
       " ('grind', 0.7545714378356934),\n",
       " ('slog', 0.7543879151344299),\n",
       " ('dramatic', 0.7520149946212769),\n",
       " ('commitment', 0.7518084049224854),\n",
       " ('burner', 0.7504880428314209),\n",
       " ('extreme', 0.7493808269500732),\n",
       " ('curve', 0.7487448453903198)]"
      ]
     },
     "execution_count": 12,
     "metadata": {},
     "output_type": "execute_result"
    }
   ],
   "execution_count": 12
  },
  {
   "metadata": {
    "ExecuteTime": {
     "end_time": "2024-12-21T10:04:30.467873Z",
     "start_time": "2024-12-21T10:04:30.463873Z"
    }
   },
   "cell_type": "code",
   "source": "len(emb_model.vocabulary())",
   "id": "9cb7c8fd8d4181d9",
   "outputs": [
    {
     "data": {
      "text/plain": [
       "6436"
      ]
     },
     "execution_count": 9,
     "metadata": {},
     "output_type": "execute_result"
    }
   ],
   "execution_count": 9
  },
  {
   "metadata": {},
   "cell_type": "code",
   "outputs": [],
   "execution_count": null,
   "source": "",
   "id": "e41adbb2fbd8d5fd"
  }
 ],
 "metadata": {
  "kernelspec": {
   "display_name": "Python 3",
   "language": "python",
   "name": "python3"
  },
  "language_info": {
   "codemirror_mode": {
    "name": "ipython",
    "version": 2
   },
   "file_extension": ".py",
   "mimetype": "text/x-python",
   "name": "python",
   "nbconvert_exporter": "python",
   "pygments_lexer": "ipython2",
   "version": "2.7.6"
  }
 },
 "nbformat": 4,
 "nbformat_minor": 5
}

{
 "cells": [
  {
   "metadata": {
    "ExecuteTime": {
     "end_time": "2024-12-09T15:50:02.678141Z",
     "start_time": "2024-12-09T15:50:02.673755Z"
    }
   },
   "cell_type": "code",
   "source": [
    "import os\n",
    "\n",
    "os.environ['KERAS_BACKEND'] = \"torch\""
   ],
   "id": "40757908fc8c86f8",
   "outputs": [],
   "execution_count": 1
  },
  {
   "metadata": {
    "ExecuteTime": {
     "end_time": "2024-12-09T15:42:11.501853Z",
     "start_time": "2024-12-09T15:42:09.819408Z"
    }
   },
   "cell_type": "code",
   "source": [
    "import torch\n",
    "import numpy as np\n",
    "\n",
    "torch.autograd.set_detect_anomaly(True)"
   ],
   "id": "9b8a8833fcaa7e6a",
   "outputs": [
    {
     "data": {
      "text/plain": [
       "<torch.autograd.anomaly_mode.set_detect_anomaly at 0x226ce9c5370>"
      ]
     },
     "execution_count": 2,
     "metadata": {},
     "output_type": "execute_result"
    }
   ],
   "execution_count": 2
  },
  {
   "metadata": {},
   "cell_type": "markdown",
   "source": [
    "## Regularization\n",
    ">We hope to learn vector representations of the most representative aspects for a review dataset.\n",
    "However, the aspect embedding matrix T may suffer from redundancy problems during training. [...] \n",
    "> The regularization term encourages orthogonality among the rows of the aspect embedding matrix T and penalizes redundancy between different aspect vectors\n",
    "> ~ Ruidan\n",
    "\n",
    "We use an Orthogonal Regulizer definition of the method can be found here: https://paperswithcode.com/method/orthogonal-regularization. <br/>\n",
    "For the code we use the default implementation provided by Keras (https://keras.io/api/layers/regularizers/)"
   ],
   "id": "a67bb8c9beca9d72"
  },
  {
   "metadata": {
    "ExecuteTime": {
     "end_time": "2024-12-03T15:51:05.688055Z",
     "start_time": "2024-12-03T15:51:05.686116Z"
    }
   },
   "cell_type": "code",
   "source": "corpus_file = \"./../data/corpus.preprocessed.csv\"  # It's this",
   "id": "d70b9004cc53f3fc",
   "outputs": [],
   "execution_count": 3
  },
  {
   "metadata": {},
   "cell_type": "markdown",
   "source": [
    "## Aspect Embedding Size\n",
    "The aspect embedding size is what will be inferring aspects. It is closest to representative words (?). <br />\n",
    "We have to identify 7 actual aspects (luck, bookkeeping, downtime...) but that does not mean our matrix should be limited to rows only! What size to search is a good question and should be studied (Which I may be doing later). \n",
    "\n",
    "For the first try we setup the aspect_size:\n",
    ">The optimal number of rows is problem-dependent, so it’s crucial to: <br/>\n",
    "> Start with a heuristic: Begin with 2–3x the number of aspects."
   ],
   "id": "c4957d1b3784a455"
  },
  {
   "metadata": {
    "ExecuteTime": {
     "end_time": "2024-12-03T16:58:09.654296Z",
     "start_time": "2024-12-03T16:58:09.652217Z"
    }
   },
   "cell_type": "code",
   "source": "aspect_size = 2 * 7",
   "id": "319cff948ad5e033",
   "outputs": [],
   "execution_count": 11
  },
  {
   "metadata": {},
   "cell_type": "markdown",
   "source": "## Model Setup",
   "id": "52d8be30943c43e0"
  },
  {
   "metadata": {
    "ExecuteTime": {
     "end_time": "2024-12-02T14:12:35.091825Z",
     "start_time": "2024-12-02T14:12:31.632436Z"
    }
   },
   "cell_type": "code",
   "source": [
    "import core.embeddings as embeddings\n",
    "import core.utils\n",
    "\n",
    "embeddings_model = embeddings.WordEmbedding(\n",
    "    core.utils.LoadCorpusUtility(), max_vocab_size=16000, embedding_size=128,\n",
    "    target_model_file=\"./../data/word-embeddings.model\", corpus_file=corpus_file\n",
    ")\n",
    "\n",
    "aspect_embeddings_model = embeddings.AspectEmbedding(\n",
    "    aspect_size=aspect_size, embedding_size=128, base_embeddings=embeddings_model,\n",
    "    target_model_file=\"./../data/aspects-embedding.model\"\n",
    ")"
   ],
   "id": "eb3470aaa495a5cd",
   "outputs": [],
   "execution_count": 6
  },
  {
   "metadata": {
    "ExecuteTime": {
     "end_time": "2024-12-02T14:12:35.167229Z",
     "start_time": "2024-12-02T14:12:35.093012Z"
    }
   },
   "cell_type": "code",
   "source": [
    "embeddings_model.load_model()\n",
    "aspect_embeddings_model.load_model()"
   ],
   "id": "bfe27fa3b412d9ed",
   "outputs": [
    {
     "name": "stderr",
     "output_type": "stream",
     "text": [
      "INFO:gensim.utils:loading Word2Vec object from ../data/word-embeddings.model\n",
      "DEBUG:smart_open.smart_open_lib:{'uri': '../data/word-embeddings.model', 'mode': 'rb', 'buffering': -1, 'encoding': None, 'errors': None, 'newline': None, 'closefd': True, 'opener': None, 'compression': 'infer_from_extension', 'transport_params': None}\n",
      "INFO:gensim.utils:loading wv recursively from ../data/word-embeddings.model.wv.* with mmap=None\n",
      "INFO:gensim.utils:setting ignored attribute cum_table to None\n",
      "INFO:gensim.utils:Word2Vec lifecycle event {'fname': '../data/word-embeddings.model', 'datetime': '2024-12-02T15:12:35.165483', 'gensim': '4.3.3', 'python': '3.12.3 (main, Nov  6 2024, 18:32:19) [GCC 13.2.0]', 'platform': 'Linux-6.8.0-49-generic-x86_64-with-glibc2.39', 'event': 'loaded'}\n"
     ]
    }
   ],
   "execution_count": 7
  },
  {
   "metadata": {},
   "cell_type": "markdown",
   "source": "#### Load the data",
   "id": "89216349e5c6f335"
  },
  {
   "metadata": {
    "ExecuteTime": {
     "end_time": "2024-12-02T14:12:39.696556Z",
     "start_time": "2024-12-02T14:12:35.167857Z"
    }
   },
   "cell_type": "code",
   "source": [
    "import dataset\n",
    "from torch.utils.data import DataLoader\n",
    "\n",
    "vocabulary = embeddings_model.model.wv.key_to_index\n",
    "\n",
    "train = dataset.PositiveNegativeCommentGeneratorDataset(\n",
    "    vocabulary=vocabulary, csv_dataset_path=corpus_file, negative_size=15\n",
    ")\n",
    "\n",
    "train_dataloader = DataLoader(train, batch_size=32, shuffle=True)"
   ],
   "id": "58801e13d855b211",
   "outputs": [
    {
     "name": "stdout",
     "output_type": "stream",
     "text": [
      "Loading spacy model.\n",
      "Loading dataset from file: ./../data/corpus.preprocessed.csv\n",
      "Generating numeric representation for each word of ds.\n"
     ]
    },
    {
     "data": {
      "text/plain": [
       "Pandas Apply:   0%|          | 0/50461 [00:00<?, ?it/s]"
      ],
      "application/vnd.jupyter.widget-view+json": {
       "version_major": 2,
       "version_minor": 0,
       "model_id": "825fcfb4f59449a7ab07375879038e7f"
      }
     },
     "metadata": {},
     "output_type": "display_data"
    },
    {
     "name": "stdout",
     "output_type": "stream",
     "text": [
      "Max sequence length calculation in progress...\n",
      "We loose information on 136 points.This is 0.2695150710449654% of the dataset.\n",
      "Padding sequences to max length (256).\n",
      "Max sequence length is:  1235  but we will limit sequences to 256 tokens.\n"
     ]
    }
   ],
   "execution_count": 8
  },
  {
   "metadata": {
    "ExecuteTime": {
     "end_time": "2024-12-02T14:12:39.700066Z",
     "start_time": "2024-12-02T14:12:39.697422Z"
    }
   },
   "cell_type": "code",
   "source": [
    "from core.model import ABAEGenerator\n",
    "\n",
    "generator = ABAEGenerator(256, train.negative_size, embeddings_model, aspect_embeddings_model)"
   ],
   "id": "ea223a0ab512537",
   "outputs": [],
   "execution_count": 9
  },
  {
   "metadata": {},
   "cell_type": "markdown",
   "source": "## Train",
   "id": "3adc8a873389afd6"
  },
  {
   "metadata": {
    "ExecuteTime": {
     "end_time": "2024-11-30T17:37:09.405521Z",
     "start_time": "2024-11-30T17:37:09.403875Z"
    }
   },
   "cell_type": "code",
   "source": "from core import utils",
   "id": "a68c3c29b7d96160",
   "outputs": [],
   "execution_count": 9
  },
  {
   "metadata": {
    "ExecuteTime": {
     "end_time": "2024-11-30T17:37:09.409347Z",
     "start_time": "2024-11-30T17:37:09.406072Z"
    }
   },
   "cell_type": "code",
   "source": [
    "import torch\n",
    "\n",
    "torch.cuda.get_device_name(0)"
   ],
   "id": "cc29011d02db49fd",
   "outputs": [
    {
     "data": {
      "text/plain": [
       "'NVIDIA GeForce RTX 3070 Ti'"
      ]
     },
     "execution_count": 10,
     "metadata": {},
     "output_type": "execute_result"
    }
   ],
   "execution_count": 10
  },
  {
   "metadata": {},
   "cell_type": "markdown",
   "source": [
    "We have too much data for my little PC:\n",
    "\n",
    "> Sampling: Randomly select a subset of your data that represents the overall distribution of aspects. This will help maintain diversity while reducing the size.\n",
    "Filtering: Focus on the most informative or high-quality samples. For example, if certain reviews are very short, irrelevant, or don't have useful context for aspect extraction, remove them.\n",
    "Focus on Diversity: If you reduce the data, make sure the remaining dataset is still representative of the diversity of aspects you're trying to capture."
   ],
   "id": "54caba09394445b"
  },
  {
   "metadata": {
    "ExecuteTime": {
     "end_time": "2024-11-30T17:53:50.256911Z",
     "start_time": "2024-11-30T17:37:09.410551Z"
    }
   },
   "cell_type": "code",
   "source": [
    "training_model = generator.make_training_model()\n",
    "training_model.compile(optimizer='SGD', loss=[utils.max_margin_loss], metrics={'max_margin': utils.max_margin_loss})\n",
    "history = training_model.fit(x=train_dataloader, batch_size=32, epochs=15)"
   ],
   "id": "e02073957d81e7d3",
   "outputs": [
    {
     "name": "stdout",
     "output_type": "stream",
     "text": [
      "Epoch 1/15\n"
     ]
    },
    {
     "name": "stderr",
     "output_type": "stream",
     "text": [
      "/home/jacopo/PycharmProjects/nlp-course-project/core/layer.py:126: UserWarning: Do not pass an `input_shape`/`input_dim` argument to a layer. When using Sequential models, prefer using an `Input(shape)` object as the first layer in the core instead.\n",
      "  super(WeightedAspectEmb, self).__init__(**kwargs)\n"
     ]
    },
    {
     "name": "stdout",
     "output_type": "stream",
     "text": [
      "\u001B[1m1577/1577\u001B[0m \u001B[32m━━━━━━━━━━━━━━━━━━━━\u001B[0m\u001B[37m\u001B[0m \u001B[1m66s\u001B[0m 42ms/step - loss: 13.7152 - max_margin_loss: 13.7152\n",
      "Epoch 2/15\n",
      "\u001B[1m1577/1577\u001B[0m \u001B[32m━━━━━━━━━━━━━━━━━━━━\u001B[0m\u001B[37m\u001B[0m \u001B[1m66s\u001B[0m 42ms/step - loss: 11.2962 - max_margin_loss: 11.2962\n",
      "Epoch 3/15\n",
      "\u001B[1m1577/1577\u001B[0m \u001B[32m━━━━━━━━━━━━━━━━━━━━\u001B[0m\u001B[37m\u001B[0m \u001B[1m64s\u001B[0m 40ms/step - loss: 9.4733 - max_margin_loss: 9.4733\n",
      "Epoch 4/15\n",
      "\u001B[1m1577/1577\u001B[0m \u001B[32m━━━━━━━━━━━━━━━━━━━━\u001B[0m\u001B[37m\u001B[0m \u001B[1m65s\u001B[0m 41ms/step - loss: 8.7165 - max_margin_loss: 8.7165\n",
      "Epoch 5/15\n",
      "\u001B[1m1577/1577\u001B[0m \u001B[32m━━━━━━━━━━━━━━━━━━━━\u001B[0m\u001B[37m\u001B[0m \u001B[1m65s\u001B[0m 41ms/step - loss: 8.3181 - max_margin_loss: 8.3181\n",
      "Epoch 6/15\n",
      "\u001B[1m1577/1577\u001B[0m \u001B[32m━━━━━━━━━━━━━━━━━━━━\u001B[0m\u001B[37m\u001B[0m \u001B[1m64s\u001B[0m 41ms/step - loss: 8.1459 - max_margin_loss: 8.1459\n",
      "Epoch 7/15\n",
      "\u001B[1m1577/1577\u001B[0m \u001B[32m━━━━━━━━━━━━━━━━━━━━\u001B[0m\u001B[37m\u001B[0m \u001B[1m64s\u001B[0m 40ms/step - loss: 7.9774 - max_margin_loss: 7.9774\n",
      "Epoch 8/15\n",
      "\u001B[1m1577/1577\u001B[0m \u001B[32m━━━━━━━━━━━━━━━━━━━━\u001B[0m\u001B[37m\u001B[0m \u001B[1m65s\u001B[0m 41ms/step - loss: 7.8275 - max_margin_loss: 7.8275\n",
      "Epoch 9/15\n",
      "\u001B[1m1577/1577\u001B[0m \u001B[32m━━━━━━━━━━━━━━━━━━━━\u001B[0m\u001B[37m\u001B[0m \u001B[1m68s\u001B[0m 43ms/step - loss: 7.6478 - max_margin_loss: 7.6478\n",
      "Epoch 10/15\n",
      "\u001B[1m1577/1577\u001B[0m \u001B[32m━━━━━━━━━━━━━━━━━━━━\u001B[0m\u001B[37m\u001B[0m \u001B[1m68s\u001B[0m 43ms/step - loss: 7.4167 - max_margin_loss: 7.4167\n",
      "Epoch 11/15\n",
      "\u001B[1m1577/1577\u001B[0m \u001B[32m━━━━━━━━━━━━━━━━━━━━\u001B[0m\u001B[37m\u001B[0m \u001B[1m69s\u001B[0m 44ms/step - loss: 7.0284 - max_margin_loss: 7.0284\n",
      "Epoch 12/15\n",
      "\u001B[1m1577/1577\u001B[0m \u001B[32m━━━━━━━━━━━━━━━━━━━━\u001B[0m\u001B[37m\u001B[0m \u001B[1m69s\u001B[0m 44ms/step - loss: 6.5674 - max_margin_loss: 6.5674\n",
      "Epoch 13/15\n",
      "\u001B[1m1577/1577\u001B[0m \u001B[32m━━━━━━━━━━━━━━━━━━━━\u001B[0m\u001B[37m\u001B[0m \u001B[1m69s\u001B[0m 44ms/step - loss: 5.9915 - max_margin_loss: 5.9915\n",
      "Epoch 14/15\n",
      "\u001B[1m1577/1577\u001B[0m \u001B[32m━━━━━━━━━━━━━━━━━━━━\u001B[0m\u001B[37m\u001B[0m \u001B[1m70s\u001B[0m 45ms/step - loss: 5.6416 - max_margin_loss: 5.6416\n",
      "Epoch 15/15\n",
      "\u001B[1m1577/1577\u001B[0m \u001B[32m━━━━━━━━━━━━━━━━━━━━\u001B[0m\u001B[37m\u001B[0m \u001B[1m69s\u001B[0m 44ms/step - loss: 5.4395 - max_margin_loss: 5.4395\n"
     ]
    }
   ],
   "execution_count": 11
  },
  {
   "metadata": {
    "ExecuteTime": {
     "end_time": "2024-11-30T17:53:50.259142Z",
     "start_time": "2024-11-30T17:53:50.257504Z"
    }
   },
   "cell_type": "code",
   "source": [
    "# How to Address Issues (If Any):\n",
    "# Introduce Hard Negatives:\n",
    "# Instead of randomly selecting negative samples, use hard negatives—examples that are more challenging to distinguish from positive pairs. This keeps the max-margin loss informative and prevents the model from converging too quickly.\n",
    "\n",
    "# Regularization:\n",
    "# Apply regularization (e.g., L2 regularization) to prevent overfitting and ensure the model generalizes well.\n",
    "\n",
    "# Early Stopping:\n",
    "# If the loss plateaus and aspect quality is satisfactory, consider using early stopping to avoid unnecessary training."
   ],
   "id": "64c6ea7554d341a9",
   "outputs": [],
   "execution_count": 12
  },
  {
   "metadata": {
    "ExecuteTime": {
     "end_time": "2024-11-30T17:53:50.290450Z",
     "start_time": "2024-11-30T17:53:50.259787Z"
    }
   },
   "cell_type": "code",
   "source": "training_model.save(\"./../data/abae.keras\")",
   "id": "8b3ab43c76041221",
   "outputs": [
    {
     "name": "stderr",
     "output_type": "stream",
     "text": [
      "DEBUG:h5py._conv:Creating converter from 5 to 3\n"
     ]
    }
   ],
   "execution_count": 13
  },
  {
   "metadata": {},
   "cell_type": "markdown",
   "source": "## Model Evaluation",
   "id": "b000cd79defb39bd"
  },
  {
   "metadata": {
    "ExecuteTime": {
     "end_time": "2024-12-02T14:12:46.437067Z",
     "start_time": "2024-12-02T14:12:46.318391Z"
    }
   },
   "cell_type": "code",
   "source": [
    "# Load evaluation model\n",
    "inference_model = generator.make_model(\"./../data/abae.keras\")"
   ],
   "id": "fe6595f99460d942",
   "outputs": [
    {
     "name": "stderr",
     "output_type": "stream",
     "text": [
      "/home/jacopo/PycharmProjects/nlp-course-project/core/layer.py:126: UserWarning: Do not pass an `input_shape`/`input_dim` argument to a layer. When using Sequential models, prefer using an `Input(shape)` object as the first layer in the core instead.\n",
      "  super(WeightedAspectEmb, self).__init__(**kwargs)\n"
     ]
    }
   ],
   "execution_count": 10
  },
  {
   "metadata": {
    "ExecuteTime": {
     "end_time": "2024-11-30T17:54:28.237930Z",
     "start_time": "2024-11-30T17:53:50.319985Z"
    }
   },
   "cell_type": "code",
   "source": [
    "out = inference_model.predict(x=train_dataloader)\n",
    "np.argmax(out[2], axis=-1)  # The associated labels"
   ],
   "id": "48815717db4ed6f",
   "outputs": [
    {
     "name": "stdout",
     "output_type": "stream",
     "text": [
      "\u001B[1m1577/1577\u001B[0m \u001B[32m━━━━━━━━━━━━━━━━━━━━\u001B[0m\u001B[37m\u001B[0m \u001B[1m38s\u001B[0m 24ms/step\n"
     ]
    },
    {
     "data": {
      "text/plain": [
       "array([7, 0, 7, ..., 0, 0, 0])"
      ]
     },
     "execution_count": 15,
     "metadata": {},
     "output_type": "execute_result"
    }
   ],
   "execution_count": 15
  },
  {
   "metadata": {},
   "cell_type": "markdown",
   "source": "## Find aspect most representative words",
   "id": "60641b3d29be817"
  },
  {
   "metadata": {
    "ExecuteTime": {
     "end_time": "2024-12-02T14:12:49.517696Z",
     "start_time": "2024-12-02T14:12:49.508556Z"
    }
   },
   "cell_type": "code",
   "source": [
    "word_emb = inference_model.get_layer('word_embedding').get_weights()[0]\n",
    "word_emb = torch.from_numpy(word_emb)\n",
    "word_emb.shape"
   ],
   "id": "92373d07480df156",
   "outputs": [
    {
     "data": {
      "text/plain": [
       "torch.Size([12954, 128])"
      ]
     },
     "execution_count": 11,
     "metadata": {},
     "output_type": "execute_result"
    }
   ],
   "execution_count": 11
  },
  {
   "metadata": {
    "ExecuteTime": {
     "end_time": "2024-12-02T14:13:13.662756Z",
     "start_time": "2024-12-02T14:13:13.660382Z"
    }
   },
   "cell_type": "code",
   "source": [
    "aspect_embeddings = inference_model.get_layer('weighted_aspect_emb').W\n",
    "vocab_inv = embeddings_model.model.wv.index_to_key"
   ],
   "id": "f4cfefd11b6ce84c",
   "outputs": [],
   "execution_count": 14
  },
  {
   "metadata": {
    "ExecuteTime": {
     "end_time": "2024-12-02T14:18:02.211568Z",
     "start_time": "2024-12-02T14:18:02.160148Z"
    }
   },
   "cell_type": "code",
   "source": [
    "\n",
    "aspect_words = []\n",
    "aspect_index = 0\n",
    "\n",
    "for aspect in aspect_embeddings:\n",
    "    aspect = aspect.cpu()\n",
    "    # Calculate the cosine similarity of each word with the aspect\n",
    "    word_emb = word_emb / torch.linalg.norm(word_emb, dim=-1, keepdim=True)\n",
    "    aspect = aspect / torch.linalg.norm(aspect, dim=-1, keepdim=True)\n",
    "\n",
    "    similarity = word_emb.matmul(aspect.T)\n",
    "\n",
    "    numpy_similarity = similarity.detach().numpy()\n",
    "\n",
    "    ordered_words = np.argsort(numpy_similarity)[::-1]\n",
    "    desc_list = [(vocab_inv[w], numpy_similarity[w]) for w in ordered_words[:15]]\n",
    "    aspect_words.append(desc_list)\n",
    "\n",
    "    print(\"Aspect \", aspect_index)\n",
    "    for i in desc_list:\n",
    "        # hr][/i is not a valid word. meh.\n",
    "        print(\"Word: \", i[0], f\"({i[1]})\")\n",
    "\n",
    "    aspect_index += 1"
   ],
   "id": "b7202702cf2f7f51",
   "outputs": [
    {
     "name": "stdout",
     "output_type": "stream",
     "text": [
      "Aspect  0\n",
      "Word:  release (0.5447438955307007)\n",
      "Word:  buy (0.5116141438484192)\n",
      "Word:  back (0.4773869514465332)\n",
      "Word:  unlock (0.477204293012619)\n",
      "Word:  magic (0.4655134677886963)\n",
      "Word:  ffg (0.46209990978240967)\n",
      "Word:  kickstarter (0.46151912212371826)\n",
      "Word:  marvel (0.459344744682312)\n",
      "Word:  retail (0.45813944935798645)\n",
      "Word:  glad (0.4541388750076294)\n",
      "Word:  pls (0.44647061824798584)\n",
      "Word:  cosmetic (0.437392920255661)\n",
      "Word:  copy (0.4348754286766052)\n",
      "Word:  legendary (0.43482765555381775)\n",
      "Word:  regret (0.4348164200782776)\n",
      "Aspect  1\n",
      "Word:  belive (0.7245154976844788)\n",
      "Word:  email (0.7236083745956421)\n",
      "Word:  familiarize (0.7202874422073364)\n",
      "Word:  incarnation (0.7198400497436523)\n",
      "Word:  clothe (0.719068169593811)\n",
      "Word:  tmb (0.7155524492263794)\n",
      "Word:  technically (0.7127645611763)\n",
      "Word:  preset (0.7095102071762085)\n",
      "Word:  kg (0.7089599370956421)\n",
      "Word:  rondell (0.7079117298126221)\n",
      "Word:  ppl (0.7070233821868896)\n",
      "Word:  dame (0.7059849500656128)\n",
      "Word:  erratas (0.7055681943893433)\n",
      "Word:  ot (0.7048789262771606)\n",
      "Word:  hte (0.7038723230361938)\n",
      "Aspect  2\n",
      "Word:  skilled (0.6982916593551636)\n",
      "Word:  rut (0.6949139833450317)\n",
      "Word:  combative (0.6894547939300537)\n",
      "Word:  fifth (0.688031017780304)\n",
      "Word:  suspicious (0.6866863965988159)\n",
      "Word:  summarise (0.6839203834533691)\n",
      "Word:  contention (0.6790550947189331)\n",
      "Word:  mathe (0.6789302825927734)\n",
      "Word:  contrary (0.6784725189208984)\n",
      "Word:  handicap (0.677964448928833)\n",
      "Word:  else (0.6771073341369629)\n",
      "Word:  thon (0.6763026118278503)\n",
      "Word:  disregard (0.6756355166435242)\n",
      "Word:  drown (0.6739515066146851)\n",
      "Word:  gene (0.6731894016265869)\n",
      "Aspect  3\n",
      "Word:  angst (0.4518653154373169)\n",
      "Word:  mathe (0.4456774592399597)\n",
      "Word:  lull (0.4449758529663086)\n",
      "Word:  attentive (0.44487059116363525)\n",
      "Word:  upkeep (0.44027280807495117)\n",
      "Word:  simultaneously (0.43783822655677795)\n",
      "Word:  skilled (0.4343178868293762)\n",
      "Word:  rut (0.4342578053474426)\n",
      "Word:  beginning (0.43380972743034363)\n",
      "Word:  summarise (0.4309144914150238)\n",
      "Word:  calculation (0.43076011538505554)\n",
      "Word:  decimate (0.4281756281852722)\n",
      "Word:  critical (0.4271489679813385)\n",
      "Word:  induce (0.4258180856704712)\n",
      "Word:  consideration (0.4254299998283386)\n",
      "Aspect  4\n",
      "Word:  mechanically (0.7395925521850586)\n",
      "Word:  thematic (0.7256996631622314)\n",
      "Word:  engaging (0.7094951868057251)\n",
      "Word:  elegant (0.6952482461929321)\n",
      "Word:  innovative (0.6849705576896667)\n",
      "Word:  abstract (0.6726769208908081)\n",
      "Word:  style (0.6667015552520752)\n",
      "Word:  theme (0.6659834384918213)\n",
      "Word:  nicely (0.6627437472343445)\n",
      "Word:  simplicity (0.6504080295562744)\n",
      "Word:  thinky (0.648577094078064)\n",
      "Word:  surprisingly (0.6426346302032471)\n",
      "Word:  cute (0.6402686834335327)\n",
      "Word:  cutesy (0.6397366523742676)\n",
      "Word:  blend (0.6395053267478943)\n",
      "Aspect  5\n",
      "Word:  pledge (0.5881250500679016)\n",
      "Word:  25th (0.576857328414917)\n",
      "Word:  ~ (0.5745965242385864)\n",
      "Word:  md2 (0.572848916053772)\n",
      "Word:  playmat (0.5622756481170654)\n",
      "Word:  44x63 (0.5615267753601074)\n",
      "Word:  black (0.5609537363052368)\n",
      "Word:  metal (0.5596048831939697)\n",
      "Word:  promo (0.5478048324584961)\n",
      "Word:  dark (0.5469409227371216)\n",
      "Word:  premium (0.5420743227005005)\n",
      "Word:  sleeve (0.5390489101409912)\n",
      "Word:  mayday (0.5351731181144714)\n",
      "Word:  north (0.5350816249847412)\n",
      "Word:  exp (0.5278605222702026)\n",
      "Aspect  6\n",
      "Word:  contract (0.7533861398696899)\n",
      "Word:  income (0.733350396156311)\n",
      "Word:  vp (0.7302042245864868)\n",
      "Word:  track (0.7245877981185913)\n",
      "Word:  gain (0.7081347703933716)\n",
      "Word:  bonus (0.7074660658836365)\n",
      "Word:  marker (0.7014265060424805)\n",
      "Word:  boat (0.6960002183914185)\n",
      "Word:  region (0.6936243772506714)\n",
      "Word:  food (0.6920195817947388)\n",
      "Word:  cube (0.6915662288665771)\n",
      "Word:  location (0.6874231696128845)\n",
      "Word:  money (0.6810256838798523)\n",
      "Word:  collect (0.6770788431167603)\n",
      "Word:  claim (0.6759439706802368)\n",
      "Aspect  7\n",
      "Word:  play (0.563241720199585)\n",
      "Word:  maxing (0.5241923928260803)\n",
      "Word:  edit (0.5024509429931641)\n",
      "Word:  rate (0.4789552390575409)\n",
      "Word:  11/17 (0.4773992896080017)\n",
      "Word:  session (0.4707276523113251)\n",
      "Word:  4p (0.44348227977752686)\n",
      "Word:  week (0.440207302570343)\n",
      "Word:  10 (0.438071608543396)\n",
      "Word:  update (0.4344898462295532)\n",
      "Word:  hour (0.4309106171131134)\n",
      "Word:  4/4 (0.42425668239593506)\n",
      "Word:  30 (0.41886770725250244)\n",
      "Word:  daughter (0.4180385172367096)\n",
      "Word:  3p (0.4162169396877289)\n",
      "Aspect  8\n",
      "Word:  conflict (0.4559025466442108)\n",
      "Word:  timing (0.438757061958313)\n",
      "Word:  direct (0.43573862314224243)\n",
      "Word:  economic (0.42962801456451416)\n",
      "Word:  satisfy (0.42925870418548584)\n",
      "Word:  tension (0.4263601303100586)\n",
      "Word:  generate (0.4241257905960083)\n",
      "Word:  bluff (0.41874784231185913)\n",
      "Word:  race (0.4169393479824066)\n",
      "Word:  military (0.4146558940410614)\n",
      "Word:  competition (0.41405415534973145)\n",
      "Word:  economy (0.41236376762390137)\n",
      "Word:  encourage (0.40813058614730835)\n",
      "Word:  malleable (0.40620434284210205)\n",
      "Word:  pivot (0.4061592221260071)\n",
      "Aspect  9\n",
      "Word:  keyple (0.6437544822692871)\n",
      "Word:  resolve (0.6330983638763428)\n",
      "Word:  perform (0.6057081818580627)\n",
      "Word:  income (0.6033197641372681)\n",
      "Word:  supply (0.5931459665298462)\n",
      "Word:  activation (0.5909640789031982)\n",
      "Word:  accumulate (0.5872229337692261)\n",
      "Word:  critical (0.5856596231460571)\n",
      "Word:  crucial (0.5854961276054382)\n",
      "Word:  enchanter (0.583258330821991)\n",
      "Word:  lock (0.582610011100769)\n",
      "Word:  determine (0.5801068544387817)\n",
      "Word:  consequence (0.5755595564842224)\n",
      "Word:  reward (0.5713491439819336)\n",
      "Word:  phase (0.5691577792167664)\n",
      "Aspect  10\n",
      "Word:  enought (0.4639054536819458)\n",
      "Word:  mechs (0.4528099298477173)\n",
      "Word:  cull (0.447909414768219)\n",
      "Word:  log (0.4444660544395447)\n",
      "Word:  currently (0.44291603565216064)\n",
      "Word:  chronology (0.4399208426475525)\n",
      "Word:  rumor (0.4393736720085144)\n",
      "Word:  previously (0.43861159682273865)\n",
      "Word:  wanna (0.4380771517753601)\n",
      "Word:  preset (0.43652787804603577)\n",
      "Word:  heather (0.43603402376174927)\n",
      "Word:  ham (0.43216949701309204)\n",
      "Word:  hoax (0.43075352907180786)\n",
      "Word:  finite (0.42915573716163635)\n",
      "Word:  automata (0.42695096135139465)\n",
      "Aspect  11\n",
      "Word:  3- (0.5087751150131226)\n",
      "Word:  2 (0.4878714978694916)\n",
      "Word:  disadvantage (0.4564206004142761)\n",
      "Word:  \\13\\ (0.4532138705253601)\n",
      "Word:  count (0.4319762885570526)\n",
      "Word:  variant (0.43002015352249146)\n",
      "Word:  suspect (0.42525720596313477)\n",
      "Word:  imagine (0.42429882287979126)\n",
      "Word:  minimum (0.42157381772994995)\n",
      "Word:  dueler (0.4204886555671692)\n",
      "Word:  3 (0.4171687960624695)\n",
      "Word:  alienate (0.41337770223617554)\n",
      "Word:  shaky (0.41277408599853516)\n",
      "Word:  party (0.40866589546203613)\n",
      "Word:  experienced (0.406451940536499)\n",
      "Aspect  12\n",
      "Word:  eliminate (0.6780023574829102)\n",
      "Word:  single (0.6657650470733643)\n",
      "Word:  beginning (0.6498178243637085)\n",
      "Word:  face (0.639141321182251)\n",
      "Word:  simultaneously (0.6355462074279785)\n",
      "Word:  randomly (0.6203116178512573)\n",
      "Word:  predict (0.6099243760108948)\n",
      "Word:  choose (0.6089282631874084)\n",
      "Word:  effectively (0.6066470146179199)\n",
      "Word:  happen (0.6042191982269287)\n",
      "Word:  attack (0.6015000343322754)\n",
      "Word:  cause (0.6007243990898132)\n",
      "Word:  sequence (0.5990183353424072)\n",
      "Word:  person (0.5982658863067627)\n",
      "Word:  determine (0.5977545976638794)\n",
      "Aspect  13\n",
      "Word:  pendragon (0.5009773969650269)\n",
      "Word:  check (0.4889921247959137)\n",
      "Word:  fail (0.4768734276294708)\n",
      "Word:  error (0.47563832998275757)\n",
      "Word:  tidbit (0.47560590505599976)\n",
      "Word:  nauseum (0.4742206931114197)\n",
      "Word:  dishearten (0.4710935950279236)\n",
      "Word:  fix (0.4705195128917694)\n",
      "Word:  miss (0.4659067392349243)\n",
      "Word:  impatiently (0.46543434262275696)\n",
      "Word:  live (0.46320411562919617)\n",
      "Word:  survive (0.4621725082397461)\n",
      "Word:  premature (0.461147665977478)\n",
      "Word:  stride (0.46014708280563354)\n",
      "Word:  eventually (0.4600198566913605)\n"
     ]
    },
    {
     "name": "stderr",
     "output_type": "stream",
     "text": [
      "/tmp/ipykernel_50715/4171825579.py:10: UserWarning: The use of `x.T` on tensors of dimension other than 2 to reverse their shape is deprecated and it will throw an error in a future release. Consider `x.mT` to transpose batches of matrices or `x.permute(*torch.arange(x.ndim - 1, -1, -1))` to reverse the dimensions of a tensor. (Triggered internally at ../aten/src/ATen/native/TensorShape.cpp:3697.)\n",
      "  similarity = word_emb.matmul(aspect.T)\n"
     ]
    }
   ],
   "execution_count": 28
  },
  {
   "metadata": {},
   "cell_type": "markdown",
   "source": [
    "# Evaluate coherence\n",
    "Topical coherence measures the semantic consistency of terms grouped under a topic or aspect. It checks whether the terms frequently co-occur in similar contexts within your dataset, reflecting a meaningful grouping. For each topic (aspect), calculate pairwise co-occurrence of terms across the dataset. Terms that co-occur frequently in the same context are considered more coherent\n",
    "\n"
   ],
   "id": "f58d27ab60b7ea76"
  },
  {
   "metadata": {
    "ExecuteTime": {
     "end_time": "2024-12-02T14:18:04.077446Z",
     "start_time": "2024-12-02T14:18:04.056233Z"
    }
   },
   "cell_type": "code",
   "source": [
    "# For each word of aspect for the aspect we calculate the coherence by AVG distance between top words\n",
    "for aspect_most_representative_words in aspect_words:\n",
    "    coherence = []\n",
    "    for word in aspect_most_representative_words:\n",
    "        w, score = word\n",
    "        for word2 in aspect_most_representative_words:\n",
    "            w2, score = word2\n",
    "            if w != w2:\n",
    "                coherence.append(embeddings_model.model.wv.similarity(w, w2))\n",
    "    # todo fai avgf cosi natualmente sbagliato  \n",
    "    print(\"Aspect i has total coherence of\", np.mean(coherence, axis=0))  # AVG"
   ],
   "id": "4beec4cd26c90a88",
   "outputs": [
    {
     "name": "stdout",
     "output_type": "stream",
     "text": [
      "Aspect i has total coherence of 0.6271665\n",
      "Aspect i has total coherence of 0.8668326\n",
      "Aspect i has total coherence of 0.84780085\n",
      "Aspect i has total coherence of 0.74030197\n",
      "Aspect i has total coherence of 0.7200178\n",
      "Aspect i has total coherence of 0.8413263\n",
      "Aspect i has total coherence of 0.8098694\n",
      "Aspect i has total coherence of 0.54224765\n",
      "Aspect i has total coherence of 0.69913083\n",
      "Aspect i has total coherence of 0.7870225\n",
      "Aspect i has total coherence of 0.7779807\n",
      "Aspect i has total coherence of 0.5372712\n",
      "Aspect i has total coherence of 0.73999083\n",
      "Aspect i has total coherence of 0.65727794\n"
     ]
    }
   ],
   "execution_count": 29
  },
  {
   "metadata": {
    "ExecuteTime": {
     "end_time": "2024-11-30T17:54:28.303845Z",
     "start_time": "2024-11-30T17:54:28.302529Z"
    }
   },
   "cell_type": "code",
   "source": [
    "# Words to remove:\n",
    "\"\"\"\n",
    "\\13\\\n",
    "~\n",
    "\"\"\""
   ],
   "id": "c0c830cfabd1d94c",
   "outputs": [],
   "execution_count": 18
  },
  {
   "metadata": {
    "ExecuteTime": {
     "end_time": "2024-12-02T14:17:16.372146Z",
     "start_time": "2024-12-02T14:17:16.325812Z"
    }
   },
   "cell_type": "code",
   "source": [
    "gold_standard_topics = ['luck', 'alea', 'bookkeeping', 'downtime', 'strategy', 'interaction', 'complicated', 'complex']\n",
    "counter = 0\n",
    "for aspect in aspect_embeddings:\n",
    "    aspect = aspect.cpu()\n",
    "\n",
    "    aspect = aspect / torch.linalg.norm(aspect, dim=-1, keepdim=True)\n",
    "    word_emb = word_emb / torch.linalg.norm(word_emb, dim=-1, keepdim=True)\n",
    "\n",
    "    print(\"Aspect \", counter)\n",
    "    # Calculate the cosine similarity of each word with the aspect\n",
    "    for topic in gold_standard_topics:\n",
    "        index = embeddings_model.model.wv.get_index(topic)\n",
    "        print(f\"'{topic}' similarity: \", word_emb[index].dot(aspect))\n",
    "    embeddings_model.model.wv.get_vector('luck')\n",
    "    counter += 1"
   ],
   "id": "118e43d292e819ca",
   "outputs": [
    {
     "name": "stdout",
     "output_type": "stream",
     "text": [
      "Aspect  0\n",
      "'luck' similarity:  tensor(-0.0714, grad_fn=<DotBackward0>)\n",
      "'alea' similarity:  tensor(0.1196, grad_fn=<DotBackward0>)\n",
      "'bookkeeping' similarity:  tensor(-0.1017, grad_fn=<DotBackward0>)\n",
      "'downtime' similarity:  tensor(-0.4651, grad_fn=<DotBackward0>)\n",
      "'strategy' similarity:  tensor(-0.1643, grad_fn=<DotBackward0>)\n",
      "'interaction' similarity:  tensor(-0.3416, grad_fn=<DotBackward0>)\n",
      "'complicated' similarity:  tensor(-0.0198, grad_fn=<DotBackward0>)\n",
      "'complex' similarity:  tensor(-0.1619, grad_fn=<DotBackward0>)\n",
      "Aspect  1\n",
      "'luck' similarity:  tensor(0.0218, grad_fn=<DotBackward0>)\n",
      "'alea' similarity:  tensor(0.5491, grad_fn=<DotBackward0>)\n",
      "'bookkeeping' similarity:  tensor(0.5055, grad_fn=<DotBackward0>)\n",
      "'downtime' similarity:  tensor(0.1841, grad_fn=<DotBackward0>)\n",
      "'strategy' similarity:  tensor(0.1607, grad_fn=<DotBackward0>)\n",
      "'interaction' similarity:  tensor(0.0652, grad_fn=<DotBackward0>)\n",
      "'complicated' similarity:  tensor(0.2053, grad_fn=<DotBackward0>)\n",
      "'complex' similarity:  tensor(0.1512, grad_fn=<DotBackward0>)\n",
      "Aspect  2\n",
      "'luck' similarity:  tensor(0.0953, grad_fn=<DotBackward0>)\n",
      "'alea' similarity:  tensor(0.4546, grad_fn=<DotBackward0>)\n",
      "'bookkeeping' similarity:  tensor(0.5756, grad_fn=<DotBackward0>)\n",
      "'downtime' similarity:  tensor(0.3840, grad_fn=<DotBackward0>)\n",
      "'strategy' similarity:  tensor(0.2584, grad_fn=<DotBackward0>)\n",
      "'interaction' similarity:  tensor(0.2992, grad_fn=<DotBackward0>)\n",
      "'complicated' similarity:  tensor(0.2878, grad_fn=<DotBackward0>)\n",
      "'complex' similarity:  tensor(0.2767, grad_fn=<DotBackward0>)\n",
      "Aspect  3\n",
      "'luck' similarity:  tensor(0.0672, grad_fn=<DotBackward0>)\n",
      "'alea' similarity:  tensor(0.1654, grad_fn=<DotBackward0>)\n",
      "'bookkeeping' similarity:  tensor(0.3531, grad_fn=<DotBackward0>)\n",
      "'downtime' similarity:  tensor(0.3199, grad_fn=<DotBackward0>)\n",
      "'strategy' similarity:  tensor(0.1165, grad_fn=<DotBackward0>)\n",
      "'interaction' similarity:  tensor(0.2556, grad_fn=<DotBackward0>)\n",
      "'complicated' similarity:  tensor(0.1704, grad_fn=<DotBackward0>)\n",
      "'complex' similarity:  tensor(0.1537, grad_fn=<DotBackward0>)\n",
      "Aspect  4\n",
      "'luck' similarity:  tensor(0.1379, grad_fn=<DotBackward0>)\n",
      "'alea' similarity:  tensor(-0.0677, grad_fn=<DotBackward0>)\n",
      "'bookkeeping' similarity:  tensor(0.0329, grad_fn=<DotBackward0>)\n",
      "'downtime' similarity:  tensor(-0.0293, grad_fn=<DotBackward0>)\n",
      "'strategy' similarity:  tensor(0.1768, grad_fn=<DotBackward0>)\n",
      "'interaction' similarity:  tensor(0.2823, grad_fn=<DotBackward0>)\n",
      "'complicated' similarity:  tensor(0.4433, grad_fn=<DotBackward0>)\n",
      "'complex' similarity:  tensor(0.4908, grad_fn=<DotBackward0>)\n",
      "Aspect  5\n",
      "'luck' similarity:  tensor(-0.2931, grad_fn=<DotBackward0>)\n",
      "'alea' similarity:  tensor(0.0535, grad_fn=<DotBackward0>)\n",
      "'bookkeeping' similarity:  tensor(-0.2738, grad_fn=<DotBackward0>)\n",
      "'downtime' similarity:  tensor(-0.4685, grad_fn=<DotBackward0>)\n",
      "'strategy' similarity:  tensor(-0.5090, grad_fn=<DotBackward0>)\n",
      "'interaction' similarity:  tensor(-0.3262, grad_fn=<DotBackward0>)\n",
      "'complicated' similarity:  tensor(-0.4697, grad_fn=<DotBackward0>)\n",
      "'complex' similarity:  tensor(-0.3480, grad_fn=<DotBackward0>)\n",
      "Aspect  6\n",
      "'luck' similarity:  tensor(-0.0309, grad_fn=<DotBackward0>)\n",
      "'alea' similarity:  tensor(-0.3653, grad_fn=<DotBackward0>)\n",
      "'bookkeeping' similarity:  tensor(-0.0231, grad_fn=<DotBackward0>)\n",
      "'downtime' similarity:  tensor(-0.0435, grad_fn=<DotBackward0>)\n",
      "'strategy' similarity:  tensor(0.0875, grad_fn=<DotBackward0>)\n",
      "'interaction' similarity:  tensor(0.0982, grad_fn=<DotBackward0>)\n",
      "'complicated' similarity:  tensor(-0.2290, grad_fn=<DotBackward0>)\n",
      "'complex' similarity:  tensor(-0.3042, grad_fn=<DotBackward0>)\n",
      "Aspect  7\n",
      "'luck' similarity:  tensor(-0.1787, grad_fn=<DotBackward0>)\n",
      "'alea' similarity:  tensor(-0.1750, grad_fn=<DotBackward0>)\n",
      "'bookkeeping' similarity:  tensor(-0.4648, grad_fn=<DotBackward0>)\n",
      "'downtime' similarity:  tensor(0.1128, grad_fn=<DotBackward0>)\n",
      "'strategy' similarity:  tensor(-0.1292, grad_fn=<DotBackward0>)\n",
      "'interaction' similarity:  tensor(-0.2083, grad_fn=<DotBackward0>)\n",
      "'complicated' similarity:  tensor(-0.1606, grad_fn=<DotBackward0>)\n",
      "'complex' similarity:  tensor(-0.0735, grad_fn=<DotBackward0>)\n",
      "Aspect  8\n",
      "'luck' similarity:  tensor(0.2866, grad_fn=<DotBackward0>)\n",
      "'alea' similarity:  tensor(-0.0923, grad_fn=<DotBackward0>)\n",
      "'bookkeeping' similarity:  tensor(0.2281, grad_fn=<DotBackward0>)\n",
      "'downtime' similarity:  tensor(0.1683, grad_fn=<DotBackward0>)\n",
      "'strategy' similarity:  tensor(0.2726, grad_fn=<DotBackward0>)\n",
      "'interaction' similarity:  tensor(0.3854, grad_fn=<DotBackward0>)\n",
      "'complicated' similarity:  tensor(-0.0184, grad_fn=<DotBackward0>)\n",
      "'complex' similarity:  tensor(0.0563, grad_fn=<DotBackward0>)\n",
      "Aspect  9\n",
      "'luck' similarity:  tensor(0.0954, grad_fn=<DotBackward0>)\n",
      "'alea' similarity:  tensor(0.0329, grad_fn=<DotBackward0>)\n",
      "'bookkeeping' similarity:  tensor(0.3919, grad_fn=<DotBackward0>)\n",
      "'downtime' similarity:  tensor(0.1449, grad_fn=<DotBackward0>)\n",
      "'strategy' similarity:  tensor(0.1318, grad_fn=<DotBackward0>)\n",
      "'interaction' similarity:  tensor(0.1479, grad_fn=<DotBackward0>)\n",
      "'complicated' similarity:  tensor(0.1166, grad_fn=<DotBackward0>)\n",
      "'complex' similarity:  tensor(0.0522, grad_fn=<DotBackward0>)\n",
      "Aspect  10\n",
      "'luck' similarity:  tensor(0.0092, grad_fn=<DotBackward0>)\n",
      "'alea' similarity:  tensor(0.3075, grad_fn=<DotBackward0>)\n",
      "'bookkeeping' similarity:  tensor(0.1744, grad_fn=<DotBackward0>)\n",
      "'downtime' similarity:  tensor(-0.0246, grad_fn=<DotBackward0>)\n",
      "'strategy' similarity:  tensor(0.0400, grad_fn=<DotBackward0>)\n",
      "'interaction' similarity:  tensor(-0.0278, grad_fn=<DotBackward0>)\n",
      "'complicated' similarity:  tensor(0.0554, grad_fn=<DotBackward0>)\n",
      "'complex' similarity:  tensor(-0.0205, grad_fn=<DotBackward0>)\n",
      "Aspect  11\n",
      "'luck' similarity:  tensor(0.1812, grad_fn=<DotBackward0>)\n",
      "'alea' similarity:  tensor(0.2220, grad_fn=<DotBackward0>)\n",
      "'bookkeeping' similarity:  tensor(0.1926, grad_fn=<DotBackward0>)\n",
      "'downtime' similarity:  tensor(0.3600, grad_fn=<DotBackward0>)\n",
      "'strategy' similarity:  tensor(0.1958, grad_fn=<DotBackward0>)\n",
      "'interaction' similarity:  tensor(0.2258, grad_fn=<DotBackward0>)\n",
      "'complicated' similarity:  tensor(0.0562, grad_fn=<DotBackward0>)\n",
      "'complex' similarity:  tensor(0.0134, grad_fn=<DotBackward0>)\n",
      "Aspect  12\n",
      "'luck' similarity:  tensor(0.2453, grad_fn=<DotBackward0>)\n",
      "'alea' similarity:  tensor(0.0020, grad_fn=<DotBackward0>)\n",
      "'bookkeeping' similarity:  tensor(0.4146, grad_fn=<DotBackward0>)\n",
      "'downtime' similarity:  tensor(0.4842, grad_fn=<DotBackward0>)\n",
      "'strategy' similarity:  tensor(0.2621, grad_fn=<DotBackward0>)\n",
      "'interaction' similarity:  tensor(0.2027, grad_fn=<DotBackward0>)\n",
      "'complicated' similarity:  tensor(0.1515, grad_fn=<DotBackward0>)\n",
      "'complex' similarity:  tensor(0.0392, grad_fn=<DotBackward0>)\n",
      "Aspect  13\n",
      "'luck' similarity:  tensor(-0.0335, grad_fn=<DotBackward0>)\n",
      "'alea' similarity:  tensor(0.3230, grad_fn=<DotBackward0>)\n",
      "'bookkeeping' similarity:  tensor(0.2554, grad_fn=<DotBackward0>)\n",
      "'downtime' similarity:  tensor(-0.0523, grad_fn=<DotBackward0>)\n",
      "'strategy' similarity:  tensor(0.0237, grad_fn=<DotBackward0>)\n",
      "'interaction' similarity:  tensor(-0.2008, grad_fn=<DotBackward0>)\n",
      "'complicated' similarity:  tensor(0.1778, grad_fn=<DotBackward0>)\n",
      "'complex' similarity:  tensor(0.0130, grad_fn=<DotBackward0>)\n"
     ]
    }
   ],
   "execution_count": 25
  },
  {
   "metadata": {
    "ExecuteTime": {
     "end_time": "2024-12-02T14:32:43.486584Z",
     "start_time": "2024-12-02T14:32:43.482916Z"
    }
   },
   "cell_type": "code",
   "source": "embeddings_model.model.wv.get_vector('4p')",
   "id": "a8cf7b9e4c19e10b",
   "outputs": [
    {
     "data": {
      "text/plain": [
       "array([ 0.06464096,  0.09093551,  0.0028071 ,  0.29852405,  0.602484  ,\n",
       "       -0.7610173 , -0.3652719 ,  0.27201098,  0.15539584, -0.23070729,\n",
       "        0.85078335, -0.14241563, -0.3791329 , -0.62965673, -0.28053308,\n",
       "       -0.21491268, -0.12933089,  0.6480796 ,  0.4191215 , -0.7608188 ,\n",
       "       -0.23891445,  0.14498414,  0.8824801 ,  0.1812332 ,  0.0582756 ,\n",
       "        0.10913613, -0.5965477 , -0.06786239, -0.42944986,  0.11144818,\n",
       "        0.01937047, -0.48778266, -0.03961428,  1.133933  , -0.3447342 ,\n",
       "        0.5208978 ,  0.42408213,  0.21653399,  0.8246546 ,  0.21316518,\n",
       "       -0.12819354,  0.23317572, -0.04644729,  0.22567058, -0.32728085,\n",
       "        0.2677897 , -0.2627684 ,  0.24090816, -0.16617578,  0.21517266,\n",
       "        0.16364598, -0.2701411 ,  0.46338764,  0.6053269 , -0.06960589,\n",
       "        0.33252728,  0.2450767 , -0.2168208 , -0.9041195 ,  0.1471062 ,\n",
       "        0.16257447, -0.51723665,  0.20917365, -0.44860741,  0.6085149 ,\n",
       "       -0.26305255,  0.6510224 ,  0.26636028,  0.12356767, -0.17459211,\n",
       "       -0.26713172, -0.5284473 , -0.33066425, -0.93129474, -0.44488627,\n",
       "       -0.7629487 ,  0.19416238,  0.06983414, -0.17088789,  0.31673402,\n",
       "       -0.626181  ,  0.39849433,  0.2800551 ,  0.60768205, -0.03161115,\n",
       "        0.05377203,  0.18453859, -0.6222929 , -0.26965782,  0.42047068,\n",
       "       -0.0987955 , -0.8037428 , -0.01431629,  0.06813628,  0.9829925 ,\n",
       "       -0.50837094, -0.04545911, -0.3662371 ,  0.11702596, -0.4084151 ,\n",
       "       -0.53439623, -0.8728792 ,  0.04507098,  0.33611456, -0.27512234,\n",
       "       -0.5816877 , -0.06660621,  0.25882974,  0.42010912, -0.5605831 ,\n",
       "       -0.01886374, -0.24070564,  0.3171749 , -0.05047924, -0.1779365 ,\n",
       "       -0.06032563,  0.14916798,  0.3916119 ,  0.35040343, -0.10882244,\n",
       "       -0.45591035, -0.21956599,  0.07475622,  0.15602767, -0.16127367,\n",
       "       -0.25403368, -0.47367436,  0.54004735], dtype=float32)"
      ]
     },
     "execution_count": 33,
     "metadata": {},
     "output_type": "execute_result"
    }
   ],
   "execution_count": 33
  },
  {
   "metadata": {},
   "cell_type": "code",
   "outputs": [],
   "execution_count": null,
   "source": "",
   "id": "d9217fbe281e2fb5"
  },
  {
   "metadata": {},
   "cell_type": "markdown",
   "source": "# Kickstarter Less Dataset (64K)",
   "id": "da621a3b2ab32e64"
  },
  {
   "metadata": {},
   "cell_type": "markdown",
   "source": "File paths (Embeddings and corpus)",
   "id": "d126e5c53cdd574a"
  },
  {
   "metadata": {
    "ExecuteTime": {
     "end_time": "2024-12-03T16:57:28.556765Z",
     "start_time": "2024-12-03T16:57:28.554910Z"
    }
   },
   "cell_type": "code",
   "source": [
    "corpus_file = \"./../data/corpus.preprocessed.kickstarter_removed.csv\"\n",
    "embeddings_file = \"./../data/word-embeddings.kickstarter_removed.model\"\n",
    "aspects_file = \"./../data/aspects-embedding.kickstarter_removed.model\""
   ],
   "id": "fa5e196ad6800a01",
   "outputs": [],
   "execution_count": 4
  },
  {
   "metadata": {},
   "cell_type": "markdown",
   "source": [
    "### Hyper-parameters\n",
    "These should have been discussed earlier. <br>\n",
    "We could do hyperparmeter optimization, but how do we 'validate' our model? <br>"
   ],
   "id": "12cc28937090ae66"
  },
  {
   "metadata": {
    "ExecuteTime": {
     "end_time": "2024-12-03T16:57:28.924909Z",
     "start_time": "2024-12-03T16:57:28.922654Z"
    }
   },
   "cell_type": "code",
   "source": "max_vocab_size = 16000  # Maximum amount of different words in vocabulary",
   "id": "ca55efd5d1b571f5",
   "outputs": [],
   "execution_count": 5
  },
  {
   "metadata": {
    "ExecuteTime": {
     "end_time": "2024-12-03T16:57:29.139388Z",
     "start_time": "2024-12-03T16:57:29.136575Z"
    }
   },
   "cell_type": "code",
   "source": [
    "word_embedding_size = 128  # Size of the word embeddings\n",
    "aspect_embedding_size = 128  # Size of the aspect embeddings"
   ],
   "id": "1ccf623a42eebb53",
   "outputs": [],
   "execution_count": 6
  },
  {
   "metadata": {},
   "cell_type": "markdown",
   "source": "## Data Loading",
   "id": "f495be92a0b71f91"
  },
  {
   "metadata": {
    "ExecuteTime": {
     "end_time": "2024-12-03T16:58:01.948893Z",
     "start_time": "2024-12-03T16:58:01.857492Z"
    }
   },
   "cell_type": "code",
   "source": [
    "import core.utils\n",
    "\n",
    "corpus_load_utility = core.utils.LoadCorpusUtility()"
   ],
   "id": "263215177decadaf",
   "outputs": [],
   "execution_count": 9
  },
  {
   "metadata": {
    "ExecuteTime": {
     "end_time": "2024-12-03T16:58:14.887220Z",
     "start_time": "2024-12-03T16:58:14.885038Z"
    }
   },
   "cell_type": "code",
   "source": [
    "import core.embeddings as embeddings\n",
    "\n",
    "emb_model = embeddings.WordEmbedding(\n",
    "    corpus_loader_utility=corpus_load_utility, max_vocab_size=max_vocab_size,\n",
    "    embedding_size=word_embedding_size, target_model_file=embeddings_file, corpus_file=corpus_file\n",
    ")\n",
    "\n",
    "aspect_emb_model = embeddings.AspectEmbedding(\n",
    "    aspect_size=aspect_size, embedding_size=aspect_embedding_size,\n",
    "    base_embeddings=emb_model, target_model_file=aspects_file\n",
    ")"
   ],
   "id": "8bee656742d03d72",
   "outputs": [],
   "execution_count": 12
  },
  {
   "metadata": {},
   "cell_type": "markdown",
   "source": "Load models",
   "id": "9e6d144c380681b9"
  },
  {
   "metadata": {
    "ExecuteTime": {
     "end_time": "2024-12-03T16:58:43.914495Z",
     "start_time": "2024-12-03T16:58:32.942168Z"
    }
   },
   "cell_type": "code",
   "source": [
    "emb_model.load_model()\n",
    "aspect_emb_model.load_model()"
   ],
   "id": "510150b83f3f9ee6",
   "outputs": [
    {
     "data": {
      "text/plain": [
       "Pandas Apply:   0%|          | 0/50115 [00:00<?, ?it/s]"
      ],
      "application/vnd.jupyter.widget-view+json": {
       "version_major": 2,
       "version_minor": 0,
       "model_id": "407e8a75d30840038d81a495f7cdfd31"
      }
     },
     "metadata": {},
     "output_type": "display_data"
    },
    {
     "data": {
      "text/plain": [
       "Pandas Apply:   0%|          | 0/50115 [00:00<?, ?it/s]"
      ],
      "application/vnd.jupyter.widget-view+json": {
       "version_major": 2,
       "version_minor": 0,
       "model_id": "40e704add689484d800a139000e10d3b"
      }
     },
     "metadata": {},
     "output_type": "display_data"
    },
    {
     "name": "stderr",
     "output_type": "stream",
     "text": [
      "INFO:gensim.models.word2vec:collecting all words and their counts\n",
      "INFO:gensim.models.word2vec:PROGRESS: at sentence #0, processed 0 words, keeping 0 word types\n",
      "INFO:gensim.models.word2vec:PROGRESS: at sentence #10000, processed 196913 words, keeping 8892 word types\n",
      "INFO:gensim.models.word2vec:PROGRESS: at sentence #20000, processed 427194 words, keeping 11177 word types\n",
      "INFO:gensim.models.word2vec:PROGRESS: at sentence #30000, processed 648339 words, keeping 12220 word types\n",
      "INFO:gensim.models.word2vec:PROGRESS: at sentence #40000, processed 884135 words, keeping 12706 word types\n",
      "INFO:gensim.models.word2vec:PROGRESS: at sentence #50000, processed 1127436 words, keeping 12920 word types\n",
      "INFO:gensim.models.word2vec:collected 12922 word types from a corpus of 1130593 raw words and 50115 sentences\n",
      "INFO:gensim.models.word2vec:Creating a fresh vocabulary\n",
      "DEBUG:gensim.utils:starting a new internal lifecycle event log for Word2Vec\n",
      "INFO:gensim.utils:Word2Vec lifecycle event {'msg': 'effective_min_count=3 retains 12922 unique words (100.00% of original 12922, drops 0)', 'datetime': '2024-12-03T17:58:42.379939', 'gensim': '4.3.3', 'python': '3.12.3 (main, Nov  6 2024, 18:32:19) [GCC 13.2.0]', 'platform': 'Linux-6.8.0-49-generic-x86_64-with-glibc2.39', 'event': 'prepare_vocab'}\n",
      "INFO:gensim.utils:Word2Vec lifecycle event {'msg': 'effective_min_count=3 leaves 1130593 word corpus (100.00% of original 1130593, drops 0)', 'datetime': '2024-12-03T17:58:42.380876', 'gensim': '4.3.3', 'python': '3.12.3 (main, Nov  6 2024, 18:32:19) [GCC 13.2.0]', 'platform': 'Linux-6.8.0-49-generic-x86_64-with-glibc2.39', 'event': 'prepare_vocab'}\n",
      "INFO:gensim.models.word2vec:deleting the raw counts dictionary of 12922 items\n",
      "INFO:gensim.models.word2vec:sample=0.001 downsamples 47 most-common words\n",
      "INFO:gensim.utils:Word2Vec lifecycle event {'msg': 'downsampling leaves estimated 957121.1097200726 word corpus (84.7%% of prior 1130593)', 'datetime': '2024-12-03T17:58:42.420071', 'gensim': '4.3.3', 'python': '3.12.3 (main, Nov  6 2024, 18:32:19) [GCC 13.2.0]', 'platform': 'Linux-6.8.0-49-generic-x86_64-with-glibc2.39', 'event': 'prepare_vocab'}\n",
      "INFO:gensim.models.word2vec:estimated required memory for 12922 words and 128 dimensions: 19693128 bytes\n",
      "INFO:gensim.models.word2vec:resetting layer weights\n",
      "INFO:gensim.utils:Word2Vec lifecycle event {'update': False, 'trim_rule': 'None', 'datetime': '2024-12-03T17:58:42.480625', 'gensim': '4.3.3', 'python': '3.12.3 (main, Nov  6 2024, 18:32:19) [GCC 13.2.0]', 'platform': 'Linux-6.8.0-49-generic-x86_64-with-glibc2.39', 'event': 'build_vocab'}\n",
      "INFO:gensim.utils:Word2Vec lifecycle event {'msg': 'training core with 8 workers on 12922 vocabulary and 128 features, using sg=0 hs=0 sample=0.001 negative=5 window=5 shrink_windows=True', 'datetime': '2024-12-03T17:58:42.481036', 'gensim': '4.3.3', 'python': '3.12.3 (main, Nov  6 2024, 18:32:19) [GCC 13.2.0]', 'platform': 'Linux-6.8.0-49-generic-x86_64-with-glibc2.39', 'event': 'train'}\n",
      "DEBUG:gensim.models.word2vec:job loop exiting, total 114 jobs\n",
      "DEBUG:gensim.models.word2vec:worker exiting, processed 14 jobs\n",
      "DEBUG:gensim.models.word2vec:worker thread finished; awaiting finish of 7 more threads\n",
      "DEBUG:gensim.models.word2vec:worker exiting, processed 14 jobs\n",
      "DEBUG:gensim.models.word2vec:worker thread finished; awaiting finish of 6 more threads\n",
      "DEBUG:gensim.models.word2vec:worker exiting, processed 14 jobs\n",
      "DEBUG:gensim.models.word2vec:worker exiting, processed 14 jobs\n",
      "DEBUG:gensim.models.word2vec:worker thread finished; awaiting finish of 5 more threads\n",
      "DEBUG:gensim.models.word2vec:worker exiting, processed 14 jobs\n",
      "DEBUG:gensim.models.word2vec:worker thread finished; awaiting finish of 4 more threads\n",
      "DEBUG:gensim.models.word2vec:worker thread finished; awaiting finish of 3 more threads\n",
      "DEBUG:gensim.models.word2vec:worker exiting, processed 15 jobs\n",
      "DEBUG:gensim.models.word2vec:worker thread finished; awaiting finish of 2 more threads\n",
      "DEBUG:gensim.models.word2vec:worker exiting, processed 15 jobs\n",
      "DEBUG:gensim.models.word2vec:worker thread finished; awaiting finish of 1 more threads\n",
      "DEBUG:gensim.models.word2vec:worker exiting, processed 14 jobs\n",
      "DEBUG:gensim.models.word2vec:worker thread finished; awaiting finish of 0 more threads\n",
      "INFO:gensim.models.word2vec:EPOCH 0: training on 1130593 raw words (957049 effective words) took 0.3s, 3485358 effective words/s\n",
      "DEBUG:gensim.models.word2vec:job loop exiting, total 114 jobs\n",
      "DEBUG:gensim.models.word2vec:worker exiting, processed 14 jobs\n",
      "DEBUG:gensim.models.word2vec:worker thread finished; awaiting finish of 7 more threads\n",
      "DEBUG:gensim.models.word2vec:worker exiting, processed 14 jobs\n",
      "DEBUG:gensim.models.word2vec:worker thread finished; awaiting finish of 6 more threads\n",
      "DEBUG:gensim.models.word2vec:worker exiting, processed 14 jobs\n",
      "DEBUG:gensim.models.word2vec:worker thread finished; awaiting finish of 5 more threads\n",
      "DEBUG:gensim.models.word2vec:worker exiting, processed 14 jobs\n",
      "DEBUG:gensim.models.word2vec:worker exiting, processed 14 jobs\n",
      "DEBUG:gensim.models.word2vec:worker thread finished; awaiting finish of 4 more threads\n",
      "DEBUG:gensim.models.word2vec:worker thread finished; awaiting finish of 3 more threads\n",
      "DEBUG:gensim.models.word2vec:worker exiting, processed 14 jobs\n",
      "DEBUG:gensim.models.word2vec:worker thread finished; awaiting finish of 2 more threads\n",
      "DEBUG:gensim.models.word2vec:worker exiting, processed 15 jobs\n",
      "DEBUG:gensim.models.word2vec:worker thread finished; awaiting finish of 1 more threads\n",
      "DEBUG:gensim.models.word2vec:worker exiting, processed 15 jobs\n",
      "DEBUG:gensim.models.word2vec:worker thread finished; awaiting finish of 0 more threads\n",
      "INFO:gensim.models.word2vec:EPOCH 1: training on 1130593 raw words (956901 effective words) took 0.3s, 3602517 effective words/s\n",
      "DEBUG:gensim.models.word2vec:job loop exiting, total 114 jobs\n",
      "DEBUG:gensim.models.word2vec:worker exiting, processed 15 jobs\n",
      "DEBUG:gensim.models.word2vec:worker thread finished; awaiting finish of 7 more threads\n",
      "DEBUG:gensim.models.word2vec:worker exiting, processed 13 jobs\n",
      "DEBUG:gensim.models.word2vec:worker thread finished; awaiting finish of 6 more threads\n",
      "DEBUG:gensim.models.word2vec:worker exiting, processed 14 jobs\n",
      "DEBUG:gensim.models.word2vec:worker exiting, processed 14 jobs\n",
      "DEBUG:gensim.models.word2vec:worker thread finished; awaiting finish of 5 more threads\n",
      "DEBUG:gensim.models.word2vec:worker thread finished; awaiting finish of 4 more threads\n",
      "DEBUG:gensim.models.word2vec:worker exiting, processed 14 jobs\n",
      "DEBUG:gensim.models.word2vec:worker thread finished; awaiting finish of 3 more threads\n",
      "DEBUG:gensim.models.word2vec:worker exiting, processed 15 jobs\n",
      "DEBUG:gensim.models.word2vec:worker exiting, processed 14 jobs\n",
      "DEBUG:gensim.models.word2vec:worker thread finished; awaiting finish of 2 more threads\n",
      "DEBUG:gensim.models.word2vec:worker thread finished; awaiting finish of 1 more threads\n",
      "DEBUG:gensim.models.word2vec:worker exiting, processed 15 jobs\n",
      "DEBUG:gensim.models.word2vec:worker thread finished; awaiting finish of 0 more threads\n",
      "INFO:gensim.models.word2vec:EPOCH 2: training on 1130593 raw words (957106 effective words) took 0.2s, 3931222 effective words/s\n",
      "DEBUG:gensim.models.word2vec:job loop exiting, total 114 jobs\n",
      "DEBUG:gensim.models.word2vec:worker exiting, processed 14 jobs\n",
      "DEBUG:gensim.models.word2vec:worker thread finished; awaiting finish of 7 more threads\n",
      "DEBUG:gensim.models.word2vec:worker exiting, processed 14 jobs\n",
      "DEBUG:gensim.models.word2vec:worker thread finished; awaiting finish of 6 more threads\n",
      "DEBUG:gensim.models.word2vec:worker exiting, processed 14 jobs\n",
      "DEBUG:gensim.models.word2vec:worker thread finished; awaiting finish of 5 more threads\n",
      "DEBUG:gensim.models.word2vec:worker exiting, processed 15 jobs\n",
      "DEBUG:gensim.models.word2vec:worker thread finished; awaiting finish of 4 more threads\n",
      "DEBUG:gensim.models.word2vec:worker exiting, processed 14 jobs\n",
      "DEBUG:gensim.models.word2vec:worker thread finished; awaiting finish of 3 more threads\n",
      "DEBUG:gensim.models.word2vec:worker exiting, processed 14 jobs\n",
      "DEBUG:gensim.models.word2vec:worker thread finished; awaiting finish of 2 more threads\n",
      "DEBUG:gensim.models.word2vec:worker exiting, processed 14 jobs\n",
      "DEBUG:gensim.models.word2vec:worker thread finished; awaiting finish of 1 more threads\n",
      "DEBUG:gensim.models.word2vec:worker exiting, processed 15 jobs\n",
      "DEBUG:gensim.models.word2vec:worker thread finished; awaiting finish of 0 more threads\n",
      "INFO:gensim.models.word2vec:EPOCH 3: training on 1130593 raw words (956836 effective words) took 0.2s, 4264747 effective words/s\n",
      "DEBUG:gensim.models.word2vec:job loop exiting, total 114 jobs\n",
      "DEBUG:gensim.models.word2vec:worker exiting, processed 14 jobs\n",
      "DEBUG:gensim.models.word2vec:worker thread finished; awaiting finish of 7 more threads\n",
      "DEBUG:gensim.models.word2vec:worker exiting, processed 14 jobs\n",
      "DEBUG:gensim.models.word2vec:worker thread finished; awaiting finish of 6 more threads\n",
      "DEBUG:gensim.models.word2vec:worker exiting, processed 14 jobs\n",
      "DEBUG:gensim.models.word2vec:worker thread finished; awaiting finish of 5 more threads\n",
      "DEBUG:gensim.models.word2vec:worker exiting, processed 14 jobs\n",
      "DEBUG:gensim.models.word2vec:worker exiting, processed 15 jobs\n",
      "DEBUG:gensim.models.word2vec:worker thread finished; awaiting finish of 4 more threads\n",
      "DEBUG:gensim.models.word2vec:worker thread finished; awaiting finish of 3 more threads\n",
      "DEBUG:gensim.models.word2vec:worker exiting, processed 14 jobs\n",
      "DEBUG:gensim.models.word2vec:worker thread finished; awaiting finish of 2 more threads\n",
      "DEBUG:gensim.models.word2vec:worker exiting, processed 15 jobs\n",
      "DEBUG:gensim.models.word2vec:worker thread finished; awaiting finish of 1 more threads\n",
      "DEBUG:gensim.models.word2vec:worker exiting, processed 14 jobs\n",
      "DEBUG:gensim.models.word2vec:worker thread finished; awaiting finish of 0 more threads\n",
      "INFO:gensim.models.word2vec:EPOCH 4: training on 1130593 raw words (957124 effective words) took 0.2s, 4146536 effective words/s\n",
      "INFO:gensim.utils:Word2Vec lifecycle event {'msg': 'training on 5652965 raw words (4785016 effective words) took 1.3s, 3783645 effective words/s', 'datetime': '2024-12-03T17:58:43.745938', 'gensim': '4.3.3', 'python': '3.12.3 (main, Nov  6 2024, 18:32:19) [GCC 13.2.0]', 'platform': 'Linux-6.8.0-49-generic-x86_64-with-glibc2.39', 'event': 'train'}\n",
      "INFO:gensim.utils:Word2Vec lifecycle event {'params': 'Word2Vec<vocab=12922, vector_size=128, alpha=0.025>', 'datetime': '2024-12-03T17:58:43.746335', 'gensim': '4.3.3', 'python': '3.12.3 (main, Nov  6 2024, 18:32:19) [GCC 13.2.0]', 'platform': 'Linux-6.8.0-49-generic-x86_64-with-glibc2.39', 'event': 'created'}\n",
      "INFO:gensim.utils:Word2Vec lifecycle event {'fname_or_handle': './../data/word-embeddings.kickstarter_removed.model', 'separately': 'None', 'sep_limit': 10485760, 'ignore': frozenset(), 'datetime': '2024-12-03T17:58:43.763895', 'gensim': '4.3.3', 'python': '3.12.3 (main, Nov  6 2024, 18:32:19) [GCC 13.2.0]', 'platform': 'Linux-6.8.0-49-generic-x86_64-with-glibc2.39', 'event': 'saving'}\n",
      "INFO:gensim.utils:not storing attribute cum_table\n",
      "DEBUG:smart_open.smart_open_lib:{'uri': './../data/word-embeddings.kickstarter_removed.model', 'mode': 'wb', 'buffering': -1, 'encoding': None, 'errors': None, 'newline': None, 'closefd': True, 'opener': None, 'compression': 'infer_from_extension', 'transport_params': None}\n",
      "INFO:gensim.utils:saved ./../data/word-embeddings.kickstarter_removed.model\n"
     ]
    }
   ],
   "execution_count": 13
  },
  {
   "metadata": {
    "ExecuteTime": {
     "end_time": "2024-12-03T16:58:50.853317Z",
     "start_time": "2024-12-03T16:58:45.869780Z"
    }
   },
   "cell_type": "code",
   "source": [
    "import dataset\n",
    "from torch.utils.data import DataLoader\n",
    "\n",
    "vocabulary = emb_model.model.wv.key_to_index\n",
    "\n",
    "train = dataset.PositiveNegativeCommentGeneratorDataset(\n",
    "    vocabulary=vocabulary, csv_dataset_path=corpus_file, negative_size=15\n",
    ")\n",
    "\n",
    "train_dataloader = DataLoader(train, batch_size=64, shuffle=True)"
   ],
   "id": "6531a99fd98731b7",
   "outputs": [
    {
     "name": "stdout",
     "output_type": "stream",
     "text": [
      "Loading spacy model.\n",
      "Loading dataset from file: ./../data/corpus.preprocessed.kickstarter_removed.csv\n",
      "Generating numeric representation for each word of ds.\n"
     ]
    },
    {
     "data": {
      "text/plain": [
       "Pandas Apply:   0%|          | 0/50115 [00:00<?, ?it/s]"
      ],
      "application/vnd.jupyter.widget-view+json": {
       "version_major": 2,
       "version_minor": 0,
       "model_id": "8d1aa1b009574748a7cf6cb6b49b85e3"
      }
     },
     "metadata": {},
     "output_type": "display_data"
    },
    {
     "name": "stdout",
     "output_type": "stream",
     "text": [
      "Max sequence length calculation in progress...\n",
      "We loose information on 136 points.This is 0.2713758355781702% of the dataset.\n",
      "Padding sequences to max length (256).\n",
      "Max sequence length is:  1235  but we will limit sequences to 256 tokens.\n"
     ]
    }
   ],
   "execution_count": 14
  },
  {
   "metadata": {},
   "cell_type": "markdown",
   "source": "## Model Setup",
   "id": "5a629c5fdfce7295"
  },
  {
   "metadata": {
    "ExecuteTime": {
     "end_time": "2024-12-03T16:59:00.103236Z",
     "start_time": "2024-12-03T16:59:00.100124Z"
    }
   },
   "cell_type": "code",
   "source": [
    "from core.model import ABAEGenerator\n",
    "\n",
    "generator = ABAEGenerator(train.max_seq_length, train.negative_size, emb_model, aspect_emb_model)"
   ],
   "id": "9c1f013539bb6810",
   "outputs": [],
   "execution_count": 15
  },
  {
   "metadata": {
    "ExecuteTime": {
     "end_time": "2024-12-03T16:59:00.869051Z",
     "start_time": "2024-12-03T16:59:00.865275Z"
    }
   },
   "cell_type": "code",
   "source": [
    "import torch\n",
    "\n",
    "# Asses that we have GPU working\n",
    "torch.cuda.get_device_name(0)"
   ],
   "id": "299fd7f33c416aa2",
   "outputs": [
    {
     "data": {
      "text/plain": [
       "'NVIDIA GeForce RTX 3070 Ti'"
      ]
     },
     "execution_count": 16,
     "metadata": {},
     "output_type": "execute_result"
    }
   ],
   "execution_count": 16
  },
  {
   "metadata": {},
   "cell_type": "markdown",
   "source": "## Train Phase",
   "id": "734f86198c2d9ac7"
  },
  {
   "metadata": {
    "ExecuteTime": {
     "end_time": "2024-12-03T16:59:03.141949Z",
     "start_time": "2024-12-03T16:59:03.139211Z"
    }
   },
   "cell_type": "code",
   "source": [
    "optimizer = 'adam'  # We try Adam as it converges faster\n",
    "batch_size = 64\n",
    "epochs = 20"
   ],
   "id": "fb18cc90450c13ec",
   "outputs": [],
   "execution_count": 17
  },
  {
   "metadata": {
    "ExecuteTime": {
     "end_time": "2024-12-03T17:09:16.263545Z",
     "start_time": "2024-12-03T16:59:04.232698Z"
    }
   },
   "cell_type": "code",
   "source": [
    "from core import utils\n",
    "\n",
    "training_model = generator.make_training_model()\n",
    "training_model.compile(optimizer=optimizer, loss=[utils.max_margin_loss], metrics={'max_margin': utils.max_margin_loss})\n",
    "history = training_model.fit(x=train_dataloader, batch_size=64, epochs=15)"
   ],
   "id": "b2037a83a19c40c2",
   "outputs": [
    {
     "name": "stdout",
     "output_type": "stream",
     "text": [
      "Epoch 1/15\n"
     ]
    },
    {
     "name": "stderr",
     "output_type": "stream",
     "text": [
      "/home/jacopo/PycharmProjects/nlp-course-project/core/layer.py:126: UserWarning: Do not pass an `input_shape`/`input_dim` argument to a layer. When using Sequential models, prefer using an `Input(shape)` object as the first layer in the core instead.\n",
      "  super(WeightedAspectEmb, self).__init__(**kwargs)\n"
     ]
    },
    {
     "name": "stdout",
     "output_type": "stream",
     "text": [
      "\u001B[1m784/784\u001B[0m \u001B[32m━━━━━━━━━━━━━━━━━━━━\u001B[0m\u001B[37m\u001B[0m \u001B[1m38s\u001B[0m 48ms/step - loss: 9.5550 - max_margin_loss: 9.5550\n",
      "Epoch 2/15\n",
      "\u001B[1m784/784\u001B[0m \u001B[32m━━━━━━━━━━━━━━━━━━━━\u001B[0m\u001B[37m\u001B[0m \u001B[1m37s\u001B[0m 48ms/step - loss: 4.8051 - max_margin_loss: 4.8051\n",
      "Epoch 3/15\n",
      "\u001B[1m784/784\u001B[0m \u001B[32m━━━━━━━━━━━━━━━━━━━━\u001B[0m\u001B[37m\u001B[0m \u001B[1m37s\u001B[0m 47ms/step - loss: 4.2061 - max_margin_loss: 4.2061\n",
      "Epoch 4/15\n",
      "\u001B[1m784/784\u001B[0m \u001B[32m━━━━━━━━━━━━━━━━━━━━\u001B[0m\u001B[37m\u001B[0m \u001B[1m37s\u001B[0m 48ms/step - loss: 4.0448 - max_margin_loss: 4.0448\n",
      "Epoch 5/15\n",
      "\u001B[1m784/784\u001B[0m \u001B[32m━━━━━━━━━━━━━━━━━━━━\u001B[0m\u001B[37m\u001B[0m \u001B[1m41s\u001B[0m 53ms/step - loss: 3.9617 - max_margin_loss: 3.9617\n",
      "Epoch 6/15\n",
      "\u001B[1m784/784\u001B[0m \u001B[32m━━━━━━━━━━━━━━━━━━━━\u001B[0m\u001B[37m\u001B[0m \u001B[1m42s\u001B[0m 54ms/step - loss: 3.9426 - max_margin_loss: 3.9426\n",
      "Epoch 7/15\n",
      "\u001B[1m784/784\u001B[0m \u001B[32m━━━━━━━━━━━━━━━━━━━━\u001B[0m\u001B[37m\u001B[0m \u001B[1m42s\u001B[0m 53ms/step - loss: 3.8991 - max_margin_loss: 3.8991\n",
      "Epoch 8/15\n",
      "\u001B[1m784/784\u001B[0m \u001B[32m━━━━━━━━━━━━━━━━━━━━\u001B[0m\u001B[37m\u001B[0m \u001B[1m42s\u001B[0m 54ms/step - loss: 3.8871 - max_margin_loss: 3.8871\n",
      "Epoch 9/15\n",
      "\u001B[1m784/784\u001B[0m \u001B[32m━━━━━━━━━━━━━━━━━━━━\u001B[0m\u001B[37m\u001B[0m \u001B[1m42s\u001B[0m 54ms/step - loss: 3.8583 - max_margin_loss: 3.8583\n",
      "Epoch 10/15\n",
      "\u001B[1m784/784\u001B[0m \u001B[32m━━━━━━━━━━━━━━━━━━━━\u001B[0m\u001B[37m\u001B[0m \u001B[1m42s\u001B[0m 53ms/step - loss: 3.8567 - max_margin_loss: 3.8567\n",
      "Epoch 11/15\n",
      "\u001B[1m784/784\u001B[0m \u001B[32m━━━━━━━━━━━━━━━━━━━━\u001B[0m\u001B[37m\u001B[0m \u001B[1m42s\u001B[0m 54ms/step - loss: 3.8637 - max_margin_loss: 3.8637\n",
      "Epoch 12/15\n",
      "\u001B[1m784/784\u001B[0m \u001B[32m━━━━━━━━━━━━━━━━━━━━\u001B[0m\u001B[37m\u001B[0m \u001B[1m42s\u001B[0m 53ms/step - loss: 3.8649 - max_margin_loss: 3.8649\n",
      "Epoch 13/15\n",
      "\u001B[1m784/784\u001B[0m \u001B[32m━━━━━━━━━━━━━━━━━━━━\u001B[0m\u001B[37m\u001B[0m \u001B[1m42s\u001B[0m 53ms/step - loss: 3.8312 - max_margin_loss: 3.8312\n",
      "Epoch 14/15\n",
      "\u001B[1m784/784\u001B[0m \u001B[32m━━━━━━━━━━━━━━━━━━━━\u001B[0m\u001B[37m\u001B[0m \u001B[1m43s\u001B[0m 54ms/step - loss: 3.8144 - max_margin_loss: 3.8144\n",
      "Epoch 15/15\n",
      "\u001B[1m784/784\u001B[0m \u001B[32m━━━━━━━━━━━━━━━━━━━━\u001B[0m\u001B[37m\u001B[0m \u001B[1m42s\u001B[0m 54ms/step - loss: 3.8309 - max_margin_loss: 3.8309\n"
     ]
    }
   ],
   "execution_count": 18
  },
  {
   "metadata": {},
   "cell_type": "markdown",
   "source": "## Persist model",
   "id": "72e9fa24f8cf8218"
  },
  {
   "metadata": {
    "ExecuteTime": {
     "end_time": "2024-12-03T17:48:04.752017Z",
     "start_time": "2024-12-03T17:48:04.715757Z"
    }
   },
   "cell_type": "code",
   "source": "training_model.save(\"./../data/abae.kickstarter_removed_64K.keras\")",
   "id": "97b7e4288c9cfc18",
   "outputs": [],
   "execution_count": 38
  },
  {
   "metadata": {},
   "cell_type": "markdown",
   "source": "## Model Evaluation",
   "id": "ebff482ae6fb225e"
  },
  {
   "metadata": {
    "ExecuteTime": {
     "end_time": "2024-12-03T17:48:05.608611Z",
     "start_time": "2024-12-03T17:48:05.562086Z"
    }
   },
   "cell_type": "code",
   "source": [
    "# Load evaluation model\n",
    "inference_model = generator.make_model(\"./../data/abae.kickstarter_removed_64K.keras\")"
   ],
   "id": "924eaacb4373045b",
   "outputs": [],
   "execution_count": 39
  },
  {
   "metadata": {
    "ExecuteTime": {
     "end_time": "2024-12-03T17:48:06.916303Z",
     "start_time": "2024-12-03T17:48:06.910436Z"
    }
   },
   "cell_type": "code",
   "source": [
    "word_emb = inference_model.get_layer('word_embedding').get_weights()[0]\n",
    "word_emb = torch.from_numpy(word_emb)\n",
    "\n",
    "word_emb.shape"
   ],
   "id": "7ef33a0ebda5b205",
   "outputs": [
    {
     "data": {
      "text/plain": [
       "torch.Size([12922, 128])"
      ]
     },
     "execution_count": 40,
     "metadata": {},
     "output_type": "execute_result"
    }
   ],
   "execution_count": 40
  },
  {
   "metadata": {
    "ExecuteTime": {
     "end_time": "2024-12-03T17:48:07.399001Z",
     "start_time": "2024-12-03T17:48:07.396327Z"
    }
   },
   "cell_type": "code",
   "source": [
    "aspect_embeddings = inference_model.get_layer('weighted_aspect_emb').W\n",
    "vocab_inv = emb_model.model.wv.index_to_key"
   ],
   "id": "b2acc1200eefafc",
   "outputs": [],
   "execution_count": 41
  },
  {
   "metadata": {
    "ExecuteTime": {
     "end_time": "2024-12-03T17:48:07.668190Z",
     "start_time": "2024-12-03T17:48:07.636049Z"
    }
   },
   "cell_type": "code",
   "source": [
    "import numpy as np\n",
    "\n",
    "#todo method\n",
    "aspect_words = []\n",
    "aspect_index = 0\n",
    "\n",
    "for aspect in aspect_embeddings:\n",
    "    aspect = aspect.cpu()\n",
    "    # Calculate the cosine similarity of each word with the aspect\n",
    "    word_emb = word_emb / torch.linalg.norm(word_emb, dim=-1, keepdim=True)\n",
    "    aspect = aspect / torch.linalg.norm(aspect, dim=-1, keepdim=True)\n",
    "\n",
    "    similarity = word_emb.matmul(aspect.T)\n",
    "\n",
    "    numpy_similarity = similarity.detach().numpy()\n",
    "\n",
    "    ordered_words = np.argsort(numpy_similarity)[::-1]\n",
    "    desc_list = [(vocab_inv[w], numpy_similarity[w]) for w in ordered_words[:15]]\n",
    "    aspect_words.append(desc_list)\n",
    "\n",
    "    print(\"Aspect \", aspect_index)\n",
    "    for i in desc_list:\n",
    "        # hr][/i is not a valid word. meh.\n",
    "        print(\"Word: \", i[0], f\"({i[1]})\")\n",
    "\n",
    "    aspect_index += 1"
   ],
   "id": "716414d14e7b10a5",
   "outputs": [
    {
     "name": "stdout",
     "output_type": "stream",
     "text": [
      "Aspect  0\n",
      "Word:  not (0.719325065612793)\n",
      "Word:  will (0.681557297706604)\n",
      "Word:  play (0.6385544538497925)\n",
      "Word:  soon (0.6287999749183655)\n",
      "Word:  say (0.6282198429107666)\n",
      "Word:  excited (0.6232393980026245)\n",
      "Word:  having (0.6223326325416565)\n",
      "Word:  know (0.6069502830505371)\n",
      "Word:  hear (0.598689079284668)\n",
      "Word:  anymore (0.5897776484489441)\n",
      "Word:  try (0.5886120796203613)\n",
      "Word:  finally (0.5843713283538818)\n",
      "Word:  exactly (0.5788878202438354)\n",
      "Word:  sure (0.5717058181762695)\n",
      "Word:  continue (0.5636522769927979)\n",
      "Aspect  1\n",
      "Word:  carte (0.4393817186355591)\n",
      "Word:  paddle (0.31424713134765625)\n",
      "Word:  11/17 (0.26404044032096863)\n",
      "Word:  maxing (0.22924785315990448)\n",
      "Word:  players:2 (0.18000350892543793)\n",
      "Word:  steph (0.176033154129982)\n",
      "Word:  dice (0.17405401170253754)\n",
      "Word:  rule (0.15369495749473572)\n",
      "Word:  65x100 (0.1498761773109436)\n",
      "Word:  upd (0.1420460045337677)\n",
      "Word:  boni (0.13681727647781372)\n",
      "Word:  card (0.13198794424533844)\n",
      "Word:  worker (0.1316823959350586)\n",
      "Word:  lv (0.13022227585315704)\n",
      "Word:  bedford (0.1233481764793396)\n",
      "Aspect  2\n",
      "Word:  gain (0.8589072227478027)\n",
      "Word:  contract (0.8477118015289307)\n",
      "Word:  track (0.8379690647125244)\n",
      "Word:  income (0.8307192921638489)\n",
      "Word:  bonus (0.8294844627380371)\n",
      "Word:  vp (0.8165055513381958)\n",
      "Word:  block (0.815031886100769)\n",
      "Word:  region (0.8142853379249573)\n",
      "Word:  position (0.8139848709106445)\n",
      "Word:  location (0.8098782300949097)\n",
      "Word:  claim (0.8065125942230225)\n",
      "Word:  vps (0.7804019451141357)\n",
      "Word:  marker (0.7762234210968018)\n",
      "Word:  boat (0.775740385055542)\n",
      "Word:  advance (0.7716835737228394)\n",
      "Aspect  3\n",
      "Word:  mix (0.6559852361679077)\n",
      "Word:  economic (0.6466602087020874)\n",
      "Word:  tableau (0.6426592469215393)\n",
      "Word:  combine (0.6330661177635193)\n",
      "Word:  unique (0.6230589747428894)\n",
      "Word:  trading (0.6137843728065491)\n",
      "Word:  deckbuilding (0.6109145283699036)\n",
      "Word:  strong (0.600659966468811)\n",
      "Word:  civ (0.5989500284194946)\n",
      "Word:  tech (0.5975072979927063)\n",
      "Word:  management (0.5909059643745422)\n",
      "Word:  building (0.5908499956130981)\n",
      "Word:  aspect (0.5906785726547241)\n",
      "Word:  combination (0.5845129489898682)\n",
      "Word:  exploration (0.5809946060180664)\n",
      "Aspect  4\n",
      "Word:  <UNK> (0.5990791916847229)\n",
      "Word:  designer (0.40778523683547974)\n",
      "Word:  publisher (0.37603330612182617)\n",
      "Word:  12/20 (0.3737955689430237)\n",
      "Word:  piff (0.3627280294895172)\n",
      "Word:  sophie (0.3559439778327942)\n",
      "Word:  isaac (0.34978726506233215)\n",
      "Word:  j. (0.3471839129924774)\n",
      "Word:  album (0.34280747175216675)\n",
      "Word:  darkgreen][/color (0.3418430685997009)\n",
      "Word:  119 (0.33482712507247925)\n",
      "Word:  sydney (0.32864466309547424)\n",
      "Word:  gadget (0.3276911675930023)\n",
      "Word:  econ (0.32388925552368164)\n",
      "Word:  kmc (0.3215320408344269)\n",
      "Aspect  5\n",
      "Word:  intuitive (0.7642618417739868)\n",
      "Word:  complicated (0.761641263961792)\n",
      "Word:  complex (0.7431743144989014)\n",
      "Word:  fairly (0.7415742874145508)\n",
      "Word:  learning (0.737786591053009)\n",
      "Word:  relatively (0.7317211627960205)\n",
      "Word:  explain (0.7285305261611938)\n",
      "Word:  rule (0.7095352411270142)\n",
      "Word:  iconography (0.7029197216033936)\n",
      "Word:  curve (0.6872715950012207)\n",
      "Word:  confusing (0.6788454055786133)\n",
      "Word:  ruleset (0.6586854457855225)\n",
      "Word:  smooth (0.6577022075653076)\n",
      "Word:  rulebook (0.6565356254577637)\n",
      "Word:  grasp (0.6540411710739136)\n",
      "Aspect  6\n",
      "Word:  family (0.7456180453300476)\n",
      "Word:  gamer (0.7324247360229492)\n",
      "Word:  casual (0.7282995581626892)\n",
      "Word:  party (0.7018249034881592)\n",
      "Word:  young (0.6986703872680664)\n",
      "Word:  adult (0.6838368773460388)\n",
      "Word:  kid (0.6826094388961792)\n",
      "Word:  night (0.6798765659332275)\n",
      "Word:  gateway (0.6766979694366455)\n",
      "Word:  child (0.6750786304473877)\n",
      "Word:  gaming (0.6603400111198425)\n",
      "Word:  social (0.6479837894439697)\n",
      "Word:  boardgame (0.6330210566520691)\n",
      "Word:  friend (0.6302310824394226)\n",
      "Word:  deduction (0.6092300415039062)\n",
      "Aspect  7\n",
      "Word:  outcome (0.7382886409759521)\n",
      "Word:  lucky (0.7359994649887085)\n",
      "Word:  randomness (0.7175490856170654)\n",
      "Word:  mitigate (0.7101521492004395)\n",
      "Word:  success (0.7045121192932129)\n",
      "Word:  die (0.7022254467010498)\n",
      "Word:  result (0.6984173059463501)\n",
      "Word:  probabilistic (0.6882749795913696)\n",
      "Word:  luck (0.6763785481452942)\n",
      "Word:  swing (0.6492516994476318)\n",
      "Word:  unlucky (0.6482275128364563)\n",
      "Word:  random (0.6426502466201782)\n",
      "Word:  happen (0.6406224966049194)\n",
      "Word:  roll (0.6365934610366821)\n",
      "Word:  screw (0.6353144645690918)\n",
      "Aspect  8\n",
      "Word:  5 (0.8060051202774048)\n",
      "Word:  4 (0.7810972929000854)\n",
      "Word:  6 (0.7795281410217285)\n",
      "Word:  2 (0.7643346786499023)\n",
      "Word:  3 (0.7307590246200562)\n",
      "Word:  4p (0.729219913482666)\n",
      "Word:  ease'play (0.7214466333389282)\n",
      "Word:  1 (0.7127108573913574)\n",
      "Word:  min (0.6980432868003845)\n",
      "Word:  4/4 (0.6865743398666382)\n",
      "Word:  max (0.6855091452598572)\n",
      "Word:  7.3 (0.6574913859367371)\n",
      "Word:  60 (0.6573320627212524)\n",
      "Word:  12 (0.6470527648925781)\n",
      "Word:  60–120 (0.6439566612243652)\n",
      "Aspect  9\n",
      "Word:  war (0.721706211566925)\n",
      "Word:  lord (0.6312472820281982)\n",
      "Word:  imperium (0.6078771352767944)\n",
      "Word:  imperial (0.596443772315979)\n",
      "Word:  memoir (0.5949827432632446)\n",
      "Word:  ring (0.5923588275909424)\n",
      "Word:  star (0.5892086029052734)\n",
      "Word:  vi (0.5854843258857727)\n",
      "Word:  trek (0.5812350511550903)\n",
      "Word:  sea (0.5799443125724792)\n",
      "Word:  realm (0.5786351561546326)\n",
      "Word:  civil (0.5753166675567627)\n",
      "Word:  ancient (0.5742967128753662)\n",
      "Word:  dorado (0.5739076137542725)\n",
      "Word:  wing (0.5651799440383911)\n",
      "Aspect  10\n",
      "Word:  insert (0.8290242552757263)\n",
      "Word:  plastic (0.8042731881141663)\n",
      "Word:  print (0.7663625478744507)\n",
      "Word:  storage (0.749025821685791)\n",
      "Word:  cardboard (0.7387248277664185)\n",
      "Word:  mini (0.7273460626602173)\n",
      "Word:  3d (0.7115734219551086)\n",
      "Word:  tray (0.696864128112793)\n",
      "Word:  paint (0.6964814066886902)\n",
      "Word:  miniature (0.6961793303489685)\n",
      "Word:  custom (0.6782448291778564)\n",
      "Word:  sleeve (0.6748064160346985)\n",
      "Word:  mat (0.6656802296638489)\n",
      "Word:  box (0.6601845026016235)\n",
      "Word:  thick (0.6438164710998535)\n",
      "Aspect  11\n",
      "Word:  2017 (0.8244156241416931)\n",
      "Word:  2023 (0.8177643418312073)\n",
      "Word:  2021 (0.8138757348060608)\n",
      "Word:  2020 (0.8129057884216309)\n",
      "Word:  2019 (0.8107484579086304)\n",
      "Word:  2014 (0.8043575286865234)\n",
      "Word:  june (0.8033514022827148)\n",
      "Word:  2022 (0.796685516834259)\n",
      "Word:  2016 (0.7953429222106934)\n",
      "Word:  essen (0.7933415174484253)\n",
      "Word:  2018 (0.7882845401763916)\n",
      "Word:  2015 (0.7880985736846924)\n",
      "Word:  dec (0.786654531955719)\n",
      "Word:  2024 (0.7832876443862915)\n",
      "Word:  october (0.7789247035980225)\n",
      "Aspect  12\n",
      "Word:  design (0.6125873923301697)\n",
      "Word:  graphic (0.5972588062286377)\n",
      "Word:  theme (0.5922380089759827)\n",
      "Word:  presentation (0.5829888582229614)\n",
      "Word:  feld (0.5828423500061035)\n",
      "Word:  artwork (0.5792340040206909)\n",
      "Word:  art (0.5751392841339111)\n",
      "Word:  implementation (0.5552822351455688)\n",
      "Word:  modern (0.5549209117889404)\n",
      "Word:  knizia (0.5543962717056274)\n",
      "Word:  wallace (0.5456991791725159)\n",
      "Word:  euro (0.5376086235046387)\n",
      "Word:  job (0.5318530797958374)\n",
      "Word:  aesthetic (0.5221399068832397)\n",
      "Word:  stylize (0.5202203989028931)\n",
      "Aspect  13\n",
      "Word:  tower (0.5534568428993225)\n",
      "Word:  hadrians (0.524125337600708)\n",
      "Word:  dice (0.4886391758918762)\n",
      "Word:  castle (0.4854046702384949)\n",
      "Word:  replace (0.4819451570510864)\n",
      "Word:  cube (0.4634876847267151)\n",
      "Word:  ship (0.4631989598274231)\n",
      "Word:  meeple (0.45936650037765503)\n",
      "Word:  wall (0.4125358462333679)\n",
      "Word:  bonanza (0.41208040714263916)\n",
      "Word:  place (0.4099637269973755)\n",
      "Word:  proximity (0.404344379901886)\n",
      "Word:  block (0.39971923828125)\n",
      "Word:  galaxy (0.3931801915168762)\n",
      "Word:  land (0.39205896854400635)\n"
     ]
    }
   ],
   "execution_count": 42
  },
  {
   "metadata": {
    "ExecuteTime": {
     "end_time": "2024-12-03T17:48:36.437212Z",
     "start_time": "2024-12-03T17:48:36.403969Z"
    }
   },
   "cell_type": "code",
   "source": [
    "# For each word of aspect for the aspect we calculate the coherence by AVG distance between top words\n",
    "counter = 0\n",
    "for aspect_most_representative_words in aspect_words:\n",
    "    coherence = []\n",
    "    for word in aspect_most_representative_words:\n",
    "        w, score = word\n",
    "        for word2 in aspect_most_representative_words:\n",
    "            w2, score = word2\n",
    "            if w != w2:\n",
    "                coherence.append(emb_model.model.wv.similarity(w, w2))\n",
    "    # todo fai avgf cosi natualmente sbagliato  \n",
    "    print(f\"Aspect {counter}  has total coherence of\", np.mean(coherence, axis=0))  # AVG\n",
    "    counter += 1"
   ],
   "id": "e6a1250015382aff",
   "outputs": [
    {
     "name": "stdout",
     "output_type": "stream",
     "text": [
      "Aspect 0  has total coherence of 0.6825146\n",
      "Aspect 1  has total coherence of 0.22206149\n",
      "Aspect 2  has total coherence of 0.8343714\n",
      "Aspect 3  has total coherence of 0.615195\n",
      "Aspect 4  has total coherence of 0.58994347\n",
      "Aspect 5  has total coherence of 0.66871715\n",
      "Aspect 6  has total coherence of 0.69296455\n",
      "Aspect 7  has total coherence of 0.6968302\n",
      "Aspect 8  has total coherence of 0.73674154\n",
      "Aspect 9  has total coherence of 0.7429665\n",
      "Aspect 10  has total coherence of 0.7725564\n",
      "Aspect 11  has total coherence of 0.9686056\n",
      "Aspect 12  has total coherence of 0.654336\n",
      "Aspect 13  has total coherence of 0.5454725\n"
     ]
    }
   ],
   "execution_count": 43
  },
  {
   "metadata": {
    "ExecuteTime": {
     "end_time": "2024-12-03T17:52:06.043017Z",
     "start_time": "2024-12-03T17:52:06.006429Z"
    }
   },
   "cell_type": "code",
   "source": [
    "gold_standard_topics = ['luck', 'alea', 'bookkeeping', 'downtime', 'strategy', 'interaction', 'complicated', 'complex',\n",
    "                        '<UNK>']\n",
    "counter = 0\n",
    "for aspect in aspect_embeddings:\n",
    "    aspect = aspect.cpu()\n",
    "\n",
    "    aspect = aspect / torch.linalg.norm(aspect, dim=-1, keepdim=True)\n",
    "    word_emb = word_emb / torch.linalg.norm(word_emb, dim=-1, keepdim=True)\n",
    "\n",
    "    print(\"Aspect \", counter)\n",
    "    # Calculate the cosine similarity of each word with the aspect\n",
    "    for topic in gold_standard_topics:\n",
    "        index = emb_model.model.wv.get_index(topic)\n",
    "        print(f\"'{topic}' similarity: \", word_emb[index].dot(aspect))\n",
    "    emb_model.model.wv.get_vector('luck')\n",
    "    counter += 1"
   ],
   "id": "2c3aa83109bb0929",
   "outputs": [
    {
     "name": "stdout",
     "output_type": "stream",
     "text": [
      "Aspect  0\n",
      "'luck' similarity:  tensor(-0.2443, grad_fn=<DotBackward0>)\n",
      "'alea' similarity:  tensor(-0.0075, grad_fn=<DotBackward0>)\n",
      "'bookkeeping' similarity:  tensor(-0.0400, grad_fn=<DotBackward0>)\n",
      "'downtime' similarity:  tensor(0.0263, grad_fn=<DotBackward0>)\n",
      "'strategy' similarity:  tensor(-0.0364, grad_fn=<DotBackward0>)\n",
      "'interaction' similarity:  tensor(-0.2552, grad_fn=<DotBackward0>)\n",
      "'complicated' similarity:  tensor(0.1602, grad_fn=<DotBackward0>)\n",
      "'complex' similarity:  tensor(-0.0380, grad_fn=<DotBackward0>)\n",
      "'<UNK>' similarity:  tensor(-0.1207, grad_fn=<DotBackward0>)\n",
      "Aspect  1\n",
      "'luck' similarity:  tensor(-0.0703, grad_fn=<DotBackward0>)\n",
      "'alea' similarity:  tensor(-0.3540, grad_fn=<DotBackward0>)\n",
      "'bookkeeping' similarity:  tensor(-0.4647, grad_fn=<DotBackward0>)\n",
      "'downtime' similarity:  tensor(-0.2009, grad_fn=<DotBackward0>)\n",
      "'strategy' similarity:  tensor(-0.1533, grad_fn=<DotBackward0>)\n",
      "'interaction' similarity:  tensor(-0.2276, grad_fn=<DotBackward0>)\n",
      "'complicated' similarity:  tensor(-0.3251, grad_fn=<DotBackward0>)\n",
      "'complex' similarity:  tensor(-0.2667, grad_fn=<DotBackward0>)\n",
      "'<UNK>' similarity:  tensor(-0.3712, grad_fn=<DotBackward0>)\n",
      "Aspect  2\n",
      "'luck' similarity:  tensor(0.0218, grad_fn=<DotBackward0>)\n",
      "'alea' similarity:  tensor(-0.1812, grad_fn=<DotBackward0>)\n",
      "'bookkeeping' similarity:  tensor(0.0339, grad_fn=<DotBackward0>)\n",
      "'downtime' similarity:  tensor(0.1438, grad_fn=<DotBackward0>)\n",
      "'strategy' similarity:  tensor(0.2323, grad_fn=<DotBackward0>)\n",
      "'interaction' similarity:  tensor(0.3088, grad_fn=<DotBackward0>)\n",
      "'complicated' similarity:  tensor(-0.1035, grad_fn=<DotBackward0>)\n",
      "'complex' similarity:  tensor(-0.2121, grad_fn=<DotBackward0>)\n",
      "'<UNK>' similarity:  tensor(-0.1188, grad_fn=<DotBackward0>)\n",
      "Aspect  3\n",
      "'luck' similarity:  tensor(0.2476, grad_fn=<DotBackward0>)\n",
      "'alea' similarity:  tensor(-0.2624, grad_fn=<DotBackward0>)\n",
      "'bookkeeping' similarity:  tensor(-0.0246, grad_fn=<DotBackward0>)\n",
      "'downtime' similarity:  tensor(-0.1241, grad_fn=<DotBackward0>)\n",
      "'strategy' similarity:  tensor(0.3030, grad_fn=<DotBackward0>)\n",
      "'interaction' similarity:  tensor(0.3119, grad_fn=<DotBackward0>)\n",
      "'complicated' similarity:  tensor(0.0312, grad_fn=<DotBackward0>)\n",
      "'complex' similarity:  tensor(0.1055, grad_fn=<DotBackward0>)\n",
      "'<UNK>' similarity:  tensor(-0.0392, grad_fn=<DotBackward0>)\n",
      "Aspect  4\n",
      "'luck' similarity:  tensor(-0.1783, grad_fn=<DotBackward0>)\n",
      "'alea' similarity:  tensor(-0.0901, grad_fn=<DotBackward0>)\n",
      "'bookkeeping' similarity:  tensor(-0.1487, grad_fn=<DotBackward0>)\n",
      "'downtime' similarity:  tensor(-0.2147, grad_fn=<DotBackward0>)\n",
      "'strategy' similarity:  tensor(-0.2220, grad_fn=<DotBackward0>)\n",
      "'interaction' similarity:  tensor(-0.0363, grad_fn=<DotBackward0>)\n",
      "'complicated' similarity:  tensor(-0.2273, grad_fn=<DotBackward0>)\n",
      "'complex' similarity:  tensor(-0.1008, grad_fn=<DotBackward0>)\n",
      "'<UNK>' similarity:  tensor(0.5991, grad_fn=<DotBackward0>)\n",
      "Aspect  5\n",
      "'luck' similarity:  tensor(-0.0488, grad_fn=<DotBackward0>)\n",
      "'alea' similarity:  tensor(-0.0338, grad_fn=<DotBackward0>)\n",
      "'bookkeeping' similarity:  tensor(0.3308, grad_fn=<DotBackward0>)\n",
      "'downtime' similarity:  tensor(0.2426, grad_fn=<DotBackward0>)\n",
      "'strategy' similarity:  tensor(0.2933, grad_fn=<DotBackward0>)\n",
      "'interaction' similarity:  tensor(0.1525, grad_fn=<DotBackward0>)\n",
      "'complicated' similarity:  tensor(0.7616, grad_fn=<DotBackward0>)\n",
      "'complex' similarity:  tensor(0.7432, grad_fn=<DotBackward0>)\n",
      "'<UNK>' similarity:  tensor(-0.1170, grad_fn=<DotBackward0>)\n",
      "Aspect  6\n",
      "'luck' similarity:  tensor(0.0322, grad_fn=<DotBackward0>)\n",
      "'alea' similarity:  tensor(0.1985, grad_fn=<DotBackward0>)\n",
      "'bookkeeping' similarity:  tensor(-0.0834, grad_fn=<DotBackward0>)\n",
      "'downtime' similarity:  tensor(-0.0592, grad_fn=<DotBackward0>)\n",
      "'strategy' similarity:  tensor(0.0186, grad_fn=<DotBackward0>)\n",
      "'interaction' similarity:  tensor(-0.0492, grad_fn=<DotBackward0>)\n",
      "'complicated' similarity:  tensor(0.0856, grad_fn=<DotBackward0>)\n",
      "'complex' similarity:  tensor(0.1138, grad_fn=<DotBackward0>)\n",
      "'<UNK>' similarity:  tensor(-0.2473, grad_fn=<DotBackward0>)\n",
      "Aspect  7\n",
      "'luck' similarity:  tensor(0.6764, grad_fn=<DotBackward0>)\n",
      "'alea' similarity:  tensor(-0.2348, grad_fn=<DotBackward0>)\n",
      "'bookkeeping' similarity:  tensor(0.2188, grad_fn=<DotBackward0>)\n",
      "'downtime' similarity:  tensor(0.3120, grad_fn=<DotBackward0>)\n",
      "'strategy' similarity:  tensor(0.3192, grad_fn=<DotBackward0>)\n",
      "'interaction' similarity:  tensor(0.1384, grad_fn=<DotBackward0>)\n",
      "'complicated' similarity:  tensor(-0.0082, grad_fn=<DotBackward0>)\n",
      "'complex' similarity:  tensor(-0.1199, grad_fn=<DotBackward0>)\n",
      "'<UNK>' similarity:  tensor(-0.1015, grad_fn=<DotBackward0>)\n",
      "Aspect  8\n",
      "'luck' similarity:  tensor(-0.0478, grad_fn=<DotBackward0>)\n",
      "'alea' similarity:  tensor(-0.0226, grad_fn=<DotBackward0>)\n",
      "'bookkeeping' similarity:  tensor(-0.1940, grad_fn=<DotBackward0>)\n",
      "'downtime' similarity:  tensor(0.3978, grad_fn=<DotBackward0>)\n",
      "'strategy' similarity:  tensor(-0.0909, grad_fn=<DotBackward0>)\n",
      "'interaction' similarity:  tensor(0.1309, grad_fn=<DotBackward0>)\n",
      "'complicated' similarity:  tensor(-0.2707, grad_fn=<DotBackward0>)\n",
      "'complex' similarity:  tensor(-0.1397, grad_fn=<DotBackward0>)\n",
      "'<UNK>' similarity:  tensor(0.0965, grad_fn=<DotBackward0>)\n",
      "Aspect  9\n",
      "'luck' similarity:  tensor(-0.2497, grad_fn=<DotBackward0>)\n",
      "'alea' similarity:  tensor(0.2614, grad_fn=<DotBackward0>)\n",
      "'bookkeeping' similarity:  tensor(0.2328, grad_fn=<DotBackward0>)\n",
      "'downtime' similarity:  tensor(-0.2721, grad_fn=<DotBackward0>)\n",
      "'strategy' similarity:  tensor(-0.1180, grad_fn=<DotBackward0>)\n",
      "'interaction' similarity:  tensor(-0.1929, grad_fn=<DotBackward0>)\n",
      "'complicated' similarity:  tensor(-0.1076, grad_fn=<DotBackward0>)\n",
      "'complex' similarity:  tensor(0.0124, grad_fn=<DotBackward0>)\n",
      "'<UNK>' similarity:  tensor(0.3900, grad_fn=<DotBackward0>)\n",
      "Aspect  10\n",
      "'luck' similarity:  tensor(-0.1054, grad_fn=<DotBackward0>)\n",
      "'alea' similarity:  tensor(0.2336, grad_fn=<DotBackward0>)\n",
      "'bookkeeping' similarity:  tensor(-0.0828, grad_fn=<DotBackward0>)\n",
      "'downtime' similarity:  tensor(-0.3013, grad_fn=<DotBackward0>)\n",
      "'strategy' similarity:  tensor(-0.3125, grad_fn=<DotBackward0>)\n",
      "'interaction' similarity:  tensor(-0.2806, grad_fn=<DotBackward0>)\n",
      "'complicated' similarity:  tensor(-0.1819, grad_fn=<DotBackward0>)\n",
      "'complex' similarity:  tensor(-0.2608, grad_fn=<DotBackward0>)\n",
      "'<UNK>' similarity:  tensor(0.0932, grad_fn=<DotBackward0>)\n",
      "Aspect  11\n",
      "'luck' similarity:  tensor(-0.1575, grad_fn=<DotBackward0>)\n",
      "'alea' similarity:  tensor(0.3572, grad_fn=<DotBackward0>)\n",
      "'bookkeeping' similarity:  tensor(-0.1130, grad_fn=<DotBackward0>)\n",
      "'downtime' similarity:  tensor(-0.2817, grad_fn=<DotBackward0>)\n",
      "'strategy' similarity:  tensor(-0.3261, grad_fn=<DotBackward0>)\n",
      "'interaction' similarity:  tensor(-0.3969, grad_fn=<DotBackward0>)\n",
      "'complicated' similarity:  tensor(-0.3171, grad_fn=<DotBackward0>)\n",
      "'complex' similarity:  tensor(-0.2488, grad_fn=<DotBackward0>)\n",
      "'<UNK>' similarity:  tensor(0.2788, grad_fn=<DotBackward0>)\n",
      "Aspect  12\n",
      "'luck' similarity:  tensor(-0.0440, grad_fn=<DotBackward0>)\n",
      "'alea' similarity:  tensor(0.0062, grad_fn=<DotBackward0>)\n",
      "'bookkeeping' similarity:  tensor(-0.0514, grad_fn=<DotBackward0>)\n",
      "'downtime' similarity:  tensor(-0.1604, grad_fn=<DotBackward0>)\n",
      "'strategy' similarity:  tensor(-0.2094, grad_fn=<DotBackward0>)\n",
      "'interaction' similarity:  tensor(0.0815, grad_fn=<DotBackward0>)\n",
      "'complicated' similarity:  tensor(0.0098, grad_fn=<DotBackward0>)\n",
      "'complex' similarity:  tensor(0.0769, grad_fn=<DotBackward0>)\n",
      "'<UNK>' similarity:  tensor(-0.2322, grad_fn=<DotBackward0>)\n",
      "Aspect  13\n",
      "'luck' similarity:  tensor(-0.0676, grad_fn=<DotBackward0>)\n",
      "'alea' similarity:  tensor(0.0506, grad_fn=<DotBackward0>)\n",
      "'bookkeeping' similarity:  tensor(-0.0156, grad_fn=<DotBackward0>)\n",
      "'downtime' similarity:  tensor(-0.1270, grad_fn=<DotBackward0>)\n",
      "'strategy' similarity:  tensor(-0.2515, grad_fn=<DotBackward0>)\n",
      "'interaction' similarity:  tensor(-0.1271, grad_fn=<DotBackward0>)\n",
      "'complicated' similarity:  tensor(-0.0525, grad_fn=<DotBackward0>)\n",
      "'complex' similarity:  tensor(-0.0361, grad_fn=<DotBackward0>)\n",
      "'<UNK>' similarity:  tensor(0.1607, grad_fn=<DotBackward0>)\n"
     ]
    }
   ],
   "execution_count": 45
  },
  {
   "metadata": {
    "ExecuteTime": {
     "end_time": "2024-12-03T17:47:18.930310Z",
     "start_time": "2024-12-03T17:37:08.165753Z"
    }
   },
   "cell_type": "code",
   "source": [
    "# train more and see\n",
    "history = training_model.fit(x=train_dataloader, batch_size=64, epochs=15)"
   ],
   "id": "47b705594e76876a",
   "outputs": [
    {
     "name": "stdout",
     "output_type": "stream",
     "text": [
      "Epoch 1/15\n",
      "\u001B[1m784/784\u001B[0m \u001B[32m━━━━━━━━━━━━━━━━━━━━\u001B[0m\u001B[37m\u001B[0m \u001B[1m40s\u001B[0m 51ms/step - loss: 3.8152 - max_margin_loss: 3.8152\n",
      "Epoch 2/15\n",
      "\u001B[1m784/784\u001B[0m \u001B[32m━━━━━━━━━━━━━━━━━━━━\u001B[0m\u001B[37m\u001B[0m \u001B[1m39s\u001B[0m 50ms/step - loss: 3.8249 - max_margin_loss: 3.8249\n",
      "Epoch 3/15\n",
      "\u001B[1m784/784\u001B[0m \u001B[32m━━━━━━━━━━━━━━━━━━━━\u001B[0m\u001B[37m\u001B[0m \u001B[1m40s\u001B[0m 50ms/step - loss: 3.8182 - max_margin_loss: 3.8182\n",
      "Epoch 4/15\n",
      "\u001B[1m784/784\u001B[0m \u001B[32m━━━━━━━━━━━━━━━━━━━━\u001B[0m\u001B[37m\u001B[0m \u001B[1m38s\u001B[0m 49ms/step - loss: 3.7828 - max_margin_loss: 3.7828\n",
      "Epoch 5/15\n",
      "\u001B[1m784/784\u001B[0m \u001B[32m━━━━━━━━━━━━━━━━━━━━\u001B[0m\u001B[37m\u001B[0m \u001B[1m41s\u001B[0m 52ms/step - loss: 3.8130 - max_margin_loss: 3.8130\n",
      "Epoch 6/15\n",
      "\u001B[1m784/784\u001B[0m \u001B[32m━━━━━━━━━━━━━━━━━━━━\u001B[0m\u001B[37m\u001B[0m \u001B[1m41s\u001B[0m 52ms/step - loss: 3.7875 - max_margin_loss: 3.7875\n",
      "Epoch 7/15\n",
      "\u001B[1m784/784\u001B[0m \u001B[32m━━━━━━━━━━━━━━━━━━━━\u001B[0m\u001B[37m\u001B[0m \u001B[1m39s\u001B[0m 50ms/step - loss: 3.7854 - max_margin_loss: 3.7854\n",
      "Epoch 8/15\n",
      "\u001B[1m784/784\u001B[0m \u001B[32m━━━━━━━━━━━━━━━━━━━━\u001B[0m\u001B[37m\u001B[0m \u001B[1m39s\u001B[0m 50ms/step - loss: 3.7958 - max_margin_loss: 3.7958\n",
      "Epoch 9/15\n",
      "\u001B[1m784/784\u001B[0m \u001B[32m━━━━━━━━━━━━━━━━━━━━\u001B[0m\u001B[37m\u001B[0m \u001B[1m43s\u001B[0m 55ms/step - loss: 3.7932 - max_margin_loss: 3.7932\n",
      "Epoch 10/15\n",
      "\u001B[1m784/784\u001B[0m \u001B[32m━━━━━━━━━━━━━━━━━━━━\u001B[0m\u001B[37m\u001B[0m \u001B[1m40s\u001B[0m 51ms/step - loss: 3.7869 - max_margin_loss: 3.7869\n",
      "Epoch 11/15\n",
      "\u001B[1m784/784\u001B[0m \u001B[32m━━━━━━━━━━━━━━━━━━━━\u001B[0m\u001B[37m\u001B[0m \u001B[1m43s\u001B[0m 54ms/step - loss: 3.7789 - max_margin_loss: 3.7789\n",
      "Epoch 12/15\n",
      "\u001B[1m784/784\u001B[0m \u001B[32m━━━━━━━━━━━━━━━━━━━━\u001B[0m\u001B[37m\u001B[0m \u001B[1m42s\u001B[0m 54ms/step - loss: 3.7820 - max_margin_loss: 3.7820\n",
      "Epoch 13/15\n",
      "\u001B[1m784/784\u001B[0m \u001B[32m━━━━━━━━━━━━━━━━━━━━\u001B[0m\u001B[37m\u001B[0m \u001B[1m43s\u001B[0m 54ms/step - loss: 3.7735 - max_margin_loss: 3.7735\n",
      "Epoch 14/15\n",
      "\u001B[1m784/784\u001B[0m \u001B[32m━━━━━━━━━━━━━━━━━━━━\u001B[0m\u001B[37m\u001B[0m \u001B[1m43s\u001B[0m 54ms/step - loss: 3.7848 - max_margin_loss: 3.7848\n",
      "Epoch 15/15\n",
      "\u001B[1m784/784\u001B[0m \u001B[32m━━━━━━━━━━━━━━━━━━━━\u001B[0m\u001B[37m\u001B[0m \u001B[1m41s\u001B[0m 52ms/step - loss: 3.7727 - max_margin_loss: 3.7727\n"
     ]
    }
   ],
   "execution_count": 37
  },
  {
   "metadata": {},
   "cell_type": "markdown",
   "source": "# Kickstarter More Dataset (256K)",
   "id": "6f50cd04eb84377e"
  },
  {
   "metadata": {
    "ExecuteTime": {
     "end_time": "2024-12-09T15:50:14.949043Z",
     "start_time": "2024-12-09T15:50:10.823519Z"
    }
   },
   "cell_type": "code",
   "source": [
    "from train import AbaeModelConfiguration\n",
    "\n",
    "config = AbaeModelConfiguration(\n",
    "    corpus_file=\"../data/processed-dataset/kickstarter-filtered-game-name-filtered/k256_longest.preprocessed.csv\",\n",
    "    model_name=\"abae.kickstarter_removed.256k\",\n",
    "    aspect_size=16,\n",
    "    max_vocab_size=40000,\n",
    ")\n"
   ],
   "id": "ad5dc255d55251d9",
   "outputs": [],
   "execution_count": 2
  },
  {
   "metadata": {
    "ExecuteTime": {
     "end_time": "2024-12-09T15:50:21.875807Z",
     "start_time": "2024-12-09T15:50:21.579300Z"
    }
   },
   "cell_type": "code",
   "source": [
    "from core.train import AbaeModelManager\n",
    "\n",
    "manager = AbaeModelManager(config)"
   ],
   "id": "12a72e1da2cf0b14",
   "outputs": [
    {
     "name": "stderr",
     "output_type": "stream",
     "text": [
      "INFO:gensim.utils:loading Word2Vec object from output\\abae.kickstarter_removed.256k.embeddings.model\n",
      "DEBUG:smart_open.smart_open_lib:{'uri': 'output\\\\abae.kickstarter_removed.256k.embeddings.model', 'mode': 'rb', 'buffering': -1, 'encoding': None, 'errors': None, 'newline': None, 'closefd': True, 'opener': None, 'compression': 'infer_from_extension', 'transport_params': None}\n",
      "INFO:gensim.utils:loading wv recursively from output\\abae.kickstarter_removed.256k.embeddings.model.wv.* with mmap=None\n",
      "INFO:gensim.utils:setting ignored attribute cum_table to None\n",
      "INFO:gensim.utils:Word2Vec lifecycle event {'fname': 'output\\\\abae.kickstarter_removed.256k.embeddings.model', 'datetime': '2024-12-09T16:50:21.872806', 'gensim': '4.3.3', 'python': '3.12.6 (tags/v3.12.6:a4a2d2b, Sep  6 2024, 20:11:23) [MSC v.1940 64 bit (AMD64)]', 'platform': 'Windows-11-10.0.26100-SP0', 'event': 'loaded'}\n"
     ]
    }
   ],
   "execution_count": 3
  },
  {
   "metadata": {
    "ExecuteTime": {
     "end_time": "2024-12-09T15:50:44.703101Z",
     "start_time": "2024-12-09T15:50:23.651851Z"
    }
   },
   "cell_type": "code",
   "source": [
    "import dataset\n",
    "from torch.utils.data import DataLoader\n",
    "\n",
    "vocabulary = manager.embedding_model.model.wv.key_to_index\n",
    "train = dataset.PositiveNegativeCommentGeneratorDataset(\n",
    "    vocabulary=vocabulary, csv_dataset_path=\"../data/processed-dataset/kickstarter-filtered-game-name-filtered/k256_longest.preprocessed.csv\", negative_size=15\n",
    ")\n",
    "\n",
    "train_dataloader = DataLoader(train, batch_size=64, shuffle=True)"
   ],
   "id": "796f5358daedef4a",
   "outputs": [
    {
     "name": "stdout",
     "output_type": "stream",
     "text": [
      "Loading spacy model.\n",
      "Loading dataset from file: ../data/processed-dataset/kickstarter-filtered-game-name-filtered/k256_longest.preprocessed.csv\n",
      "Generating numeric representation for each word of ds.\n"
     ]
    },
    {
     "data": {
      "text/plain": [
       "Pandas Apply:   0%|          | 0/121600 [00:00<?, ?it/s]"
      ],
      "application/vnd.jupyter.widget-view+json": {
       "version_major": 2,
       "version_minor": 0,
       "model_id": "f38fa86e5b984c3ebe5f6aced17189b3"
      }
     },
     "metadata": {},
     "output_type": "display_data"
    },
    {
     "name": "stdout",
     "output_type": "stream",
     "text": [
      "Max sequence length calculation in progress...\n",
      "We loose information on 3405 points.This is 2.80016447368421% of the dataset.\n",
      "Padding sequences to max length (256).\n",
      "Max sequence length is:  2384  but we will limit sequences to 256 tokens.\n"
     ]
    }
   ],
   "execution_count": 4
  },
  {
   "metadata": {
    "ExecuteTime": {
     "end_time": "2024-12-09T15:50:57.129328Z",
     "start_time": "2024-12-09T15:50:56.972811Z"
    }
   },
   "cell_type": "code",
   "source": "train_model = manager.prepare_training_model(optimizer='adam')",
   "id": "76cdfba9f80eec91",
   "outputs": [
    {
     "name": "stderr",
     "output_type": "stream",
     "text": [
      "D:\\PycharmProjects\\nlp-course-project\\core\\layer.py:126: UserWarning: Do not pass an `input_shape`/`input_dim` argument to a layer. When using Sequential models, prefer using an `Input(shape)` object as the first layer in the model instead.\n",
      "  super(WeightedAspectEmb, self).__init__(**kwargs)\n"
     ]
    }
   ],
   "execution_count": 5
  },
  {
   "metadata": {
    "ExecuteTime": {
     "end_time": "2024-12-09T16:30:03.246349Z",
     "start_time": "2024-12-09T15:50:58.997485Z"
    }
   },
   "cell_type": "code",
   "source": "train_model.fit(train_dataloader, epochs=7, batch_size=64)",
   "id": "1c58704f9ec61287",
   "outputs": [
    {
     "name": "stdout",
     "output_type": "stream",
     "text": [
      "Epoch 1/7\n",
      "\u001B[1m1900/1900\u001B[0m \u001B[32m━━━━━━━━━━━━━━━━━━━━\u001B[0m\u001B[37m\u001B[0m \u001B[1m333s\u001B[0m 175ms/step - loss: 5.0903 - max_margin_loss: 5.0903\n",
      "Epoch 2/7\n",
      "\u001B[1m1900/1900\u001B[0m \u001B[32m━━━━━━━━━━━━━━━━━━━━\u001B[0m\u001B[37m\u001B[0m \u001B[1m339s\u001B[0m 179ms/step - loss: 2.6581 - max_margin_loss: 2.6581\n",
      "Epoch 3/7\n",
      "\u001B[1m1900/1900\u001B[0m \u001B[32m━━━━━━━━━━━━━━━━━━━━\u001B[0m\u001B[37m\u001B[0m \u001B[1m337s\u001B[0m 178ms/step - loss: 2.5164 - max_margin_loss: 2.5164\n",
      "Epoch 4/7\n",
      "\u001B[1m1900/1900\u001B[0m \u001B[32m━━━━━━━━━━━━━━━━━━━━\u001B[0m\u001B[37m\u001B[0m \u001B[1m333s\u001B[0m 175ms/step - loss: 2.4657 - max_margin_loss: 2.4657\n",
      "Epoch 5/7\n",
      "\u001B[1m1900/1900\u001B[0m \u001B[32m━━━━━━━━━━━━━━━━━━━━\u001B[0m\u001B[37m\u001B[0m \u001B[1m332s\u001B[0m 175ms/step - loss: 2.4425 - max_margin_loss: 2.4425\n",
      "Epoch 6/7\n",
      "\u001B[1m1900/1900\u001B[0m \u001B[32m━━━━━━━━━━━━━━━━━━━━\u001B[0m\u001B[37m\u001B[0m \u001B[1m335s\u001B[0m 176ms/step - loss: 2.4356 - max_margin_loss: 2.4356\n",
      "Epoch 7/7\n",
      "\u001B[1m1900/1900\u001B[0m \u001B[32m━━━━━━━━━━━━━━━━━━━━\u001B[0m\u001B[37m\u001B[0m \u001B[1m334s\u001B[0m 176ms/step - loss: 2.4117 - max_margin_loss: 2.4117\n"
     ]
    },
    {
     "data": {
      "text/plain": [
       "<keras.src.callbacks.history.History at 0x25427ddc680>"
      ]
     },
     "execution_count": 6,
     "metadata": {},
     "output_type": "execute_result"
    }
   ],
   "execution_count": 6
  },
  {
   "metadata": {
    "ExecuteTime": {
     "end_time": "2024-12-09T16:35:50.861934Z",
     "start_time": "2024-12-09T16:35:50.791227Z"
    }
   },
   "cell_type": "code",
   "source": "manager.persist_model()",
   "id": "b678d72f6174a456",
   "outputs": [
    {
     "name": "stderr",
     "output_type": "stream",
     "text": [
      "DEBUG:h5py._conv:Creating converter from 5 to 3\n"
     ]
    }
   ],
   "execution_count": 7
  },
  {
   "metadata": {
    "ExecuteTime": {
     "end_time": "2024-12-09T16:35:53.241338Z",
     "start_time": "2024-12-09T16:35:53.141757Z"
    }
   },
   "cell_type": "code",
   "source": [
    "#manager.persist_model()\n",
    "inference_model = manager.prepare_evaluation_model()"
   ],
   "id": "5d77ea233ddc2522",
   "outputs": [],
   "execution_count": 8
  },
  {
   "metadata": {
    "ExecuteTime": {
     "end_time": "2024-12-09T16:35:56.820063Z",
     "start_time": "2024-12-09T16:35:56.816806Z"
    }
   },
   "cell_type": "code",
   "source": "import torch",
   "id": "d3f813073cb1bfb9",
   "outputs": [],
   "execution_count": 9
  },
  {
   "metadata": {
    "ExecuteTime": {
     "end_time": "2024-12-09T16:35:57.447797Z",
     "start_time": "2024-12-09T16:35:57.425924Z"
    }
   },
   "cell_type": "code",
   "source": [
    "word_emb = inference_model.get_layer('word_embedding').get_weights()[0]\n",
    "word_emb = torch.from_numpy(word_emb)\n",
    "\n",
    "word_emb.shape"
   ],
   "id": "f8400d90c97b1763",
   "outputs": [
    {
     "data": {
      "text/plain": [
       "torch.Size([32315, 128])"
      ]
     },
     "execution_count": 10,
     "metadata": {},
     "output_type": "execute_result"
    }
   ],
   "execution_count": 10
  },
  {
   "metadata": {
    "ExecuteTime": {
     "end_time": "2024-12-09T16:35:58.113052Z",
     "start_time": "2024-12-09T16:35:58.108978Z"
    }
   },
   "cell_type": "code",
   "source": [
    "aspect_embeddings = inference_model.get_layer('weighted_aspect_emb').W\n",
    "vocab_inv = manager.embedding_model.model.wv.index_to_key"
   ],
   "id": "b5708556da62ff70",
   "outputs": [],
   "execution_count": 11
  },
  {
   "metadata": {
    "ExecuteTime": {
     "end_time": "2024-12-09T16:35:58.817279Z",
     "start_time": "2024-12-09T16:35:58.812261Z"
    }
   },
   "cell_type": "code",
   "source": "type(aspect_embeddings[0])",
   "id": "f800d62d999e28fa",
   "outputs": [
    {
     "data": {
      "text/plain": [
       "torch.Tensor"
      ]
     },
     "execution_count": 12,
     "metadata": {},
     "output_type": "execute_result"
    }
   ],
   "execution_count": 12
  },
  {
   "metadata": {
    "ExecuteTime": {
     "end_time": "2024-12-09T16:35:59.927771Z",
     "start_time": "2024-12-09T16:35:59.791373Z"
    }
   },
   "cell_type": "code",
   "source": [
    "import numpy as np\n",
    "\n",
    "#todo method\n",
    "aspect_words = []\n",
    "aspect_index = 0\n",
    "aspect_embeddings = aspect_embeddings / torch.linalg.norm(aspect_embeddings, dim=-1, keepdim=True)\n",
    "for aspect in aspect_embeddings:\n",
    "    aspect = aspect.cpu()\n",
    "    # Calculate the cosine similarity of each word with the aspect\n",
    "    word_emb = word_emb / torch.linalg.norm(word_emb, dim=-1, keepdim=True)\n",
    "    #aspect = aspect / torch.linalg.norm(aspect, dim=-1, keepdim=True)\n",
    "\n",
    "    similarity = word_emb.matmul(aspect.T)\n",
    "\n",
    "    numpy_similarity = similarity.detach().numpy()\n",
    "\n",
    "    ordered_words = np.argsort(numpy_similarity)[::-1]\n",
    "    desc_list = [(vocab_inv[w], numpy_similarity[w]) for w in ordered_words[:15]]\n",
    "    aspect_words.append(desc_list)\n",
    "\n",
    "    print(\"Aspect \", aspect_index)\n",
    "    for i in desc_list:\n",
    "        # hr][/i is not a valid word. meh.\n",
    "        print(\"Word: \", i[0], f\"({i[1]})\")\n",
    "\n",
    "    aspect_index += 1"
   ],
   "id": "d5744e2eb3c56a00",
   "outputs": [
    {
     "name": "stdout",
     "output_type": "stream",
     "text": [
      "Aspect  0\n",
      "Word:  British (0.8389521241188049)\n",
      "Word:  invasion (0.8321045637130737)\n",
      "Word:  british (0.820457398891449)\n",
      "Word:  russian (0.817176103591919)\n",
      "Word:  Austrians (0.8170284032821655)\n",
      "Word:  Turkey (0.816960334777832)\n",
      "Word:  Italy (0.8125898838043213)\n",
      "Word:  Moscow (0.8124603033065796)\n",
      "Word:  Spain (0.8119088411331177)\n",
      "Word:  Americans (0.8112927675247192)\n",
      "Word:  warlord (0.8055378198623657)\n",
      "Word:  Russia (0.8051453828811646)\n",
      "Word:  Britain (0.8017892837524414)\n",
      "Word:  Ottoman (0.8010320067405701)\n",
      "Word:  northern (0.8008626699447632)\n",
      "Aspect  1\n",
      "Word:  Resources (0.5151026248931885)\n",
      "Word:  postage (0.5071635246276855)\n",
      "Word:  PP (0.5059881210327148)\n",
      "Word:  ○ (0.49518734216690063)\n",
      "Word:  handsize (0.4864172339439392)\n",
      "Word:  Tax (0.48563623428344727)\n",
      "Word:  resouce (0.4825304448604584)\n",
      "Word:  ingot (0.4771419167518616)\n",
      "Word:  Points (0.47412967681884766)\n",
      "Word:  drm (0.47392070293426514)\n",
      "Word:  Income (0.47262609004974365)\n",
      "Word:  Rating (0.4663636088371277)\n",
      "Word:  us$ (0.46594294905662537)\n",
      "Word:  THEME (0.4654625356197357)\n",
      "Word:  Energy (0.4596526026725769)\n",
      "Aspect  2\n",
      "Word:  length (0.6026526093482971)\n",
      "Word:  playtime (0.6003100872039795)\n",
      "Word:  quick (0.5839124917984009)\n",
      "Word:  filler (0.5804227590560913)\n",
      "Word:  casual (0.5715972781181335)\n",
      "Word:  teach (0.5688364505767822)\n",
      "Word:  play (0.5570771098136902)\n",
      "Word:  4p (0.5535672903060913)\n",
      "Word:  experienced (0.547929048538208)\n",
      "Word:  duration (0.5468970537185669)\n",
      "Word:  meaty (0.542636513710022)\n",
      "Word:  hour (0.5299546718597412)\n",
      "Word:  newbie (0.5268122553825378)\n",
      "Word:  thinky (0.5245745182037354)\n",
      "Word:  ideal (0.5235639810562134)\n",
      "Aspect  3\n",
      "Word:  varied (0.6633048057556152)\n",
      "Word:  unique (0.6236377358436584)\n",
      "Word:  interplay (0.6180351376533508)\n",
      "Word:  intertwine (0.6170668005943298)\n",
      "Word:  interesting (0.6155433654785156)\n",
      "Word:  emergent (0.6005297303199768)\n",
      "Word:  intriguing (0.59727942943573)\n",
      "Word:  compelling (0.5912016034126282)\n",
      "Word:  engaging (0.5905004143714905)\n",
      "Word:  diverse (0.5884943008422852)\n",
      "Word:  intricate (0.5883063673973083)\n",
      "Word:  fascinating (0.5862540006637573)\n",
      "Word:  weave (0.5722380876541138)\n",
      "Word:  mesh (0.5692944526672363)\n",
      "Word:  cohesive (0.5624678134918213)\n",
      "Aspect  4\n",
      "Word:  prediction (0.6570863723754883)\n",
      "Word:  accidental (0.6534349322319031)\n",
      "Word:  kingmaking (0.6460496783256531)\n",
      "Word:  psychology (0.6445299983024597)\n",
      "Word:  deliberate (0.623723030090332)\n",
      "Word:  cunning (0.6231113076210022)\n",
      "Word:  opportunism (0.6189337968826294)\n",
      "Word:  opportunistic (0.6172650456428528)\n",
      "Word:  kingmake (0.6088685989379883)\n",
      "Word:  collusion (0.607930064201355)\n",
      "Word:  calculated (0.605472207069397)\n",
      "Word:  strategizing (0.5981044769287109)\n",
      "Word:  psychological (0.5975144505500793)\n",
      "Word:  bluff (0.5966973304748535)\n",
      "Word:  backstabbing (0.5937950611114502)\n",
      "Aspect  5\n",
      "Word:  Investigator (0.8904035687446594)\n",
      "Word:  Shield (0.8800690770149231)\n",
      "Word:  Survivor (0.8779761791229248)\n",
      "Word:  Ghost (0.8778308629989624)\n",
      "Word:  Playmat (0.871117353439331)\n",
      "Word:  Miss (0.8691793084144592)\n",
      "Word:  Prime (0.8676950931549072)\n",
      "Word:  Order (0.8665356040000916)\n",
      "Word:  Frost (0.8662353754043579)\n",
      "Word:  Wolverine (0.8648607134819031)\n",
      "Word:  Plastic (0.8626846075057983)\n",
      "Word:  Sentinel (0.8621070384979248)\n",
      "Word:  Giant (0.8604187965393066)\n",
      "Word:  Phoenix (0.8603506088256836)\n",
      "Word:  Paragon (0.8602124452590942)\n",
      "Aspect  6\n",
      "Word:  go (0.688804030418396)\n",
      "Word:  happen (0.6636662483215332)\n",
      "Word:  bad (0.6214262247085571)\n",
      "Word:  maybe (0.6145070791244507)\n",
      "Word:  stuck (0.6098066568374634)\n",
      "Word:  get (0.6089860200881958)\n",
      "Word:  mean (0.5947998762130737)\n",
      "Word:  sure (0.5932849049568176)\n",
      "Word:  know (0.5821840167045593)\n",
      "Word:  want (0.5785925984382629)\n",
      "Word:  realize (0.5647515058517456)\n",
      "Word:  frustrate (0.5633945465087891)\n",
      "Word:  actually (0.5622807145118713)\n",
      "Word:  think (0.5605084896087646)\n",
      "Word:  suck (0.5552566051483154)\n",
      "Aspect  7\n",
      "Word:  trapping (0.7557819485664368)\n",
      "Word:  mashup (0.7301019430160522)\n",
      "Word:  contemporary (0.7244797945022583)\n",
      "Word:  Trickerion (0.7143887281417847)\n",
      "Word:  derivative (0.7123326063156128)\n",
      "Word:  spiritual (0.7101766467094421)\n",
      "Word:  Eurogames (0.7068425416946411)\n",
      "Word:  themed (0.7053201198577881)\n",
      "Word:  successor (0.7001096606254578)\n",
      "Word:  riff (0.6989583373069763)\n",
      "Word:  Eurogame (0.6970475316047668)\n",
      "Word:  Sci (0.6966283321380615)\n",
      "Word:  Clark (0.6938105225563049)\n",
      "Word:  Vlaada (0.6918484568595886)\n",
      "Word:  throwback (0.6899704933166504)\n",
      "Aspect  8\n",
      "Word:  sturdy (0.8456662893295288)\n",
      "Word:  glossy (0.8013720512390137)\n",
      "Word:  flimsy (0.7664114236831665)\n",
      "Word:  illustration (0.7649710178375244)\n",
      "Word:  cardstock (0.7608869075775146)\n",
      "Word:  oversized (0.7560235857963562)\n",
      "Word:  durable (0.7535370588302612)\n",
      "Word:  plastic (0.7518472671508789)\n",
      "Word:  colourful (0.7518377304077148)\n",
      "Word:  packaging (0.7511193752288818)\n",
      "Word:  thick (0.7478021383285522)\n",
      "Word:  functional (0.7412577867507935)\n",
      "Word:  figurine (0.7390720248222351)\n",
      "Word:  thickness (0.7374504804611206)\n",
      "Word:  chunky (0.7151365280151367)\n",
      "Aspect  9\n",
      "Word:  manual (0.8454357981681824)\n",
      "Word:  glossary (0.8156864643096924)\n",
      "Word:  wording (0.8077603578567505)\n",
      "Word:  thorough (0.7987706661224365)\n",
      "Word:  index (0.7948899269104004)\n",
      "Word:  instruction (0.7930538654327393)\n",
      "Word:  terminology (0.7838857173919678)\n",
      "Word:  booklet (0.775834858417511)\n",
      "Word:  appendix (0.7657238245010376)\n",
      "Word:  faq (0.7554367184638977)\n",
      "Word:  rulebook (0.7488836050033569)\n",
      "Word:  ambiguity (0.748475193977356)\n",
      "Word:  ambiguous (0.7451735734939575)\n",
      "Word:  unclear (0.7416950464248657)\n",
      "Word:  FAQ (0.7385215759277344)\n",
      "Aspect  10\n",
      "Word:  girlfriend (0.773739218711853)\n",
      "Word:  weekend (0.7289543747901917)\n",
      "Word:  buddy (0.7229588031768799)\n",
      "Word:  enthusiastic (0.7027238607406616)\n",
      "Word:  convention (0.6982841491699219)\n",
      "Word:  demo (0.6869161128997803)\n",
      "Word:  friend (0.6825667023658752)\n",
      "Word:  mom (0.6821783185005188)\n",
      "Word:  teenager (0.6704299449920654)\n",
      "Word:  yesterday (0.6675713062286377)\n",
      "Word:  husband (0.6668684482574463)\n",
      "Word:  someday (0.6624891757965088)\n",
      "Word:  geek (0.6619220972061157)\n",
      "Word:  holiday (0.6423099040985107)\n",
      "Word:  recently (0.6403848528862)\n",
      "Aspect  11\n",
      "Word:  cart (0.8200037479400635)\n",
      "Word:  donkey (0.8147563934326172)\n",
      "Word:  plantation (0.809203028678894)\n",
      "Word:  pig (0.7977505326271057)\n",
      "Word:  farmer (0.7964496612548828)\n",
      "Word:  tourist (0.7848817110061646)\n",
      "Word:  livestock (0.7660234570503235)\n",
      "Word:  sheep (0.7654867768287659)\n",
      "Word:  ranch (0.7646374702453613)\n",
      "Word:  quarry (0.762633204460144)\n",
      "Word:  whiskey (0.7588517069816589)\n",
      "Word:  mine (0.7561862468719482)\n",
      "Word:  cacao (0.752106249332428)\n",
      "Word:  corn (0.7497121095657349)\n",
      "Word:  warehouse (0.7494333386421204)\n",
      "Aspect  12\n",
      "Word:  Assault (0.7594524621963501)\n",
      "Word:  Version (0.7521270513534546)\n",
      "Word:  Flames (0.7362852096557617)\n",
      "Word:  Lion (0.7277998924255371)\n",
      "Word:  2.0 (0.7265332937240601)\n",
      "Word:  Sands (0.7239974141120911)\n",
      "Word:  Invasion (0.7232385873794556)\n",
      "Word:  Swords (0.722216010093689)\n",
      "Word:  Legion (0.7221832275390625)\n",
      "Word:  Armada (0.7219462394714355)\n",
      "Word:  Expansions (0.7197754383087158)\n",
      "Word:  Promos (0.7159920334815979)\n",
      "Word:  Trail (0.7128533124923706)\n",
      "Word:  ASL (0.7127845287322998)\n",
      "Word:  Milton (0.7113995552062988)\n",
      "Aspect  13\n",
      "Word:  bonus (0.6987544298171997)\n",
      "Word:  card (0.6856266856193542)\n",
      "Word:  additionally (0.6774191856384277)\n",
      "Word:  column (0.6633545756340027)\n",
      "Word:  activate (0.6418419480323792)\n",
      "Word:  select (0.6394219398498535)\n",
      "Word:  action (0.6307448148727417)\n",
      "Word:  multiplier (0.6260035037994385)\n",
      "Word:  guild (0.6250959634780884)\n",
      "Word:  permit (0.6105687618255615)\n",
      "Word:  tile (0.6008610725402832)\n",
      "Word:  district (0.5975134372711182)\n",
      "Word:  place (0.5966281890869141)\n",
      "Word:  draft (0.591049075126648)\n",
      "Word:  corresponding (0.5844573378562927)\n",
      "Aspect  14\n",
      "Word:  baddie (0.7923621535301208)\n",
      "Word:  demon (0.7829975485801697)\n",
      "Word:  foe (0.7765382528305054)\n",
      "Word:  goblin (0.7737443447113037)\n",
      "Word:  mob (0.7725809812545776)\n",
      "Word:  minion (0.7474961280822754)\n",
      "Word:  horde (0.7442917227745056)\n",
      "Word:  heal (0.7356598973274231)\n",
      "Word:  cultist (0.7245550751686096)\n",
      "Word:  injure (0.7237958908081055)\n",
      "Word:  wizard (0.7195683717727661)\n",
      "Word:  abomination (0.710378885269165)\n",
      "Word:  respawn (0.7060068845748901)\n",
      "Word:  wound (0.7059298753738403)\n",
      "Word:  npc (0.6997288465499878)\n",
      "Aspect  15\n",
      "Word:  2024 (0.8739330172538757)\n",
      "Word:  9.0 (0.8673481941223145)\n",
      "Word:  2023 (0.8594846725463867)\n",
      "Word:  Aug (0.8586604595184326)\n",
      "Word:  Nov (0.8552494049072266)\n",
      "Word:  2022 (0.8508095741271973)\n",
      "Word:  Edit (0.8458648920059204)\n",
      "Word:  Nov. (0.8453622460365295)\n",
      "Word:  06 (0.8424968719482422)\n",
      "Word:  8.8 (0.8379658460617065)\n",
      "Word:  Sept (0.8366042375564575)\n",
      "Word:  Dec. (0.8364437818527222)\n",
      "Word:  Feb (0.8362346887588501)\n",
      "Word:  Oct (0.8357313871383667)\n",
      "Word:  2012 (0.8346966505050659)\n"
     ]
    },
    {
     "name": "stderr",
     "output_type": "stream",
     "text": [
      "C:\\Users\\jacop\\AppData\\Local\\Temp\\ipykernel_24344\\122364029.py:13: UserWarning: The use of `x.T` on tensors of dimension other than 2 to reverse their shape is deprecated and it will throw an error in a future release. Consider `x.mT` to transpose batches of matrices or `x.permute(*torch.arange(x.ndim - 1, -1, -1))` to reverse the dimensions of a tensor. (Triggered internally at C:\\actions-runner\\_work\\pytorch\\pytorch\\builder\\windows\\pytorch\\aten\\src\\ATen\\native\\TensorShape.cpp:3687.)\n",
      "  similarity = word_emb.matmul(aspect.T)\n"
     ]
    }
   ],
   "execution_count": 13
  },
  {
   "metadata": {
    "ExecuteTime": {
     "end_time": "2024-12-09T16:37:23.383772Z",
     "start_time": "2024-12-09T16:37:23.350998Z"
    }
   },
   "cell_type": "code",
   "source": [
    "# For each word of aspect for the aspect we calculate the coherence by AVG distance between top words\n",
    "counter = 0\n",
    "for aspect_most_representative_words in aspect_words:\n",
    "    coherence = []\n",
    "    for word in aspect_most_representative_words:\n",
    "        w, score = word\n",
    "        for word2 in aspect_most_representative_words:\n",
    "            w2, score = word2\n",
    "            if w != w2:\n",
    "                coherence.append(manager.embedding_model.model.wv.similarity(w, w2))\n",
    "    # todo fai avgf cosi natualmente sbagliato  \n",
    "    print(f\"Aspect {counter}  has total coherence of\", np.mean(coherence, axis=0))  # AVG\n",
    "    counter += 1"
   ],
   "id": "b87ccaeccafba997",
   "outputs": [
    {
     "name": "stdout",
     "output_type": "stream",
     "text": [
      "Aspect 0  has total coherence of 0.79174244\n",
      "Aspect 1  has total coherence of 0.53386927\n",
      "Aspect 2  has total coherence of 0.33116376\n",
      "Aspect 3  has total coherence of 0.4914523\n",
      "Aspect 4  has total coherence of 0.4800929\n",
      "Aspect 5  has total coherence of 0.89680785\n",
      "Aspect 6  has total coherence of 0.4224422\n",
      "Aspect 7  has total coherence of 0.5595991\n",
      "Aspect 8  has total coherence of 0.6626675\n",
      "Aspect 9  has total coherence of 0.708104\n",
      "Aspect 10  has total coherence of 0.5779117\n",
      "Aspect 11  has total coherence of 0.6887438\n",
      "Aspect 12  has total coherence of 0.71894604\n",
      "Aspect 13  has total coherence of 0.44459954\n",
      "Aspect 14  has total coherence of 0.65887916\n",
      "Aspect 15  has total coherence of 0.851783\n"
     ]
    }
   ],
   "execution_count": 14
  }
 ],
 "metadata": {
  "kernelspec": {
   "display_name": "Python 3",
   "language": "python",
   "name": "python3"
  },
  "language_info": {
   "codemirror_mode": {
    "name": "ipython",
    "version": 2
   },
   "file_extension": ".py",
   "mimetype": "text/x-python",
   "name": "python",
   "nbconvert_exporter": "python",
   "pygments_lexer": "ipython2",
   "version": "2.7.6"
  }
 },
 "nbformat": 4,
 "nbformat_minor": 5
}

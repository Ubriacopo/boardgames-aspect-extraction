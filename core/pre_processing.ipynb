{
 "cells": [
  {
   "metadata": {
    "ExecuteTime": {
     "end_time": "2024-11-26T16:18:47.580815Z",
     "start_time": "2024-11-26T16:18:47.578687Z"
    }
   },
   "cell_type": "code",
   "source": [
    "import os\n",
    "\n",
    "os.environ['KERAS_BACKEND'] = \"torch\""
   ],
   "id": "9c69eb3493ffeb29",
   "outputs": [],
   "execution_count": 1
  },
  {
   "metadata": {
    "ExecuteTime": {
     "end_time": "2024-11-26T16:18:48.487783Z",
     "start_time": "2024-11-26T16:18:48.485237Z"
    }
   },
   "cell_type": "code",
   "source": [
    "import warnings\n",
    "\n",
    "# Some parts of torch that are used by Spacy are deprecated, we can ignore them \n",
    "# (The new 3.8 Spacy has some little issues, so we keep it like it is for now)\n",
    "warnings.filterwarnings(\"ignore\", category=DeprecationWarning)"
   ],
   "id": "cf2c762fa4303831",
   "outputs": [],
   "execution_count": 2
  },
  {
   "metadata": {},
   "cell_type": "markdown",
   "source": [
    "# Pre-processing\n",
    "## Reasons\n",
    "The downloaded information from the BGG API might not be informative, faulty or bloated with useless information. <br>\n",
    "In order to avoid this we apply some pre-processing steps in order to filter out information we don't need, that may be entire records or some of the \n",
    "text inside a line.\n",
    "\n",
    "During the process we already make the tokenization and stemming of the text using the ```spacy```\n",
    "\n",
    "## Method \n",
    "\n"
   ],
   "id": "27c57be5904724c1"
  },
  {
   "metadata": {},
   "cell_type": "markdown",
   "source": [
    "## Using Spacy\n",
    "To download the model and use it with spacy:\n",
    "```\n",
    "python -m spacy download en_core_web_sm\n",
    "```"
   ],
   "id": "70eb0db55cac8301"
  },
  {
   "metadata": {
    "ExecuteTime": {
     "end_time": "2024-11-26T14:54:32.223760Z",
     "start_time": "2024-11-26T14:54:31.920263Z"
    }
   },
   "cell_type": "code",
   "source": [
    "import spacy\n",
    "\n",
    "model = spacy.load(\"en_core_web_sm\")"
   ],
   "id": "5846a7753b31c80d",
   "outputs": [],
   "execution_count": 4
  },
  {
   "metadata": {},
   "cell_type": "markdown",
   "source": [
    "## PreProcessingService\n",
    "Class that holds the process to clean the text and produce a stemmed corpus. <br/> This will then be persisted in a file to avoid re-processing the same data."
   ],
   "id": "a3b5e6adb75e05ce"
  },
  {
   "cell_type": "code",
   "id": "5d2729936827ce86",
   "metadata": {
    "collapsed": true,
    "ExecuteTime": {
     "end_time": "2024-11-26T16:18:57.209934Z",
     "start_time": "2024-11-26T16:18:54.652907Z"
    }
   },
   "source": [
    "from pre_processing import PreProcessingService\n",
    "\n",
    "ps = PreProcessingService()"
   ],
   "outputs": [],
   "execution_count": 3
  },
  {
   "metadata": {
    "ExecuteTime": {
     "end_time": "2024-11-26T16:18:57.875957Z",
     "start_time": "2024-11-26T16:18:57.873914Z"
    }
   },
   "cell_type": "code",
   "source": "demo_text = \"This is a demo text. Isn't Root just an amazing game? I love it!\"",
   "id": "e1d840eb95b67e4e",
   "outputs": [],
   "execution_count": 4
  },
  {
   "metadata": {},
   "cell_type": "markdown",
   "source": [
    "### 1 - BGG noise removal\n",
    "BGG comments can carry metadata such as images and some pseudo-html tags. <br>\n",
    "To avoid processing those we simply remove them applying two regexes:"
   ],
   "id": "e9101e41d6b76cb3"
  },
  {
   "metadata": {
    "ExecuteTime": {
     "end_time": "2024-11-26T16:18:58.928376Z",
     "start_time": "2024-11-26T16:18:58.926516Z"
    }
   },
   "cell_type": "code",
   "source": [
    "clean_tags_regex = r\"(?i)\\[(?P<tag>[A-Z]+)\\].*?\\[/\\1\\]\"\n",
    "keep_tag_content_regex = r\"\\[(?P<tag>[a-z]+)(=[^\\]]+)?\\](.*?)\\[/\\1\\]\""
   ],
   "id": "373e95515c5c7bbe",
   "outputs": [],
   "execution_count": 5
  },
  {
   "metadata": {
    "ExecuteTime": {
     "end_time": "2024-11-26T16:18:59.579741Z",
     "start_time": "2024-11-26T16:18:59.575920Z"
    }
   },
   "cell_type": "code",
   "source": "ps.clean_text(\"This is a test for processing [IMG]https://cf.geekdo-static.com/mbs/mb_5855_0.gif[/IMG] as content\")",
   "id": "58a3b753ae4102b9",
   "outputs": [
    {
     "data": {
      "text/plain": [
       "'This is a test for processing  as content'"
      ]
     },
     "execution_count": 6,
     "metadata": {},
     "output_type": "execute_result"
    }
   ],
   "execution_count": 6
  },
  {
   "metadata": {
    "ExecuteTime": {
     "end_time": "2024-11-26T16:19:00.599869Z",
     "start_time": "2024-11-26T16:19:00.595733Z"
    }
   },
   "cell_type": "code",
   "source": "ps.clean_text(\"This is a test for processing [b=323]bold[/b] as content\")",
   "id": "bf5cedaf4db74db9",
   "outputs": [
    {
     "data": {
      "text/plain": [
       "'This is a test for processing bold as content'"
      ]
     },
     "execution_count": 7,
     "metadata": {},
     "output_type": "execute_result"
    }
   ],
   "execution_count": 7
  },
  {
   "metadata": {},
   "cell_type": "markdown",
   "source": [
    "### 2 - Language detection\n",
    "While it of course would be amazing to have a model with multiple languages support, we are focusing on English. <br>\n",
    "To filter out foreign languages we use the ```langdetect``` library."
   ],
   "id": "37d6ee84741b7e"
  },
  {
   "metadata": {
    "ExecuteTime": {
     "end_time": "2024-11-26T16:19:03.472883Z",
     "start_time": "2024-11-26T16:19:03.450625Z"
    }
   },
   "cell_type": "code",
   "source": [
    "from fast_langdetect import detect\n",
    "\n",
    "german_sentence = \"Naja, ich finde die Siedler von Catan noch besser\"\n",
    "print(f\"For the demo sentence: \\\"{demo_text}\\\" we detected: {detect(demo_text)['lang']}\")\n",
    "print(f\"For the demo sentence: \\\"{german_sentence}\\\" we detected: {detect(german_sentence)['lang']}\")"
   ],
   "id": "f580e515cb52c666",
   "outputs": [
    {
     "name": "stdout",
     "output_type": "stream",
     "text": [
      "For the demo sentence: \"This is a demo text. Isn't Root just an amazing game? I love it!\" we detected: en\n",
      "For the demo sentence: \"Naja, ich finde die Siedler von Catan noch besser\" we detected: de\n"
     ]
    }
   ],
   "execution_count": 8
  },
  {
   "metadata": {},
   "cell_type": "markdown",
   "source": [
    "### 3 - Tokenization and lemmatization\n",
    "Using ```spacy``` we tokenize the text and then we lemmatize it. <br>"
   ],
   "id": "418c806c27e71fa4"
  },
  {
   "metadata": {
    "ExecuteTime": {
     "end_time": "2024-11-26T16:19:11.672762Z",
     "start_time": "2024-11-26T16:19:11.661649Z"
    }
   },
   "cell_type": "code",
   "source": "ps._make_text_lemmas(demo_text)  # (Should be considered private)",
   "id": "49e5365fb317e527",
   "outputs": [
    {
     "data": {
      "text/plain": [
       "['demo', 'text', 'root', 'amazing', 'game', 'love']"
      ]
     },
     "execution_count": 9,
     "metadata": {},
     "output_type": "execute_result"
    }
   ],
   "execution_count": 9
  },
  {
   "metadata": {},
   "cell_type": "markdown",
   "source": "Temporary fix for not filtering out None and punctuation (As for current version the pre_processing already does what we expect)",
   "id": "694d128d89fa9b7b"
  },
  {
   "metadata": {},
   "cell_type": "markdown",
   "source": [
    "### 4 - Remove too narrow texts\n",
    "Comments (reviews) that are too short might not be informative. <br>\n",
    "We already remove stopwords and punctuation, so we can filter out comments that are too short but we better set a reasonable threshold (not too high)."
   ],
   "id": "74a0cb18d45778ff"
  },
  {
   "metadata": {},
   "cell_type": "code",
   "outputs": [],
   "execution_count": null,
   "source": "",
   "id": "4fe82917613c8a34"
  },
  {
   "metadata": {},
   "cell_type": "markdown",
   "source": "### 4 - Regenerating a text string",
   "id": "a1906dcff63f809b"
  },
  {
   "metadata": {
    "ExecuteTime": {
     "end_time": "2024-11-26T16:19:14.776495Z",
     "start_time": "2024-11-26T16:19:14.766Z"
    }
   },
   "cell_type": "code",
   "source": "ps.pre_process(demo_text)",
   "id": "8ff2320e3ed2ebb5",
   "outputs": [
    {
     "data": {
      "text/plain": [
       "'demo text root amazing game love'"
      ]
     },
     "execution_count": 10,
     "metadata": {},
     "output_type": "execute_result"
    }
   ],
   "execution_count": 10
  },
  {
   "metadata": {},
   "cell_type": "markdown",
   "source": [
    "## Process Batch\n",
    "We can process the entire corpus now. This will take a while, but it will save us time in the future."
   ],
   "id": "46d3f05536e0e920"
  },
  {
   "metadata": {
    "ExecuteTime": {
     "end_time": "2024-11-26T16:33:09.752080Z",
     "start_time": "2024-11-26T16:33:09.750130Z"
    }
   },
   "cell_type": "code",
   "source": [
    "resource_file_path: str = \"../data/corpus.csv\"\n",
    "target_file_path: str = \"../data/corpus.preprocessed.v2.csv\""
   ],
   "id": "b5ad038aabf0dc3",
   "outputs": [],
   "execution_count": 1
  },
  {
   "metadata": {
    "ExecuteTime": {
     "end_time": "2024-11-26T19:17:15.963198Z",
     "start_time": "2024-11-26T16:33:10.965875Z"
    }
   },
   "cell_type": "code",
   "source": [
    "from pre_processing import pre_process_corpus\n",
    "\n",
    "pre_process_corpus(resource_file_path, target_file_path, False)"
   ],
   "id": "d4affad08df7666e",
   "outputs": [
    {
     "data": {
      "text/plain": [
       "Pandas Apply:   0%|          | 0/2136200 [00:00<?, ?it/s]"
      ],
      "application/vnd.jupyter.widget-view+json": {
       "version_major": 2,
       "version_minor": 0,
       "model_id": "3271f6d945204d7e9972233b87dcec4e"
      }
     },
     "metadata": {},
     "output_type": "display_data"
    }
   ],
   "execution_count": 2
  },
  {
   "metadata": {},
   "cell_type": "code",
   "outputs": [],
   "execution_count": null,
   "source": "",
   "id": "bca5ae9910b97595"
  }
 ],
 "metadata": {
  "kernelspec": {
   "display_name": "Python 3",
   "language": "python",
   "name": "python3"
  },
  "language_info": {
   "codemirror_mode": {
    "name": "ipython",
    "version": 2
   },
   "file_extension": ".py",
   "mimetype": "text/x-python",
   "name": "python",
   "nbconvert_exporter": "python",
   "pygments_lexer": "ipython2",
   "version": "2.7.6"
  }
 },
 "nbformat": 4,
 "nbformat_minor": 5
}
